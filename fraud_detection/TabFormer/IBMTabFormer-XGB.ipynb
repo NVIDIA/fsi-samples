{
 "cells": [
  {
   "cell_type": "code",
   "execution_count": 1,
   "metadata": {
    "ExecuteTime": {
     "end_time": "2021-10-12T01:46:23.029170Z",
     "start_time": "2021-10-12T01:46:23.013546Z"
    }
   },
   "outputs": [],
   "source": [
    "############################################################################\n",
    "##\n",
    "## Copyright (C) 2021 NVIDIA Corporation.  All rights reserved.\n",
    "##\n",
    "## NVIDIA Sample Code\n",
    "##\n",
    "## Please refer to the NVIDIA end user license agreement (EULA) associated\n",
    "## with this source code for terms and conditions that govern your use of\n",
    "## this software. Any use, reproduction, disclosure, or distribution of\n",
    "## this software and related documentation outside the terms of the EULA\n",
    "## is strictly prohibited.\n",
    "##\n",
    "############################################################################"
   ]
  },
  {
   "cell_type": "code",
   "execution_count": 1,
   "metadata": {
    "ExecuteTime": {
     "end_time": "2021-06-22T01:17:45.895487Z",
     "start_time": "2021-06-22T01:17:43.888436Z"
    }
   },
   "outputs": [],
   "source": [
    "%matplotlib inline\n",
    "import gc\n",
    "from typing import Union\n",
    "import os\n",
    "\n",
    "import cugraph as cg\n",
    "import cudf\n",
    "import cupy as cp\n",
    "import numpy as np\n",
    "import pandas as pd\n",
    "import matplotlib.pyplot as plt\n",
    "import seaborn as sns\n",
    "\n",
    "import torch\n",
    "import torch.nn as nn\n",
    "from torch.nn import functional as F\n",
    "from torch.utils.data import DataLoader, Dataset\n",
    "from tqdm import tqdm\n",
    "\n",
    "\n",
    "# os.environ['CUDA_LAUNCH_BLOCKING'] = '1'\n",
    "\n",
    "# device = torch.device(\"cuda:0\" if (torch.cuda.is_available()) else \"cpu\")\n",
    "\n",
    "pd.set_option('display.max_columns', 500)\n",
    "sns.set()"
   ]
  },
  {
   "cell_type": "code",
   "execution_count": 2,
   "metadata": {
    "ExecuteTime": {
     "end_time": "2021-06-22T01:17:46.243676Z",
     "start_time": "2021-06-22T01:17:45.896788Z"
    },
    "scrolled": true
   },
   "outputs": [
    {
     "name": "stdout",
     "output_type": "stream",
     "text": [
      "Tue Aug  3 05:33:26 2021       \n",
      "+-----------------------------------------------------------------------------+\n",
      "| NVIDIA-SMI 460.32.03    Driver Version: 460.32.03    CUDA Version: 11.2     |\n",
      "|-------------------------------+----------------------+----------------------+\n",
      "| GPU  Name        Persistence-M| Bus-Id        Disp.A | Volatile Uncorr. ECC |\n",
      "| Fan  Temp  Perf  Pwr:Usage/Cap|         Memory-Usage | GPU-Util  Compute M. |\n",
      "|                               |                      |               MIG M. |\n",
      "|===============================+======================+======================|\n",
      "|   0  Tesla V100-SXM2...  On   | 00000000:06:00.0 Off |                    0 |\n",
      "| N/A   36C    P0    41W / 300W |      3MiB / 32510MiB |      0%      Default |\n",
      "|                               |                      |                  N/A |\n",
      "+-------------------------------+----------------------+----------------------+\n",
      "|   1  Tesla V100-SXM2...  On   | 00000000:07:00.0 Off |                    0 |\n",
      "| N/A   36C    P0    42W / 300W |      3MiB / 32510MiB |      0%      Default |\n",
      "|                               |                      |                  N/A |\n",
      "+-------------------------------+----------------------+----------------------+\n",
      "|   2  Tesla V100-SXM2...  On   | 00000000:0A:00.0 Off |                    0 |\n",
      "| N/A   36C    P0    41W / 300W |      3MiB / 32510MiB |      0%      Default |\n",
      "|                               |                      |                  N/A |\n",
      "+-------------------------------+----------------------+----------------------+\n",
      "|   3  Tesla V100-SXM2...  On   | 00000000:0B:00.0 Off |                    0 |\n",
      "| N/A   34C    P0    42W / 300W |      3MiB / 32510MiB |      0%      Default |\n",
      "|                               |                      |                  N/A |\n",
      "+-------------------------------+----------------------+----------------------+\n",
      "|   4  Tesla V100-SXM2...  On   | 00000000:85:00.0 Off |                    0 |\n",
      "| N/A   36C    P0    57W / 300W |   1468MiB / 32510MiB |      0%      Default |\n",
      "|                               |                      |                  N/A |\n",
      "+-------------------------------+----------------------+----------------------+\n",
      "|   5  Tesla V100-SXM2...  On   | 00000000:86:00.0 Off |                    0 |\n",
      "| N/A   36C    P0    44W / 300W |      3MiB / 32510MiB |      0%      Default |\n",
      "|                               |                      |                  N/A |\n",
      "+-------------------------------+----------------------+----------------------+\n",
      "|   6  Tesla V100-SXM2...  On   | 00000000:89:00.0 Off |                    0 |\n",
      "| N/A   38C    P0    42W / 300W |      3MiB / 32510MiB |      0%      Default |\n",
      "|                               |                      |                  N/A |\n",
      "+-------------------------------+----------------------+----------------------+\n",
      "|   7  Tesla V100-SXM2...  On   | 00000000:8A:00.0 Off |                    0 |\n",
      "| N/A   35C    P0    40W / 300W |      3MiB / 32510MiB |      0%      Default |\n",
      "|                               |                      |                  N/A |\n",
      "+-------------------------------+----------------------+----------------------+\n",
      "                                                                               \n",
      "+-----------------------------------------------------------------------------+\n",
      "| Processes:                                                                  |\n",
      "|  GPU   GI   CI        PID   Type   Process name                  GPU Memory |\n",
      "|        ID   ID                                                   Usage      |\n",
      "|=============================================================================|\n",
      "+-----------------------------------------------------------------------------+\n"
     ]
    }
   ],
   "source": [
    "!nvidia-smi"
   ]
  },
  {
   "cell_type": "code",
   "execution_count": 3,
   "metadata": {
    "ExecuteTime": {
     "end_time": "2021-06-22T01:17:47.759680Z",
     "start_time": "2021-06-22T01:17:46.246704Z"
    }
   },
   "outputs": [],
   "source": [
    "# this is the cleaned up data.\n",
    "datafp = './data/credit_card/card_transaction_fixed.pq'\n",
    "gdf = cudf.read_parquet(datafp)\n",
    "# if not use_raw:\n",
    "gdf['zip'] = gdf.zip.astype(int).astype(str)\n",
    "gdf['use chip'] = gdf['use chip'].str.strip()\n",
    "gdf['merchant city'] = gdf['merchant city'].str.strip()"
   ]
  },
  {
   "cell_type": "code",
   "execution_count": 4,
   "metadata": {
    "ExecuteTime": {
     "end_time": "2021-06-22T01:17:47.764670Z",
     "start_time": "2021-06-22T01:17:47.760698Z"
    }
   },
   "outputs": [
    {
     "data": {
      "text/plain": [
       "24386900"
      ]
     },
     "execution_count": 4,
     "metadata": {},
     "output_type": "execute_result"
    }
   ],
   "source": [
    "len(gdf)"
   ]
  },
  {
   "cell_type": "markdown",
   "metadata": {
    "heading_collapsed": "true",
    "tags": []
   },
   "source": [
    "# Prep "
   ]
  },
  {
   "cell_type": "code",
   "execution_count": 5,
   "metadata": {
    "ExecuteTime": {
     "end_time": "2021-06-22T01:17:47.854850Z",
     "start_time": "2021-06-22T01:17:47.765600Z"
    }
   },
   "outputs": [
    {
     "data": {
      "text/html": [
       "<div>\n",
       "<style scoped>\n",
       "    .dataframe tbody tr th:only-of-type {\n",
       "        vertical-align: middle;\n",
       "    }\n",
       "\n",
       "    .dataframe tbody tr th {\n",
       "        vertical-align: top;\n",
       "    }\n",
       "\n",
       "    .dataframe thead th {\n",
       "        text-align: right;\n",
       "    }\n",
       "</style>\n",
       "<table border=\"1\" class=\"dataframe\">\n",
       "  <thead>\n",
       "    <tr style=\"text-align: right;\">\n",
       "      <th></th>\n",
       "      <th>user</th>\n",
       "      <th>card</th>\n",
       "      <th>date</th>\n",
       "      <th>year</th>\n",
       "      <th>month</th>\n",
       "      <th>day</th>\n",
       "      <th>time</th>\n",
       "      <th>hour</th>\n",
       "      <th>minute</th>\n",
       "      <th>amount</th>\n",
       "      <th>use chip</th>\n",
       "      <th>merchant name</th>\n",
       "      <th>merchant city</th>\n",
       "      <th>merchant state</th>\n",
       "      <th>zip</th>\n",
       "      <th>mcc</th>\n",
       "      <th>errors</th>\n",
       "      <th>is_fraud</th>\n",
       "    </tr>\n",
       "  </thead>\n",
       "  <tbody>\n",
       "    <tr>\n",
       "      <th>0</th>\n",
       "      <td>791</td>\n",
       "      <td>1</td>\n",
       "      <td>1991-01-02 07:10:00</td>\n",
       "      <td>1991</td>\n",
       "      <td>1</td>\n",
       "      <td>2</td>\n",
       "      <td>07:10</td>\n",
       "      <td>7</td>\n",
       "      <td>10</td>\n",
       "      <td>68.00</td>\n",
       "      <td>Swipe Transaction</td>\n",
       "      <td>2027553650310142703</td>\n",
       "      <td>Burke</td>\n",
       "      <td>VA</td>\n",
       "      <td>22015</td>\n",
       "      <td>5541</td>\n",
       "      <td>&lt;NA&gt;</td>\n",
       "      <td>0</td>\n",
       "    </tr>\n",
       "    <tr>\n",
       "      <th>1</th>\n",
       "      <td>791</td>\n",
       "      <td>1</td>\n",
       "      <td>1991-01-02 07:17:00</td>\n",
       "      <td>1991</td>\n",
       "      <td>1</td>\n",
       "      <td>2</td>\n",
       "      <td>07:17</td>\n",
       "      <td>7</td>\n",
       "      <td>17</td>\n",
       "      <td>-68.00</td>\n",
       "      <td>Swipe Transaction</td>\n",
       "      <td>2027553650310142703</td>\n",
       "      <td>Burke</td>\n",
       "      <td>VA</td>\n",
       "      <td>22015</td>\n",
       "      <td>5541</td>\n",
       "      <td>&lt;NA&gt;</td>\n",
       "      <td>0</td>\n",
       "    </tr>\n",
       "    <tr>\n",
       "      <th>2</th>\n",
       "      <td>791</td>\n",
       "      <td>1</td>\n",
       "      <td>1991-01-02 07:21:00</td>\n",
       "      <td>1991</td>\n",
       "      <td>1</td>\n",
       "      <td>2</td>\n",
       "      <td>07:21</td>\n",
       "      <td>7</td>\n",
       "      <td>21</td>\n",
       "      <td>113.62</td>\n",
       "      <td>Swipe Transaction</td>\n",
       "      <td>2027553650310142703</td>\n",
       "      <td>Burke</td>\n",
       "      <td>VA</td>\n",
       "      <td>22015</td>\n",
       "      <td>5541</td>\n",
       "      <td>&lt;NA&gt;</td>\n",
       "      <td>0</td>\n",
       "    </tr>\n",
       "    <tr>\n",
       "      <th>3</th>\n",
       "      <td>791</td>\n",
       "      <td>1</td>\n",
       "      <td>1991-01-02 17:30:00</td>\n",
       "      <td>1991</td>\n",
       "      <td>1</td>\n",
       "      <td>2</td>\n",
       "      <td>17:30</td>\n",
       "      <td>17</td>\n",
       "      <td>30</td>\n",
       "      <td>114.73</td>\n",
       "      <td>Swipe Transaction</td>\n",
       "      <td>-7269691894846892021</td>\n",
       "      <td>Burke</td>\n",
       "      <td>VA</td>\n",
       "      <td>22015</td>\n",
       "      <td>5411</td>\n",
       "      <td>&lt;NA&gt;</td>\n",
       "      <td>0</td>\n",
       "    </tr>\n",
       "    <tr>\n",
       "      <th>4</th>\n",
       "      <td>791</td>\n",
       "      <td>1</td>\n",
       "      <td>1991-01-03 09:03:00</td>\n",
       "      <td>1991</td>\n",
       "      <td>1</td>\n",
       "      <td>3</td>\n",
       "      <td>09:03</td>\n",
       "      <td>9</td>\n",
       "      <td>3</td>\n",
       "      <td>251.71</td>\n",
       "      <td>Swipe Transaction</td>\n",
       "      <td>-3693650930986299431</td>\n",
       "      <td>Burke</td>\n",
       "      <td>VA</td>\n",
       "      <td>22015</td>\n",
       "      <td>4814</td>\n",
       "      <td>&lt;NA&gt;</td>\n",
       "      <td>0</td>\n",
       "    </tr>\n",
       "  </tbody>\n",
       "</table>\n",
       "</div>"
      ],
      "text/plain": [
       "   user  card                date  year  month  day   time  hour  minute  \\\n",
       "0   791     1 1991-01-02 07:10:00  1991      1    2  07:10     7      10   \n",
       "1   791     1 1991-01-02 07:17:00  1991      1    2  07:17     7      17   \n",
       "2   791     1 1991-01-02 07:21:00  1991      1    2  07:21     7      21   \n",
       "3   791     1 1991-01-02 17:30:00  1991      1    2  17:30    17      30   \n",
       "4   791     1 1991-01-03 09:03:00  1991      1    3  09:03     9       3   \n",
       "\n",
       "   amount           use chip        merchant name merchant city  \\\n",
       "0   68.00  Swipe Transaction  2027553650310142703         Burke   \n",
       "1  -68.00  Swipe Transaction  2027553650310142703         Burke   \n",
       "2  113.62  Swipe Transaction  2027553650310142703         Burke   \n",
       "3  114.73  Swipe Transaction -7269691894846892021         Burke   \n",
       "4  251.71  Swipe Transaction -3693650930986299431         Burke   \n",
       "\n",
       "  merchant state    zip   mcc errors  is_fraud  \n",
       "0             VA  22015  5541   <NA>         0  \n",
       "1             VA  22015  5541   <NA>         0  \n",
       "2             VA  22015  5541   <NA>         0  \n",
       "3             VA  22015  5411   <NA>         0  \n",
       "4             VA  22015  4814   <NA>         0  "
      ]
     },
     "execution_count": 5,
     "metadata": {},
     "output_type": "execute_result"
    }
   ],
   "source": [
    "gdf.head()"
   ]
  },
  {
   "cell_type": "code",
   "execution_count": 6,
   "metadata": {
    "ExecuteTime": {
     "end_time": "2021-06-22T01:17:48.065560Z",
     "start_time": "2021-06-22T01:17:47.856220Z"
    },
    "scrolled": true
   },
   "outputs": [
    {
     "data": {
      "text/plain": [
       "Insufficient Balance,                                   242783\n",
       "Bad PIN,                                                 58918\n",
       "Technical Glitch,                                        48157\n",
       "Bad Card Number,                                         13321\n",
       "Bad CVV,                                                 10740\n",
       "Bad Expiration,                                          10716\n",
       "Bad Zipcode,                                              2079\n",
       "Bad PIN,Insufficient Balance,                              581\n",
       "Insufficient Balance,Technical Glitch,                     457\n",
       "Bad PIN,Technical Glitch,                                  128\n",
       "Bad Card Number,Insufficient Balance,                      122\n",
       "Bad CVV,Insufficient Balance,                               89\n",
       "Bad Expiration,Insufficient Balance,                        78\n",
       "Bad Card Number,Bad CVV,                                    60\n",
       "Bad Card Number,Bad Expiration,                             54\n",
       "Bad Expiration,Bad CVV,                                     47\n",
       "Bad Expiration,Technical Glitch,                            32\n",
       "Bad Card Number,Technical Glitch,                           25\n",
       "Bad CVV,Technical Glitch,                                   21\n",
       "Bad Zipcode,Insufficient Balance,                           13\n",
       "Bad Zipcode,Technical Glitch,                                7\n",
       "Bad Card Number,Bad Expiration,Insufficient Balance,         2\n",
       "Bad Card Number,Bad Expiration,Technical Glitch,             1\n",
       "Name: errors, dtype: int32"
      ]
     },
     "execution_count": 6,
     "metadata": {},
     "output_type": "execute_result"
    }
   ],
   "source": [
    "gdf.errors.value_counts()"
   ]
  },
  {
   "cell_type": "code",
   "execution_count": 7,
   "metadata": {
    "ExecuteTime": {
     "end_time": "2021-06-22T01:17:48.072016Z",
     "start_time": "2021-06-22T01:17:48.067961Z"
    }
   },
   "outputs": [],
   "source": [
    "def open_sublist(array: list):\n",
    "    \"\"\"\n",
    "    recursively opens up sublists\n",
    "    \"\"\"\n",
    "    l = []\n",
    "    for item in array:\n",
    "        if isinstance(item, list):\n",
    "            subl = open_sublist(item)\n",
    "            l.extend(subl)\n",
    "            continue\n",
    "        l.append(item)\n",
    "    return l\n",
    "# open_sublist([1,[[[2]]],3,[4,5,[6]]])"
   ]
  },
  {
   "cell_type": "code",
   "execution_count": 8,
   "metadata": {
    "ExecuteTime": {
     "end_time": "2021-06-22T01:17:48.107063Z",
     "start_time": "2021-06-22T01:17:48.074004Z"
    }
   },
   "outputs": [
    {
     "data": {
      "text/plain": [
       "['Bad Expiration',\n",
       " 'Technical Glitch',\n",
       " 'Bad Card Number',\n",
       " 'Bad PIN',\n",
       " 'Bad CVV',\n",
       " 'Insufficient Balance',\n",
       " 'Bad Zipcode']"
      ]
     },
     "execution_count": 8,
     "metadata": {},
     "output_type": "execute_result"
    }
   ],
   "source": [
    "unq_errors = [i for i in \n",
    "                 set( \n",
    "                    open_sublist(\n",
    "                        [i.split(',') for i in gdf.errors.value_counts().index.to_arrow().to_pylist()\n",
    "                        ])\n",
    "                 ) if i]\n",
    "unq_errors"
   ]
  },
  {
   "cell_type": "code",
   "execution_count": 9,
   "metadata": {
    "ExecuteTime": {
     "end_time": "2021-06-22T01:17:49.830947Z",
     "start_time": "2021-06-22T01:17:48.107971Z"
    }
   },
   "outputs": [],
   "source": [
    "exploded = gdf['errors'].str.strip(',').str.split(',').explode()\n",
    "\n",
    "raw_one_hot = cudf.get_dummies(exploded, columns=[\"errors\"])\n",
    "errs = raw_one_hot.groupby(raw_one_hot.index).sum()\n",
    "\n",
    "gdf = cudf.concat([gdf, errs], axis=1)\n",
    "\n",
    "gdf = gdf.rename(columns={col:f'errors_{col}' for col in unq_errors})\n",
    "\n",
    "# add day of the week feature\n",
    "gdf['dayofweek'] = cudf.to_datetime(gdf.date).dt.dayofweek"
   ]
  },
  {
   "cell_type": "code",
   "execution_count": 10,
   "metadata": {
    "ExecuteTime": {
     "end_time": "2021-06-22T01:17:50.708821Z",
     "start_time": "2021-06-22T01:17:49.831948Z"
    }
   },
   "outputs": [],
   "source": [
    "# we'll make the (bad) assumption that the users have all their credit cards at the very beginning of the\n",
    "# simulation\n",
    "\n",
    "num_cards_per_user = gdf[['user', 'card']].groupby('user').card.nunique()\n",
    "\n",
    "num_cards_per_user = num_cards_per_user.rename('num_cards_per_user')\n",
    "\n",
    "gdf = cudf.merge(gdf, num_cards_per_user, on='user', how='left')\n",
    "\n",
    "del exploded, errs, raw_one_hot, num_cards_per_user\n",
    "gc.collect()\n",
    "\n",
    "# sort these values just in case!  gdf = gdf.sort_values('date').reset_index(drop=True)\n",
    "gdf = gdf.sort_values('date').reset_index(drop=True)"
   ]
  },
  {
   "cell_type": "code",
   "execution_count": 11,
   "metadata": {
    "ExecuteTime": {
     "end_time": "2021-06-22T01:17:50.788013Z",
     "start_time": "2021-06-22T01:17:50.709883Z"
    }
   },
   "outputs": [
    {
     "data": {
      "text/plain": [
       "user                                  0\n",
       "card                                  0\n",
       "date                                  0\n",
       "year                                  0\n",
       "month                                 0\n",
       "day                                   0\n",
       "time                                  0\n",
       "hour                                  0\n",
       "minute                                0\n",
       "amount                                0\n",
       "use chip                              0\n",
       "merchant name                         0\n",
       "merchant city                         0\n",
       "merchant state                  2720821\n",
       "zip                             2878135\n",
       "mcc                                   0\n",
       "errors                         23998469\n",
       "is_fraud                              0\n",
       "errors_Bad CVV                        0\n",
       "errors_Bad Card Number                0\n",
       "errors_Bad Expiration                 0\n",
       "errors_Bad PIN                        0\n",
       "errors_Bad Zipcode                    0\n",
       "errors_Insufficient Balance           0\n",
       "errors_Technical Glitch               0\n",
       "dayofweek                             0\n",
       "num_cards_per_user                    0\n",
       "dtype: uint64"
      ]
     },
     "execution_count": 11,
     "metadata": {},
     "output_type": "execute_result"
    }
   ],
   "source": [
    "# looks like we have some nans... let's remove them\n",
    "gdf.isna().sum()"
   ]
  },
  {
   "cell_type": "code",
   "execution_count": 12,
   "metadata": {
    "ExecuteTime": {
     "end_time": "2021-06-22T01:17:55.974429Z",
     "start_time": "2021-06-22T01:17:50.788947Z"
    }
   },
   "outputs": [],
   "source": [
    "gdf['use chip'], unq_use_chip = gdf['use chip'].factorize()\n",
    "\n",
    "\n",
    "# frequency and agg stats...\n",
    "grp_stats = gdf.groupby('card')['amount'].agg(['mean', 'std']).rename(columns={'mean': 'mean_card_amount', \n",
    "                                                                               'std': 'std_card_amount'})\n",
    "\n",
    "gdf['mean_card_amount'] = gdf['card'].map(grp_stats.to_pandas().to_dict()['mean_card_amount'])\n",
    "gdf['std_card_amount'] = gdf['card'].map(grp_stats.to_pandas().to_dict()['std_card_amount'])\n",
    "gdf['card_counts'] = gdf['card'].map(gdf.card.value_counts().to_pandas().to_dict())\n",
    "\n",
    "# remove nans in strings\n",
    "gdf['zip'] = gdf.zip.astype(str)\n",
    "\n",
    "# fill nans with empty string...\n",
    "gdf['zip'] = gdf['zip'].fillna('')\n",
    "gdf['merchant state'] = gdf['merchant state'].fillna('')\n",
    "\n",
    "\n",
    "# yippy kai yay!\n",
    "# gdf.isna().sum()\n",
    "\n",
    "# aggregation\n",
    "gdf['merchant_city_state_zip'] = gdf['merchant city'] + ' ' +\\\n",
    "                                 gdf['merchant state'] + ' ' +\\\n",
    "                                 gdf['zip']\n",
    "\n",
    "# remove any extra trailing whitespace\n",
    "gdf['merchant_city_state_zip'] = gdf['merchant_city_state_zip'].str.strip()\n",
    "# factorize merchant names since min/max of their names (which is an int) is at the bounds of 64 bit int\n",
    "gdf['merchant name'], merch_name_uniq = gdf['merchant name'].factorize()\n",
    "gdf['merchant_city_state_zip'], merch_city_state_zip_uniq = gdf['merchant_city_state_zip'].factorize()\n",
    "gdf['merchant city'], merc_city_uniq = gdf['merchant city'].factorize()\n",
    "gdf['merchant state'], merc_state_uniq = gdf['merchant state'].factorize()\n",
    "gdf['zip'], zip_uniq = gdf['zip'].factorize()\n",
    "\n",
    "# range from 0 to 29 inclusive\n",
    "# for inference, will need to add back 1991 years.\n",
    "min_year = gdf.year.min()\n",
    "gdf['year'] = gdf.year-gdf.year.min()"
   ]
  },
  {
   "cell_type": "code",
   "execution_count": 13,
   "metadata": {
    "ExecuteTime": {
     "end_time": "2021-06-22T01:17:56.182816Z",
     "start_time": "2021-06-22T01:17:55.975492Z"
    }
   },
   "outputs": [],
   "source": [
    "# encode all real mccs\n",
    "import iso18245\n",
    "all_mccs_info = iso18245.get_all_mccs()\n",
    "all_mccs = sorted([int(mcc.mcc) for mcc in all_mccs_info])\n",
    "\n",
    "\n",
    "gdf['mcc'] = gdf['mcc'].map({all_mccs[i]: i for i in range(len(all_mccs))})"
   ]
  },
  {
   "cell_type": "code",
   "execution_count": 14,
   "metadata": {
    "ExecuteTime": {
     "end_time": "2021-06-22T01:18:13.384918Z",
     "start_time": "2021-06-22T01:17:56.183986Z"
    }
   },
   "outputs": [],
   "source": [
    "hrs_since_last_txn = gdf[['user', 'date']].to_pandas().groupby('user').diff().astype('timedelta64[s]')/3600\n",
    "\n",
    "hrs_since_last_txn = hrs_since_last_txn.rename(columns={'date': 'hrs_since_last_txn'})\n",
    "\n",
    "# time_since_last_txn.astype('timedelta64[s]')/3600\n",
    "\n",
    "gdf['hrs_since_last_txn'] = cudf.concat([gdf, cudf.from_pandas(hrs_since_last_txn)], axis=1)[['user', 'hrs_since_last_txn']]\\\n",
    "                                .to_pandas().groupby('user').transform(lambda x: x.fillna(x.mean()))['hrs_since_last_txn']"
   ]
  },
  {
   "cell_type": "code",
   "execution_count": 15,
   "metadata": {
    "ExecuteTime": {
     "end_time": "2021-06-22T01:18:13.388354Z",
     "start_time": "2021-06-22T01:18:13.386053Z"
    }
   },
   "outputs": [],
   "source": [
    "mappings = {'unq_use_chip': unq_use_chip,\n",
    "            'merch_name_uniq': merch_name_uniq,\n",
    "            'merch_city_state_zip_uniq': merch_city_state_zip_uniq,\n",
    "            'merc_city_uniq': merc_city_uniq,\n",
    "            'merc_state_uniq': merc_state_uniq,\n",
    "            'zip_uniq': zip_uniq,\n",
    "            'all_mccs': all_mccs,\n",
    "           }"
   ]
  },
  {
   "cell_type": "code",
   "execution_count": 16,
   "metadata": {
    "ExecuteTime": {
     "end_time": "2021-06-22T01:18:13.796584Z",
     "start_time": "2021-06-22T01:18:13.389416Z"
    }
   },
   "outputs": [
    {
     "name": "stdout",
     "output_type": "stream",
     "text": [
      "Tue Aug  3 05:34:11 2021       \n",
      "+-----------------------------------------------------------------------------+\n",
      "| NVIDIA-SMI 460.32.03    Driver Version: 460.32.03    CUDA Version: 11.2     |\n",
      "|-------------------------------+----------------------+----------------------+\n",
      "| GPU  Name        Persistence-M| Bus-Id        Disp.A | Volatile Uncorr. ECC |\n",
      "| Fan  Temp  Perf  Pwr:Usage/Cap|         Memory-Usage | GPU-Util  Compute M. |\n",
      "|                               |                      |               MIG M. |\n",
      "|===============================+======================+======================|\n",
      "|   0  Tesla V100-SXM2...  On   | 00000000:06:00.0 Off |                    0 |\n",
      "| N/A   38C    P0    55W / 300W |   9422MiB / 32510MiB |      0%      Default |\n",
      "|                               |                      |                  N/A |\n",
      "+-------------------------------+----------------------+----------------------+\n",
      "|   1  Tesla V100-SXM2...  On   | 00000000:07:00.0 Off |                    0 |\n",
      "| N/A   36C    P0    41W / 300W |      3MiB / 32510MiB |      0%      Default |\n",
      "|                               |                      |                  N/A |\n",
      "+-------------------------------+----------------------+----------------------+\n",
      "|   2  Tesla V100-SXM2...  On   | 00000000:0A:00.0 Off |                    0 |\n",
      "| N/A   35C    P0    41W / 300W |      3MiB / 32510MiB |      0%      Default |\n",
      "|                               |                      |                  N/A |\n",
      "+-------------------------------+----------------------+----------------------+\n",
      "|   3  Tesla V100-SXM2...  On   | 00000000:0B:00.0 Off |                    0 |\n",
      "| N/A   33C    P0    41W / 300W |      3MiB / 32510MiB |      0%      Default |\n",
      "|                               |                      |                  N/A |\n",
      "+-------------------------------+----------------------+----------------------+\n",
      "|   4  Tesla V100-SXM2...  On   | 00000000:85:00.0 Off |                    0 |\n",
      "| N/A   36C    P0    57W / 300W |   1468MiB / 32510MiB |      0%      Default |\n",
      "|                               |                      |                  N/A |\n",
      "+-------------------------------+----------------------+----------------------+\n",
      "|   5  Tesla V100-SXM2...  On   | 00000000:86:00.0 Off |                    0 |\n",
      "| N/A   36C    P0    44W / 300W |      3MiB / 32510MiB |      0%      Default |\n",
      "|                               |                      |                  N/A |\n",
      "+-------------------------------+----------------------+----------------------+\n",
      "|   6  Tesla V100-SXM2...  On   | 00000000:89:00.0 Off |                    0 |\n",
      "| N/A   37C    P0    41W / 300W |      3MiB / 32510MiB |      0%      Default |\n",
      "|                               |                      |                  N/A |\n",
      "+-------------------------------+----------------------+----------------------+\n",
      "|   7  Tesla V100-SXM2...  On   | 00000000:8A:00.0 Off |                    0 |\n",
      "| N/A   34C    P0    40W / 300W |      3MiB / 32510MiB |      0%      Default |\n",
      "|                               |                      |                  N/A |\n",
      "+-------------------------------+----------------------+----------------------+\n",
      "                                                                               \n",
      "+-----------------------------------------------------------------------------+\n",
      "| Processes:                                                                  |\n",
      "|  GPU   GI   CI        PID   Type   Process name                  GPU Memory |\n",
      "|        ID   ID                                                   Usage      |\n",
      "|=============================================================================|\n",
      "+-----------------------------------------------------------------------------+\n"
     ]
    }
   ],
   "source": [
    "!nvidia-smi"
   ]
  },
  {
   "cell_type": "markdown",
   "metadata": {},
   "source": [
    "# XGB"
   ]
  },
  {
   "cell_type": "code",
   "execution_count": 63,
   "metadata": {
    "ExecuteTime": {
     "end_time": "2021-06-22T01:18:14.028852Z",
     "start_time": "2021-06-22T01:18:13.798743Z"
    }
   },
   "outputs": [],
   "source": [
    "from sklearn.model_selection import train_test_split\n",
    "from sklearn.metrics import roc_auc_score, confusion_matrix, accuracy_score, classification_report, \\\n",
    "                            roc_curve, f1_score, precision_recall_curve, auc\n",
    "\n",
    "import xgboost as xgb\n",
    "\n",
    "import cuml\n",
    "import pickle\n",
    "# from cuml.model_selection import train_test_split"
   ]
  },
  {
   "cell_type": "code",
   "execution_count": 19,
   "metadata": {
    "ExecuteTime": {
     "end_time": "2021-06-22T01:18:14.032970Z",
     "start_time": "2021-06-22T01:18:14.029986Z"
    }
   },
   "outputs": [],
   "source": [
    "target_cols = ['is_fraud']\n",
    "\n",
    "num_cols = ['amount', 'hrs_since_last_txn' ,\n",
    "#                 'mean_card_amount', 'std_card_amount', 'card_counts',\n",
    "            ]\n",
    "cat_cols = ['card', 'num_cards_per_user', 'year', 'month', 'day', 'hour', 'minute', 'use chip', 'merchant name', 'merchant city',\n",
    "            'merchant state', 'zip', 'mcc', 'merchant_city_state_zip', \n",
    "            'errors_Bad CVV', 'errors_Bad Card Number', 'errors_Bad Expiration', 'errors_Bad PIN',\n",
    "            'errors_Bad Zipcode', 'errors_Insufficient Balance', 'errors_Technical Glitch'\n",
    "           ]\n",
    "feature_cols = num_cols +  cat_cols"
   ]
  },
  {
   "cell_type": "code",
   "execution_count": 20,
   "metadata": {
    "ExecuteTime": {
     "end_time": "2021-06-22T01:18:14.491448Z",
     "start_time": "2021-06-22T01:18:14.034126Z"
    },
    "scrolled": true
   },
   "outputs": [
    {
     "data": {
      "text/html": [
       "<div>\n",
       "<style scoped>\n",
       "    .dataframe tbody tr th:only-of-type {\n",
       "        vertical-align: middle;\n",
       "    }\n",
       "\n",
       "    .dataframe tbody tr th {\n",
       "        vertical-align: top;\n",
       "    }\n",
       "\n",
       "    .dataframe thead th {\n",
       "        text-align: right;\n",
       "    }\n",
       "</style>\n",
       "<table border=\"1\" class=\"dataframe\">\n",
       "  <thead>\n",
       "    <tr style=\"text-align: right;\">\n",
       "      <th></th>\n",
       "      <th>amount</th>\n",
       "      <th>hrs_since_last_txn</th>\n",
       "      <th>card</th>\n",
       "      <th>num_cards_per_user</th>\n",
       "      <th>year</th>\n",
       "      <th>month</th>\n",
       "      <th>day</th>\n",
       "      <th>hour</th>\n",
       "      <th>minute</th>\n",
       "      <th>use chip</th>\n",
       "      <th>merchant name</th>\n",
       "      <th>merchant city</th>\n",
       "      <th>merchant state</th>\n",
       "      <th>zip</th>\n",
       "      <th>mcc</th>\n",
       "      <th>merchant_city_state_zip</th>\n",
       "      <th>errors_Bad CVV</th>\n",
       "      <th>errors_Bad Card Number</th>\n",
       "      <th>errors_Bad Expiration</th>\n",
       "      <th>errors_Bad PIN</th>\n",
       "      <th>errors_Bad Zipcode</th>\n",
       "      <th>errors_Insufficient Balance</th>\n",
       "      <th>errors_Technical Glitch</th>\n",
       "      <th>is_fraud</th>\n",
       "    </tr>\n",
       "  </thead>\n",
       "  <tbody>\n",
       "    <tr>\n",
       "      <th>0</th>\n",
       "      <td>68.00</td>\n",
       "      <td>12.990235</td>\n",
       "      <td>1</td>\n",
       "      <td>4</td>\n",
       "      <td>0</td>\n",
       "      <td>1</td>\n",
       "      <td>2</td>\n",
       "      <td>7</td>\n",
       "      <td>10</td>\n",
       "      <td>2</td>\n",
       "      <td>61195</td>\n",
       "      <td>1515</td>\n",
       "      <td>211</td>\n",
       "      <td>3841</td>\n",
       "      <td>683</td>\n",
       "      <td>3316</td>\n",
       "      <td>0</td>\n",
       "      <td>0</td>\n",
       "      <td>0</td>\n",
       "      <td>0</td>\n",
       "      <td>0</td>\n",
       "      <td>0</td>\n",
       "      <td>0</td>\n",
       "      <td>0</td>\n",
       "    </tr>\n",
       "    <tr>\n",
       "      <th>1</th>\n",
       "      <td>-68.00</td>\n",
       "      <td>0.116667</td>\n",
       "      <td>1</td>\n",
       "      <td>4</td>\n",
       "      <td>0</td>\n",
       "      <td>1</td>\n",
       "      <td>2</td>\n",
       "      <td>7</td>\n",
       "      <td>17</td>\n",
       "      <td>2</td>\n",
       "      <td>61195</td>\n",
       "      <td>1515</td>\n",
       "      <td>211</td>\n",
       "      <td>3841</td>\n",
       "      <td>683</td>\n",
       "      <td>3316</td>\n",
       "      <td>0</td>\n",
       "      <td>0</td>\n",
       "      <td>0</td>\n",
       "      <td>0</td>\n",
       "      <td>0</td>\n",
       "      <td>0</td>\n",
       "      <td>0</td>\n",
       "      <td>0</td>\n",
       "    </tr>\n",
       "    <tr>\n",
       "      <th>2</th>\n",
       "      <td>113.62</td>\n",
       "      <td>0.066667</td>\n",
       "      <td>1</td>\n",
       "      <td>4</td>\n",
       "      <td>0</td>\n",
       "      <td>1</td>\n",
       "      <td>2</td>\n",
       "      <td>7</td>\n",
       "      <td>21</td>\n",
       "      <td>2</td>\n",
       "      <td>61195</td>\n",
       "      <td>1515</td>\n",
       "      <td>211</td>\n",
       "      <td>3841</td>\n",
       "      <td>683</td>\n",
       "      <td>3316</td>\n",
       "      <td>0</td>\n",
       "      <td>0</td>\n",
       "      <td>0</td>\n",
       "      <td>0</td>\n",
       "      <td>0</td>\n",
       "      <td>0</td>\n",
       "      <td>0</td>\n",
       "      <td>0</td>\n",
       "    </tr>\n",
       "    <tr>\n",
       "      <th>3</th>\n",
       "      <td>114.73</td>\n",
       "      <td>10.150000</td>\n",
       "      <td>1</td>\n",
       "      <td>4</td>\n",
       "      <td>0</td>\n",
       "      <td>1</td>\n",
       "      <td>2</td>\n",
       "      <td>17</td>\n",
       "      <td>30</td>\n",
       "      <td>2</td>\n",
       "      <td>10792</td>\n",
       "      <td>1515</td>\n",
       "      <td>211</td>\n",
       "      <td>3841</td>\n",
       "      <td>672</td>\n",
       "      <td>3316</td>\n",
       "      <td>0</td>\n",
       "      <td>0</td>\n",
       "      <td>0</td>\n",
       "      <td>0</td>\n",
       "      <td>0</td>\n",
       "      <td>0</td>\n",
       "      <td>0</td>\n",
       "      <td>0</td>\n",
       "    </tr>\n",
       "    <tr>\n",
       "      <th>4</th>\n",
       "      <td>251.71</td>\n",
       "      <td>15.550000</td>\n",
       "      <td>1</td>\n",
       "      <td>4</td>\n",
       "      <td>0</td>\n",
       "      <td>1</td>\n",
       "      <td>3</td>\n",
       "      <td>9</td>\n",
       "      <td>3</td>\n",
       "      <td>2</td>\n",
       "      <td>30286</td>\n",
       "      <td>1515</td>\n",
       "      <td>211</td>\n",
       "      <td>3841</td>\n",
       "      <td>627</td>\n",
       "      <td>3316</td>\n",
       "      <td>0</td>\n",
       "      <td>0</td>\n",
       "      <td>0</td>\n",
       "      <td>0</td>\n",
       "      <td>0</td>\n",
       "      <td>0</td>\n",
       "      <td>0</td>\n",
       "      <td>0</td>\n",
       "    </tr>\n",
       "  </tbody>\n",
       "</table>\n",
       "</div>"
      ],
      "text/plain": [
       "   amount  hrs_since_last_txn  card  num_cards_per_user  year  month  day  \\\n",
       "0   68.00           12.990235     1                   4     0      1    2   \n",
       "1  -68.00            0.116667     1                   4     0      1    2   \n",
       "2  113.62            0.066667     1                   4     0      1    2   \n",
       "3  114.73           10.150000     1                   4     0      1    2   \n",
       "4  251.71           15.550000     1                   4     0      1    3   \n",
       "\n",
       "   hour  minute  use chip  merchant name  merchant city  merchant state   zip  \\\n",
       "0     7      10         2          61195           1515             211  3841   \n",
       "1     7      17         2          61195           1515             211  3841   \n",
       "2     7      21         2          61195           1515             211  3841   \n",
       "3    17      30         2          10792           1515             211  3841   \n",
       "4     9       3         2          30286           1515             211  3841   \n",
       "\n",
       "   mcc  merchant_city_state_zip  errors_Bad CVV  errors_Bad Card Number  \\\n",
       "0  683                     3316               0                       0   \n",
       "1  683                     3316               0                       0   \n",
       "2  683                     3316               0                       0   \n",
       "3  672                     3316               0                       0   \n",
       "4  627                     3316               0                       0   \n",
       "\n",
       "   errors_Bad Expiration  errors_Bad PIN  errors_Bad Zipcode  \\\n",
       "0                      0               0                   0   \n",
       "1                      0               0                   0   \n",
       "2                      0               0                   0   \n",
       "3                      0               0                   0   \n",
       "4                      0               0                   0   \n",
       "\n",
       "   errors_Insufficient Balance  errors_Technical Glitch  is_fraud  \n",
       "0                            0                        0         0  \n",
       "1                            0                        0         0  \n",
       "2                            0                        0         0  \n",
       "3                            0                        0         0  \n",
       "4                            0                        0         0  "
      ]
     },
     "execution_count": 20,
     "metadata": {},
     "output_type": "execute_result"
    }
   ],
   "source": [
    "gdf[feature_cols + target_cols].head()"
   ]
  },
  {
   "cell_type": "markdown",
   "metadata": {},
   "source": [
    "  ### The data has temporal components, for example, `use chip` which changes based on the year. For demonstration purposes, we ignore the temporal component and shuffle the dataset below. Feel free to experiment with `shuffle=False` below and observe a much higher variance in the AUCPR of the train vs test sets."
   ]
  },
  {
   "cell_type": "code",
   "execution_count": 21,
   "metadata": {
    "ExecuteTime": {
     "end_time": "2021-06-22T01:18:15.730604Z",
     "start_time": "2021-06-22T01:18:14.492616Z"
    }
   },
   "outputs": [],
   "source": [
    "X_train, X_test, y_train, y_test = train_test_split(gdf[feature_cols],\n",
    "                                                    gdf[target_cols],\n",
    "                                                    test_size=.20,\n",
    "                                                    shuffle=True,\n",
    "                                                    random_state=8675309,\n",
    "                                                    stratify=None)"
   ]
  },
  {
   "cell_type": "code",
   "execution_count": 22,
   "metadata": {
    "ExecuteTime": {
     "end_time": "2021-06-22T01:18:15.737579Z",
     "start_time": "2021-06-22T01:18:15.731610Z"
    }
   },
   "outputs": [
    {
     "data": {
      "text/plain": [
       "is_fraud    29757\n",
       "dtype: int64"
      ]
     },
     "execution_count": 22,
     "metadata": {},
     "output_type": "execute_result"
    }
   ],
   "source": [
    "gdf[target_cols].sum(dtype=cp.int64)"
   ]
  },
  {
   "cell_type": "code",
   "execution_count": 23,
   "metadata": {
    "ExecuteTime": {
     "end_time": "2021-06-22T01:18:15.758786Z",
     "start_time": "2021-06-22T01:18:15.739911Z"
    }
   },
   "outputs": [
    {
     "data": {
      "text/plain": [
       "(is_fraud    23767\n",
       " dtype: int64,\n",
       " is_fraud    5990\n",
       " dtype: int64)"
      ]
     },
     "execution_count": 23,
     "metadata": {},
     "output_type": "execute_result"
    }
   ],
   "source": [
    "\n",
    "y_train.sum(dtype=cp.int64), y_test.sum(dtype=cp.int64)"
   ]
  },
  {
   "cell_type": "code",
   "execution_count": 24,
   "metadata": {
    "ExecuteTime": {
     "end_time": "2021-06-22T01:18:15.769679Z",
     "start_time": "2021-06-22T01:18:15.760443Z"
    }
   },
   "outputs": [
    {
     "data": {
      "text/plain": [
       "(19509520, 4877380)"
      ]
     },
     "execution_count": 24,
     "metadata": {},
     "output_type": "execute_result"
    }
   ],
   "source": [
    "len(y_train), len(y_test)"
   ]
  },
  {
   "cell_type": "code",
   "execution_count": 25,
   "metadata": {
    "ExecuteTime": {
     "end_time": "2021-06-22T01:18:15.785835Z",
     "start_time": "2021-06-22T01:18:15.771046Z"
    }
   },
   "outputs": [
    {
     "data": {
      "text/plain": [
       "((19509520, 23), (4877380, 23), (19509520, 1), (4877380, 1))"
      ]
     },
     "execution_count": 25,
     "metadata": {},
     "output_type": "execute_result"
    }
   ],
   "source": [
    "X_train.shape, X_test.shape, y_train.shape, y_test.shape"
   ]
  },
  {
   "cell_type": "code",
   "execution_count": 26,
   "metadata": {
    "ExecuteTime": {
     "end_time": "2021-06-22T01:18:15.809213Z",
     "start_time": "2021-06-22T01:18:15.787139Z"
    }
   },
   "outputs": [
    {
     "name": "stdout",
     "output_type": "stream",
     "text": [
      "scaling: 820\n"
     ]
    }
   ],
   "source": [
    "scaling = len(y_train)/y_train.sum(dtype=cp.int64)\n",
    "scaling = int(scaling.to_arrow().tolist()[0])\n",
    "\n",
    "print('scaling:', scaling )   "
   ]
  },
  {
   "cell_type": "code",
   "execution_count": 27,
   "metadata": {
    "ExecuteTime": {
     "end_time": "2021-06-22T01:18:15.815715Z",
     "start_time": "2021-06-22T01:18:15.810294Z"
    }
   },
   "outputs": [],
   "source": [
    "# parameters here are not optimized. Feel free to experiment!\n",
    "params = {\n",
    "    'num_rounds':        400,\n",
    "    'max_depth':         12,\n",
    "    'max_leaves':        0,\n",
    "    'alpha':             0,\n",
    "    'lambda':            2,\n",
    "    'eta':               0.05,\n",
    "#     'gamma':             1,\n",
    "    'subsample':         1,\n",
    "    'scale_pos_weight':  scaling,\n",
    "    'max_delta_step':    1,\n",
    "    'max_bin':           2048,\n",
    "    'tree_method':       'gpu_hist',\n",
    "    'grow_policy':       'lossguide',\n",
    "    'n_gpus':            1,\n",
    "    'objective':         'binary:logistic',#'binary:hinge'\n",
    "    'eval_metric':       'aucpr',#'error',#'auc', 'logloss'\n",
    "    'predictor':         'gpu_predictor',\n",
    "    'verbose':           True\n",
    "}"
   ]
  },
  {
   "cell_type": "code",
   "execution_count": 28,
   "metadata": {
    "ExecuteTime": {
     "end_time": "2021-06-22T01:18:16.054109Z",
     "start_time": "2021-06-22T01:18:15.816625Z"
    }
   },
   "outputs": [],
   "source": [
    "dtrain = xgb.DMatrix(X_train, label=y_train)\n",
    "dtest = xgb.DMatrix(X_test, label=y_test)\n",
    "evals = [(dtest, 'test',), (dtrain, 'train')]"
   ]
  },
  {
   "cell_type": "code",
   "execution_count": 29,
   "metadata": {
    "ExecuteTime": {
     "end_time": "2021-06-22T01:24:50.248862Z",
     "start_time": "2021-06-22T01:18:16.055082Z"
    },
    "collapsed": true,
    "jupyter": {
     "outputs_hidden": true
    },
    "tags": []
   },
   "outputs": [
    {
     "name": "stdout",
     "output_type": "stream",
     "text": [
      "[05:34:50] WARNING: /opt/conda/envs/rapids/conda-bld/xgboost_1623267594558/work/include/xgboost/generic_parameters.h:38: \n",
      "n_gpus: \n",
      "\tDeprecated. Single process multi-GPU training is no longer supported.\n",
      "\tPlease switch to distributed training with one process per GPU.\n",
      "\tThis can be done using Dask or Spark.  See documentation for details.\n",
      "[05:34:50] WARNING: /opt/conda/envs/rapids/conda-bld/xgboost_1623267594558/work/src/learner.cc:573: \n",
      "Parameters: { \"num_rounds\", \"verbose\" } might not be used.\n",
      "\n",
      "  This may not be accurate due to some parameters are only used in language bindings but\n",
      "  passed down to XGBoost core.  Or some parameters are not used but slip through this\n",
      "  verification. Please open an issue if you find above cases.\n",
      "\n",
      "\n",
      "[0]\ttest-aucpr:0.01548\ttrain-aucpr:0.01562\n",
      "[1]\ttest-aucpr:0.02099\ttrain-aucpr:0.02121\n",
      "[2]\ttest-aucpr:0.02332\ttrain-aucpr:0.02354\n",
      "[3]\ttest-aucpr:0.02443\ttrain-aucpr:0.02464\n",
      "[4]\ttest-aucpr:0.02476\ttrain-aucpr:0.02501\n",
      "[5]\ttest-aucpr:0.02526\ttrain-aucpr:0.02549\n",
      "[6]\ttest-aucpr:0.02615\ttrain-aucpr:0.02643\n",
      "[7]\ttest-aucpr:0.02658\ttrain-aucpr:0.02688\n",
      "[8]\ttest-aucpr:0.02695\ttrain-aucpr:0.02730\n",
      "[9]\ttest-aucpr:0.03217\ttrain-aucpr:0.03272\n",
      "[10]\ttest-aucpr:0.03499\ttrain-aucpr:0.03576\n",
      "[11]\ttest-aucpr:0.03785\ttrain-aucpr:0.03867\n",
      "[12]\ttest-aucpr:0.03899\ttrain-aucpr:0.03990\n",
      "[13]\ttest-aucpr:0.03958\ttrain-aucpr:0.04052\n",
      "[14]\ttest-aucpr:0.04033\ttrain-aucpr:0.04126\n",
      "[15]\ttest-aucpr:0.05672\ttrain-aucpr:0.05811\n",
      "[16]\ttest-aucpr:0.05912\ttrain-aucpr:0.06079\n",
      "[17]\ttest-aucpr:0.06048\ttrain-aucpr:0.06211\n",
      "[18]\ttest-aucpr:0.06714\ttrain-aucpr:0.06877\n",
      "[19]\ttest-aucpr:0.06889\ttrain-aucpr:0.07059\n",
      "[20]\ttest-aucpr:0.06943\ttrain-aucpr:0.07118\n",
      "[21]\ttest-aucpr:0.07002\ttrain-aucpr:0.07187\n",
      "[22]\ttest-aucpr:0.07303\ttrain-aucpr:0.07481\n",
      "[23]\ttest-aucpr:0.07396\ttrain-aucpr:0.07570\n",
      "[24]\ttest-aucpr:0.09622\ttrain-aucpr:0.09850\n",
      "[25]\ttest-aucpr:0.09817\ttrain-aucpr:0.10095\n",
      "[26]\ttest-aucpr:0.09962\ttrain-aucpr:0.10266\n",
      "[27]\ttest-aucpr:0.09998\ttrain-aucpr:0.10324\n",
      "[28]\ttest-aucpr:0.18281\ttrain-aucpr:0.18738\n",
      "[29]\ttest-aucpr:0.22386\ttrain-aucpr:0.22894\n",
      "[30]\ttest-aucpr:0.23566\ttrain-aucpr:0.24273\n",
      "[31]\ttest-aucpr:0.23827\ttrain-aucpr:0.24563\n",
      "[32]\ttest-aucpr:0.24163\ttrain-aucpr:0.24871\n",
      "[33]\ttest-aucpr:0.24443\ttrain-aucpr:0.25188\n",
      "[34]\ttest-aucpr:0.24505\ttrain-aucpr:0.25278\n",
      "[35]\ttest-aucpr:0.25225\ttrain-aucpr:0.26035\n",
      "[36]\ttest-aucpr:0.25383\ttrain-aucpr:0.26221\n",
      "[37]\ttest-aucpr:0.25686\ttrain-aucpr:0.26537\n",
      "[38]\ttest-aucpr:0.25749\ttrain-aucpr:0.26622\n",
      "[39]\ttest-aucpr:0.31875\ttrain-aucpr:0.32754\n",
      "[40]\ttest-aucpr:0.32990\ttrain-aucpr:0.33950\n",
      "[41]\ttest-aucpr:0.33150\ttrain-aucpr:0.34163\n",
      "[42]\ttest-aucpr:0.33108\ttrain-aucpr:0.34097\n",
      "[43]\ttest-aucpr:0.34323\ttrain-aucpr:0.35315\n",
      "[44]\ttest-aucpr:0.34371\ttrain-aucpr:0.35382\n",
      "[45]\ttest-aucpr:0.37260\ttrain-aucpr:0.38376\n",
      "[46]\ttest-aucpr:0.37744\ttrain-aucpr:0.38810\n",
      "[47]\ttest-aucpr:0.37829\ttrain-aucpr:0.38932\n",
      "[48]\ttest-aucpr:0.37945\ttrain-aucpr:0.39078\n",
      "[49]\ttest-aucpr:0.37871\ttrain-aucpr:0.39032\n",
      "[50]\ttest-aucpr:0.43763\ttrain-aucpr:0.44813\n",
      "[51]\ttest-aucpr:0.44021\ttrain-aucpr:0.45091\n",
      "[52]\ttest-aucpr:0.44811\ttrain-aucpr:0.45803\n",
      "[53]\ttest-aucpr:0.45088\ttrain-aucpr:0.46074\n",
      "[54]\ttest-aucpr:0.57324\ttrain-aucpr:0.58495\n",
      "[55]\ttest-aucpr:0.64269\ttrain-aucpr:0.65721\n",
      "[56]\ttest-aucpr:0.64642\ttrain-aucpr:0.65982\n",
      "[57]\ttest-aucpr:0.64971\ttrain-aucpr:0.66315\n",
      "[58]\ttest-aucpr:0.65008\ttrain-aucpr:0.66390\n",
      "[59]\ttest-aucpr:0.64611\ttrain-aucpr:0.66030\n",
      "[60]\ttest-aucpr:0.64731\ttrain-aucpr:0.66151\n",
      "[61]\ttest-aucpr:0.65124\ttrain-aucpr:0.66545\n",
      "[62]\ttest-aucpr:0.65292\ttrain-aucpr:0.66709\n",
      "[63]\ttest-aucpr:0.69657\ttrain-aucpr:0.70878\n",
      "[64]\ttest-aucpr:0.70213\ttrain-aucpr:0.71613\n",
      "[65]\ttest-aucpr:0.70260\ttrain-aucpr:0.71711\n",
      "[66]\ttest-aucpr:0.70931\ttrain-aucpr:0.72397\n",
      "[67]\ttest-aucpr:0.71121\ttrain-aucpr:0.72598\n",
      "[68]\ttest-aucpr:0.70927\ttrain-aucpr:0.72415\n",
      "[69]\ttest-aucpr:0.70323\ttrain-aucpr:0.71725\n",
      "[70]\ttest-aucpr:0.70292\ttrain-aucpr:0.71720\n",
      "[71]\ttest-aucpr:0.70105\ttrain-aucpr:0.71504\n",
      "[72]\ttest-aucpr:0.69822\ttrain-aucpr:0.71249\n",
      "[73]\ttest-aucpr:0.69812\ttrain-aucpr:0.71244\n",
      "[74]\ttest-aucpr:0.69786\ttrain-aucpr:0.71221\n",
      "[75]\ttest-aucpr:0.70010\ttrain-aucpr:0.71473\n",
      "[76]\ttest-aucpr:0.69767\ttrain-aucpr:0.71205\n",
      "[77]\ttest-aucpr:0.69570\ttrain-aucpr:0.70985\n",
      "[78]\ttest-aucpr:0.69546\ttrain-aucpr:0.70963\n",
      "[79]\ttest-aucpr:0.69466\ttrain-aucpr:0.70889\n",
      "[80]\ttest-aucpr:0.69566\ttrain-aucpr:0.71030\n",
      "[81]\ttest-aucpr:0.69873\ttrain-aucpr:0.71379\n",
      "[82]\ttest-aucpr:0.70032\ttrain-aucpr:0.71596\n",
      "[83]\ttest-aucpr:0.70458\ttrain-aucpr:0.72100\n",
      "[84]\ttest-aucpr:0.70490\ttrain-aucpr:0.72150\n",
      "[85]\ttest-aucpr:0.70748\ttrain-aucpr:0.72448\n",
      "[86]\ttest-aucpr:0.71008\ttrain-aucpr:0.72765\n",
      "[87]\ttest-aucpr:0.71073\ttrain-aucpr:0.72838\n",
      "[88]\ttest-aucpr:0.71517\ttrain-aucpr:0.73459\n",
      "[89]\ttest-aucpr:0.71781\ttrain-aucpr:0.73763\n",
      "[90]\ttest-aucpr:0.72072\ttrain-aucpr:0.74103\n",
      "[91]\ttest-aucpr:0.72132\ttrain-aucpr:0.74212\n",
      "[92]\ttest-aucpr:0.72760\ttrain-aucpr:0.74880\n",
      "[93]\ttest-aucpr:0.72870\ttrain-aucpr:0.75019\n",
      "[94]\ttest-aucpr:0.72911\ttrain-aucpr:0.75082\n",
      "[95]\ttest-aucpr:0.72983\ttrain-aucpr:0.75174\n",
      "[96]\ttest-aucpr:0.73208\ttrain-aucpr:0.75390\n",
      "[97]\ttest-aucpr:0.73266\ttrain-aucpr:0.75498\n",
      "[98]\ttest-aucpr:0.73431\ttrain-aucpr:0.75704\n",
      "[99]\ttest-aucpr:0.73535\ttrain-aucpr:0.75827\n",
      "[100]\ttest-aucpr:0.73648\ttrain-aucpr:0.75992\n",
      "[101]\ttest-aucpr:0.73868\ttrain-aucpr:0.76201\n",
      "[102]\ttest-aucpr:0.73880\ttrain-aucpr:0.76240\n",
      "[103]\ttest-aucpr:0.74078\ttrain-aucpr:0.76449\n",
      "[104]\ttest-aucpr:0.74364\ttrain-aucpr:0.76789\n",
      "[105]\ttest-aucpr:0.74479\ttrain-aucpr:0.76933\n",
      "[106]\ttest-aucpr:0.74550\ttrain-aucpr:0.77056\n",
      "[107]\ttest-aucpr:0.74600\ttrain-aucpr:0.77149\n",
      "[108]\ttest-aucpr:0.74597\ttrain-aucpr:0.77104\n",
      "[109]\ttest-aucpr:0.74599\ttrain-aucpr:0.77260\n",
      "[110]\ttest-aucpr:0.74630\ttrain-aucpr:0.77342\n",
      "[111]\ttest-aucpr:0.74674\ttrain-aucpr:0.77435\n",
      "[112]\ttest-aucpr:0.74940\ttrain-aucpr:0.77740\n",
      "[113]\ttest-aucpr:0.74970\ttrain-aucpr:0.77801\n",
      "[114]\ttest-aucpr:0.75033\ttrain-aucpr:0.78021\n",
      "[115]\ttest-aucpr:0.75266\ttrain-aucpr:0.78386\n",
      "[116]\ttest-aucpr:0.75349\ttrain-aucpr:0.78502\n",
      "[117]\ttest-aucpr:0.75579\ttrain-aucpr:0.78763\n",
      "[118]\ttest-aucpr:0.75730\ttrain-aucpr:0.78925\n",
      "[119]\ttest-aucpr:0.75853\ttrain-aucpr:0.79080\n",
      "[120]\ttest-aucpr:0.75981\ttrain-aucpr:0.79297\n",
      "[121]\ttest-aucpr:0.76207\ttrain-aucpr:0.79576\n",
      "[122]\ttest-aucpr:0.76396\ttrain-aucpr:0.79847\n",
      "[123]\ttest-aucpr:0.76481\ttrain-aucpr:0.79971\n",
      "[124]\ttest-aucpr:0.76563\ttrain-aucpr:0.80148\n",
      "[125]\ttest-aucpr:0.76682\ttrain-aucpr:0.80319\n",
      "[126]\ttest-aucpr:0.76743\ttrain-aucpr:0.80431\n",
      "[127]\ttest-aucpr:0.76836\ttrain-aucpr:0.80562\n",
      "[128]\ttest-aucpr:0.76956\ttrain-aucpr:0.80741\n",
      "[129]\ttest-aucpr:0.77014\ttrain-aucpr:0.80829\n",
      "[130]\ttest-aucpr:0.77171\ttrain-aucpr:0.81037\n",
      "[131]\ttest-aucpr:0.77216\ttrain-aucpr:0.81113\n",
      "[132]\ttest-aucpr:0.77409\ttrain-aucpr:0.81344\n",
      "[133]\ttest-aucpr:0.77470\ttrain-aucpr:0.81429\n",
      "[134]\ttest-aucpr:0.77547\ttrain-aucpr:0.81539\n",
      "[135]\ttest-aucpr:0.77617\ttrain-aucpr:0.81640\n",
      "[136]\ttest-aucpr:0.77686\ttrain-aucpr:0.81747\n",
      "[137]\ttest-aucpr:0.77860\ttrain-aucpr:0.81962\n",
      "[138]\ttest-aucpr:0.77965\ttrain-aucpr:0.82126\n",
      "[139]\ttest-aucpr:0.78069\ttrain-aucpr:0.82247\n",
      "[140]\ttest-aucpr:0.78276\ttrain-aucpr:0.82498\n",
      "[141]\ttest-aucpr:0.78285\ttrain-aucpr:0.82527\n",
      "[142]\ttest-aucpr:0.78340\ttrain-aucpr:0.82632\n",
      "[143]\ttest-aucpr:0.78383\ttrain-aucpr:0.82701\n",
      "[144]\ttest-aucpr:0.78542\ttrain-aucpr:0.82885\n",
      "[145]\ttest-aucpr:0.78575\ttrain-aucpr:0.82953\n",
      "[146]\ttest-aucpr:0.78608\ttrain-aucpr:0.83037\n",
      "[147]\ttest-aucpr:0.78821\ttrain-aucpr:0.83288\n",
      "[148]\ttest-aucpr:0.78871\ttrain-aucpr:0.83379\n",
      "[149]\ttest-aucpr:0.78896\ttrain-aucpr:0.83437\n",
      "[150]\ttest-aucpr:0.78931\ttrain-aucpr:0.83512\n",
      "[151]\ttest-aucpr:0.78946\ttrain-aucpr:0.83564\n",
      "[152]\ttest-aucpr:0.78971\ttrain-aucpr:0.83624\n",
      "[153]\ttest-aucpr:0.78985\ttrain-aucpr:0.83678\n",
      "[154]\ttest-aucpr:0.79023\ttrain-aucpr:0.83757\n",
      "[155]\ttest-aucpr:0.79057\ttrain-aucpr:0.83817\n",
      "[156]\ttest-aucpr:0.79172\ttrain-aucpr:0.83978\n",
      "[157]\ttest-aucpr:0.79195\ttrain-aucpr:0.84031\n",
      "[158]\ttest-aucpr:0.79227\ttrain-aucpr:0.84101\n",
      "[159]\ttest-aucpr:0.79252\ttrain-aucpr:0.84152\n",
      "[160]\ttest-aucpr:0.79277\ttrain-aucpr:0.84199\n",
      "[161]\ttest-aucpr:0.79363\ttrain-aucpr:0.84326\n",
      "[162]\ttest-aucpr:0.79374\ttrain-aucpr:0.84359\n",
      "[163]\ttest-aucpr:0.79407\ttrain-aucpr:0.84420\n",
      "[164]\ttest-aucpr:0.79411\ttrain-aucpr:0.84447\n",
      "[165]\ttest-aucpr:0.79495\ttrain-aucpr:0.84562\n",
      "[166]\ttest-aucpr:0.79510\ttrain-aucpr:0.84609\n",
      "[167]\ttest-aucpr:0.79519\ttrain-aucpr:0.84637\n",
      "[168]\ttest-aucpr:0.79545\ttrain-aucpr:0.84684\n",
      "[169]\ttest-aucpr:0.79556\ttrain-aucpr:0.84721\n",
      "[170]\ttest-aucpr:0.79648\ttrain-aucpr:0.84844\n",
      "[171]\ttest-aucpr:0.79702\ttrain-aucpr:0.84934\n",
      "[172]\ttest-aucpr:0.79719\ttrain-aucpr:0.84982\n",
      "[173]\ttest-aucpr:0.79805\ttrain-aucpr:0.85114\n",
      "[174]\ttest-aucpr:0.79896\ttrain-aucpr:0.85225\n",
      "[175]\ttest-aucpr:0.79920\ttrain-aucpr:0.85284\n",
      "[176]\ttest-aucpr:0.79899\ttrain-aucpr:0.85276\n",
      "[177]\ttest-aucpr:0.79905\ttrain-aucpr:0.85303\n",
      "[178]\ttest-aucpr:0.79947\ttrain-aucpr:0.85384\n",
      "[179]\ttest-aucpr:0.80007\ttrain-aucpr:0.85481\n",
      "[180]\ttest-aucpr:0.80067\ttrain-aucpr:0.85560\n",
      "[181]\ttest-aucpr:0.80139\ttrain-aucpr:0.85669\n",
      "[182]\ttest-aucpr:0.80163\ttrain-aucpr:0.85722\n",
      "[183]\ttest-aucpr:0.80171\ttrain-aucpr:0.85748\n",
      "[184]\ttest-aucpr:0.80217\ttrain-aucpr:0.85819\n",
      "[185]\ttest-aucpr:0.80239\ttrain-aucpr:0.85862\n",
      "[186]\ttest-aucpr:0.80270\ttrain-aucpr:0.85915\n",
      "[187]\ttest-aucpr:0.80277\ttrain-aucpr:0.85952\n",
      "[188]\ttest-aucpr:0.80327\ttrain-aucpr:0.86041\n",
      "[189]\ttest-aucpr:0.80378\ttrain-aucpr:0.86148\n",
      "[190]\ttest-aucpr:0.80405\ttrain-aucpr:0.86210\n",
      "[191]\ttest-aucpr:0.80416\ttrain-aucpr:0.86241\n",
      "[192]\ttest-aucpr:0.80493\ttrain-aucpr:0.86346\n",
      "[193]\ttest-aucpr:0.80534\ttrain-aucpr:0.86411\n",
      "[194]\ttest-aucpr:0.80567\ttrain-aucpr:0.86495\n",
      "[195]\ttest-aucpr:0.80618\ttrain-aucpr:0.86578\n",
      "[196]\ttest-aucpr:0.80687\ttrain-aucpr:0.86664\n",
      "[197]\ttest-aucpr:0.80688\ttrain-aucpr:0.86685\n",
      "[198]\ttest-aucpr:0.80728\ttrain-aucpr:0.86755\n",
      "[199]\ttest-aucpr:0.80783\ttrain-aucpr:0.86833\n",
      "[200]\ttest-aucpr:0.80817\ttrain-aucpr:0.86918\n",
      "[201]\ttest-aucpr:0.80822\ttrain-aucpr:0.86938\n",
      "[202]\ttest-aucpr:0.80852\ttrain-aucpr:0.86991\n",
      "[203]\ttest-aucpr:0.80901\ttrain-aucpr:0.87060\n",
      "[204]\ttest-aucpr:0.80901\ttrain-aucpr:0.87082\n",
      "[205]\ttest-aucpr:0.80927\ttrain-aucpr:0.87135\n",
      "[206]\ttest-aucpr:0.80928\ttrain-aucpr:0.87149\n",
      "[207]\ttest-aucpr:0.80927\ttrain-aucpr:0.87160\n",
      "[208]\ttest-aucpr:0.80961\ttrain-aucpr:0.87204\n",
      "[209]\ttest-aucpr:0.80967\ttrain-aucpr:0.87224\n",
      "[210]\ttest-aucpr:0.80983\ttrain-aucpr:0.87251\n",
      "[211]\ttest-aucpr:0.81037\ttrain-aucpr:0.87331\n",
      "[212]\ttest-aucpr:0.81038\ttrain-aucpr:0.87352\n",
      "[213]\ttest-aucpr:0.81064\ttrain-aucpr:0.87402\n",
      "[214]\ttest-aucpr:0.81091\ttrain-aucpr:0.87448\n",
      "[215]\ttest-aucpr:0.81106\ttrain-aucpr:0.87519\n",
      "[216]\ttest-aucpr:0.81120\ttrain-aucpr:0.87582\n",
      "[217]\ttest-aucpr:0.81121\ttrain-aucpr:0.87612\n",
      "[218]\ttest-aucpr:0.81125\ttrain-aucpr:0.87641\n",
      "[219]\ttest-aucpr:0.81130\ttrain-aucpr:0.87676\n",
      "[220]\ttest-aucpr:0.81128\ttrain-aucpr:0.87706\n",
      "[221]\ttest-aucpr:0.81150\ttrain-aucpr:0.87758\n",
      "[222]\ttest-aucpr:0.81159\ttrain-aucpr:0.87801\n",
      "[223]\ttest-aucpr:0.81183\ttrain-aucpr:0.87854\n",
      "[224]\ttest-aucpr:0.81209\ttrain-aucpr:0.87909\n",
      "[225]\ttest-aucpr:0.81212\ttrain-aucpr:0.87934\n",
      "[226]\ttest-aucpr:0.81212\ttrain-aucpr:0.87958\n",
      "[227]\ttest-aucpr:0.81227\ttrain-aucpr:0.87996\n",
      "[228]\ttest-aucpr:0.81237\ttrain-aucpr:0.88041\n",
      "[229]\ttest-aucpr:0.81248\ttrain-aucpr:0.88089\n",
      "[230]\ttest-aucpr:0.81254\ttrain-aucpr:0.88115\n",
      "[231]\ttest-aucpr:0.81249\ttrain-aucpr:0.88154\n",
      "[232]\ttest-aucpr:0.81248\ttrain-aucpr:0.88185\n",
      "[233]\ttest-aucpr:0.81269\ttrain-aucpr:0.88247\n",
      "[234]\ttest-aucpr:0.81267\ttrain-aucpr:0.88266\n",
      "[235]\ttest-aucpr:0.81266\ttrain-aucpr:0.88276\n",
      "[236]\ttest-aucpr:0.81262\ttrain-aucpr:0.88292\n",
      "[237]\ttest-aucpr:0.81264\ttrain-aucpr:0.88327\n",
      "[238]\ttest-aucpr:0.81273\ttrain-aucpr:0.88387\n",
      "[239]\ttest-aucpr:0.81268\ttrain-aucpr:0.88411\n",
      "[240]\ttest-aucpr:0.81269\ttrain-aucpr:0.88447\n",
      "[241]\ttest-aucpr:0.81266\ttrain-aucpr:0.88504\n",
      "[242]\ttest-aucpr:0.81273\ttrain-aucpr:0.88527\n",
      "[243]\ttest-aucpr:0.81272\ttrain-aucpr:0.88542\n",
      "[244]\ttest-aucpr:0.81278\ttrain-aucpr:0.88570\n",
      "[245]\ttest-aucpr:0.81351\ttrain-aucpr:0.88658\n",
      "[246]\ttest-aucpr:0.81332\ttrain-aucpr:0.88656\n",
      "[247]\ttest-aucpr:0.81332\ttrain-aucpr:0.88671\n",
      "[248]\ttest-aucpr:0.81329\ttrain-aucpr:0.88696\n",
      "[249]\ttest-aucpr:0.81338\ttrain-aucpr:0.88741\n",
      "[250]\ttest-aucpr:0.81332\ttrain-aucpr:0.88779\n",
      "[251]\ttest-aucpr:0.81329\ttrain-aucpr:0.88807\n",
      "[252]\ttest-aucpr:0.81335\ttrain-aucpr:0.88832\n",
      "[253]\ttest-aucpr:0.81310\ttrain-aucpr:0.88828\n",
      "[254]\ttest-aucpr:0.81306\ttrain-aucpr:0.88854\n",
      "[255]\ttest-aucpr:0.81309\ttrain-aucpr:0.88884\n",
      "[256]\ttest-aucpr:0.81299\ttrain-aucpr:0.88893\n",
      "[257]\ttest-aucpr:0.81297\ttrain-aucpr:0.88911\n",
      "[258]\ttest-aucpr:0.81293\ttrain-aucpr:0.88921\n",
      "[259]\ttest-aucpr:0.81290\ttrain-aucpr:0.88933\n",
      "[260]\ttest-aucpr:0.81363\ttrain-aucpr:0.89031\n",
      "[261]\ttest-aucpr:0.81359\ttrain-aucpr:0.89055\n",
      "[262]\ttest-aucpr:0.81361\ttrain-aucpr:0.89090\n",
      "[263]\ttest-aucpr:0.81371\ttrain-aucpr:0.89138\n",
      "[264]\ttest-aucpr:0.81371\ttrain-aucpr:0.89179\n",
      "[265]\ttest-aucpr:0.81365\ttrain-aucpr:0.89217\n",
      "[266]\ttest-aucpr:0.81362\ttrain-aucpr:0.89254\n",
      "[267]\ttest-aucpr:0.81362\ttrain-aucpr:0.89274\n",
      "[268]\ttest-aucpr:0.81419\ttrain-aucpr:0.89350\n",
      "[269]\ttest-aucpr:0.81459\ttrain-aucpr:0.89413\n",
      "[270]\ttest-aucpr:0.81435\ttrain-aucpr:0.89402\n",
      "[271]\ttest-aucpr:0.81430\ttrain-aucpr:0.89416\n",
      "[272]\ttest-aucpr:0.81427\ttrain-aucpr:0.89433\n",
      "[273]\ttest-aucpr:0.81421\ttrain-aucpr:0.89446\n",
      "[274]\ttest-aucpr:0.81430\ttrain-aucpr:0.89469\n",
      "[275]\ttest-aucpr:0.81503\ttrain-aucpr:0.89572\n",
      "[276]\ttest-aucpr:0.81507\ttrain-aucpr:0.89602\n",
      "[277]\ttest-aucpr:0.81532\ttrain-aucpr:0.89666\n",
      "[278]\ttest-aucpr:0.81530\ttrain-aucpr:0.89677\n",
      "[279]\ttest-aucpr:0.81514\ttrain-aucpr:0.89672\n",
      "[280]\ttest-aucpr:0.81518\ttrain-aucpr:0.89705\n",
      "[281]\ttest-aucpr:0.81516\ttrain-aucpr:0.89721\n",
      "[282]\ttest-aucpr:0.81592\ttrain-aucpr:0.89830\n",
      "[283]\ttest-aucpr:0.81589\ttrain-aucpr:0.89842\n",
      "[284]\ttest-aucpr:0.81622\ttrain-aucpr:0.89912\n",
      "[285]\ttest-aucpr:0.81620\ttrain-aucpr:0.89925\n",
      "[286]\ttest-aucpr:0.81622\ttrain-aucpr:0.89950\n",
      "[287]\ttest-aucpr:0.81622\ttrain-aucpr:0.89978\n",
      "[288]\ttest-aucpr:0.81623\ttrain-aucpr:0.89999\n",
      "[289]\ttest-aucpr:0.81705\ttrain-aucpr:0.90110\n",
      "[290]\ttest-aucpr:0.81704\ttrain-aucpr:0.90123\n",
      "[291]\ttest-aucpr:0.81707\ttrain-aucpr:0.90140\n",
      "[292]\ttest-aucpr:0.81722\ttrain-aucpr:0.90175\n",
      "[293]\ttest-aucpr:0.81759\ttrain-aucpr:0.90231\n",
      "[294]\ttest-aucpr:0.81762\ttrain-aucpr:0.90323\n",
      "[295]\ttest-aucpr:0.81841\ttrain-aucpr:0.90453\n",
      "[296]\ttest-aucpr:0.81920\ttrain-aucpr:0.90580\n",
      "[297]\ttest-aucpr:0.81983\ttrain-aucpr:0.90681\n",
      "[298]\ttest-aucpr:0.81975\ttrain-aucpr:0.90695\n",
      "[299]\ttest-aucpr:0.81969\ttrain-aucpr:0.90722\n",
      "[300]\ttest-aucpr:0.81977\ttrain-aucpr:0.90766\n",
      "[301]\ttest-aucpr:0.81976\ttrain-aucpr:0.90794\n",
      "[302]\ttest-aucpr:0.81977\ttrain-aucpr:0.90822\n",
      "[303]\ttest-aucpr:0.81977\ttrain-aucpr:0.90851\n",
      "[304]\ttest-aucpr:0.81985\ttrain-aucpr:0.90873\n",
      "[305]\ttest-aucpr:0.82014\ttrain-aucpr:0.90933\n",
      "[306]\ttest-aucpr:0.82019\ttrain-aucpr:0.90985\n",
      "[307]\ttest-aucpr:0.82032\ttrain-aucpr:0.91021\n",
      "[308]\ttest-aucpr:0.82024\ttrain-aucpr:0.91059\n",
      "[309]\ttest-aucpr:0.82022\ttrain-aucpr:0.91089\n",
      "[310]\ttest-aucpr:0.82047\ttrain-aucpr:0.91142\n",
      "[311]\ttest-aucpr:0.82068\ttrain-aucpr:0.91190\n",
      "[312]\ttest-aucpr:0.82069\ttrain-aucpr:0.91213\n",
      "[313]\ttest-aucpr:0.82059\ttrain-aucpr:0.91287\n",
      "[314]\ttest-aucpr:0.82083\ttrain-aucpr:0.91340\n",
      "[315]\ttest-aucpr:0.82078\ttrain-aucpr:0.91357\n",
      "[316]\ttest-aucpr:0.82081\ttrain-aucpr:0.91400\n",
      "[317]\ttest-aucpr:0.82124\ttrain-aucpr:0.91499\n",
      "[318]\ttest-aucpr:0.82130\ttrain-aucpr:0.91544\n",
      "[319]\ttest-aucpr:0.82144\ttrain-aucpr:0.91599\n",
      "[320]\ttest-aucpr:0.82160\ttrain-aucpr:0.91656\n",
      "[321]\ttest-aucpr:0.82165\ttrain-aucpr:0.91697\n",
      "[322]\ttest-aucpr:0.82192\ttrain-aucpr:0.91760\n",
      "[323]\ttest-aucpr:0.82220\ttrain-aucpr:0.91818\n",
      "[324]\ttest-aucpr:0.82229\ttrain-aucpr:0.91870\n",
      "[325]\ttest-aucpr:0.82241\ttrain-aucpr:0.91902\n",
      "[326]\ttest-aucpr:0.82240\ttrain-aucpr:0.91942\n",
      "[327]\ttest-aucpr:0.82243\ttrain-aucpr:0.91990\n",
      "[328]\ttest-aucpr:0.82246\ttrain-aucpr:0.92027\n",
      "[329]\ttest-aucpr:0.82244\ttrain-aucpr:0.92043\n",
      "[330]\ttest-aucpr:0.82253\ttrain-aucpr:0.92080\n",
      "[331]\ttest-aucpr:0.82260\ttrain-aucpr:0.92116\n",
      "[332]\ttest-aucpr:0.82273\ttrain-aucpr:0.92159\n",
      "[333]\ttest-aucpr:0.82295\ttrain-aucpr:0.92236\n",
      "[334]\ttest-aucpr:0.82304\ttrain-aucpr:0.92273\n",
      "[335]\ttest-aucpr:0.82323\ttrain-aucpr:0.92327\n",
      "[336]\ttest-aucpr:0.82334\ttrain-aucpr:0.92381\n",
      "[337]\ttest-aucpr:0.82335\ttrain-aucpr:0.92409\n",
      "[338]\ttest-aucpr:0.82325\ttrain-aucpr:0.92441\n",
      "[339]\ttest-aucpr:0.82354\ttrain-aucpr:0.92528\n",
      "[340]\ttest-aucpr:0.82356\ttrain-aucpr:0.92584\n",
      "[341]\ttest-aucpr:0.82382\ttrain-aucpr:0.92658\n",
      "[342]\ttest-aucpr:0.82380\ttrain-aucpr:0.92689\n",
      "[343]\ttest-aucpr:0.82378\ttrain-aucpr:0.92758\n",
      "[344]\ttest-aucpr:0.82382\ttrain-aucpr:0.92812\n",
      "[345]\ttest-aucpr:0.82364\ttrain-aucpr:0.92834\n",
      "[346]\ttest-aucpr:0.82381\ttrain-aucpr:0.92900\n",
      "[347]\ttest-aucpr:0.82446\ttrain-aucpr:0.92995\n",
      "[348]\ttest-aucpr:0.82464\ttrain-aucpr:0.93051\n",
      "[349]\ttest-aucpr:0.82467\ttrain-aucpr:0.93112\n",
      "[350]\ttest-aucpr:0.82482\ttrain-aucpr:0.93151\n",
      "[351]\ttest-aucpr:0.82503\ttrain-aucpr:0.93198\n",
      "[352]\ttest-aucpr:0.82501\ttrain-aucpr:0.93248\n",
      "[353]\ttest-aucpr:0.82508\ttrain-aucpr:0.93278\n",
      "[354]\ttest-aucpr:0.82508\ttrain-aucpr:0.93304\n",
      "[355]\ttest-aucpr:0.82512\ttrain-aucpr:0.93328\n",
      "[356]\ttest-aucpr:0.82559\ttrain-aucpr:0.93401\n",
      "[357]\ttest-aucpr:0.82574\ttrain-aucpr:0.93465\n",
      "[358]\ttest-aucpr:0.82570\ttrain-aucpr:0.93506\n",
      "[359]\ttest-aucpr:0.82622\ttrain-aucpr:0.93581\n",
      "[360]\ttest-aucpr:0.82649\ttrain-aucpr:0.93631\n",
      "[361]\ttest-aucpr:0.82647\ttrain-aucpr:0.93655\n",
      "[362]\ttest-aucpr:0.82664\ttrain-aucpr:0.93709\n",
      "[363]\ttest-aucpr:0.82669\ttrain-aucpr:0.93737\n",
      "[364]\ttest-aucpr:0.82712\ttrain-aucpr:0.93834\n",
      "[365]\ttest-aucpr:0.82744\ttrain-aucpr:0.93922\n",
      "[366]\ttest-aucpr:0.82766\ttrain-aucpr:0.93989\n",
      "[367]\ttest-aucpr:0.82786\ttrain-aucpr:0.94048\n",
      "[368]\ttest-aucpr:0.82804\ttrain-aucpr:0.94106\n",
      "[369]\ttest-aucpr:0.82827\ttrain-aucpr:0.94170\n",
      "[370]\ttest-aucpr:0.82856\ttrain-aucpr:0.94237\n",
      "[371]\ttest-aucpr:0.82871\ttrain-aucpr:0.94304\n",
      "[372]\ttest-aucpr:0.82866\ttrain-aucpr:0.94322\n",
      "[373]\ttest-aucpr:0.82873\ttrain-aucpr:0.94367\n",
      "[374]\ttest-aucpr:0.82871\ttrain-aucpr:0.94385\n",
      "[375]\ttest-aucpr:0.82889\ttrain-aucpr:0.94449\n",
      "[376]\ttest-aucpr:0.82890\ttrain-aucpr:0.94501\n",
      "[377]\ttest-aucpr:0.82898\ttrain-aucpr:0.94528\n",
      "[378]\ttest-aucpr:0.82903\ttrain-aucpr:0.94539\n",
      "[379]\ttest-aucpr:0.82901\ttrain-aucpr:0.94579\n",
      "[380]\ttest-aucpr:0.82909\ttrain-aucpr:0.94590\n",
      "[381]\ttest-aucpr:0.82913\ttrain-aucpr:0.94614\n",
      "[382]\ttest-aucpr:0.82913\ttrain-aucpr:0.94651\n",
      "[383]\ttest-aucpr:0.82899\ttrain-aucpr:0.94650\n",
      "[384]\ttest-aucpr:0.82899\ttrain-aucpr:0.94698\n",
      "[385]\ttest-aucpr:0.82901\ttrain-aucpr:0.94711\n",
      "[386]\ttest-aucpr:0.82906\ttrain-aucpr:0.94726\n",
      "[387]\ttest-aucpr:0.82911\ttrain-aucpr:0.94734\n",
      "[388]\ttest-aucpr:0.82906\ttrain-aucpr:0.94766\n",
      "[389]\ttest-aucpr:0.82909\ttrain-aucpr:0.94781\n",
      "[390]\ttest-aucpr:0.82923\ttrain-aucpr:0.94806\n",
      "[391]\ttest-aucpr:0.82930\ttrain-aucpr:0.94820\n",
      "[392]\ttest-aucpr:0.82953\ttrain-aucpr:0.94854\n",
      "[393]\ttest-aucpr:0.82961\ttrain-aucpr:0.94886\n",
      "[394]\ttest-aucpr:0.82958\ttrain-aucpr:0.94925\n",
      "[395]\ttest-aucpr:0.82964\ttrain-aucpr:0.94955\n",
      "[396]\ttest-aucpr:0.82965\ttrain-aucpr:0.94968\n",
      "[397]\ttest-aucpr:0.82967\ttrain-aucpr:0.94979\n",
      "[398]\ttest-aucpr:0.82978\ttrain-aucpr:0.95003\n",
      "[399]\ttest-aucpr:0.83006\ttrain-aucpr:0.95043\n"
     ]
    }
   ],
   "source": [
    "model = xgb.train(params, dtrain, params['num_rounds'], evals=evals)\n"
   ]
  },
  {
   "cell_type": "markdown",
   "metadata": {},
   "source": [
    "## Predictions and assessment"
   ]
  },
  {
   "cell_type": "code",
   "execution_count": 72,
   "metadata": {
    "ExecuteTime": {
     "end_time": "2021-06-22T01:24:53.592923Z",
     "start_time": "2021-06-22T01:24:50.249919Z"
    }
   },
   "outputs": [
    {
     "name": "stdout",
     "output_type": "stream",
     "text": [
      "Threshold:  0.9852\n",
      "Precision:  0.9230\n",
      "Recall:  0.7469\n",
      "fraud predicted 4846\n",
      "actual fraud 5990\n",
      "AUC  0.8733\n",
      "Accuracy:  0.9996\n",
      "F1:  0.8256\n",
      "AUPRC:  0.8301\n"
     ]
    }
   ],
   "source": [
    "preds = model.predict(dtest)\n",
    "true_labels = y_test.astype(int).as_matrix().squeeze()\n",
    "\n",
    "# apply the threshold TPR-FPR to the prediction.\n",
    "# fpr, tpr, thresholds = roc_curve(true_labels, preds)\n",
    "# threshold_idx = np.argmax(tpr - fpr)\n",
    "# pred_labels = (preds > thresholds[threshold_idx]).astype(int)\n",
    "\n",
    "# apply the threshold using F1 measure to the prediction.\n",
    "precision, recall, thresholds = precision_recall_curve(true_labels, preds)\n",
    "threshold_idx = np.argmax((2 * precision * recall)/ (precision + recall))\n",
    "pred_labels = (preds > thresholds[threshold_idx]).astype(int)\n",
    "\n",
    "print(f'Threshold: {thresholds[threshold_idx]: 0.4f}')\n",
    "\n",
    "print(f'Precision: {precision[threshold_idx]: 0.4f}')\n",
    "print(f'Recall: {recall[threshold_idx]: 0.4f}')\n",
    "print('fraud predicted', pred_labels.sum())\n",
    "print('actual fraud', true_labels.sum())\n",
    "# compute the auc, this should match the last test auc output above\n",
    "auc_measure = roc_auc_score(true_labels, pred_labels)\n",
    "print(f'AUC {auc_measure: 0.4f}')\n",
    "\n",
    "print (f'Accuracy: {accuracy_score(true_labels, pred_labels): 0.4f}')\n",
    "\n",
    "print (f'F1: {f1_score(true_labels, pred_labels): 0.4f}')\n",
    "# area under precision recall curve\n",
    "\n",
    "auprc= auc(recall, precision)\n",
    "print(f'AUPRC: {auprc: 0.4f}')"
   ]
  },
  {
   "cell_type": "code",
   "execution_count": 74,
   "metadata": {
    "ExecuteTime": {
     "end_time": "2021-06-22T01:25:00.110660Z",
     "start_time": "2021-06-22T01:24:53.594057Z"
    }
   },
   "outputs": [
    {
     "data": {
      "image/png": "[encoded data removed]",
      "text/plain": [
       "<Figure size 864x432 with 2 Axes>"
      ]
     },
     "metadata": {},
     "output_type": "display_data"
    }
   ],
   "source": [
    "fig, ax = plt.subplots(nrows=1, ncols=2, figsize=(12,6))\n",
    "\n",
    "no_skill = y_test.sum().values[0].get()/len(y_test)\n",
    "ax[0].plot(recall, precision, color='darkorange', lw=1, label='PR curve (area = %0.3f)' % auprc)\n",
    "ax[0].plot([0, 1], [no_skill, no_skill], color='navy', linestyle='--', label='No Skill')\n",
    "ax[0].plot(recall[np.argmax((2 * precision * recall)/ (precision + recall))],\n",
    "           precision[np.argmax((2 * precision * recall)/ (precision + recall))], 'ro', label='F1 threshold')\n",
    "ax[0].set_xlabel('Recall (Positive Label: 1)')\n",
    "ax[0].set_ylabel('Precision (Positive Label: 1)')\n",
    "ax[0].set_title('2-class Precision-Recall curve')\n",
    "ax[0].set_xlim([-0.02, 1.02])\n",
    "ax[0].set_ylim([-0.02, 1.02])\n",
    "ax[0].legend()\n",
    "\n",
    "fpr, tpr, _ = roc_curve(true_labels, preds)\n",
    "roc_auc = roc_auc_score(true_labels, preds)\n",
    "\n",
    "ax[1].plot(fpr, tpr, color='darkorange', lw=1, label='ROC curve (area = %0.3f)' % roc_auc)\n",
    "ax[1].plot([0, 1], [0, 1], color='navy', linestyle='--')\n",
    "ax[1].set_xlim([-0.02, 1.02])\n",
    "ax[1].set_ylim([-0.02, 1.02])\n",
    "ax[1].set_xlabel('False Positive Rate')\n",
    "ax[1].set_ylabel('True Positive Rate')\n",
    "ax[1].set_title('Receiver operating characteristic')\n",
    "ax[1].legend(loc=\"lower right\")\n",
    "plt.tight_layout()"
   ]
  },
  {
   "cell_type": "code",
   "execution_count": 75,
   "metadata": {
    "ExecuteTime": {
     "end_time": "2021-06-22T01:25:02.524416Z",
     "start_time": "2021-06-22T01:25:00.111553Z"
    }
   },
   "outputs": [
    {
     "name": "stdout",
     "output_type": "stream",
     "text": [
      "Confusion Matrix :\n"
     ]
    },
    {
     "data": {
      "image/png": "[encoded data removed]",
      "text/plain": [
       "<Figure size 432x288 with 2 Axes>"
      ]
     },
     "metadata": {},
     "output_type": "display_data"
    }
   ],
   "source": [
    "results = confusion_matrix(true_labels, pred_labels) \n",
    "\n",
    "print ('Confusion Matrix :')\n",
    "\n",
    "def plot_confusion_matrix(cm, target_names, title='Confusion Matrix', cmap=plt.cm.cool):\n",
    "    plt.imshow(cm, interpolation='nearest', cmap=cmap)\n",
    "    plt.title(title)\n",
    "    plt.colorbar()\n",
    "    tick_marks = np.arange(len(target_names))\n",
    "    plt.xticks(tick_marks, target_names, rotation=45)\n",
    "    plt.yticks(tick_marks, target_names)\n",
    "    plt.tight_layout()\n",
    "\n",
    "    width, height = cm.shape\n",
    "\n",
    "    for x in range(width):\n",
    "        for y in range(height):\n",
    "            plt.annotate(str(cm[x][y]), xy=(y, x), \n",
    "                        horizontalalignment='center',\n",
    "                        verticalalignment='center')\n",
    "    plt.ylabel('True Label')\n",
    "    plt.xlabel('Predicted Label')\n",
    "\n",
    "\n",
    "plot_confusion_matrix(results, ['Normal','Anomaly'])"
   ]
  },
  {
   "cell_type": "code",
   "execution_count": 76,
   "metadata": {},
   "outputs": [
    {
     "data": {
      "text/plain": [
       "3335520"
      ]
     },
     "execution_count": 76,
     "metadata": {},
     "output_type": "execute_result"
    }
   ],
   "source": [
    "len(thresholds)"
   ]
  },
  {
   "cell_type": "code",
   "execution_count": 77,
   "metadata": {
    "ExecuteTime": {
     "end_time": "2021-06-22T01:25:04.535864Z",
     "start_time": "2021-06-22T01:25:02.525883Z"
    }
   },
   "outputs": [
    {
     "name": "stdout",
     "output_type": "stream",
     "text": [
      "Precision:  0.0568\n",
      "Recall:  0.9499\n",
      "fraud predicted 100177\n",
      "actual fraud 5990\n",
      "AUC  0.9951\n",
      "Accuracy:  0.9806\n",
      "F1:  0.1072\n"
     ]
    }
   ],
   "source": [
    "# We can also use a custom threshold to balance out FP and FN, for example, to reduce FN (and increase FP):\n",
    "\n",
    "threshold_idx = np.argmin(np.abs(recall-0.95))  # high recall, low precision.\n",
    "print(f'Precision: {precision[threshold_idx]: 0.4f}')\n",
    "print(f'Recall: {recall[threshold_idx]: 0.4f}')\n",
    "pred_labels = (preds > thresholds[threshold_idx]).astype(int)\n",
    "\n",
    "print('fraud predicted', pred_labels.sum())\n",
    "print('actual fraud', true_labels.sum())\n",
    "# compute the auc, this should match the last test auc output above\n",
    "auc_measure = roc_auc_score(true_labels, preds)\n",
    "print(f'AUC {auc_measure: 0.4f}')\n",
    "\n",
    "print (f'Accuracy: {accuracy_score(true_labels, pred_labels): 0.4f}')\n",
    "\n",
    "print (f'F1: {f1_score(true_labels, pred_labels): 0.4f}')\n"
   ]
  },
  {
   "cell_type": "code",
   "execution_count": 78,
   "metadata": {
    "ExecuteTime": {
     "end_time": "2021-06-22T01:25:07.926616Z",
     "start_time": "2021-06-22T01:25:06.952712Z"
    }
   },
   "outputs": [
    {
     "data": {
      "image/png": "[encoded data removed]",
      "text/plain": [
       "<Figure size 864x432 with 2 Axes>"
      ]
     },
     "metadata": {},
     "output_type": "display_data"
    }
   ],
   "source": [
    "fig, ax = plt.subplots(nrows=1, ncols=2, figsize=(12,6))\n",
    "\n",
    "no_skill = y_test.sum().values[0].get()/len(y_test)\n",
    "ax[0].plot(recall, precision, color='darkorange', lw=1, label='PR curve (area = %0.3f)' % auprc)\n",
    "ax[0].plot([0, 1], [no_skill, no_skill], color='navy', linestyle='--', label='No Skill')\n",
    "ax[0].plot(recall[threshold_idx],\n",
    "           precision[threshold_idx], 'ro', label='F1 threshold')\n",
    "ax[0].set_xlabel('Recall (Positive Label: 1)')\n",
    "ax[0].set_ylabel('Precision (Positive Label: 1)')\n",
    "ax[0].set_title('2-class Precision-Recall curve')\n",
    "ax[0].set_xlim([-0.02, 1.02])\n",
    "ax[0].set_ylim([-0.02, 1.02])\n",
    "ax[0].legend()\n",
    "\n",
    "fpr, tpr, _ = roc_curve(true_labels, preds)\n",
    "roc_auc = roc_auc_score(true_labels, preds)\n",
    "\n",
    "ax[1].plot(fpr, tpr, color='darkorange', lw=1, label='ROC curve (area = %0.3f)' % roc_auc)\n",
    "ax[1].plot([0, 1], [0, 1], color='navy', linestyle='--')\n",
    "ax[1].set_xlim([-0.02, 1.02])\n",
    "ax[1].set_ylim([-0.02, 1.02])\n",
    "ax[1].set_xlabel('False Positive Rate')\n",
    "ax[1].set_ylabel('True Positive Rate')\n",
    "ax[1].set_title('Receiver operating characteristic')\n",
    "ax[1].legend(loc=\"lower right\")\n",
    "plt.tight_layout()"
   ]
  },
  {
   "cell_type": "code",
   "execution_count": 79,
   "metadata": {
    "ExecuteTime": {
     "end_time": "2021-06-22T01:25:06.951608Z",
     "start_time": "2021-06-22T01:25:04.536818Z"
    }
   },
   "outputs": [
    {
     "name": "stdout",
     "output_type": "stream",
     "text": [
      "Confusion Matrix :\n"
     ]
    },
    {
     "data": {
      "image/png": "[encoded data removed]",
      "text/plain": [
       "<Figure size 432x288 with 2 Axes>"
      ]
     },
     "metadata": {},
     "output_type": "display_data"
    }
   ],
   "source": [
    "# and with the new threshold we see the reduced FN at cost of increased FP\n",
    "results = confusion_matrix(true_labels, pred_labels) \n",
    "\n",
    "print ('Confusion Matrix :')\n",
    "\n",
    "plot_confusion_matrix(results, ['Normal','Anomaly'])"
   ]
  },
  {
   "cell_type": "code",
   "execution_count": 50,
   "metadata": {
    "ExecuteTime": {
     "end_time": "2021-06-22T01:25:09.315664Z",
     "start_time": "2021-06-22T01:25:07.927489Z"
    }
   },
   "outputs": [
    {
     "data": {
      "image/png": "[encoded data removed]",
      "text/plain": [
       "<Figure size 720x720 with 1 Axes>"
      ]
     },
     "metadata": {},
     "output_type": "display_data"
    }
   ],
   "source": [
    "ax = xgb.plot_importance(model)\n",
    "fig = ax.figure\n",
    "fig.set_size_inches(10, 10)"
   ]
  },
  {
   "cell_type": "markdown",
   "metadata": {},
   "source": [
    "## Explainability with `Shap` "
   ]
  },
  {
   "cell_type": "code",
   "execution_count": 51,
   "metadata": {
    "ExecuteTime": {
     "end_time": "2021-06-22T01:30:54.292978Z",
     "start_time": "2021-06-22T01:25:09.316695Z"
    }
   },
   "outputs": [
    {
     "name": "stdout",
     "output_type": "stream",
     "text": [
      "CPU times: user 6min 3s, sys: 3min 31s, total: 9min 34s\n",
      "Wall time: 9min 34s\n"
     ]
    }
   ],
   "source": [
    "import shap\n",
    "\n",
    "explainer = shap.TreeExplainer(model)\n",
    "%time shap_values = explainer.shap_values(X_test)"
   ]
  },
  {
   "cell_type": "code",
   "execution_count": 52,
   "metadata": {
    "ExecuteTime": {
     "end_time": "2021-06-22T01:30:54.639413Z",
     "start_time": "2021-06-22T01:30:54.293947Z"
    }
   },
   "outputs": [
    {
     "data": {
      "text/plain": [
       "is_fraud    1\n",
       "Name: 8407470, dtype: int8"
      ]
     },
     "execution_count": 52,
     "metadata": {},
     "output_type": "execute_result"
    }
   ],
   "source": [
    "y_test.loc[8407470]"
   ]
  },
  {
   "cell_type": "code",
   "execution_count": 53,
   "metadata": {
    "ExecuteTime": {
     "end_time": "2021-06-22T01:30:54.657662Z",
     "start_time": "2021-06-22T01:30:54.640495Z"
    }
   },
   "outputs": [
    {
     "data": {
      "text/plain": [
       "amount                           296.900000\n",
       "hrs_since_last_txn                 0.816667\n",
       "card                               0.000000\n",
       "num_cards_per_user                 4.000000\n",
       "year                              19.000000\n",
       "month                              8.000000\n",
       "day                               20.000000\n",
       "hour                               4.000000\n",
       "minute                            33.000000\n",
       "use chip                           1.000000\n",
       "merchant name                  74934.000000\n",
       "merchant city                   8656.000000\n",
       "merchant state                     0.000000\n",
       "zip                                0.000000\n",
       "mcc                              378.000000\n",
       "merchant_city_state_zip        17915.000000\n",
       "errors_Bad CVV                     0.000000\n",
       "errors_Bad Card Number             0.000000\n",
       "errors_Bad Expiration              0.000000\n",
       "errors_Bad PIN                     0.000000\n",
       "errors_Bad Zipcode                 0.000000\n",
       "errors_Insufficient Balance        0.000000\n",
       "errors_Technical Glitch            0.000000\n",
       "Name: 8407470, dtype: float64"
      ]
     },
     "execution_count": 53,
     "metadata": {},
     "output_type": "execute_result"
    }
   ],
   "source": [
    "X_test.loc[8407470]#.values"
   ]
  },
  {
   "cell_type": "code",
   "execution_count": 54,
   "metadata": {
    "ExecuteTime": {
     "end_time": "2021-06-22T01:30:54.674051Z",
     "start_time": "2021-06-22T01:30:54.659138Z"
    }
   },
   "outputs": [],
   "source": [
    "fraud_example = X_test.loc[[8407470]]"
   ]
  },
  {
   "cell_type": "code",
   "execution_count": 55,
   "metadata": {
    "ExecuteTime": {
     "end_time": "2021-06-22T01:30:54.870302Z",
     "start_time": "2021-06-22T01:30:54.675239Z"
    }
   },
   "outputs": [
    {
     "name": "stdout",
     "output_type": "stream",
     "text": [
      "use_chip \t Online Transaction\n",
      "mcc\t3596\n",
      "merchant city\tONLINE\n",
      "zip\t\n"
     ]
    }
   ],
   "source": [
    "print('\\n'.join([f\"use_chip \\t {mappings['unq_use_chip'][fraud_example['use chip']][0]}\",\n",
    "          f\"mcc\\t{mappings['all_mccs'][fraud_example['mcc'].values.get()[0]]}\",\n",
    "          f\"merchant city\\t{mappings['merc_city_uniq'][fraud_example['merchant city']][0]}\",\n",
    "          f\"zip\\t{mappings['zip_uniq'][fraud_example['zip']][0]}\"]))"
   ]
  },
  {
   "cell_type": "code",
   "execution_count": 56,
   "metadata": {
    "ExecuteTime": {
     "end_time": "2021-06-22T01:30:54.874182Z",
     "start_time": "2021-06-22T01:30:54.871327Z"
    }
   },
   "outputs": [
    {
     "data": {
      "text/plain": [
       "MCC(mcc='3596', range=MCCRange(start='3000', end='3999', description='Reserved for private use', reserved=True), iso_description='', usda_description='', stripe_description='', stripe_code='', visa_description='WYNN LAS VEGAS', visa_req_clearing_name='')"
      ]
     },
     "execution_count": 56,
     "metadata": {},
     "output_type": "execute_result"
    }
   ],
   "source": [
    "iso18245.get_mcc('3596')"
   ]
  },
  {
   "cell_type": "code",
   "execution_count": 57,
   "metadata": {
    "ExecuteTime": {
     "end_time": "2021-06-22T01:30:55.326551Z",
     "start_time": "2021-06-22T01:30:54.875214Z"
    }
   },
   "outputs": [
    {
     "data": {
      "image/png": "[encoded data removed]",
      "text/plain": [
       "<Figure size 1440x216 with 1 Axes>"
      ]
     },
     "metadata": {},
     "output_type": "display_data"
    }
   ],
   "source": [
    "# visualize the first prediction's explanation\n",
    "shap.force_plot(\n",
    "    explainer.expected_value,\n",
    "    shap_values[0, :],\n",
    "    X_test.iloc[486].values.get(),\n",
    "    feature_names=X_test.columns.tolist(),\n",
    "    matplotlib=True\n",
    ")"
   ]
  },
  {
   "cell_type": "code",
   "execution_count": 58,
   "metadata": {
    "ExecuteTime": {
     "end_time": "2021-06-22T01:30:55.840317Z",
     "start_time": "2021-06-22T01:30:55.327811Z"
    }
   },
   "outputs": [
    {
     "data": {
      "image/png": "[encoded data removed]",
      "text/plain": [
       "<Figure size 576x684 with 1 Axes>"
      ]
     },
     "metadata": {},
     "output_type": "display_data"
    },
    {
     "name": "stdout",
     "output_type": "stream",
     "text": [
      "CPU times: user 588 ms, sys: 258 ms, total: 846 ms\n",
      "Wall time: 845 ms\n"
     ]
    }
   ],
   "source": [
    "%time shap.summary_plot(shap_values, X_test, plot_type=\"bar\", feature_names=X_test.columns.tolist())"
   ]
  },
  {
   "cell_type": "code",
   "execution_count": null,
   "metadata": {},
   "outputs": [],
   "source": []
  }
 ],
 "metadata": {
  "kernelspec": {
   "display_name": "Python 3",
   "language": "python",
   "name": "python3"
  },
  "language_info": {
   "codemirror_mode": {
    "name": "ipython",
    "version": 3
   },
   "file_extension": ".py",
   "mimetype": "text/x-python",
   "name": "python",
   "nbconvert_exporter": "python",
   "pygments_lexer": "ipython3",
   "version": "3.8.5"
  }
 },
 "nbformat": 4,
 "nbformat_minor": 5
}
