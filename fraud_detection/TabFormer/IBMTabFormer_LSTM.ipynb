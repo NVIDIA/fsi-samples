{
 "cells": [
  {
   "cell_type": "code",
   "execution_count": 1,
   "metadata": {
    "ExecuteTime": {
     "end_time": "2021-10-12T01:46:33.802297Z",
     "start_time": "2021-10-12T01:46:33.786994Z"
    }
   },
   "outputs": [],
   "source": [
    "############################################################################\n",
    "##\n",
    "## Copyright (C) 2021 NVIDIA Corporation.  All rights reserved.\n",
    "##\n",
    "## NVIDIA Sample Code\n",
    "##\n",
    "## Please refer to the NVIDIA end user license agreement (EULA) associated\n",
    "## with this source code for terms and conditions that govern your use of\n",
    "## this software. Any use, reproduction, disclosure, or distribution of\n",
    "## this software and related documentation outside the terms of the EULA\n",
    "## is strictly prohibited.\n",
    "##\n",
    "############################################################################"
   ]
  },
  {
   "cell_type": "code",
   "execution_count": 2,
   "metadata": {
    "ExecuteTime": {
     "end_time": "2021-08-06T14:48:05.412567Z",
     "start_time": "2021-08-06T14:48:04.730793Z"
    }
   },
   "outputs": [
    {
     "name": "stdout",
     "output_type": "stream",
     "text": [
      "1.9.0+cu111\n"
     ]
    }
   ],
   "source": [
    "import gc\n",
    "from typing import Union\n",
    "import os\n",
    "import time\n",
    "\n",
    "import cugraph as cg\n",
    "import cudf\n",
    "import cupy as cp\n",
    "import numpy as np\n",
    "import pandas as pd\n",
    "import matplotlib.pyplot as plt\n",
    "from cuml.metrics import precision_recall_curve, accuracy_score, roc_auc_score, confusion_matrix\n",
    "from sklearn.metrics import auc, roc_curve, classification_report\n",
    "from cupy import argmax, argmin\n",
    "import seaborn as sns\n",
    "\n",
    "import torch\n",
    "import torch.nn as nn\n",
    "from torch.nn import functional as F\n",
    "from torch.utils.data import DataLoader, Dataset\n",
    "from tqdm.autonotebook import tqdm\n",
    "print(torch.__version__)\n",
    "assert int(torch.__version__.split('+')[1][2:]) > 102, 'Use a higher CUDA enabled torch version, ex. CUDA 11.1 or greater'\n",
    "\n",
    "pd.set_option('display.max_columns', 500)\n",
    "\n",
    "clean_data_path = '/rapids/notebooks/host/cleaned_data'\n",
    "figures_path = '/rapids/notebooks/host/figures'\n",
    "os.makedirs(figures_path, exist_ok=True)\n",
    "\n",
    "DEVICE = 0\n",
    "cp.cuda.Device(DEVICE).use()"
   ]
  },
  {
   "cell_type": "markdown",
   "metadata": {
    "tags": []
   },
   "source": [
    "# Prep "
   ]
  },
  {
   "cell_type": "code",
   "execution_count": 3,
   "metadata": {
    "ExecuteTime": {
     "end_time": "2021-08-06T14:48:05.414954Z",
     "start_time": "2021-08-06T14:48:04.732Z"
    }
   },
   "outputs": [],
   "source": [
    "# this is the cleaned up data.\n",
    "datafp = './data/credit_card/card_transaction_fixed.pq'\n",
    "gdf = cudf.read_parquet(datafp)\n",
    "\n",
    "gdf['zip'] = gdf.zip.astype(int).astype(str)\n",
    "gdf['use chip'] = gdf['use chip'].str.strip()\n",
    "gdf['merchant city'] = gdf['merchant city'].str.strip()"
   ]
  },
  {
   "cell_type": "code",
   "execution_count": 4,
   "metadata": {
    "ExecuteTime": {
     "end_time": "2021-08-06T14:48:05.415796Z",
     "start_time": "2021-08-06T14:48:04.735Z"
    }
   },
   "outputs": [
    {
     "data": {
      "text/plain": [
       "Insufficient Balance,                                   242783\n",
       "Bad PIN,                                                 58918\n",
       "Technical Glitch,                                        48157\n",
       "Bad Card Number,                                         13321\n",
       "Bad CVV,                                                 10740\n",
       "Bad Expiration,                                          10716\n",
       "Bad Zipcode,                                              2079\n",
       "Bad PIN,Insufficient Balance,                              581\n",
       "Insufficient Balance,Technical Glitch,                     457\n",
       "Bad PIN,Technical Glitch,                                  128\n",
       "Bad Card Number,Insufficient Balance,                      122\n",
       "Bad CVV,Insufficient Balance,                               89\n",
       "Bad Expiration,Insufficient Balance,                        78\n",
       "Bad Card Number,Bad CVV,                                    60\n",
       "Bad Card Number,Bad Expiration,                             54\n",
       "Bad Expiration,Bad CVV,                                     47\n",
       "Bad Expiration,Technical Glitch,                            32\n",
       "Bad Card Number,Technical Glitch,                           25\n",
       "Bad CVV,Technical Glitch,                                   21\n",
       "Bad Zipcode,Insufficient Balance,                           13\n",
       "Bad Zipcode,Technical Glitch,                                7\n",
       "Bad Card Number,Bad Expiration,Insufficient Balance,         2\n",
       "Bad Card Number,Bad Expiration,Technical Glitch,             1\n",
       "Name: errors, dtype: int32"
      ]
     },
     "execution_count": 4,
     "metadata": {},
     "output_type": "execute_result"
    }
   ],
   "source": [
    "gdf.errors.value_counts()"
   ]
  },
  {
   "cell_type": "code",
   "execution_count": 5,
   "metadata": {
    "ExecuteTime": {
     "end_time": "2021-08-06T14:48:05.416791Z",
     "start_time": "2021-08-06T14:48:04.739Z"
    }
   },
   "outputs": [],
   "source": [
    "def open_sublist(array: list):\n",
    "    \"\"\"\n",
    "    recursively opens up sublists\n",
    "    \"\"\"\n",
    "    l = []\n",
    "    for item in array:\n",
    "        if isinstance(item, list):\n",
    "            subl = open_sublist(item)\n",
    "            l.extend(subl)\n",
    "            continue\n",
    "        l.append(item)\n",
    "    return l\n",
    "# open_sublist([1,[[[2]]],3,[4,5,[6]]])"
   ]
  },
  {
   "cell_type": "code",
   "execution_count": 6,
   "metadata": {
    "ExecuteTime": {
     "end_time": "2021-08-06T14:48:05.418018Z",
     "start_time": "2021-08-06T14:48:04.741Z"
    }
   },
   "outputs": [
    {
     "data": {
      "text/plain": [
       "['Technical Glitch',\n",
       " 'Bad Zipcode',\n",
       " 'Bad CVV',\n",
       " 'Bad PIN',\n",
       " 'Bad Card Number',\n",
       " 'Bad Expiration',\n",
       " 'Insufficient Balance']"
      ]
     },
     "execution_count": 6,
     "metadata": {},
     "output_type": "execute_result"
    }
   ],
   "source": [
    "unq_errors = [i for i in \n",
    "                 set( \n",
    "                    open_sublist(\n",
    "                        [i.split(',') for i in gdf.errors.value_counts().index.to_arrow().to_pylist()\n",
    "                        ])\n",
    "                 ) if i]\n",
    "unq_errors"
   ]
  },
  {
   "cell_type": "code",
   "execution_count": 7,
   "metadata": {
    "ExecuteTime": {
     "end_time": "2021-08-06T14:48:05.418999Z",
     "start_time": "2021-08-06T14:48:04.743Z"
    }
   },
   "outputs": [],
   "source": [
    "exploded = gdf['errors'].str.strip(',').str.split(',').explode()\n",
    "\n",
    "raw_one_hot = cudf.get_dummies(exploded, columns=[\"errors\"])\n",
    "errs = raw_one_hot.groupby(raw_one_hot.index).sum()\n",
    "\n",
    "gdf = cudf.concat([gdf, errs], axis=1)\n",
    "\n",
    "gdf = gdf.rename(columns={col:f'errors_{col}' for col in unq_errors})\n",
    "\n",
    "# add day of the week feature\n",
    "gdf['dayofweek'] = cudf.to_datetime(gdf.date).dt.dayofweek"
   ]
  },
  {
   "cell_type": "code",
   "execution_count": 8,
   "metadata": {
    "ExecuteTime": {
     "end_time": "2021-08-06T14:48:05.420109Z",
     "start_time": "2021-08-06T14:48:04.745Z"
    }
   },
   "outputs": [
    {
     "data": {
      "text/plain": [
       "22"
      ]
     },
     "execution_count": 8,
     "metadata": {},
     "output_type": "execute_result"
    }
   ],
   "source": [
    "# we'll make the (bad) assumption that the users have all their credit cards at the very beginning of the\n",
    "# simulation\n",
    "\n",
    "num_cards_per_user = gdf[['user', 'card']].groupby('user').card.nunique()\n",
    "\n",
    "num_cards_per_user = num_cards_per_user.rename('num_cards_per_user')\n",
    "\n",
    "gdf = cudf.merge(gdf, num_cards_per_user, on='user', how='left')\n",
    "\n",
    "del exploded, errs, raw_one_hot, num_cards_per_user\n",
    "gc.collect()"
   ]
  },
  {
   "cell_type": "code",
   "execution_count": 9,
   "metadata": {
    "ExecuteTime": {
     "end_time": "2021-08-06T14:48:05.421160Z",
     "start_time": "2021-08-06T14:48:04.746Z"
    }
   },
   "outputs": [
    {
     "data": {
      "text/plain": [
       "user                                  0\n",
       "card                                  0\n",
       "date                                  0\n",
       "year                                  0\n",
       "month                                 0\n",
       "day                                   0\n",
       "time                                  0\n",
       "hour                                  0\n",
       "minute                                0\n",
       "amount                                0\n",
       "use chip                              0\n",
       "merchant name                         0\n",
       "merchant city                         0\n",
       "merchant state                  2720821\n",
       "zip                             2878135\n",
       "mcc                                   0\n",
       "errors                         23998469\n",
       "is_fraud                              0\n",
       "errors_Bad CVV                        0\n",
       "errors_Bad Card Number                0\n",
       "errors_Bad Expiration                 0\n",
       "errors_Bad PIN                        0\n",
       "errors_Bad Zipcode                    0\n",
       "errors_Insufficient Balance           0\n",
       "errors_Technical Glitch               0\n",
       "dayofweek                             0\n",
       "num_cards_per_user                    0\n",
       "dtype: uint64"
      ]
     },
     "execution_count": 9,
     "metadata": {},
     "output_type": "execute_result"
    }
   ],
   "source": [
    "# looks like we have some nans... let's remove them\n",
    "gdf.isna().sum()"
   ]
  },
  {
   "cell_type": "code",
   "execution_count": 10,
   "metadata": {
    "ExecuteTime": {
     "end_time": "2021-08-06T14:48:05.422199Z",
     "start_time": "2021-08-06T14:48:04.748Z"
    }
   },
   "outputs": [],
   "source": [
    "gdf['use chip'], unq_use_chip = gdf['use chip'].factorize()\n",
    "\n",
    "# ERRORS SHOULD BE SPLIT BY COMMA\n",
    "# dont use: gdf['errors'], unq_errors = gdf['errors'].factorize()\n",
    "\n",
    "# frequency and agg stats...\n",
    "grp_stats = gdf.groupby('card')['amount'].agg(['mean', 'std']).rename(columns={'mean': 'mean_card_amount', \n",
    "                                                                               'std': 'std_card_amount'})\n",
    "\n",
    "gdf['mean_card_amount'] = gdf['card'].map(grp_stats.to_pandas().to_dict()['mean_card_amount'])\n",
    "gdf['std_card_amount'] = gdf['card'].map(grp_stats.to_pandas().to_dict()['std_card_amount'])\n",
    "gdf['card_counts'] = gdf['card'].map(gdf.card.value_counts().to_pandas().to_dict())\n",
    "\n",
    "# remove nans in strings\n",
    "gdf['zip'] = gdf.zip.astype(str)\n",
    "\n",
    "# fill nans with empty string...\n",
    "gdf['zip'] = gdf['zip'].fillna('')\n",
    "gdf['merchant state'] = gdf['merchant state'].fillna('')\n",
    "\n",
    "\n",
    "# yippy kai yay!\n",
    "# gdf.isna().sum()\n",
    "\n",
    "# aggregation\n",
    "gdf['merchant_city_state_zip'] = gdf['merchant city'] + ' ' +\\\n",
    "                                 gdf['merchant state'] + ' ' +\\\n",
    "                                 gdf['zip']\n",
    "\n",
    "# remove any extra trailing whitespace\n",
    "gdf['merchant_city_state_zip'] = gdf['merchant_city_state_zip'].str.strip()\n",
    "# factorize merchant names since min/max of their names (which is an int) is at the bounds of 64 bit int\n",
    "gdf['merchant name'], merch_name_uniq = gdf['merchant name'].factorize()\n",
    "gdf['merchant_city_state_zip'], merch_city_state_zip_uniq = gdf['merchant_city_state_zip'].factorize()\n",
    "gdf['merchant city'], merc_city_uniq = gdf['merchant city'].factorize()\n",
    "gdf['merchant state'], merc_state_uniq = gdf['merchant state'].factorize()\n",
    "gdf['zip'], zip_uniq = gdf['zip'].factorize()\n",
    "\n",
    "# range from 0 to 29 inclusive\n",
    "# for inference, will need to add back 1991 years.\n",
    "min_year = gdf.year.min()\n",
    "gdf['year'] = gdf.year-gdf.year.min()"
   ]
  },
  {
   "cell_type": "code",
   "execution_count": 11,
   "metadata": {
    "ExecuteTime": {
     "end_time": "2021-08-06T14:48:05.423773Z",
     "start_time": "2021-08-06T14:48:04.750Z"
    }
   },
   "outputs": [],
   "source": [
    "# encode all real mccs\n",
    "import iso18245\n",
    "all_mccs_info = iso18245.get_all_mccs()\n",
    "all_mccs = sorted([int(mcc.mcc) for mcc in all_mccs_info])\n",
    "\n",
    "\n",
    "gdf['mcc'] = gdf['mcc'].map({all_mccs[i]: i for i in range(len(all_mccs))})"
   ]
  },
  {
   "cell_type": "code",
   "execution_count": 12,
   "metadata": {
    "ExecuteTime": {
     "end_time": "2021-08-06T14:48:05.424782Z",
     "start_time": "2021-08-06T14:48:04.752Z"
    }
   },
   "outputs": [],
   "source": [
    "hrs_since_last_txn = gdf[['user', 'date']].to_pandas().groupby('user').diff().astype('timedelta64[s]')/3600\n",
    "\n",
    "hrs_since_last_txn = hrs_since_last_txn.rename(columns={'date': 'hrs_since_last_txn'})\n",
    "\n",
    "gdf['hrs_since_last_txn'] = cudf.concat([gdf, cudf.from_pandas(hrs_since_last_txn)], axis=1)[['user', 'hrs_since_last_txn']]\\\n",
    "                                .to_pandas().groupby('user').transform(lambda x: x.fillna(x.mean()))['hrs_since_last_txn']"
   ]
  },
  {
   "cell_type": "code",
   "execution_count": 13,
   "metadata": {
    "ExecuteTime": {
     "end_time": "2021-08-06T14:48:05.425678Z",
     "start_time": "2021-08-06T14:48:04.754Z"
    }
   },
   "outputs": [],
   "source": [
    "mappings = {'unq_use_chip': unq_use_chip,\n",
    "            'merch_name_uniq': merch_name_uniq,\n",
    "            'merch_city_state_zip_uniq': merch_city_state_zip_uniq,\n",
    "            'merc_city_uniq': merc_city_uniq,\n",
    "            'merc_state_uniq': merc_state_uniq,\n",
    "            'zip_uniq': zip_uniq,\n",
    "            'all_mccs': all_mccs,\n",
    "           }"
   ]
  },
  {
   "cell_type": "code",
   "execution_count": 14,
   "metadata": {},
   "outputs": [],
   "source": [
    "import pickle\n",
    "with open(f'./data/mappings.pkl', 'wb') as f:\n",
    "    pickle.dump(mappings, f)"
   ]
  },
  {
   "cell_type": "code",
   "execution_count": 15,
   "metadata": {
    "ExecuteTime": {
     "end_time": "2021-08-06T14:48:05.426345Z",
     "start_time": "2021-08-06T14:48:04.756Z"
    }
   },
   "outputs": [],
   "source": [
    "num_cols = sorted(['amount', 'hrs_since_last_txn',\n",
    "#                 'mean_card_amount', 'std_card_amount', 'card_counts',\n",
    "            ])\n",
    "cat_cols = sorted(['card', 'num_cards_per_user', 'year', 'month', 'day', 'hour', 'minute', 'use chip', 'merchant name', 'merchant city',\n",
    "            'merchant state', 'zip', 'mcc', 'merchant_city_state_zip', \n",
    "            'errors_Bad CVV', 'errors_Bad Card Number', 'errors_Bad Expiration', 'errors_Bad PIN',\n",
    "            'errors_Bad Zipcode', 'errors_Insufficient Balance', 'errors_Technical Glitch'\n",
    "           ])\n",
    "feature_cols = num_cols + cat_cols\n",
    "target_col = ['is_fraud']"
   ]
  },
  {
   "cell_type": "code",
   "execution_count": 16,
   "metadata": {
    "ExecuteTime": {
     "end_time": "2021-08-06T14:48:05.430519Z",
     "start_time": "2021-08-06T14:48:04.765Z"
    }
   },
   "outputs": [],
   "source": [
    "# train-test-split \n",
    "# take last few percent of data for test\n",
    "test_size = int(gdf.shape[0]*0.05)\n",
    "traindf = gdf[feature_cols + target_col].iloc[:-test_size]\n",
    "testdf = gdf[feature_cols + target_col].iloc[-test_size:]"
   ]
  },
  {
   "cell_type": "code",
   "execution_count": 17,
   "metadata": {
    "ExecuteTime": {
     "end_time": "2021-08-05T17:28:52.434729Z",
     "start_time": "2021-08-05T17:28:52.394722Z"
    },
    "scrolled": true
   },
   "outputs": [],
   "source": [
    "from cuml.preprocessing import StandardScaler\n",
    "\n",
    "amt_scaler = StandardScaler()\n",
    "hrs_last_txn_scaler = StandardScaler()\n",
    "\n",
    "traindf['amount'] = amt_scaler.fit_transform(traindf[['amount']])\n",
    "testdf['amount'] = amt_scaler.transform(testdf[['amount']])\n",
    "\n",
    "traindf['hrs_since_last_txn'] = hrs_last_txn_scaler.fit_transform(traindf[['hrs_since_last_txn']])\n",
    "testdf['hrs_since_last_txn'] = hrs_last_txn_scaler.transform(testdf[['hrs_since_last_txn']])\n"
   ]
  },
  {
   "cell_type": "code",
   "execution_count": 18,
   "metadata": {},
   "outputs": [],
   "source": [
    "traindf.to_parquet(f'./data/credit_card/lstm_train.parquet')\n",
    "testdf.to_parquet(f'./data/credit_card/lstm_test.parquet')\n",
    "gdf.to_parquet(f'./data/credit_card/lstm_gdf.parquet')"
   ]
  },
  {
   "cell_type": "markdown",
   "metadata": {
    "tags": []
   },
   "source": [
    "# Read Data"
   ]
  },
  {
   "cell_type": "markdown",
   "metadata": {},
   "source": [
    "In case the kernel is restarted, you can import the libraries at the top and continue from here."
   ]
  },
  {
   "cell_type": "code",
   "execution_count": 19,
   "metadata": {},
   "outputs": [],
   "source": [
    "traindf = cudf.read_parquet(f'./data/credit_card/lstm_train.parquet')\n",
    "testdf = cudf.read_parquet(f'./data/credit_card/lstm_test.parquet')\n",
    "gdf = cudf.read_parquet(f'./data/credit_card/lstm_gdf.parquet')\n",
    "\n"
   ]
  },
  {
   "cell_type": "code",
   "execution_count": 20,
   "metadata": {},
   "outputs": [],
   "source": [
    "CONTINUOUS_COLUMNS = sorted(['amount', 'hrs_since_last_txn',\n",
    "#                 'mean_card_amount', 'std_card_amount', 'card_counts',\n",
    "            ])\n",
    "CATEGORICAL_COLUMNS = sorted(['card', 'num_cards_per_user', 'year', 'month', 'day', 'hour', 'minute', 'use chip', 'merchant name', 'merchant city',\n",
    "            'merchant state', 'zip', 'mcc', 'merchant_city_state_zip', \n",
    "            'errors_Bad CVV', 'errors_Bad Card Number', 'errors_Bad Expiration', 'errors_Bad PIN',\n",
    "            'errors_Bad Zipcode', 'errors_Insufficient Balance', 'errors_Technical Glitch'\n",
    "           ])\n",
    "feature_cols = CONTINUOUS_COLUMNS + CATEGORICAL_COLUMNS\n",
    "LABEL_COLUMNS = ['is_fraud']\n",
    "\n",
    "BATCH_SIZE=512\n",
    "EPOCHS = 20\n",
    "LEARNING_RATE = 1e-5\n",
    "\n",
    "# change continuous and categorical cols to be same respective type for nvtabular.\n",
    "traindf[CATEGORICAL_COLUMNS] = traindf[CATEGORICAL_COLUMNS].astype(cp.int32)\n",
    "traindf[CONTINUOUS_COLUMNS]= traindf[CONTINUOUS_COLUMNS].astype(cp.float32)\n",
    "testdf[CATEGORICAL_COLUMNS] = testdf[CATEGORICAL_COLUMNS].astype(cp.int32)\n",
    "testdf[CONTINUOUS_COLUMNS]= testdf[CONTINUOUS_COLUMNS].astype(cp.float32)"
   ]
  },
  {
   "cell_type": "code",
   "execution_count": 21,
   "metadata": {},
   "outputs": [
    {
     "name": "stdout",
     "output_type": "stream",
     "text": [
      "card: 9\n",
      "day: 32\n",
      "errors_Bad CVV: 2\n",
      "errors_Bad Card Number: 2\n",
      "errors_Bad Expiration: 2\n",
      "errors_Bad PIN: 2\n",
      "errors_Bad Zipcode: 2\n",
      "errors_Insufficient Balance: 2\n",
      "errors_Technical Glitch: 2\n",
      "hour: 24\n",
      "mcc: 892\n",
      "merchant city: 13429\n",
      "merchant name: 100343\n",
      "merchant state: 224\n",
      "merchant_city_state_zip: 27514\n",
      "minute: 60\n",
      "month: 13\n",
      "num_cards_per_user: 10\n",
      "use chip: 3\n",
      "year: 30\n",
      "zip: 27322\n"
     ]
    }
   ],
   "source": [
    "import pickle\n",
    "with open(f'./data/mappings.pkl', 'rb') as f:\n",
    "    mappings = pickle.load(f)\n",
    "\n",
    "# calculate cardinality of categorical features\n",
    "cards = [max(gdf[col].nunique(), gdf[col].max() + 1) for col in CATEGORICAL_COLUMNS]\n",
    "for cat, card in zip(CATEGORICAL_COLUMNS, cards):\n",
    "    print(f'{cat}: {card}')"
   ]
  },
  {
   "cell_type": "code",
   "execution_count": 22,
   "metadata": {
    "ExecuteTime": {
     "end_time": "2021-08-05T16:58:09.059020Z",
     "start_time": "2021-08-05T16:58:09.054959Z"
    }
   },
   "outputs": [],
   "source": [
    "import nvtabular as nvt\n",
    "from nvtabular.loader.torch import TorchAsyncItr, DLDataLoader"
   ]
  },
  {
   "cell_type": "code",
   "execution_count": 23,
   "metadata": {},
   "outputs": [],
   "source": [
    "train_dataset = TorchAsyncItr(\n",
    "    nvt.Dataset(traindf),\n",
    "    cats=CATEGORICAL_COLUMNS,\n",
    "    conts=CONTINUOUS_COLUMNS,\n",
    "    labels=LABEL_COLUMNS,\n",
    "    batch_size=BATCH_SIZE,\n",
    "    device=DEVICE\n",
    ")\n",
    "\n",
    "train_loader = DLDataLoader(\n",
    "    train_dataset,\n",
    "    batch_size=None,\n",
    "    pin_memory=False,\n",
    "    num_workers=0\n",
    ")\n",
    "\n",
    "test_dataset = TorchAsyncItr(\n",
    "    nvt.Dataset(testdf),\n",
    "    cats=CATEGORICAL_COLUMNS,\n",
    "    conts=CONTINUOUS_COLUMNS,\n",
    "    labels=LABEL_COLUMNS,\n",
    "    batch_size=BATCH_SIZE,\n",
    "    device=DEVICE\n",
    ")\n",
    "\n",
    "test_loader = DLDataLoader(\n",
    "    train_dataset,\n",
    "    batch_size=None,\n",
    "    pin_memory=False,\n",
    "    num_workers=0\n",
    ")"
   ]
  },
  {
   "cell_type": "markdown",
   "metadata": {
    "tags": []
   },
   "source": [
    "# Utilities"
   ]
  },
  {
   "cell_type": "code",
   "execution_count": 24,
   "metadata": {},
   "outputs": [],
   "source": [
    "def save_checkpoint(model, optimizer, epoch: int, best_score, file_name, threshold, save_path: str, k_fold=0):\n",
    "    \"\"\"\n",
    "    Save checkpoint to pytorch .pt file.\n",
    "    Args:\n",
    "        model: Instance of Pytorch model.\n",
    "        optimizer: pytorch optimizer ex. torch.optim.Adam() instance\n",
    "        epoch: epoch number\n",
    "        best_score: model best score acccoring to appropriate metric.\n",
    "                    Can be multiple, just save as a dict. of {'metric': score}\n",
    "        k_fold: int or string for K-folds.\n",
    "        file_name (str): filename usually including the name of the model.:\n",
    "\n",
    "    Returns:\n",
    "\n",
    "    \"\"\"\n",
    "    checkpoint = {\n",
    "        'model': model.state_dict(),\n",
    "        'optimizer': optimizer.state_dict(),\n",
    "        'k_fold': k_fold,\n",
    "        'epoch': epoch,\n",
    "        'best_score': best_score,\n",
    "        'threshold': threshold\n",
    "    }\n",
    "    if not save_path:\n",
    "        save_path = '.'\n",
    "    os.makedirs(f'{save_path}/checkpoints/', exist_ok=True)\n",
    "\n",
    "    torch.save(checkpoint, f'{save_path}/checkpoints/{file_name}.pt')\n",
    "\n",
    "\n",
    "def load_checkpoint(file_name: str, model, device: str, save_path: str):\n",
    "    \"\"\"\n",
    "    Load Checkpoint from pytorch .pt file.\n",
    "\n",
    "    Args:\n",
    "        device: str\n",
    "        file_name (str): filename usually including the name of the model.\n",
    "        model_cls: (uninstantiated) class belonging to a custom nn.Module\n",
    "        **kwargs:\n",
    "\n",
    "    Returns:\n",
    "\n",
    "    \"\"\"\n",
    "    # instantiate the model and pass in input params as kwargs.\n",
    "    model = model.to(device)\n",
    "    if not save_path:\n",
    "        save_path = '.'\n",
    "    checkpoint = torch.load(f'{save_path}/checkpoints/{file_name}.pt')\n",
    "    model.load_state_dict(checkpoint['model'])\n",
    "    model.eval()\n",
    "    return model, checkpoint['threshold']\n",
    "\n",
    "def cupy2numpy(obj, use_cpu):\n",
    "    if use_cpu and isinstance(obj, cp._core.core.ndarray):\n",
    "        return obj.get()\n",
    "    elif use_cpu and isinstance(obj, cudf.core.series.Series):\n",
    "        return obj.to_array()\n",
    "    return obj"
   ]
  },
  {
   "cell_type": "code",
   "execution_count": 25,
   "metadata": {},
   "outputs": [],
   "source": [
    "def train_epoch(model, loader, optimizer, loss_func, metric, device, epoch=''):\n",
    "    model.train()\n",
    "    model.zero_grad()\n",
    "    train_loss = torch.zeros(len(loader), requires_grad=False, device=device)\n",
    "    train_metric = torch.zeros(len(loader), requires_grad=False, device=device)\n",
    "    batch = 0\n",
    "    pbar = tqdm(loader)\n",
    "    \n",
    "    train_logits = []\n",
    "    train_targets = []\n",
    "    \n",
    "    for x_cat, x_cont, target in pbar:\n",
    "        # make prediction\n",
    "        logits = model(x_cat, x_cont).squeeze()\n",
    "        \n",
    "        # calculate loss\n",
    "        loss = loss_func(logits, target)  # criterion\n",
    "        loss.backward()\n",
    "        optimizer.step()\n",
    "        for param in model.parameters():\n",
    "            param.grad = None\n",
    "        \n",
    "        train_loss[batch] = loss.detach()\n",
    "        train_metric[batch] = metric(logits, target)\n",
    "        \n",
    "        train_targets.append(target.detach())\n",
    "        train_logits.append(logits.detach())\n",
    "        \n",
    "        batch += 1\n",
    "        if batch == len(loader) or not batch %100:\n",
    "            pbar.set_description(f'Epoch: {epoch} mean loss {train_loss[:batch].mean().cpu(): 0.5f}, ' \n",
    "                                 f'mean acc: {train_metric[:batch].mean().cpu(): 0.5f}')\n",
    "        \n",
    "    return train_loss, train_logits, train_targets\n",
    "\n",
    "def val_epoch(model, loader, loss_func, device):\n",
    "    model.eval()\n",
    "    val_logits = []\n",
    "    val_targets = []\n",
    "    val_loss = torch.zeros(len(loader), requires_grad=False, device=device)\n",
    "    \n",
    "    with torch.no_grad():\n",
    "        batch=0\n",
    "        for x_cat, x_cont, target in tqdm(iter(loader)):\n",
    "            # make prediction\n",
    "            logits = model(x_cat, x_cont).squeeze()\n",
    "            \n",
    "            # calculate loss\n",
    "            loss = loss_func(logits, target)  # criterion\n",
    "            \n",
    "            # save some data\n",
    "            val_targets.append(target.detach())\n",
    "            val_logits.append(logits.detach())\n",
    "            val_loss[batch] = loss.detach()\n",
    "            batch+=1\n",
    "        val_loss = val_loss.mean()\n",
    "    return val_loss, val_logits, val_targets\n",
    "\n",
    "\n",
    "def calc_metrics(model, _targets, _logits, tst_loader, loss_func, device, use_cpu):\n",
    "    # scoring on train\n",
    "    if not use_cpu:\n",
    "        _targets = cp.asarray(torch.cat(_targets)).astype(int)\n",
    "        _probs = cp.asarray(torch.sigmoid(torch.cat(_logits)))\n",
    "    else:\n",
    "        _targets = np.array(torch.cat(_targets)).astype(int)\n",
    "        _probs = np.array(torch.sigmoid(torch.cat(_logits)))\n",
    "\n",
    "    # # calc precision, recall and find threshold for maximum F1 score on train.\n",
    "    precision, recall, thresholds = precision_recall_curve(_targets, _probs)\n",
    "    \n",
    "    threshold_idx = argmax((2 * precision * recall) / (precision + recall))\n",
    "    threshold = thresholds[threshold_idx]\n",
    "\n",
    "    # now on test set\n",
    "    _, _logits, _targets = val_epoch(model, tst_loader, loss_func, device)\n",
    "    if not use_cpu:\n",
    "        _targets = cp.asarray(torch.cat(_targets)).astype(int)\n",
    "        _probs = cp.asarray(torch.sigmoid(torch.cat(_logits)))\n",
    "    else:\n",
    "        _targets = np.array(torch.cat(_targets)).astype(int)\n",
    "        _probs = np.array(torch.sigmoid(torch.cat(_logits)))\n",
    "    \n",
    "    precision, recall, thresholds = precision_recall_curve(_targets, _probs)\n",
    "    # find threshold index closest to threshold value on train set.\n",
    "    \n",
    "    if not use_cpu:\n",
    "        threshold_idx = cp.argmin(cp.abs(thresholds - threshold))\n",
    "    else:\n",
    "        threshold_idx = np.argmin(np.abs(thresholds - threshold))\n",
    "    \n",
    "    pred_labels = (_probs >= threshold).astype(int)\n",
    "\n",
    "    auc_sc = roc_auc_score(_targets, _probs)\n",
    "    acc_sc = accuracy_score(_targets, pred_labels)\n",
    "    f1_sc = (2 * precision[threshold_idx] * recall[threshold_idx]) / (precision[threshold_idx] + recall[threshold_idx])\n",
    "    conf_mat = confusion_matrix(_targets, pred_labels)\n",
    "    print(f'F1: {f1_sc.item(): 0.4f} '\n",
    "          f'AUC: {auc_sc: 0.4f} '\n",
    "          f'Pr: {precision[threshold_idx].item(): 0.4f} '\n",
    "          f'Rec: {recall[threshold_idx].item(): 0.4f} ', \n",
    "          f'Acc: {acc_sc: 0.4f} '\n",
    "          f'Thresh: {threshold.item(): 0.4f} '\n",
    "          f'Pred Def: {pred_labels.sum().item()} '\n",
    "          f'Actual: {int(_targets.sum())} '\n",
    "          )\n",
    "    print('Confusion Matrix: \\n:', conf_mat)\n",
    "    return f1_sc.item(), threshold.item()\n",
    "    \n",
    "    \n",
    "def test_em(model, loader, loss_func, threshold, device, use_cpu, save_path: str = None):\n",
    "    sns.set()\n",
    "    test_loss, test_logits, test_targets = val_epoch(model, loader, loss_func, device)\n",
    "    \n",
    "    # scoring\n",
    "    if not use_cpu:\n",
    "        test_targets = cp.asarray(torch.cat(test_targets)).astype(int)\n",
    "        test_probs = cp.asarray(torch.sigmoid(torch.cat(test_logits)))\n",
    "    else:\n",
    "        test_targets = torch.cat(test_targets).numpy().astype(int)\n",
    "        test_probs = torch.sigmoid(torch.cat(test_logits)).numpy()\n",
    "    pred_labels = (test_probs >= threshold).astype(int)\n",
    "\n",
    "    precision, recall, thresholds = precision_recall_curve(test_targets, test_probs)\n",
    "    \n",
    "    if not use_cpu:\n",
    "        threshold_idx = cp.argmin(cp.abs(thresholds - threshold))\n",
    "    else:\n",
    "        threshold_idx = np.argmin(np.abs(thresholds - threshold))\n",
    "    \n",
    "    auc_sc = roc_auc_score(test_targets, test_probs)\n",
    "    acc_sc = accuracy_score(test_targets, pred_labels)\n",
    "    f1_sc = (2 * precision[threshold_idx] * recall[threshold_idx]) / (precision[threshold_idx] + recall[threshold_idx])\n",
    "    conf_mat = confusion_matrix(test_targets, pred_labels)\n",
    "    \n",
    "    auprc= auc(cupy2numpy(recall, not use_cpu), cupy2numpy(precision, not use_cpu))\n",
    "\n",
    "    print(f'Thresh: {threshold: 0.4f}', f'Prec: {precision[threshold_idx].item(): 0.4f}',\n",
    "          f'Rec: {recall[threshold_idx].item(): 0.4f}', f'Pred Def: {pred_labels.sum()}',\n",
    "          f'Actual: {int(test_targets.sum())}', f'AUC: {auc_sc: 0.4f}',\n",
    "          f'Acc: {acc_sc: 0.4f}',\n",
    "          f'F1: {f1_sc.item(): 0.4f}',\n",
    "          f'AUPRC: {auprc: 0.4f}',\n",
    "         )\n",
    "    print('Confusion Matrix: \\n:', conf_mat)\n",
    "    \n",
    "    fig, ax = plt.subplots(1, 2, figsize=(12, 6))\n",
    "    no_skill = cupy2numpy(test_targets.mean(), not use_cpu) \n",
    "    ax[0].plot(cupy2numpy(recall, not use_cpu), cupy2numpy(precision, not use_cpu), color='darkorange', lw=1, label='PR curve (area = %0.2f)' % auprc)\n",
    "    ax[0].plot([0,1], [no_skill, no_skill], color='navy', linestyle='--', label='No Skill')\n",
    "    ax[0].plot(cupy2numpy(recall[threshold_idx], not use_cpu), cupy2numpy(precision[threshold_idx], not use_cpu), 'ro', label='F1 threshold')\n",
    "    ax[0].set_xlabel('Recall')\n",
    "    ax[0].set_ylabel('Precision')\n",
    "    ax[0].set_xlim([-0.02, 1.02])\n",
    "    ax[0].set_ylim([-0.02, 1.02])\n",
    "    ax[0].set_title('Precision-Recall curve')\n",
    "    ax[0].legend()\n",
    "    \n",
    "    fpr, tpr, threshold = roc_curve(cupy2numpy(test_targets, not use_cpu), cupy2numpy(test_probs, not use_cpu))\n",
    "    roc_auc = auc(fpr, tpr)\n",
    "\n",
    "    ax[1].set_title('Receiver Operating Characteristic')\n",
    "    ax[1].plot(fpr, tpr, 'b', label = 'ROC curve (area = %0.2f)' % roc_auc)\n",
    "    ax[1].legend(loc = 'lower right')\n",
    "    ax[1].plot([0, 1], [0, 1],'r--')\n",
    "    ax[1].set_xlim([-0.02, 1.02])\n",
    "    ax[1].set_ylim([-0.02, 1.02])\n",
    "    ax[1].set_ylabel('True Positive Rate')\n",
    "    ax[1].set_xlabel('False Positive Rate')   \n",
    "    \n",
    "    plt.tight_layout()\n",
    "    if save_path and isinstance(save_path, str):\n",
    "        plt.savefig(save_path, dpi=600)\n",
    "    print(\"Classification Report for Pytorch Classifier: \\n\",\n",
    "          classification_report(cupy2numpy(test_targets, not use_cpu), cupy2numpy(pred_labels, not use_cpu)))\n",
    "    return test_targets, pred_labels"
   ]
  },
  {
   "cell_type": "markdown",
   "metadata": {
    "tags": []
   },
   "source": [
    "# Model"
   ]
  },
  {
   "cell_type": "code",
   "execution_count": 26,
   "metadata": {
    "ExecuteTime": {
     "end_time": "2021-08-05T16:14:23.700172Z",
     "start_time": "2021-08-05T16:14:23.693356Z"
    }
   },
   "outputs": [],
   "source": [
    "import torch\n",
    "import torch.nn as nn\n",
    "import torch.optim as optim\n",
    "from torch.nn import functional as F\n",
    "from torch.utils.data import DataLoader, Dataset"
   ]
  },
  {
   "cell_type": "code",
   "execution_count": 27,
   "metadata": {
    "ExecuteTime": {
     "end_time": "2021-08-05T16:56:47.195742Z",
     "start_time": "2021-08-05T16:56:47.187212Z"
    }
   },
   "outputs": [],
   "source": [
    "class TabLSTM(nn.Module):\n",
    "    def __init__(self, cat_cards, numer_dims, hidden_size=128):\n",
    "        \"\"\"\n",
    "        cat_cards (list): list of integers, where each integer is the cardinality of the SORTED column names\n",
    "        numer_dims (int): number of numerical dimensions\n",
    "        \"\"\"\n",
    "        super(TabLSTM, self).__init__()\n",
    "        \n",
    "        self.num_cats = len(cat_cards)\n",
    "        self.hidden_size = hidden_size\n",
    "        self.embeddings = nn.ModuleList([nn.Embedding(cat_card, min(50, cat_card//2 + 1)) for\n",
    "                                        cat_card in cat_cards])\n",
    "        \n",
    "        total_embed_dims = sum(i.embedding_dim for i in self.embeddings)\n",
    "        input_size = total_embed_dims + numer_dims\n",
    "        \n",
    "        self.lstm = nn.LSTM(input_size, hidden_size, num_layers=1, batch_first=True)\n",
    "        self.linear = nn.Linear(hidden_size, 1)\n",
    "        \n",
    "#         nn.init.orthogonal_(self.lstm.weight_ih_l0)\n",
    "#         nn.init.orthogonal_(self.lstm.weight_hh_l0)\n",
    "#         nn.init.zeros_(self.lstm.bias_ih_l0)\n",
    "#         nn.init.ones_(self.lstm.bias_ih_10[hidden_size: hidden_size*2])\n",
    "#         nn.init.zeros_(self.lstm.bias_hh_l0)\n",
    "#         nn.init.ones_(self.lstm.bias_hh_10[hidden_size: hidden_size*2])\n",
    "    def forward(self, cat_inputs, numer_inputs):\n",
    "        \n",
    "        inputs = torch.cat([self.embeddings[col](cat_inputs[:, col]) \n",
    "                            for col in range(self.num_cats)] + [numer_inputs], dim=1)\n",
    "        batch, d = inputs.shape\n",
    "        \n",
    "        x, _ = self.lstm(inputs.reshape(batch, 1, d))\n",
    "#         print('xshape', x.shape, x.reshape(512, 128).shape)\n",
    "        x = self.linear(x.reshape(batch, self.hidden_size))\n",
    "#         print('xsize', x.shape)\n",
    "        return x"
   ]
  },
  {
   "cell_type": "code",
   "execution_count": 28,
   "metadata": {},
   "outputs": [
    {
     "name": "stdout",
     "output_type": "stream",
     "text": [
      "cuda:0\n",
      "TabLSTM(\n",
      "  (embeddings): ModuleList(\n",
      "    (0): Embedding(9, 5)\n",
      "    (1): Embedding(32, 17)\n",
      "    (2): Embedding(2, 2)\n",
      "    (3): Embedding(2, 2)\n",
      "    (4): Embedding(2, 2)\n",
      "    (5): Embedding(2, 2)\n",
      "    (6): Embedding(2, 2)\n",
      "    (7): Embedding(2, 2)\n",
      "    (8): Embedding(2, 2)\n",
      "    (9): Embedding(24, 13)\n",
      "    (10): Embedding(892, 50)\n",
      "    (11): Embedding(13429, 50)\n",
      "    (12): Embedding(100343, 50)\n",
      "    (13): Embedding(224, 50)\n",
      "    (14): Embedding(27514, 50)\n",
      "    (15): Embedding(60, 31)\n",
      "    (16): Embedding(13, 7)\n",
      "    (17): Embedding(10, 6)\n",
      "    (18): Embedding(3, 2)\n",
      "    (19): Embedding(30, 16)\n",
      "    (20): Embedding(27322, 50)\n",
      "  )\n",
      "  (lstm): LSTM(413, 128, batch_first=True)\n",
      "  (linear): Linear(in_features=128, out_features=1, bias=True)\n",
      ")\n"
     ]
    }
   ],
   "source": [
    "device = torch.device(f\"cuda:{DEVICE}\" if torch.cuda.is_available() else \"cpu\")\n",
    "# device='cpu'\n",
    "print(device)\n",
    "\n",
    "model = TabLSTM(cat_cards=cards, numer_dims=len(CONTINUOUS_COLUMNS)).to(device)\n",
    "\n",
    "print(model)\n",
    "criterion = nn.BCEWithLogitsLoss() # pos_weight=torch.tensor(25, device=device)\n",
    "optimizer = optim.Adam(model.parameters(), lr=LEARNING_RATE)"
   ]
  },
  {
   "cell_type": "markdown",
   "metadata": {},
   "source": [
    "# Training and Results"
   ]
  },
  {
   "cell_type": "code",
   "execution_count": 29,
   "metadata": {},
   "outputs": [
    {
     "data": {
      "application/vnd.jupyter.widget-view+json": {
       "model_id": "508b7d20a4b24ce2a86661c4de586346",
       "version_major": 2,
       "version_minor": 0
      },
      "text/plain": [
       "  0%|          | 0/45250 [00:00<?, ?it/s]"
      ]
     },
     "metadata": {},
     "output_type": "display_data"
    },
    {
     "data": {
      "application/vnd.jupyter.widget-view+json": {
       "model_id": "8a2efc5a76fd4a63a498d507040e2112",
       "version_major": 2,
       "version_minor": 0
      },
      "text/plain": [
       "0it [00:00, ?it/s]"
      ]
     },
     "metadata": {},
     "output_type": "display_data"
    },
    {
     "name": "stdout",
     "output_type": "stream",
     "text": [
      "F1:  0.2211 AUC:  0.9507 Pr:  0.5563 Rec:  0.1380  Acc:  0.9988 Thresh:  0.5455 Pred Def: 7170 Actual: 28913 \n",
      "Confusion Matrix: \n",
      ": [[23135461     3181]\n",
      " [   24924     3989]]\n"
     ]
    },
    {
     "data": {
      "application/vnd.jupyter.widget-view+json": {
       "model_id": "19aa37ba15fd4f39b01715c116a9a388",
       "version_major": 2,
       "version_minor": 0
      },
      "text/plain": [
       "  0%|          | 0/45250 [00:00<?, ?it/s]"
      ]
     },
     "metadata": {},
     "output_type": "display_data"
    },
    {
     "data": {
      "application/vnd.jupyter.widget-view+json": {
       "model_id": "282ee444eccd41b7b669329ca935e18e",
       "version_major": 2,
       "version_minor": 0
      },
      "text/plain": [
       "0it [00:00, ?it/s]"
      ]
     },
     "metadata": {},
     "output_type": "display_data"
    },
    {
     "name": "stdout",
     "output_type": "stream",
     "text": [
      "F1:  0.5848 AUC:  0.9689 Pr:  0.7785 Rec:  0.4683  Acc:  0.9992 Thresh:  0.2859 Pred Def: 17392 Actual: 28913 \n",
      "Confusion Matrix: \n",
      ": [[23134789     3853]\n",
      " [   15374    13539]]\n"
     ]
    },
    {
     "data": {
      "application/vnd.jupyter.widget-view+json": {
       "model_id": "6f9b85a76fdf496682465457ff6b4ca5",
       "version_major": 2,
       "version_minor": 0
      },
      "text/plain": [
       "  0%|          | 0/45250 [00:00<?, ?it/s]"
      ]
     },
     "metadata": {},
     "output_type": "display_data"
    },
    {
     "data": {
      "application/vnd.jupyter.widget-view+json": {
       "model_id": "20edacf04a694319aef53c06c84647a7",
       "version_major": 2,
       "version_minor": 0
      },
      "text/plain": [
       "0it [00:00, ?it/s]"
      ]
     },
     "metadata": {},
     "output_type": "display_data"
    },
    {
     "name": "stdout",
     "output_type": "stream",
     "text": [
      "F1:  0.6869 AUC:  0.9778 Pr:  0.8222 Rec:  0.5898  Acc:  0.9993 Thresh:  0.3640 Pred Def: 20742 Actual: 28913 \n",
      "Confusion Matrix: \n",
      ": [[23134953     3689]\n",
      " [   11860    17053]]\n"
     ]
    },
    {
     "data": {
      "application/vnd.jupyter.widget-view+json": {
       "model_id": "bb7e5ccad48d4c9d9c2b79b07db66ebd",
       "version_major": 2,
       "version_minor": 0
      },
      "text/plain": [
       "  0%|          | 0/45250 [00:00<?, ?it/s]"
      ]
     },
     "metadata": {},
     "output_type": "display_data"
    },
    {
     "data": {
      "application/vnd.jupyter.widget-view+json": {
       "model_id": "731a849956d24f41a0dc7e38e4bb5c1c",
       "version_major": 2,
       "version_minor": 0
      },
      "text/plain": [
       "0it [00:00, ?it/s]"
      ]
     },
     "metadata": {},
     "output_type": "display_data"
    },
    {
     "name": "stdout",
     "output_type": "stream",
     "text": [
      "F1:  0.7347 AUC:  0.9826 Pr:  0.8365 Rec:  0.6549  Acc:  0.9994 Thresh:  0.3355 Pred Def: 22638 Actual: 28913 \n",
      "Confusion Matrix: \n",
      ": [[23134940     3702]\n",
      " [    9977    18936]]\n"
     ]
    },
    {
     "data": {
      "application/vnd.jupyter.widget-view+json": {
       "model_id": "c5705bbd62b24b28a67eff70ce8bf36a",
       "version_major": 2,
       "version_minor": 0
      },
      "text/plain": [
       "  0%|          | 0/45250 [00:00<?, ?it/s]"
      ]
     },
     "metadata": {},
     "output_type": "display_data"
    },
    {
     "data": {
      "application/vnd.jupyter.widget-view+json": {
       "model_id": "7464b46217574750802e02e27484e8a9",
       "version_major": 2,
       "version_minor": 0
      },
      "text/plain": [
       "0it [00:00, ?it/s]"
      ]
     },
     "metadata": {},
     "output_type": "display_data"
    },
    {
     "name": "stdout",
     "output_type": "stream",
     "text": [
      "F1:  0.7497 AUC:  0.9855 Pr:  0.8499 Rec:  0.6707  Acc:  0.9994 Thresh:  0.3809 Pred Def: 22819 Actual: 28913 \n",
      "Confusion Matrix: \n",
      ": [[23135216     3426]\n",
      " [    9520    19393]]\n"
     ]
    },
    {
     "data": {
      "application/vnd.jupyter.widget-view+json": {
       "model_id": "f3525d2b94844fa58e78428ca4846443",
       "version_major": 2,
       "version_minor": 0
      },
      "text/plain": [
       "  0%|          | 0/45250 [00:00<?, ?it/s]"
      ]
     },
     "metadata": {},
     "output_type": "display_data"
    },
    {
     "data": {
      "application/vnd.jupyter.widget-view+json": {
       "model_id": "1e5119879ce24561a826af87282598b6",
       "version_major": 2,
       "version_minor": 0
      },
      "text/plain": [
       "0it [00:00, ?it/s]"
      ]
     },
     "metadata": {},
     "output_type": "display_data"
    },
    {
     "name": "stdout",
     "output_type": "stream",
     "text": [
      "F1:  0.7618 AUC:  0.9875 Pr:  0.8577 Rec:  0.6852  Acc:  0.9995 Thresh:  0.3697 Pred Def: 23098 Actual: 28913 \n",
      "Confusion Matrix: \n",
      ": [[23135356     3286]\n",
      " [    9101    19812]]\n"
     ]
    },
    {
     "data": {
      "application/vnd.jupyter.widget-view+json": {
       "model_id": "36eb7931bf7a4eb8978aa59cf1608f68",
       "version_major": 2,
       "version_minor": 0
      },
      "text/plain": [
       "  0%|          | 0/45250 [00:00<?, ?it/s]"
      ]
     },
     "metadata": {},
     "output_type": "display_data"
    },
    {
     "data": {
      "application/vnd.jupyter.widget-view+json": {
       "model_id": "7f09883fe87247adb612d3f2cbde8d10",
       "version_major": 2,
       "version_minor": 0
      },
      "text/plain": [
       "0it [00:00, ?it/s]"
      ]
     },
     "metadata": {},
     "output_type": "display_data"
    },
    {
     "name": "stdout",
     "output_type": "stream",
     "text": [
      "F1:  0.7691 AUC:  0.9889 Pr:  0.8637 Rec:  0.6931  Acc:  0.9995 Thresh:  0.3614 Pred Def: 23200 Actual: 28913 \n",
      "Confusion Matrix: \n",
      ": [[23135481     3161]\n",
      " [    8874    20039]]\n"
     ]
    },
    {
     "data": {
      "application/vnd.jupyter.widget-view+json": {
       "model_id": "7613f9ab255a4acbb9753503c0e90cee",
       "version_major": 2,
       "version_minor": 0
      },
      "text/plain": [
       "  0%|          | 0/45250 [00:00<?, ?it/s]"
      ]
     },
     "metadata": {},
     "output_type": "display_data"
    },
    {
     "data": {
      "application/vnd.jupyter.widget-view+json": {
       "model_id": "b4eeedc822cc49f89c891d441a91eedf",
       "version_major": 2,
       "version_minor": 0
      },
      "text/plain": [
       "0it [00:00, ?it/s]"
      ]
     },
     "metadata": {},
     "output_type": "display_data"
    },
    {
     "name": "stdout",
     "output_type": "stream",
     "text": [
      "F1:  0.7753 AUC:  0.9900 Pr:  0.8710 Rec:  0.6986  Acc:  0.9995 Thresh:  0.3666 Pred Def: 23193 Actual: 28913 \n",
      "Confusion Matrix: \n",
      ": [[23135649     2993]\n",
      " [    8713    20200]]\n"
     ]
    },
    {
     "data": {
      "application/vnd.jupyter.widget-view+json": {
       "model_id": "cac19410b06a404ab56a00f445309005",
       "version_major": 2,
       "version_minor": 0
      },
      "text/plain": [
       "  0%|          | 0/45250 [00:00<?, ?it/s]"
      ]
     },
     "metadata": {},
     "output_type": "display_data"
    },
    {
     "data": {
      "application/vnd.jupyter.widget-view+json": {
       "model_id": "ab49ca5cb597412fbcba773290323053",
       "version_major": 2,
       "version_minor": 0
      },
      "text/plain": [
       "0it [00:00, ?it/s]"
      ]
     },
     "metadata": {},
     "output_type": "display_data"
    },
    {
     "name": "stdout",
     "output_type": "stream",
     "text": [
      "F1:  0.7816 AUC:  0.9908 Pr:  0.8837 Rec:  0.7006  Acc:  0.9995 Thresh:  0.3948 Pred Def: 22920 Actual: 28913 \n",
      "Confusion Matrix: \n",
      ": [[23135978     2664]\n",
      " [    8657    20256]]\n"
     ]
    },
    {
     "data": {
      "application/vnd.jupyter.widget-view+json": {
       "model_id": "11a66b17560c412a844d346a1f858dab",
       "version_major": 2,
       "version_minor": 0
      },
      "text/plain": [
       "  0%|          | 0/45250 [00:00<?, ?it/s]"
      ]
     },
     "metadata": {},
     "output_type": "display_data"
    },
    {
     "data": {
      "application/vnd.jupyter.widget-view+json": {
       "model_id": "d452e1070e0740189b55986d2f3adbac",
       "version_major": 2,
       "version_minor": 0
      },
      "text/plain": [
       "0it [00:00, ?it/s]"
      ]
     },
     "metadata": {},
     "output_type": "display_data"
    },
    {
     "name": "stdout",
     "output_type": "stream",
     "text": [
      "F1:  0.7866 AUC:  0.9914 Pr:  0.8913 Rec:  0.7039  Acc:  0.9995 Thresh:  0.3983 Pred Def: 22834 Actual: 28913 \n",
      "Confusion Matrix: \n",
      ": [[23136161     2481]\n",
      " [    8560    20353]]\n"
     ]
    },
    {
     "data": {
      "application/vnd.jupyter.widget-view+json": {
       "model_id": "16bedb4388a24c6fae561a3f446b217c",
       "version_major": 2,
       "version_minor": 0
      },
      "text/plain": [
       "  0%|          | 0/45250 [00:00<?, ?it/s]"
      ]
     },
     "metadata": {},
     "output_type": "display_data"
    },
    {
     "data": {
      "application/vnd.jupyter.widget-view+json": {
       "model_id": "bb0324c587714dbaa9a3880c6f1f4adf",
       "version_major": 2,
       "version_minor": 0
      },
      "text/plain": [
       "0it [00:00, ?it/s]"
      ]
     },
     "metadata": {},
     "output_type": "display_data"
    },
    {
     "name": "stdout",
     "output_type": "stream",
     "text": [
      "F1:  0.7901 AUC:  0.9919 Pr:  0.8936 Rec:  0.7081  Acc:  0.9995 Thresh:  0.3807 Pred Def: 22913 Actual: 28913 \n",
      "Confusion Matrix: \n",
      ": [[23136203     2439]\n",
      " [    8439    20474]]\n"
     ]
    },
    {
     "data": {
      "application/vnd.jupyter.widget-view+json": {
       "model_id": "4044dea8ceb84fe2a8dbdc600237866a",
       "version_major": 2,
       "version_minor": 0
      },
      "text/plain": [
       "  0%|          | 0/45250 [00:00<?, ?it/s]"
      ]
     },
     "metadata": {},
     "output_type": "display_data"
    },
    {
     "data": {
      "application/vnd.jupyter.widget-view+json": {
       "model_id": "85fa4d4ce9184d25a4ea25db26c9891e",
       "version_major": 2,
       "version_minor": 0
      },
      "text/plain": [
       "0it [00:00, ?it/s]"
      ]
     },
     "metadata": {},
     "output_type": "display_data"
    },
    {
     "name": "stdout",
     "output_type": "stream",
     "text": [
      "F1:  0.7942 AUC:  0.9924 Pr:  0.9007 Rec:  0.7103  Acc:  0.9995 Thresh:  0.3891 Pred Def: 22798 Actual: 28913 \n",
      "Confusion Matrix: \n",
      ": [[23136380     2262]\n",
      " [    8377    20536]]\n"
     ]
    },
    {
     "data": {
      "application/vnd.jupyter.widget-view+json": {
       "model_id": "6cfe653f55434df69de54726735caa68",
       "version_major": 2,
       "version_minor": 0
      },
      "text/plain": [
       "  0%|          | 0/45250 [00:00<?, ?it/s]"
      ]
     },
     "metadata": {},
     "output_type": "display_data"
    },
    {
     "data": {
      "application/vnd.jupyter.widget-view+json": {
       "model_id": "367446b42ab14a75be86dce39bc0e855",
       "version_major": 2,
       "version_minor": 0
      },
      "text/plain": [
       "0it [00:00, ?it/s]"
      ]
     },
     "metadata": {},
     "output_type": "display_data"
    },
    {
     "name": "stdout",
     "output_type": "stream",
     "text": [
      "F1:  0.7967 AUC:  0.9927 Pr:  0.9046 Rec:  0.7118  Acc:  0.9995 Thresh:  0.3948 Pred Def: 22749 Actual: 28913 \n",
      "Confusion Matrix: \n",
      ": [[23136472     2170]\n",
      " [    8334    20579]]\n"
     ]
    },
    {
     "data": {
      "application/vnd.jupyter.widget-view+json": {
       "model_id": "72b8bac579e34f34a066ed0c4ba7ea65",
       "version_major": 2,
       "version_minor": 0
      },
      "text/plain": [
       "  0%|          | 0/45250 [00:00<?, ?it/s]"
      ]
     },
     "metadata": {},
     "output_type": "display_data"
    },
    {
     "data": {
      "application/vnd.jupyter.widget-view+json": {
       "model_id": "e8a5865010a84668948e7733ab24398c",
       "version_major": 2,
       "version_minor": 0
      },
      "text/plain": [
       "0it [00:00, ?it/s]"
      ]
     },
     "metadata": {},
     "output_type": "display_data"
    },
    {
     "name": "stdout",
     "output_type": "stream",
     "text": [
      "F1:  0.7988 AUC:  0.9930 Pr:  0.9070 Rec:  0.7136  Acc:  0.9996 Thresh:  0.3895 Pred Def: 22748 Actual: 28913 \n",
      "Confusion Matrix: \n",
      ": [[23136527     2115]\n",
      " [    8280    20633]]\n"
     ]
    },
    {
     "data": {
      "application/vnd.jupyter.widget-view+json": {
       "model_id": "3493bf845994437e8c86be6e0e85479c",
       "version_major": 2,
       "version_minor": 0
      },
      "text/plain": [
       "  0%|          | 0/45250 [00:00<?, ?it/s]"
      ]
     },
     "metadata": {},
     "output_type": "display_data"
    },
    {
     "data": {
      "application/vnd.jupyter.widget-view+json": {
       "model_id": "81f817a3eb21444f9489250245e0f3c0",
       "version_major": 2,
       "version_minor": 0
      },
      "text/plain": [
       "0it [00:00, ?it/s]"
      ]
     },
     "metadata": {},
     "output_type": "display_data"
    },
    {
     "name": "stdout",
     "output_type": "stream",
     "text": [
      "F1:  0.8028 AUC:  0.9933 Pr:  0.9184 Rec:  0.7130  Acc:  0.9996 Thresh:  0.4300 Pred Def: 22446 Actual: 28913 \n",
      "Confusion Matrix: \n",
      ": [[23136811     1831]\n",
      " [    8298    20615]]\n"
     ]
    },
    {
     "data": {
      "application/vnd.jupyter.widget-view+json": {
       "model_id": "07537e5a0a10436696cb4a39e7b94232",
       "version_major": 2,
       "version_minor": 0
      },
      "text/plain": [
       "  0%|          | 0/45250 [00:00<?, ?it/s]"
      ]
     },
     "metadata": {},
     "output_type": "display_data"
    },
    {
     "data": {
      "application/vnd.jupyter.widget-view+json": {
       "model_id": "3381f4bebb2d4006bd28b428da2b676f",
       "version_major": 2,
       "version_minor": 0
      },
      "text/plain": [
       "0it [00:00, ?it/s]"
      ]
     },
     "metadata": {},
     "output_type": "display_data"
    },
    {
     "name": "stdout",
     "output_type": "stream",
     "text": [
      "F1:  0.8045 AUC:  0.9936 Pr:  0.9191 Rec:  0.7152  Acc:  0.9996 Thresh:  0.4218 Pred Def: 22500 Actual: 28913 \n",
      "Confusion Matrix: \n",
      ": [[23136822     1820]\n",
      " [    8233    20680]]\n"
     ]
    },
    {
     "data": {
      "application/vnd.jupyter.widget-view+json": {
       "model_id": "b2ca538fa1104c569afdb70180758037",
       "version_major": 2,
       "version_minor": 0
      },
      "text/plain": [
       "  0%|          | 0/45250 [00:00<?, ?it/s]"
      ]
     },
     "metadata": {},
     "output_type": "display_data"
    },
    {
     "data": {
      "application/vnd.jupyter.widget-view+json": {
       "model_id": "c85a7ce7326f455f9aed57f919de8dae",
       "version_major": 2,
       "version_minor": 0
      },
      "text/plain": [
       "0it [00:00, ?it/s]"
      ]
     },
     "metadata": {},
     "output_type": "display_data"
    },
    {
     "name": "stdout",
     "output_type": "stream",
     "text": [
      "F1:  0.8062 AUC:  0.9938 Pr:  0.9191 Rec:  0.7179  Acc:  0.9996 Thresh:  0.4137 Pred Def: 22586 Actual: 28913 \n",
      "Confusion Matrix: \n",
      ": [[23136814     1828]\n",
      " [    8155    20758]]\n"
     ]
    },
    {
     "data": {
      "application/vnd.jupyter.widget-view+json": {
       "model_id": "0cc33aa3286e4f28a62f2a517fd491fa",
       "version_major": 2,
       "version_minor": 0
      },
      "text/plain": [
       "  0%|          | 0/45250 [00:00<?, ?it/s]"
      ]
     },
     "metadata": {},
     "output_type": "display_data"
    },
    {
     "data": {
      "application/vnd.jupyter.widget-view+json": {
       "model_id": "fa29f6955a8b4cacbe738c415fb6379e",
       "version_major": 2,
       "version_minor": 0
      },
      "text/plain": [
       "0it [00:00, ?it/s]"
      ]
     },
     "metadata": {},
     "output_type": "display_data"
    },
    {
     "name": "stdout",
     "output_type": "stream",
     "text": [
      "F1:  0.8051 AUC:  0.9940 Pr:  0.9085 Rec:  0.7228  Acc:  0.9996 Thresh:  0.3764 Pred Def: 23004 Actual: 28913 \n",
      "Confusion Matrix: \n",
      ": [[23136536     2106]\n",
      " [    8015    20898]]\n"
     ]
    },
    {
     "data": {
      "application/vnd.jupyter.widget-view+json": {
       "model_id": "9914ed401f46445e97a50b4eaced0763",
       "version_major": 2,
       "version_minor": 0
      },
      "text/plain": [
       "  0%|          | 0/45250 [00:00<?, ?it/s]"
      ]
     },
     "metadata": {},
     "output_type": "display_data"
    },
    {
     "data": {
      "application/vnd.jupyter.widget-view+json": {
       "model_id": "09085966226b419ebdf82dfc45a07159",
       "version_major": 2,
       "version_minor": 0
      },
      "text/plain": [
       "0it [00:00, ?it/s]"
      ]
     },
     "metadata": {},
     "output_type": "display_data"
    },
    {
     "name": "stdout",
     "output_type": "stream",
     "text": [
      "F1:  0.8104 AUC:  0.9942 Pr:  0.9251 Rec:  0.7210  Acc:  0.9996 Thresh:  0.4260 Pred Def: 22533 Actual: 28913 \n",
      "Confusion Matrix: \n",
      ": [[23136954     1688]\n",
      " [    8068    20845]]\n"
     ]
    },
    {
     "data": {
      "application/vnd.jupyter.widget-view+json": {
       "model_id": "f3dec1d5b65341b4a1fb631072f1a7ab",
       "version_major": 2,
       "version_minor": 0
      },
      "text/plain": [
       "  0%|          | 0/45250 [00:00<?, ?it/s]"
      ]
     },
     "metadata": {},
     "output_type": "display_data"
    },
    {
     "data": {
      "application/vnd.jupyter.widget-view+json": {
       "model_id": "aca039c35f3045dcb178356cbfb64b3e",
       "version_major": 2,
       "version_minor": 0
      },
      "text/plain": [
       "0it [00:00, ?it/s]"
      ]
     },
     "metadata": {},
     "output_type": "display_data"
    },
    {
     "name": "stdout",
     "output_type": "stream",
     "text": [
      "F1:  0.8084 AUC:  0.9944 Pr:  0.9097 Rec:  0.7274  Acc:  0.9996 Thresh:  0.3799 Pred Def: 23116 Actual: 28913 \n",
      "Confusion Matrix: \n",
      ": [[23136556     2086]\n",
      " [    7883    21030]]\n",
      "Total time: 6503.9026000499725\n"
     ]
    }
   ],
   "source": [
    "\n",
    "def binary_acc(y_pred, y_test):\n",
    "    with torch.no_grad():\n",
    "        y_pred_tag = torch.round(torch.sigmoid(y_pred))\n",
    "        correct_results_sum = (y_pred_tag == y_test).sum().float()\n",
    "        acc = correct_results_sum/y_test.shape[0]\n",
    "    return acc\n",
    "    \n",
    "\n",
    "model_name = 'fnma_model_lstm_nvt'\n",
    "use_cpu= False\n",
    "\n",
    "start = time.time()\n",
    "max_f1 = 0\n",
    "for e in range(1, EPOCHS+1):\n",
    "    epoch_loss = 0\n",
    "    epoch_acc = 0\n",
    "    train_loss, train_logits, train_targets = train_epoch(model, train_loader, optimizer, criterion, metric=binary_acc, device=device,\n",
    "                             epoch=e)\n",
    "    epoch_f1_score, threshold = calc_metrics(model, train_targets, train_logits, test_loader, criterion, device, use_cpu)\n",
    "    if epoch_f1_score > max_f1:\n",
    "        max_f1 = epoch_f1_score\n",
    "        # save the model\n",
    "        save_checkpoint(model, optimizer, e, epoch_f1_score, model_name, threshold=threshold, save_path=clean_data_path)\n",
    "    \n",
    "print(f'Total time: {time.time() - start}')\n"
   ]
  },
  {
   "cell_type": "code",
   "execution_count": 30,
   "metadata": {},
   "outputs": [],
   "source": [
    "model, threshold = load_checkpoint(model_name, model, device, save_path=clean_data_path)"
   ]
  },
  {
   "cell_type": "code",
   "execution_count": 31,
   "metadata": {},
   "outputs": [
    {
     "data": {
      "application/vnd.jupyter.widget-view+json": {
       "model_id": "8b6d8f99ec0c4e1d9245be8894572fab",
       "version_major": 2,
       "version_minor": 0
      },
      "text/plain": [
       "0it [00:00, ?it/s]"
      ]
     },
     "metadata": {},
     "output_type": "display_data"
    },
    {
     "name": "stdout",
     "output_type": "stream",
     "text": [
      "Thresh:  0.4260 Prec:  0.9251 Rec:  0.7210 Pred Def: 22533 Actual: 28913 AUC:  0.9942 Acc:  0.9996 F1:  0.8104 AUPRC:  0.7996\n",
      "Confusion Matrix: \n",
      ": [[23136954     1688]\n",
      " [    8068    20845]]\n",
      "Classification Report for Pytorch Classifier: \n",
      "               precision    recall  f1-score   support\n",
      "\n",
      "           0       1.00      1.00      1.00  23138642\n",
      "           1       0.93      0.72      0.81     28913\n",
      "\n",
      "    accuracy                           1.00  23167555\n",
      "   macro avg       0.96      0.86      0.91  23167555\n",
      "weighted avg       1.00      1.00      1.00  23167555\n",
      "\n"
     ]
    },
    {
     "data": {
      "image/png": "[encoded data removed]",
      "text/plain": [
       "<Figure size 864x432 with 2 Axes>"
      ]
     },
     "metadata": {},
     "output_type": "display_data"
    }
   ],
   "source": [
    "# out of sample performance.\n",
    "true_labels, pred_labels = test_em(model, test_loader, criterion, threshold, device, use_cpu=use_cpu,\n",
    "                                   save_path=f'{figures_path}/out_of_sample_nvt_lstm_pr_roc.png')"
   ]
  },
  {
   "cell_type": "code",
   "execution_count": 32,
   "metadata": {},
   "outputs": [],
   "source": [
    "def plot_confusion_matrix(cm, target_names, title='Confusion Matrix', save_path=None, cmap=plt.cm.cool):\n",
    "    plt.imshow(cm, interpolation='nearest', cmap=cmap)\n",
    "    plt.title(title)\n",
    "    plt.colorbar()\n",
    "    tick_marks = np.arange(len(target_names))\n",
    "    plt.xticks(tick_marks, target_names, rotation=45)\n",
    "    plt.yticks(tick_marks, target_names)\n",
    "\n",
    "    width, height = cm.shape\n",
    "\n",
    "    for x in range(width):\n",
    "        for y in range(height):\n",
    "            plt.annotate(str(cm[x][y]), xy=(y, x), \n",
    "                        horizontalalignment='center',\n",
    "                        verticalalignment='center')\n",
    "    plt.ylabel('True Label')\n",
    "    plt.xlabel('Predicted Label')\n",
    "    plt.tight_layout()\n",
    "    if save_path and isinstance(save_path, str):\n",
    "        plt.savefig(save_path, dpi=600)"
   ]
  },
  {
   "cell_type": "code",
   "execution_count": 33,
   "metadata": {},
   "outputs": [
    {
     "data": {
      "image/png": "[encoded data removed]",
      "text/plain": [
       "<Figure size 432x288 with 2 Axes>"
      ]
     },
     "metadata": {},
     "output_type": "display_data"
    }
   ],
   "source": [
    "results = confusion_matrix(true_labels, pred_labels)\n",
    "results = cupy2numpy(results, True)\n",
    "plot_confusion_matrix(results, ['Normal','Anomaly'], title='Confusion Matrix', save_path=f'{figures_path}/nvt_lstm_confusion_matrix.png')"
   ]
  },
  {
   "cell_type": "code",
   "execution_count": null,
   "metadata": {},
   "outputs": [],
   "source": []
  }
 ],
 "metadata": {
  "kernelspec": {
   "display_name": "Python 3",
   "language": "python",
   "name": "python3"
  },
  "language_info": {
   "codemirror_mode": {
    "name": "ipython",
    "version": 3
   },
   "file_extension": ".py",
   "mimetype": "text/x-python",
   "name": "python",
   "nbconvert_exporter": "python",
   "pygments_lexer": "ipython3",
   "version": "3.8.5"
  }
 },
 "nbformat": 4,
 "nbformat_minor": 5
}
