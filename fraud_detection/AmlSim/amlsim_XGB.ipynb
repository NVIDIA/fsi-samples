{
 "cells": [
  {
   "cell_type": "code",
   "execution_count": 1,
   "metadata": {
    "ExecuteTime": {
     "end_time": "2021-10-12T01:40:21.104415Z",
     "start_time": "2021-10-12T01:40:21.088760Z"
    }
   },
   "outputs": [],
   "source": [
    "############################################################################\n",
    "##\n",
    "## Copyright (C) 2021 NVIDIA Corporation.  All rights reserved.\n",
    "##\n",
    "## NVIDIA Sample Code\n",
    "##\n",
    "## Please refer to the NVIDIA end user license agreement (EULA) associated\n",
    "## with this source code for terms and conditions that govern your use of\n",
    "## this software. Any use, reproduction, disclosure, or distribution of\n",
    "## this software and related documentation outside the terms of the EULA\n",
    "## is strictly prohibited.\n",
    "##\n",
    "############################################################################\n"
   ]
  },
  {
   "cell_type": "code",
   "execution_count": 1,
   "metadata": {
    "ExecuteTime": {
     "end_time": "2021-06-17T23:41:52.452377Z",
     "start_time": "2021-06-17T23:41:50.710205Z"
    }
   },
   "outputs": [],
   "source": [
    "%matplotlib inline\n",
    "import glob\n",
    "from pathlib import Path\n",
    "from matplotlib import pyplot as plt\n",
    "import seaborn as sns\n",
    "\n",
    "import dask_cudf\n",
    "import copy\n",
    "import cupy as cp\n",
    "import cudf\n",
    "import numpy as np\n",
    "import torch\n",
    "import torch.nn as nn\n",
    "import torch.nn.functional as F\n",
    "import pandas as pd\n",
    "from tqdm.auto import tqdm\n",
    "tqdm.pandas()\n",
    "\n",
    "sns.set()\n",
    "data_path = './1m_cleaned/'"
   ]
  },
  {
   "cell_type": "code",
   "execution_count": 2,
   "metadata": {
    "ExecuteTime": {
     "end_time": "2021-06-17T23:41:55.064951Z",
     "start_time": "2021-06-17T23:41:53.092509Z"
    },
    "code_folding": []
   },
   "outputs": [
    {
     "data": {
      "text/html": [
       "<table style=\"border: 2px solid white;\">\n",
       "<tr>\n",
       "<td style=\"vertical-align: top; border: 0px solid white\">\n",
       "<h3 style=\"text-align: left;\">Client</h3>\n",
       "<ul style=\"text-align: left; list-style: none; margin: 0; padding: 0;\">\n",
       "  <li><b>Scheduler: </b>tcp://192.168.1.171:33187</li>\n",
       "  <li><b>Dashboard: </b><a href='http://192.168.1.171:8787/status' target='_blank'>http://192.168.1.171:8787/status</a></li>\n",
       "</ul>\n",
       "</td>\n",
       "<td style=\"vertical-align: top; border: 0px solid white\">\n",
       "<h3 style=\"text-align: left;\">Cluster</h3>\n",
       "<ul style=\"text-align: left; list-style:none; margin: 0; padding: 0;\">\n",
       "  <li><b>Workers: </b>1</li>\n",
       "  <li><b>Cores: </b>1</li>\n",
       "  <li><b>Memory: </b>62.81 GiB</li>\n",
       "</ul>\n",
       "</td>\n",
       "</tr>\n",
       "</table>"
      ],
      "text/plain": [
       "<Client: 'tcp://192.168.1.171:33187' processes=1 threads=1, memory=62.81 GiB>"
      ]
     },
     "execution_count": 2,
     "metadata": {},
     "output_type": "execute_result"
    }
   ],
   "source": [
    "use_dask=True\n",
    "client=None\n",
    "if use_dask:\n",
    "    import subprocess\n",
    "\n",
    "    from dask.distributed import Client, wait, progress\n",
    "    from dask_cuda import LocalCUDACluster\n",
    "\n",
    "    import dask.dataframe as dd\n",
    "\n",
    "    cmd = \"hostname --all-ip-addresses\"\n",
    "    process = subprocess.Popen(cmd.split(), stdout=subprocess.PIPE)\n",
    "    output, error = process.communicate()\n",
    "    IPADDR = str(output.decode()).split()[0]\n",
    "\n",
    "    cluster = LocalCUDACluster(ip=IPADDR)\n",
    "    client = Client(cluster)\n",
    "client"
   ]
  },
  {
   "cell_type": "markdown",
   "metadata": {
    "heading_collapsed": true
   },
   "source": [
    "## Part 1 - Add any features and save"
   ]
  },
  {
   "cell_type": "code",
   "execution_count": 3,
   "metadata": {
    "ExecuteTime": {
     "end_time": "2021-06-17T17:58:37.169714Z",
     "start_time": "2021-06-17T17:58:32.194047Z"
    },
    "hidden": true
   },
   "outputs": [
    {
     "data": {
      "text/html": [
       "<div>\n",
       "<style scoped>\n",
       "    .dataframe tbody tr th:only-of-type {\n",
       "        vertical-align: middle;\n",
       "    }\n",
       "\n",
       "    .dataframe tbody tr th {\n",
       "        vertical-align: top;\n",
       "    }\n",
       "\n",
       "    .dataframe thead th {\n",
       "        text-align: right;\n",
       "    }\n",
       "</style>\n",
       "<table border=\"1\" class=\"dataframe\">\n",
       "  <thead>\n",
       "    <tr style=\"text-align: right;\">\n",
       "      <th></th>\n",
       "      <th>index</th>\n",
       "      <th>tx_id</th>\n",
       "      <th>timestamp</th>\n",
       "      <th>sender_account_id</th>\n",
       "      <th>receiver_account_id</th>\n",
       "      <th>tx_amount</th>\n",
       "      <th>sender_init_balance</th>\n",
       "      <th>receiver_init_balance</th>\n",
       "      <th>alert_id</th>\n",
       "      <th>sender_is_fraud</th>\n",
       "      <th>receiver_is_fraud</th>\n",
       "      <th>is_fraud</th>\n",
       "      <th>sender_fin_balance</th>\n",
       "      <th>receiver_fin_balance</th>\n",
       "    </tr>\n",
       "  </thead>\n",
       "  <tbody>\n",
       "    <tr>\n",
       "      <th>0</th>\n",
       "      <td>0</td>\n",
       "      <td>1.0</td>\n",
       "      <td>0.0</td>\n",
       "      <td>703302.0</td>\n",
       "      <td>161218.0</td>\n",
       "      <td>31.01</td>\n",
       "      <td>186.06</td>\n",
       "      <td>149.29</td>\n",
       "      <td>-1.0</td>\n",
       "      <td>0.0</td>\n",
       "      <td>0.0</td>\n",
       "      <td>0.0</td>\n",
       "      <td>155.05</td>\n",
       "      <td>180.30</td>\n",
       "    </tr>\n",
       "    <tr>\n",
       "      <th>1</th>\n",
       "      <td>1</td>\n",
       "      <td>2.0</td>\n",
       "      <td>0.0</td>\n",
       "      <td>703302.0</td>\n",
       "      <td>336794.0</td>\n",
       "      <td>31.01</td>\n",
       "      <td>155.05</td>\n",
       "      <td>395.43</td>\n",
       "      <td>-1.0</td>\n",
       "      <td>0.0</td>\n",
       "      <td>0.0</td>\n",
       "      <td>0.0</td>\n",
       "      <td>124.04</td>\n",
       "      <td>426.44</td>\n",
       "    </tr>\n",
       "    <tr>\n",
       "      <th>2</th>\n",
       "      <td>2</td>\n",
       "      <td>3.0</td>\n",
       "      <td>0.0</td>\n",
       "      <td>703302.0</td>\n",
       "      <td>24362.0</td>\n",
       "      <td>31.01</td>\n",
       "      <td>124.04</td>\n",
       "      <td>293.91</td>\n",
       "      <td>-1.0</td>\n",
       "      <td>0.0</td>\n",
       "      <td>1.0</td>\n",
       "      <td>0.0</td>\n",
       "      <td>93.03</td>\n",
       "      <td>324.92</td>\n",
       "    </tr>\n",
       "    <tr>\n",
       "      <th>3</th>\n",
       "      <td>3</td>\n",
       "      <td>4.0</td>\n",
       "      <td>0.0</td>\n",
       "      <td>703302.0</td>\n",
       "      <td>980979.0</td>\n",
       "      <td>31.01</td>\n",
       "      <td>93.03</td>\n",
       "      <td>277.33</td>\n",
       "      <td>-1.0</td>\n",
       "      <td>0.0</td>\n",
       "      <td>0.0</td>\n",
       "      <td>0.0</td>\n",
       "      <td>62.02</td>\n",
       "      <td>308.34</td>\n",
       "    </tr>\n",
       "    <tr>\n",
       "      <th>4</th>\n",
       "      <td>4</td>\n",
       "      <td>5.0</td>\n",
       "      <td>0.0</td>\n",
       "      <td>703302.0</td>\n",
       "      <td>485951.0</td>\n",
       "      <td>31.01</td>\n",
       "      <td>62.02</td>\n",
       "      <td>391.16</td>\n",
       "      <td>-1.0</td>\n",
       "      <td>0.0</td>\n",
       "      <td>0.0</td>\n",
       "      <td>0.0</td>\n",
       "      <td>31.01</td>\n",
       "      <td>422.17</td>\n",
       "    </tr>\n",
       "    <tr>\n",
       "      <th>...</th>\n",
       "      <td>...</td>\n",
       "      <td>...</td>\n",
       "      <td>...</td>\n",
       "      <td>...</td>\n",
       "      <td>...</td>\n",
       "      <td>...</td>\n",
       "      <td>...</td>\n",
       "      <td>...</td>\n",
       "      <td>...</td>\n",
       "      <td>...</td>\n",
       "      <td>...</td>\n",
       "      <td>...</td>\n",
       "      <td>...</td>\n",
       "      <td>...</td>\n",
       "    </tr>\n",
       "    <tr>\n",
       "      <th>124703179</th>\n",
       "      <td>41567723</td>\n",
       "      <td>124703180.0</td>\n",
       "      <td>199.0</td>\n",
       "      <td>512072.0</td>\n",
       "      <td>528208.0</td>\n",
       "      <td>39.00</td>\n",
       "      <td>1565.64</td>\n",
       "      <td>1091525.22</td>\n",
       "      <td>-1.0</td>\n",
       "      <td>0.0</td>\n",
       "      <td>0.0</td>\n",
       "      <td>0.0</td>\n",
       "      <td>1526.64</td>\n",
       "      <td>1091564.22</td>\n",
       "    </tr>\n",
       "    <tr>\n",
       "      <th>124703180</th>\n",
       "      <td>41567724</td>\n",
       "      <td>124703181.0</td>\n",
       "      <td>199.0</td>\n",
       "      <td>512072.0</td>\n",
       "      <td>571714.0</td>\n",
       "      <td>39.00</td>\n",
       "      <td>1526.64</td>\n",
       "      <td>1437141.40</td>\n",
       "      <td>-1.0</td>\n",
       "      <td>0.0</td>\n",
       "      <td>0.0</td>\n",
       "      <td>0.0</td>\n",
       "      <td>1487.64</td>\n",
       "      <td>1437180.40</td>\n",
       "    </tr>\n",
       "    <tr>\n",
       "      <th>124703181</th>\n",
       "      <td>41567725</td>\n",
       "      <td>124703182.0</td>\n",
       "      <td>199.0</td>\n",
       "      <td>512072.0</td>\n",
       "      <td>122486.0</td>\n",
       "      <td>39.00</td>\n",
       "      <td>1487.64</td>\n",
       "      <td>-14520758.61</td>\n",
       "      <td>-1.0</td>\n",
       "      <td>0.0</td>\n",
       "      <td>0.0</td>\n",
       "      <td>0.0</td>\n",
       "      <td>1448.64</td>\n",
       "      <td>-14520719.61</td>\n",
       "    </tr>\n",
       "    <tr>\n",
       "      <th>124703182</th>\n",
       "      <td>41567726</td>\n",
       "      <td>124703183.0</td>\n",
       "      <td>199.0</td>\n",
       "      <td>512072.0</td>\n",
       "      <td>946991.0</td>\n",
       "      <td>39.00</td>\n",
       "      <td>1448.64</td>\n",
       "      <td>15186703.89</td>\n",
       "      <td>-1.0</td>\n",
       "      <td>0.0</td>\n",
       "      <td>1.0</td>\n",
       "      <td>0.0</td>\n",
       "      <td>1409.64</td>\n",
       "      <td>15186742.89</td>\n",
       "    </tr>\n",
       "    <tr>\n",
       "      <th>124703183</th>\n",
       "      <td>41567727</td>\n",
       "      <td>124703184.0</td>\n",
       "      <td>199.0</td>\n",
       "      <td>333325.0</td>\n",
       "      <td>614945.0</td>\n",
       "      <td>3145822.00</td>\n",
       "      <td>-14484776.93</td>\n",
       "      <td>3695937.54</td>\n",
       "      <td>-1.0</td>\n",
       "      <td>0.0</td>\n",
       "      <td>1.0</td>\n",
       "      <td>0.0</td>\n",
       "      <td>-17630598.93</td>\n",
       "      <td>6841759.54</td>\n",
       "    </tr>\n",
       "  </tbody>\n",
       "</table>\n",
       "<p>124703184 rows × 14 columns</p>\n",
       "</div>"
      ],
      "text/plain": [
       "              index        tx_id  timestamp  sender_account_id  \\\n",
       "0                 0          1.0        0.0           703302.0   \n",
       "1                 1          2.0        0.0           703302.0   \n",
       "2                 2          3.0        0.0           703302.0   \n",
       "3                 3          4.0        0.0           703302.0   \n",
       "4                 4          5.0        0.0           703302.0   \n",
       "...             ...          ...        ...                ...   \n",
       "124703179  41567723  124703180.0      199.0           512072.0   \n",
       "124703180  41567724  124703181.0      199.0           512072.0   \n",
       "124703181  41567725  124703182.0      199.0           512072.0   \n",
       "124703182  41567726  124703183.0      199.0           512072.0   \n",
       "124703183  41567727  124703184.0      199.0           333325.0   \n",
       "\n",
       "           receiver_account_id   tx_amount  sender_init_balance  \\\n",
       "0                     161218.0       31.01               186.06   \n",
       "1                     336794.0       31.01               155.05   \n",
       "2                      24362.0       31.01               124.04   \n",
       "3                     980979.0       31.01                93.03   \n",
       "4                     485951.0       31.01                62.02   \n",
       "...                        ...         ...                  ...   \n",
       "124703179             528208.0       39.00              1565.64   \n",
       "124703180             571714.0       39.00              1526.64   \n",
       "124703181             122486.0       39.00              1487.64   \n",
       "124703182             946991.0       39.00              1448.64   \n",
       "124703183             614945.0  3145822.00         -14484776.93   \n",
       "\n",
       "           receiver_init_balance  alert_id  sender_is_fraud  \\\n",
       "0                         149.29      -1.0              0.0   \n",
       "1                         395.43      -1.0              0.0   \n",
       "2                         293.91      -1.0              0.0   \n",
       "3                         277.33      -1.0              0.0   \n",
       "4                         391.16      -1.0              0.0   \n",
       "...                          ...       ...              ...   \n",
       "124703179             1091525.22      -1.0              0.0   \n",
       "124703180             1437141.40      -1.0              0.0   \n",
       "124703181           -14520758.61      -1.0              0.0   \n",
       "124703182            15186703.89      -1.0              0.0   \n",
       "124703183             3695937.54      -1.0              0.0   \n",
       "\n",
       "           receiver_is_fraud  is_fraud  sender_fin_balance  \\\n",
       "0                        0.0       0.0              155.05   \n",
       "1                        0.0       0.0              124.04   \n",
       "2                        1.0       0.0               93.03   \n",
       "3                        0.0       0.0               62.02   \n",
       "4                        0.0       0.0               31.01   \n",
       "...                      ...       ...                 ...   \n",
       "124703179                0.0       0.0             1526.64   \n",
       "124703180                0.0       0.0             1487.64   \n",
       "124703181                0.0       0.0             1448.64   \n",
       "124703182                1.0       0.0             1409.64   \n",
       "124703183                1.0       0.0        -17630598.93   \n",
       "\n",
       "           receiver_fin_balance  \n",
       "0                        180.30  \n",
       "1                        426.44  \n",
       "2                        324.92  \n",
       "3                        308.34  \n",
       "4                        422.17  \n",
       "...                         ...  \n",
       "124703179            1091564.22  \n",
       "124703180            1437180.40  \n",
       "124703181          -14520719.61  \n",
       "124703182           15186742.89  \n",
       "124703183            6841759.54  \n",
       "\n",
       "[124703184 rows x 14 columns]"
      ]
     },
     "execution_count": 3,
     "metadata": {},
     "output_type": "execute_result"
    }
   ],
   "source": [
    "# we use .persist() so we do not re-.compute() the data each time.\n",
    "fixed_txns_paths = sorted(glob.glob(f'{data_path}/fixed*.csv'))\n",
    "\n",
    "# if use_dask:\n",
    "#     txns = dask_cudf.concat([dask_cudf.read_csv(fpath, dtype=['int', 'int', 'int', 'int', \n",
    "#                                                               'float32', 'float32', 'float32', 'int',\n",
    "#                                                               'int', 'int', 'int', 'float32', 'float32']) \n",
    "#                              for fpath in fixed_txns_paths]).reset_index()#.persist()\n",
    "# else:\n",
    "#     or without dask_cudf\n",
    "#     fixed_txns_paths = fixed_txns_paths[:2]  # choose subset of files to fit in single GPU memory\n",
    "\n",
    "txns = cudf.concat([cudf.read_csv(fpath) for fpath in fixed_txns_paths], axis=0).reset_index()\n",
    "\n",
    "# feel free to use these if desired.\n",
    "# accounts = dask_cudf.read_csv(f'{data_path}/accounts.csv')\n",
    "# alerts = dask_cudf.read_csv(f'{data_path}/alerts.csv')\n",
    "txns"
   ]
  },
  {
   "cell_type": "markdown",
   "metadata": {
    "hidden": true
   },
   "source": [
    "Add time since last transaction feature\n",
    "- use diff of transactions\n",
    "- first transaction is imputed with mean time between transaction of the transactions that follow afterwards."
   ]
  },
  {
   "cell_type": "code",
   "execution_count": 4,
   "metadata": {
    "ExecuteTime": {
     "end_time": "2021-06-17T17:58:38.685289Z",
     "start_time": "2021-06-17T17:58:37.170857Z"
    },
    "hidden": true
   },
   "outputs": [
    {
     "data": {
      "text/html": [
       "<div>\n",
       "<style scoped>\n",
       "    .dataframe tbody tr th:only-of-type {\n",
       "        vertical-align: middle;\n",
       "    }\n",
       "\n",
       "    .dataframe tbody tr th {\n",
       "        vertical-align: top;\n",
       "    }\n",
       "\n",
       "    .dataframe thead th {\n",
       "        text-align: right;\n",
       "    }\n",
       "</style>\n",
       "<table border=\"1\" class=\"dataframe\">\n",
       "  <thead>\n",
       "    <tr style=\"text-align: right;\">\n",
       "      <th></th>\n",
       "      <th>timestamp</th>\n",
       "      <th>sender_account_id</th>\n",
       "      <th>time_since_last_txn</th>\n",
       "    </tr>\n",
       "  </thead>\n",
       "  <tbody>\n",
       "    <tr>\n",
       "      <th>275900</th>\n",
       "      <td>0.0</td>\n",
       "      <td>0.0</td>\n",
       "      <td>9.5625</td>\n",
       "    </tr>\n",
       "    <tr>\n",
       "      <th>8387481</th>\n",
       "      <td>13.0</td>\n",
       "      <td>0.0</td>\n",
       "      <td>13.0000</td>\n",
       "    </tr>\n",
       "    <tr>\n",
       "      <th>25221257</th>\n",
       "      <td>40.0</td>\n",
       "      <td>0.0</td>\n",
       "      <td>27.0000</td>\n",
       "    </tr>\n",
       "    <tr>\n",
       "      <th>25967600</th>\n",
       "      <td>41.0</td>\n",
       "      <td>0.0</td>\n",
       "      <td>1.0000</td>\n",
       "    </tr>\n",
       "    <tr>\n",
       "      <th>32251308</th>\n",
       "      <td>51.0</td>\n",
       "      <td>0.0</td>\n",
       "      <td>10.0000</td>\n",
       "    </tr>\n",
       "    <tr>\n",
       "      <th>...</th>\n",
       "      <td>...</td>\n",
       "      <td>...</td>\n",
       "      <td>...</td>\n",
       "    </tr>\n",
       "    <tr>\n",
       "      <th>108258932</th>\n",
       "      <td>173.0</td>\n",
       "      <td>999999.0</td>\n",
       "      <td>0.0000</td>\n",
       "    </tr>\n",
       "    <tr>\n",
       "      <th>108258933</th>\n",
       "      <td>173.0</td>\n",
       "      <td>999999.0</td>\n",
       "      <td>0.0000</td>\n",
       "    </tr>\n",
       "    <tr>\n",
       "      <th>108258934</th>\n",
       "      <td>173.0</td>\n",
       "      <td>999999.0</td>\n",
       "      <td>0.0000</td>\n",
       "    </tr>\n",
       "    <tr>\n",
       "      <th>108258935</th>\n",
       "      <td>173.0</td>\n",
       "      <td>999999.0</td>\n",
       "      <td>0.0000</td>\n",
       "    </tr>\n",
       "    <tr>\n",
       "      <th>110698470</th>\n",
       "      <td>177.0</td>\n",
       "      <td>999999.0</td>\n",
       "      <td>4.0000</td>\n",
       "    </tr>\n",
       "  </tbody>\n",
       "</table>\n",
       "<p>124703184 rows × 3 columns</p>\n",
       "</div>"
      ],
      "text/plain": [
       "           timestamp  sender_account_id  time_since_last_txn\n",
       "275900           0.0                0.0               9.5625\n",
       "8387481         13.0                0.0              13.0000\n",
       "25221257        40.0                0.0              27.0000\n",
       "25967600        41.0                0.0               1.0000\n",
       "32251308        51.0                0.0              10.0000\n",
       "...              ...                ...                  ...\n",
       "108258932      173.0           999999.0               0.0000\n",
       "108258933      173.0           999999.0               0.0000\n",
       "108258934      173.0           999999.0               0.0000\n",
       "108258935      173.0           999999.0               0.0000\n",
       "110698470      177.0           999999.0               4.0000\n",
       "\n",
       "[124703184 rows x 3 columns]"
      ]
     },
     "execution_count": 4,
     "metadata": {},
     "output_type": "execute_result"
    }
   ],
   "source": [
    "shft = txns[['timestamp', 'sender_account_id']].groupby('sender_account_id')\n",
    "\n",
    "# Define a function to apply to each group\n",
    "from numba import cuda\n",
    "\n",
    "def time_since_last_txn(timestamp, time_since_last_txn):\n",
    "    total = 0\n",
    "    ctr=0\n",
    "    for i in range(cuda.threadIdx.x, len(timestamp), cuda.blockDim.x):\n",
    "        if i==0:\n",
    "            time_since_last_txn[i] = 0\n",
    "        else:\n",
    "            time_since_last_txn[i] = timestamp[i]- timestamp[i-1]\n",
    "        total += time_since_last_txn[i]\n",
    "        ctr+=1\n",
    "        \n",
    "    time_since_last_txn[0] = total/(ctr-1)\n",
    "\n",
    "result = shft.apply_grouped(time_since_last_txn,\n",
    "                              incols=['timestamp'],\n",
    "                              outcols={'time_since_last_txn': np.float64},\n",
    "                              # threads per block\n",
    "                              tpb=1)\n",
    "\n",
    "txns['time_since_last_txn'] = result['time_since_last_txn']\n",
    "result"
   ]
  },
  {
   "cell_type": "code",
   "execution_count": 5,
   "metadata": {
    "ExecuteTime": {
     "end_time": "2021-06-17T17:58:39.603899Z",
     "start_time": "2021-06-17T17:58:38.686458Z"
    },
    "hidden": true
   },
   "outputs": [
    {
     "data": {
      "text/plain": [
       "1000000"
      ]
     },
     "execution_count": 5,
     "metadata": {},
     "output_type": "execute_result"
    }
   ],
   "source": [
    "txns.sender_account_id.nunique()"
   ]
  },
  {
   "cell_type": "markdown",
   "metadata": {
    "hidden": true
   },
   "source": [
    "We just went through 1 Million sender accounts and computed the time diffs per transaction for ~125M rows!"
   ]
  },
  {
   "cell_type": "markdown",
   "metadata": {
    "ExecuteTime": {
     "end_time": "2021-06-17T18:26:10.928007Z",
     "start_time": "2021-06-17T18:26:10.925889Z"
    },
    "hidden": true
   },
   "source": [
    "You might consider scaling some of the features with `cuml`, example commented out below. Note fit only on train data, which may require splitting the data via `train_test_split` before we save the data."
   ]
  },
  {
   "cell_type": "code",
   "execution_count": 13,
   "metadata": {
    "ExecuteTime": {
     "end_time": "2021-06-17T18:28:35.191687Z",
     "start_time": "2021-06-17T18:28:35.188866Z"
    },
    "hidden": true
   },
   "outputs": [],
   "source": [
    "#\n",
    "# from cuml.experimental.preprocessing import StandardScaler\n",
    "\n",
    "# scaler = StandardScaler()\n",
    "# X_train[['tx_amount', 'sender_init_balance', 'receiver_init_balance',\n",
    "#                               'sender_fin_balance', 'receiver_fin_balance']] =\\\n",
    "# scaler.fit_transform(X_train[['tx_amount', 'sender_init_balance', 'receiver_init_balance',\n",
    "#                               'sender_fin_balance', 'receiver_fin_balance']])\n",
    "\n",
    "# X_test[['tx_amount', 'sender_init_balance', 'receiver_init_balance',\n",
    "#                               'sender_fin_balance', 'receiver_fin_balance']] =\\\n",
    "# scaler.transform(X_test[['tx_amount', 'sender_init_balance', 'receiver_init_balance',\n",
    "#                               'sender_fin_balance', 'receiver_fin_balance']])"
   ]
  },
  {
   "cell_type": "code",
   "execution_count": 7,
   "metadata": {
    "ExecuteTime": {
     "end_time": "2021-06-17T17:59:23.725241Z",
     "start_time": "2021-06-17T17:59:18.450136Z"
    },
    "hidden": true
   },
   "outputs": [],
   "source": [
    "txns.to_parquet(f'{data_path}/txns.pq')"
   ]
  },
  {
   "cell_type": "markdown",
   "metadata": {},
   "source": [
    "## Part 2 - Restart Kernel, load libraries and continue from here"
   ]
  },
  {
   "cell_type": "code",
   "execution_count": 3,
   "metadata": {
    "ExecuteTime": {
     "end_time": "2021-06-17T23:42:01.523931Z",
     "start_time": "2021-06-17T23:42:00.924882Z"
    }
   },
   "outputs": [],
   "source": [
    "txns = dask_cudf.read_parquet(f'{data_path}/txns.pq')"
   ]
  },
  {
   "cell_type": "markdown",
   "metadata": {},
   "source": [
    "## XGB"
   ]
  },
  {
   "cell_type": "code",
   "execution_count": 4,
   "metadata": {
    "ExecuteTime": {
     "end_time": "2021-06-17T23:42:04.296120Z",
     "start_time": "2021-06-17T23:42:04.134614Z"
    }
   },
   "outputs": [],
   "source": [
    "import xgboost as xgb\n",
    "import numpy as np\n",
    "from collections import OrderedDict\n",
    "import gc\n",
    "from glob import glob\n",
    "import os\n",
    "import pandas as pd\n",
    "from copy import copy\n",
    "from time import time\n",
    "from sklearn.metrics import roc_auc_score, confusion_matrix, accuracy_score, classification_report, \\\n",
    "                            roc_curve, f1_score, precision_recall_curve\n",
    "from sklearn.model_selection import train_test_split\n",
    "from sklearn.preprocessing import LabelEncoder\n",
    "from timeit import default_timer\n",
    "import matplotlib.pyplot as plt\n",
    "import pickle\n",
    "import shap"
   ]
  },
  {
   "cell_type": "code",
   "execution_count": 5,
   "metadata": {
    "ExecuteTime": {
     "end_time": "2021-06-17T23:42:04.760770Z",
     "start_time": "2021-06-17T23:42:04.757660Z"
    }
   },
   "outputs": [],
   "source": [
    "# 'tx_id', \n",
    "# train_cols = ['timestamp', 'sender_account_id' ,'receiver_account_id', 'tx_amount', \n",
    "#               'sender_init_balance', 'receiver_init_balance', 'sender_fin_balance', 'receiver_fin_balance']\n",
    "train_cols = ['time_since_last_txn', 'tx_amount', 'sender_account_id','receiver_account_id',\n",
    "              'sender_init_balance', 'receiver_init_balance', 'sender_fin_balance', 'receiver_fin_balance']\n",
    "target_col = ['is_fraud']"
   ]
  },
  {
   "cell_type": "code",
   "execution_count": 6,
   "metadata": {
    "ExecuteTime": {
     "end_time": "2021-06-17T23:42:08.180760Z",
     "start_time": "2021-06-17T23:42:08.162724Z"
    },
    "scrolled": false
   },
   "outputs": [
    {
     "data": {
      "text/html": [
       "<div><strong>Dask DataFrame Structure:</strong></div>\n",
       "<div>\n",
       "<style scoped>\n",
       "    .dataframe tbody tr th:only-of-type {\n",
       "        vertical-align: middle;\n",
       "    }\n",
       "\n",
       "    .dataframe tbody tr th {\n",
       "        vertical-align: top;\n",
       "    }\n",
       "\n",
       "    .dataframe thead th {\n",
       "        text-align: right;\n",
       "    }\n",
       "</style>\n",
       "<table border=\"1\" class=\"dataframe\">\n",
       "  <thead>\n",
       "    <tr style=\"text-align: right;\">\n",
       "      <th></th>\n",
       "      <th>time_since_last_txn</th>\n",
       "      <th>tx_amount</th>\n",
       "      <th>sender_account_id</th>\n",
       "      <th>receiver_account_id</th>\n",
       "      <th>sender_init_balance</th>\n",
       "      <th>receiver_init_balance</th>\n",
       "      <th>sender_fin_balance</th>\n",
       "      <th>receiver_fin_balance</th>\n",
       "    </tr>\n",
       "    <tr>\n",
       "      <th>npartitions=125</th>\n",
       "      <th></th>\n",
       "      <th></th>\n",
       "      <th></th>\n",
       "      <th></th>\n",
       "      <th></th>\n",
       "      <th></th>\n",
       "      <th></th>\n",
       "      <th></th>\n",
       "    </tr>\n",
       "  </thead>\n",
       "  <tbody>\n",
       "    <tr>\n",
       "      <th></th>\n",
       "      <td>float64</td>\n",
       "      <td>float64</td>\n",
       "      <td>float64</td>\n",
       "      <td>float64</td>\n",
       "      <td>float64</td>\n",
       "      <td>float64</td>\n",
       "      <td>float64</td>\n",
       "      <td>float64</td>\n",
       "    </tr>\n",
       "    <tr>\n",
       "      <th></th>\n",
       "      <td>...</td>\n",
       "      <td>...</td>\n",
       "      <td>...</td>\n",
       "      <td>...</td>\n",
       "      <td>...</td>\n",
       "      <td>...</td>\n",
       "      <td>...</td>\n",
       "      <td>...</td>\n",
       "    </tr>\n",
       "    <tr>\n",
       "      <th>...</th>\n",
       "      <td>...</td>\n",
       "      <td>...</td>\n",
       "      <td>...</td>\n",
       "      <td>...</td>\n",
       "      <td>...</td>\n",
       "      <td>...</td>\n",
       "      <td>...</td>\n",
       "      <td>...</td>\n",
       "    </tr>\n",
       "    <tr>\n",
       "      <th></th>\n",
       "      <td>...</td>\n",
       "      <td>...</td>\n",
       "      <td>...</td>\n",
       "      <td>...</td>\n",
       "      <td>...</td>\n",
       "      <td>...</td>\n",
       "      <td>...</td>\n",
       "      <td>...</td>\n",
       "    </tr>\n",
       "    <tr>\n",
       "      <th></th>\n",
       "      <td>...</td>\n",
       "      <td>...</td>\n",
       "      <td>...</td>\n",
       "      <td>...</td>\n",
       "      <td>...</td>\n",
       "      <td>...</td>\n",
       "      <td>...</td>\n",
       "      <td>...</td>\n",
       "    </tr>\n",
       "  </tbody>\n",
       "</table>\n",
       "</div>\n",
       "<div>Dask Name: getitem, 250 tasks</div>"
      ],
      "text/plain": [
       "<dask_cudf.DataFrame | 250 tasks | 125 npartitions>"
      ]
     },
     "execution_count": 6,
     "metadata": {},
     "output_type": "execute_result"
    }
   ],
   "source": [
    "txns[train_cols]"
   ]
  },
  {
   "cell_type": "code",
   "execution_count": 7,
   "metadata": {
    "ExecuteTime": {
     "end_time": "2021-06-17T23:42:08.987427Z",
     "start_time": "2021-06-17T23:42:08.600801Z"
    },
    "scrolled": true
   },
   "outputs": [
    {
     "name": "stdout",
     "output_type": "stream",
     "text": [
      "Thu Jun 17 19:42:08 2021       \r\n",
      "+-----------------------------------------------------------------------------+\r\n",
      "| NVIDIA-SMI 460.80       Driver Version: 460.80       CUDA Version: 11.2     |\r\n",
      "|-------------------------------+----------------------+----------------------+\r\n",
      "| GPU  Name        Persistence-M| Bus-Id        Disp.A | Volatile Uncorr. ECC |\r\n",
      "| Fan  Temp  Perf  Pwr:Usage/Cap|         Memory-Usage | GPU-Util  Compute M. |\r\n",
      "|                               |                      |               MIG M. |\r\n",
      "|===============================+======================+======================|\r\n",
      "|   0  RTX A6000           Off  | 00000000:0A:00.0  On |                  Off |\r\n",
      "| 35%   64C    P2   102W / 300W |   1554MiB / 48682MiB |      7%      Default |\r\n",
      "|                               |                      |                  N/A |\r\n",
      "+-------------------------------+----------------------+----------------------+\r\n",
      "                                                                               \r\n",
      "+-----------------------------------------------------------------------------+\r\n",
      "| Processes:                                                                  |\r\n",
      "|  GPU   GI   CI        PID   Type   Process name                  GPU Memory |\r\n",
      "|        ID   ID                                                   Usage      |\r\n",
      "|=============================================================================|\r\n",
      "|    0   N/A  N/A      1247      G   /usr/lib/xorg/Xorg                 57MiB |\r\n",
      "|    0   N/A  N/A      2310      G   /usr/lib/xorg/Xorg                167MiB |\r\n",
      "|    0   N/A  N/A      2443      G   /usr/bin/gnome-shell               52MiB |\r\n",
      "|    0   N/A  N/A      3611      G   /usr/lib/firefox/firefox          424MiB |\r\n",
      "|    0   N/A  N/A      5561      G   /usr/lib/firefox/firefox            8MiB |\r\n",
      "|    0   N/A  N/A     10261      C   ...onda3/envs/fsi/bin/python      571MiB |\r\n",
      "|    0   N/A  N/A     10300      C   ...onda3/envs/fsi/bin/python      259MiB |\r\n",
      "+-----------------------------------------------------------------------------+\r\n"
     ]
    }
   ],
   "source": [
    "!nvidia-smi"
   ]
  },
  {
   "cell_type": "code",
   "execution_count": 8,
   "metadata": {
    "ExecuteTime": {
     "end_time": "2021-06-17T23:42:16.051154Z",
     "start_time": "2021-06-17T23:42:12.626209Z"
    }
   },
   "outputs": [
    {
     "data": {
      "text/plain": [
       "159.20000000000002"
      ]
     },
     "execution_count": 8,
     "metadata": {},
     "output_type": "execute_result"
    }
   ],
   "source": [
    "(0.8 * txns.timestamp.max()).compute()"
   ]
  },
  {
   "cell_type": "code",
   "execution_count": 9,
   "metadata": {
    "ExecuteTime": {
     "end_time": "2021-06-17T20:17:06.976013Z",
     "start_time": "2021-06-17T20:17:03.727582Z"
    }
   },
   "outputs": [
    {
     "data": {
      "text/plain": [
       "156"
      ]
     },
     "execution_count": 9,
     "metadata": {},
     "output_type": "execute_result"
    }
   ],
   "source": [
    "# split into train and test \n",
    "train_days = int(0.8 * txns.timestamp.max().compute()) #about 160\n",
    "    \n",
    "train_set, test_set = txns.loc[txns.timestamp< train_days], txns.loc[txns.timestamp >= train_days]\n",
    "# del txns\n",
    "# split into features and target\n",
    "X_train, y_train = train_set[train_cols], train_set[target_col]\n",
    "X_test, y_test = test_set[train_cols], test_set[target_col]\n",
    "\n",
    "if use_dask:\n",
    "    X_train=X_train.persist()\n",
    "    y_train=y_train.persist()\n",
    "    X_test=X_test.persist()\n",
    "    y_test=y_test.persist()\n",
    "\n",
    "del txns\n",
    "gc.collect()"
   ]
  },
  {
   "cell_type": "code",
   "execution_count": 10,
   "metadata": {
    "ExecuteTime": {
     "end_time": "2021-06-17T20:17:07.053217Z",
     "start_time": "2021-06-17T20:17:06.981960Z"
    }
   },
   "outputs": [
    {
     "data": {
      "text/html": [
       "<div>\n",
       "<style scoped>\n",
       "    .dataframe tbody tr th:only-of-type {\n",
       "        vertical-align: middle;\n",
       "    }\n",
       "\n",
       "    .dataframe tbody tr th {\n",
       "        vertical-align: top;\n",
       "    }\n",
       "\n",
       "    .dataframe thead th {\n",
       "        text-align: right;\n",
       "    }\n",
       "</style>\n",
       "<table border=\"1\" class=\"dataframe\">\n",
       "  <thead>\n",
       "    <tr style=\"text-align: right;\">\n",
       "      <th></th>\n",
       "      <th>time_since_last_txn</th>\n",
       "      <th>tx_amount</th>\n",
       "      <th>sender_account_id</th>\n",
       "      <th>receiver_account_id</th>\n",
       "      <th>sender_init_balance</th>\n",
       "      <th>receiver_init_balance</th>\n",
       "      <th>sender_fin_balance</th>\n",
       "      <th>receiver_fin_balance</th>\n",
       "    </tr>\n",
       "  </thead>\n",
       "  <tbody>\n",
       "    <tr>\n",
       "      <th>0</th>\n",
       "      <td>1.219355</td>\n",
       "      <td>31.01</td>\n",
       "      <td>703302.0</td>\n",
       "      <td>161218.0</td>\n",
       "      <td>186.06</td>\n",
       "      <td>149.29</td>\n",
       "      <td>155.05</td>\n",
       "      <td>180.30</td>\n",
       "    </tr>\n",
       "    <tr>\n",
       "      <th>1</th>\n",
       "      <td>0.000000</td>\n",
       "      <td>31.01</td>\n",
       "      <td>703302.0</td>\n",
       "      <td>336794.0</td>\n",
       "      <td>155.05</td>\n",
       "      <td>395.43</td>\n",
       "      <td>124.04</td>\n",
       "      <td>426.44</td>\n",
       "    </tr>\n",
       "    <tr>\n",
       "      <th>2</th>\n",
       "      <td>0.000000</td>\n",
       "      <td>31.01</td>\n",
       "      <td>703302.0</td>\n",
       "      <td>24362.0</td>\n",
       "      <td>124.04</td>\n",
       "      <td>293.91</td>\n",
       "      <td>93.03</td>\n",
       "      <td>324.92</td>\n",
       "    </tr>\n",
       "    <tr>\n",
       "      <th>3</th>\n",
       "      <td>0.000000</td>\n",
       "      <td>31.01</td>\n",
       "      <td>703302.0</td>\n",
       "      <td>980979.0</td>\n",
       "      <td>93.03</td>\n",
       "      <td>277.33</td>\n",
       "      <td>62.02</td>\n",
       "      <td>308.34</td>\n",
       "    </tr>\n",
       "    <tr>\n",
       "      <th>4</th>\n",
       "      <td>0.000000</td>\n",
       "      <td>31.01</td>\n",
       "      <td>703302.0</td>\n",
       "      <td>485951.0</td>\n",
       "      <td>62.02</td>\n",
       "      <td>391.16</td>\n",
       "      <td>31.01</td>\n",
       "      <td>422.17</td>\n",
       "    </tr>\n",
       "  </tbody>\n",
       "</table>\n",
       "</div>"
      ],
      "text/plain": [
       "   time_since_last_txn  tx_amount  sender_account_id  receiver_account_id  \\\n",
       "0             1.219355      31.01           703302.0             161218.0   \n",
       "1             0.000000      31.01           703302.0             336794.0   \n",
       "2             0.000000      31.01           703302.0              24362.0   \n",
       "3             0.000000      31.01           703302.0             980979.0   \n",
       "4             0.000000      31.01           703302.0             485951.0   \n",
       "\n",
       "   sender_init_balance  receiver_init_balance  sender_fin_balance  \\\n",
       "0               186.06                 149.29              155.05   \n",
       "1               155.05                 395.43              124.04   \n",
       "2               124.04                 293.91               93.03   \n",
       "3                93.03                 277.33               62.02   \n",
       "4                62.02                 391.16               31.01   \n",
       "\n",
       "   receiver_fin_balance  \n",
       "0                180.30  \n",
       "1                426.44  \n",
       "2                324.92  \n",
       "3                308.34  \n",
       "4                422.17  "
      ]
     },
     "execution_count": 10,
     "metadata": {},
     "output_type": "execute_result"
    }
   ],
   "source": [
    "X_train.head()"
   ]
  },
  {
   "cell_type": "code",
   "execution_count": 11,
   "metadata": {
    "ExecuteTime": {
     "end_time": "2021-06-17T20:17:21.627662Z",
     "start_time": "2021-06-17T20:17:07.055515Z"
    }
   },
   "outputs": [
    {
     "name": "stdout",
     "output_type": "stream",
     "text": [
      "is_fraud    128861.0\n",
      "dtype: float64 is_fraud    34076.0\n",
      "dtype: float64\n",
      "scaling: 769\n"
     ]
    }
   ],
   "source": [
    "# consider if you want to use for \"scale_pos_weight\" param for imbalanced class problem.\n",
    "\n",
    "if use_dask:\n",
    "    print(y_train.sum().compute(), y_test.sum().compute())\n",
    "    scaling = len(y_train)/y_train.sum().compute()\n",
    "    \n",
    "else:    \n",
    "    print(y_train.sum(), y_test.sum())\n",
    "    scaling = len(y_train)/y_train.sum()\n",
    "scaling = int(scaling.to_arrow().tolist()[0])\n",
    "\n",
    "print('scaling:', scaling )   \n",
    "    "
   ]
  },
  {
   "cell_type": "code",
   "execution_count": 24,
   "metadata": {
    "ExecuteTime": {
     "end_time": "2021-06-17T20:25:57.990575Z",
     "start_time": "2021-06-17T20:25:56.513781Z"
    }
   },
   "outputs": [
    {
     "data": {
      "text/plain": [
       "array([27.71793776])"
      ]
     },
     "execution_count": 24,
     "metadata": {},
     "output_type": "execute_result"
    }
   ],
   "source": [
    "cp.sqrt(((len(y_train)- y_train.sum().compute())/y_train.sum().compute()))"
   ]
  },
  {
   "cell_type": "markdown",
   "metadata": {},
   "source": [
    "## train the model"
   ]
  },
  {
   "cell_type": "code",
   "execution_count": 100,
   "metadata": {
    "ExecuteTime": {
     "end_time": "2021-06-17T21:55:09.605054Z",
     "start_time": "2021-06-17T21:55:09.598756Z"
    }
   },
   "outputs": [],
   "source": [
    "# adjust hyperparams to your liking, the one's below are not optimized.\n",
    "params = {\n",
    "    'num_rounds':        250,\n",
    "    'max_depth':         12,\n",
    "    'max_leaves':        0,\n",
    "    'alpha':             0,\n",
    "    'lambda':            2,\n",
    "    'eta':               0.05,\n",
    "#     'gamma':             1,\n",
    "    'subsample':         1,\n",
    "    'scale_pos_weight':  scaling,\n",
    "    'max_delta_step':    1,\n",
    "    'max_bin':           2048,\n",
    "    'tree_method':       'gpu_hist',\n",
    "    'grow_policy':       'lossguide',\n",
    "    'n_gpus':            1,\n",
    "    'objective':         'binary:logistic',#'binary:hinge'\n",
    "    'eval_metric':       'aucpr',#'error',#'auc', 'logloss'\n",
    "    'predictor':         'gpu_predictor',\n",
    "    'verbose':           True\n",
    "}"
   ]
  },
  {
   "cell_type": "code",
   "execution_count": 65,
   "metadata": {
    "ExecuteTime": {
     "end_time": "2021-06-17T21:21:14.438873Z",
     "start_time": "2021-06-17T21:21:14.215729Z"
    }
   },
   "outputs": [],
   "source": [
    "if use_dask:\n",
    "    dtrain = xgb.dask.DaskDMatrix(client, X_train, label=y_train)\n",
    "    dtest = xgb.dask.DaskDMatrix(client, X_test, label=y_test)\n",
    "else:\n",
    "    dtrain = xgb.DMatrix(X_train, label=y_train)\n",
    "    dtest = xgb.DMatrix(X_test, label=y_test)"
   ]
  },
  {
   "cell_type": "code",
   "execution_count": 20,
   "metadata": {
    "ExecuteTime": {
     "end_time": "2021-06-17T20:21:22.271384Z",
     "start_time": "2021-06-17T20:21:22.268305Z"
    }
   },
   "outputs": [],
   "source": [
    "evals = [(dtest, 'test',), (dtrain, 'train')]"
   ]
  },
  {
   "cell_type": "code",
   "execution_count": 101,
   "metadata": {
    "ExecuteTime": {
     "end_time": "2021-06-17T22:29:53.537732Z",
     "start_time": "2021-06-17T21:55:13.241187Z"
    },
    "scrolled": true
   },
   "outputs": [
    {
     "name": "stdout",
     "output_type": "stream",
     "text": [
      "[0]\ttest-aucpr:0.07487\ttrain-aucpr:0.07329\n",
      "[1]\ttest-aucpr:0.07487\ttrain-aucpr:0.07330\n",
      "[2]\ttest-aucpr:0.07519\ttrain-aucpr:0.07353\n",
      "[3]\ttest-aucpr:0.07578\ttrain-aucpr:0.07379\n",
      "[4]\ttest-aucpr:0.07577\ttrain-aucpr:0.07397\n",
      "[5]\ttest-aucpr:0.07577\ttrain-aucpr:0.07402\n",
      "[6]\ttest-aucpr:0.07579\ttrain-aucpr:0.07413\n",
      "[7]\ttest-aucpr:0.07589\ttrain-aucpr:0.07415\n",
      "[8]\ttest-aucpr:0.07589\ttrain-aucpr:0.07419\n",
      "[9]\ttest-aucpr:0.07589\ttrain-aucpr:0.07423\n",
      "[10]\ttest-aucpr:0.07589\ttrain-aucpr:0.07435\n",
      "[11]\ttest-aucpr:0.07591\ttrain-aucpr:0.07437\n",
      "[12]\ttest-aucpr:0.07594\ttrain-aucpr:0.07455\n",
      "[13]\ttest-aucpr:0.07594\ttrain-aucpr:0.07455\n",
      "[14]\ttest-aucpr:0.07594\ttrain-aucpr:0.07455\n",
      "[15]\ttest-aucpr:0.07597\ttrain-aucpr:0.07461\n",
      "[16]\ttest-aucpr:0.07597\ttrain-aucpr:0.07461\n",
      "[17]\ttest-aucpr:0.07598\ttrain-aucpr:0.07462\n",
      "[18]\ttest-aucpr:0.07605\ttrain-aucpr:0.07466\n",
      "[19]\ttest-aucpr:0.07677\ttrain-aucpr:0.07575\n",
      "[20]\ttest-aucpr:0.08027\ttrain-aucpr:0.07953\n",
      "[21]\ttest-aucpr:0.08118\ttrain-aucpr:0.08101\n",
      "[22]\ttest-aucpr:0.08131\ttrain-aucpr:0.08113\n",
      "[23]\ttest-aucpr:0.08134\ttrain-aucpr:0.08117\n",
      "[24]\ttest-aucpr:0.08134\ttrain-aucpr:0.08117\n",
      "[25]\ttest-aucpr:0.08136\ttrain-aucpr:0.08164\n",
      "[26]\ttest-aucpr:0.08158\ttrain-aucpr:0.08175\n",
      "[27]\ttest-aucpr:0.08214\ttrain-aucpr:0.08246\n",
      "[28]\ttest-aucpr:0.08215\ttrain-aucpr:0.08288\n",
      "[29]\ttest-aucpr:0.08216\ttrain-aucpr:0.08289\n",
      "[30]\ttest-aucpr:0.08239\ttrain-aucpr:0.08299\n",
      "[31]\ttest-aucpr:0.08240\ttrain-aucpr:0.08306\n",
      "[32]\ttest-aucpr:0.09227\ttrain-aucpr:0.09194\n",
      "[33]\ttest-aucpr:0.09230\ttrain-aucpr:0.09198\n",
      "[34]\ttest-aucpr:0.09437\ttrain-aucpr:0.09388\n",
      "[35]\ttest-aucpr:0.09437\ttrain-aucpr:0.09391\n",
      "[36]\ttest-aucpr:0.15438\ttrain-aucpr:0.19045\n",
      "[37]\ttest-aucpr:0.18166\ttrain-aucpr:0.20258\n",
      "[38]\ttest-aucpr:0.18212\ttrain-aucpr:0.20293\n",
      "[39]\ttest-aucpr:0.19621\ttrain-aucpr:0.22120\n",
      "[40]\ttest-aucpr:0.20363\ttrain-aucpr:0.25339\n",
      "[41]\ttest-aucpr:0.24433\ttrain-aucpr:0.30483\n",
      "[42]\ttest-aucpr:0.24886\ttrain-aucpr:0.32083\n",
      "[43]\ttest-aucpr:0.24956\ttrain-aucpr:0.32270\n",
      "[44]\ttest-aucpr:0.25549\ttrain-aucpr:0.33382\n",
      "[45]\ttest-aucpr:0.25826\ttrain-aucpr:0.34261\n",
      "[46]\ttest-aucpr:0.31378\ttrain-aucpr:0.36229\n",
      "[47]\ttest-aucpr:0.34567\ttrain-aucpr:0.37075\n",
      "[48]\ttest-aucpr:0.34917\ttrain-aucpr:0.37870\n",
      "[49]\ttest-aucpr:0.41924\ttrain-aucpr:0.39283\n",
      "[50]\ttest-aucpr:0.42263\ttrain-aucpr:0.39970\n",
      "[51]\ttest-aucpr:0.44424\ttrain-aucpr:0.41043\n",
      "[52]\ttest-aucpr:0.45220\ttrain-aucpr:0.42507\n",
      "[53]\ttest-aucpr:0.45810\ttrain-aucpr:0.44169\n",
      "[54]\ttest-aucpr:0.45976\ttrain-aucpr:0.44442\n",
      "[55]\ttest-aucpr:0.47322\ttrain-aucpr:0.46617\n",
      "[56]\ttest-aucpr:0.52809\ttrain-aucpr:0.47703\n",
      "[57]\ttest-aucpr:0.54816\ttrain-aucpr:0.49246\n",
      "[58]\ttest-aucpr:0.55740\ttrain-aucpr:0.50429\n",
      "[59]\ttest-aucpr:0.55914\ttrain-aucpr:0.51957\n",
      "[60]\ttest-aucpr:0.56318\ttrain-aucpr:0.58070\n",
      "[61]\ttest-aucpr:0.57591\ttrain-aucpr:0.60824\n",
      "[62]\ttest-aucpr:0.57898\ttrain-aucpr:0.61497\n",
      "[63]\ttest-aucpr:0.58630\ttrain-aucpr:0.62515\n",
      "[64]\ttest-aucpr:0.58616\ttrain-aucpr:0.64737\n",
      "[65]\ttest-aucpr:0.58770\ttrain-aucpr:0.65225\n",
      "[66]\ttest-aucpr:0.59637\ttrain-aucpr:0.65536\n",
      "[67]\ttest-aucpr:0.59921\ttrain-aucpr:0.65963\n",
      "[68]\ttest-aucpr:0.60696\ttrain-aucpr:0.66214\n",
      "[69]\ttest-aucpr:0.60621\ttrain-aucpr:0.66425\n",
      "[70]\ttest-aucpr:0.60541\ttrain-aucpr:0.66523\n",
      "[71]\ttest-aucpr:0.60867\ttrain-aucpr:0.66755\n",
      "[72]\ttest-aucpr:0.62511\ttrain-aucpr:0.67709\n",
      "[73]\ttest-aucpr:0.62376\ttrain-aucpr:0.68599\n",
      "[74]\ttest-aucpr:0.62399\ttrain-aucpr:0.68749\n",
      "[75]\ttest-aucpr:0.62707\ttrain-aucpr:0.68937\n",
      "[76]\ttest-aucpr:0.63063\ttrain-aucpr:0.69138\n",
      "[77]\ttest-aucpr:0.63143\ttrain-aucpr:0.69215\n",
      "[78]\ttest-aucpr:0.63350\ttrain-aucpr:0.69290\n",
      "[79]\ttest-aucpr:0.63498\ttrain-aucpr:0.69359\n",
      "[80]\ttest-aucpr:0.63570\ttrain-aucpr:0.69508\n",
      "[81]\ttest-aucpr:0.64323\ttrain-aucpr:0.69753\n",
      "[82]\ttest-aucpr:0.64561\ttrain-aucpr:0.69897\n",
      "[83]\ttest-aucpr:0.64676\ttrain-aucpr:0.70019\n",
      "[84]\ttest-aucpr:0.64746\ttrain-aucpr:0.70107\n",
      "[85]\ttest-aucpr:0.65513\ttrain-aucpr:0.70446\n",
      "[86]\ttest-aucpr:0.65659\ttrain-aucpr:0.70701\n",
      "[87]\ttest-aucpr:0.65830\ttrain-aucpr:0.70820\n",
      "[88]\ttest-aucpr:0.66187\ttrain-aucpr:0.70978\n",
      "[89]\ttest-aucpr:0.66519\ttrain-aucpr:0.71194\n",
      "[90]\ttest-aucpr:0.66608\ttrain-aucpr:0.71359\n",
      "[91]\ttest-aucpr:0.66752\ttrain-aucpr:0.71445\n",
      "[92]\ttest-aucpr:0.66815\ttrain-aucpr:0.71469\n",
      "[93]\ttest-aucpr:0.67125\ttrain-aucpr:0.71616\n",
      "[94]\ttest-aucpr:0.67282\ttrain-aucpr:0.71782\n",
      "[95]\ttest-aucpr:0.67420\ttrain-aucpr:0.71842\n",
      "[96]\ttest-aucpr:0.67568\ttrain-aucpr:0.72011\n",
      "[97]\ttest-aucpr:0.68067\ttrain-aucpr:0.72154\n",
      "[98]\ttest-aucpr:0.68565\ttrain-aucpr:0.72388\n",
      "[99]\ttest-aucpr:0.68690\ttrain-aucpr:0.72415\n",
      "[100]\ttest-aucpr:0.68952\ttrain-aucpr:0.72530\n",
      "[101]\ttest-aucpr:0.69253\ttrain-aucpr:0.72694\n",
      "[102]\ttest-aucpr:0.69406\ttrain-aucpr:0.72874\n",
      "[103]\ttest-aucpr:0.69576\ttrain-aucpr:0.72947\n",
      "[104]\ttest-aucpr:0.69713\ttrain-aucpr:0.73010\n",
      "[105]\ttest-aucpr:0.69870\ttrain-aucpr:0.73134\n",
      "[106]\ttest-aucpr:0.70065\ttrain-aucpr:0.73228\n",
      "[107]\ttest-aucpr:0.70264\ttrain-aucpr:0.73348\n",
      "[108]\ttest-aucpr:0.70519\ttrain-aucpr:0.73433\n",
      "[109]\ttest-aucpr:0.71084\ttrain-aucpr:0.73777\n",
      "[110]\ttest-aucpr:0.71198\ttrain-aucpr:0.73921\n",
      "[111]\ttest-aucpr:0.71432\ttrain-aucpr:0.74112\n",
      "[112]\ttest-aucpr:0.71684\ttrain-aucpr:0.74347\n",
      "[113]\ttest-aucpr:0.72398\ttrain-aucpr:0.74855\n",
      "[114]\ttest-aucpr:0.73051\ttrain-aucpr:0.75292\n",
      "[115]\ttest-aucpr:0.73284\ttrain-aucpr:0.75420\n",
      "[116]\ttest-aucpr:0.73717\ttrain-aucpr:0.75778\n",
      "[117]\ttest-aucpr:0.74292\ttrain-aucpr:0.76075\n",
      "[118]\ttest-aucpr:0.74397\ttrain-aucpr:0.76240\n",
      "[119]\ttest-aucpr:0.74965\ttrain-aucpr:0.76485\n",
      "[120]\ttest-aucpr:0.75445\ttrain-aucpr:0.76777\n",
      "[121]\ttest-aucpr:0.75553\ttrain-aucpr:0.76903\n",
      "[122]\ttest-aucpr:0.75654\ttrain-aucpr:0.77028\n",
      "[123]\ttest-aucpr:0.75853\ttrain-aucpr:0.77157\n",
      "[124]\ttest-aucpr:0.75920\ttrain-aucpr:0.77285\n",
      "[125]\ttest-aucpr:0.76117\ttrain-aucpr:0.77437\n",
      "[126]\ttest-aucpr:0.76293\ttrain-aucpr:0.77593\n",
      "[127]\ttest-aucpr:0.76558\ttrain-aucpr:0.77735\n",
      "[128]\ttest-aucpr:0.76787\ttrain-aucpr:0.77860\n",
      "[129]\ttest-aucpr:0.77503\ttrain-aucpr:0.78301\n",
      "[130]\ttest-aucpr:0.77690\ttrain-aucpr:0.78390\n",
      "[131]\ttest-aucpr:0.78259\ttrain-aucpr:0.78785\n",
      "[132]\ttest-aucpr:0.78884\ttrain-aucpr:0.79255\n",
      "[133]\ttest-aucpr:0.79309\ttrain-aucpr:0.79607\n",
      "[134]\ttest-aucpr:0.79819\ttrain-aucpr:0.80023\n",
      "[135]\ttest-aucpr:0.80244\ttrain-aucpr:0.80388\n",
      "[136]\ttest-aucpr:0.80757\ttrain-aucpr:0.80802\n",
      "[137]\ttest-aucpr:0.81086\ttrain-aucpr:0.81117\n",
      "[138]\ttest-aucpr:0.81541\ttrain-aucpr:0.81526\n",
      "[139]\ttest-aucpr:0.81868\ttrain-aucpr:0.81839\n",
      "[140]\ttest-aucpr:0.82093\ttrain-aucpr:0.81968\n",
      "[141]\ttest-aucpr:0.82372\ttrain-aucpr:0.82257\n",
      "[142]\ttest-aucpr:0.82817\ttrain-aucpr:0.82674\n",
      "[143]\ttest-aucpr:0.83191\ttrain-aucpr:0.83037\n",
      "[144]\ttest-aucpr:0.83437\ttrain-aucpr:0.83342\n",
      "[145]\ttest-aucpr:0.83593\ttrain-aucpr:0.83613\n",
      "[146]\ttest-aucpr:0.84147\ttrain-aucpr:0.84253\n",
      "[147]\ttest-aucpr:0.84821\ttrain-aucpr:0.84867\n",
      "[148]\ttest-aucpr:0.85001\ttrain-aucpr:0.85119\n",
      "[149]\ttest-aucpr:0.85413\ttrain-aucpr:0.85658\n",
      "[150]\ttest-aucpr:0.85760\ttrain-aucpr:0.86156\n",
      "[151]\ttest-aucpr:0.85784\ttrain-aucpr:0.86187\n",
      "[152]\ttest-aucpr:0.86090\ttrain-aucpr:0.86649\n",
      "[153]\ttest-aucpr:0.86128\ttrain-aucpr:0.86707\n",
      "[154]\ttest-aucpr:0.86385\ttrain-aucpr:0.87118\n",
      "[155]\ttest-aucpr:0.86404\ttrain-aucpr:0.87177\n",
      "[156]\ttest-aucpr:0.86494\ttrain-aucpr:0.87330\n",
      "[157]\ttest-aucpr:0.86718\ttrain-aucpr:0.87686\n",
      "[158]\ttest-aucpr:0.86911\ttrain-aucpr:0.88017\n",
      "[159]\ttest-aucpr:0.87086\ttrain-aucpr:0.88325\n",
      "[160]\ttest-aucpr:0.87093\ttrain-aucpr:0.88353\n",
      "[161]\ttest-aucpr:0.87128\ttrain-aucpr:0.88398\n",
      "[162]\ttest-aucpr:0.87277\ttrain-aucpr:0.88663\n",
      "[163]\ttest-aucpr:0.87301\ttrain-aucpr:0.88711\n",
      "[164]\ttest-aucpr:0.87616\ttrain-aucpr:0.88960\n",
      "[165]\ttest-aucpr:0.87631\ttrain-aucpr:0.88997\n",
      "[166]\ttest-aucpr:0.87679\ttrain-aucpr:0.89092\n",
      "[167]\ttest-aucpr:0.87786\ttrain-aucpr:0.89302\n",
      "[168]\ttest-aucpr:0.87889\ttrain-aucpr:0.89488\n",
      "[169]\ttest-aucpr:0.87926\ttrain-aucpr:0.89554\n",
      "[170]\ttest-aucpr:0.87952\ttrain-aucpr:0.89592\n",
      "[171]\ttest-aucpr:0.87965\ttrain-aucpr:0.89602\n",
      "[172]\ttest-aucpr:0.88056\ttrain-aucpr:0.89766\n",
      "[173]\ttest-aucpr:0.88070\ttrain-aucpr:0.89774\n",
      "[174]\ttest-aucpr:0.88067\ttrain-aucpr:0.89775\n",
      "[175]\ttest-aucpr:0.88142\ttrain-aucpr:0.89925\n",
      "[176]\ttest-aucpr:0.88138\ttrain-aucpr:0.89935\n",
      "[177]\ttest-aucpr:0.88206\ttrain-aucpr:0.90064\n",
      "[178]\ttest-aucpr:0.88211\ttrain-aucpr:0.90063\n",
      "[179]\ttest-aucpr:0.88232\ttrain-aucpr:0.90095\n",
      "[180]\ttest-aucpr:0.88295\ttrain-aucpr:0.90210\n",
      "[181]\ttest-aucpr:0.88312\ttrain-aucpr:0.90233\n",
      "[182]\ttest-aucpr:0.88327\ttrain-aucpr:0.90255\n",
      "[183]\ttest-aucpr:0.88319\ttrain-aucpr:0.90263\n",
      "[184]\ttest-aucpr:0.88334\ttrain-aucpr:0.90343\n"
     ]
    },
    {
     "name": "stdout",
     "output_type": "stream",
     "text": [
      "[185]\ttest-aucpr:0.88352\ttrain-aucpr:0.90365\n",
      "[186]\ttest-aucpr:0.88339\ttrain-aucpr:0.90373\n",
      "[187]\ttest-aucpr:0.88307\ttrain-aucpr:0.90375\n",
      "[188]\ttest-aucpr:0.88344\ttrain-aucpr:0.90441\n",
      "[189]\ttest-aucpr:0.88385\ttrain-aucpr:0.90518\n",
      "[190]\ttest-aucpr:0.88545\ttrain-aucpr:0.90535\n",
      "[191]\ttest-aucpr:0.88582\ttrain-aucpr:0.90605\n",
      "[192]\ttest-aucpr:0.88586\ttrain-aucpr:0.90613\n",
      "[193]\ttest-aucpr:0.88618\ttrain-aucpr:0.90677\n",
      "[194]\ttest-aucpr:0.88629\ttrain-aucpr:0.90698\n",
      "[195]\ttest-aucpr:0.88656\ttrain-aucpr:0.90749\n",
      "[196]\ttest-aucpr:0.88670\ttrain-aucpr:0.90768\n",
      "[197]\ttest-aucpr:0.88679\ttrain-aucpr:0.90780\n",
      "[198]\ttest-aucpr:0.88681\ttrain-aucpr:0.90787\n",
      "[199]\ttest-aucpr:0.88724\ttrain-aucpr:0.90847\n",
      "[200]\ttest-aucpr:0.88729\ttrain-aucpr:0.90861\n",
      "[201]\ttest-aucpr:0.88732\ttrain-aucpr:0.90873\n",
      "[202]\ttest-aucpr:0.88743\ttrain-aucpr:0.90880\n",
      "[203]\ttest-aucpr:0.88751\ttrain-aucpr:0.90884\n",
      "[204]\ttest-aucpr:0.88755\ttrain-aucpr:0.90908\n",
      "[205]\ttest-aucpr:0.88744\ttrain-aucpr:0.90912\n",
      "[206]\ttest-aucpr:0.88772\ttrain-aucpr:0.90953\n",
      "[207]\ttest-aucpr:0.88774\ttrain-aucpr:0.90961\n",
      "[208]\ttest-aucpr:0.88793\ttrain-aucpr:0.90995\n",
      "[209]\ttest-aucpr:0.88796\ttrain-aucpr:0.91003\n",
      "[210]\ttest-aucpr:0.88778\ttrain-aucpr:0.91005\n",
      "[211]\ttest-aucpr:0.88763\ttrain-aucpr:0.91010\n",
      "[212]\ttest-aucpr:0.88783\ttrain-aucpr:0.91025\n",
      "[213]\ttest-aucpr:0.88840\ttrain-aucpr:0.91074\n",
      "[214]\ttest-aucpr:0.88840\ttrain-aucpr:0.91087\n",
      "[215]\ttest-aucpr:0.88870\ttrain-aucpr:0.91137\n",
      "[216]\ttest-aucpr:0.88846\ttrain-aucpr:0.91139\n",
      "[217]\ttest-aucpr:0.88839\ttrain-aucpr:0.91141\n",
      "[218]\ttest-aucpr:0.88847\ttrain-aucpr:0.91160\n",
      "[219]\ttest-aucpr:0.88867\ttrain-aucpr:0.91190\n",
      "[220]\ttest-aucpr:0.88840\ttrain-aucpr:0.91192\n",
      "[221]\ttest-aucpr:0.88841\ttrain-aucpr:0.91208\n",
      "[222]\ttest-aucpr:0.88853\ttrain-aucpr:0.91229\n",
      "[223]\ttest-aucpr:0.88848\ttrain-aucpr:0.91238\n",
      "[224]\ttest-aucpr:0.88836\ttrain-aucpr:0.91248\n",
      "[225]\ttest-aucpr:0.88830\ttrain-aucpr:0.91254\n",
      "[226]\ttest-aucpr:0.88836\ttrain-aucpr:0.91259\n",
      "[227]\ttest-aucpr:0.88849\ttrain-aucpr:0.91280\n",
      "[228]\ttest-aucpr:0.88844\ttrain-aucpr:0.91299\n",
      "[229]\ttest-aucpr:0.88826\ttrain-aucpr:0.91306\n",
      "[230]\ttest-aucpr:0.88831\ttrain-aucpr:0.91315\n",
      "[231]\ttest-aucpr:0.88835\ttrain-aucpr:0.91323\n",
      "[232]\ttest-aucpr:0.88839\ttrain-aucpr:0.91332\n",
      "[233]\ttest-aucpr:0.88838\ttrain-aucpr:0.91341\n",
      "[234]\ttest-aucpr:0.88843\ttrain-aucpr:0.91346\n",
      "[235]\ttest-aucpr:0.88844\ttrain-aucpr:0.91350\n",
      "[236]\ttest-aucpr:0.88818\ttrain-aucpr:0.91355\n",
      "[237]\ttest-aucpr:0.88841\ttrain-aucpr:0.91391\n",
      "[238]\ttest-aucpr:0.88839\ttrain-aucpr:0.91397\n",
      "[239]\ttest-aucpr:0.88840\ttrain-aucpr:0.91404\n",
      "[240]\ttest-aucpr:0.88839\ttrain-aucpr:0.91410\n",
      "[241]\ttest-aucpr:0.88836\ttrain-aucpr:0.91416\n",
      "[242]\ttest-aucpr:0.88829\ttrain-aucpr:0.91423\n",
      "[243]\ttest-aucpr:0.88826\ttrain-aucpr:0.91428\n",
      "[244]\ttest-aucpr:0.88826\ttrain-aucpr:0.91434\n",
      "[245]\ttest-aucpr:0.88825\ttrain-aucpr:0.91440\n",
      "[246]\ttest-aucpr:0.88820\ttrain-aucpr:0.91444\n",
      "[247]\ttest-aucpr:0.88797\ttrain-aucpr:0.91452\n",
      "[248]\ttest-aucpr:0.88801\ttrain-aucpr:0.91460\n",
      "[249]\ttest-aucpr:0.88799\ttrain-aucpr:0.91470\n"
     ]
    }
   ],
   "source": [
    "# If you receive XGBoost Error: AllReduce Bug https://github.com/dmlc/xgboost/issues/6551\n",
    "if use_dask:\n",
    "    model = xgb.dask.train(client=client, \n",
    "                           params=params, \n",
    "                           dtrain=dtrain, \n",
    "                           num_boost_round=params['num_rounds'], \n",
    "                           evals=evals)\n",
    "else:\n",
    "    # CUDF \n",
    "    model = xgb.train(params, dtrain, params['num_rounds'], evals=evals)\n",
    "\n"
   ]
  },
  {
   "cell_type": "markdown",
   "metadata": {},
   "source": [
    "## Predictions and assessment"
   ]
  },
  {
   "cell_type": "code",
   "execution_count": 170,
   "metadata": {
    "ExecuteTime": {
     "end_time": "2021-06-17T23:36:58.460856Z",
     "start_time": "2021-06-17T23:36:37.066207Z"
    }
   },
   "outputs": [
    {
     "name": "stdout",
     "output_type": "stream",
     "text": [
      "Precision:  0.9588\n",
      "Recall:  0.8094\n",
      "fraud predicted 28764\n",
      "actual fraud 34076\n",
      "AUC  0.9047\n",
      "Accuracy:  0.9997\n",
      "F1:  0.8778\n"
     ]
    }
   ],
   "source": [
    "# make predictions on the test set using our trained model\n",
    "# preds = model.predict(dtest)\n",
    "\n",
    "if use_dask:\n",
    "    preds = xgb.dask.predict(client, model, dtest)\n",
    "    true_labels = y_test.astype(int).compute().as_matrix().squeeze()\n",
    "else:\n",
    "    preds = model.predict(dtest)\n",
    "    true_labels = y_test.astype(int).as_matrix().squeeze()\n",
    "\n",
    "# apply the threshold TPR-FPR to the prediction.\n",
    "# fpr, tpr, thresholds = roc_curve(true_labels, preds)\n",
    "# threshold_idx = np.argmax(tpr - fpr)\n",
    "# pred_labels = (preds > thresholds[threshold_idx]).astype(int)\n",
    "\n",
    "# apply the threshold using F1 measure to the prediction.\n",
    "precision, recall, thresholds = precision_recall_curve(true_labels, preds)\n",
    "threshold_idx = np.argmax((2 * precision * recall)/ (precision + recall))\n",
    "pred_labels = (preds > thresholds[threshold_idx]).astype(int)\n",
    "print(f'Precision: {precision[threshold_idx]: 0.4f}')\n",
    "print(f'Recall: {recall[threshold_idx]: 0.4f}')\n",
    "print('fraud predicted', pred_labels.sum().compute())\n",
    "print('actual fraud', true_labels.sum())\n",
    "# compute the auc, this should match the last test auc output above\n",
    "auc = roc_auc_score(true_labels, pred_labels)\n",
    "print(f'AUC {auc: 0.4f}')\n",
    "\n",
    "print (f'Accuracy: {accuracy_score(true_labels, pred_labels): 0.4f}')\n",
    "\n",
    "print (f'F1: {f1_score(true_labels, pred_labels): 0.4f}')"
   ]
  },
  {
   "cell_type": "code",
   "execution_count": 155,
   "metadata": {
    "ExecuteTime": {
     "end_time": "2021-06-17T23:13:59.081765Z",
     "start_time": "2021-06-17T23:13:56.276895Z"
    }
   },
   "outputs": [
    {
     "data": {
      "image/png": "[encoded data removed]",
      "text/plain": [
       "<Figure size 432x288 with 1 Axes>"
      ]
     },
     "metadata": {},
     "output_type": "display_data"
    }
   ],
   "source": [
    "fig, ax = plt.subplots()\n",
    "no_skill = y_test.sum().compute().values[0].get()/len(y_test)\n",
    "ax.plot(recall, precision, color='darkorange', lw=1, label='PR')\n",
    "ax.plot([0, 1], [no_skill, no_skill], color='navy', linestyle='--', label='No Skill')\n",
    "ax.plot(recall[np.argmax((2 * precision * recall)/ (precision + recall))],\n",
    "           precision[np.argmax((2 * precision * recall)/ (precision + recall))], 'ro', label='F1 threshold')\n",
    "ax.set_xlabel('Recall (Positive Label: 1)')\n",
    "ax.set_ylabel('Precision (Positive Label: 1)')\n",
    "ax.set_title('2-class Precision-Recall curve')\n",
    "ax.legend()\n",
    "plt.tight_layout()"
   ]
  },
  {
   "cell_type": "code",
   "execution_count": 156,
   "metadata": {
    "ExecuteTime": {
     "end_time": "2021-06-17T23:15:39.029332Z",
     "start_time": "2021-06-17T23:15:25.443296Z"
    }
   },
   "outputs": [
    {
     "name": "stdout",
     "output_type": "stream",
     "text": [
      "Confusion Matrix :\n"
     ]
    },
    {
     "data": {
      "image/png": "[encoded data removed]",
      "text/plain": [
       "<Figure size 432x288 with 2 Axes>"
      ]
     },
     "metadata": {},
     "output_type": "display_data"
    }
   ],
   "source": [
    "results = confusion_matrix(true_labels, pred_labels) \n",
    "\n",
    "print ('Confusion Matrix :')\n",
    "\n",
    "def plot_confusion_matrix(cm, target_names, title='Confusion Matrix', cmap=plt.cm.cool):\n",
    "    plt.imshow(cm, interpolation='nearest', cmap=cmap)\n",
    "    plt.title(title)\n",
    "    plt.colorbar()\n",
    "    tick_marks = np.arange(len(target_names))\n",
    "    plt.xticks(tick_marks, target_names, rotation=45)\n",
    "    plt.yticks(tick_marks, target_names)\n",
    "    plt.tight_layout()\n",
    "\n",
    "    width, height = cm.shape\n",
    "\n",
    "    for x in range(width):\n",
    "        for y in range(height):\n",
    "            plt.annotate(str(cm[x][y]), xy=(y, x), \n",
    "                        horizontalalignment='center',\n",
    "                        verticalalignment='center')\n",
    "    plt.ylabel('True Label')\n",
    "    plt.xlabel('Predicted Label')\n",
    "\n",
    "\n",
    "plot_confusion_matrix(results, ['Normal','Anomaly'])"
   ]
  },
  {
   "cell_type": "code",
   "execution_count": 172,
   "metadata": {
    "ExecuteTime": {
     "end_time": "2021-06-17T23:37:35.644739Z",
     "start_time": "2021-06-17T23:37:20.903807Z"
    }
   },
   "outputs": [
    {
     "name": "stdout",
     "output_type": "stream",
     "text": [
      "Precision:  0.1032\n",
      "Recall:  0.9900\n",
      "fraud predicted 326788\n",
      "actual fraud 34076\n",
      "AUC  0.9893\n",
      "Accuracy:  0.9885\n",
      "F1:  0.1870\n"
     ]
    }
   ],
   "source": [
    "# we can also use a custom threshold to balance out FP and FN, for example, to reduce FN (and increase FP):\n",
    "\n",
    "threshold_idx = np.argmin(np.abs(recall-0.99))  # high recall, low precision.\n",
    "print(f'Precision: {precision[threshold_idx]: 0.4f}')\n",
    "print(f'Recall: {recall[threshold_idx]: 0.4f}')\n",
    "pred_labels = (preds > thresholds[threshold_idx]).astype(int)\n",
    "\n",
    "print('fraud predicted', pred_labels.sum().compute())\n",
    "print('actual fraud', true_labels.sum())\n",
    "# compute the auc, this should match the last test auc output above\n",
    "auc = roc_auc_score(true_labels, pred_labels)\n",
    "print(f'AUC {auc: 0.4f}')\n",
    "\n",
    "print (f'Accuracy: {accuracy_score(true_labels, pred_labels): 0.4f}')\n",
    "\n",
    "print (f'F1: {f1_score(true_labels, pred_labels): 0.4f}')\n",
    "\n"
   ]
  },
  {
   "cell_type": "code",
   "execution_count": 173,
   "metadata": {
    "ExecuteTime": {
     "end_time": "2021-06-17T23:38:21.683802Z",
     "start_time": "2021-06-17T23:38:08.129405Z"
    }
   },
   "outputs": [
    {
     "name": "stdout",
     "output_type": "stream",
     "text": [
      "Confusion Matrix :\n"
     ]
    },
    {
     "data": {
      "image/png": "[encoded data removed]",
      "text/plain": [
       "<Figure size 432x288 with 2 Axes>"
      ]
     },
     "metadata": {},
     "output_type": "display_data"
    }
   ],
   "source": [
    "# and with the new threshold we see the reduced FN at cost of increased FP\n",
    "results = confusion_matrix(true_labels, pred_labels) \n",
    "\n",
    "print ('Confusion Matrix :')\n",
    "\n",
    "plot_confusion_matrix(results, ['Normal','Anomaly'])"
   ]
  },
  {
   "cell_type": "code",
   "execution_count": 174,
   "metadata": {
    "ExecuteTime": {
     "end_time": "2021-06-17T23:38:28.476182Z",
     "start_time": "2021-06-17T23:38:22.948984Z"
    }
   },
   "outputs": [
    {
     "data": {
      "image/png": "[encoded data removed]",
      "text/plain": [
       "<Figure size 432x288 with 1 Axes>"
      ]
     },
     "metadata": {},
     "output_type": "display_data"
    }
   ],
   "source": [
    "fpr, tpr, thresholds = roc_curve(true_labels, pred_labels)\n",
    "roc_auc = roc_auc_score(true_labels, pred_labels)\n",
    "\n",
    "fig, ax = plt.subplots()\n",
    "ax.plot(fpr, tpr, color='darkorange', lw=1, label='ROC curve (area = %0.2f)' % roc_auc)\n",
    "ax.plot([0, 1], [0, 1], color='navy', linestyle='--')\n",
    "ax.set_xlim([0.0, 1.0])\n",
    "ax.set_ylim([0.0, 1.05])\n",
    "ax.set_xlabel('False Positive Rate')\n",
    "ax.set_ylabel('True Positive Rate')\n",
    "ax.set_title('Receiver operating characteristic')\n",
    "ax.legend(loc=\"lower right\")\n",
    "plt.tight_layout()"
   ]
  },
  {
   "cell_type": "code",
   "execution_count": 157,
   "metadata": {
    "ExecuteTime": {
     "end_time": "2021-06-17T23:15:39.965678Z",
     "start_time": "2021-06-17T23:15:39.030453Z"
    }
   },
   "outputs": [
    {
     "data": {
      "image/png": "[encoded data removed]",
      "text/plain": [
       "<Figure size 720x720 with 1 Axes>"
      ]
     },
     "metadata": {},
     "output_type": "display_data"
    }
   ],
   "source": [
    "ax = xgb.plot_importance(model['booster'])\n",
    "fig = ax.figure\n",
    "fig.set_size_inches(10, 10)"
   ]
  },
  {
   "cell_type": "markdown",
   "metadata": {},
   "source": [
    "## Explainability with `Shap` "
   ]
  },
  {
   "cell_type": "code",
   "execution_count": 158,
   "metadata": {
    "ExecuteTime": {
     "end_time": "2021-06-17T23:27:35.774728Z",
     "start_time": "2021-06-17T23:15:39.966676Z"
    }
   },
   "outputs": [
    {
     "name": "stdout",
     "output_type": "stream",
     "text": [
      "CPU times: user 12min 1s, sys: 1.82 s, total: 12min 3s\n",
      "Wall time: 11min 52s\n"
     ]
    }
   ],
   "source": [
    "explainer = shap.TreeExplainer(model['booster'])\n",
    "%time shap_values = explainer.shap_values(X_test.compute())"
   ]
  },
  {
   "cell_type": "code",
   "execution_count": 159,
   "metadata": {
    "ExecuteTime": {
     "end_time": "2021-06-17T23:27:39.117419Z",
     "start_time": "2021-06-17T23:27:35.776220Z"
    },
    "scrolled": true
   },
   "outputs": [
    {
     "data": {
      "image/png": "[encoded data removed]",
      "text/plain": [
       "<Figure size 1440x216 with 1 Axes>"
      ]
     },
     "metadata": {},
     "output_type": "display_data"
    }
   ],
   "source": [
    "# visualize the first prediction's explanation\n",
    "shap.force_plot(\n",
    "    explainer.expected_value,\n",
    "    shap_values[0, :],\n",
    "    X_test.compute().loc[99131008].values.get(),\n",
    "    feature_names=X_test.columns.tolist(),\n",
    "    matplotlib=True\n",
    ")"
   ]
  },
  {
   "cell_type": "code",
   "execution_count": 160,
   "metadata": {
    "ExecuteTime": {
     "end_time": "2021-06-17T23:27:41.934734Z",
     "start_time": "2021-06-17T23:27:39.118672Z"
    },
    "scrolled": true
   },
   "outputs": [
    {
     "data": {
      "text/plain": [
       "time_since_last_txn           1.00\n",
       "tx_amount                    10.67\n",
       "sender_account_id        951533.00\n",
       "receiver_account_id      203175.00\n",
       "sender_init_balance      193982.88\n",
       "receiver_init_balance       681.92\n",
       "sender_fin_balance       193972.21\n",
       "receiver_fin_balance        692.59\n",
       "Name: 99131008, dtype: float64"
      ]
     },
     "execution_count": 160,
     "metadata": {},
     "output_type": "execute_result"
    }
   ],
   "source": [
    "X_test.compute().loc[99131008]#.values"
   ]
  },
  {
   "cell_type": "code",
   "execution_count": 161,
   "metadata": {
    "ExecuteTime": {
     "end_time": "2021-06-17T23:27:45.653231Z",
     "start_time": "2021-06-17T23:27:41.935820Z"
    }
   },
   "outputs": [
    {
     "data": {
      "image/png": "[encoded data removed]",
      "text/plain": [
       "<Figure size 576x338.4 with 1 Axes>"
      ]
     },
     "metadata": {},
     "output_type": "display_data"
    },
    {
     "name": "stdout",
     "output_type": "stream",
     "text": [
      "CPU times: user 1.69 s, sys: 1.84 s, total: 3.53 s\n",
      "Wall time: 3.71 s\n"
     ]
    }
   ],
   "source": [
    "%time shap.summary_plot(shap_values, X_test.compute(), plot_type=\"bar\", feature_names=X_test.columns.tolist())"
   ]
  },
  {
   "cell_type": "code",
   "execution_count": null,
   "metadata": {},
   "outputs": [],
   "source": []
  }
 ],
 "metadata": {
  "kernelspec": {
   "display_name": "Python 3",
   "language": "python",
   "name": "python3"
  },
  "language_info": {
   "codemirror_mode": {
    "name": "ipython",
    "version": 3
   },
   "file_extension": ".py",
   "mimetype": "text/x-python",
   "name": "python",
   "nbconvert_exporter": "python",
   "pygments_lexer": "ipython3",
   "version": "3.8.5"
  }
 },
 "nbformat": 4,
 "nbformat_minor": 5
}
