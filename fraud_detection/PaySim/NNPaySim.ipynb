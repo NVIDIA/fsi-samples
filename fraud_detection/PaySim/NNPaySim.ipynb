{
 "cells": [
  {
   "cell_type": "code",
   "execution_count": 1,
   "metadata": {
    "ExecuteTime": {
     "end_time": "2021-10-12T01:40:48.714594Z",
     "start_time": "2021-10-12T01:40:48.698954Z"
    }
   },
   "outputs": [],
   "source": [
    "############################################################################\n",
    "##\n",
    "## Copyright (C) 2021 NVIDIA Corporation.  All rights reserved.\n",
    "##\n",
    "## NVIDIA Sample Code\n",
    "##\n",
    "## Please refer to the NVIDIA end user license agreement (EULA) associated\n",
    "## with this source code for terms and conditions that govern your use of\n",
    "## this software. Any use, reproduction, disclosure, or distribution of\n",
    "## this software and related documentation outside the terms of the EULA\n",
    "## is strictly prohibited.\n",
    "##\n",
    "############################################################################\n"
   ]
  },
  {
   "cell_type": "markdown",
   "metadata": {},
   "source": [
    "## NeuralNetwork PaySim"
   ]
  },
  {
   "cell_type": "markdown",
   "metadata": {},
   "source": [
    "In the another notebook, an XGBoost model was trained on the [Paysim Dataset](https://www.kaggle.com/ntnu-testimon/paysim1). In this notebook, a Neural Network model will be built and trained on a NVIDIA GPU using PyTorch.\n"
   ]
  },
  {
   "cell_type": "code",
   "execution_count": 1,
   "metadata": {
    "ExecuteTime": {
     "end_time": "2021-06-23T04:25:32.337098Z",
     "start_time": "2021-06-23T04:25:31.111742Z"
    }
   },
   "outputs": [
    {
     "name": "stdout",
     "output_type": "stream",
     "text": [
      "Data Path: data/PS_20174392719_1491204439457_log.csv\n"
     ]
    },
    {
     "name": "stderr",
     "output_type": "stream",
     "text": [
      "<ipython-input-1-101e24fada8e>:13: TqdmExperimentalWarning: Using `tqdm.autonotebook.tqdm` in notebook mode. Use `tqdm.tqdm` instead to force console mode (e.g. in jupyter console)\n",
      "  from tqdm.autonotebook import tqdm\n"
     ]
    }
   ],
   "source": [
    "%matplotlib inline\n",
    "from pathlib import Path  # to provide platform independent path handling\n",
    "import os\n",
    "\n",
    "import cudf\n",
    "import cupy as cp\n",
    "import matplotlib.pyplot as plt\n",
    "import numpy as np\n",
    "import pandas as pd\n",
    "from scipy import stats\n",
    "import seaborn as sns\n",
    "from tqdm.autonotebook import tqdm\n",
    "\n",
    "from sklearn.pipeline import Pipeline\n",
    "from sklearn.model_selection import train_test_split, StratifiedKFold\n",
    "from sklearn.base import BaseEstimator, TransformerMixin\n",
    "from sklearn.preprocessing import StandardScaler, MinMaxScaler, PowerTransformer, QuantileTransformer, RobustScaler\n",
    "from sklearn.metrics import confusion_matrix, f1_score, precision_recall_curve, roc_auc_score, accuracy_score, \\\n",
    "                            precision_score, recall_score\n",
    "\n",
    "# set seaborn style because it prettier\n",
    "sns.set()\n",
    "\n",
    "# Paysim dataset downloaded and extracted\n",
    "data_path = './data/PS_20174392719_1491204439457_log.csv'\n",
    "print(f'Data Path: {Path(data_path)}')"
   ]
  },
  {
   "cell_type": "markdown",
   "metadata": {},
   "source": [
    "###  Data Processing Pipeline and build train/val/test datasets"
   ]
  },
  {
   "cell_type": "code",
   "execution_count": 2,
   "metadata": {
    "ExecuteTime": {
     "end_time": "2021-06-23T04:25:33.355797Z",
     "start_time": "2021-06-23T04:25:32.338134Z"
    }
   },
   "outputs": [],
   "source": [
    "\n",
    "txns = cudf.read_csv(Path(data_path))\n",
    "\n",
    "# renaming columns to conform to camelCase as in the XGBoost notebook\n",
    "txns = txns.rename(columns={'oldbalanceOrg': 'oldBalanceOrig', 'newbalanceOrig': 'newBalanceOrig',\n",
    "                            'oldbalanceDest': 'oldBalanceDest', 'newbalanceDest': 'newBalanceDest'})\n",
    "\n",
    "numerical_cols = ['amount', 'oldBalanceOrig',\n",
    "                  'newBalanceOrig', 'oldBalanceDest', 'newBalanceDest']\n",
    "\n",
    "\n",
    "# adjust dtypes for perf.\n",
    "txns[numerical_cols] = txns[numerical_cols].astype(np.float32)\n",
    "txns['step'] = txns['step'].astype(np.int32)\n",
    "txns['isFraud'] = txns['isFraud'].astype(np.int32)\n",
    "\n",
    "txns['errorBalanceOrig'] = txns.newBalanceOrig + txns.amount - txns.oldBalanceOrig\n",
    "txns['errorBalanceDest'] = txns.oldBalanceDest + txns.amount - txns.newBalanceDest\n",
    "txns['errorOrigAmount'] = txns.oldBalanceOrig - txns.amount"
   ]
  },
  {
   "cell_type": "markdown",
   "metadata": {},
   "source": [
    "Examining various numerical transformations"
   ]
  },
  {
   "cell_type": "code",
   "execution_count": 3,
   "metadata": {
    "ExecuteTime": {
     "end_time": "2021-06-23T04:25:33.365496Z",
     "start_time": "2021-06-23T04:25:33.357268Z"
    }
   },
   "outputs": [],
   "source": [
    "\n",
    "class Log1pNumericalColsTransformer(BaseEstimator, TransformerMixin):\n",
    "    \"\"\"Applies np.log1p to passed cols\"\"\"\n",
    "\n",
    "    def __init__(self, cols: list):\n",
    "        self.cols = cols\n",
    "\n",
    "    def fit(self, X, y=None):\n",
    "        return self\n",
    "\n",
    "    def transform(self, data):\n",
    "        data[self.cols] = np.log1p(data[self.cols])\n",
    "        return data\n",
    "\n",
    "\n",
    "class MakeDummiesTransformer(BaseEstimator, TransformerMixin):\n",
    "    \"\"\"Applies pd.dummies to passed cols\"\"\"\n",
    "\n",
    "    def __init__(self, cols=None):\n",
    "        if cols is None:\n",
    "            cols = []\n",
    "        self.cols = cols\n",
    "\n",
    "    def fit(self, X, y=None):\n",
    "        return self\n",
    "\n",
    "    def transform(self, data: pd.DataFrame):\n",
    "        if not self.cols:\n",
    "            return pd.get_dummies(data)\n",
    "        return cudf.get_dummies(data, columns=self.cols)\n",
    "\n",
    "\n",
    "class ColDropTransformer(BaseEstimator, TransformerMixin):\n",
    "    \"\"\"Drops passed cols from pd.DataFrame\"\"\"\n",
    "\n",
    "    def __init__(self, cols: list):\n",
    "        self.cols = cols\n",
    "\n",
    "    def fit(self, X, y=None):\n",
    "        return self\n",
    "\n",
    "    def transform(self, data: pd.DataFrame):\n",
    "        if not self.cols:\n",
    "            return data\n",
    "        return data.drop(columns=self.cols, axis=1)\n",
    "\n",
    "\n",
    "class ColIsInTransformer(BaseEstimator, TransformerMixin):\n",
    "    \"\"\"runs df.loc[df.col.isin(values)]\"\"\"\n",
    "\n",
    "    def __init__(self, col: str, values: list):\n",
    "        if not isinstance(col, str):\n",
    "            raise ValueError('col param must be type string')\n",
    "        if not isinstance(values, list):\n",
    "            raise ValueError('values param should be a list')\n",
    "        self.col = col\n",
    "        self.is_in_values = values\n",
    "\n",
    "    def fit(self, X, y=None):\n",
    "        return self\n",
    "\n",
    "    def transform(self, data: pd.DataFrame):\n",
    "        return data.loc[data[self.col].isin(self.is_in_values)]\n",
    "\n",
    "\n",
    "class ErrorBalTransformer(BaseEstimator, TransformerMixin):\n",
    "    \"\"\"creates errorBalance feature cols\"\"\"\n",
    "\n",
    "    def __init__(self, ):\n",
    "        pass\n",
    "\n",
    "    def fit(self, X, y=None):\n",
    "        return self\n",
    "\n",
    "    def transform(self, data: pd.DataFrame):\n",
    "        data['errorBalanceOrig'] = data['newBalanceOrig'] + data['amount'] - data['oldBalanceOrig']\n",
    "        data['errorBalanceDest'] = data['oldBalanceDest'] + data['amount'] - data['newBalanceDest']\n",
    "        data['errorOrigAmount'] = data['oldBalanceOrig'] - data['amount']\n",
    "        return data\n"
   ]
  },
  {
   "cell_type": "code",
   "execution_count": 4,
   "metadata": {
    "ExecuteTime": {
     "end_time": "2021-06-23T04:25:35.048744Z",
     "start_time": "2021-06-23T04:25:35.045326Z"
    }
   },
   "outputs": [],
   "source": [
    "# preprocess pipeline\n",
    "pipe = Pipeline([('col_is_in', ColIsInTransformer('type', ['TRANSFER', 'CASH_OUT'])),\n",
    "                 ('col_drop', ColDropTransformer(['nameOrig', 'nameDest', 'isFlaggedFraud'])),\n",
    "                 ('make_dummies', MakeDummiesTransformer(['type'])),\n",
    "                 ('errorBalcols', ErrorBalTransformer()),\n",
    "                 # add your custom steps here!\n",
    "                 # If any scaling is performed on the data,\n",
    "                 # make sure you only fit to the train data! \n",
    "                 # The make_dummies above will make one-hot cols but we only select \n",
    "                 # ex. 'type_CASH_OUT', 'type_TRANSFER' which are present in both train/test datasets\n",
    "                 ])"
   ]
  },
  {
   "cell_type": "code",
   "execution_count": 5,
   "metadata": {
    "ExecuteTime": {
     "end_time": "2021-06-23T04:25:38.322367Z",
     "start_time": "2021-06-23T04:25:36.915126Z"
    },
    "code_folding": [
     29
    ]
   },
   "outputs": [],
   "source": [
    "col_order = ['step', 'amount', 'oldBalanceOrig', 'newBalanceOrig', 'oldBalanceDest', 'newBalanceDest',\n",
    "             'errorBalanceOrig', 'errorBalanceDest', 'errorOrigAmount', 'type_CASH_OUT', 'type_TRANSFER',\n",
    "             'isFraud']\n",
    "\n",
    "numerical_cols = ['amount', 'oldBalanceOrig', 'newBalanceOrig', 'oldBalanceDest',\n",
    "                  'newBalanceDest', 'errorBalanceOrig', 'errorBalanceDest', 'errorOrigAmount']\n",
    "\n",
    "train_cols = col_order[:-1]\n",
    "\n",
    "# basic preprocessing to all columns, no estimator used since we'll be training a Neural Network.\n",
    "df = pipe.fit_transform(txns)\n",
    "df = df[col_order]\n",
    "\n",
    "# note df is passed to make train and test\n",
    "# and train is passed again to make train and val\n",
    "train_val, test_df = train_test_split(df, test_size=0.1, shuffle=True,\n",
    "                                   random_state=314, stratify=df.isFraud.values.get())\n",
    "\n",
    "train_df, val_df = train_test_split(train_val, test_size=0.1, shuffle=True,\n",
    "                              random_state=314, stratify=train_val.isFraud.values.get())\n",
    "\n",
    "del train_val\n",
    "\n",
    "assert len(train_df) + len(val_df) + len(test_df) == len(df)\n",
    "\n",
    "\n",
    "def get_df_back(scaled, df: pd.DataFrame, scaled_cols: list) -> pd.DataFrame:\n",
    "    \"\"\"\n",
    "    Applying sklearn scaler returns values as numpy array when passed a pandas DataFrame.\n",
    "    The function here creates a DataFrame using the scaled values and including whatever missing cols are in\n",
    "    `df` but not in `scaled_cols`\n",
    "\n",
    "    Examples:\n",
    "        df.columns = [numerical1, numerical2, categorical1]\n",
    "        scaler = StandardScaler()\n",
    "        output = scaler.fit_transform(df[[numerical1, numerical2]])\n",
    "        df = get_df_back(scaled=output, df, [numerical1, numerical2])\n",
    "    Args:\n",
    "        scaled: np.array \n",
    "        df: pd.DataFrame\n",
    "        scaled_cols (list): list of columns passed for scaling.\n",
    "\n",
    "    Returns:\n",
    "\n",
    "    \"\"\"\n",
    "    missing_cols = [i for i in df.columns if i not in scaled_cols]\n",
    "    new_df = pd.concat([pd.DataFrame(scaled, columns=scaled_cols, index=df.index),\n",
    "                       df[missing_cols]], axis=1)\n",
    "    # keep ordering the same as the original df\n",
    "    return new_df[df.columns]\n"
   ]
  },
  {
   "cell_type": "code",
   "execution_count": 6,
   "metadata": {
    "ExecuteTime": {
     "end_time": "2021-06-23T04:25:38.328082Z",
     "start_time": "2021-06-23T04:25:38.323653Z"
    }
   },
   "outputs": [
    {
     "data": {
      "text/plain": [
       "(2244031, 249337, 277041)"
      ]
     },
     "execution_count": 6,
     "metadata": {},
     "output_type": "execute_result"
    }
   ],
   "source": [
    "len(train_df), len(val_df), len(test_df)"
   ]
  },
  {
   "cell_type": "code",
   "execution_count": 7,
   "metadata": {
    "ExecuteTime": {
     "end_time": "2021-06-23T04:25:38.414262Z",
     "start_time": "2021-06-23T04:25:38.329636Z"
    }
   },
   "outputs": [
    {
     "data": {
      "text/html": [
       "<div>\n",
       "<style scoped>\n",
       "    .dataframe tbody tr th:only-of-type {\n",
       "        vertical-align: middle;\n",
       "    }\n",
       "\n",
       "    .dataframe tbody tr th {\n",
       "        vertical-align: top;\n",
       "    }\n",
       "\n",
       "    .dataframe thead th {\n",
       "        text-align: right;\n",
       "    }\n",
       "</style>\n",
       "<table border=\"1\" class=\"dataframe\">\n",
       "  <thead>\n",
       "    <tr style=\"text-align: right;\">\n",
       "      <th></th>\n",
       "      <th>step</th>\n",
       "      <th>amount</th>\n",
       "      <th>oldBalanceOrig</th>\n",
       "      <th>newBalanceOrig</th>\n",
       "      <th>oldBalanceDest</th>\n",
       "      <th>newBalanceDest</th>\n",
       "      <th>errorBalanceOrig</th>\n",
       "      <th>errorBalanceDest</th>\n",
       "      <th>errorOrigAmount</th>\n",
       "      <th>type_CASH_OUT</th>\n",
       "      <th>type_TRANSFER</th>\n",
       "      <th>isFraud</th>\n",
       "    </tr>\n",
       "  </thead>\n",
       "  <tbody>\n",
       "    <tr>\n",
       "      <th>436823</th>\n",
       "      <td>18</td>\n",
       "      <td>2.051071e+05</td>\n",
       "      <td>691537.125</td>\n",
       "      <td>486430.0625</td>\n",
       "      <td>7.477576e+05</td>\n",
       "      <td>7.247454e+05</td>\n",
       "      <td>0.000000</td>\n",
       "      <td>2.281193e+05</td>\n",
       "      <td>486430.031250</td>\n",
       "      <td>1</td>\n",
       "      <td>0</td>\n",
       "      <td>0</td>\n",
       "    </tr>\n",
       "    <tr>\n",
       "      <th>6113886</th>\n",
       "      <td>527</td>\n",
       "      <td>1.094420e+06</td>\n",
       "      <td>1094419.875</td>\n",
       "      <td>0.0000</td>\n",
       "      <td>0.000000e+00</td>\n",
       "      <td>0.000000e+00</td>\n",
       "      <td>0.000000</td>\n",
       "      <td>1.094420e+06</td>\n",
       "      <td>0.000000</td>\n",
       "      <td>0</td>\n",
       "      <td>1</td>\n",
       "      <td>1</td>\n",
       "    </tr>\n",
       "    <tr>\n",
       "      <th>223194</th>\n",
       "      <td>14</td>\n",
       "      <td>2.471754e+04</td>\n",
       "      <td>0.000</td>\n",
       "      <td>0.0000</td>\n",
       "      <td>2.380768e+05</td>\n",
       "      <td>2.627943e+05</td>\n",
       "      <td>24717.539062</td>\n",
       "      <td>0.000000e+00</td>\n",
       "      <td>-24717.539062</td>\n",
       "      <td>1</td>\n",
       "      <td>0</td>\n",
       "      <td>0</td>\n",
       "    </tr>\n",
       "    <tr>\n",
       "      <th>2577750</th>\n",
       "      <td>207</td>\n",
       "      <td>1.016443e+05</td>\n",
       "      <td>0.000</td>\n",
       "      <td>0.0000</td>\n",
       "      <td>3.301527e+05</td>\n",
       "      <td>4.317969e+05</td>\n",
       "      <td>101644.257812</td>\n",
       "      <td>0.000000e+00</td>\n",
       "      <td>-101644.257812</td>\n",
       "      <td>1</td>\n",
       "      <td>0</td>\n",
       "      <td>0</td>\n",
       "    </tr>\n",
       "    <tr>\n",
       "      <th>628923</th>\n",
       "      <td>34</td>\n",
       "      <td>2.093765e+05</td>\n",
       "      <td>103143.000</td>\n",
       "      <td>0.0000</td>\n",
       "      <td>2.538365e+07</td>\n",
       "      <td>2.559303e+07</td>\n",
       "      <td>106233.453125</td>\n",
       "      <td>0.000000e+00</td>\n",
       "      <td>-106233.453125</td>\n",
       "      <td>1</td>\n",
       "      <td>0</td>\n",
       "      <td>0</td>\n",
       "    </tr>\n",
       "    <tr>\n",
       "      <th>...</th>\n",
       "      <td>...</td>\n",
       "      <td>...</td>\n",
       "      <td>...</td>\n",
       "      <td>...</td>\n",
       "      <td>...</td>\n",
       "      <td>...</td>\n",
       "      <td>...</td>\n",
       "      <td>...</td>\n",
       "      <td>...</td>\n",
       "      <td>...</td>\n",
       "      <td>...</td>\n",
       "      <td>...</td>\n",
       "    </tr>\n",
       "    <tr>\n",
       "      <th>6060883</th>\n",
       "      <td>500</td>\n",
       "      <td>5.932620e+03</td>\n",
       "      <td>0.000</td>\n",
       "      <td>0.0000</td>\n",
       "      <td>3.498703e+05</td>\n",
       "      <td>3.558029e+05</td>\n",
       "      <td>5932.620117</td>\n",
       "      <td>0.000000e+00</td>\n",
       "      <td>-5932.620117</td>\n",
       "      <td>1</td>\n",
       "      <td>0</td>\n",
       "      <td>0</td>\n",
       "    </tr>\n",
       "    <tr>\n",
       "      <th>4978323</th>\n",
       "      <td>352</td>\n",
       "      <td>6.515725e+04</td>\n",
       "      <td>79278.000</td>\n",
       "      <td>14120.7500</td>\n",
       "      <td>6.721660e+03</td>\n",
       "      <td>7.187892e+04</td>\n",
       "      <td>0.000000</td>\n",
       "      <td>-1.562500e-02</td>\n",
       "      <td>14120.750000</td>\n",
       "      <td>1</td>\n",
       "      <td>0</td>\n",
       "      <td>0</td>\n",
       "    </tr>\n",
       "    <tr>\n",
       "      <th>4510976</th>\n",
       "      <td>325</td>\n",
       "      <td>1.932593e+05</td>\n",
       "      <td>0.000</td>\n",
       "      <td>0.0000</td>\n",
       "      <td>4.833633e+05</td>\n",
       "      <td>6.766226e+05</td>\n",
       "      <td>193259.312500</td>\n",
       "      <td>0.000000e+00</td>\n",
       "      <td>-193259.312500</td>\n",
       "      <td>1</td>\n",
       "      <td>0</td>\n",
       "      <td>0</td>\n",
       "    </tr>\n",
       "    <tr>\n",
       "      <th>5334291</th>\n",
       "      <td>374</td>\n",
       "      <td>2.599351e+05</td>\n",
       "      <td>10642.000</td>\n",
       "      <td>0.0000</td>\n",
       "      <td>7.846657e+05</td>\n",
       "      <td>1.044601e+06</td>\n",
       "      <td>249293.062500</td>\n",
       "      <td>0.000000e+00</td>\n",
       "      <td>-249293.062500</td>\n",
       "      <td>1</td>\n",
       "      <td>0</td>\n",
       "      <td>0</td>\n",
       "    </tr>\n",
       "    <tr>\n",
       "      <th>5269756</th>\n",
       "      <td>372</td>\n",
       "      <td>9.274922e+05</td>\n",
       "      <td>0.000</td>\n",
       "      <td>0.0000</td>\n",
       "      <td>4.295148e+06</td>\n",
       "      <td>5.222640e+06</td>\n",
       "      <td>927492.187500</td>\n",
       "      <td>-5.000000e-01</td>\n",
       "      <td>-927492.187500</td>\n",
       "      <td>0</td>\n",
       "      <td>1</td>\n",
       "      <td>0</td>\n",
       "    </tr>\n",
       "  </tbody>\n",
       "</table>\n",
       "<p>2244031 rows × 12 columns</p>\n",
       "</div>"
      ],
      "text/plain": [
       "         step        amount  oldBalanceOrig  newBalanceOrig  oldBalanceDest  \\\n",
       "436823     18  2.051071e+05      691537.125     486430.0625    7.477576e+05   \n",
       "6113886   527  1.094420e+06     1094419.875          0.0000    0.000000e+00   \n",
       "223194     14  2.471754e+04           0.000          0.0000    2.380768e+05   \n",
       "2577750   207  1.016443e+05           0.000          0.0000    3.301527e+05   \n",
       "628923     34  2.093765e+05      103143.000          0.0000    2.538365e+07   \n",
       "...       ...           ...             ...             ...             ...   \n",
       "6060883   500  5.932620e+03           0.000          0.0000    3.498703e+05   \n",
       "4978323   352  6.515725e+04       79278.000      14120.7500    6.721660e+03   \n",
       "4510976   325  1.932593e+05           0.000          0.0000    4.833633e+05   \n",
       "5334291   374  2.599351e+05       10642.000          0.0000    7.846657e+05   \n",
       "5269756   372  9.274922e+05           0.000          0.0000    4.295148e+06   \n",
       "\n",
       "         newBalanceDest  errorBalanceOrig  errorBalanceDest  errorOrigAmount  \\\n",
       "436823     7.247454e+05          0.000000      2.281193e+05    486430.031250   \n",
       "6113886    0.000000e+00          0.000000      1.094420e+06         0.000000   \n",
       "223194     2.627943e+05      24717.539062      0.000000e+00    -24717.539062   \n",
       "2577750    4.317969e+05     101644.257812      0.000000e+00   -101644.257812   \n",
       "628923     2.559303e+07     106233.453125      0.000000e+00   -106233.453125   \n",
       "...                 ...               ...               ...              ...   \n",
       "6060883    3.558029e+05       5932.620117      0.000000e+00     -5932.620117   \n",
       "4978323    7.187892e+04          0.000000     -1.562500e-02     14120.750000   \n",
       "4510976    6.766226e+05     193259.312500      0.000000e+00   -193259.312500   \n",
       "5334291    1.044601e+06     249293.062500      0.000000e+00   -249293.062500   \n",
       "5269756    5.222640e+06     927492.187500     -5.000000e-01   -927492.187500   \n",
       "\n",
       "         type_CASH_OUT  type_TRANSFER  isFraud  \n",
       "436823               1              0        0  \n",
       "6113886              0              1        1  \n",
       "223194               1              0        0  \n",
       "2577750              1              0        0  \n",
       "628923               1              0        0  \n",
       "...                ...            ...      ...  \n",
       "6060883              1              0        0  \n",
       "4978323              1              0        0  \n",
       "4510976              1              0        0  \n",
       "5334291              1              0        0  \n",
       "5269756              0              1        0  \n",
       "\n",
       "[2244031 rows x 12 columns]"
      ]
     },
     "execution_count": 7,
     "metadata": {},
     "output_type": "execute_result"
    }
   ],
   "source": [
    "train_df"
   ]
  },
  {
   "cell_type": "code",
   "execution_count": 9,
   "metadata": {
    "ExecuteTime": {
     "end_time": "2021-06-23T04:25:53.385557Z",
     "start_time": "2021-06-23T04:25:51.766752Z"
    }
   },
   "outputs": [
    {
     "data": {
      "text/plain": [
       "<AxesSubplot:>"
      ]
     },
     "execution_count": 9,
     "metadata": {},
     "output_type": "execute_result"
    },
    {
     "data": {
      "image/png": "[encoded data removed]",
      "text/plain": [
       "<Figure size 432x288 with 1 Axes>"
      ]
     },
     "metadata": {},
     "output_type": "display_data"
    }
   ],
   "source": [
    "train_df.isFraud.to_pandas().plot()"
   ]
  },
  {
   "cell_type": "code",
   "execution_count": 10,
   "metadata": {
    "ExecuteTime": {
     "end_time": "2021-06-23T04:25:56.290109Z",
     "start_time": "2021-06-23T04:25:56.020992Z"
    }
   },
   "outputs": [
    {
     "data": {
      "text/plain": [
       "<AxesSubplot:>"
      ]
     },
     "execution_count": 10,
     "metadata": {},
     "output_type": "execute_result"
    },
    {
     "data": {
      "image/png": "[encoded data removed]",
      "text/plain": [
       "<Figure size 432x288 with 1 Axes>"
      ]
     },
     "metadata": {},
     "output_type": "display_data"
    }
   ],
   "source": [
    "val_df.isFraud.to_pandas().plot()"
   ]
  },
  {
   "cell_type": "code",
   "execution_count": 11,
   "metadata": {
    "ExecuteTime": {
     "end_time": "2021-06-23T04:25:56.634910Z",
     "start_time": "2021-06-23T04:25:56.342594Z"
    },
    "scrolled": true
   },
   "outputs": [
    {
     "data": {
      "text/plain": [
       "<AxesSubplot:>"
      ]
     },
     "execution_count": 11,
     "metadata": {},
     "output_type": "execute_result"
    },
    {
     "data": {
      "image/png": "[encoded data removed]",
      "text/plain": [
       "<Figure size 432x288 with 1 Axes>"
      ]
     },
     "metadata": {},
     "output_type": "display_data"
    }
   ],
   "source": [
    "test_df.isFraud.to_pandas().plot()"
   ]
  },
  {
   "cell_type": "markdown",
   "metadata": {
    "heading_collapsed": true
   },
   "source": [
    "#### Class Rebalancing - SMOTE, RandomOverSampler - uncomment if desired"
   ]
  },
  {
   "cell_type": "code",
   "execution_count": 12,
   "metadata": {
    "ExecuteTime": {
     "end_time": "2021-06-23T04:26:40.900881Z",
     "start_time": "2021-06-23T04:26:40.877080Z"
    },
    "hidden": true
   },
   "outputs": [
    {
     "data": {
      "text/plain": [
       "0    2237378\n",
       "1       6653\n",
       "Name: isFraud, dtype: int32"
      ]
     },
     "execution_count": 12,
     "metadata": {},
     "output_type": "execute_result"
    }
   ],
   "source": [
    "# Train Set whats the class imbalance like?\n",
    "# train_df.isFraud.value_counts()"
   ]
  },
  {
   "cell_type": "code",
   "execution_count": 13,
   "metadata": {
    "ExecuteTime": {
     "end_time": "2021-06-23T04:27:17.987462Z",
     "start_time": "2021-06-23T04:27:17.978409Z"
    },
    "hidden": true
   },
   "outputs": [
    {
     "name": "stdout",
     "output_type": "stream",
     "text": [
      "Fraud present in 0.296% of cases\n"
     ]
    }
   ],
   "source": [
    "# print(f'Fraud present in {100*train_df.isFraud.sum(dtype=cp.int64)/len(train_df):0.3f}% of cases')"
   ]
  },
  {
   "cell_type": "code",
   "execution_count": 14,
   "metadata": {
    "ExecuteTime": {
     "end_time": "2021-06-23T04:27:26.733255Z",
     "start_time": "2021-06-23T04:27:25.713201Z"
    },
    "hidden": true
   },
   "outputs": [
    {
     "name": "stdout",
     "output_type": "stream",
     "text": [
      "0.8281455039978027\n"
     ]
    }
   ],
   "source": [
    "# # use SMOTENC when data is mixed numerical and categorical features\n",
    "# from imblearn.over_sampling import SMOTENC, RandomOverSampler\n",
    "# import time\n",
    "# start = time.time()\n",
    "\n",
    "# # learn more about Synthetic Minority Over-sampling Technique for Nominal and Continuous here:\n",
    "# # https://imbalanced-learn.org/stable/references/generated/imblearn.over_sampling.SMOTENC.html\n",
    "\n",
    "\n",
    "# categorical = [train_cols.index(i) for i in train_cols if i in ['step', 'type_CASH_OUT', 'type_TRANSFER']]\n",
    "# # sampler = SMOTENC(categorical_features=categorical, random_state=777, n_jobs=-1)\n",
    "# sampler = RandomOverSampler(random_state=8_675_309)  # Jenny\n",
    "\n",
    "# X_resampled, y_resampled = sampler.fit_resample(train_df[train_cols].to_pandas(),\n",
    "#                                                 train_df['isFraud'].to_pandas())\n",
    "\n",
    "# end = time.time()\n",
    "# print(end-start)  # 150s for SMOTE_NC,  ~0.75s for RandomOverSampler on my machine"
   ]
  },
  {
   "cell_type": "code",
   "execution_count": 15,
   "metadata": {
    "ExecuteTime": {
     "end_time": "2021-06-23T04:27:38.543343Z",
     "start_time": "2021-06-23T04:27:38.496036Z"
    },
    "hidden": true
   },
   "outputs": [
    {
     "data": {
      "text/plain": [
       "0    2237378\n",
       "1    2237378\n",
       "Name: isFraud, dtype: int64"
      ]
     },
     "execution_count": 15,
     "metadata": {},
     "output_type": "execute_result"
    }
   ],
   "source": [
    "# # whats the class imbalance like now?\n",
    "# y_resampled.value_counts()"
   ]
  },
  {
   "cell_type": "code",
   "execution_count": 16,
   "metadata": {
    "ExecuteTime": {
     "end_time": "2021-06-23T04:27:45.794847Z",
     "start_time": "2021-06-23T04:27:45.658251Z"
    },
    "hidden": true
   },
   "outputs": [],
   "source": [
    "# # make our train_df again with the balanced data.\n",
    "train_df = cudf.concat([cudf.DataFrame.from_pandas(X_resampled), \n",
    "                         cudf.Series.from_pandas(y_resampled)], axis=1)[col_order]"
   ]
  },
  {
   "cell_type": "code",
   "execution_count": 17,
   "metadata": {
    "ExecuteTime": {
     "end_time": "2021-06-23T04:28:15.241605Z",
     "start_time": "2021-06-23T04:28:14.562234Z"
    },
    "hidden": true
   },
   "outputs": [
    {
     "data": {
      "text/plain": [
       "<AxesSubplot:>"
      ]
     },
     "execution_count": 17,
     "metadata": {},
     "output_type": "execute_result"
    },
    {
     "data": {
      "image/png": "[encoded data removed]",
      "text/plain": [
       "<Figure size 432x288 with 1 Axes>"
      ]
     },
     "metadata": {},
     "output_type": "display_data"
    }
   ],
   "source": [
    "# as you see from plot below, shuffling dataset is desired if using SMOTE.\n",
    "train_df.isFraud.to_pandas().plot()"
   ]
  },
  {
   "cell_type": "markdown",
   "metadata": {
    "heading_collapsed": true
   },
   "source": [
    "### re-visualize"
   ]
  },
  {
   "cell_type": "code",
   "execution_count": 12,
   "metadata": {
    "ExecuteTime": {
     "end_time": "2021-06-22T02:41:36.054093Z",
     "start_time": "2021-06-22T02:41:36.050485Z"
    },
    "hidden": true
   },
   "outputs": [
    {
     "data": {
      "text/plain": [
       "['step',\n",
       " 'amount',\n",
       " 'oldBalanceOrig',\n",
       " 'newBalanceOrig',\n",
       " 'oldBalanceDest',\n",
       " 'newBalanceDest',\n",
       " 'errorBalanceOrig',\n",
       " 'errorBalanceDest',\n",
       " 'errorOrigAmount',\n",
       " 'type_CASH_OUT',\n",
       " 'type_TRANSFER',\n",
       " 'isFraud']"
      ]
     },
     "execution_count": 12,
     "metadata": {},
     "output_type": "execute_result"
    }
   ],
   "source": [
    "col_order"
   ]
  },
  {
   "cell_type": "code",
   "execution_count": 18,
   "metadata": {
    "ExecuteTime": {
     "end_time": "2021-06-23T04:28:48.965587Z",
     "start_time": "2021-06-23T04:28:47.531831Z"
    },
    "hidden": true
   },
   "outputs": [
    {
     "data": {
      "text/plain": [
       "<AxesSubplot:>"
      ]
     },
     "execution_count": 18,
     "metadata": {},
     "output_type": "execute_result"
    },
    {
     "data": {
      "image/png": "[encoded data removed]",
      "text/plain": [
       "<Figure size 432x288 with 2 Axes>"
      ]
     },
     "metadata": {},
     "output_type": "display_data"
    }
   ],
   "source": [
    "# visualize correlation matrix ..\n",
    "\n",
    "sns.heatmap(train_df[col_order].corr().to_pandas(), center=0)"
   ]
  },
  {
   "cell_type": "markdown",
   "metadata": {
    "heading_collapsed": true,
    "hidden": true
   },
   "source": [
    "#### More Scaling"
   ]
  },
  {
   "cell_type": "code",
   "execution_count": 19,
   "metadata": {
    "ExecuteTime": {
     "end_time": "2021-06-23T04:35:59.068859Z",
     "start_time": "2021-06-23T04:28:59.485252Z"
    },
    "hidden": true,
    "scrolled": false
   },
   "outputs": [
    {
     "name": "stdout",
     "output_type": "stream",
     "text": [
      "0 0 None\n",
      "1 0 initial_probplot\n",
      "2 0 StandardScaler\n",
      "3 0 PowerTransformer\n",
      "4 0 QuantileTransformer\n",
      "5 0 MinMaxScaler\n",
      "6 0 RobustScaler\n",
      "0 1 None\n",
      "1 1 initial_probplot\n",
      "2 1 StandardScaler\n",
      "3 1 PowerTransformer\n",
      "4 1 QuantileTransformer\n",
      "5 1 MinMaxScaler\n",
      "6 1 RobustScaler\n",
      "0 2 None\n",
      "1 2 initial_probplot\n",
      "2 2 StandardScaler\n",
      "3 2 PowerTransformer\n",
      "4 2 QuantileTransformer\n",
      "5 2 MinMaxScaler\n",
      "6 2 RobustScaler\n",
      "0 3 None\n",
      "1 3 initial_probplot\n",
      "2 3 StandardScaler\n",
      "3 3 PowerTransformer\n",
      "4 3 QuantileTransformer\n",
      "5 3 MinMaxScaler\n",
      "6 3 RobustScaler\n",
      "0 4 None\n",
      "1 4 initial_probplot\n",
      "2 4 StandardScaler\n",
      "3 4 PowerTransformer\n",
      "4 4 QuantileTransformer\n",
      "5 4 MinMaxScaler\n",
      "6 4 RobustScaler\n"
     ]
    },
    {
     "data": {
      "image/png": "[encoded data removed]",
      "text/plain": [
       "<Figure size 1944x1584 with 35 Axes>"
      ]
     },
     "metadata": {},
     "output_type": "display_data"
    }
   ],
   "source": [
    "# SLOW - can skip this cell\n",
    "# Why not smack the numerical cols with a hammer of transforms?\n",
    "# You can then pick one that suits the problem the best, if desired.\n",
    "import warnings\n",
    "from scipy import stats\n",
    "from sklearn.preprocessing import StandardScaler, PowerTransformer, QuantileTransformer, MinMaxScaler, RobustScaler\n",
    "\n",
    "numerical_cols = ['amount', 'oldBalanceOrig',\n",
    "                  'newBalanceOrig', 'oldBalanceDest', 'newBalanceDest']\n",
    "trsnforms = [None,\n",
    "             'initial_probplot',\n",
    "             'StandardScaler',\n",
    "             'PowerTransformer',\n",
    "             'QuantileTransformer',\n",
    "             'MinMaxScaler',\n",
    "             'RobustScaler'\n",
    "             ]\n",
    "nrows, ncols = len(trsnforms), len(numerical_cols)\n",
    "fig, ax = plt.subplots(nrows=nrows, ncols=ncols, figsize=(27, 22))\n",
    "\n",
    "_txns = txns.to_pandas()\n",
    "\n",
    "\n",
    "with warnings.catch_warnings():\n",
    "    warnings.filterwarnings(\"ignore\", category=RuntimeWarning)\n",
    "    \n",
    "    for col in range(ncols):\n",
    "        for row, transform in zip(range(nrows), trsnforms):\n",
    "            print(row, col, transform)\n",
    "            if not transform:\n",
    "                _txns[numerical_cols[col]].plot(\n",
    "                    kind='hist', ax=ax[row][col], bins=25, logy=True, title=numerical_cols[col])\n",
    "\n",
    "                continue\n",
    "            elif transform == 'initial_probplot':\n",
    "                prob = stats.probplot(\n",
    "                    _txns[numerical_cols[col]].values, dist=stats.norm, plot=ax[row][col])\n",
    "\n",
    "                ax[row][col].set_xlabel('')\n",
    "                ax[row][col].set_title('Probplot against normal distribution')\n",
    "                continue\n",
    "            elif transform == 'StandardScaler':\n",
    "                scaler = StandardScaler()\n",
    "            elif transform == 'PowerTransformer':\n",
    "                scaler = PowerTransformer(method='yeo-johnson', standardize=True)\n",
    "            elif transform == 'QuantileTransformer':\n",
    "                scaler = QuantileTransformer(output_distribution='normal')\n",
    "            elif transform == 'MinMaxScaler':\n",
    "                scaler = MinMaxScaler()\n",
    "            elif transform == 'RobustScaler':\n",
    "                scaler = RobustScaler()\n",
    "\n",
    "            xt = scaler.fit_transform(_txns[[numerical_cols[col]]])\n",
    "            prob = stats.probplot(xt.squeeze(), dist=stats.norm, plot=ax[row][col])\n",
    "            ax[row][col].set_title(f'Prbplt post\\n{transform} transf')\n",
    "\n",
    "plt.tight_layout()\n",
    "# plt.savefig('transformslog1p.png')\n",
    "plt.show()"
   ]
  },
  {
   "cell_type": "markdown",
   "metadata": {
    "hidden": true
   },
   "source": [
    "We could pick one of these transforms that is the most linear and apply the fit to the train data. We can leave that for an exercise. The high number of zeros in some columns ia apparent."
   ]
  },
  {
   "cell_type": "markdown",
   "metadata": {
    "heading_collapsed": true
   },
   "source": [
    "# Models\n",
    "\n",
    "We make a simple feedforward network and a second `fun` network that generates embeddings, and later adds outputs from 2 separate layers together.  "
   ]
  },
  {
   "cell_type": "code",
   "execution_count": 13,
   "metadata": {
    "ExecuteTime": {
     "end_time": "2021-06-23T04:11:59.248790Z",
     "start_time": "2021-06-23T04:11:58.781130Z"
    },
    "hidden": true
   },
   "outputs": [
    {
     "name": "stdout",
     "output_type": "stream",
     "text": [
      "cuda:0\n"
     ]
    }
   ],
   "source": [
    "import torch\n",
    "from torch.autograd import Variable\n",
    "import torch.optim as optim\n",
    "import torch.nn as nn\n",
    "import torch.nn.functional as F\n",
    "\n",
    "device = torch.device(\"cuda:0\" if torch.cuda.is_available() else \"cpu\")\n",
    "print(device)\n",
    "\n",
    "TRAIN_BATCH_SIZE = 512"
   ]
  },
  {
   "cell_type": "code",
   "execution_count": 14,
   "metadata": {
    "ExecuteTime": {
     "end_time": "2021-06-23T04:11:59.262803Z",
     "start_time": "2021-06-23T04:11:59.249907Z"
    },
    "code_folding": [
     0
    ],
    "hidden": true
   },
   "outputs": [],
   "source": [
    "class NNModel(nn.Module):\n",
    "    def __init__(self, input_cols: list, hidden_dim=16):\n",
    "        super(NNModel, self).__init__()\n",
    "        self._name = f'NNModel_{hidden_dim}'\n",
    "\n",
    "        self.fc1 = nn.Linear(in_features=len(input_cols), out_features=hidden_dim)\n",
    "        self.norm1 = nn.BatchNorm1d(hidden_dim)\n",
    "        self.relu1 = nn.ReLU()\n",
    "        \n",
    "        self.fc2 = nn.Linear(in_features=hidden_dim, out_features=hidden_dim)\n",
    "        self.norm2 = nn.BatchNorm1d(hidden_dim)\n",
    "        self.relu2 = nn.ReLU()\n",
    "        \n",
    "        self.fc3 = nn.Linear(in_features=hidden_dim, out_features=hidden_dim)\n",
    "        self.norm3 = nn.BatchNorm1d(hidden_dim)\n",
    "        self.relu3 = nn.ReLU()\n",
    "        \n",
    "        self.output_layer = nn.Linear(in_features=hidden_dim, out_features=1)\n",
    "\n",
    "\n",
    "    def forward(self, inp):\n",
    "        \n",
    "        x = self.relu1(self.norm1(self.fc1(inp)))\n",
    "        x = self.relu2(self.norm2(self.fc2(x)))\n",
    "        x = self.relu3(self.norm3(self.fc3(x)))\n",
    "\n",
    "        logits = self.output_layer(x)\n",
    "#         print(logits)\n",
    "        return logits\n",
    "\n",
    "\n",
    "class FunNet(nn.Module):\n",
    "    def __init__(self, input_cols: list, embedding_dim=24, hidden_dim=256, dropout_rate=0.1):\n",
    "        super(FunNet, self).__init__()\n",
    "        self._name = f'NNModel_{embedding_dim}_{hidden_dim}'\n",
    "        \n",
    "        self._cols = {col:idx for idx, col in enumerate(input_cols)} \n",
    "        self.dropout_rate = dropout_rate\n",
    "        \n",
    "        self.step_embeddings = nn.Embedding(760, embedding_dim)\n",
    "        self.type_CASH_OUT_embeddings = nn.Embedding(2, 1)\n",
    "        self.type_TRANSFER_embeddings = nn.Embedding(2, 1)\n",
    "        \n",
    "        self.fc1 = nn.Linear(in_features=8+embedding_dim + 2, out_features=hidden_dim)\n",
    "        self.norm1 = nn.BatchNorm1d(num_features=hidden_dim)\n",
    "        self.prelu1 = nn.PReLU()\n",
    "        self.dropout1 = nn.Dropout(self.dropout_rate)\n",
    "        \n",
    "        self.fc2 = nn.Linear(hidden_dim, hidden_dim)\n",
    "        self.norm2 = nn.BatchNorm1d(hidden_dim)\n",
    "        self.prelu2 = nn.PReLU()\n",
    "        self.dropout2 = nn.Dropout(self.dropout_rate)\n",
    "                \n",
    "        self.fc3 = nn.Linear(in_features=hidden_dim, out_features=1)\n",
    "\n",
    "\n",
    "    def get_embed(self, x, embed):\n",
    "        s0 = x.shape[0]\n",
    "        x = embed(x)      \n",
    "        # lag_embed.shape: bs, x.shape[1], embedding_dim\n",
    "        x = x.view(s0, -1)\n",
    "        return x\n",
    "    \n",
    "    def forward(self, inp):\n",
    "        # generate categorical embeddings\n",
    "\n",
    "        step_embed = self.get_embed(inp[:, self._cols['step']].to(torch.int32), self.step_embeddings)\n",
    "        transfer_embed = self.get_embed(inp[:, self._cols['type_TRANSFER']].to(torch.int32), self.type_TRANSFER_embeddings)\n",
    "        cash_out_embed = self.get_embed( inp[:, self._cols['type_CASH_OUT']].to(torch.int32), self.type_CASH_OUT_embeddings)\n",
    "        \n",
    "        amount = inp[:, self._cols['amount']].to(torch.float32).unsqueeze(1)\n",
    "        oldBalanceOrig = inp[:, self._cols['oldBalanceOrig']].to(torch.float32).unsqueeze(1)\n",
    "        newBalanceOrig = inp[:, self._cols['newBalanceOrig']].to(torch.float32).unsqueeze(1)\n",
    "        oldBalanceDest = inp[:, self._cols['oldBalanceDest']].to(torch.float32).unsqueeze(1)\n",
    "        newBalanceDest = inp[:, self._cols['newBalanceDest']].to(torch.float32).unsqueeze(1)\n",
    "        errorBalanceOrig = inp[:, self._cols['errorBalanceOrig']].to(torch.float32).unsqueeze(1)\n",
    "        errorBalanceDest = inp[:, self._cols['errorBalanceDest']].to(torch.float32).unsqueeze(1)\n",
    "        errorOrigAmount = inp[:, self._cols['errorOrigAmount']].to(torch.float32).unsqueeze(1)\n",
    "        \n",
    "#         x = (step_embed + transfer_embed + cash_out_embed)\n",
    "#         print('merge', x.shape)\n",
    "        x = torch.cat([amount, oldBalanceOrig, newBalanceOrig, oldBalanceDest, newBalanceDest,\n",
    "                       errorBalanceOrig, errorBalanceDest, errorOrigAmount, \n",
    "                       step_embed, transfer_embed, cash_out_embed],-1)\n",
    "#         print('cat', x.shape)\n",
    "        x = self.prelu1(self.norm1(self.fc1(x)))\n",
    "        x = self.dropout1(x)\n",
    "#         print('layer1', x.shape)\n",
    "        y = self.prelu2(self.norm2(self.fc2(x)))\n",
    "#         print('y', y.shape)\n",
    "        x = x + y  # fun: re-add the activations...\n",
    "        x = self.dropout2(x)\n",
    "        \n",
    "        logits = self.fc3(x)\n",
    "        return logits\n",
    "    \n"
   ]
  },
  {
   "cell_type": "code",
   "execution_count": 15,
   "metadata": {
    "ExecuteTime": {
     "end_time": "2021-06-23T04:11:59.948303Z",
     "start_time": "2021-06-23T04:11:59.942017Z"
    },
    "code_folding": [],
    "hidden": true
   },
   "outputs": [],
   "source": [
    "import os\n",
    "import torch\n",
    "from typing import Union\n",
    "\n",
    "\n",
    "def save_checkpoint(model, optimizer, epoch: int, best_score, file_name, threshold, k_fold=0):\n",
    "    \"\"\"\n",
    "    Save checkpoint to pytorch .pt file.\n",
    "    Args:\n",
    "        model: Instance of Pytorch model.\n",
    "        optimizer: pytorch optimizer ex. torch.optim.Adam() instance\n",
    "        epoch: epoch number\n",
    "        best_score: model best score acccoring to appropriate metric.\n",
    "                    Can be multiple, just save as a dict. of {'metric': score}\n",
    "        k_fold: int or string for K-folds.\n",
    "        file_name (str): filename usually including the name of the model.:\n",
    "\n",
    "    Returns:\n",
    "\n",
    "    \"\"\"\n",
    "    checkpoint = {\n",
    "        'model': model.state_dict(),\n",
    "        'optimizer': optimizer.state_dict(),\n",
    "        'k_fold': k_fold,\n",
    "        'epoch': epoch,\n",
    "        'best_score': best_score,\n",
    "        'threshold': threshold\n",
    "    }\n",
    "    os.makedirs(f'./checkpoints/', exist_ok=True)\n",
    "\n",
    "    torch.save(checkpoint, f'./checkpoints/{file_name}.pt')\n",
    "\n",
    "\n",
    "def load_checkpoint(file_name: str, model, device: str):\n",
    "    \"\"\"\n",
    "    Load Checkpoint from pytorch .pt file.\n",
    "\n",
    "    Args:\n",
    "        k_fold: int or string for K-folds.\n",
    "        device: str\n",
    "        file_name (str): filename usually including the name of the model.\n",
    "        model_cls: (uninstantiated) class belonging to a custom nn.Module\n",
    "        **kwargs:\n",
    "\n",
    "    Returns:\n",
    "\n",
    "    \"\"\"\n",
    "    # instantiate the model and pass in input params as kwargs.\n",
    "    model = model.to(device)\n",
    "\n",
    "    checkpoint = torch.load(f'./checkpoints/{file_name}.pt')\n",
    "    model.load_state_dict(checkpoint['model'])\n",
    "    model.eval()\n",
    "    return model, checkpoint['threshold']\n"
   ]
  },
  {
   "cell_type": "markdown",
   "metadata": {
    "heading_collapsed": true
   },
   "source": [
    "# Training with NVTabular or Pytorch Dataset\n",
    "\n",
    "We demonstrate how to build an NVTabular Dataloader and Pytorch Dataset and Dataloader for training"
   ]
  },
  {
   "cell_type": "code",
   "execution_count": 19,
   "metadata": {
    "ExecuteTime": {
     "end_time": "2021-06-23T02:34:37.084345Z",
     "start_time": "2021-06-23T02:34:37.081367Z"
    },
    "hidden": true
   },
   "outputs": [],
   "source": [
    "\n",
    "col_order = ['step', 'amount', 'oldBalanceOrig', 'newBalanceOrig', 'oldBalanceDest',\n",
    "             'newBalanceDest', 'errorBalanceOrig', 'errorBalanceDest', 'errorOrigAmount', \n",
    "             'type_CASH_OUT', 'type_TRANSFER', 'isFraud']"
   ]
  },
  {
   "cell_type": "markdown",
   "metadata": {
    "heading_collapsed": true,
    "hidden": true
   },
   "source": [
    "## NVTabular + Pytorch Training"
   ]
  },
  {
   "cell_type": "markdown",
   "metadata": {
    "heading_collapsed": true,
    "hidden": true
   },
   "source": [
    "### Build an NVTabular Dataloader"
   ]
  },
  {
   "cell_type": "code",
   "execution_count": 20,
   "metadata": {
    "ExecuteTime": {
     "end_time": "2021-06-23T02:34:38.141443Z",
     "start_time": "2021-06-23T02:34:38.137535Z"
    },
    "hidden": true
   },
   "outputs": [
    {
     "data": {
      "text/plain": [
       "'0.5.3'"
      ]
     },
     "execution_count": 20,
     "metadata": {},
     "output_type": "execute_result"
    }
   ],
   "source": [
    "import nvtabular as nvt\n",
    "from nvtabular.loader.torch import TorchAsyncItr, DLDataLoader\n",
    "\n",
    "nvt.__version__"
   ]
  },
  {
   "cell_type": "code",
   "execution_count": 21,
   "metadata": {
    "ExecuteTime": {
     "end_time": "2021-06-23T02:34:38.634670Z",
     "start_time": "2021-06-23T02:34:38.502729Z"
    },
    "hidden": true
   },
   "outputs": [
    {
     "name": "stdout",
     "output_type": "stream",
     "text": [
      "['step', 'type_CASH_OUT', 'type_TRANSFER', 'amount', 'errorBalanceDest', 'errorBalanceOrig', 'errorOrigAmount', 'newBalanceDest', 'newBalanceOrig', 'oldBalanceDest', 'oldBalanceOrig']\n"
     ]
    }
   ],
   "source": [
    "# nvtabular will require the dtypes to be the same per data class kind\n",
    "# (all cats the same dtype, all conts the same dtype)\n",
    "train_df.type_CASH_OUT = train_df.type_CASH_OUT.astype(cp.int32)\n",
    "train_df.type_TRANSFER = train_df.type_TRANSFER.astype(cp.int32)\n",
    "val_df.type_CASH_OUT = val_df.type_CASH_OUT.astype(cp.int32)\n",
    "val_df.type_TRANSFER = val_df.type_TRANSFER.astype(cp.int32)\n",
    "test_df.type_CASH_OUT = test_df.type_CASH_OUT.astype(cp.int32)\n",
    "test_df.type_TRANSFER = test_df.type_TRANSFER.astype(cp.int32)\n",
    "\n",
    "CATEGORICAL_COLUMNS = ['step', 'type_CASH_OUT', 'type_TRANSFER']\n",
    "CONTINUOUS_COLUMNS = ['amount', 'oldBalanceOrig', 'newBalanceOrig', 'oldBalanceDest',\n",
    "                      'newBalanceDest', 'errorBalanceOrig', 'errorBalanceDest', 'errorOrigAmount']\n",
    "LABEL_COLUMNS = ['isFraud']\n",
    "\n",
    "train_dataset = TorchAsyncItr(\n",
    "   nvt.Dataset(train_df),\n",
    "   cats=CATEGORICAL_COLUMNS,\n",
    "   conts=CONTINUOUS_COLUMNS,\n",
    "   labels=LABEL_COLUMNS,\n",
    "   batch_size=TRAIN_BATCH_SIZE,\n",
    "   shuffle=True\n",
    ")\n",
    "\n",
    "train_loader = DLDataLoader(\n",
    "   train_dataset,\n",
    "   batch_size=None,\n",
    "   pin_memory=False,\n",
    "   num_workers=0\n",
    ")\n",
    "\n",
    "val_dataset = TorchAsyncItr(\n",
    "   nvt.Dataset(val_df),\n",
    "   cats=CATEGORICAL_COLUMNS,\n",
    "   conts=CONTINUOUS_COLUMNS,\n",
    "   labels=LABEL_COLUMNS,\n",
    "   batch_size=TRAIN_BATCH_SIZE,\n",
    "   shuffle=True\n",
    ")\n",
    "\n",
    "val_loader = DLDataLoader(\n",
    "   val_dataset,\n",
    "   batch_size=None,\n",
    "   pin_memory=False,\n",
    "   num_workers=0\n",
    ")\n",
    "\n",
    "test_dataset = TorchAsyncItr(\n",
    "   nvt.Dataset(test_df),\n",
    "   cats=CATEGORICAL_COLUMNS,\n",
    "   conts=CONTINUOUS_COLUMNS,\n",
    "   labels=LABEL_COLUMNS,\n",
    "   batch_size=TRAIN_BATCH_SIZE,\n",
    "   shuffle=True\n",
    ")\n",
    "\n",
    "test_loader = DLDataLoader(\n",
    "   test_dataset,\n",
    "   batch_size=None,\n",
    "   pin_memory=False,\n",
    "   num_workers=0\n",
    ")\n",
    "\n",
    "# nvtabular will alphabetically sort the columns\n",
    "nvt_cols = sorted(CATEGORICAL_COLUMNS) + sorted(CONTINUOUS_COLUMNS)\n",
    "print(nvt_cols)\n",
    "\n"
   ]
  },
  {
   "cell_type": "code",
   "execution_count": 20,
   "metadata": {
    "ExecuteTime": {
     "end_time": "2021-06-23T01:23:28.415086Z",
     "start_time": "2021-06-23T01:23:28.412620Z"
    },
    "hidden": true
   },
   "outputs": [],
   "source": [
    "# # make sure batches are roughly uniformly distributed...\n",
    "\n",
    "# st = []\n",
    "# for i in range(len(train_loader)):\n",
    "#     st.append(train_df.isFraud.iloc[i*512:(i+1)*512].sum())\n",
    "\n",
    "# fig, ax = plt.subplots()\n",
    "# ax.plot(st)"
   ]
  },
  {
   "cell_type": "code",
   "execution_count": null,
   "metadata": {
    "ExecuteTime": {
     "end_time": "2021-06-23T02:34:24.202359Z",
     "start_time": "2021-06-23T02:34:23.975Z"
    },
    "hidden": true,
    "scrolled": true
   },
   "outputs": [],
   "source": [
    "# # uncomment models to check different models with a single batch input.\n",
    "\n",
    "# progress_bar = tqdm(range(len(train_loader)))\n",
    "# st = []\n",
    "# for _, (x_cat, x_cont, target) in zip(progress_bar, iter(train_loader)):\n",
    "#     progress_bar.set_description('check progress bar')\n",
    "#     st.append(target.sum().cpu())\n",
    "#     break\n",
    "\n",
    "# batch = torch.cat([x_cat, x_cont], dim=1)\n",
    "\n",
    "# model = FunNet(input_cols=nvt_cols).to('cuda')\n",
    "# model = NNModel(input_cols=nvt_cols).to('cuda')\n",
    "\n",
    "# out = model(batch)\n",
    "\n",
    "# out.cpu()"
   ]
  },
  {
   "cell_type": "code",
   "execution_count": 22,
   "metadata": {
    "ExecuteTime": {
     "end_time": "2021-06-23T01:23:29.820536Z",
     "start_time": "2021-06-23T01:23:29.816984Z"
    },
    "hidden": true
   },
   "outputs": [
    {
     "data": {
      "text/plain": [
       "4383"
      ]
     },
     "execution_count": 22,
     "metadata": {},
     "output_type": "execute_result"
    }
   ],
   "source": [
    "len(train_loader)"
   ]
  },
  {
   "cell_type": "markdown",
   "metadata": {
    "heading_collapsed": true,
    "hidden": true
   },
   "source": [
    "### Build Utility functions - Train Loop and Val/Test Loop"
   ]
  },
  {
   "cell_type": "code",
   "execution_count": 25,
   "metadata": {
    "ExecuteTime": {
     "end_time": "2021-06-23T01:23:31.522151Z",
     "start_time": "2021-06-23T01:23:31.509253Z"
    },
    "hidden": true
   },
   "outputs": [],
   "source": [
    "def train_epoch(loader, model, optimizer, loss_func, device):\n",
    "    \"\"\"Train model through a single epoch\"\"\"\n",
    "    # set model into train mode and zero all parameter gradients\n",
    "    model.train()\n",
    "    model.zero_grad()\n",
    "    progress_bar = tqdm(range(len(loader)))\n",
    "    train_loss = torch.zeros(len(loader), requires_grad=False, device=device) #[]\n",
    "    \n",
    "    for _, (x_cat, x_cont, target) in zip(progress_bar, iter(loader)):\n",
    "        \n",
    "        features = torch.cat([x_cat, x_cont], dim=1)\n",
    "        target = target.squeeze()\n",
    "        \n",
    "        # make prediction\n",
    "        logits = model(features).squeeze()\n",
    "        \n",
    "        # calculate loss\n",
    "        loss = loss_func(logits, target)\n",
    "        batch_loss = loss.detach()#.cpu().numpy()\n",
    "        \n",
    "        # calculate grads and optimize\n",
    "        loss.backward()\n",
    "        optimizer.step()\n",
    "        for param in model.parameters():\n",
    "            param.grad = None\n",
    "        \n",
    "        train_loss[_] = batch_loss\n",
    "\n",
    "        if _ == len(loader)-1:\n",
    "            progress_bar.set_description(f'train loss (mean): {train_loss.mean():.5f}')\n",
    "    return train_loss\n",
    "\n",
    "\n",
    "def val_epoch(loader, model, loss_func, device, kind='val'):\n",
    "    \"\"\"Run model through validation dataset\"\"\"\n",
    "    # set model to eval mode\n",
    "    model.eval()\n",
    "#     val_loss = []\n",
    "    val_loss = torch.zeros(len(loader), requires_grad=False, device=device)\n",
    "    \n",
    "    val_logits = []\n",
    "    val_targets = []\n",
    "    \n",
    "    with torch.no_grad():\n",
    "        progress_bar = tqdm(range(len(loader)))\n",
    "\n",
    "        for _, (x_cat, x_cont, target) in zip(progress_bar, iter(loader)):\n",
    "                                              \n",
    "            features = torch.cat([x_cat, x_cont], dim=1)\n",
    "            target = target.squeeze()\n",
    "            \n",
    "            # make prediction\n",
    "            logits = model(features).squeeze()\n",
    "            \n",
    "            # calculate loss\n",
    "            loss = loss_func(logits, target)\n",
    "            batch_loss = loss.detach()\n",
    "            \n",
    "            # save some data\n",
    "            val_targets.append(target.detach())\n",
    "            val_logits.append(logits.detach())\n",
    "            val_loss[_] = batch_loss\n",
    "#             val_loss.append(batch_loss)\n",
    "            if not _ % 500 or _ == len(loader)-1:\n",
    "                smooth_loss = val_loss[_-100:_+1].sum() / min( _+1, 100)\n",
    "\n",
    "                progress_bar.set_description(f'{kind} loss (mean): {train_loss[:_+1].mean():.5f}, smooth: {smooth_loss:.5f}')\n",
    "\n",
    "        val_loss = val_loss.mean().cpu().numpy()\n",
    "    \n",
    "    val_logits = torch.cat(val_logits).cpu()\n",
    "    val_targets = torch.cat(val_targets).cpu()\n",
    "    return val_loss, val_logits, val_targets"
   ]
  },
  {
   "cell_type": "code",
   "execution_count": 26,
   "metadata": {
    "ExecuteTime": {
     "end_time": "2021-06-23T01:23:32.105677Z",
     "start_time": "2021-06-23T01:23:32.100731Z"
    },
    "hidden": true
   },
   "outputs": [],
   "source": [
    "def test_em(loader, model, loss_func, threshold, device):\n",
    "    test_loss, test_logits, test_targets = val_epoch(loader=loader, \n",
    "                                                      model=model, \n",
    "                                                      loss_func=loss_func,  \n",
    "                                                      device=device,\n",
    "                                                      kind='test')\n",
    "    # scoring\n",
    "    test_targets = test_targets.numpy()\n",
    "    test_probs = torch.sigmoid(test_logits).numpy()\n",
    "    pred_labels = (test_probs >= threshold).astype(int)\n",
    "    \n",
    "    print(f'Thresh: {threshold: 0.4f}', f'Prec: {precision_score(test_targets, pred_labels): 0.4f}',\n",
    "          f'Rec: {recall_score(test_targets, pred_labels): 0.4f}', f'fraud ct: {pred_labels.sum()}',\n",
    "          f'actual ct: {int(test_targets.sum())}', f'AUC: {roc_auc_score(test_targets, pred_labels): 0.4f}',\n",
    "          f'Acc: {accuracy_score(test_targets, pred_labels): 0.4f}',\n",
    "          f'F1: {f1_score(test_targets, pred_labels): 0.4f}')\n",
    "    \n",
    "    print('Confusion Matrix:\\n', confusion_matrix(y_true=test_targets, y_pred=pred_labels))\n"
   ]
  },
  {
   "cell_type": "markdown",
   "metadata": {
    "heading_collapsed": true,
    "hidden": true
   },
   "source": [
    "### Run"
   ]
  },
  {
   "cell_type": "code",
   "execution_count": 27,
   "metadata": {
    "ExecuteTime": {
     "end_time": "2021-06-23T01:23:33.338788Z",
     "start_time": "2021-06-23T01:23:33.336334Z"
    },
    "hidden": true
   },
   "outputs": [],
   "source": [
    "# constants\n",
    "LR = 0.0001\n",
    "EPOCHS = 20\n",
    "device = torch.device(\"cuda\" if torch.cuda.is_available() else \"cpu\")"
   ]
  },
  {
   "cell_type": "code",
   "execution_count": 28,
   "metadata": {
    "ExecuteTime": {
     "end_time": "2021-06-23T01:23:37.007088Z",
     "start_time": "2021-06-23T01:23:34.506087Z"
    },
    "hidden": true
   },
   "outputs": [
    {
     "data": {
      "text/plain": [
       "FunNet(\n",
       "  (step_embeddings): Embedding(760, 24)\n",
       "  (type_CASH_OUT_embeddings): Embedding(2, 1)\n",
       "  (type_TRANSFER_embeddings): Embedding(2, 1)\n",
       "  (fc1): Linear(in_features=34, out_features=256, bias=True)\n",
       "  (norm1): BatchNorm1d(256, eps=1e-05, momentum=0.1, affine=True, track_running_stats=True)\n",
       "  (prelu1): PReLU(num_parameters=1)\n",
       "  (dropout1): Dropout(p=0.1, inplace=False)\n",
       "  (fc2): Linear(in_features=256, out_features=256, bias=True)\n",
       "  (norm2): BatchNorm1d(256, eps=1e-05, momentum=0.1, affine=True, track_running_stats=True)\n",
       "  (prelu2): PReLU(num_parameters=1)\n",
       "  (dropout2): Dropout(p=0.1, inplace=False)\n",
       "  (fc6): Linear(in_features=256, out_features=1, bias=True)\n",
       ")"
      ]
     },
     "execution_count": 28,
     "metadata": {},
     "output_type": "execute_result"
    }
   ],
   "source": [
    "model = FunNet(input_cols=nvt_cols).to(device)\n",
    "model"
   ]
  },
  {
   "cell_type": "code",
   "execution_count": 29,
   "metadata": {
    "ExecuteTime": {
     "end_time": "2021-06-23T01:28:59.507460Z",
     "start_time": "2021-06-23T01:23:38.088473Z"
    },
    "hidden": true,
    "scrolled": true
   },
   "outputs": [
    {
     "name": "stdout",
     "output_type": "stream",
     "text": [
      "Epoch: 0\n"
     ]
    },
    {
     "name": "stderr",
     "output_type": "stream",
     "text": [
      "train loss (mean): 0.45220: 100%|██████████| 4383/4383 [00:15<00:00, 278.07it/s]\n",
      "val loss (mean): 0.73938, smooth: 0.46690: 100%|██████████| 487/487 [00:00<00:00, 1344.49it/s]\n"
     ]
    },
    {
     "name": "stdout",
     "output_type": "stream",
     "text": [
      "Thresh:  0.9309 Prec:  0.8043 Rec:  0.5616 fraud ct: 516 actual ct: 739 AUC:  0.7806 Acc:  0.9983 F1:  0.6614\n",
      "Epoch: 1\n"
     ]
    },
    {
     "name": "stderr",
     "output_type": "stream",
     "text": [
      "train loss (mean): 0.34147: 100%|██████████| 4383/4383 [00:15<00:00, 283.83it/s]\n",
      "val loss (mean): 0.38219, smooth: 0.57913: 100%|██████████| 487/487 [00:00<00:00, 948.20it/s] "
     ]
    },
    {
     "name": "stdout",
     "output_type": "stream",
     "text": [
      "Thresh:  0.8207 Prec:  0.8163 Rec:  0.5954 fraud ct: 539 actual ct: 739 AUC:  0.7975 Acc:  0.9984 F1:  0.6886\n",
      "Epoch: 2\n"
     ]
    },
    {
     "name": "stderr",
     "output_type": "stream",
     "text": [
      "\n",
      "train loss (mean): 0.30090: 100%|██████████| 4383/4383 [00:15<00:00, 289.20it/s]\n",
      "val loss (mean): 0.29767, smooth: 0.70090: 100%|██████████| 487/487 [00:00<00:00, 887.71it/s] \n"
     ]
    },
    {
     "name": "stdout",
     "output_type": "stream",
     "text": [
      "Thresh:  0.8329 Prec:  0.7217 Rec:  0.6563 fraud ct: 672 actual ct: 739 AUC:  0.8278 Acc:  0.9982 F1:  0.6875\n",
      "Epoch: 3\n"
     ]
    },
    {
     "name": "stderr",
     "output_type": "stream",
     "text": [
      "train loss (mean): 0.28172: 100%|██████████| 4383/4383 [00:15<00:00, 289.79it/s]\n",
      "val loss (mean): 0.32275, smooth: 1.00979: 100%|██████████| 487/487 [00:00<00:00, 1330.23it/s]\n"
     ]
    },
    {
     "name": "stdout",
     "output_type": "stream",
     "text": [
      "Thresh:  0.8442 Prec:  0.8223 Rec:  0.6198 fraud ct: 557 actual ct: 739 AUC:  0.8097 Acc:  0.9985 F1:  0.7068\n",
      "Epoch: 4\n"
     ]
    },
    {
     "name": "stderr",
     "output_type": "stream",
     "text": [
      "train loss (mean): 0.26733: 100%|██████████| 4383/4383 [00:15<00:00, 282.78it/s]\n",
      "val loss (mean): 0.27024, smooth: 0.60559: 100%|██████████| 487/487 [00:00<00:00, 922.61it/s] "
     ]
    },
    {
     "name": "stdout",
     "output_type": "stream",
     "text": [
      "Thresh:  0.5954 Prec:  0.7870 Rec:  0.6549 fraud ct: 615 actual ct: 739 AUC:  0.8272 Acc:  0.9985 F1:  0.7149\n",
      "Epoch: 5\n"
     ]
    },
    {
     "name": "stderr",
     "output_type": "stream",
     "text": [
      "\n",
      "train loss (mean): 0.24701: 100%|██████████| 4383/4383 [00:15<00:00, 290.18it/s]\n",
      "val loss (mean): 0.21932, smooth: 0.49584: 100%|██████████| 487/487 [00:00<00:00, 1344.42it/s]\n"
     ]
    },
    {
     "name": "stdout",
     "output_type": "stream",
     "text": [
      "Thresh:  0.5913 Prec:  0.7910 Rec:  0.6658 fraud ct: 622 actual ct: 739 AUC:  0.8326 Acc:  0.9985 F1:  0.7230\n",
      "Epoch: 6\n"
     ]
    },
    {
     "name": "stderr",
     "output_type": "stream",
     "text": [
      "train loss (mean): 0.24285: 100%|██████████| 4383/4383 [00:15<00:00, 284.40it/s]\n",
      "val loss (mean): 0.23585, smooth: 1.03223: 100%|██████████| 487/487 [00:00<00:00, 1318.79it/s]\n"
     ]
    },
    {
     "name": "stdout",
     "output_type": "stream",
     "text": [
      "Thresh:  0.3990 Prec:  0.8010 Rec:  0.6373 fraud ct: 588 actual ct: 739 AUC:  0.8184 Acc:  0.9985 F1:  0.7099\n",
      "Epoch: 7\n"
     ]
    },
    {
     "name": "stderr",
     "output_type": "stream",
     "text": [
      "train loss (mean): 0.23009: 100%|██████████| 4383/4383 [00:15<00:00, 283.82it/s]\n",
      "val loss (mean): 0.23362, smooth: 1.20878: 100%|██████████| 487/487 [00:00<00:00, 1335.28it/s]\n"
     ]
    },
    {
     "name": "stdout",
     "output_type": "stream",
     "text": [
      "Thresh:  0.2602 Prec:  0.8251 Rec:  0.6576 fraud ct: 589 actual ct: 739 AUC:  0.8286 Acc:  0.9986 F1:  0.7319\n",
      "Epoch: 8\n"
     ]
    },
    {
     "name": "stderr",
     "output_type": "stream",
     "text": [
      "train loss (mean): 0.22968: 100%|██████████| 4383/4383 [00:15<00:00, 279.98it/s]\n",
      "val loss (mean): 0.28029, smooth: 0.51849: 100%|██████████| 487/487 [00:00<00:00, 1315.64it/s]\n"
     ]
    },
    {
     "name": "stdout",
     "output_type": "stream",
     "text": [
      "Thresh:  0.8134 Prec:  0.8185 Rec:  0.6834 fraud ct: 617 actual ct: 739 AUC:  0.8415 Acc:  0.9986 F1:  0.7448\n",
      "Epoch: 9\n"
     ]
    },
    {
     "name": "stderr",
     "output_type": "stream",
     "text": [
      "train loss (mean): 0.22448: 100%|██████████| 4383/4383 [00:15<00:00, 281.07it/s]\n",
      "val loss (mean): 0.21397, smooth: 0.79507: 100%|██████████| 487/487 [00:00<00:00, 1349.01it/s]\n"
     ]
    },
    {
     "name": "stdout",
     "output_type": "stream",
     "text": [
      "Thresh:  0.5732 Prec:  0.8278 Rec:  0.6698 fraud ct: 598 actual ct: 739 AUC:  0.8347 Acc:  0.9986 F1:  0.7405\n",
      "Epoch: 10\n"
     ]
    },
    {
     "name": "stderr",
     "output_type": "stream",
     "text": [
      "train loss (mean): 0.21411: 100%|██████████| 4383/4383 [00:15<00:00, 279.62it/s]\n",
      "val loss (mean): 0.23415, smooth: 0.72655: 100%|██████████| 487/487 [00:00<00:00, 1340.90it/s]\n"
     ]
    },
    {
     "name": "stdout",
     "output_type": "stream",
     "text": [
      "Thresh:  0.5349 Prec:  0.7850 Rec:  0.6076 fraud ct: 572 actual ct: 739 AUC:  0.8035 Acc:  0.9983 F1:  0.6850\n",
      "Epoch: 11\n"
     ]
    },
    {
     "name": "stderr",
     "output_type": "stream",
     "text": [
      "train loss (mean): 0.20739: 100%|██████████| 4383/4383 [00:15<00:00, 284.77it/s]\n",
      "val loss (mean): 0.22123, smooth: 2.12296: 100%|██████████| 487/487 [00:00<00:00, 1339.07it/s]\n"
     ]
    },
    {
     "name": "stdout",
     "output_type": "stream",
     "text": [
      "Thresh:  0.2543 Prec:  0.9070 Rec:  0.5277 fraud ct: 430 actual ct: 739 AUC:  0.7638 Acc:  0.9984 F1:  0.6672\n",
      "Epoch: 12\n"
     ]
    },
    {
     "name": "stderr",
     "output_type": "stream",
     "text": [
      "train loss (mean): 0.21084: 100%|██████████| 4383/4383 [00:15<00:00, 286.05it/s]\n",
      "val loss (mean): 0.27817, smooth: 2.03894: 100%|██████████| 487/487 [00:00<00:00, 921.28it/s] \n"
     ]
    },
    {
     "name": "stdout",
     "output_type": "stream",
     "text": [
      "Thresh:  0.0914 Prec:  0.8306 Rec:  0.6238 fraud ct: 555 actual ct: 739 AUC:  0.8117 Acc:  0.9985 F1:  0.7125\n",
      "Epoch: 13\n"
     ]
    },
    {
     "name": "stderr",
     "output_type": "stream",
     "text": [
      "train loss (mean): 0.20309: 100%|██████████| 4383/4383 [00:15<00:00, 285.26it/s]\n",
      "val loss (mean): 0.24518, smooth: 1.23883: 100%|██████████| 487/487 [00:00<00:00, 1343.95it/s]\n"
     ]
    },
    {
     "name": "stdout",
     "output_type": "stream",
     "text": [
      "Thresh:  0.2267 Prec:  0.8574 Rec:  0.6671 fraud ct: 575 actual ct: 739 AUC:  0.8334 Acc:  0.9987 F1:  0.7504\n",
      "Epoch: 14\n"
     ]
    },
    {
     "name": "stderr",
     "output_type": "stream",
     "text": [
      "train loss (mean): 0.20112: 100%|██████████| 4383/4383 [00:15<00:00, 286.89it/s]\n",
      "val loss (mean): 0.17548, smooth: 2.25088: 100%|██████████| 487/487 [00:00<00:00, 1336.56it/s]\n"
     ]
    },
    {
     "name": "stdout",
     "output_type": "stream",
     "text": [
      "Thresh:  0.1511 Prec:  0.8462 Rec:  0.5805 fraud ct: 507 actual ct: 739 AUC:  0.7901 Acc:  0.9984 F1:  0.6886\n",
      "Epoch: 15\n"
     ]
    },
    {
     "name": "stderr",
     "output_type": "stream",
     "text": [
      "train loss (mean): 0.19648: 100%|██████████| 4383/4383 [00:15<00:00, 285.37it/s]\n",
      "val loss (mean): 0.18210, smooth: 0.84609: 100%|██████████| 487/487 [00:00<00:00, 947.18it/s] \n"
     ]
    },
    {
     "name": "stdout",
     "output_type": "stream",
     "text": [
      "Thresh:  0.4871 Prec:  0.8106 Rec:  0.6834 fraud ct: 623 actual ct: 739 AUC:  0.8414 Acc:  0.9986 F1:  0.7416\n",
      "Epoch: 16\n"
     ]
    },
    {
     "name": "stderr",
     "output_type": "stream",
     "text": [
      "train loss (mean): 0.19509: 100%|██████████| 4383/4383 [00:15<00:00, 284.30it/s]\n",
      "val loss (mean): 0.17408, smooth: 1.50564: 100%|██████████| 487/487 [00:00<00:00, 1341.81it/s]\n"
     ]
    },
    {
     "name": "stdout",
     "output_type": "stream",
     "text": [
      "Thresh:  0.2998 Prec:  0.8266 Rec:  0.6130 fraud ct: 548 actual ct: 739 AUC:  0.8063 Acc:  0.9985 F1:  0.7040\n",
      "Epoch: 17\n"
     ]
    },
    {
     "name": "stderr",
     "output_type": "stream",
     "text": [
      "train loss (mean): 0.19288: 100%|██████████| 4383/4383 [00:15<00:00, 284.03it/s]\n",
      "val loss (mean): 0.17622, smooth: 0.87269: 100%|██████████| 487/487 [00:00<00:00, 902.99it/s] "
     ]
    },
    {
     "name": "stdout",
     "output_type": "stream",
     "text": [
      "Thresh:  0.3449 Prec:  0.8446 Rec:  0.6617 fraud ct: 579 actual ct: 739 AUC:  0.8307 Acc:  0.9986 F1:  0.7420\n",
      "Epoch: 18\n"
     ]
    },
    {
     "name": "stderr",
     "output_type": "stream",
     "text": [
      "\n",
      "train loss (mean): 0.19885: 100%|██████████| 4383/4383 [00:15<00:00, 285.06it/s]\n",
      "val loss (mean): 0.16077, smooth: 2.35543: 100%|██████████| 487/487 [00:00<00:00, 1341.40it/s]\n"
     ]
    },
    {
     "name": "stdout",
     "output_type": "stream",
     "text": [
      "Thresh:  0.2150 Prec:  0.8251 Rec:  0.5426 fraud ct: 486 actual ct: 739 AUC:  0.7711 Acc:  0.9983 F1:  0.6547\n",
      "Epoch: 19\n"
     ]
    },
    {
     "name": "stderr",
     "output_type": "stream",
     "text": [
      "train loss (mean): 0.19667: 100%|██████████| 4383/4383 [00:15<00:00, 284.84it/s]\n",
      "val loss (mean): 0.14823, smooth: 1.49167: 100%|██████████| 487/487 [00:00<00:00, 1319.77it/s]\n"
     ]
    },
    {
     "name": "stdout",
     "output_type": "stream",
     "text": [
      "Thresh:  0.1185 Prec:  0.8582 Rec:  0.6306 fraud ct: 543 actual ct: 739 AUC:  0.8151 Acc:  0.9986 F1:  0.7270\n",
      "Confusion Matrix:\n",
      " [[248521     77]\n",
      " [   273    466]]\n"
     ]
    },
    {
     "name": "stderr",
     "output_type": "stream",
     "text": [
      "test loss (mean): 0.14615, smooth: 0.84044: 100%|██████████| 542/542 [00:00<00:00, 1341.02it/s]\n"
     ]
    },
    {
     "name": "stdout",
     "output_type": "stream",
     "text": [
      "Thresh:  0.1185 Prec:  0.7463 Rec:  0.7454 fraud ct: 820 actual ct: 821 AUC:  0.8723 Acc:  0.9985 F1:  0.7459\n",
      "Confusion Matrix:\n",
      " [[276012    208]\n",
      " [   209    612]]\n"
     ]
    }
   ],
   "source": [
    "optimizer = torch.optim.Adam(model.parameters(), lr=LR)\n",
    "criterion = nn.BCEWithLogitsLoss(pos_weight=\\\n",
    "                                 torch.tensor((len(train_df)-train_df.isFraud.sum())/train_df.isFraud.sum()))\n",
    "\n",
    "# all_preds = []\n",
    "# all_targets = []\n",
    "best_precisions = []\n",
    "best_epochs = []\n",
    "best_f1 = 0\n",
    "best_epoch = 0\n",
    "\n",
    "for epoch in range(EPOCHS):\n",
    "    print(f'Epoch: {epoch}', flush=True)\n",
    "\n",
    "    train_loss = train_epoch(loader=train_loader, \n",
    "                             model=model, \n",
    "                             optimizer=optimizer, \n",
    "                             loss_func=criterion,  \n",
    "                             device=device)\n",
    "    val_loss, val_logits, val_targets = val_epoch(loader=val_loader, \n",
    "                                                  model=model, \n",
    "                                                  loss_func=criterion,  \n",
    "                                                  device=device)\n",
    "\n",
    "    # scoring\n",
    "    val_targets = val_targets.numpy()\n",
    "    val_probs = torch.sigmoid(val_logits).numpy()\n",
    "\n",
    "    precision, recall, thresholds = precision_recall_curve(val_targets, val_probs)\n",
    "    threshold_idx = np.argmax((2 * precision * recall)/ (precision + recall))\n",
    "    pred_labels = (val_probs >= thresholds[threshold_idx]).astype(int)\n",
    "    f1 = f1_score(val_targets, pred_labels)\n",
    "    print(f'Thresh: {thresholds[threshold_idx]: 0.4f}', f'Prec: {precision[threshold_idx]: 0.4f}',\n",
    "          f'Rec: {recall[threshold_idx]: 0.4f}', f'fraud ct: {pred_labels.sum()}',\n",
    "          f'actual ct: {int(val_targets.sum())}', f'AUC: {roc_auc_score(val_targets, pred_labels): 0.4f}',\n",
    "          f'Acc: {accuracy_score(val_targets, pred_labels): 0.4f}',\n",
    "          f'F1: {f1: 0.4f}')\n",
    "    \n",
    "    if f1 > best_f1:\n",
    "        best_f1 = f1\n",
    "        best_epoch = epoch\n",
    "        save_checkpoint(model, optimizer, epoch, best_f1, model._name, threshold=thresholds[threshold_idx])\n",
    "\n",
    "print('Confusion Matrix:\\n', confusion_matrix(y_true=val_targets, y_pred=pred_labels), flush=True)\n",
    "\n",
    "model, threshold = load_checkpoint(model._name, model, device)\n",
    "test_em(loader=test_loader,\n",
    "        model=model,\n",
    "        loss_func=criterion,\n",
    "        threshold=threshold,\n",
    "        device=device)"
   ]
  },
  {
   "cell_type": "markdown",
   "metadata": {
    "hidden": true
   },
   "source": [
    " #### Threshold tuning"
   ]
  },
  {
   "cell_type": "code",
   "execution_count": 41,
   "metadata": {
    "ExecuteTime": {
     "end_time": "2021-06-23T01:49:03.327967Z",
     "start_time": "2021-06-23T01:49:01.483931Z"
    },
    "hidden": true
   },
   "outputs": [
    {
     "name": "stderr",
     "output_type": "stream",
     "text": [
      "test loss (mean): 0.14615, smooth: 0.98936: 100%|██████████| 542/542 [00:00<00:00, 1297.60it/s]\n"
     ]
    },
    {
     "name": "stdout",
     "output_type": "stream",
     "text": [
      "Thresh:  0.2267 Prec:  0.8628 Rec:  0.6894 fraud ct: 656 actual ct: 821 AUC:  0.8445 Acc:  0.9988 F1:  0.7664\n",
      "Confusion Matrix:\n",
      " [[276130     90]\n",
      " [   255    566]]\n"
     ]
    },
    {
     "data": {
      "image/png": "[encoded data removed]",
      "text/plain": [
       "<Figure size 432x288 with 1 Axes>"
      ]
     },
     "metadata": {},
     "output_type": "display_data"
    }
   ],
   "source": [
    "test_loss, test_logits, test_targets = val_epoch(loader=test_loader, \n",
    "                                                  model=model, \n",
    "                                                  loss_func=criterion,  \n",
    "                                                  device=device,\n",
    "                                                  kind='test')\n",
    "# scoring\n",
    "test_targets = test_targets.numpy()\n",
    "test_probs = torch.sigmoid(test_logits).numpy()\n",
    "pred_labels = (test_probs >= threshold).astype(int)\n",
    "precision, recall, thresholds = precision_recall_curve(test_targets, test_probs)\n",
    "threshold_idx = np.argmin(np.abs(thresholds - threshold))\n",
    "print(f'Thresh: {threshold: 0.4f}', f'Prec: {precision_score(test_targets, pred_labels): 0.4f}',\n",
    "      f'Rec: {recall_score(test_targets, pred_labels): 0.4f}', f'fraud ct: {pred_labels.sum()}',\n",
    "      f'actual ct: {int(test_targets.sum())}', f'AUC: {roc_auc_score(test_targets, pred_labels): 0.4f}',\n",
    "      f'Acc: {accuracy_score(test_targets, pred_labels): 0.4f}',\n",
    "      f'F1: {f1_score(test_targets, pred_labels): 0.4f}')\n",
    "\n",
    "print('Confusion Matrix:\\n', confusion_matrix(y_true=test_targets, y_pred=pred_labels))\n",
    "\n",
    "fig, ax = plt.subplots()\n",
    "no_skill = test_targets.sum()/len(test_targets)\n",
    "ax.plot(recall, precision, color='darkorange', lw=1, label='PR')\n",
    "ax.plot([0, 1], [no_skill, no_skill], color='navy', linestyle='--', label='No Skill')\n",
    "ax.plot(recall[threshold_idx], precision[threshold_idx], 'ro', label='F1 threshold')\n",
    "ax.set_xlabel('Recall (Positive Label: 1)')\n",
    "ax.set_ylabel('Precision (Positive Label: 1)')\n",
    "ax.set_title('2-class Precision-Recall curve')\n",
    "ax.legend()\n",
    "plt.tight_layout()"
   ]
  },
  {
   "cell_type": "markdown",
   "metadata": {
    "hidden": true
   },
   "source": [
    "## Pytorch Dataloader + Pytorch Training w/ K-Folds"
   ]
  },
  {
   "cell_type": "markdown",
   "metadata": {
    "hidden": true
   },
   "source": [
    "### Build a torch Dataset"
   ]
  },
  {
   "cell_type": "code",
   "execution_count": 16,
   "metadata": {
    "ExecuteTime": {
     "end_time": "2021-06-23T04:12:07.139228Z",
     "start_time": "2021-06-23T04:12:07.132598Z"
    },
    "hidden": true,
    "scrolled": true
   },
   "outputs": [],
   "source": [
    "col_order = ['step', 'amount', 'oldBalanceOrig', 'newBalanceOrig', 'oldBalanceDest',\n",
    "             'newBalanceDest', 'errorBalanceOrig', 'errorBalanceDest', 'errorOrigAmount', 'type_CASH_OUT', 'type_TRANSFER', 'isFraud']\n",
    "train_cols = col_order[:-1]\n",
    "\n",
    " \n",
    "train_df = train_df[col_order]\n",
    "val_df = val_df[col_order]\n",
    "test_df = test_df[col_order]\n",
    "\n",
    "assert isinstance(test_df, (pd.DataFrame, cudf.DataFrame)) and \\\n",
    "       isinstance(train_df, (pd.DataFrame, cudf.DataFrame))\n"
   ]
  },
  {
   "cell_type": "markdown",
   "metadata": {
    "hidden": true
   },
   "source": [
    "### Build Utility functions - Train Loop and Val/Test Loop"
   ]
  },
  {
   "cell_type": "code",
   "execution_count": 17,
   "metadata": {
    "ExecuteTime": {
     "end_time": "2021-06-23T04:12:07.718027Z",
     "start_time": "2021-06-23T04:12:07.706760Z"
    },
    "hidden": true
   },
   "outputs": [],
   "source": [
    "def train_epoch(loader, batch_size, model, optimizer, loss_func,  device):\n",
    "    \"\"\"Train model through a single epoch\"\"\"\n",
    "    # set model into train mode and zero all parameter gradients\n",
    "    model.train()\n",
    "    model.zero_grad()\n",
    "    progress_bar = tqdm(range(len(loader)//batch_size + 1))\n",
    "    train_loss = torch.zeros(len(loader), requires_grad=False, device=device)\n",
    "\n",
    "    for incr in progress_bar:\n",
    "        batch = loader.iloc[incr*batch_size:(incr+1)*batch_size]\n",
    "        features = torch.tensor(batch[train_cols].values, device=device)\n",
    "        targ = torch.tensor(batch[['isFraud']].values, device=device).float()\n",
    "\n",
    "        # make prediction\n",
    "        logits = model(features)\n",
    "\n",
    "        # calculate loss\n",
    "        loss = loss_func(logits, targ)\n",
    "        \n",
    "        batch_loss = loss.detach()\n",
    "        \n",
    "        # calculate grads and optimize\n",
    "        loss.backward()\n",
    "        optimizer.step()\n",
    "        for param in model.parameters():\n",
    "            param.grad = None\n",
    "        train_loss[incr] = batch_loss\n",
    "\n",
    "    progress_bar.set_description(f'loss: {train_loss.mean():.5f}')\n",
    "    return train_loss\n",
    "\n",
    "\n",
    "def val_epoch(loader, batch_size, model, loss_func, device):\n",
    "    \"\"\"Run model through validation dataset\"\"\"\n",
    "    # set model to eval mode\n",
    "    model.eval()\n",
    "    val_loss = []\n",
    "    val_logits = []\n",
    "    val_targets = []\n",
    "    val_loss = torch.zeros(len(loader), requires_grad=False, device=device)\n",
    "\n",
    "    with torch.no_grad():\n",
    "        progress_bar = tqdm(range(len(loader)//batch_size + 1))\n",
    "        for incr in progress_bar:\n",
    "            batch = loader.iloc[incr*batch_size:(incr+1)*batch_size]\n",
    "            features = torch.tensor(batch[train_cols].values, device=device)\n",
    "            targ = torch.tensor(batch[['isFraud']].values, device=device).float()\n",
    "\n",
    "            # make prediction\n",
    "            logits = model(features)\n",
    "            \n",
    "            # calculate loss\n",
    "            loss = loss_func(logits, targ)\n",
    "            \n",
    "            batch_loss = loss.detach()\n",
    "            \n",
    "            # save some data\n",
    "            val_targets.append(targ.detach())\n",
    "            val_logits.append(logits.detach())\n",
    "            val_loss[incr] = batch_loss\n",
    "\n",
    "        progress_bar.set_description(f'val_loss: {val_loss.mean():.5f}')\n",
    "\n",
    "        val_loss = val_loss.mean()\n",
    "    \n",
    "    val_logits = torch.cat(val_logits)\n",
    "    val_targets = torch.cat(val_targets)\n",
    "    return val_loss, val_logits, val_targets"
   ]
  },
  {
   "cell_type": "code",
   "execution_count": 18,
   "metadata": {
    "ExecuteTime": {
     "end_time": "2021-06-23T04:12:08.867420Z",
     "start_time": "2021-06-23T04:12:08.863895Z"
    },
    "hidden": true
   },
   "outputs": [],
   "source": [
    "def test_em(loader, batch_size, model, loss_func, threshold, device):\n",
    "    test_loss, test_logits, test_targets = val_epoch(loader=loader, \n",
    "                                                     batch_size=batch_size,\n",
    "                                                     model=model, \n",
    "                                                     loss_func=loss_func,  \n",
    "                                                     device=device)\n",
    "\n",
    "    # scoring\n",
    "    test_targets = test_targets.cpu().numpy()\n",
    "    test_probs = torch.sigmoid(test_logits).cpu().numpy()\n",
    "    pred_labels = (test_probs >= threshold).astype(int)\n",
    "    \n",
    "    print(f'Thresh: {threshold: 0.4f}', f'Prec: {precision_score(test_targets, pred_labels): 0.4f}',\n",
    "          f'Rec: {recall_score(test_targets, pred_labels): 0.4f}', f'fraud ct: {pred_labels.sum()}',\n",
    "          f'actual ct: {int(test_targets.sum())}', f'AUC: {roc_auc_score(test_targets, pred_labels): 0.4f}',\n",
    "          f'Acc: {accuracy_score(test_targets, pred_labels): 0.4f}',\n",
    "          f'F1: {f1_score(test_targets, pred_labels): 0.4f}')\n",
    "    \n",
    "    print('Confusion Matrix:\\n', confusion_matrix(y_true=test_targets, y_pred=pred_labels))"
   ]
  },
  {
   "cell_type": "markdown",
   "metadata": {
    "hidden": true
   },
   "source": [
    "### Run"
   ]
  },
  {
   "cell_type": "code",
   "execution_count": 19,
   "metadata": {
    "ExecuteTime": {
     "end_time": "2021-06-23T04:12:12.968726Z",
     "start_time": "2021-06-23T04:12:12.965370Z"
    },
    "hidden": true
   },
   "outputs": [],
   "source": [
    "# constants\n",
    "LR = 0.001\n",
    "EPOCHS = 1 #20\n",
    "NUM_WORKERS = 0\n",
    "TRAIN_BATCH_SIZE = 512\n",
    "device = torch.device(\"cuda:0\" if torch.cuda.is_available() else \"cpu\")"
   ]
  },
  {
   "cell_type": "markdown",
   "metadata": {
    "hidden": true
   },
   "source": [
    "We can loop over both models, and use K-Fold CV in a stratified manner (since dataset is imbalanced) and evaluate over a number of epochs."
   ]
  },
  {
   "cell_type": "code",
   "execution_count": 21,
   "metadata": {
    "ExecuteTime": {
     "end_time": "2021-06-23T04:18:05.592466Z",
     "start_time": "2021-06-23T04:16:08.487338Z"
    },
    "hidden": true,
    "scrolled": false
   },
   "outputs": [
    {
     "name": "stdout",
     "output_type": "stream",
     "text": [
      "K-Fold 0 of 4\n",
      "Epoch: 0\n"
     ]
    },
    {
     "data": {
      "application/vnd.jupyter.widget-view+json": {
       "model_id": "d6e4f2517d4840e1b1a404529432a733",
       "version_major": 2,
       "version_minor": 0
      },
      "text/plain": [
       "  0%|          | 0/3288 [00:00<?, ?it/s]"
      ]
     },
     "metadata": {},
     "output_type": "display_data"
    },
    {
     "data": {
      "application/vnd.jupyter.widget-view+json": {
       "model_id": "e8b95d06303f4b2782110d4e29fd47c4",
       "version_major": 2,
       "version_minor": 0
      },
      "text/plain": [
       "  0%|          | 0/9 [00:00<?, ?it/s]"
      ]
     },
     "metadata": {},
     "output_type": "display_data"
    },
    {
     "name": "stdout",
     "output_type": "stream",
     "text": [
      "Thresh:  0.0407 Prec:  0.8571 Rec:  0.6133 fraud ct: 1190 actual ct: 1663 AUC:  0.8065 Acc:  0.9986 F1:  0.7150\n",
      "Confusion Matrix:\n",
      " [[559175    170]\n",
      " [   643   1020]]\n"
     ]
    },
    {
     "data": {
      "application/vnd.jupyter.widget-view+json": {
       "model_id": "69cfd28be6a44b2f9bd4799f65eb296a",
       "version_major": 2,
       "version_minor": 0
      },
      "text/plain": [
       "  0%|          | 0/1 [00:00<?, ?it/s]"
      ]
     },
     "metadata": {},
     "output_type": "display_data"
    },
    {
     "name": "stdout",
     "output_type": "stream",
     "text": [
      "Thresh:  0.0407 Prec:  0.8149 Rec:  0.6114 fraud ct: 616 actual ct: 821 AUC:  0.8055 Acc:  0.9984 F1:  0.6987\n",
      "Confusion Matrix:\n",
      " [[276106    114]\n",
      " [   319    502]]\n",
      "K-Fold 1 of 4\n",
      "Epoch: 0\n"
     ]
    },
    {
     "data": {
      "application/vnd.jupyter.widget-view+json": {
       "model_id": "0a6c655df2f04dde9f71fe41be672ff7",
       "version_major": 2,
       "version_minor": 0
      },
      "text/plain": [
       "  0%|          | 0/3288 [00:00<?, ?it/s]"
      ]
     },
     "metadata": {},
     "output_type": "display_data"
    },
    {
     "data": {
      "application/vnd.jupyter.widget-view+json": {
       "model_id": "56ce8d02c92e45128dc3354782c03b81",
       "version_major": 2,
       "version_minor": 0
      },
      "text/plain": [
       "  0%|          | 0/9 [00:00<?, ?it/s]"
      ]
     },
     "metadata": {},
     "output_type": "display_data"
    },
    {
     "name": "stdout",
     "output_type": "stream",
     "text": [
      "Thresh:  0.0291 Prec:  0.8389 Rec:  0.5857 fraud ct: 1161 actual ct: 1663 AUC:  0.7927 Acc:  0.9984 F1:  0.6898\n",
      "Confusion Matrix:\n",
      " [[559158    187]\n",
      " [   689    974]]\n"
     ]
    },
    {
     "data": {
      "application/vnd.jupyter.widget-view+json": {
       "model_id": "3a7076e0a65746f8a64e0cda978050cd",
       "version_major": 2,
       "version_minor": 0
      },
      "text/plain": [
       "  0%|          | 0/1 [00:00<?, ?it/s]"
      ]
     },
     "metadata": {},
     "output_type": "display_data"
    },
    {
     "name": "stdout",
     "output_type": "stream",
     "text": [
      "Thresh:  0.0291 Prec:  0.8189 Rec:  0.6224 fraud ct: 624 actual ct: 821 AUC:  0.8110 Acc:  0.9985 F1:  0.7073\n",
      "Confusion Matrix:\n",
      " [[276107    113]\n",
      " [   310    511]]\n",
      "K-Fold 2 of 4\n",
      "Epoch: 0\n"
     ]
    },
    {
     "data": {
      "application/vnd.jupyter.widget-view+json": {
       "model_id": "a4a73ba758c54ee387608fe8a8638798",
       "version_major": 2,
       "version_minor": 0
      },
      "text/plain": [
       "  0%|          | 0/3288 [00:00<?, ?it/s]"
      ]
     },
     "metadata": {},
     "output_type": "display_data"
    },
    {
     "data": {
      "application/vnd.jupyter.widget-view+json": {
       "model_id": "e5d7db4b42ae49e8b6d6b6ea300cc9a8",
       "version_major": 2,
       "version_minor": 0
      },
      "text/plain": [
       "  0%|          | 0/9 [00:00<?, ?it/s]"
      ]
     },
     "metadata": {},
     "output_type": "display_data"
    },
    {
     "name": "stdout",
     "output_type": "stream",
     "text": [
      "Thresh:  0.0105 Prec:  0.8557 Rec:  0.6130 fraud ct: 1192 actual ct: 1664 AUC:  0.8063 Acc:  0.9985 F1:  0.7143\n",
      "Confusion Matrix:\n",
      " [[559172    172]\n",
      " [   644   1020]]\n"
     ]
    },
    {
     "data": {
      "application/vnd.jupyter.widget-view+json": {
       "model_id": "24d93822225d4a10a703a3f135672c72",
       "version_major": 2,
       "version_minor": 0
      },
      "text/plain": [
       "  0%|          | 0/1 [00:00<?, ?it/s]"
      ]
     },
     "metadata": {},
     "output_type": "display_data"
    },
    {
     "name": "stdout",
     "output_type": "stream",
     "text": [
      "Thresh:  0.0105 Prec:  0.8364 Rec:  0.6541 fraud ct: 642 actual ct: 821 AUC:  0.8269 Acc:  0.9986 F1:  0.7341\n",
      "Confusion Matrix:\n",
      " [[276115    105]\n",
      " [   284    537]]\n",
      "K-Fold 3 of 4\n",
      "Epoch: 0\n"
     ]
    },
    {
     "data": {
      "application/vnd.jupyter.widget-view+json": {
       "model_id": "0d8a801d2b564d75aa1baae4dea3e308",
       "version_major": 2,
       "version_minor": 0
      },
      "text/plain": [
       "  0%|          | 0/3288 [00:00<?, ?it/s]"
      ]
     },
     "metadata": {},
     "output_type": "display_data"
    },
    {
     "data": {
      "application/vnd.jupyter.widget-view+json": {
       "model_id": "7560f10528134850b3c7509e3f1c5af0",
       "version_major": 2,
       "version_minor": 0
      },
      "text/plain": [
       "  0%|          | 0/9 [00:00<?, ?it/s]"
      ]
     },
     "metadata": {},
     "output_type": "display_data"
    },
    {
     "name": "stdout",
     "output_type": "stream",
     "text": [
      "Thresh:  0.0007 Prec:  0.9114 Rec:  0.5009 fraud ct: 914 actual ct: 1663 AUC:  0.7504 Acc:  0.9984 F1:  0.6465\n",
      "Confusion Matrix:\n",
      " [[559263     81]\n",
      " [   830    833]]\n"
     ]
    },
    {
     "data": {
      "application/vnd.jupyter.widget-view+json": {
       "model_id": "f2abeaf7d65d400aadf09a3d7741db96",
       "version_major": 2,
       "version_minor": 0
      },
      "text/plain": [
       "  0%|          | 0/1 [00:00<?, ?it/s]"
      ]
     },
     "metadata": {},
     "output_type": "display_data"
    },
    {
     "name": "stdout",
     "output_type": "stream",
     "text": [
      "Thresh:  0.0007 Prec:  0.9071 Rec:  0.4994 fraud ct: 452 actual ct: 821 AUC:  0.7496 Acc:  0.9984 F1:  0.6441\n",
      "Confusion Matrix:\n",
      " [[276178     42]\n",
      " [   411    410]]\n"
     ]
    }
   ],
   "source": [
    "\n",
    "for DLmodel in [FunNet(train_cols)\n",
    "#     NNModel(input_cols=train_cols, hidden_dim=32),\n",
    "#                 NNModel(input_cols=train_cols, hidden_dim=16)\n",
    "               ]:\n",
    "    kfolds = 4  # number of k-folds\n",
    "    strat_kfold = StratifiedKFold(n_splits=kfolds)\n",
    "\n",
    "    best_precisions = []\n",
    "    best_epochs = []\n",
    "\n",
    "    for foldnum, (train_idx, val_idx) in enumerate(strat_kfold.split(cp.asnumpy(cp.asarray(train_df.index.values)), \n",
    "                                                                     cp.asnumpy(cp.asarray(train_df['isFraud'].values))\n",
    "                                                                    )):\n",
    "\n",
    "        print(f'K-Fold {foldnum+1} of {kfolds}')\n",
    "\n",
    "        model = DLmodel.to(device)\n",
    "        optimizer = torch.optim.Adam(model.parameters(), lr=LR)\n",
    "        criterion = nn.BCEWithLogitsLoss()\n",
    "\n",
    "        all_preds = []\n",
    "        all_targets = []\n",
    "        best_f1 = 0\n",
    "        best_epoch = 0\n",
    "\n",
    "        for epoch in range(EPOCHS):\n",
    "            print(f'Epoch: {epoch}')\n",
    "            \n",
    "            train_loss = train_epoch(loader=train_df.iloc[train_idx], \n",
    "                                     batch_size=TRAIN_BATCH_SIZE,\n",
    "                                     model=model, \n",
    "                                     optimizer=optimizer, \n",
    "                                     loss_func=criterion,  \n",
    "                                     device=device)\n",
    "            val_loss, val_logits, val_targets = val_epoch(loader=train_df.iloc[val_idx],\n",
    "                                                          batch_size=2**16,\n",
    "                                                          model=model, \n",
    "                                                          loss_func=criterion,  \n",
    "                                                          device=device)\n",
    "\n",
    "            # scoring\n",
    "            val_targets = val_targets.cpu().numpy()\n",
    "            val_probs = torch.sigmoid(val_logits).squeeze().cpu().numpy()\n",
    "\n",
    "            precision, recall, thresholds = precision_recall_curve(val_targets, val_probs)\n",
    "            threshold_idx = np.argmax((2 * precision * recall)/ (precision + recall))\n",
    "            pred_labels = (val_probs >= thresholds[threshold_idx]).astype(int)\n",
    "            f1 = f1_score(val_targets, pred_labels)\n",
    "            print(f'Thresh: {thresholds[threshold_idx]: 0.4f}', f'Prec: {precision[threshold_idx]: 0.4f}',\n",
    "                  f'Rec: {recall[threshold_idx]: 0.4f}', f'fraud ct: {pred_labels.sum()}',\n",
    "                  f'actual ct: {int(val_targets.sum())}', f'AUC: {roc_auc_score(val_targets, pred_labels): 0.4f}',\n",
    "                  f'Acc: {accuracy_score(val_targets, pred_labels): 0.4f}',\n",
    "                  f'F1: {f1: 0.4f}')\n",
    "\n",
    "            if f1 > best_f1:\n",
    "                best_f1 = f1\n",
    "                best_epoch = epoch\n",
    "                save_checkpoint(model, optimizer, epoch, best_f1, model._name, threshold=thresholds[threshold_idx],\n",
    "                                k_fold=foldnum+1)\n",
    "\n",
    "        print('Confusion Matrix:\\n', confusion_matrix(y_true=val_targets, y_pred=pred_labels), flush=True)\n",
    "\n",
    "        model, threshold = load_checkpoint(model._name, model, device)\n",
    "        test_em(loader=test_df,\n",
    "                batch_size=2**32,\n",
    "                model=model,\n",
    "                loss_func=criterion,\n",
    "                threshold=threshold,\n",
    "                device=device)"
   ]
  },
  {
   "cell_type": "markdown",
   "metadata": {
    "hidden": true
   },
   "source": [
    "Plot of precision-recall curve."
   ]
  },
  {
   "cell_type": "code",
   "execution_count": 24,
   "metadata": {
    "ExecuteTime": {
     "end_time": "2021-06-23T04:21:05.823445Z",
     "start_time": "2021-06-23T04:21:04.487118Z"
    },
    "hidden": true
   },
   "outputs": [
    {
     "data": {
      "application/vnd.jupyter.widget-view+json": {
       "model_id": "cd61a377692e4c37838a0dae84f3ea23",
       "version_major": 2,
       "version_minor": 0
      },
      "text/plain": [
       "  0%|          | 0/1 [00:00<?, ?it/s]"
      ]
     },
     "metadata": {},
     "output_type": "display_data"
    },
    {
     "name": "stdout",
     "output_type": "stream",
     "text": [
      "Thresh:  0.0007 Prec:  0.9071 Rec:  0.4994 fraud ct: 452 actual ct: 821 AUC:  0.7496 Acc:  0.9984 F1:  0.6441\n",
      "Confusion Matrix:\n",
      " [[276178     42]\n",
      " [   411    410]]\n"
     ]
    },
    {
     "data": {
      "image/png": "[encoded data removed]",
      "text/plain": [
       "<Figure size 432x288 with 1 Axes>"
      ]
     },
     "metadata": {},
     "output_type": "display_data"
    }
   ],
   "source": [
    "test_loss, test_logits, test_targets = val_epoch(loader=test_df, \n",
    "                                                 batch_size=2**32,\n",
    "                                                 model=model, \n",
    "                                                 loss_func=criterion,  \n",
    "                                                 device=device)\n",
    "# scoring\n",
    "test_targets = test_targets.cpu().numpy()\n",
    "test_probs = torch.sigmoid(test_logits).cpu().numpy()\n",
    "pred_labels = (test_probs >= threshold).astype(int)\n",
    "precision, recall, thresholds = precision_recall_curve(test_targets, test_probs)\n",
    "threshold_idx = np.argmin(np.abs(thresholds - threshold))\n",
    "print(f'Thresh: {threshold: 0.4f}', f'Prec: {precision_score(test_targets, pred_labels): 0.4f}',\n",
    "      f'Rec: {recall_score(test_targets, pred_labels): 0.4f}', f'fraud ct: {pred_labels.sum()}',\n",
    "      f'actual ct: {int(test_targets.sum())}', f'AUC: {roc_auc_score(test_targets, pred_labels): 0.4f}',\n",
    "      f'Acc: {accuracy_score(test_targets, pred_labels): 0.4f}',\n",
    "      f'F1: {f1_score(test_targets, pred_labels): 0.4f}')\n",
    "\n",
    "print('Confusion Matrix:\\n', confusion_matrix(y_true=test_targets, y_pred=pred_labels))\n",
    "\n",
    "fig, ax = plt.subplots()\n",
    "no_skill = test_targets.sum()/len(test_targets)\n",
    "ax.plot(recall, precision, color='darkorange', lw=1, label='PR')\n",
    "ax.plot([0, 1], [no_skill, no_skill], color='navy', linestyle='--', label='No Skill')\n",
    "ax.plot(recall[threshold_idx], precision[threshold_idx], 'ro', label='F1 threshold')\n",
    "ax.set_xlabel('Recall (Positive Label: 1)')\n",
    "ax.set_ylabel('Precision (Positive Label: 1)')\n",
    "ax.set_title('2-class Precision-Recall curve')\n",
    "ax.legend()\n",
    "plt.tight_layout()"
   ]
  }
 ],
 "metadata": {
  "kernelspec": {
   "display_name": "Python 3",
   "language": "python",
   "name": "python3"
  },
  "language_info": {
   "codemirror_mode": {
    "name": "ipython",
    "version": 3
   },
   "file_extension": ".py",
   "mimetype": "text/x-python",
   "name": "python",
   "nbconvert_exporter": "python",
   "pygments_lexer": "ipython3",
   "version": "3.8.5"
  }
 },
 "nbformat": 4,
 "nbformat_minor": 5
}
