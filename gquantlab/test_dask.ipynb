{
 "cells": [
  {
   "cell_type": "code",
   "execution_count": 10,
   "metadata": {},
   "outputs": [],
   "source": [
    "from gquant.dataframe_flow import TaskGraph"
   ]
  },
  {
   "cell_type": "code",
   "execution_count": 11,
   "metadata": {},
   "outputs": [
    {
     "name": "stderr",
     "output_type": "stream",
     "text": [
      "/home/quant/miniconda3/lib/python3.7/site-packages/distributed/node.py:155: UserWarning: Port 8787 is already in use.\n",
      "Perhaps you already have a cluster running?\n",
      "Hosting the HTTP server on port 43079 instead\n",
      "  http_address[\"port\"], self.http_server.port\n"
     ]
    },
    {
     "data": {
      "text/html": [
       "<table style=\"border: 2px solid white;\">\n",
       "<tr>\n",
       "<td style=\"vertical-align: top; border: 0px solid white\">\n",
       "<h3 style=\"text-align: left;\">Client</h3>\n",
       "<ul style=\"text-align: left; list-style: none; margin: 0; padding: 0;\">\n",
       "  <li><b>Scheduler: </b>tcp://127.0.0.1:40351</li>\n",
       "  <li><b>Dashboard: </b><a href='http://127.0.0.1:43079/status' target='_blank'>http://127.0.0.1:43079/status</a></li>\n",
       "</ul>\n",
       "</td>\n",
       "<td style=\"vertical-align: top; border: 0px solid white\">\n",
       "<h3 style=\"text-align: left;\">Cluster</h3>\n",
       "<ul style=\"text-align: left; list-style:none; margin: 0; padding: 0;\">\n",
       "  <li><b>Workers: </b>4</li>\n",
       "  <li><b>Cores: </b>4</li>\n",
       "  <li><b>Memory: </b>270.39 GB</li>\n",
       "</ul>\n",
       "</td>\n",
       "</tr>\n",
       "</table>"
      ],
      "text/plain": [
       "<Client: 'tcp://127.0.0.1:40351' processes=4 threads=4, memory=270.39 GB>"
      ]
     },
     "execution_count": 11,
     "metadata": {},
     "output_type": "execute_result"
    }
   ],
   "source": [
    "from dask_cuda import LocalCUDACluster\n",
    "from dask.distributed import Client\n",
    "\n",
    "cluster = LocalCUDACluster()\n",
    "client = Client(cluster)\n",
    "client"
   ]
  },
  {
   "cell_type": "code",
   "execution_count": 12,
   "metadata": {},
   "outputs": [
    {
     "data": {
      "image/svg+xml": [
       "<svg height=\"260pt\" viewBox=\"0.00 0.00 256.44 260.00\" width=\"256pt\" xmlns=\"http://www.w3.org/2000/svg\" xmlns:xlink=\"http://www.w3.org/1999/xlink\">\n",
       "<g class=\"graph\" id=\"graph0\" transform=\"scale(1 1) rotate(0) translate(4 256)\">\n",
       "<title>%3</title>\n",
       "<polygon fill=\"white\" points=\"-4,4 -4,-256 252.44,-256 252.44,4 -4,4\" stroke=\"transparent\"/>\n",
       "<!-- dask -->\n",
       "<g class=\"node\" id=\"node1\">\n",
       "<title>dask</title>\n",
       "<ellipse cx=\"135.25\" cy=\"-162\" fill=\"none\" rx=\"32.49\" ry=\"18\" stroke=\"black\"/>\n",
       "<text font-family=\"Times,serif\" font-size=\"14.00\" text-anchor=\"middle\" x=\"135.25\" y=\"-158.3\">dask</text>\n",
       "</g>\n",
       "<!-- numba -->\n",
       "<g class=\"node\" id=\"node2\">\n",
       "<title>numba</title>\n",
       "<ellipse cx=\"42.25\" cy=\"-90\" fill=\"none\" rx=\"42.49\" ry=\"18\" stroke=\"black\"/>\n",
       "<text font-family=\"Times,serif\" font-size=\"14.00\" text-anchor=\"middle\" x=\"42.25\" y=\"-86.3\">numba</text>\n",
       "</g>\n",
       "<!-- dask&#45;&gt;numba -->\n",
       "<g class=\"edge\" id=\"edge1\">\n",
       "<title>dask-&gt;numba</title>\n",
       "<path d=\"M116.43,-146.83C103.29,-136.95 85.53,-123.58 70.68,-112.4\" fill=\"none\" stroke=\"black\"/>\n",
       "<polygon fill=\"black\" points=\"72.42,-109.33 62.33,-106.11 68.21,-114.92 72.42,-109.33\" stroke=\"black\"/>\n",
       "</g>\n",
       "<!-- cupy -->\n",
       "<g class=\"node\" id=\"node3\">\n",
       "<title>cupy</title>\n",
       "<ellipse cx=\"135.25\" cy=\"-90\" fill=\"none\" rx=\"33.29\" ry=\"18\" stroke=\"black\"/>\n",
       "<text font-family=\"Times,serif\" font-size=\"14.00\" text-anchor=\"middle\" x=\"135.25\" y=\"-86.3\">cupy</text>\n",
       "</g>\n",
       "<!-- dask&#45;&gt;cupy -->\n",
       "<g class=\"edge\" id=\"edge2\">\n",
       "<title>dask-&gt;cupy</title>\n",
       "<path d=\"M135.25,-143.7C135.25,-135.98 135.25,-126.71 135.25,-118.11\" fill=\"none\" stroke=\"black\"/>\n",
       "<polygon fill=\"black\" points=\"138.75,-118.1 135.25,-108.1 131.75,-118.1 138.75,-118.1\" stroke=\"black\"/>\n",
       "</g>\n",
       "<!-- cudf -->\n",
       "<g class=\"node\" id=\"node5\">\n",
       "<title>cudf</title>\n",
       "<ellipse cx=\"217.25\" cy=\"-90\" fill=\"none\" rx=\"31.4\" ry=\"18\" stroke=\"black\"/>\n",
       "<text font-family=\"Times,serif\" font-size=\"14.00\" text-anchor=\"middle\" x=\"217.25\" y=\"-86.3\">cudf</text>\n",
       "</g>\n",
       "<!-- dask&#45;&gt;cudf -->\n",
       "<g class=\"edge\" id=\"edge3\">\n",
       "<title>dask-&gt;cudf</title>\n",
       "<path d=\"M152.24,-146.5C163.97,-136.48 179.75,-123.01 192.83,-111.85\" fill=\"none\" stroke=\"black\"/>\n",
       "<polygon fill=\"black\" points=\"195.22,-114.4 200.56,-105.25 190.68,-109.08 195.22,-114.4\" stroke=\"black\"/>\n",
       "</g>\n",
       "<!-- verify -->\n",
       "<g class=\"node\" id=\"node4\">\n",
       "<title>verify</title>\n",
       "<ellipse cx=\"80.25\" cy=\"-18\" fill=\"none\" rx=\"37.89\" ry=\"18\" stroke=\"black\"/>\n",
       "<text font-family=\"Times,serif\" font-size=\"14.00\" text-anchor=\"middle\" x=\"80.25\" y=\"-14.3\">verify</text>\n",
       "</g>\n",
       "<!-- numba&#45;&gt;verify -->\n",
       "<g class=\"edge\" id=\"edge4\">\n",
       "<title>numba-&gt;verify</title>\n",
       "<path d=\"M51.25,-72.41C55.73,-64.16 61.24,-54.01 66.25,-44.78\" fill=\"none\" stroke=\"black\"/>\n",
       "<polygon fill=\"black\" points=\"69.35,-46.41 71.04,-35.96 63.19,-43.07 69.35,-46.41\" stroke=\"black\"/>\n",
       "</g>\n",
       "<!-- cupy&#45;&gt;verify -->\n",
       "<g class=\"edge\" id=\"edge5\">\n",
       "<title>cupy-&gt;verify</title>\n",
       "<path d=\"M122.77,-73.12C115.83,-64.29 107.06,-53.13 99.29,-43.24\" fill=\"none\" stroke=\"black\"/>\n",
       "<polygon fill=\"black\" points=\"101.99,-41.01 93.06,-35.31 96.49,-45.33 101.99,-41.01\" stroke=\"black\"/>\n",
       "</g>\n",
       "<!-- verify2 -->\n",
       "<g class=\"node\" id=\"node6\">\n",
       "<title>verify2</title>\n",
       "<ellipse cx=\"198.25\" cy=\"-18\" fill=\"none\" rx=\"43.59\" ry=\"18\" stroke=\"black\"/>\n",
       "<text font-family=\"Times,serif\" font-size=\"14.00\" text-anchor=\"middle\" x=\"198.25\" y=\"-14.3\">verify2</text>\n",
       "</g>\n",
       "<!-- cupy&#45;&gt;verify2 -->\n",
       "<g class=\"edge\" id=\"edge6\">\n",
       "<title>cupy-&gt;verify2</title>\n",
       "<path d=\"M149.23,-73.46C157.24,-64.57 167.46,-53.21 176.5,-43.16\" fill=\"none\" stroke=\"black\"/>\n",
       "<polygon fill=\"black\" points=\"179.34,-45.24 183.43,-35.47 174.13,-40.56 179.34,-45.24\" stroke=\"black\"/>\n",
       "</g>\n",
       "<!-- cudf&#45;&gt;verify2 -->\n",
       "<g class=\"edge\" id=\"edge7\">\n",
       "<title>cudf-&gt;verify2</title>\n",
       "<path d=\"M212.65,-72.05C210.53,-64.26 207.97,-54.82 205.6,-46.08\" fill=\"none\" stroke=\"black\"/>\n",
       "<polygon fill=\"black\" points=\"208.93,-45.01 202.94,-36.28 202.18,-46.84 208.93,-45.01\" stroke=\"black\"/>\n",
       "</g>\n",
       "<!-- points_task -->\n",
       "<g class=\"node\" id=\"node7\">\n",
       "<title>points_task</title>\n",
       "<ellipse cx=\"135.25\" cy=\"-234\" fill=\"none\" rx=\"64.19\" ry=\"18\" stroke=\"black\"/>\n",
       "<text font-family=\"Times,serif\" font-size=\"14.00\" text-anchor=\"middle\" x=\"135.25\" y=\"-230.3\">points_task</text>\n",
       "</g>\n",
       "<!-- points_task&#45;&gt;dask -->\n",
       "<g class=\"edge\" id=\"edge8\">\n",
       "<title>points_task-&gt;dask</title>\n",
       "<path d=\"M135.25,-215.7C135.25,-207.98 135.25,-198.71 135.25,-190.11\" fill=\"none\" stroke=\"black\"/>\n",
       "<polygon fill=\"black\" points=\"138.75,-190.1 135.25,-180.1 131.75,-190.1 138.75,-190.1\" stroke=\"black\"/>\n",
       "</g>\n",
       "</g>\n",
       "</svg>"
      ],
      "text/plain": [
       "<IPython.core.display.SVG object>"
      ]
     },
     "metadata": {},
     "output_type": "display_data"
    }
   ],
   "source": [
    "task_graph = TaskGraph.load_taskgraph('workflow/test_run_dask.gq.yaml')\n",
    "task_graph.draw(show='ipynb', fmt='svg')\n"
   ]
  },
  {
   "cell_type": "code",
   "execution_count": 13,
   "metadata": {},
   "outputs": [],
   "source": [
    "e=task_graph.draw()"
   ]
  },
  {
   "cell_type": "code",
   "execution_count": 14,
   "metadata": {},
   "outputs": [
    {
     "data": {
      "application/vnd.jupyter.widget-view+json": {
       "model_id": "0dd876a671ca4ffcb508f12e9e366a9e",
       "version_major": 2,
       "version_minor": 0
      },
      "text/plain": [
       "GQuantWidget(value=[OrderedDict([('id', 'points_task'), ('type', 'PointNode'), ('conf', {'npts': 8000}), ('inp…"
      ]
     },
     "metadata": {},
     "output_type": "display_data"
    }
   ],
   "source": [
    "e"
   ]
  },
  {
   "cell_type": "code",
   "execution_count": 15,
   "metadata": {},
   "outputs": [
    {
     "data": {
      "application/vnd.jupyter.widget-view+json": {
       "model_id": "0dd876a671ca4ffcb508f12e9e366a9e",
       "version_major": 2,
       "version_minor": 0
      },
      "text/plain": [
       "GQuantWidget(cache={'nodes': [{'width': 110, 'id': 'points_task', 'type': 'PointNode', 'schema': {'title': 'Po…"
      ]
     },
     "metadata": {},
     "output_type": "display_data"
    }
   ],
   "source": [
    "e"
   ]
  },
  {
   "cell_type": "code",
   "execution_count": 21,
   "metadata": {},
   "outputs": [
    {
     "data": {
      "text/plain": [
       "Result(verify2_max_diff=2.220446049250313e-16)"
      ]
     },
     "execution_count": 21,
     "metadata": {},
     "output_type": "execute_result"
    }
   ],
   "source": [
    "task_graph.run()"
   ]
  },
  {
   "cell_type": "code",
   "execution_count": 13,
   "metadata": {},
   "outputs": [],
   "source": [
    "\n",
    "out_list = [\n",
    "    'verify.max_diff', 'verify2.max_diff'\n",
    "]\n",
    "\n",
    "diff = task_graph.run(out_list)"
   ]
  },
  {
   "cell_type": "code",
   "execution_count": 14,
   "metadata": {},
   "outputs": [
    {
     "data": {
      "text/plain": [
       "{'verify.max_diff': 0.0, 'verify2.max_diff': 2.220446049250313e-16}"
      ]
     },
     "execution_count": 14,
     "metadata": {},
     "output_type": "execute_result"
    }
   ],
   "source": [
    "diff"
   ]
  },
  {
   "cell_type": "code",
   "execution_count": 8,
   "metadata": {},
   "outputs": [],
   "source": [
    "task_graph.save_taskgraph('workflow/test_run.gq.yaml')\n"
   ]
  },
  {
   "cell_type": "code",
   "execution_count": null,
   "metadata": {},
   "outputs": [],
   "source": []
  }
 ],
 "metadata": {
  "kernelspec": {
   "display_name": "Python 3",
   "language": "python",
   "name": "python3"
  },
  "language_info": {
   "codemirror_mode": {
    "name": "ipython",
    "version": 3
   },
   "file_extension": ".py",
   "mimetype": "text/x-python",
   "name": "python",
   "nbconvert_exporter": "python",
   "pygments_lexer": "ipython3",
   "version": "3.7.7"
  }
 },
 "nbformat": 4,
 "nbformat_minor": 4
}
