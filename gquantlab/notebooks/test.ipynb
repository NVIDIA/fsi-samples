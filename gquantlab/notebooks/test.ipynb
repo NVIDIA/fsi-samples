{
 "cells": [
  {
   "cell_type": "code",
   "execution_count": 1,
   "metadata": {},
   "outputs": [],
   "source": [
    "import os\n",
    "from gquant.dataframe_flow import TaskGraph"
   ]
  },
  {
   "cell_type": "code",
   "execution_count": 2,
   "metadata": {},
   "outputs": [
    {
     "data": {
      "image/png": "[encoded data removed]",
      "text/plain": [
       "<IPython.core.display.Image object>"
      ]
     },
     "execution_count": 2,
     "metadata": {},
     "output_type": "execute_result"
    }
   ],
   "source": [
    "task_graph = TaskGraph.load_taskgraph('../../workflow/test_two_modules.gq.yaml')\n",
    "task_graph.draw(show='ipynb')\n"
   ]
  },
  {
   "cell_type": "code",
   "execution_count": 6,
   "metadata": {},
   "outputs": [],
   "source": [
    "e=task_graph.draw()"
   ]
  },
  {
   "cell_type": "code",
   "execution_count": 7,
   "metadata": {},
   "outputs": [
    {
     "data": {
      "application/vnd.jupyter.widget-view+json": {
       "model_id": "6c1d96288e5946539d2a033b5acc0882",
       "version_major": 2,
       "version_minor": 0
      },
      "text/plain": [
       "GQuantWidget(sub=HBox(), value=[OrderedDict([('id', 'point2'), ('type', 'PointNode'), ('conf', {'npts': 100}),…"
      ]
     },
     "metadata": {},
     "output_type": "display_data"
    }
   ],
   "source": [
    "e"
   ]
  },
  {
   "cell_type": "code",
   "execution_count": 5,
   "metadata": {},
   "outputs": [
    {
     "data": {
      "text/plain": [
       "[{'id': 'points_task',\n",
       "  'type': 'PointNode',\n",
       "  'conf': {'npts': 80},\n",
       "  'inputs': {}},\n",
       " {'id': 'numba',\n",
       "  'type': 'NumbaDistanceNode',\n",
       "  'conf': {},\n",
       "  'inputs': {'points_df_in': 'points_task.points_df_out'}},\n",
       " {'id': 'cupy',\n",
       "  'type': 'CupyDistanceNode',\n",
       "  'conf': {},\n",
       "  'inputs': {'points_df_in': 'points_task.points_df_out'}},\n",
       " {'id': 'verify',\n",
       "  'type': 'VerifyNode',\n",
       "  'conf': {'df1_col': 'distance_numba', 'df2_col': 'distance_cupy'},\n",
       "  'inputs': {'df1': 'numba.distance_df', 'df2': 'cupy.distance_df'}},\n",
       " {'id': 'cudf',\n",
       "  'type': 'DistanceNode',\n",
       "  'conf': {},\n",
       "  'inputs': {'points_df_in': 'points_task.points_df_out'}},\n",
       " {'id': 'verify2',\n",
       "  'type': 'VerifyNode',\n",
       "  'conf': {'df1_col': 'distance_cupy', 'df2_col': 'distance_cudf'},\n",
       "  'inputs': {'df1': 'cupy.distance_df', 'df2': 'cudf.distance_df'}},\n",
       " {'id': '',\n",
       "  'type': 'Output Collector',\n",
       "  'conf': {},\n",
       "  'inputs': {'in1': 'verify2.max_diff', 'in2': 'verify.max_diff'}}]"
      ]
     },
     "execution_count": 5,
     "metadata": {},
     "output_type": "execute_result"
    }
   ],
   "source": [
    "e.value"
   ]
  },
  {
   "cell_type": "code",
   "execution_count": 3,
   "metadata": {},
   "outputs": [
    {
     "name": "stdout",
     "output_type": "stream",
     "text": [
      "{'urrpqc6pgb8.max_diff': 'in1', 'distance1.distance_df': 'in2'}\n",
      "{'in2':            x         y  distance_cudf\n",
      "0   0.771800  0.789862       1.104336\n",
      "1   0.274501  0.910799       0.951265\n",
      "2   0.348695  0.986341       1.046163\n",
      "3   0.425219  0.592938       0.729649\n",
      "4   0.746635  0.991285       1.241012\n",
      "..       ...       ...            ...\n",
      "95  0.292281  0.115579       0.314304\n",
      "96  0.198417  0.012841       0.198832\n",
      "97  0.917497  0.686840       1.146102\n",
      "98  0.467759  0.573399       0.739990\n",
      "99  0.101533  0.210398       0.233616\n",
      "\n",
      "[100 rows x 3 columns], 'in1': 1.0040896934019772}\n",
      "[{'from_node': <NodeInTaskGraph custom_port_nodes.VerifyNode object at 0x7fdf30e13210>, 'from_port': 'max_diff', 'to_port': 'in1'}, {'from_node': <NodeInTaskGraph custom_port_nodes.DistanceNode object at 0x7fdf30e79110>, 'from_port': 'distance_df', 'to_port': 'in2'}]\n"
     ]
    },
    {
     "data": {
      "application/vnd.jupyter.widget-view+json": {
       "model_id": "ef861973811544b7919661731b41e2ea",
       "version_major": 2,
       "version_minor": 0
      },
      "text/plain": [
       "Tab(children=(Output(), Output()), _titles={'0': 'urrpqc6pgb8.max_diff', '1': 'distance1.distance_df'})"
      ]
     },
     "metadata": {},
     "output_type": "display_data"
    }
   ],
   "source": [
    "task_graph.run(formated=True)"
   ]
  },
  {
   "cell_type": "code",
   "execution_count": 4,
   "metadata": {},
   "outputs": [
    {
     "name": "stdout",
     "output_type": "stream",
     "text": [
      "{'verify.max_diff': 'verify.max_diff', 'verify2.max_diff': 'verify2.max_diff'}\n",
      "{'verify.max_diff': 0.0, 'verify2.max_diff': 2.220446049250313e-16}\n",
      "[{'from_node': <NodeInTaskGraph custom_port_nodes.VerifyNode object at 0x7fbba654c410>, 'from_port': 'max_diff', 'to_port': 'verify.max_diff'}, {'from_node': <NodeInTaskGraph custom_port_nodes.VerifyNode object at 0x7fbba64effd0>, 'from_port': 'max_diff', 'to_port': 'verify2.max_diff'}]\n"
     ]
    }
   ],
   "source": [
    "\n",
    "out_list = [\n",
    "    'verify.max_diff', 'verify2.max_diff'\n",
    "]\n",
    "\n",
    "diff = task_graph.run(out_list)"
   ]
  },
  {
   "cell_type": "code",
   "execution_count": 5,
   "metadata": {},
   "outputs": [
    {
     "data": {
      "text/plain": [
       "Results([('verify.max_diff', 0.0), ('verify2.max_diff', 2.220446049250313e-16)])"
      ]
     },
     "execution_count": 5,
     "metadata": {},
     "output_type": "execute_result"
    }
   ],
   "source": [
    "diff"
   ]
  },
  {
   "cell_type": "code",
   "execution_count": 8,
   "metadata": {},
   "outputs": [],
   "source": [
    "task_graph.save_taskgraph('workflow/test_run.gq.yaml')\n"
   ]
  },
  {
   "cell_type": "code",
   "execution_count": 9,
   "metadata": {},
   "outputs": [
    {
     "data": {
      "text/plain": [
       "<gquant.dataframe_flow.taskGraph.TaskGraph at 0x7f58ef47cd50>"
      ]
     },
     "execution_count": 9,
     "metadata": {},
     "output_type": "execute_result"
    }
   ],
   "source": [
    "task_graph"
   ]
  },
  {
   "cell_type": "code",
   "execution_count": 10,
   "metadata": {},
   "outputs": [
    {
     "name": "stdout",
     "output_type": "stream",
     "text": [
      "<gquant.dataframe_flow.task.Task object at 0x7f58ee964090>\n",
      "<gquant.dataframe_flow.task.Task object at 0x7f58ee964150>\n",
      "<gquant.dataframe_flow.task.Task object at 0x7f58ee964290>\n",
      "<gquant.dataframe_flow.task.Task object at 0x7f58ee964210>\n",
      "<gquant.dataframe_flow.task.Task object at 0x7f58ee964190>\n",
      "<gquant.dataframe_flow.task.Task object at 0x7f58ee964350>\n"
     ]
    }
   ],
   "source": [
    "for i in task_graph:\n",
    "    print(i)"
   ]
  },
  {
   "cell_type": "code",
   "execution_count": 14,
   "metadata": {},
   "outputs": [
    {
     "ename": "AttributeError",
     "evalue": "'Task' object has no attribute 'set'",
     "output_type": "error",
     "traceback": [
      "\u001b[0;31m---------------------------------------------------------------------------\u001b[0m",
      "\u001b[0;31mAttributeError\u001b[0m                            Traceback (most recent call last)",
      "\u001b[0;32m<ipython-input-14-557e1352757f>\u001b[0m in \u001b[0;36m<module>\u001b[0;34m\u001b[0m\n\u001b[0;32m----> 1\u001b[0;31m \u001b[0mi\u001b[0m\u001b[0;34m.\u001b[0m\u001b[0mset\u001b[0m\u001b[0;34m\u001b[0m\u001b[0;34m\u001b[0m\u001b[0m\n\u001b[0m",
      "\u001b[0;31mAttributeError\u001b[0m: 'Task' object has no attribute 'set'"
     ]
    }
   ],
   "source": [
    "i.set"
   ]
  },
  {
   "cell_type": "code",
   "execution_count": null,
   "metadata": {},
   "outputs": [],
   "source": []
  }
 ],
 "metadata": {
  "kernelspec": {
   "display_name": "Python 3",
   "language": "python",
   "name": "python3"
  },
  "language_info": {
   "codemirror_mode": {
    "name": "ipython",
    "version": 3
   },
   "file_extension": ".py",
   "mimetype": "text/x-python",
   "name": "python",
   "nbconvert_exporter": "python",
   "pygments_lexer": "ipython3",
   "version": "3.7.7"
  }
 },
 "nbformat": 4,
 "nbformat_minor": 4
}
