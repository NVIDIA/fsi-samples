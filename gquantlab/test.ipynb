{
 "cells": [
  {
   "cell_type": "code",
   "execution_count": 22,
   "metadata": {},
   "outputs": [],
   "source": [
    "from gquant.dataframe_flow import TaskGraph"
   ]
  },
  {
   "cell_type": "code",
   "execution_count": 23,
   "metadata": {},
   "outputs": [
    {
     "data": {
      "image/svg+xml": [
       "<svg height=\"188pt\" viewBox=\"0.00 0.00 256.44 188.00\" width=\"256pt\" xmlns=\"http://www.w3.org/2000/svg\" xmlns:xlink=\"http://www.w3.org/1999/xlink\">\n",
       "<g class=\"graph\" id=\"graph0\" transform=\"scale(1 1) rotate(0) translate(4 184)\">\n",
       "<title>%3</title>\n",
       "<polygon fill=\"white\" points=\"-4,4 -4,-184 252.44,-184 252.44,4 -4,4\" stroke=\"transparent\"/>\n",
       "<!-- points_task -->\n",
       "<g class=\"node\" id=\"node1\">\n",
       "<title>points_task</title>\n",
       "<ellipse cx=\"135.25\" cy=\"-162\" fill=\"none\" rx=\"64.19\" ry=\"18\" stroke=\"black\"/>\n",
       "<text font-family=\"Times,serif\" font-size=\"14.00\" text-anchor=\"middle\" x=\"135.25\" y=\"-158.3\">points_task</text>\n",
       "</g>\n",
       "<!-- numba -->\n",
       "<g class=\"node\" id=\"node2\">\n",
       "<title>numba</title>\n",
       "<ellipse cx=\"42.25\" cy=\"-90\" fill=\"none\" rx=\"42.49\" ry=\"18\" stroke=\"black\"/>\n",
       "<text font-family=\"Times,serif\" font-size=\"14.00\" text-anchor=\"middle\" x=\"42.25\" y=\"-86.3\">numba</text>\n",
       "</g>\n",
       "<!-- points_task&#45;&gt;numba -->\n",
       "<g class=\"edge\" id=\"edge1\">\n",
       "<title>points_task-&gt;numba</title>\n",
       "<path d=\"M113.68,-144.76C100.79,-135.07 84.28,-122.64 70.37,-112.17\" fill=\"none\" stroke=\"black\"/>\n",
       "<polygon fill=\"black\" points=\"72.21,-109.17 62.11,-105.95 68,-114.76 72.21,-109.17\" stroke=\"black\"/>\n",
       "</g>\n",
       "<!-- cupy -->\n",
       "<g class=\"node\" id=\"node3\">\n",
       "<title>cupy</title>\n",
       "<ellipse cx=\"135.25\" cy=\"-90\" fill=\"none\" rx=\"33.29\" ry=\"18\" stroke=\"black\"/>\n",
       "<text font-family=\"Times,serif\" font-size=\"14.00\" text-anchor=\"middle\" x=\"135.25\" y=\"-86.3\">cupy</text>\n",
       "</g>\n",
       "<!-- points_task&#45;&gt;cupy -->\n",
       "<g class=\"edge\" id=\"edge2\">\n",
       "<title>points_task-&gt;cupy</title>\n",
       "<path d=\"M135.25,-143.7C135.25,-135.98 135.25,-126.71 135.25,-118.11\" fill=\"none\" stroke=\"black\"/>\n",
       "<polygon fill=\"black\" points=\"138.75,-118.1 135.25,-108.1 131.75,-118.1 138.75,-118.1\" stroke=\"black\"/>\n",
       "</g>\n",
       "<!-- cudf -->\n",
       "<g class=\"node\" id=\"node5\">\n",
       "<title>cudf</title>\n",
       "<ellipse cx=\"217.25\" cy=\"-90\" fill=\"none\" rx=\"31.4\" ry=\"18\" stroke=\"black\"/>\n",
       "<text font-family=\"Times,serif\" font-size=\"14.00\" text-anchor=\"middle\" x=\"217.25\" y=\"-86.3\">cudf</text>\n",
       "</g>\n",
       "<!-- points_task&#45;&gt;cudf -->\n",
       "<g class=\"edge\" id=\"edge3\">\n",
       "<title>points_task-&gt;cudf</title>\n",
       "<path d=\"M154.26,-144.76C165.75,-134.96 180.51,-122.36 192.85,-111.83\" fill=\"none\" stroke=\"black\"/>\n",
       "<polygon fill=\"black\" points=\"195.22,-114.4 200.55,-105.25 190.68,-109.08 195.22,-114.4\" stroke=\"black\"/>\n",
       "</g>\n",
       "<!-- verify -->\n",
       "<g class=\"node\" id=\"node4\">\n",
       "<title>verify</title>\n",
       "<ellipse cx=\"61.25\" cy=\"-18\" fill=\"none\" rx=\"37.89\" ry=\"18\" stroke=\"black\"/>\n",
       "<text font-family=\"Times,serif\" font-size=\"14.00\" text-anchor=\"middle\" x=\"61.25\" y=\"-14.3\">verify</text>\n",
       "</g>\n",
       "<!-- numba&#45;&gt;verify -->\n",
       "<g class=\"edge\" id=\"edge4\">\n",
       "<title>numba-&gt;verify</title>\n",
       "<path d=\"M46.85,-72.05C48.96,-64.26 51.52,-54.82 53.9,-46.08\" fill=\"none\" stroke=\"black\"/>\n",
       "<polygon fill=\"black\" points=\"57.32,-46.84 56.56,-36.28 50.56,-45.01 57.32,-46.84\" stroke=\"black\"/>\n",
       "</g>\n",
       "<!-- cupy&#45;&gt;verify -->\n",
       "<g class=\"edge\" id=\"edge5\">\n",
       "<title>cupy-&gt;verify</title>\n",
       "<path d=\"M119.19,-73.81C109.17,-64.34 96.1,-51.97 84.91,-41.39\" fill=\"none\" stroke=\"black\"/>\n",
       "<polygon fill=\"black\" points=\"87.2,-38.73 77.53,-34.4 82.39,-43.82 87.2,-38.73\" stroke=\"black\"/>\n",
       "</g>\n",
       "<!-- verify2 -->\n",
       "<g class=\"node\" id=\"node6\">\n",
       "<title>verify2</title>\n",
       "<ellipse cx=\"198.25\" cy=\"-18\" fill=\"none\" rx=\"43.59\" ry=\"18\" stroke=\"black\"/>\n",
       "<text font-family=\"Times,serif\" font-size=\"14.00\" text-anchor=\"middle\" x=\"198.25\" y=\"-14.3\">verify2</text>\n",
       "</g>\n",
       "<!-- cupy&#45;&gt;verify2 -->\n",
       "<g class=\"edge\" id=\"edge6\">\n",
       "<title>cupy-&gt;verify2</title>\n",
       "<path d=\"M149.23,-73.46C157.24,-64.57 167.46,-53.21 176.5,-43.16\" fill=\"none\" stroke=\"black\"/>\n",
       "<polygon fill=\"black\" points=\"179.34,-45.24 183.43,-35.47 174.13,-40.56 179.34,-45.24\" stroke=\"black\"/>\n",
       "</g>\n",
       "<!-- cudf&#45;&gt;verify2 -->\n",
       "<g class=\"edge\" id=\"edge7\">\n",
       "<title>cudf-&gt;verify2</title>\n",
       "<path d=\"M212.65,-72.05C210.53,-64.26 207.97,-54.82 205.6,-46.08\" fill=\"none\" stroke=\"black\"/>\n",
       "<polygon fill=\"black\" points=\"208.93,-45.01 202.94,-36.28 202.18,-46.84 208.93,-45.01\" stroke=\"black\"/>\n",
       "</g>\n",
       "</g>\n",
       "</svg>"
      ],
      "text/plain": [
       "<IPython.core.display.SVG object>"
      ]
     },
     "metadata": {},
     "output_type": "display_data"
    }
   ],
   "source": [
    "task_graph = TaskGraph.load_taskgraph('workflow/test_run.gq.yaml')\n",
    "task_graph.draw(show='ipynb', fmt='svg')\n"
   ]
  },
  {
   "cell_type": "code",
   "execution_count": 24,
   "metadata": {},
   "outputs": [],
   "source": [
    "e=task_graph.draw()"
   ]
  },
  {
   "cell_type": "code",
   "execution_count": 25,
   "metadata": {},
   "outputs": [
    {
     "data": {
      "application/vnd.jupyter.widget-view+json": {
       "model_id": "7bdb5f5c39454998b5517293eede5d1e",
       "version_major": 2,
       "version_minor": 0
      },
      "text/plain": [
       "GQuantWidget(value=[OrderedDict([('id', 'points_task'), ('type', 'PointNode'), ('conf', {'npts': 80}), ('input…"
      ]
     },
     "metadata": {},
     "output_type": "display_data"
    }
   ],
   "source": [
    "e"
   ]
  },
  {
   "cell_type": "code",
   "execution_count": 26,
   "metadata": {},
   "outputs": [
    {
     "data": {
      "application/vnd.jupyter.widget-view+json": {
       "model_id": "7bdb5f5c39454998b5517293eede5d1e",
       "version_major": 2,
       "version_minor": 0
      },
      "text/plain": [
       "GQuantWidget(value=[OrderedDict([('id', 'points_task'), ('type', 'PointNode'), ('conf', {'npts': 80}), ('input…"
      ]
     },
     "metadata": {},
     "output_type": "display_data"
    }
   ],
   "source": [
    "e"
   ]
  },
  {
   "cell_type": "code",
   "execution_count": 133,
   "metadata": {},
   "outputs": [
    {
     "name": "stdout",
     "output_type": "stream",
     "text": [
      "CPU times: user 113 ms, sys: 15.5 ms, total: 128 ms\n",
      "Wall time: 125 ms\n"
     ]
    },
    {
     "data": {
      "text/plain": [
       "Results([('verify.max_diff', 0.0)])"
      ]
     },
     "execution_count": 133,
     "metadata": {},
     "output_type": "execute_result"
    }
   ],
   "source": [
    "%%time\n",
    "task_graph.run()"
   ]
  },
  {
   "cell_type": "code",
   "execution_count": 131,
   "metadata": {},
   "outputs": [],
   "source": [
    "\n",
    "out_list = [\n",
    "    'verify.max_diff', 'verify2.max_diff'\n",
    "]\n",
    "\n",
    "diff = task_graph.run(out_list)"
   ]
  },
  {
   "cell_type": "code",
   "execution_count": 132,
   "metadata": {},
   "outputs": [
    {
     "data": {
      "text/plain": [
       "Results([('verify.max_diff', 0.0), ('verify2.max_diff', 2.220446049250313e-16)])"
      ]
     },
     "execution_count": 132,
     "metadata": {},
     "output_type": "execute_result"
    }
   ],
   "source": [
    "diff"
   ]
  },
  {
   "cell_type": "code",
   "execution_count": 8,
   "metadata": {},
   "outputs": [],
   "source": [
    "task_graph.save_taskgraph('workflow/test_run.gq.yaml')\n"
   ]
  },
  {
   "cell_type": "code",
   "execution_count": null,
   "metadata": {},
   "outputs": [],
   "source": []
  }
 ],
 "metadata": {
  "kernelspec": {
   "display_name": "Python 3",
   "language": "python",
   "name": "python3"
  },
  "language_info": {
   "codemirror_mode": {
    "name": "ipython",
    "version": 3
   },
   "file_extension": ".py",
   "mimetype": "text/x-python",
   "name": "python",
   "nbconvert_exporter": "python",
   "pygments_lexer": "ipython3",
   "version": "3.7.7"
  }
 },
 "nbformat": 4,
 "nbformat_minor": 4
}
