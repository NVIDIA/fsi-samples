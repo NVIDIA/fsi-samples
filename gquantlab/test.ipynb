{
 "cells": [
  {
   "cell_type": "code",
   "execution_count": 1,
   "metadata": {},
   "outputs": [
    {
     "data": {
      "application/gquant-taskgraph": "{\"nodes\": [{\"width\": 110, \"id\": \"points_task\", \"type\": \"PointNode\", \"schema\": {\"title\": \"PointNode configure\", \"type\": \"object\", \"properties\": {\"npts\": {\"type\": \"number\", \"description\": \"number of data points\", \"minimum\": 10}}, \"required\": [\"npts\"]}, \"ui\": {\"npts\": {\"ui:widget\": \"updown\"}}, \"conf\": {\"npts\": 1000}, \"inputs\": [], \"outputs\": [{\"name\": \"points_df_out\", \"type\": [\"cudf.core.dataframe.DataFrame\"]}], \"required\": {}, \"output_columns\": {\"points_df_out\": {\"x\": \"float64\", \"y\": \"float64\"}}, \"filepath\": \"modules/custom_port_nodes.py\"}, {\"width\": 180, \"id\": \"distributed_points\", \"type\": \"DistributedNode\", \"schema\": {\"title\": \"DistributedNode configure\", \"type\": \"object\", \"properties\": {\"npartitions\": {\"type\": \"number\", \"description\": \"num of partitions in the Dask dataframe\", \"minimum\": 1}}, \"required\": [\"npartitions\"]}, \"ui\": {\"npartitions\": {\"ui:widget\": \"updown\"}}, \"conf\": {\"npartitions\": 4}, \"inputs\": [{\"name\": \"points_df_in\", \"type\": [\"cudf.core.dataframe.DataFrame\"]}], \"outputs\": [{\"name\": \"points_ddf_out\", \"type\": [\"dask_cudf.core.DataFrame\"]}], \"required\": {\"points_df_in\": {\"x\": \"float64\", \"y\": \"float64\"}, \"points_ddf_out\": {\"x\": \"float64\", \"y\": \"float64\"}}, \"output_columns\": {\"points_ddf_out\": {\"x\": \"float64\", \"y\": \"float64\"}}, \"filepath\": \"modules/custom_port_nodes.py\"}, {\"width\": 160, \"id\": \"distance_by_cudf\", \"type\": \"DistanceNode\", \"schema\": {}, \"ui\": {}, \"conf\": {}, \"inputs\": [{\"name\": \"points_df_in\", \"type\": [\"cudf.core.dataframe.DataFrame\", \"dask_cudf.core.DataFrame\"]}], \"outputs\": [{\"name\": \"distance_df\", \"type\": [\"cudf.core.dataframe.DataFrame\", \"dask_cudf.core.DataFrame\"]}], \"required\": {\"points_df_in\": {\"x\": \"float64\", \"y\": \"float64\"}, \"distance_df\": {\"x\": \"float64\", \"y\": \"float64\"}}, \"output_columns\": {\"distance_df\": {\"x\": \"float64\", \"y\": \"float64\", \"distance_cudf\": \"float64\"}}, \"filepath\": \"modules/custom_port_nodes.py\"}, {\"width\": 160, \"id\": \"distance_by_cupy\", \"type\": \"CupyDistanceNode\", \"schema\": {}, \"ui\": {}, \"conf\": {}, \"inputs\": [{\"name\": \"points_df_in\", \"type\": [\"cudf.core.dataframe.DataFrame\", \"dask_cudf.core.DataFrame\"]}], \"outputs\": [{\"name\": \"distance_df\", \"type\": [\"cudf.core.dataframe.DataFrame\", \"dask_cudf.core.DataFrame\"]}], \"required\": {\"points_df_in\": {\"x\": \"float64\", \"y\": \"float64\"}, \"distance_df\": {\"x\": \"float64\", \"y\": \"float64\"}}, \"output_columns\": {\"distance_df\": {\"x\": \"float64\", \"y\": \"float64\", \"distance_cupy\": \"float64\"}}, \"filepath\": \"modules/custom_port_nodes.py\"}, {\"width\": 120, \"id\": \"1pmq1wrg27hk\", \"type\": \"DistanceNode\", \"schema\": {}, \"ui\": {}, \"conf\": {}, \"inputs\": [{\"name\": \"points_df_in\", \"type\": [\"cudf.core.dataframe.DataFrame\", \"dask_cudf.core.DataFrame\"]}], \"outputs\": [{\"name\": \"distance_df\", \"type\": [\"cudf.core.dataframe.DataFrame\", \"dask_cudf.core.DataFrame\"]}], \"required\": {\"points_df_in\": {\"x\": \"float64\", \"y\": \"float64\"}, \"distance_df\": {\"x\": \"float64\", \"y\": \"float64\"}}, \"output_columns\": {\"distance_df\": {\"x\": \"float64\", \"y\": \"float64\", \"distance_cudf\": \"float64\"}}, \"filepath\": \"modules/custom_port_nodes.py\"}], \"edges\": [{\"from\": \"points_task.points_df_out\", \"to\": \"distributed_points.points_df_in\"}, {\"from\": \"distributed_points.points_ddf_out\", \"to\": \"distance_by_cudf.points_df_in\"}, {\"from\": \"distributed_points.points_ddf_out\", \"to\": \"distance_by_cupy.points_df_in\"}, {\"from\": \"distributed_points.points_ddf_out\", \"to\": \"1pmq1wrg27hk.points_df_in\"}]}",
      "text/plain": [
       "<gquant.dataframe_flow.taskGraph.TaskGraph at 0x7ff3716e5590>"
      ]
     },
     "execution_count": 1,
     "metadata": {},
     "output_type": "execute_result"
    }
   ],
   "source": [
    "from gquant.dataframe_flow import TaskGraph\n",
    "\n",
    "task_graph = TaskGraph.load_taskgraph('workflow/custom2_wflow.gq.yaml')\n",
    "\n",
    "task_graph"
   ]
  },
  {
   "cell_type": "code",
   "execution_count": 2,
   "metadata": {},
   "outputs": [
    {
     "data": {
      "application/gquant-taskgraph": "{\"nodes\": [{\"width\": 110, \"id\": \"points_task\", \"type\": \"PointNode\", \"schema\": {\"title\": \"PointNode configure\", \"type\": \"object\", \"properties\": {\"npts\": {\"type\": \"number\", \"description\": \"number of data points\", \"minimum\": 10}}, \"required\": [\"npts\"]}, \"ui\": {\"npts\": {\"ui:widget\": \"updown\"}}, \"conf\": {\"npts\": 1000}, \"inputs\": [], \"outputs\": [{\"name\": \"points_df_out\", \"type\": [\"cudf.core.dataframe.DataFrame\"]}], \"required\": {}, \"output_columns\": {\"points_df_out\": {\"x\": \"float64\", \"y\": \"float64\"}}, \"filepath\": \"modules/custom_port_nodes.py\"}, {\"width\": 180, \"id\": \"distributed_points\", \"type\": \"DistributedNode\", \"schema\": {\"title\": \"DistributedNode configure\", \"type\": \"object\", \"properties\": {\"npartitions\": {\"type\": \"number\", \"description\": \"num of partitions in the Dask dataframe\", \"minimum\": 1}}, \"required\": [\"npartitions\"]}, \"ui\": {\"npartitions\": {\"ui:widget\": \"updown\"}}, \"conf\": {\"npartitions\": 4}, \"inputs\": [{\"name\": \"points_df_in\", \"type\": [\"cudf.core.dataframe.DataFrame\"]}], \"outputs\": [{\"name\": \"points_ddf_out\", \"type\": [\"dask_cudf.core.DataFrame\"]}], \"required\": {\"points_df_in\": {\"x\": \"float64\", \"y\": \"float64\"}, \"points_ddf_out\": {\"x\": \"float64\", \"y\": \"float64\"}}, \"output_columns\": {\"points_ddf_out\": {\"x\": \"float64\", \"y\": \"float64\"}}, \"filepath\": \"modules/custom_port_nodes.py\"}, {\"width\": 160, \"id\": \"distance_by_cudf\", \"type\": \"DistanceNode\", \"schema\": {}, \"ui\": {}, \"conf\": {}, \"inputs\": [{\"name\": \"points_df_in\", \"type\": [\"cudf.core.dataframe.DataFrame\", \"dask_cudf.core.DataFrame\"]}], \"outputs\": [{\"name\": \"distance_df\", \"type\": [\"cudf.core.dataframe.DataFrame\", \"dask_cudf.core.DataFrame\"]}], \"required\": {\"points_df_in\": {\"x\": \"float64\", \"y\": \"float64\"}, \"distance_df\": {\"x\": \"float64\", \"y\": \"float64\"}}, \"output_columns\": {\"distance_df\": {\"x\": \"float64\", \"y\": \"float64\", \"distance_cudf\": \"float64\"}}, \"filepath\": \"modules/custom_port_nodes.py\"}, {\"width\": 160, \"id\": \"distance_by_cupy\", \"type\": \"CupyDistanceNode\", \"schema\": {}, \"ui\": {}, \"conf\": {}, \"inputs\": [{\"name\": \"points_df_in\", \"type\": [\"cudf.core.dataframe.DataFrame\", \"dask_cudf.core.DataFrame\"]}], \"outputs\": [{\"name\": \"distance_df\", \"type\": [\"cudf.core.dataframe.DataFrame\", \"dask_cudf.core.DataFrame\"]}], \"required\": {\"points_df_in\": {\"x\": \"float64\", \"y\": \"float64\"}, \"distance_df\": {\"x\": \"float64\", \"y\": \"float64\"}}, \"output_columns\": {\"distance_df\": {\"x\": \"float64\", \"y\": \"float64\", \"distance_cupy\": \"float64\"}}, \"filepath\": \"modules/custom_port_nodes.py\"}, {\"width\": 120, \"id\": \"1pmq1wrg27hk\", \"type\": \"DistanceNode\", \"schema\": {}, \"ui\": {}, \"conf\": {}, \"inputs\": [{\"name\": \"points_df_in\", \"type\": [\"cudf.core.dataframe.DataFrame\", \"dask_cudf.core.DataFrame\"]}], \"outputs\": [{\"name\": \"distance_df\", \"type\": [\"cudf.core.dataframe.DataFrame\", \"dask_cudf.core.DataFrame\"]}], \"required\": {\"points_df_in\": {\"x\": \"float64\", \"y\": \"float64\"}, \"distance_df\": {\"x\": \"float64\", \"y\": \"float64\"}}, \"output_columns\": {\"distance_df\": {\"x\": \"float64\", \"y\": \"float64\", \"distance_cudf\": \"float64\"}}, \"filepath\": \"modules/custom_port_nodes.py\"}], \"edges\": [{\"from\": \"points_task.points_df_out\", \"to\": \"distributed_points.points_df_in\"}, {\"from\": \"distributed_points.points_ddf_out\", \"to\": \"distance_by_cudf.points_df_in\"}, {\"from\": \"distributed_points.points_ddf_out\", \"to\": \"distance_by_cupy.points_df_in\"}, {\"from\": \"distributed_points.points_ddf_out\", \"to\": \"1pmq1wrg27hk.points_df_in\"}]}",
      "text/plain": [
       "<gquant.dataframe_flow.taskGraph.TaskGraph at 0x7f626e45ac10>"
      ]
     },
     "execution_count": 2,
     "metadata": {},
     "output_type": "execute_result"
    }
   ],
   "source": [
    "task_graph"
   ]
  }
 ],
 "metadata": {
  "kernelspec": {
   "display_name": "Python 3",
   "language": "python",
   "name": "python3"
  },
  "language_info": {
   "codemirror_mode": {
    "name": "ipython",
    "version": 3
   },
   "file_extension": ".py",
   "mimetype": "text/x-python",
   "name": "python",
   "nbconvert_exporter": "python",
   "pygments_lexer": "ipython3",
   "version": "3.7.7"
  }
 },
 "nbformat": 4,
 "nbformat_minor": 4
}
