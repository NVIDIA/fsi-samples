{
 "cells": [
  {
   "cell_type": "code",
   "execution_count": 1,
   "metadata": {},
   "outputs": [],
   "source": [
    "import sys\n",
    "sys.path.append('modules')\n",
    "from custom_port_nodes import *\n",
    "from gquant.dataframe_flow import TaskGraph"
   ]
  },
  {
   "cell_type": "code",
   "execution_count": 2,
   "metadata": {},
   "outputs": [
    {
     "name": "stdout",
     "output_type": "stream",
     "text": [
      "Path at terminal when executing this file\n",
      "/Projects/gQuant/gquantlab\n",
      "\n",
      "This file path, relative to os.getcwd()\n",
      "/Projects/gQuant/gquantlab/gquantlab/server_utils.py\n",
      "\n",
      "This file full path (following symlinks)\n",
      "/Projects/gQuant/gquantlab/gquantlab/server_utils.py\n",
      "\n"
     ]
    }
   ],
   "source": [
    "task_graph = TaskGraph.load_taskgraph('workflow/test_run.gq.yaml')\n",
    "e = task_graph.draw()"
   ]
  },
  {
   "cell_type": "code",
   "execution_count": 3,
   "metadata": {},
   "outputs": [
    {
     "data": {
      "application/vnd.jupyter.widget-view+json": {
       "model_id": "1f1dd254a90a41eeb44689277b298613",
       "version_major": 2,
       "version_minor": 0
      },
      "text/plain": [
       "GQuantWidget(value=[OrderedDict([('id', 'points_task'), ('type', 'PointNode'), ('conf', {'npts': 80}), ('input…"
      ]
     },
     "metadata": {},
     "output_type": "display_data"
    }
   ],
   "source": [
    "e"
   ]
  },
  {
   "cell_type": "code",
   "execution_count": 4,
   "metadata": {},
   "outputs": [
    {
     "data": {
      "application/vnd.jupyter.widget-view+json": {
       "model_id": "1f1dd254a90a41eeb44689277b298613",
       "version_major": 2,
       "version_minor": 0
      },
      "text/plain": [
       "GQuantWidget(value=[OrderedDict([('id', 'points_task'), ('type', 'PointNode'), ('conf', {'npts': 80}), ('input…"
      ]
     },
     "metadata": {},
     "output_type": "display_data"
    }
   ],
   "source": [
    "e"
   ]
  },
  {
   "cell_type": "code",
   "execution_count": 6,
   "metadata": {},
   "outputs": [
    {
     "data": {
      "text/plain": [
       "{'numba.distance_df':            x         y  distance_numba\n",
       " 0   0.999126  0.089249        1.003104\n",
       " 1   0.630336  0.178163        0.655031\n",
       " 2   0.432804  0.420535        0.603464\n",
       " 3   0.510486  0.146330        0.531045\n",
       " 4   0.145461  0.873663        0.885690\n",
       " ..       ...       ...             ...\n",
       " 75  0.453678  0.693942        0.829083\n",
       " 76  0.182843  0.719071        0.741953\n",
       " 77  0.280600  0.287224        0.401539\n",
       " 78  0.554105  0.902667        1.059169\n",
       " 79  0.923872  0.086601        0.927922\n",
       " \n",
       " [80 rows x 3 columns],\n",
       " 'verify.max_diff': 0.0}"
      ]
     },
     "execution_count": 6,
     "metadata": {},
     "output_type": "execute_result"
    }
   ],
   "source": [
    "task_graph.run()"
   ]
  },
  {
   "cell_type": "code",
   "execution_count": 6,
   "metadata": {},
   "outputs": [],
   "source": [
    "\n",
    "out_list = [\n",
    "    'verify.max_diff', 'verify2.max_diff'\n",
    "]\n",
    "\n",
    "diff = task_graph.run(out_list)"
   ]
  },
  {
   "cell_type": "code",
   "execution_count": 7,
   "metadata": {},
   "outputs": [
    {
     "data": {
      "text/plain": [
       "(0.0, 2.220446049250313e-16)"
      ]
     },
     "execution_count": 7,
     "metadata": {},
     "output_type": "execute_result"
    }
   ],
   "source": [
    "diff"
   ]
  },
  {
   "cell_type": "code",
   "execution_count": 8,
   "metadata": {},
   "outputs": [],
   "source": [
    "task_graph.save_taskgraph('workflow/test_run.gq.yaml')\n"
   ]
  },
  {
   "cell_type": "code",
   "execution_count": null,
   "metadata": {},
   "outputs": [],
   "source": []
  }
 ],
 "metadata": {
  "kernelspec": {
   "display_name": "Python 3",
   "language": "python",
   "name": "python3"
  },
  "language_info": {
   "codemirror_mode": {
    "name": "ipython",
    "version": 3
   },
   "file_extension": ".py",
   "mimetype": "text/x-python",
   "name": "python",
   "nbconvert_exporter": "python",
   "pygments_lexer": "ipython3",
   "version": "3.7.7"
  }
 },
 "nbformat": 4,
 "nbformat_minor": 4
}
