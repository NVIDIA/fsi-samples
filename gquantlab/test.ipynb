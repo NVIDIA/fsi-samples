{
 "cells": [
  {
   "cell_type": "code",
   "execution_count": 1,
   "metadata": {},
   "outputs": [
    {
     "data": {
      "application/gquant-taskgraph": "{\"nodes\": [{\"width\": 110, \"id\": \"points_task\", \"type\": \"PointNode\", \"schema\": {\"title\": \"PointNode configure\", \"type\": \"object\", \"properties\": {\"npts\": {\"type\": \"number\", \"description\": \"number of data points\", \"minimum\": 10}}, \"required\": [\"npts\"]}, \"ui\": {\"npts\": {\"ui:widget\": \"updown\"}}, \"conf\": {\"npts\": 1000}, \"inputs\": [], \"outputs\": [{\"name\": \"points_df_out\", \"type\": [\"cudf.core.dataframe.DataFrame\"]}], \"required\": {}, \"output_columns\": {\"points_df_out\": {\"x\": \"float64\", \"y\": \"float64\"}}, \"filepath\": \"modules/custom_port_nodes.py\"}, {\"width\": 180, \"id\": \"distributed_points\", \"type\": \"DistributedNode\", \"schema\": {\"title\": \"DistributedNode configure\", \"type\": \"object\", \"properties\": {\"npartitions\": {\"type\": \"number\", \"description\": \"num of partitions in the Dask dataframe\", \"minimum\": 1}}, \"required\": [\"npartitions\"]}, \"ui\": {\"npartitions\": {\"ui:widget\": \"updown\"}}, \"conf\": {\"npartitions\": 4}, \"inputs\": [{\"name\": \"points_df_in\", \"type\": [\"cudf.core.dataframe.DataFrame\"]}], \"outputs\": [{\"name\": \"points_ddf_out\", \"type\": [\"dask_cudf.core.DataFrame\"]}], \"required\": {\"points_df_in\": {\"x\": \"float64\", \"y\": \"float64\"}, \"points_ddf_out\": {\"x\": \"float64\", \"y\": \"float64\"}}, \"output_columns\": {\"points_ddf_out\": {\"x\": \"float64\", \"y\": \"float64\"}}, \"filepath\": \"modules/custom_port_nodes.py\"}, {\"width\": 160, \"id\": \"distance_by_cudf\", \"type\": \"DistanceNode\", \"schema\": {}, \"ui\": {}, \"conf\": {}, \"inputs\": [{\"name\": \"points_df_in\", \"type\": [\"cudf.core.dataframe.DataFrame\", \"dask_cudf.core.DataFrame\"]}], \"outputs\": [{\"name\": \"distance_df\", \"type\": [\"cudf.core.dataframe.DataFrame\", \"dask_cudf.core.DataFrame\"]}], \"required\": {\"points_df_in\": {\"x\": \"float64\", \"y\": \"float64\"}, \"distance_df\": {\"x\": \"float64\", \"y\": \"float64\"}}, \"output_columns\": {\"distance_df\": {\"x\": \"float64\", \"y\": \"float64\", \"distance_cudf\": \"float64\"}}, \"filepath\": \"modules/custom_port_nodes.py\"}, {\"width\": 160, \"id\": \"distance_by_cupy\", \"type\": \"CupyDistanceNode\", \"schema\": {}, \"ui\": {}, \"conf\": {}, \"inputs\": [{\"name\": \"points_df_in\", \"type\": [\"cudf.core.dataframe.DataFrame\", \"dask_cudf.core.DataFrame\"]}], \"outputs\": [{\"name\": \"distance_df\", \"type\": [\"cudf.core.dataframe.DataFrame\", \"dask_cudf.core.DataFrame\"]}], \"required\": {\"points_df_in\": {\"x\": \"float64\", \"y\": \"float64\"}, \"distance_df\": {\"x\": \"float64\", \"y\": \"float64\"}}, \"output_columns\": {\"distance_df\": {\"x\": \"float64\", \"y\": \"float64\", \"distance_cupy\": \"float64\"}}, \"filepath\": \"modules/custom_port_nodes.py\"}, {\"width\": 120, \"id\": \"1pmq1wrg27hk\", \"type\": \"DistanceNode\", \"schema\": {}, \"ui\": {}, \"conf\": {}, \"inputs\": [{\"name\": \"points_df_in\", \"type\": [\"cudf.core.dataframe.DataFrame\", \"dask_cudf.core.DataFrame\"]}], \"outputs\": [{\"name\": \"distance_df\", \"type\": [\"cudf.core.dataframe.DataFrame\", \"dask_cudf.core.DataFrame\"]}], \"required\": {\"points_df_in\": {\"x\": \"float64\", \"y\": \"float64\"}, \"distance_df\": {\"x\": \"float64\", \"y\": \"float64\"}}, \"output_columns\": {\"distance_df\": {\"x\": \"float64\", \"y\": \"float64\", \"distance_cudf\": \"float64\"}}, \"filepath\": \"modules/custom_port_nodes.py\"}], \"edges\": [{\"from\": \"points_task.points_df_out\", \"to\": \"distributed_points.points_df_in\"}, {\"from\": \"distributed_points.points_ddf_out\", \"to\": \"distance_by_cudf.points_df_in\"}, {\"from\": \"distributed_points.points_ddf_out\", \"to\": \"distance_by_cupy.points_df_in\"}, {\"from\": \"distributed_points.points_ddf_out\", \"to\": \"1pmq1wrg27hk.points_df_in\"}]}",
      "text/plain": [
       "<gquant.dataframe_flow.taskGraph.TaskGraph at 0x7ff3716e5590>"
      ]
     },
     "execution_count": 1,
     "metadata": {},
     "output_type": "execute_result"
    }
   ],
   "source": [
    "from gquant.dataframe_flow import TaskGraph\n",
    "\n",
    "task_graph = TaskGraph.load_taskgraph('workflow/custom2_wflow.gq.yaml')\n",
    "\n",
    "task_graph"
   ]
  },
  {
   "cell_type": "code",
   "execution_count": 2,
   "metadata": {},
   "outputs": [
    {
     "data": {
      "application/gquant-taskgraph": "{\"nodes\": [{\"width\": 110, \"id\": \"points_task\", \"type\": \"PointNode\", \"schema\": {\"title\": \"PointNode configure\", \"type\": \"object\", \"properties\": {\"npts\": {\"type\": \"number\", \"description\": \"number of data points\", \"minimum\": 10}}, \"required\": [\"npts\"]}, \"ui\": {\"npts\": {\"ui:widget\": \"updown\"}}, \"conf\": {\"npts\": 1000}, \"inputs\": [], \"outputs\": [{\"name\": \"points_df_out\", \"type\": [\"cudf.core.dataframe.DataFrame\"]}], \"required\": {}, \"output_columns\": {\"points_df_out\": {\"x\": \"float64\", \"y\": \"float64\"}}, \"filepath\": \"modules/custom_port_nodes.py\"}, {\"width\": 180, \"id\": \"distributed_points\", \"type\": \"DistributedNode\", \"schema\": {\"title\": \"DistributedNode configure\", \"type\": \"object\", \"properties\": {\"npartitions\": {\"type\": \"number\", \"description\": \"num of partitions in the Dask dataframe\", \"minimum\": 1}}, \"required\": [\"npartitions\"]}, \"ui\": {\"npartitions\": {\"ui:widget\": \"updown\"}}, \"conf\": {\"npartitions\": 4}, \"inputs\": [{\"name\": \"points_df_in\", \"type\": [\"cudf.core.dataframe.DataFrame\"]}], \"outputs\": [{\"name\": \"points_ddf_out\", \"type\": [\"dask_cudf.core.DataFrame\"]}], \"required\": {\"points_df_in\": {\"x\": \"float64\", \"y\": \"float64\"}, \"points_ddf_out\": {\"x\": \"float64\", \"y\": \"float64\"}}, \"output_columns\": {\"points_ddf_out\": {\"x\": \"float64\", \"y\": \"float64\"}}, \"filepath\": \"modules/custom_port_nodes.py\"}, {\"width\": 160, \"id\": \"distance_by_cudf\", \"type\": \"DistanceNode\", \"schema\": {}, \"ui\": {}, \"conf\": {}, \"inputs\": [{\"name\": \"points_df_in\", \"type\": [\"cudf.core.dataframe.DataFrame\", \"dask_cudf.core.DataFrame\"]}], \"outputs\": [{\"name\": \"distance_df\", \"type\": [\"cudf.core.dataframe.DataFrame\", \"dask_cudf.core.DataFrame\"]}], \"required\": {\"points_df_in\": {\"x\": \"float64\", \"y\": \"float64\"}, \"distance_df\": {\"x\": \"float64\", \"y\": \"float64\"}}, \"output_columns\": {\"distance_df\": {\"x\": \"float64\", \"y\": \"float64\", \"distance_cudf\": \"float64\"}}, \"filepath\": \"modules/custom_port_nodes.py\"}, {\"width\": 160, \"id\": \"distance_by_cupy\", \"type\": \"CupyDistanceNode\", \"schema\": {}, \"ui\": {}, \"conf\": {}, \"inputs\": [{\"name\": \"points_df_in\", \"type\": [\"cudf.core.dataframe.DataFrame\", \"dask_cudf.core.DataFrame\"]}], \"outputs\": [{\"name\": \"distance_df\", \"type\": [\"cudf.core.dataframe.DataFrame\", \"dask_cudf.core.DataFrame\"]}], \"required\": {\"points_df_in\": {\"x\": \"float64\", \"y\": \"float64\"}, \"distance_df\": {\"x\": \"float64\", \"y\": \"float64\"}}, \"output_columns\": {\"distance_df\": {\"x\": \"float64\", \"y\": \"float64\", \"distance_cupy\": \"float64\"}}, \"filepath\": \"modules/custom_port_nodes.py\"}, {\"width\": 120, \"id\": \"1pmq1wrg27hk\", \"type\": \"DistanceNode\", \"schema\": {}, \"ui\": {}, \"conf\": {}, \"inputs\": [{\"name\": \"points_df_in\", \"type\": [\"cudf.core.dataframe.DataFrame\", \"dask_cudf.core.DataFrame\"]}], \"outputs\": [{\"name\": \"distance_df\", \"type\": [\"cudf.core.dataframe.DataFrame\", \"dask_cudf.core.DataFrame\"]}], \"required\": {\"points_df_in\": {\"x\": \"float64\", \"y\": \"float64\"}, \"distance_df\": {\"x\": \"float64\", \"y\": \"float64\"}}, \"output_columns\": {\"distance_df\": {\"x\": \"float64\", \"y\": \"float64\", \"distance_cudf\": \"float64\"}}, \"filepath\": \"modules/custom_port_nodes.py\"}], \"edges\": [{\"from\": \"points_task.points_df_out\", \"to\": \"distributed_points.points_df_in\"}, {\"from\": \"distributed_points.points_ddf_out\", \"to\": \"distance_by_cudf.points_df_in\"}, {\"from\": \"distributed_points.points_ddf_out\", \"to\": \"distance_by_cupy.points_df_in\"}, {\"from\": \"distributed_points.points_ddf_out\", \"to\": \"1pmq1wrg27hk.points_df_in\"}]}",
      "text/plain": [
       "<gquant.dataframe_flow.taskGraph.TaskGraph at 0x7f626e45ac10>"
      ]
     },
     "execution_count": 2,
     "metadata": {},
     "output_type": "execute_result"
    }
   ],
   "source": [
    "task_graph"
   ]
  },
  {
   "cell_type": "code",
   "execution_count": 4,
   "metadata": {},
   "outputs": [
    {
     "data": {
      "text/html": [
       "<h1>Hello Worlda </h1>"
      ]
     },
     "metadata": {},
     "output_type": "display_data"
    }
   ],
   "source": [
    "from IPython.display import display\n",
    "display({'text/html': '<h1>Hello Worlda </h1>'}, raw=True)"
   ]
  },
  {
   "cell_type": "code",
   "execution_count": 1,
   "metadata": {},
   "outputs": [],
   "source": [
    "content = \"\"\"\n",
    "- id: node\n",
    "  type: PointNode\n",
    "  conf:\n",
    "    npts: 100\n",
    "  inputs: {}\n",
    "  filepath: modules/custom_port_nodes.py\n",
    "- id: distributed\n",
    "  type: CupyDistanceNode\n",
    "  conf: {}\n",
    "  inputs:\n",
    "    points_df_in: node.points_df_out\n",
    "  filepath: modules/custom_port_nodes.py\n",
    "\"\"\"\n",
    "\n",
    "class Mytype:\n",
    "    def _repr_mimebundle_(self, include=None, exclude=None):\n",
    "        return {'application/gquant-taskgraph':content}\n",
    "    \n"
   ]
  },
  {
   "cell_type": "code",
   "execution_count": 2,
   "metadata": {},
   "outputs": [],
   "source": [
    "a  = Mytype()"
   ]
  },
  {
   "cell_type": "code",
   "execution_count": 3,
   "metadata": {},
   "outputs": [
    {
     "data": {
      "application/gquant-taskgraph": "\n- id: node\n  type: PointNode\n  conf:\n    npts: 100\n  inputs: {}\n  filepath: modules/custom_port_nodes.py\n- id: distributed\n  type: CupyDistanceNode\n  conf: {}\n  inputs:\n    points_df_in: node.points_df_out\n  filepath: modules/custom_port_nodes.py\n",
      "text/plain": [
       "<__main__.Mytype at 0x7f3274046950>"
      ]
     },
     "execution_count": 3,
     "metadata": {},
     "output_type": "execute_result"
    }
   ],
   "source": [
    "a"
   ]
  },
  {
   "cell_type": "code",
   "execution_count": 8,
   "metadata": {},
   "outputs": [
    {
     "data": {
      "text/plain": [
       "['__class__',\n",
       " '__del__',\n",
       " '__delattr__',\n",
       " '__dict__',\n",
       " '__dir__',\n",
       " '__doc__',\n",
       " '__eq__',\n",
       " '__format__',\n",
       " '__ge__',\n",
       " '__getattribute__',\n",
       " '__getstate__',\n",
       " '__gt__',\n",
       " '__hash__',\n",
       " '__init__',\n",
       " '__init_subclass__',\n",
       " '__le__',\n",
       " '__lt__',\n",
       " '__module__',\n",
       " '__ne__',\n",
       " '__new__',\n",
       " '__reduce__',\n",
       " '__reduce_ex__',\n",
       " '__repr__',\n",
       " '__setattr__',\n",
       " '__setstate__',\n",
       " '__sizeof__',\n",
       " '__str__',\n",
       " '__subclasshook__',\n",
       " '__weakref__',\n",
       " '_add_notifiers',\n",
       " '_call_widget_constructed',\n",
       " '_comm_changed',\n",
       " '_compare',\n",
       " '_cross_validation_lock',\n",
       " '_default_keys',\n",
       " '_default_scale_x',\n",
       " '_default_scale_y',\n",
       " '_display_callbacks',\n",
       " '_dom_classes',\n",
       " '_gen_repr_from_keys',\n",
       " '_get_embed_state',\n",
       " '_handle_custom_msg',\n",
       " '_handle_displayed',\n",
       " '_handle_msg',\n",
       " '_holding_sync',\n",
       " '_ipython_display_',\n",
       " '_is_numpy',\n",
       " '_lock_property',\n",
       " '_log_default',\n",
       " '_model_id',\n",
       " '_model_module',\n",
       " '_model_module_version',\n",
       " '_model_name',\n",
       " '_msg_callbacks',\n",
       " '_notify_trait',\n",
       " '_property_lock',\n",
       " '_register_validator',\n",
       " '_remove_notifiers',\n",
       " '_repr_keys',\n",
       " '_send',\n",
       " '_should_send_property',\n",
       " '_states_to_send',\n",
       " '_trait_default_generators',\n",
       " '_trait_from_json',\n",
       " '_trait_notifiers',\n",
       " '_trait_to_json',\n",
       " '_trait_validators',\n",
       " '_trait_values',\n",
       " '_validate_aspect_ratio',\n",
       " '_view_count',\n",
       " '_view_module',\n",
       " '_view_module_version',\n",
       " '_view_name',\n",
       " '_widget_construction_callback',\n",
       " 'add_class',\n",
       " 'add_traits',\n",
       " 'animation_duration',\n",
       " 'axes',\n",
       " 'background_style',\n",
       " 'class_own_trait_events',\n",
       " 'class_own_traits',\n",
       " 'class_trait_names',\n",
       " 'class_traits',\n",
       " 'close',\n",
       " 'close_all',\n",
       " 'comm',\n",
       " 'cross_validation_lock',\n",
       " 'fig_margin',\n",
       " 'get_manager_state',\n",
       " 'get_state',\n",
       " 'get_view_spec',\n",
       " 'handle_comm_opened',\n",
       " 'has_trait',\n",
       " 'hold_sync',\n",
       " 'hold_trait_notifications',\n",
       " 'interaction',\n",
       " 'keys',\n",
       " 'layout',\n",
       " 'legend_location',\n",
       " 'legend_style',\n",
       " 'legend_text',\n",
       " 'log',\n",
       " 'marks',\n",
       " 'max_aspect_ratio',\n",
       " 'min_aspect_ratio',\n",
       " 'model_id',\n",
       " 'notify_change',\n",
       " 'observe',\n",
       " 'on_displayed',\n",
       " 'on_msg',\n",
       " 'on_trait_change',\n",
       " 'on_widget_constructed',\n",
       " 'open',\n",
       " 'padding_x',\n",
       " 'padding_y',\n",
       " 'pixel_ratio',\n",
       " 'remove_class',\n",
       " 'save_png',\n",
       " 'save_svg',\n",
       " 'scale_x',\n",
       " 'scale_y',\n",
       " 'send',\n",
       " 'send_state',\n",
       " 'set_state',\n",
       " 'set_trait',\n",
       " 'setup_instance',\n",
       " 'theme',\n",
       " 'title',\n",
       " 'title_style',\n",
       " 'trait_events',\n",
       " 'trait_metadata',\n",
       " 'trait_names',\n",
       " 'traits',\n",
       " 'unobserve',\n",
       " 'unobserve_all',\n",
       " 'widget_types',\n",
       " 'widgets']"
      ]
     },
     "execution_count": 8,
     "metadata": {},
     "output_type": "execute_result"
    }
   ],
   "source": [
    "dir(fig)"
   ]
  },
  {
   "cell_type": "code",
   "execution_count": null,
   "metadata": {},
   "outputs": [],
   "source": [
    "help(display)"
   ]
  },
  {
   "cell_type": "code",
   "execution_count": null,
   "metadata": {},
   "outputs": [],
   "source": [
    "dir(fig)\n",
    "\n"
   ]
  },
  {
   "cell_type": "code",
   "execution_count": null,
   "metadata": {},
   "outputs": [],
   "source": [
    "\n",
    "import ipywidgets as widgets\n"
   ]
  },
  {
   "cell_type": "code",
   "execution_count": null,
   "metadata": {},
   "outputs": [],
   "source": [
    "e  = pandas.DataFrame({'a':[1,2,3]})"
   ]
  },
  {
   "cell_type": "code",
   "execution_count": null,
   "metadata": {},
   "outputs": [],
   "source": [
    "import ipywidgets\n"
   ]
  },
  {
   "cell_type": "code",
   "execution_count": null,
   "metadata": {},
   "outputs": [],
   "source": [
    "s = ipywidgets.IntSlider()"
   ]
  },
  {
   "cell_type": "code",
   "execution_count": null,
   "metadata": {},
   "outputs": [],
   "source": [
    "list(s._repr_keys())"
   ]
  },
  {
   "cell_type": "code",
   "execution_count": null,
   "metadata": {},
   "outputs": [],
   "source": [
    "\n"
   ]
  }
 ],
 "metadata": {
  "kernelspec": {
   "display_name": "Python 3",
   "language": "python",
   "name": "python3"
  },
  "language_info": {
   "codemirror_mode": {
    "name": "ipython",
    "version": 3
   },
   "file_extension": ".py",
   "mimetype": "text/x-python",
   "name": "python",
   "nbconvert_exporter": "python",
   "pygments_lexer": "ipython3",
   "version": "3.7.7"
  }
 },
 "nbformat": 4,
 "nbformat_minor": 4
}
