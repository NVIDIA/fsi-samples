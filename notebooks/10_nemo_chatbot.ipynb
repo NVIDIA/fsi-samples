{
 "cells": [
  {
   "cell_type": "markdown",
   "metadata": {
    "slideshow": {
     "slide_type": "slide"
    }
   },
   "source": [
    "# gQuant NeMo Chatbot Example\n",
    "\n",
    "In the previous example notebooks, we use gQuant to perform ETL, backtesting, machine learning, hyperparameter tuning tasks. As we  see, gQuant can be extended easily for other types of workflow accelerations as long as the computation can be organized as graph computations. \n",
    "\n",
    "[NeMo](https://github.com/NVIDIA/NeMo) is a toolkit for creating Conversational AI applications. Most importantly, NeMo abstracts the neural network into neural modules with input and output ports similar to gQuant nodes. So the neural network computation is organized as a computation graph made of neural modules. Because of the similarity between gQuant node and neural modules, the neural module can be easily wrapped up into a gQuant node. NeMo is integrated into the gQuant so the neural modules can be wired, trained, inferred visually with the help of gQuant UI. \n",
    "\n",
    "In this tutorial, we will show how to use gQuant to train an RNN model for chatbot applications. \n",
    "\n",
    "## NeMo gQuant integration\n",
    "\n",
    "Convert the NeMo neural module to gQuant node is easy. gQuant provides a base NeMo node that can be used for inheritance for neural modules. The child class just need to pass in the class name of the Neural Module in the constructor. Here is one example that converts the EncoderRNN Neural Module to gQuant node.\n",
    "\n",
    "```python\n",
    "from gquant.plugin_nodes.nemo_util.nemoBaseNode import NeMoBase\n",
    "import nemo\n",
    "import nemo.backends.pytorch.tutorials\n",
    "\n",
    "class EncoderRNNNode(NeMoBase):\n",
    "    def init(self):\n",
    "        super().init(nemo.backends.pytorch.tutorials.chatbot.modules.EncoderRNN)\n",
    "```\n",
    "\n",
    "`NeMoBase` inspects the `EncoderRNN` constructor signature and converts it as node configuration JSON schema. It automatically infers the types for each of the parameters.  If the auto type inference has an error, it can be fixed by modifying the `self.fix_type` dictionary in the constructor. The keys of the dictionary are the parameter names while the values are the type strings.\n",
    "\n",
    "In the `util` directory, we provide a script `auto_gen.py` that automatically converts the NeMo Neural Modules into gQuant nodes. Currently, it converts 90% of the Neural Modules. The converted Python files are exported to the `modules` directory. gQuant by design can load any externally defined nodes by defining the node modules in the `gquantrc` file.  Here is an example `gquantrc` file that loads the converted NeMo neural module files:\n",
    "\n",
    "```ini\n",
    "nemo.asr= %(MODULEPATH)s/asr.py\n",
    "nemo.common= %(MODULEPATH)s/common.py\n",
    "nemo.cv= %(MODULEPATH)s/cv.py\n",
    "nemo.nlp= %(MODULEPATH)s/nlp.py\n",
    "nemo.simple_gan= %(MODULEPATH)s/simple_gan.py\n",
    "nemo.tts= %(MODULEPATH)s/tts.py\n",
    "nemo.tutorials= %(MODULEPATH)s/tutorials.py\n",
    "```\n",
    "Note, gQuant can automatically interpret the `.` in the module names to form hierarchical menus.\n",
    "\n",
    "\n",
    "## Data Preparation\n",
    "\n",
    "Let's first prepare the chatbot dataset that will be used to train an RNN model."
   ]
  },
  {
   "cell_type": "code",
   "execution_count": 1,
   "metadata": {},
   "outputs": [],
   "source": [
    "import gzip\n",
    "import os\n",
    "import shutil\n",
    "data_file = \"movie_data.txt\"\n",
    "# Download the data file.\n",
    "if not os.path.isfile(data_file):\n",
    "    with gzip.open(\"../../NeMo/tests/data/movie_lines.txt.gz\", 'rb') as f_in:\n",
    "        with open(data_file, 'wb') as f_out:\n",
    "            shutil.copyfileobj(f_in, f_out)"
   ]
  },
  {
   "cell_type": "markdown",
   "metadata": {},
   "source": [
    "It assumes you are using the docker container to run this example. The `movie_lines.txt.gz` file is located at `../../NeMo/tests/data/`. If it is not the case, the data file can be fetched by the following command.\n",
    "```bash\n",
    "wget https://github.com/NVIDIA/NeMo/raw/v0.11.1/tests/data/movie_lines.txt.gz\n",
    "gzip -d movie_lines.txt.gz\n",
    "mv movie_lines.txt movie_data.txt\n",
    "```\n",
    "\n",
    "Let's load the necessary NeMo module and gQuant module, and setup the Neural Module Factory environment. "
   ]
  },
  {
   "cell_type": "code",
   "execution_count": 2,
   "metadata": {},
   "outputs": [],
   "source": [
    "# start the neural module factory\n",
    "import nemo\n",
    "nemo.core.NeuralModuleFactory()\n",
    "import json\n",
    "from gquant.dataframe_flow import TaskGraph"
   ]
  },
  {
   "cell_type": "markdown",
   "metadata": {},
   "source": [
    "Later we will use Ray Tune for hyperparameter tuning. Let's setup the ray environment so we can utilize all the GPUs in the host node for hyperparameter search."
   ]
  },
  {
   "cell_type": "code",
   "execution_count": 3,
   "metadata": {},
   "outputs": [
    {
     "name": "stderr",
     "output_type": "stream",
     "text": [
      "2020-10-09 18:19:07,391\tINFO resource_spec.py:231 -- Starting Ray with 52.64 GiB memory available for workers and up to 26.34 GiB for objects. You can adjust these settings with ray.init(memory=<bytes>, object_store_memory=<bytes>).\n",
      "2020-10-09 18:19:07,958\tINFO services.py:1193 -- View the Ray dashboard at \u001b[1m\u001b[32m172.17.0.2:8265\u001b[39m\u001b[22m\n",
      "2020-10-09 18:19:07,963\tWARNING services.py:1567 -- WARNING: The object store is using /tmp instead of /dev/shm because /dev/shm has only 67100672 bytes available. This may slow down performance! You may be able to free up space by deleting files in /dev/shm or terminating any running plasma_store_server processes. If you are inside a Docker container, you may need to pass an argument with the flag '--shm-size' to 'docker run'.\n",
      "2020-10-09 18:19:07,981\tWARNING services.py:1567 -- WARNING: The object store is using /tmp instead of /dev/shm because /dev/shm has only 67100672 bytes available. This may slow down performance! You may be able to free up space by deleting files in /dev/shm or terminating any running plasma_store_server processes. If you are inside a Docker container, you may need to pass an argument with the flag '--shm-size' to 'docker run'.\n"
     ]
    },
    {
     "data": {
      "text/plain": [
       "{'node_ip_address': '172.17.0.2',\n",
       " 'raylet_ip_address': '172.17.0.2',\n",
       " 'redis_address': '172.17.0.2:6379',\n",
       " 'object_store_address': '/tmp/ray/session_2020-10-09_18-19-07_390022_8297/sockets/plasma_store',\n",
       " 'raylet_socket_name': '/tmp/ray/session_2020-10-09_18-19-07_390022_8297/sockets/raylet',\n",
       " 'webui_url': '172.17.0.2:8265',\n",
       " 'session_dir': '/tmp/ray/session_2020-10-09_18-19-07_390022_8297'}"
      ]
     },
     "execution_count": 3,
     "metadata": {},
     "output_type": "execute_result"
    }
   ],
   "source": [
    "import ray\n",
    "ray.init(dashboard_host='0.0.0.0')"
   ]
  },
  {
   "cell_type": "markdown",
   "metadata": {},
   "source": [
    "## Chatbot Model\n",
    "\n",
    "The chat bot model is taken from the NeMo tutorial example. It consists of a Data layer, a RNN encoder, RNN decoder for Cross Entropy loss and Greedy RNN decoder for text inference. Load the TaskGraph into gQuant:"
   ]
  },
  {
   "cell_type": "code",
   "execution_count": 4,
   "metadata": {
    "slideshow": {
     "slide_type": "slide"
    }
   },
   "outputs": [
    {
     "data": {
      "application/vnd.jupyter.widget-view+json": {
       "model_id": "8f7d22d0e518444189a4e71c70ba52d0",
       "version_major": 2,
       "version_minor": 0
      },
      "text/plain": [
       "GQuantWidget(sub=HBox(), value=[OrderedDict([('id', 'data'), ('type', 'DialogDataLayerNode'), ('conf', {'batch…"
      ]
     },
     "metadata": {},
     "output_type": "display_data"
    }
   ],
   "source": [
    "taskGraph=TaskGraph.load_taskgraph('../taskgraphs/nemo_examples/chatbot_example.gq.yaml')\n",
    "taskGraph.draw()"
   ]
  },
  {
   "cell_type": "markdown",
   "metadata": {},
   "source": [
    "You may notice that each trainable neural module has an `in_nm` input port that takes a neural module as input. This input port is mainly used for sharing weights between neural modules. The gQuant Neural Module wrapper supports all 3 weight sharing mechanisms mentioned in the [NeMo documents](https://docs.nvidia.com/deeplearning/nemo/user-guide/docs/en/v0.11.0/tutorials/weightsharing.html): Module Reuse, Weight Copying, and Weight Tying. Click on the trainable neural module node above, you will see that the weight sharing method can be configured easily in a dropdown list. In the above example, the encoder and decoder modules for thes evaluation dataset reuse the encoder and decoder modules for training. The greedy decoder shares the weights with the decoder by tying the weights. \n",
    "\n",
    "All the neural modules have an `out_nm` port that outputs the neural module instance itself for other nodes to consume. For example, it can be used for weight sharing. Or, it can be used to extract other important information from the neural module. Later in the inference stage, we use the outputted data layer neural module to extract the text dictionary information. \n",
    "\n",
    "There are two special nodes in the above graph: `NeMo Train Node` and `NeMo Infer Node`. As the name indicates, they are used for training and inference for a NeMo module graph. Both nodes can connect to any number of `NmTensors` which are the outputs from the Neural Modules. In the `NeMo Train Node`, the user can specify the `NmTensor` for training loss, and a list of `NmTensors` for logging. Users can select the optimization method from a list of pre-defined optimization methods. Users can also select the `WarmUp Policy` from a list of pre-defined policies. Other configurations like the checkpoints and training epochs can be configured in a similar way. The output port of the `NeMo Train Node` is the directory for the checkpoint files. In the above example, it is used by `NeMo Infer Node` to load the checkpoint files, and run inference. \n",
    "\n",
    "Click on the `run` button to see the training and inference of this chatbot model are in action. During the run the log console has informative information from the Ray Tune library. Click one the 'list' button to see the log or you can go to \"View -> Show Log Console\". It will train 3 epochs by default. If better accuracy is needed, try to increase the number of epochs in the `NeMo Train Node` and run it again.\n",
    "\n",
    "The chatbot graph is a little complicated. We can wrap the whole computation graph into a `Context Composite Node` as explained in the `08_gquant_machine_learning` notebook. The number of layers for encoders and decoders and the drop out rate parameters are exposed as context parameters for this context composite node. We will tune these two parameters later. \n",
    "\n",
    "Load this simplified graph:"
   ]
  },
  {
   "cell_type": "code",
   "execution_count": 5,
   "metadata": {
    "slideshow": {
     "slide_type": "slide"
    }
   },
   "outputs": [
    {
     "data": {
      "application/vnd.jupyter.widget-view+json": {
       "model_id": "2231d4203a84401ebf0d39e922404d36",
       "version_major": 2,
       "version_minor": 0
      },
      "text/plain": [
       "GQuantWidget(sub=HBox(), value=[OrderedDict([('id', 'rnn_train'), ('type', 'ContextCompositeNode'), ('conf', {…"
      ]
     },
     "metadata": {},
     "output_type": "display_data"
    }
   ],
   "source": [
    "taskGraph=TaskGraph.load_taskgraph('../taskgraphs/nemo_examples/chatbot_simplified.gq.yaml')\n",
    "taskGraph.draw()"
   ]
  },
  {
   "cell_type": "markdown",
   "metadata": {},
   "source": [
    "The context composite node output the evaluation results from the inference node and the evaluation data layer neural module for extracting the text dictionary. It produces the same result as the previous complicated graph. The graph can be run in a programmatically way. Let's verify the result by the following command: "
   ]
  },
  {
   "cell_type": "code",
   "execution_count": 6,
   "metadata": {},
   "outputs": [
    {
     "name": "stdout",
     "output_type": "stream",
     "text": [
      "[NeMo I 2020-10-09 17:50:57 data:132] Start preparing training data ...\n",
      "[NeMo I 2020-10-09 17:50:57 data:102] Reading lines...\n",
      "[NeMo I 2020-10-09 17:51:09 data:134] Read 150000 sentence pairs\n",
      "[NeMo I 2020-10-09 17:51:09 data:136] Trimmed to 43840 sentence pairs\n",
      "[NeMo I 2020-10-09 17:51:09 data:137] Counting words...\n",
      "[NeMo I 2020-10-09 17:51:09 data:141] Bad message (TypeError('not all arguments converted during string formatting')): {'name': 'nemo_logger', 'msg': 'Counted words:', 'args': (14455,), 'levelname': 'INFO', 'levelno': 20, 'pathname': '/home/quant/NeMo/nemo/backends/pytorch/tutorials/chatbot/data.py', 'filename': 'data.py', 'module': 'data', 'exc_info': None, 'exc_text': None, 'stack_info': None, 'lineno': 141, 'funcName': 'loadPrepareData', 'created': 1602265869.9934738, 'msecs': 993.4737682342529, 'relativeCreated': 267813.71688842773, 'thread': 140232394950464, 'threadName': 'MainThread', 'processName': 'MainProcess', 'process': 7025}\n",
      "[NeMo I 2020-10-09 17:51:09 data:58] keep_words 6104 / 14452 = 0.4224\n",
      "[NeMo I 2020-10-09 17:51:10 data:132] Start preparing training data ...\n",
      "[NeMo I 2020-10-09 17:51:10 data:102] Reading lines...\n",
      "[NeMo I 2020-10-09 17:51:22 data:134] Read 150000 sentence pairs\n",
      "[NeMo I 2020-10-09 17:51:23 data:136] Trimmed to 43840 sentence pairs\n",
      "[NeMo I 2020-10-09 17:51:23 data:137] Counting words...\n",
      "[NeMo I 2020-10-09 17:51:23 data:141] Bad message (TypeError('not all arguments converted during string formatting')): {'name': 'nemo_logger', 'msg': 'Counted words:', 'args': (14455,), 'levelname': 'INFO', 'levelno': 20, 'pathname': '/home/quant/NeMo/nemo/backends/pytorch/tutorials/chatbot/data.py', 'filename': 'data.py', 'module': 'data', 'exc_info': None, 'exc_text': None, 'stack_info': None, 'lineno': 141, 'funcName': 'loadPrepareData', 'created': 1602265883.4942698, 'msecs': 494.26984786987305, 'relativeCreated': 281314.51296806335, 'thread': 140232394950464, 'threadName': 'MainThread', 'processName': 'MainProcess', 'process': 7025}\n",
      "[NeMo I 2020-10-09 17:51:23 data:58] keep_words 6104 / 14452 = 0.4224\n"
     ]
    },
    {
     "name": "stderr",
     "output_type": "stream",
     "text": [
      "[NeMo W 2020-10-09 17:51:24 callbacks:415] No checkpoints will be saved because step_freq and epoch_freq are both -1.\n"
     ]
    },
    {
     "name": "stdout",
     "output_type": "stream",
     "text": [
      "[NeMo I 2020-10-09 17:51:24 callbacks:534] Found 3 modules with weights:\n",
      "[NeMo I 2020-10-09 17:51:24 callbacks:536] GreedyLuongAttnDecoderRNN\n",
      "[NeMo I 2020-10-09 17:51:24 callbacks:536] LuongAttnDecoderRNN\n",
      "[NeMo I 2020-10-09 17:51:24 callbacks:536] EncoderRNN\n",
      "[NeMo I 2020-10-09 17:51:24 callbacks:537] Total model parameters: 30876086\n",
      "[NeMo I 2020-10-09 17:51:24 callbacks:473] Found checkpoint folder nemo_log. Will attempt to restore checkpoints from it.\n"
     ]
    },
    {
     "name": "stderr",
     "output_type": "stream",
     "text": [
      "[NeMo W 2020-10-09 17:51:24 callbacks:499] For module EncoderRNN, no file matches  in nemo_log\n",
      "[NeMo W 2020-10-09 17:51:24 callbacks:501] Checkpoint folder nemo_log was present but nothing was restored. Continuing training from random initialization.\n"
     ]
    },
    {
     "name": "stdout",
     "output_type": "stream",
     "text": [
      "[NeMo I 2020-10-09 17:51:24 callbacks:232] loss: 8.730251\n",
      "[NeMo I 2020-10-09 17:51:24 deprecated_callbacks:316] Doing Evaluation ..............................\n"
     ]
    },
    {
     "name": "stderr",
     "output_type": "stream",
     "text": [
      "2020-10-09 17:51:26,659\tWARNING session.py:14 -- Session not detected. You should not be calling this function outside `tune.run` or while using the class API. \n"
     ]
    },
    {
     "name": "stdout",
     "output_type": "stream",
     "text": [
      "eval: loss 8.307969\n",
      "[NeMo I 2020-10-09 17:51:26 deprecated_callbacks:321] Evaluation time: 2.3719964027404785 seconds\n",
      "[NeMo I 2020-10-09 17:51:32 callbacks:232] loss: 4.24844\n",
      "[NeMo I 2020-10-09 17:51:32 deprecated_callbacks:316] Doing Evaluation ..............................\n"
     ]
    },
    {
     "name": "stderr",
     "output_type": "stream",
     "text": [
      "2020-10-09 17:51:34,396\tWARNING session.py:14 -- Session not detected. You should not be calling this function outside `tune.run` or while using the class API. \n"
     ]
    },
    {
     "name": "stdout",
     "output_type": "stream",
     "text": [
      "eval: loss 4.2280946\n",
      "[NeMo I 2020-10-09 17:51:34 deprecated_callbacks:321] Evaluation time: 2.2655580043792725 seconds\n",
      "[NeMo I 2020-10-09 17:51:39 callbacks:232] loss: 3.9356227\n",
      "[NeMo I 2020-10-09 17:51:39 deprecated_callbacks:316] Doing Evaluation ..............................\n"
     ]
    },
    {
     "name": "stderr",
     "output_type": "stream",
     "text": [
      "2020-10-09 17:51:42,315\tWARNING session.py:14 -- Session not detected. You should not be calling this function outside `tune.run` or while using the class API. \n"
     ]
    },
    {
     "name": "stdout",
     "output_type": "stream",
     "text": [
      "eval: loss 3.783767\n",
      "[NeMo I 2020-10-09 17:51:42 deprecated_callbacks:321] Evaluation time: 2.654122829437256 seconds\n",
      "[NeMo I 2020-10-09 17:51:47 callbacks:232] loss: 3.8796775\n",
      "[NeMo I 2020-10-09 17:51:47 deprecated_callbacks:316] Doing Evaluation ..............................\n"
     ]
    },
    {
     "name": "stderr",
     "output_type": "stream",
     "text": [
      "2020-10-09 17:51:49,971\tWARNING session.py:14 -- Session not detected. You should not be calling this function outside `tune.run` or while using the class API. \n"
     ]
    },
    {
     "name": "stdout",
     "output_type": "stream",
     "text": [
      "eval: loss 3.5885432\n",
      "[NeMo I 2020-10-09 17:51:49 deprecated_callbacks:321] Evaluation time: 2.314290761947632 seconds\n",
      "[NeMo I 2020-10-09 17:51:56 callbacks:232] loss: 3.4285002\n",
      "[NeMo I 2020-10-09 17:51:56 deprecated_callbacks:316] Doing Evaluation ..............................\n"
     ]
    },
    {
     "name": "stderr",
     "output_type": "stream",
     "text": [
      "2020-10-09 17:51:58,692\tWARNING session.py:14 -- Session not detected. You should not be calling this function outside `tune.run` or while using the class API. \n"
     ]
    },
    {
     "name": "stdout",
     "output_type": "stream",
     "text": [
      "eval: loss 3.3833182\n",
      "[NeMo I 2020-10-09 17:51:58 deprecated_callbacks:321] Evaluation time: 2.6722679138183594 seconds\n",
      "[NeMo I 2020-10-09 17:52:04 callbacks:232] loss: 3.3505182\n",
      "[NeMo I 2020-10-09 17:52:04 deprecated_callbacks:316] Doing Evaluation ..............................\n"
     ]
    },
    {
     "name": "stderr",
     "output_type": "stream",
     "text": [
      "2020-10-09 17:52:07,022\tWARNING session.py:14 -- Session not detected. You should not be calling this function outside `tune.run` or while using the class API. \n"
     ]
    },
    {
     "name": "stdout",
     "output_type": "stream",
     "text": [
      "eval: loss 3.2234194\n",
      "[NeMo I 2020-10-09 17:52:07 deprecated_callbacks:321] Evaluation time: 2.358950138092041 seconds\n",
      "[NeMo I 2020-10-09 17:52:12 callbacks:232] loss: 3.018219\n",
      "[NeMo I 2020-10-09 17:52:12 deprecated_callbacks:316] Doing Evaluation ..............................\n"
     ]
    },
    {
     "name": "stderr",
     "output_type": "stream",
     "text": [
      "2020-10-09 17:52:14,945\tWARNING session.py:14 -- Session not detected. You should not be calling this function outside `tune.run` or while using the class API. \n"
     ]
    },
    {
     "name": "stdout",
     "output_type": "stream",
     "text": [
      "eval: loss 3.0797098\n",
      "[NeMo I 2020-10-09 17:52:14 deprecated_callbacks:321] Evaluation time: 2.337757110595703 seconds\n",
      "[NeMo I 2020-10-09 17:52:20 callbacks:232] loss: 3.0476317\n",
      "[NeMo I 2020-10-09 17:52:20 deprecated_callbacks:316] Doing Evaluation ..............................\n"
     ]
    },
    {
     "name": "stderr",
     "output_type": "stream",
     "text": [
      "2020-10-09 17:52:23,207\tWARNING session.py:14 -- Session not detected. You should not be calling this function outside `tune.run` or while using the class API. \n"
     ]
    },
    {
     "name": "stdout",
     "output_type": "stream",
     "text": [
      "eval: loss 2.915382\n",
      "[NeMo I 2020-10-09 17:52:23 deprecated_callbacks:321] Evaluation time: 2.6708412170410156 seconds\n",
      "[NeMo I 2020-10-09 17:52:29 callbacks:232] loss: 2.988197\n",
      "[NeMo I 2020-10-09 17:52:29 deprecated_callbacks:316] Doing Evaluation ..............................\n"
     ]
    },
    {
     "name": "stderr",
     "output_type": "stream",
     "text": [
      "2020-10-09 17:52:31,503\tWARNING session.py:14 -- Session not detected. You should not be calling this function outside `tune.run` or while using the class API. \n"
     ]
    },
    {
     "name": "stdout",
     "output_type": "stream",
     "text": [
      "eval: loss 2.773505\n",
      "[NeMo I 2020-10-09 17:52:31 deprecated_callbacks:321] Evaluation time: 2.327364444732666 seconds\n",
      "[NeMo I 2020-10-09 17:52:32 deprecated_callbacks:339] Final Evaluation ..............................\n"
     ]
    },
    {
     "name": "stderr",
     "output_type": "stream",
     "text": [
      "2020-10-09 17:52:34,811\tWARNING session.py:14 -- Session not detected. You should not be calling this function outside `tune.run` or while using the class API. \n"
     ]
    },
    {
     "name": "stdout",
     "output_type": "stream",
     "text": [
      "eval: loss 2.7484186\n",
      "[NeMo I 2020-10-09 17:52:34 deprecated_callbacks:344] Evaluation time: 2.294581413269043 seconds\n",
      "node inference,  from <NodeInTaskGraph nemo_gquant_modules.nemo_util.trainNemo.NemoTrainNode object at 0x7f824e4e3dd0> oport checkpoint_dir not in out cols\n",
      "{}\n",
      "[NeMo I 2020-10-09 17:52:34 actions:695] Evaluating batch 0 out of 273\n",
      "[NeMo I 2020-10-09 17:52:35 actions:695] Evaluating batch 27 out of 273\n",
      "[NeMo I 2020-10-09 17:52:36 actions:695] Evaluating batch 54 out of 273\n",
      "[NeMo I 2020-10-09 17:52:37 actions:695] Evaluating batch 81 out of 273\n",
      "[NeMo I 2020-10-09 17:52:38 actions:695] Evaluating batch 108 out of 273\n",
      "[NeMo I 2020-10-09 17:52:39 actions:695] Evaluating batch 135 out of 273\n",
      "[NeMo I 2020-10-09 17:52:39 actions:695] Evaluating batch 162 out of 273\n",
      "[NeMo I 2020-10-09 17:52:40 actions:695] Evaluating batch 189 out of 273\n",
      "[NeMo I 2020-10-09 17:52:41 actions:695] Evaluating batch 216 out of 273\n",
      "[NeMo I 2020-10-09 17:52:42 actions:695] Evaluating batch 243 out of 273\n",
      "[NeMo I 2020-10-09 17:52:43 actions:695] Evaluating batch 270 out of 273\n"
     ]
    }
   ],
   "source": [
    "result = taskGraph.run()"
   ]
  },
  {
   "cell_type": "markdown",
   "metadata": {},
   "source": [
    "The graph computation results are stored in the `result` variable. It can be used as a named tuple or a dictionary. The keys of the result dictionary can be queried by the following command:|"
   ]
  },
  {
   "cell_type": "code",
   "execution_count": 7,
   "metadata": {},
   "outputs": [
    {
     "data": {
      "text/plain": [
       "('rnn_train.inference@torch_tensor', 'rnn_train.eval_data@out_nm')"
      ]
     },
     "execution_count": 7,
     "metadata": {},
     "output_type": "execute_result"
    }
   ],
   "source": [
    "result.get_keys()"
   ]
  },
  {
   "cell_type": "markdown",
   "metadata": {},
   "source": [
    "The evaluated greedy tensors are indices of the predicted letters in the dictionary. We can translate the numbers to human-readable texts by the following convenient function:"
   ]
  },
  {
   "cell_type": "code",
   "execution_count": 8,
   "metadata": {},
   "outputs": [],
   "source": [
    "from nemo.utils import logging\n",
    "# Define the callback function which prints intermediate results to console.\n",
    "def outputs2words(tensors, vocab):\n",
    "    source_ids = tensors[1][:, 0].cpu().numpy().tolist()\n",
    "    response_ids = tensors[2][:, 0].cpu().numpy().tolist()\n",
    "    tgt_ids = tensors[3][:, 0].cpu().numpy().tolist()\n",
    "    source = list(map(lambda x: vocab[x], source_ids))\n",
    "    response = list(map(lambda x: vocab[x], response_ids))\n",
    "    target = list(map(lambda x: vocab[x], tgt_ids))\n",
    "    source = ' '.join([s for s in source if s != 'EOS' and s != 'PAD'])\n",
    "    response = ' '.join([s for s in response if s != 'EOS' and s != 'PAD'])\n",
    "    target = ' '.join([s for s in target if s != 'EOS' and s != 'PAD'])\n",
    "    logging.info(f\"Train Loss:{str(tensors[0].item())}\")\n",
    "    logging.info(f\"SOURCE: {source} <---> PREDICTED RESPONSE: {response} \" f\"<---> TARGET: {target}\")"
   ]
  },
  {
   "cell_type": "markdown",
   "metadata": {},
   "source": [
    "We are ready to check the quality of the model performance. Note, by default, only 3 epochs are trained. For better performance, please increase the number of epochs."
   ]
  },
  {
   "cell_type": "code",
   "execution_count": 9,
   "metadata": {},
   "outputs": [
    {
     "name": "stdout",
     "output_type": "stream",
     "text": [
      "[NeMo I 2020-10-09 17:53:04 <ipython-input-8-d6a2d1ea5b1b>:13] Train Loss:2.8878540992736816\n",
      "[NeMo I 2020-10-09 17:53:04 <ipython-input-8-d6a2d1ea5b1b>:14] SOURCE: oh . just not at school . . . <---> PREDICTED RESPONSE: what ? ? ? ? ? <---> TARGET: yeah\n",
      "[NeMo I 2020-10-09 17:53:04 <ipython-input-8-d6a2d1ea5b1b>:13] Train Loss:2.8501431941986084\n",
      "[NeMo I 2020-10-09 17:53:04 <ipython-input-8-d6a2d1ea5b1b>:14] SOURCE: you know what they re doin now lou . <---> PREDICTED RESPONSE: i m sorry . i m sorry . <---> TARGET: this i know benny .\n",
      "[NeMo I 2020-10-09 17:53:04 <ipython-input-8-d6a2d1ea5b1b>:13] Train Loss:2.992612600326538\n",
      "[NeMo I 2020-10-09 17:53:04 <ipython-input-8-d6a2d1ea5b1b>:14] SOURCE: are you sure this is the river road ? <---> PREDICTED RESPONSE: i m not . . . . <---> TARGET: i saw the sign .\n",
      "[NeMo I 2020-10-09 17:53:04 <ipython-input-8-d6a2d1ea5b1b>:13] Train Loss:2.9164655208587646\n",
      "[NeMo I 2020-10-09 17:53:04 <ipython-input-8-d6a2d1ea5b1b>:14] SOURCE: it didn t hurt too much did it ? <---> PREDICTED RESPONSE: no . . . . . <---> TARGET: ye . . .\n",
      "[NeMo I 2020-10-09 17:53:04 <ipython-input-8-d6a2d1ea5b1b>:13] Train Loss:2.963688611984253\n",
      "[NeMo I 2020-10-09 17:53:04 <ipython-input-8-d6a2d1ea5b1b>:14] SOURCE: i used to throw trash for the city . <---> PREDICTED RESPONSE: i m sorry . . . . <---> TARGET: you lost that one ?\n",
      "[NeMo I 2020-10-09 17:53:04 <ipython-input-8-d6a2d1ea5b1b>:13] Train Loss:2.8423519134521484\n",
      "[NeMo I 2020-10-09 17:53:04 <ipython-input-8-d6a2d1ea5b1b>:14] SOURCE: i see he d walk out next month . <---> PREDICTED RESPONSE: i know . . . . <---> TARGET: that s right .\n",
      "[NeMo I 2020-10-09 17:53:04 <ipython-input-8-d6a2d1ea5b1b>:13] Train Loss:2.822286605834961\n",
      "[NeMo I 2020-10-09 17:53:04 <ipython-input-8-d6a2d1ea5b1b>:14] SOURCE: i don t recall ever seeing it before . <---> PREDICTED RESPONSE: i don t know . . . <---> TARGET: well it was there .\n",
      "[NeMo I 2020-10-09 17:53:04 <ipython-input-8-d6a2d1ea5b1b>:13] Train Loss:2.689497232437134\n",
      "[NeMo I 2020-10-09 17:53:04 <ipython-input-8-d6a2d1ea5b1b>:14] SOURCE: tommy stop it ! you re scaring lindsey . <---> PREDICTED RESPONSE: what ? . . . . . . <---> TARGET: i saw him . . .\n",
      "[NeMo I 2020-10-09 17:53:04 <ipython-input-8-d6a2d1ea5b1b>:13] Train Loss:2.8311920166015625\n",
      "[NeMo I 2020-10-09 17:53:04 <ipython-input-8-d6a2d1ea5b1b>:14] SOURCE: don t you pull that shit with me . <---> PREDICTED RESPONSE: i don t know . . . <---> TARGET: i didn t want to kill her will .\n",
      "[NeMo I 2020-10-09 17:53:04 <ipython-input-8-d6a2d1ea5b1b>:13] Train Loss:2.7959091663360596\n",
      "[NeMo I 2020-10-09 17:53:04 <ipython-input-8-d6a2d1ea5b1b>:14] SOURCE: bob . bet you had a late night . <---> PREDICTED RESPONSE: i m sorry . . . . <---> TARGET: sleep is for the weak mr . president .\n",
      "[NeMo I 2020-10-09 17:53:04 <ipython-input-8-d6a2d1ea5b1b>:13] Train Loss:2.8443610668182373\n",
      "[NeMo I 2020-10-09 17:53:04 <ipython-input-8-d6a2d1ea5b1b>:14] SOURCE: so i see you re really into spooks . <---> PREDICTED RESPONSE: i don t know . . . <---> TARGET: no . i never date outside my race .\n",
      "[NeMo I 2020-10-09 17:53:04 <ipython-input-8-d6a2d1ea5b1b>:13] Train Loss:2.842954635620117\n",
      "[NeMo I 2020-10-09 17:53:04 <ipython-input-8-d6a2d1ea5b1b>:14] SOURCE: you okay ? you seem a little off . <---> PREDICTED RESPONSE: i m sorry . . . . <---> TARGET: nothing a good stiff drink can t fix .\n",
      "[NeMo I 2020-10-09 17:53:04 <ipython-input-8-d6a2d1ea5b1b>:13] Train Loss:3.0126748085021973\n",
      "[NeMo I 2020-10-09 17:53:04 <ipython-input-8-d6a2d1ea5b1b>:14] SOURCE: tell ashley . . . i . . . <---> PREDICTED RESPONSE: what ? . . . . . . <---> TARGET: you tell her !\n",
      "[NeMo I 2020-10-09 17:53:04 <ipython-input-8-d6a2d1ea5b1b>:13] Train Loss:2.8383681774139404\n",
      "[NeMo I 2020-10-09 17:53:04 <ipython-input-8-d6a2d1ea5b1b>:14] SOURCE: that means you won t have a gun . <---> PREDICTED RESPONSE: i don t know . . . <---> TARGET: that s right .\n",
      "[NeMo I 2020-10-09 17:53:04 <ipython-input-8-d6a2d1ea5b1b>:13] Train Loss:3.00457763671875\n",
      "[NeMo I 2020-10-09 17:53:04 <ipython-input-8-d6a2d1ea5b1b>:14] SOURCE: yeah . . . how ya doin pete ? <---> PREDICTED RESPONSE: i m sorry . . . . <---> TARGET: okay .\n",
      "[NeMo I 2020-10-09 17:53:04 <ipython-input-8-d6a2d1ea5b1b>:13] Train Loss:2.763681173324585\n",
      "[NeMo I 2020-10-09 17:53:04 <ipython-input-8-d6a2d1ea5b1b>:14] SOURCE: nobody knows what we re talking about jack . <---> PREDICTED RESPONSE: i don t know . . . <---> TARGET: you re so naive mister .\n",
      "[NeMo I 2020-10-09 17:53:04 <ipython-input-8-d6a2d1ea5b1b>:13] Train Loss:2.933351755142212\n",
      "[NeMo I 2020-10-09 17:53:04 <ipython-input-8-d6a2d1ea5b1b>:14] SOURCE: you know what s happened don t you ? <---> PREDICTED RESPONSE: i don t know . . . <---> TARGET: what ?\n",
      "[NeMo I 2020-10-09 17:53:04 <ipython-input-8-d6a2d1ea5b1b>:13] Train Loss:3.040013313293457\n",
      "[NeMo I 2020-10-09 17:53:04 <ipython-input-8-d6a2d1ea5b1b>:14] SOURCE: these disks . . . where are they ? <---> PREDICTED RESPONSE: i m here . . . . <---> TARGET: smith will know .\n",
      "[NeMo I 2020-10-09 17:53:04 <ipython-input-8-d6a2d1ea5b1b>:13] Train Loss:2.8634536266326904\n",
      "[NeMo I 2020-10-09 17:53:04 <ipython-input-8-d6a2d1ea5b1b>:14] SOURCE: but what about the past ? our past ? <---> PREDICTED RESPONSE: i don t know . . . <---> TARGET: we never really shared one .\n",
      "[NeMo I 2020-10-09 17:53:04 <ipython-input-8-d6a2d1ea5b1b>:13] Train Loss:3.0505802631378174\n",
      "[NeMo I 2020-10-09 17:53:04 <ipython-input-8-d6a2d1ea5b1b>:14] SOURCE: we still have to get out of here . <---> PREDICTED RESPONSE: what ? . . . . . . <---> TARGET: maybe if we gave the tapes back\n",
      "[NeMo I 2020-10-09 17:53:04 <ipython-input-8-d6a2d1ea5b1b>:13] Train Loss:3.159726142883301\n",
      "[NeMo I 2020-10-09 17:53:04 <ipython-input-8-d6a2d1ea5b1b>:14] SOURCE: i . . . i don t understand . <---> PREDICTED RESPONSE: you know what i m doing . . <---> TARGET: agnes how are babies born ?\n",
      "[NeMo I 2020-10-09 17:53:04 <ipython-input-8-d6a2d1ea5b1b>:13] Train Loss:3.140392303466797\n",
      "[NeMo I 2020-10-09 17:53:04 <ipython-input-8-d6a2d1ea5b1b>:14] SOURCE: it s so good to see you sweetheart . <---> PREDICTED RESPONSE: i m sorry . . . . <---> TARGET: you too mom .\n",
      "[NeMo I 2020-10-09 17:53:04 <ipython-input-8-d6a2d1ea5b1b>:13] Train Loss:2.876481056213379\n",
      "[NeMo I 2020-10-09 17:53:04 <ipython-input-8-d6a2d1ea5b1b>:14] SOURCE: can i just ask you one other thing ? <---> PREDICTED RESPONSE: sure . . . . . <---> TARGET: maybe .\n",
      "[NeMo I 2020-10-09 17:53:04 <ipython-input-8-d6a2d1ea5b1b>:13] Train Loss:2.9994771480560303\n",
      "[NeMo I 2020-10-09 17:53:04 <ipython-input-8-d6a2d1ea5b1b>:14] SOURCE: just ask me what you want to know . <---> PREDICTED RESPONSE: what ? . . . . . . <---> TARGET: oh you gonna make me say it .\n",
      "[NeMo I 2020-10-09 17:53:04 <ipython-input-8-d6a2d1ea5b1b>:13] Train Loss:2.827291250228882\n",
      "[NeMo I 2020-10-09 17:53:04 <ipython-input-8-d6a2d1ea5b1b>:14] SOURCE: you re going to miss the top ten . <---> PREDICTED RESPONSE: i m sorry . . . . <---> TARGET: coming .\n",
      "[NeMo I 2020-10-09 17:53:04 <ipython-input-8-d6a2d1ea5b1b>:13] Train Loss:2.882018804550171\n",
      "[NeMo I 2020-10-09 17:53:04 <ipython-input-8-d6a2d1ea5b1b>:14] SOURCE: if i may be so bold . . . <---> PREDICTED RESPONSE: i m sorry . . . . . <---> TARGET: for the gods spit it out !\n",
      "[NeMo I 2020-10-09 17:53:04 <ipython-input-8-d6a2d1ea5b1b>:13] Train Loss:2.920955181121826\n",
      "[NeMo I 2020-10-09 17:53:04 <ipython-input-8-d6a2d1ea5b1b>:14] SOURCE: have you discussed this with anyone else john ? <---> PREDICTED RESPONSE: no . . . . . <---> TARGET: no .\n",
      "[NeMo I 2020-10-09 17:53:04 <ipython-input-8-d6a2d1ea5b1b>:13] Train Loss:3.0991899967193604\n",
      "[NeMo I 2020-10-09 17:53:04 <ipython-input-8-d6a2d1ea5b1b>:14] SOURCE: what s that got to do with it ? <---> PREDICTED RESPONSE: i don t know . . . <---> TARGET: you are aren t you ?\n",
      "[NeMo I 2020-10-09 17:53:04 <ipython-input-8-d6a2d1ea5b1b>:13] Train Loss:2.9162800312042236\n",
      "[NeMo I 2020-10-09 17:53:04 <ipython-input-8-d6a2d1ea5b1b>:14] SOURCE: do you mind if i drink this here ? <---> PREDICTED RESPONSE: no . . . . . <---> TARGET: sure . go ahead .\n",
      "[NeMo I 2020-10-09 17:53:04 <ipython-input-8-d6a2d1ea5b1b>:13] Train Loss:2.8232173919677734\n",
      "[NeMo I 2020-10-09 17:53:04 <ipython-input-8-d6a2d1ea5b1b>:14] SOURCE: i had it on the island with me . <---> PREDICTED RESPONSE: i don t know . . . <---> TARGET: must be a story there .\n",
      "[NeMo I 2020-10-09 17:53:04 <ipython-input-8-d6a2d1ea5b1b>:13] Train Loss:2.9020822048187256\n",
      "[NeMo I 2020-10-09 17:53:04 <ipython-input-8-d6a2d1ea5b1b>:14] SOURCE: could we talk about that a little later ? <---> PREDICTED RESPONSE: i don t know . . . <---> TARGET: of course .\n",
      "[NeMo I 2020-10-09 17:53:04 <ipython-input-8-d6a2d1ea5b1b>:13] Train Loss:2.901149034500122\n",
      "[NeMo I 2020-10-09 17:53:04 <ipython-input-8-d6a2d1ea5b1b>:14] SOURCE: hell yeah . she s not my unicorn . <---> PREDICTED RESPONSE: i m sorry . . . . <---> TARGET: move over . . .\n",
      "[NeMo I 2020-10-09 17:53:04 <ipython-input-8-d6a2d1ea5b1b>:13] Train Loss:2.7928922176361084\n",
      "[NeMo I 2020-10-09 17:53:04 <ipython-input-8-d6a2d1ea5b1b>:14] SOURCE: but i am not human . i am only <---> PREDICTED RESPONSE: i don t know . . . <---> TARGET: spock you want to know something ?\n",
      "[NeMo I 2020-10-09 17:53:04 <ipython-input-8-d6a2d1ea5b1b>:13] Train Loss:2.9447402954101562\n",
      "[NeMo I 2020-10-09 17:53:04 <ipython-input-8-d6a2d1ea5b1b>:14] SOURCE: nope . can t . we re through . <---> PREDICTED RESPONSE: you re welcome . you re doing . <---> TARGET: then i ll call you a cab .\n",
      "[NeMo I 2020-10-09 17:53:04 <ipython-input-8-d6a2d1ea5b1b>:13] Train Loss:2.984252452850342\n",
      "[NeMo I 2020-10-09 17:53:04 <ipython-input-8-d6a2d1ea5b1b>:14] SOURCE: a piece of ass wouldn t kill me . <---> PREDICTED RESPONSE: i m sorry . . . . <---> TARGET: when ya go back on ?\n",
      "[NeMo I 2020-10-09 17:53:04 <ipython-input-8-d6a2d1ea5b1b>:13] Train Loss:2.790090322494507\n",
      "[NeMo I 2020-10-09 17:53:04 <ipython-input-8-d6a2d1ea5b1b>:14] SOURCE: do you mind if i drink this here ? <---> PREDICTED RESPONSE: no . . . . . <---> TARGET: sure . go ahead .\n",
      "[NeMo I 2020-10-09 17:53:04 <ipython-input-8-d6a2d1ea5b1b>:13] Train Loss:2.8723599910736084\n",
      "[NeMo I 2020-10-09 17:53:04 <ipython-input-8-d6a2d1ea5b1b>:14] SOURCE: at least you pulled yourself out . . . <---> PREDICTED RESPONSE: i m sorry . i m sorry . <---> TARGET: things got a lot worse .\n",
      "[NeMo I 2020-10-09 17:53:04 <ipython-input-8-d6a2d1ea5b1b>:13] Train Loss:3.0517563819885254\n",
      "[NeMo I 2020-10-09 17:53:04 <ipython-input-8-d6a2d1ea5b1b>:14] SOURCE: . . .where d you get the pistol ? <---> PREDICTED RESPONSE: i don t know . . . <---> TARGET: at the gettin place .\n",
      "[NeMo I 2020-10-09 17:53:04 <ipython-input-8-d6a2d1ea5b1b>:13] Train Loss:3.0015506744384766\n",
      "[NeMo I 2020-10-09 17:53:04 <ipython-input-8-d6a2d1ea5b1b>:14] SOURCE: you should . do you have a resume ? <---> PREDICTED RESPONSE: no . . . . . <---> TARGET: i do .\n",
      "[NeMo I 2020-10-09 17:53:04 <ipython-input-8-d6a2d1ea5b1b>:13] Train Loss:2.922788381576538\n",
      "[NeMo I 2020-10-09 17:53:04 <ipython-input-8-d6a2d1ea5b1b>:14] SOURCE: . . .you moved too didn t you ? <---> PREDICTED RESPONSE: no . . . . . <---> TARGET: yeah .\n",
      "[NeMo I 2020-10-09 17:53:04 <ipython-input-8-d6a2d1ea5b1b>:13] Train Loss:2.945343494415283\n",
      "[NeMo I 2020-10-09 17:53:04 <ipython-input-8-d6a2d1ea5b1b>:14] SOURCE: abrams . yes . how are you today ? <---> PREDICTED RESPONSE: i m not . . . . <---> TARGET: i m fine .\n",
      "[NeMo I 2020-10-09 17:53:04 <ipython-input-8-d6a2d1ea5b1b>:13] Train Loss:3.0862414836883545\n",
      "[NeMo I 2020-10-09 17:53:04 <ipython-input-8-d6a2d1ea5b1b>:14] SOURCE: not today . i ve got other plans . <---> PREDICTED RESPONSE: why ? you re not . ? <---> TARGET: oh . well when then ?\n",
      "[NeMo I 2020-10-09 17:53:04 <ipython-input-8-d6a2d1ea5b1b>:13] Train Loss:2.81083345413208\n",
      "[NeMo I 2020-10-09 17:53:04 <ipython-input-8-d6a2d1ea5b1b>:14] SOURCE: why ? because you can do it alone ? <---> PREDICTED RESPONSE: i don t know . . . <---> TARGET: no sir !\n",
      "[NeMo I 2020-10-09 17:53:04 <ipython-input-8-d6a2d1ea5b1b>:13] Train Loss:2.9346556663513184\n",
      "[NeMo I 2020-10-09 17:53:04 <ipython-input-8-d6a2d1ea5b1b>:14] SOURCE: but no one knew until after . . . <---> PREDICTED RESPONSE: i know . . . . <---> TARGET: after i . . .\n",
      "[NeMo I 2020-10-09 17:53:04 <ipython-input-8-d6a2d1ea5b1b>:13] Train Loss:3.0722873210906982\n",
      "[NeMo I 2020-10-09 17:53:04 <ipython-input-8-d6a2d1ea5b1b>:14] SOURCE: why don t you just go now okay ? <---> PREDICTED RESPONSE: i don t know . . . <---> TARGET: i told you i m not easily shocked .\n",
      "[NeMo I 2020-10-09 17:53:04 <ipython-input-8-d6a2d1ea5b1b>:13] Train Loss:2.8582704067230225\n",
      "[NeMo I 2020-10-09 17:53:04 <ipython-input-8-d6a2d1ea5b1b>:14] SOURCE: he s great right . is he great ? <---> PREDICTED RESPONSE: no . . . . . <---> TARGET: he s alright .\n",
      "[NeMo I 2020-10-09 17:53:04 <ipython-input-8-d6a2d1ea5b1b>:13] Train Loss:2.9171805381774902\n",
      "[NeMo I 2020-10-09 17:53:04 <ipython-input-8-d6a2d1ea5b1b>:14] SOURCE: what the fuck are we going to do ? <---> PREDICTED RESPONSE: i don t know . . . <---> TARGET: hide him .\n",
      "[NeMo I 2020-10-09 17:53:04 <ipython-input-8-d6a2d1ea5b1b>:13] Train Loss:2.8178727626800537\n",
      "[NeMo I 2020-10-09 17:53:04 <ipython-input-8-d6a2d1ea5b1b>:14] SOURCE: this letter . i ve never opened it . <---> PREDICTED RESPONSE: what ? . . . . . . <---> TARGET: why not ?\n",
      "[NeMo I 2020-10-09 17:53:04 <ipython-input-8-d6a2d1ea5b1b>:13] Train Loss:2.8843209743499756\n",
      "[NeMo I 2020-10-09 17:53:04 <ipython-input-8-d6a2d1ea5b1b>:14] SOURCE: did you take anything out of those pants ? <---> PREDICTED RESPONSE: no . . . . . <---> TARGET: oh no sir !\n",
      "[NeMo I 2020-10-09 17:53:04 <ipython-input-8-d6a2d1ea5b1b>:13] Train Loss:2.900236129760742\n",
      "[NeMo I 2020-10-09 17:53:04 <ipython-input-8-d6a2d1ea5b1b>:14] SOURCE: go away i don t want you here . <---> PREDICTED RESPONSE: i don t know . . . <---> TARGET: is someone in the room with you ?\n",
      "[NeMo I 2020-10-09 17:53:04 <ipython-input-8-d6a2d1ea5b1b>:13] Train Loss:3.0172202587127686\n",
      "[NeMo I 2020-10-09 17:53:04 <ipython-input-8-d6a2d1ea5b1b>:14] SOURCE: why do people have to love people anyway ? <---> PREDICTED RESPONSE: i don t know . . . <---> TARGET: yeah i know what you mean . queen .\n",
      "[NeMo I 2020-10-09 17:53:04 <ipython-input-8-d6a2d1ea5b1b>:13] Train Loss:2.7929372787475586\n",
      "[NeMo I 2020-10-09 17:53:04 <ipython-input-8-d6a2d1ea5b1b>:14] SOURCE: in your pocket . give it to me . <---> PREDICTED RESPONSE: what ? . . . . . . <---> TARGET: i need it .\n",
      "[NeMo I 2020-10-09 17:53:04 <ipython-input-8-d6a2d1ea5b1b>:13] Train Loss:2.8310770988464355\n",
      "[NeMo I 2020-10-09 17:53:04 <ipython-input-8-d6a2d1ea5b1b>:14] SOURCE: in england i was a poor student but i <---> PREDICTED RESPONSE: i m sorry . . . . <---> TARGET: that was england .\n",
      "[NeMo I 2020-10-09 17:53:04 <ipython-input-8-d6a2d1ea5b1b>:13] Train Loss:2.7938899993896484\n",
      "[NeMo I 2020-10-09 17:53:04 <ipython-input-8-d6a2d1ea5b1b>:14] SOURCE: i did my best but well you know me <---> PREDICTED RESPONSE: i don t know . . . <---> TARGET: sure\n",
      "[NeMo I 2020-10-09 17:53:04 <ipython-input-8-d6a2d1ea5b1b>:13] Train Loss:2.730086326599121\n",
      "[NeMo I 2020-10-09 17:53:04 <ipython-input-8-d6a2d1ea5b1b>:14] SOURCE: shit girl you couldn t a been eleven . <---> PREDICTED RESPONSE: i m sorry . i was . . <---> TARGET: hell i was game !\n",
      "[NeMo I 2020-10-09 17:53:04 <ipython-input-8-d6a2d1ea5b1b>:13] Train Loss:2.88199782371521\n",
      "[NeMo I 2020-10-09 17:53:04 <ipython-input-8-d6a2d1ea5b1b>:14] SOURCE: out of your element aren t you captain ? <---> PREDICTED RESPONSE: what ? . . . . . . <---> TARGET: sort of .\n",
      "[NeMo I 2020-10-09 17:53:04 <ipython-input-8-d6a2d1ea5b1b>:13] Train Loss:2.9156126976013184\n",
      "[NeMo I 2020-10-09 17:53:04 <ipython-input-8-d6a2d1ea5b1b>:14] SOURCE: . . .you need to talk to me . <---> PREDICTED RESPONSE: i m not . . . . <---> TARGET: i don t need to talk to you .\n",
      "[NeMo I 2020-10-09 17:53:04 <ipython-input-8-d6a2d1ea5b1b>:13] Train Loss:2.9136767387390137\n",
      "[NeMo I 2020-10-09 17:53:04 <ipython-input-8-d6a2d1ea5b1b>:14] SOURCE: it s the lights . and the scotch . <---> PREDICTED RESPONSE: oh . . . . . <---> TARGET: how come you didn t catch your bus ?\n",
      "[NeMo I 2020-10-09 17:53:04 <ipython-input-8-d6a2d1ea5b1b>:13] Train Loss:2.8318889141082764\n",
      "[NeMo I 2020-10-09 17:53:04 <ipython-input-8-d6a2d1ea5b1b>:14] SOURCE: u do you have your passport sir u ? <---> PREDICTED RESPONSE: i don t know . . . <---> TARGET: look maybe i should just . . .\n",
      "[NeMo I 2020-10-09 17:53:04 <ipython-input-8-d6a2d1ea5b1b>:13] Train Loss:2.9010751247406006\n",
      "[NeMo I 2020-10-09 17:53:04 <ipython-input-8-d6a2d1ea5b1b>:14] SOURCE: fergus . fergus my love light of my life <---> PREDICTED RESPONSE: i m sorry . . . . <---> TARGET: please dil\n",
      "[NeMo I 2020-10-09 17:53:04 <ipython-input-8-d6a2d1ea5b1b>:13] Train Loss:2.793943166732788\n",
      "[NeMo I 2020-10-09 17:53:04 <ipython-input-8-d6a2d1ea5b1b>:14] SOURCE: i get real busy between two and four . <---> PREDICTED RESPONSE: i don t know . . . <---> TARGET: okay .\n",
      "[NeMo I 2020-10-09 17:53:04 <ipython-input-8-d6a2d1ea5b1b>:13] Train Loss:2.891098976135254\n",
      "[NeMo I 2020-10-09 17:53:04 <ipython-input-8-d6a2d1ea5b1b>:14] SOURCE: i m going to get started on dishes . <---> PREDICTED RESPONSE: i m sorry . you re not . <---> TARGET: i ll help you .\n",
      "[NeMo I 2020-10-09 17:53:04 <ipython-input-8-d6a2d1ea5b1b>:13] Train Loss:2.666313409805298\n",
      "[NeMo I 2020-10-09 17:53:04 <ipython-input-8-d6a2d1ea5b1b>:14] SOURCE: marion ! what did you tell the police ? <---> PREDICTED RESPONSE: i don t know . . . <---> TARGET: nothing about you .\n",
      "[NeMo I 2020-10-09 17:53:04 <ipython-input-8-d6a2d1ea5b1b>:13] Train Loss:2.809729814529419\n",
      "[NeMo I 2020-10-09 17:53:04 <ipython-input-8-d6a2d1ea5b1b>:14] SOURCE: i think jamie s been seeing karl again . <---> PREDICTED RESPONSE: i m sorry . . . . <---> TARGET: great .\n",
      "[NeMo I 2020-10-09 17:53:04 <ipython-input-8-d6a2d1ea5b1b>:13] Train Loss:2.856290340423584\n",
      "[NeMo I 2020-10-09 17:53:04 <ipython-input-8-d6a2d1ea5b1b>:14] SOURCE: you understand which side the gelatin s on ? <---> PREDICTED RESPONSE: yes sir . . . . <---> TARGET: it tastes wonderful !\n",
      "[NeMo I 2020-10-09 17:53:04 <ipython-input-8-d6a2d1ea5b1b>:13] Train Loss:2.8982906341552734\n",
      "[NeMo I 2020-10-09 17:53:04 <ipython-input-8-d6a2d1ea5b1b>:14] SOURCE: i don t understand why you do that . <---> PREDICTED RESPONSE: i don t know . . . <---> TARGET: why i do what ?\n",
      "[NeMo I 2020-10-09 17:53:04 <ipython-input-8-d6a2d1ea5b1b>:13] Train Loss:2.9323222637176514\n",
      "[NeMo I 2020-10-09 17:53:04 <ipython-input-8-d6a2d1ea5b1b>:14] SOURCE: only one in town . get in son . <---> PREDICTED RESPONSE: what s the matter ? ? . . <---> TARGET: ben when s delly due back ?\n",
      "[NeMo I 2020-10-09 17:53:04 <ipython-input-8-d6a2d1ea5b1b>:13] Train Loss:2.8736207485198975\n",
      "[NeMo I 2020-10-09 17:53:04 <ipython-input-8-d6a2d1ea5b1b>:14] SOURCE: just like they say no fucking self control . <---> PREDICTED RESPONSE: what ? . . . ? . <---> TARGET: if you know that just back off .\n",
      "[NeMo I 2020-10-09 17:53:04 <ipython-input-8-d6a2d1ea5b1b>:13] Train Loss:2.8052327632904053\n",
      "[NeMo I 2020-10-09 17:53:04 <ipython-input-8-d6a2d1ea5b1b>:14] SOURCE: grandma death will teach me how . soon . <---> PREDICTED RESPONSE: what ? . . . ? . <---> TARGET: then how is time travel possible ?\n",
      "[NeMo I 2020-10-09 17:53:04 <ipython-input-8-d6a2d1ea5b1b>:13] Train Loss:2.8905937671661377\n",
      "[NeMo I 2020-10-09 17:53:04 <ipython-input-8-d6a2d1ea5b1b>:14] SOURCE: how do you become something you re not ? <---> PREDICTED RESPONSE: i don t know . . . <---> TARGET: what would you like to be ?\n",
      "[NeMo I 2020-10-09 17:53:04 <ipython-input-8-d6a2d1ea5b1b>:13] Train Loss:2.797628402709961\n",
      "[NeMo I 2020-10-09 17:53:04 <ipython-input-8-d6a2d1ea5b1b>:14] SOURCE: you re wrong . look at his face . <---> PREDICTED RESPONSE: i m sorry . . . . <---> TARGET: one cannot love and kill .\n",
      "[NeMo I 2020-10-09 17:53:04 <ipython-input-8-d6a2d1ea5b1b>:13] Train Loss:2.8733725547790527\n",
      "[NeMo I 2020-10-09 17:53:04 <ipython-input-8-d6a2d1ea5b1b>:14] SOURCE: go out and plug the cord back in . <---> PREDICTED RESPONSE: what ? . . . ? ! <---> TARGET: what ? who pulled it out ? !\n",
      "[NeMo I 2020-10-09 17:53:04 <ipython-input-8-d6a2d1ea5b1b>:13] Train Loss:2.899550676345825\n",
      "[NeMo I 2020-10-09 17:53:04 <ipython-input-8-d6a2d1ea5b1b>:14] SOURCE: shit ben ! how the shit are ya ? <---> PREDICTED RESPONSE: i m sorry . . . . <---> TARGET: fine frank . fine . how are you ?\n",
      "[NeMo I 2020-10-09 17:53:04 <ipython-input-8-d6a2d1ea5b1b>:13] Train Loss:2.7686643600463867\n",
      "[NeMo I 2020-10-09 17:53:04 <ipython-input-8-d6a2d1ea5b1b>:14] SOURCE: i don t want you to come anyway . <---> PREDICTED RESPONSE: i don t know . . . <---> TARGET: what ?\n",
      "[NeMo I 2020-10-09 17:53:04 <ipython-input-8-d6a2d1ea5b1b>:13] Train Loss:2.9078586101531982\n",
      "[NeMo I 2020-10-09 17:53:04 <ipython-input-8-d6a2d1ea5b1b>:14] SOURCE: they don t build them like this anymore . <---> PREDICTED RESPONSE: i don t know . . . <---> TARGET: suppose not .\n",
      "[NeMo I 2020-10-09 17:53:04 <ipython-input-8-d6a2d1ea5b1b>:13] Train Loss:2.939918041229248\n",
      "[NeMo I 2020-10-09 17:53:04 <ipython-input-8-d6a2d1ea5b1b>:14] SOURCE: you getting into bed to think about yellow ? <---> PREDICTED RESPONSE: i don t know . . . <---> TARGET: i likes yellow .\n",
      "[NeMo I 2020-10-09 17:53:04 <ipython-input-8-d6a2d1ea5b1b>:13] Train Loss:2.797706365585327\n",
      "[NeMo I 2020-10-09 17:53:04 <ipython-input-8-d6a2d1ea5b1b>:14] SOURCE: is her mother still lying on the floor ? <---> PREDICTED RESPONSE: no . . . . . <---> TARGET: no she s fine .\n",
      "[NeMo I 2020-10-09 17:53:04 <ipython-input-8-d6a2d1ea5b1b>:13] Train Loss:2.6545722484588623\n",
      "[NeMo I 2020-10-09 17:53:04 <ipython-input-8-d6a2d1ea5b1b>:14] SOURCE: there s a lot you don t know . <---> PREDICTED RESPONSE: what ? . . . . . . <---> TARGET: and don t let her know either .\n",
      "[NeMo I 2020-10-09 17:53:04 <ipython-input-8-d6a2d1ea5b1b>:13] Train Loss:2.763164758682251\n",
      "[NeMo I 2020-10-09 17:53:04 <ipython-input-8-d6a2d1ea5b1b>:14] SOURCE: emmett ! am i glad to see you ! <---> PREDICTED RESPONSE: allo ? ! ! ! ! <---> TARGET: howdy jake . what s going on here ?\n",
      "[NeMo I 2020-10-09 17:53:04 <ipython-input-8-d6a2d1ea5b1b>:13] Train Loss:2.828334331512451\n",
      "[NeMo I 2020-10-09 17:53:04 <ipython-input-8-d6a2d1ea5b1b>:14] SOURCE: stop it sam . stop it right now ! <---> PREDICTED RESPONSE: what ? ! ! ! ! <---> TARGET: but mom . . .\n",
      "[NeMo I 2020-10-09 17:53:04 <ipython-input-8-d6a2d1ea5b1b>:13] Train Loss:2.8645946979522705\n",
      "[NeMo I 2020-10-09 17:53:04 <ipython-input-8-d6a2d1ea5b1b>:14] SOURCE: you mean you don t want to go ? <---> PREDICTED RESPONSE: i don t know . . . <---> TARGET: well i m\n",
      "[NeMo I 2020-10-09 17:53:04 <ipython-input-8-d6a2d1ea5b1b>:13] Train Loss:2.8904104232788086\n",
      "[NeMo I 2020-10-09 17:53:04 <ipython-input-8-d6a2d1ea5b1b>:14] SOURCE: where have you been for a week ? ! <---> PREDICTED RESPONSE: i don t know . . . <---> TARGET: four days . i left to think .\n",
      "[NeMo I 2020-10-09 17:53:04 <ipython-input-8-d6a2d1ea5b1b>:13] Train Loss:3.022343873977661\n",
      "[NeMo I 2020-10-09 17:53:04 <ipython-input-8-d6a2d1ea5b1b>:14] SOURCE: i m . . . i m alright . <---> PREDICTED RESPONSE: you re not gonna be here ? ? <---> TARGET: how was your date ?\n",
      "[NeMo I 2020-10-09 17:53:04 <ipython-input-8-d6a2d1ea5b1b>:13] Train Loss:2.7746710777282715\n",
      "[NeMo I 2020-10-09 17:53:04 <ipython-input-8-d6a2d1ea5b1b>:14] SOURCE: no . i never date outside my race . <---> PREDICTED RESPONSE: you re not gonna be here ? ? <---> TARGET: i meant you re into ghosts .\n",
      "[NeMo I 2020-10-09 17:53:04 <ipython-input-8-d6a2d1ea5b1b>:13] Train Loss:2.7685344219207764\n",
      "[NeMo I 2020-10-09 17:53:04 <ipython-input-8-d6a2d1ea5b1b>:14] SOURCE: look kind o natural don t they fred ? <---> PREDICTED RESPONSE: no . . . . . <---> TARGET: a sight for sore eyes !\n",
      "[NeMo I 2020-10-09 17:53:04 <ipython-input-8-d6a2d1ea5b1b>:13] Train Loss:2.6845545768737793\n",
      "[NeMo I 2020-10-09 17:53:04 <ipython-input-8-d6a2d1ea5b1b>:14] SOURCE: you re in love with the fucking housekeeper ! <---> PREDICTED RESPONSE: i m not . . . . <---> TARGET: shut up !\n",
      "[NeMo I 2020-10-09 17:53:04 <ipython-input-8-d6a2d1ea5b1b>:13] Train Loss:2.841613292694092\n",
      "[NeMo I 2020-10-09 17:53:04 <ipython-input-8-d6a2d1ea5b1b>:14] SOURCE: i ll never see them again mister mulvaney . <---> PREDICTED RESPONSE: i m sorry . . . . <---> TARGET: they look like good kids .\n",
      "[NeMo I 2020-10-09 17:53:04 <ipython-input-8-d6a2d1ea5b1b>:13] Train Loss:2.776188850402832\n",
      "[NeMo I 2020-10-09 17:53:04 <ipython-input-8-d6a2d1ea5b1b>:14] SOURCE: tell ashley . . . i . . . <---> PREDICTED RESPONSE: what ? . . . . . . <---> TARGET: you tell her !\n",
      "[NeMo I 2020-10-09 17:53:04 <ipython-input-8-d6a2d1ea5b1b>:13] Train Loss:2.9695048332214355\n",
      "[NeMo I 2020-10-09 17:53:04 <ipython-input-8-d6a2d1ea5b1b>:14] SOURCE: i m sorry . i really shouldn t have <---> PREDICTED RESPONSE: i m sorry . you re not . <---> TARGET: i m glad you called .\n",
      "[NeMo I 2020-10-09 17:53:04 <ipython-input-8-d6a2d1ea5b1b>:13] Train Loss:2.686812400817871\n",
      "[NeMo I 2020-10-09 17:53:04 <ipython-input-8-d6a2d1ea5b1b>:14] SOURCE: your dad s really gonna build his house ? <---> PREDICTED RESPONSE: no . . . . . <---> TARGET: i don t know .\n",
      "[NeMo I 2020-10-09 17:53:04 <ipython-input-8-d6a2d1ea5b1b>:13] Train Loss:2.9639575481414795\n",
      "[NeMo I 2020-10-09 17:53:04 <ipython-input-8-d6a2d1ea5b1b>:14] SOURCE: you ll probably be bigger than your brothers . <---> PREDICTED RESPONSE: i m sorry . . . . <---> TARGET: yeah !\n",
      "[NeMo I 2020-10-09 17:53:04 <ipython-input-8-d6a2d1ea5b1b>:13] Train Loss:2.851066827774048\n",
      "[NeMo I 2020-10-09 17:53:04 <ipython-input-8-d6a2d1ea5b1b>:14] SOURCE: i hope you re still alive jean luc . <---> PREDICTED RESPONSE: i don t know . . . <---> TARGET: i am .\n",
      "[NeMo I 2020-10-09 17:53:04 <ipython-input-8-d6a2d1ea5b1b>:13] Train Loss:2.9121861457824707\n",
      "[NeMo I 2020-10-09 17:53:04 <ipython-input-8-d6a2d1ea5b1b>:14] SOURCE: hmm so you re in the picture business ? <---> PREDICTED RESPONSE: i don t know . . . <---> TARGET: you could say that\n",
      "[NeMo I 2020-10-09 17:53:04 <ipython-input-8-d6a2d1ea5b1b>:13] Train Loss:2.788832187652588\n",
      "[NeMo I 2020-10-09 17:53:04 <ipython-input-8-d6a2d1ea5b1b>:14] SOURCE: i thought for sure they would catch me . <---> PREDICTED RESPONSE: i don t know . . . <---> TARGET: thanks .\n",
      "[NeMo I 2020-10-09 17:53:04 <ipython-input-8-d6a2d1ea5b1b>:13] Train Loss:2.9260122776031494\n",
      "[NeMo I 2020-10-09 17:53:04 <ipython-input-8-d6a2d1ea5b1b>:14] SOURCE: no he s not dangerous . not physically . <---> PREDICTED RESPONSE: why ? you re not . ? <---> TARGET: well what then ?\n",
      "[NeMo I 2020-10-09 17:53:04 <ipython-input-8-d6a2d1ea5b1b>:13] Train Loss:2.85560941696167\n",
      "[NeMo I 2020-10-09 17:53:04 <ipython-input-8-d6a2d1ea5b1b>:14] SOURCE: he means the last that we know of . <---> PREDICTED RESPONSE: what ? . . . . . . <---> TARGET: this one walk you home too ?\n",
      "[NeMo I 2020-10-09 17:53:04 <ipython-input-8-d6a2d1ea5b1b>:13] Train Loss:2.8693552017211914\n",
      "[NeMo I 2020-10-09 17:53:04 <ipython-input-8-d6a2d1ea5b1b>:14] SOURCE: they are at the gates of paris sire . <---> PREDICTED RESPONSE: what ? . . . ? . <---> TARGET: and where is the army ?\n",
      "[NeMo I 2020-10-09 17:53:04 <ipython-input-8-d6a2d1ea5b1b>:13] Train Loss:2.9904074668884277\n",
      "[NeMo I 2020-10-09 17:53:04 <ipython-input-8-d6a2d1ea5b1b>:14] SOURCE: i can t believe what i m seeing . <---> PREDICTED RESPONSE: you re not gonna be here ? . <---> TARGET: i know this is fucking nuts .\n",
      "[NeMo I 2020-10-09 17:53:04 <ipython-input-8-d6a2d1ea5b1b>:13] Train Loss:2.691725254058838\n",
      "[NeMo I 2020-10-09 17:53:04 <ipython-input-8-d6a2d1ea5b1b>:14] SOURCE: i thought you never sold cigarettes to kids . <---> PREDICTED RESPONSE: i don t know . . . <---> TARGET: i don t you did .\n",
      "[NeMo I 2020-10-09 17:53:04 <ipython-input-8-d6a2d1ea5b1b>:13] Train Loss:2.931187868118286\n",
      "[NeMo I 2020-10-09 17:53:04 <ipython-input-8-d6a2d1ea5b1b>:14] SOURCE: mrs . robinson i can t do this . <---> PREDICTED RESPONSE: i m sorry . . . . <---> TARGET: you what ?\n",
      "[NeMo I 2020-10-09 17:53:04 <ipython-input-8-d6a2d1ea5b1b>:13] Train Loss:2.8008804321289062\n",
      "[NeMo I 2020-10-09 17:53:04 <ipython-input-8-d6a2d1ea5b1b>:14] SOURCE: well i don t know . that depends . <---> PREDICTED RESPONSE: you know what i m doing . . <---> TARGET: on what ?\n",
      "[NeMo I 2020-10-09 17:53:04 <ipython-input-8-d6a2d1ea5b1b>:13] Train Loss:2.6993141174316406\n",
      "[NeMo I 2020-10-09 17:53:04 <ipython-input-8-d6a2d1ea5b1b>:14] SOURCE: there are worse things than vampires out there . <---> PREDICTED RESPONSE: what ? . . . ? . <---> TARGET: like what ?\n",
      "[NeMo I 2020-10-09 17:53:04 <ipython-input-8-d6a2d1ea5b1b>:13] Train Loss:3.071131706237793\n",
      "[NeMo I 2020-10-09 17:53:04 <ipython-input-8-d6a2d1ea5b1b>:14] SOURCE: no . you ll be marked for death . <---> PREDICTED RESPONSE: i m sorry . . . . <---> TARGET: let me die then .\n",
      "[NeMo I 2020-10-09 17:53:04 <ipython-input-8-d6a2d1ea5b1b>:13] Train Loss:2.7377281188964844\n",
      "[NeMo I 2020-10-09 17:53:04 <ipython-input-8-d6a2d1ea5b1b>:14] SOURCE: . . .i ll fix ya some eggs . <---> PREDICTED RESPONSE: yeah . . . . . <---> TARGET: aw norm .\n",
      "[NeMo I 2020-10-09 17:53:04 <ipython-input-8-d6a2d1ea5b1b>:13] Train Loss:2.8402462005615234\n",
      "[NeMo I 2020-10-09 17:53:04 <ipython-input-8-d6a2d1ea5b1b>:14] SOURCE: fuck you . fuck the three of you . <---> PREDICTED RESPONSE: what ? . . . . . . <---> TARGET: hey cool it walter .\n",
      "[NeMo I 2020-10-09 17:53:04 <ipython-input-8-d6a2d1ea5b1b>:13] Train Loss:3.004519462585449\n",
      "[NeMo I 2020-10-09 17:53:04 <ipython-input-8-d6a2d1ea5b1b>:14] SOURCE: you hold the counter and i ll pull . <---> PREDICTED RESPONSE: i don t know . . . <---> TARGET: usually i just turn the can upside down .\n",
      "[NeMo I 2020-10-09 17:53:04 <ipython-input-8-d6a2d1ea5b1b>:13] Train Loss:2.8814632892608643\n",
      "[NeMo I 2020-10-09 17:53:04 <ipython-input-8-d6a2d1ea5b1b>:14] SOURCE: what i never could figure about the movie ? <---> PREDICTED RESPONSE: i don t know . . . <---> TARGET: what ?\n",
      "[NeMo I 2020-10-09 17:53:04 <ipython-input-8-d6a2d1ea5b1b>:13] Train Loss:2.7245051860809326\n",
      "[NeMo I 2020-10-09 17:53:04 <ipython-input-8-d6a2d1ea5b1b>:14] SOURCE: i ve got a weak signal over there . <---> PREDICTED RESPONSE: what ? . . . ? . <---> TARGET: split up . find him .\n",
      "[NeMo I 2020-10-09 17:53:04 <ipython-input-8-d6a2d1ea5b1b>:13] Train Loss:2.8225152492523193\n",
      "[NeMo I 2020-10-09 17:53:04 <ipython-input-8-d6a2d1ea5b1b>:14] SOURCE: what do u you u use it for ? <---> PREDICTED RESPONSE: i don t know . . . <---> TARGET: my cannon .\n",
      "[NeMo I 2020-10-09 17:53:04 <ipython-input-8-d6a2d1ea5b1b>:13] Train Loss:2.905247926712036\n",
      "[NeMo I 2020-10-09 17:53:04 <ipython-input-8-d6a2d1ea5b1b>:14] SOURCE: i thought you d know me by now . <---> PREDICTED RESPONSE: i don t know . . . <---> TARGET: what does it take to kill you ?\n",
      "[NeMo I 2020-10-09 17:53:04 <ipython-input-8-d6a2d1ea5b1b>:13] Train Loss:2.8939192295074463\n",
      "[NeMo I 2020-10-09 17:53:04 <ipython-input-8-d6a2d1ea5b1b>:14] SOURCE: raise the glass and push the blue button . <---> PREDICTED RESPONSE: what ? . . . . . . <---> TARGET: that s it ?\n",
      "[NeMo I 2020-10-09 17:53:04 <ipython-input-8-d6a2d1ea5b1b>:13] Train Loss:2.84401798248291\n",
      "[NeMo I 2020-10-09 17:53:04 <ipython-input-8-d6a2d1ea5b1b>:14] SOURCE: stop talking like a monk ! just fight ! <---> PREDICTED RESPONSE: what ? ! ! ! ! <---> TARGET: then tell me where jade fox is .\n",
      "[NeMo I 2020-10-09 17:53:04 <ipython-input-8-d6a2d1ea5b1b>:13] Train Loss:2.834115982055664\n",
      "[NeMo I 2020-10-09 17:53:04 <ipython-input-8-d6a2d1ea5b1b>:14] SOURCE: this denial of death . you remember this ? <---> PREDICTED RESPONSE: yeah . . . . . <---> TARGET: oh\n",
      "[NeMo I 2020-10-09 17:53:04 <ipython-input-8-d6a2d1ea5b1b>:13] Train Loss:2.948885917663574\n",
      "[NeMo I 2020-10-09 17:53:04 <ipython-input-8-d6a2d1ea5b1b>:14] SOURCE: everyone loves the girl next door particularly farley . <---> PREDICTED RESPONSE: what ? . . . . . . <---> TARGET: so it seems .\n",
      "[NeMo I 2020-10-09 17:53:04 <ipython-input-8-d6a2d1ea5b1b>:13] Train Loss:2.9753313064575195\n",
      "[NeMo I 2020-10-09 17:53:04 <ipython-input-8-d6a2d1ea5b1b>:14] SOURCE: do i have to tell you ? moss . <---> PREDICTED RESPONSE: i don t know . . . <---> TARGET: that was easy wasn t it ?\n",
      "[NeMo I 2020-10-09 17:53:04 <ipython-input-8-d6a2d1ea5b1b>:13] Train Loss:2.81467866897583\n",
      "[NeMo I 2020-10-09 17:53:04 <ipython-input-8-d6a2d1ea5b1b>:14] SOURCE: what s happening ? what do you want ? <---> PREDICTED RESPONSE: i don t know . . . <---> TARGET: so very much .\n",
      "[NeMo I 2020-10-09 17:53:04 <ipython-input-8-d6a2d1ea5b1b>:13] Train Loss:2.7608695030212402\n",
      "[NeMo I 2020-10-09 17:53:04 <ipython-input-8-d6a2d1ea5b1b>:14] SOURCE: that car belonged to my brother in law . <---> PREDICTED RESPONSE: what ? it s a gun ! ! <---> TARGET: come on come on !\n",
      "[NeMo I 2020-10-09 17:53:04 <ipython-input-8-d6a2d1ea5b1b>:13] Train Loss:2.8423244953155518\n",
      "[NeMo I 2020-10-09 17:53:04 <ipython-input-8-d6a2d1ea5b1b>:14] SOURCE: so you re really gonna be a lawyer ? <---> PREDICTED RESPONSE: i don t know . . . <---> TARGET: and why not ?\n",
      "[NeMo I 2020-10-09 17:53:04 <ipython-input-8-d6a2d1ea5b1b>:13] Train Loss:2.7845089435577393\n",
      "[NeMo I 2020-10-09 17:53:04 <ipython-input-8-d6a2d1ea5b1b>:14] SOURCE: get out ? ! what does it say ? <---> PREDICTED RESPONSE: i m sorry . . . . <---> TARGET: fucked me .\n",
      "[NeMo I 2020-10-09 17:53:04 <ipython-input-8-d6a2d1ea5b1b>:13] Train Loss:3.0750746726989746\n",
      "[NeMo I 2020-10-09 17:53:04 <ipython-input-8-d6a2d1ea5b1b>:14] SOURCE: would you like to talk about this friend ? <---> PREDICTED RESPONSE: i don t know . . . <---> TARGET: his name is frank .\n",
      "[NeMo I 2020-10-09 17:53:04 <ipython-input-8-d6a2d1ea5b1b>:13] Train Loss:2.750349521636963\n",
      "[NeMo I 2020-10-09 17:53:04 <ipython-input-8-d6a2d1ea5b1b>:14] SOURCE: and where do you think you re going ? <---> PREDICTED RESPONSE: i don t know . . . <---> TARGET: out .\n",
      "[NeMo I 2020-10-09 17:53:04 <ipython-input-8-d6a2d1ea5b1b>:13] Train Loss:2.8856892585754395\n",
      "[NeMo I 2020-10-09 17:53:04 <ipython-input-8-d6a2d1ea5b1b>:14] SOURCE: no it s not true you re lying . <---> PREDICTED RESPONSE: no . i m sorry . . <---> TARGET: not this time kat .\n",
      "[NeMo I 2020-10-09 17:53:04 <ipython-input-8-d6a2d1ea5b1b>:13] Train Loss:2.9307048320770264\n",
      "[NeMo I 2020-10-09 17:53:04 <ipython-input-8-d6a2d1ea5b1b>:14] SOURCE: . . .you moved too didn t you ? <---> PREDICTED RESPONSE: no . . . . . <---> TARGET: yeah .\n",
      "[NeMo I 2020-10-09 17:53:04 <ipython-input-8-d6a2d1ea5b1b>:13] Train Loss:2.918248414993286\n",
      "[NeMo I 2020-10-09 17:53:04 <ipython-input-8-d6a2d1ea5b1b>:14] SOURCE: you didn t tell me about red deer table <---> PREDICTED RESPONSE: what ? . . . . . . <---> TARGET: what the hell is red deer table ?\n",
      "[NeMo I 2020-10-09 17:53:04 <ipython-input-8-d6a2d1ea5b1b>:13] Train Loss:2.9041430950164795\n",
      "[NeMo I 2020-10-09 17:53:04 <ipython-input-8-d6a2d1ea5b1b>:14] SOURCE: okay . i just wanted you to know . <---> PREDICTED RESPONSE: what s your name ? ? . <---> TARGET: what is she shooting ?\n",
      "[NeMo I 2020-10-09 17:53:04 <ipython-input-8-d6a2d1ea5b1b>:13] Train Loss:2.9373600482940674\n",
      "[NeMo I 2020-10-09 17:53:04 <ipython-input-8-d6a2d1ea5b1b>:14] SOURCE: i always hoped i would hit two meters . <---> PREDICTED RESPONSE: i know . . . . <---> TARGET: with a full head of hair .\n",
      "[NeMo I 2020-10-09 17:53:04 <ipython-input-8-d6a2d1ea5b1b>:13] Train Loss:2.6289374828338623\n",
      "[NeMo I 2020-10-09 17:53:04 <ipython-input-8-d6a2d1ea5b1b>:14] SOURCE: ah good . now turn to your left . <---> PREDICTED RESPONSE: what s your name ? ? ? <---> TARGET: she talk about the boys ?\n",
      "[NeMo I 2020-10-09 17:53:04 <ipython-input-8-d6a2d1ea5b1b>:13] Train Loss:2.77809739112854\n",
      "[NeMo I 2020-10-09 17:53:04 <ipython-input-8-d6a2d1ea5b1b>:14] SOURCE: just meet with the boy once a week . <---> PREDICTED RESPONSE: i don t know . . . <---> TARGET: can we do it at my office ?\n",
      "[NeMo I 2020-10-09 17:53:04 <ipython-input-8-d6a2d1ea5b1b>:13] Train Loss:2.6789133548736572\n",
      "[NeMo I 2020-10-09 17:53:04 <ipython-input-8-d6a2d1ea5b1b>:14] SOURCE: no i ain t got you . . . <---> PREDICTED RESPONSE: i m sorry . . . . . <---> TARGET: no i ain t got you . . .\n",
      "[NeMo I 2020-10-09 17:53:04 <ipython-input-8-d6a2d1ea5b1b>:13] Train Loss:2.7832393646240234\n",
      "[NeMo I 2020-10-09 17:53:04 <ipython-input-8-d6a2d1ea5b1b>:14] SOURCE: i am the best man for the job . <---> PREDICTED RESPONSE: i know . . . . <---> TARGET: why don t you do it then ?\n",
      "[NeMo I 2020-10-09 17:53:04 <ipython-input-8-d6a2d1ea5b1b>:13] Train Loss:2.8523900508880615\n",
      "[NeMo I 2020-10-09 17:53:04 <ipython-input-8-d6a2d1ea5b1b>:14] SOURCE: otherwise we d insist on your being here . <---> PREDICTED RESPONSE: i m sorry . . . . <---> TARGET: you know it s true .\n",
      "[NeMo I 2020-10-09 17:53:04 <ipython-input-8-d6a2d1ea5b1b>:13] Train Loss:2.6502010822296143\n",
      "[NeMo I 2020-10-09 17:53:04 <ipython-input-8-d6a2d1ea5b1b>:14] SOURCE: what do u you u use it for ? <---> PREDICTED RESPONSE: i don t know . . . <---> TARGET: my cannon .\n",
      "[NeMo I 2020-10-09 17:53:04 <ipython-input-8-d6a2d1ea5b1b>:13] Train Loss:2.800779342651367\n",
      "[NeMo I 2020-10-09 17:53:04 <ipython-input-8-d6a2d1ea5b1b>:14] SOURCE: otherwise we d insist on your being here . <---> PREDICTED RESPONSE: i m sorry . . . . <---> TARGET: you know it s true .\n",
      "[NeMo I 2020-10-09 17:53:04 <ipython-input-8-d6a2d1ea5b1b>:13] Train Loss:2.6893861293792725\n",
      "[NeMo I 2020-10-09 17:53:04 <ipython-input-8-d6a2d1ea5b1b>:14] SOURCE: i m sorry she hung up . what are <---> PREDICTED RESPONSE: i m sorry . . . . <---> TARGET: finding out where she is .\n",
      "[NeMo I 2020-10-09 17:53:04 <ipython-input-8-d6a2d1ea5b1b>:13] Train Loss:2.8984262943267822\n",
      "[NeMo I 2020-10-09 17:53:04 <ipython-input-8-d6a2d1ea5b1b>:14] SOURCE: how long can i afford to stay closed ? <---> PREDICTED RESPONSE: i don t know . . . <---> TARGET: oh two weeks maybe three .\n",
      "[NeMo I 2020-10-09 17:53:04 <ipython-input-8-d6a2d1ea5b1b>:13] Train Loss:2.710831642150879\n",
      "[NeMo I 2020-10-09 17:53:04 <ipython-input-8-d6a2d1ea5b1b>:14] SOURCE: a man wouldn t do that . . . <---> PREDICTED RESPONSE: i m sorry . . . . <---> TARGET: he isn t a man .\n",
      "[NeMo I 2020-10-09 17:53:04 <ipython-input-8-d6a2d1ea5b1b>:13] Train Loss:2.795376777648926\n",
      "[NeMo I 2020-10-09 17:53:04 <ipython-input-8-d6a2d1ea5b1b>:14] SOURCE: and what did he come back now for ? <---> PREDICTED RESPONSE: i don t know . . . <---> TARGET: who ?\n",
      "[NeMo I 2020-10-09 17:53:04 <ipython-input-8-d6a2d1ea5b1b>:13] Train Loss:2.7878425121307373\n",
      "[NeMo I 2020-10-09 17:53:04 <ipython-input-8-d6a2d1ea5b1b>:14] SOURCE: brad ! have mom or dad seen this ? <---> PREDICTED RESPONSE: i don t know . . . <---> TARGET: they re not home yet .\n",
      "[NeMo I 2020-10-09 17:53:04 <ipython-input-8-d6a2d1ea5b1b>:13] Train Loss:2.62880802154541\n",
      "[NeMo I 2020-10-09 17:53:04 <ipython-input-8-d6a2d1ea5b1b>:14] SOURCE: i m getting real tired of this maniac . <---> PREDICTED RESPONSE: i m sorry . . . . <---> TARGET: maybe we better call that psychiatric clinic .\n",
      "[NeMo I 2020-10-09 17:53:04 <ipython-input-8-d6a2d1ea5b1b>:13] Train Loss:2.859851598739624\n",
      "[NeMo I 2020-10-09 17:53:04 <ipython-input-8-d6a2d1ea5b1b>:14] SOURCE: it doesn t sound natural when i curse . <---> PREDICTED RESPONSE: i m sorry . . . . <---> TARGET: just make noises then .\n",
      "[NeMo I 2020-10-09 17:53:04 <ipython-input-8-d6a2d1ea5b1b>:13] Train Loss:2.839189291000366\n",
      "[NeMo I 2020-10-09 17:53:04 <ipython-input-8-d6a2d1ea5b1b>:14] SOURCE: i just wanted to know where mom was ? <---> PREDICTED RESPONSE: you re not talking about it . . <---> TARGET: oh . sorry .\n",
      "[NeMo I 2020-10-09 17:53:04 <ipython-input-8-d6a2d1ea5b1b>:13] Train Loss:2.854353666305542\n",
      "[NeMo I 2020-10-09 17:53:04 <ipython-input-8-d6a2d1ea5b1b>:14] SOURCE: can you say that my name is jack ? <---> PREDICTED RESPONSE: sure . . . . . <---> TARGET: you want her to call you jack ?\n",
      "[NeMo I 2020-10-09 17:53:04 <ipython-input-8-d6a2d1ea5b1b>:13] Train Loss:2.6548728942871094\n",
      "[NeMo I 2020-10-09 17:53:04 <ipython-input-8-d6a2d1ea5b1b>:14] SOURCE: okay i m closing up . everybody relax . <---> PREDICTED RESPONSE: what s your name ? ? ? <---> TARGET: may i have the surgeon s name please ?\n",
      "[NeMo I 2020-10-09 17:53:04 <ipython-input-8-d6a2d1ea5b1b>:13] Train Loss:2.884765386581421\n",
      "[NeMo I 2020-10-09 17:53:04 <ipython-input-8-d6a2d1ea5b1b>:14] SOURCE: or the living fall in . who knows . <---> PREDICTED RESPONSE: what ? . . . . . . <---> TARGET: and you believe her ?\n",
      "[NeMo I 2020-10-09 17:53:04 <ipython-input-8-d6a2d1ea5b1b>:13] Train Loss:2.939957618713379\n",
      "[NeMo I 2020-10-09 17:53:04 <ipython-input-8-d6a2d1ea5b1b>:14] SOURCE: how much you figure that s worth skipper ? <---> PREDICTED RESPONSE: i don t know . . . <---> TARGET: hard to say . maybe forty fifty million .\n",
      "[NeMo I 2020-10-09 17:53:04 <ipython-input-8-d6a2d1ea5b1b>:13] Train Loss:2.7053096294403076\n",
      "[NeMo I 2020-10-09 17:53:04 <ipython-input-8-d6a2d1ea5b1b>:14] SOURCE: we been seein you all along the way . <---> PREDICTED RESPONSE: i m sorry . . . . <---> TARGET: yeah . i been seein you too .\n",
      "[NeMo I 2020-10-09 17:53:04 <ipython-input-8-d6a2d1ea5b1b>:13] Train Loss:2.628314733505249\n",
      "[NeMo I 2020-10-09 17:53:04 <ipython-input-8-d6a2d1ea5b1b>:14] SOURCE: i know . he s just the best . <---> PREDICTED RESPONSE: what ? . . . ? . <---> TARGET: i ve got jews at my table .\n",
      "[NeMo I 2020-10-09 17:53:04 <ipython-input-8-d6a2d1ea5b1b>:13] Train Loss:2.794163942337036\n",
      "[NeMo I 2020-10-09 17:53:04 <ipython-input-8-d6a2d1ea5b1b>:14] SOURCE: i thought i was allowed to defend myself . <---> PREDICTED RESPONSE: i m sorry . . . . <---> TARGET: you re not allowed to lie .\n",
      "[NeMo I 2020-10-09 17:53:04 <ipython-input-8-d6a2d1ea5b1b>:13] Train Loss:2.78108286857605\n",
      "[NeMo I 2020-10-09 17:53:04 <ipython-input-8-d6a2d1ea5b1b>:14] SOURCE: turn the power of the hunter against him . <---> PREDICTED RESPONSE: what ? . . . . . . <---> TARGET: tie a fly . . .\n",
      "[NeMo I 2020-10-09 17:53:04 <ipython-input-8-d6a2d1ea5b1b>:13] Train Loss:2.667147397994995\n",
      "[NeMo I 2020-10-09 17:53:04 <ipython-input-8-d6a2d1ea5b1b>:14] SOURCE: i don t know how to thank you . <---> PREDICTED RESPONSE: i know . you re not . . <---> TARGET: i enjoyed every minute of it .\n",
      "[NeMo I 2020-10-09 17:53:04 <ipython-input-8-d6a2d1ea5b1b>:13] Train Loss:2.771371603012085\n",
      "[NeMo I 2020-10-09 17:53:04 <ipython-input-8-d6a2d1ea5b1b>:14] SOURCE: all you got to do is name it . <---> PREDICTED RESPONSE: i m sorry to hear that . . <---> TARGET: give eve harrington job in you office .\n",
      "[NeMo I 2020-10-09 17:53:04 <ipython-input-8-d6a2d1ea5b1b>:13] Train Loss:2.653848886489868\n",
      "[NeMo I 2020-10-09 17:53:04 <ipython-input-8-d6a2d1ea5b1b>:14] SOURCE: u one u set . everything from midnight on <---> PREDICTED RESPONSE: what ? . . . . . . <---> TARGET: no i think they re all in there .\n",
      "[NeMo I 2020-10-09 17:53:04 <ipython-input-8-d6a2d1ea5b1b>:13] Train Loss:2.7016780376434326\n",
      "[NeMo I 2020-10-09 17:53:04 <ipython-input-8-d6a2d1ea5b1b>:14] SOURCE: because you know you ll be killing us . <---> PREDICTED RESPONSE: i m sorry . i m sorry . <---> TARGET: don t lay this on me !\n",
      "[NeMo I 2020-10-09 17:53:04 <ipython-input-8-d6a2d1ea5b1b>:13] Train Loss:2.7924644947052\n",
      "[NeMo I 2020-10-09 17:53:04 <ipython-input-8-d6a2d1ea5b1b>:14] SOURCE: a man wouldn t do that . . . <---> PREDICTED RESPONSE: i m sorry . . . . <---> TARGET: he isn t a man .\n",
      "[NeMo I 2020-10-09 17:53:04 <ipython-input-8-d6a2d1ea5b1b>:13] Train Loss:2.74231219291687\n",
      "[NeMo I 2020-10-09 17:53:04 <ipython-input-8-d6a2d1ea5b1b>:14] SOURCE: call the code ! i want everyone out ! <---> PREDICTED RESPONSE: you re not gonna get out ! ! <---> TARGET: you gotta give me more to go on\n",
      "[NeMo I 2020-10-09 17:53:04 <ipython-input-8-d6a2d1ea5b1b>:13] Train Loss:2.7866296768188477\n",
      "[NeMo I 2020-10-09 17:53:04 <ipython-input-8-d6a2d1ea5b1b>:14] SOURCE: you re twenty two aren t you ray ? <---> PREDICTED RESPONSE: i don t know . . . <---> TARGET: say what and so what .\n",
      "[NeMo I 2020-10-09 17:53:04 <ipython-input-8-d6a2d1ea5b1b>:13] Train Loss:2.982725143432617\n",
      "[NeMo I 2020-10-09 17:53:04 <ipython-input-8-d6a2d1ea5b1b>:14] SOURCE: there s some good things on it though . <---> PREDICTED RESPONSE: what ? . . . . . . <---> TARGET: pardon me ?\n",
      "[NeMo I 2020-10-09 17:53:04 <ipython-input-8-d6a2d1ea5b1b>:13] Train Loss:2.8013830184936523\n",
      "[NeMo I 2020-10-09 17:53:04 <ipython-input-8-d6a2d1ea5b1b>:14] SOURCE: i think this is number three . . . <---> PREDICTED RESPONSE: you re not gonna be here ? . <---> TARGET: that s an opinion not evidence . . .\n",
      "[NeMo I 2020-10-09 17:53:04 <ipython-input-8-d6a2d1ea5b1b>:13] Train Loss:2.7286009788513184\n",
      "[NeMo I 2020-10-09 17:53:04 <ipython-input-8-d6a2d1ea5b1b>:14] SOURCE: you re going to new york with us . <---> PREDICTED RESPONSE: i m sorry . . . . <---> TARGET: when ?\n",
      "[NeMo I 2020-10-09 17:53:04 <ipython-input-8-d6a2d1ea5b1b>:13] Train Loss:3.0334956645965576\n",
      "[NeMo I 2020-10-09 17:53:04 <ipython-input-8-d6a2d1ea5b1b>:14] SOURCE: do you really want to buy those cigarettes ? <---> PREDICTED RESPONSE: i don t know . . . <---> TARGET: are you serious ?\n",
      "[NeMo I 2020-10-09 17:53:04 <ipython-input-8-d6a2d1ea5b1b>:13] Train Loss:2.5736303329467773\n",
      "[NeMo I 2020-10-09 17:53:04 <ipython-input-8-d6a2d1ea5b1b>:14] SOURCE: yes sir . you wouldn t believe it . <---> PREDICTED RESPONSE: i m sorry . . . . <---> TARGET: you re right .\n",
      "[NeMo I 2020-10-09 17:53:04 <ipython-input-8-d6a2d1ea5b1b>:13] Train Loss:2.782520294189453\n",
      "[NeMo I 2020-10-09 17:53:04 <ipython-input-8-d6a2d1ea5b1b>:14] SOURCE: well what do you want to talk about ? <---> PREDICTED RESPONSE: i don t know . . . <---> TARGET: anything . anything at all .\n",
      "[NeMo I 2020-10-09 17:53:04 <ipython-input-8-d6a2d1ea5b1b>:13] Train Loss:2.6272618770599365\n",
      "[NeMo I 2020-10-09 17:53:04 <ipython-input-8-d6a2d1ea5b1b>:14] SOURCE: is there anything else you want to know ? <---> PREDICTED RESPONSE: no . i m not . . <---> TARGET: where you were when your husband died .\n",
      "[NeMo I 2020-10-09 17:53:04 <ipython-input-8-d6a2d1ea5b1b>:13] Train Loss:2.6342380046844482\n",
      "[NeMo I 2020-10-09 17:53:04 <ipython-input-8-d6a2d1ea5b1b>:14] SOURCE: harry . . . my god . . . <---> PREDICTED RESPONSE: i m glad you can . . . <---> TARGET: what happened ?\n",
      "[NeMo I 2020-10-09 17:53:04 <ipython-input-8-d6a2d1ea5b1b>:13] Train Loss:2.647120237350464\n",
      "[NeMo I 2020-10-09 17:53:04 <ipython-input-8-d6a2d1ea5b1b>:14] SOURCE: hell yeah . she s not my unicorn . <---> PREDICTED RESPONSE: i m sorry . . . . <---> TARGET: move over . . .\n",
      "[NeMo I 2020-10-09 17:53:04 <ipython-input-8-d6a2d1ea5b1b>:13] Train Loss:2.759434700012207\n",
      "[NeMo I 2020-10-09 17:53:04 <ipython-input-8-d6a2d1ea5b1b>:14] SOURCE: has your son ever told you about frank ? <---> PREDICTED RESPONSE: what ? . . . ? . <---> TARGET: come again ?\n",
      "[NeMo I 2020-10-09 17:53:04 <ipython-input-8-d6a2d1ea5b1b>:13] Train Loss:2.7112436294555664\n",
      "[NeMo I 2020-10-09 17:53:04 <ipython-input-8-d6a2d1ea5b1b>:14] SOURCE: . . .yes i did . . . ? <---> PREDICTED RESPONSE: you know what i m doing . . <---> TARGET: are you learning how to play it ?\n",
      "[NeMo I 2020-10-09 17:53:04 <ipython-input-8-d6a2d1ea5b1b>:13] Train Loss:2.6593172550201416\n",
      "[NeMo I 2020-10-09 17:53:04 <ipython-input-8-d6a2d1ea5b1b>:14] SOURCE: promise you ll be nice to the neighbors . <---> PREDICTED RESPONSE: i m sorry . . . . <---> TARGET: i ll say as little as possible .\n",
      "[NeMo I 2020-10-09 17:53:04 <ipython-input-8-d6a2d1ea5b1b>:13] Train Loss:2.605039596557617\n",
      "[NeMo I 2020-10-09 17:53:04 <ipython-input-8-d6a2d1ea5b1b>:14] SOURCE: i just couldn t stand seeing him again . <---> PREDICTED RESPONSE: i m sorry . . . . <---> TARGET: running away is no solution .\n",
      "[NeMo I 2020-10-09 17:53:04 <ipython-input-8-d6a2d1ea5b1b>:13] Train Loss:2.5933475494384766\n",
      "[NeMo I 2020-10-09 17:53:04 <ipython-input-8-d6a2d1ea5b1b>:14] SOURCE: i get it walter . i get it . <---> PREDICTED RESPONSE: you re not gonna get out ? ! <---> TARGET: what do you get ?\n",
      "[NeMo I 2020-10-09 17:53:04 <ipython-input-8-d6a2d1ea5b1b>:13] Train Loss:2.6661901473999023\n",
      "[NeMo I 2020-10-09 17:53:04 <ipython-input-8-d6a2d1ea5b1b>:14] SOURCE: liz left us red . take the hint . <---> PREDICTED RESPONSE: oh dmitri . . . . <---> TARGET: we don t take hints .\n",
      "[NeMo I 2020-10-09 17:53:04 <ipython-input-8-d6a2d1ea5b1b>:13] Train Loss:2.8322911262512207\n",
      "[NeMo I 2020-10-09 17:53:04 <ipython-input-8-d6a2d1ea5b1b>:14] SOURCE: it s still a little early for me . <---> PREDICTED RESPONSE: i m sorry . . . . <---> TARGET: so be it .\n",
      "[NeMo I 2020-10-09 17:53:04 <ipython-input-8-d6a2d1ea5b1b>:13] Train Loss:2.817857265472412\n",
      "[NeMo I 2020-10-09 17:53:04 <ipython-input-8-d6a2d1ea5b1b>:14] SOURCE: you were the only neighbor i could tolerate . <---> PREDICTED RESPONSE: i m sorry . . . . <---> TARGET: i did warn you .\n",
      "[NeMo I 2020-10-09 17:53:04 <ipython-input-8-d6a2d1ea5b1b>:13] Train Loss:2.615877151489258\n",
      "[NeMo I 2020-10-09 17:53:04 <ipython-input-8-d6a2d1ea5b1b>:14] SOURCE: well he s sleeping now . better not . <---> PREDICTED RESPONSE: i know . . . . <---> TARGET: but he s all right ?\n",
      "[NeMo I 2020-10-09 17:53:04 <ipython-input-8-d6a2d1ea5b1b>:13] Train Loss:2.645284652709961\n",
      "[NeMo I 2020-10-09 17:53:04 <ipython-input-8-d6a2d1ea5b1b>:14] SOURCE: you know what s happened don t you ? <---> PREDICTED RESPONSE: i don t know . . . <---> TARGET: what ?\n",
      "[NeMo I 2020-10-09 17:53:04 <ipython-input-8-d6a2d1ea5b1b>:13] Train Loss:2.6602766513824463\n",
      "[NeMo I 2020-10-09 17:53:04 <ipython-input-8-d6a2d1ea5b1b>:14] SOURCE: this letter . i ve never opened it . <---> PREDICTED RESPONSE: what ? . . . . . . <---> TARGET: why not ?\n",
      "[NeMo I 2020-10-09 17:53:04 <ipython-input-8-d6a2d1ea5b1b>:13] Train Loss:2.727707862854004\n",
      "[NeMo I 2020-10-09 17:53:04 <ipython-input-8-d6a2d1ea5b1b>:14] SOURCE: is that the walls of jericho going up ? <---> PREDICTED RESPONSE: no . . . . . <---> TARGET: yep ! the walls of jericho .\n",
      "[NeMo I 2020-10-09 17:53:04 <ipython-input-8-d6a2d1ea5b1b>:13] Train Loss:2.6499249935150146\n",
      "[NeMo I 2020-10-09 17:53:04 <ipython-input-8-d6a2d1ea5b1b>:14] SOURCE: well then you must come back and visit . <---> PREDICTED RESPONSE: i m sorry . . . . <---> TARGET: all right .\n",
      "[NeMo I 2020-10-09 17:53:04 <ipython-input-8-d6a2d1ea5b1b>:13] Train Loss:2.6696815490722656\n",
      "[NeMo I 2020-10-09 17:53:04 <ipython-input-8-d6a2d1ea5b1b>:14] SOURCE: i want you to check this out ellie . <---> PREDICTED RESPONSE: i m sorry . . . . <---> TARGET: we already did .\n",
      "[NeMo I 2020-10-09 17:53:04 <ipython-input-8-d6a2d1ea5b1b>:13] Train Loss:2.6891369819641113\n",
      "[NeMo I 2020-10-09 17:53:04 <ipython-input-8-d6a2d1ea5b1b>:14] SOURCE: hey pete . . . how ya doin ? <---> PREDICTED RESPONSE: i m glad you re gonna die . . <---> TARGET: who is this ?\n",
      "[NeMo I 2020-10-09 17:53:04 <ipython-input-8-d6a2d1ea5b1b>:13] Train Loss:2.520090341567993\n",
      "[NeMo I 2020-10-09 17:53:04 <ipython-input-8-d6a2d1ea5b1b>:14] SOURCE: jake you are never out of your head ! <---> PREDICTED RESPONSE: i m sorry . i m sorry . <---> TARGET: what s in here ?\n",
      "[NeMo I 2020-10-09 17:53:04 <ipython-input-8-d6a2d1ea5b1b>:13] Train Loss:2.748615026473999\n",
      "[NeMo I 2020-10-09 17:53:04 <ipython-input-8-d6a2d1ea5b1b>:14] SOURCE: i wish you d get an answering machine . <---> PREDICTED RESPONSE: i don t know . . . <---> TARGET: there s a phone here .\n",
      "[NeMo I 2020-10-09 17:53:04 <ipython-input-8-d6a2d1ea5b1b>:13] Train Loss:2.7560055255889893\n",
      "[NeMo I 2020-10-09 17:53:04 <ipython-input-8-d6a2d1ea5b1b>:14] SOURCE: yeah ? what have you been up to ? <---> PREDICTED RESPONSE: i don t know . . . <---> TARGET: i work for city hall .\n",
      "[NeMo I 2020-10-09 17:53:04 <ipython-input-8-d6a2d1ea5b1b>:13] Train Loss:2.6421234607696533\n",
      "[NeMo I 2020-10-09 17:53:04 <ipython-input-8-d6a2d1ea5b1b>:14] SOURCE: . actually . i ve been in twice . <---> PREDICTED RESPONSE: what s your name ? . . . <---> TARGET: twice . without her sensing anything ?\n",
      "[NeMo I 2020-10-09 17:53:04 <ipython-input-8-d6a2d1ea5b1b>:13] Train Loss:2.8077006340026855\n",
      "[NeMo I 2020-10-09 17:53:04 <ipython-input-8-d6a2d1ea5b1b>:14] SOURCE: all right commander you wanna tell us anything ? <---> PREDICTED RESPONSE: no . i m not . . <---> TARGET: like what ?\n",
      "[NeMo I 2020-10-09 17:53:04 <ipython-input-8-d6a2d1ea5b1b>:13] Train Loss:2.7220497131347656\n",
      "[NeMo I 2020-10-09 17:53:04 <ipython-input-8-d6a2d1ea5b1b>:14] SOURCE: what time s sailor s train get in ? <---> PREDICTED RESPONSE: i don t know . . . <---> TARGET: six .\n",
      "[NeMo I 2020-10-09 17:53:04 <ipython-input-8-d6a2d1ea5b1b>:13] Train Loss:2.711522102355957\n",
      "[NeMo I 2020-10-09 17:53:04 <ipython-input-8-d6a2d1ea5b1b>:14] SOURCE: there s a first time for everything admiral . <---> PREDICTED RESPONSE: what ? . . . . . . <---> TARGET: to be sure captain .\n",
      "[NeMo I 2020-10-09 17:53:04 <ipython-input-8-d6a2d1ea5b1b>:13] Train Loss:2.7883124351501465\n",
      "[NeMo I 2020-10-09 17:53:04 <ipython-input-8-d6a2d1ea5b1b>:14] SOURCE: i don t think she can sing either . <---> PREDICTED RESPONSE: i don t know . . . <---> TARGET: take care pal .\n",
      "[NeMo I 2020-10-09 17:53:04 <ipython-input-8-d6a2d1ea5b1b>:13] Train Loss:2.6747324466705322\n",
      "[NeMo I 2020-10-09 17:53:04 <ipython-input-8-d6a2d1ea5b1b>:14] SOURCE: yes robert . i know about the president . <---> PREDICTED RESPONSE: what ? . . . ? ? <---> TARGET: . . . oh ? you ve heard ?\n",
      "[NeMo I 2020-10-09 17:53:04 <ipython-input-8-d6a2d1ea5b1b>:13] Train Loss:2.5223569869995117\n",
      "[NeMo I 2020-10-09 17:53:04 <ipython-input-8-d6a2d1ea5b1b>:14] SOURCE: they can deal with this sort of thing . <---> PREDICTED RESPONSE: what ? . . . ? . <---> TARGET: more soldiers ?\n",
      "[NeMo I 2020-10-09 17:53:04 <ipython-input-8-d6a2d1ea5b1b>:13] Train Loss:2.793869733810425\n",
      "[NeMo I 2020-10-09 17:53:04 <ipython-input-8-d6a2d1ea5b1b>:14] SOURCE: a bereavement . a death in the family . <---> PREDICTED RESPONSE: what ? . . . . . . <---> TARGET: oh i m sorry to hear that .\n",
      "[NeMo I 2020-10-09 17:53:04 <ipython-input-8-d6a2d1ea5b1b>:13] Train Loss:2.6470611095428467\n",
      "[NeMo I 2020-10-09 17:53:04 <ipython-input-8-d6a2d1ea5b1b>:14] SOURCE: well you re two up on me now . <---> PREDICTED RESPONSE: i m sorry . . . . <---> TARGET: hey you !\n",
      "[NeMo I 2020-10-09 17:53:04 <ipython-input-8-d6a2d1ea5b1b>:13] Train Loss:2.5742251873016357\n",
      "[NeMo I 2020-10-09 17:53:04 <ipython-input-8-d6a2d1ea5b1b>:14] SOURCE: who was the girl you walked off with ? <---> PREDICTED RESPONSE: i don t know . . . <---> TARGET: no one .\n",
      "[NeMo I 2020-10-09 17:53:04 <ipython-input-8-d6a2d1ea5b1b>:13] Train Loss:2.640058755874634\n",
      "[NeMo I 2020-10-09 17:53:04 <ipython-input-8-d6a2d1ea5b1b>:14] SOURCE: are we going to go through this again ? <---> PREDICTED RESPONSE: no . . . . . <---> TARGET: answer the question .\n",
      "[NeMo I 2020-10-09 17:53:04 <ipython-input-8-d6a2d1ea5b1b>:13] Train Loss:2.715442180633545\n",
      "[NeMo I 2020-10-09 17:53:04 <ipython-input-8-d6a2d1ea5b1b>:14] SOURCE: no this is serious . say it backwards . <---> PREDICTED RESPONSE: i m sorry . you re not . <---> TARGET: no !\n",
      "[NeMo I 2020-10-09 17:53:04 <ipython-input-8-d6a2d1ea5b1b>:13] Train Loss:2.722764253616333\n",
      "[NeMo I 2020-10-09 17:53:04 <ipython-input-8-d6a2d1ea5b1b>:14] SOURCE: no . of course not nothing like that . <---> PREDICTED RESPONSE: why ? you re not . ? <---> TARGET: are you sure ?\n",
      "[NeMo I 2020-10-09 17:53:04 <ipython-input-8-d6a2d1ea5b1b>:13] Train Loss:2.767812728881836\n",
      "[NeMo I 2020-10-09 17:53:04 <ipython-input-8-d6a2d1ea5b1b>:14] SOURCE: i shouldn t drink when i m driving . <---> PREDICTED RESPONSE: i m sorry . . . . <---> TARGET: you re so right .\n",
      "[NeMo I 2020-10-09 17:53:04 <ipython-input-8-d6a2d1ea5b1b>:13] Train Loss:2.62459659576416\n",
      "[NeMo I 2020-10-09 17:53:04 <ipython-input-8-d6a2d1ea5b1b>:14] SOURCE: and what are we going to do now ? <---> PREDICTED RESPONSE: i don t know . . . <---> TARGET: we ll try again .\n",
      "[NeMo I 2020-10-09 17:53:04 <ipython-input-8-d6a2d1ea5b1b>:13] Train Loss:2.6753063201904297\n",
      "[NeMo I 2020-10-09 17:53:04 <ipython-input-8-d6a2d1ea5b1b>:14] SOURCE: really . do you think it s wrong ? <---> PREDICTED RESPONSE: no . . . . . <---> TARGET: no .\n",
      "[NeMo I 2020-10-09 17:53:04 <ipython-input-8-d6a2d1ea5b1b>:13] Train Loss:2.885138750076294\n",
      "[NeMo I 2020-10-09 17:53:04 <ipython-input-8-d6a2d1ea5b1b>:14] SOURCE: it s a plain end see ? so ? <---> PREDICTED RESPONSE: i don t know . . . <---> TARGET: take it off .\n",
      "[NeMo I 2020-10-09 17:53:04 <ipython-input-8-d6a2d1ea5b1b>:13] Train Loss:2.6587836742401123\n",
      "[NeMo I 2020-10-09 17:53:04 <ipython-input-8-d6a2d1ea5b1b>:14] SOURCE: a bereavement . a death in the family . <---> PREDICTED RESPONSE: what ? . . . . . . <---> TARGET: oh i m sorry to hear that .\n",
      "[NeMo I 2020-10-09 17:53:04 <ipython-input-8-d6a2d1ea5b1b>:13] Train Loss:2.5465247631073\n",
      "[NeMo I 2020-10-09 17:53:04 <ipython-input-8-d6a2d1ea5b1b>:14] SOURCE: i ve seen all that a hundred times . <---> PREDICTED RESPONSE: you re not leaving me ? ? . <---> TARGET: hey will you just leave me alone ?\n",
      "[NeMo I 2020-10-09 17:53:04 <ipython-input-8-d6a2d1ea5b1b>:13] Train Loss:2.69893741607666\n",
      "[NeMo I 2020-10-09 17:53:04 <ipython-input-8-d6a2d1ea5b1b>:14] SOURCE: well it s like this mr . kessler . <---> PREDICTED RESPONSE: what ? it s a lot . . <---> TARGET: brian .\n",
      "[NeMo I 2020-10-09 17:53:04 <ipython-input-8-d6a2d1ea5b1b>:13] Train Loss:2.5369489192962646\n",
      "[NeMo I 2020-10-09 17:53:04 <ipython-input-8-d6a2d1ea5b1b>:14] SOURCE: well they were right out in plain view . <---> PREDICTED RESPONSE: what ? . . . ? . <---> TARGET: behind the books .\n",
      "[NeMo I 2020-10-09 17:53:04 <ipython-input-8-d6a2d1ea5b1b>:13] Train Loss:2.647768974304199\n",
      "[NeMo I 2020-10-09 17:53:04 <ipython-input-8-d6a2d1ea5b1b>:14] SOURCE: that s great . i didn t know . <---> PREDICTED RESPONSE: what s your name ? . . <---> TARGET: she saved my life .\n",
      "[NeMo I 2020-10-09 17:53:04 <ipython-input-8-d6a2d1ea5b1b>:13] Train Loss:2.7020466327667236\n",
      "[NeMo I 2020-10-09 17:53:04 <ipython-input-8-d6a2d1ea5b1b>:14] SOURCE: and you ve got me all figured out ? <---> PREDICTED RESPONSE: i m not . . . . <---> TARGET: sure .\n",
      "[NeMo I 2020-10-09 17:53:04 <ipython-input-8-d6a2d1ea5b1b>:13] Train Loss:2.682431936264038\n",
      "[NeMo I 2020-10-09 17:53:04 <ipython-input-8-d6a2d1ea5b1b>:14] SOURCE: yes . money . which is what george ? <---> PREDICTED RESPONSE: i don t know . . . <---> TARGET: freedom .\n",
      "[NeMo I 2020-10-09 17:53:04 <ipython-input-8-d6a2d1ea5b1b>:13] Train Loss:2.6610305309295654\n",
      "[NeMo I 2020-10-09 17:53:04 <ipython-input-8-d6a2d1ea5b1b>:14] SOURCE: who else knew i had the baby ? ! <---> PREDICTED RESPONSE: i don t know . . . <---> TARGET: no one .\n",
      "[NeMo I 2020-10-09 17:53:04 <ipython-input-8-d6a2d1ea5b1b>:13] Train Loss:2.691621780395508\n",
      "[NeMo I 2020-10-09 17:53:04 <ipython-input-8-d6a2d1ea5b1b>:14] SOURCE: in england i was a poor student but i <---> PREDICTED RESPONSE: i m sorry . . . . <---> TARGET: that was england .\n",
      "[NeMo I 2020-10-09 17:53:04 <ipython-input-8-d6a2d1ea5b1b>:13] Train Loss:2.6911919116973877\n",
      "[NeMo I 2020-10-09 17:53:04 <ipython-input-8-d6a2d1ea5b1b>:14] SOURCE: well what have we here ? a family . <---> PREDICTED RESPONSE: i don t know . . . <---> TARGET: almost a christmas scene .\n",
      "[NeMo I 2020-10-09 17:53:04 <ipython-input-8-d6a2d1ea5b1b>:13] Train Loss:2.5504980087280273\n",
      "[NeMo I 2020-10-09 17:53:04 <ipython-input-8-d6a2d1ea5b1b>:14] SOURCE: it ll only work for one of us . <---> PREDICTED RESPONSE: i m sorry . . . . <---> TARGET: yes sir .\n",
      "[NeMo I 2020-10-09 17:53:04 <ipython-input-8-d6a2d1ea5b1b>:13] Train Loss:2.5575671195983887\n",
      "[NeMo I 2020-10-09 17:53:04 <ipython-input-8-d6a2d1ea5b1b>:14] SOURCE: is that what your girlfriend does for you ? <---> PREDICTED RESPONSE: no . . . . . <---> TARGET: sure . . .\n",
      "[NeMo I 2020-10-09 17:53:04 <ipython-input-8-d6a2d1ea5b1b>:13] Train Loss:2.642374038696289\n",
      "[NeMo I 2020-10-09 17:53:04 <ipython-input-8-d6a2d1ea5b1b>:14] SOURCE: i was lookin for you all day today . <---> PREDICTED RESPONSE: i don t know . . . <---> TARGET: you were ?\n",
      "[NeMo I 2020-10-09 17:53:04 <ipython-input-8-d6a2d1ea5b1b>:13] Train Loss:2.6029229164123535\n",
      "[NeMo I 2020-10-09 17:53:04 <ipython-input-8-d6a2d1ea5b1b>:14] SOURCE: . . .no she didn t . . . <---> PREDICTED RESPONSE: i m sorry . . . . . <---> TARGET: . . .yes she did .\n",
      "[NeMo I 2020-10-09 17:53:04 <ipython-input-8-d6a2d1ea5b1b>:13] Train Loss:2.6247215270996094\n",
      "[NeMo I 2020-10-09 17:53:04 <ipython-input-8-d6a2d1ea5b1b>:14] SOURCE: we re takin him . don t argue ! <---> PREDICTED RESPONSE: what ? . . . . . . <---> TARGET: he s my collar !\n",
      "[NeMo I 2020-10-09 17:53:04 <ipython-input-8-d6a2d1ea5b1b>:13] Train Loss:2.618971586227417\n",
      "[NeMo I 2020-10-09 17:53:04 <ipython-input-8-d6a2d1ea5b1b>:14] SOURCE: you don t have two million . three million <---> PREDICTED RESPONSE: i don t know . . . <---> TARGET: i ll borrow it from you . four million\n",
      "[NeMo I 2020-10-09 17:53:04 <ipython-input-8-d6a2d1ea5b1b>:13] Train Loss:2.524623155593872\n",
      "[NeMo I 2020-10-09 17:53:04 <ipython-input-8-d6a2d1ea5b1b>:14] SOURCE: you can t just stay in your house . <---> PREDICTED RESPONSE: i m sorry . . . . <---> TARGET: i know .\n",
      "[NeMo I 2020-10-09 17:53:04 <ipython-input-8-d6a2d1ea5b1b>:13] Train Loss:2.6991400718688965\n",
      "[NeMo I 2020-10-09 17:53:04 <ipython-input-8-d6a2d1ea5b1b>:14] SOURCE: you know andy thinks you re doing this . <---> PREDICTED RESPONSE: i m sorry . . . . <---> TARGET: doesn t that scare you ?\n",
      "[NeMo I 2020-10-09 17:53:04 <ipython-input-8-d6a2d1ea5b1b>:13] Train Loss:2.6708881855010986\n",
      "[NeMo I 2020-10-09 17:53:04 <ipython-input-8-d6a2d1ea5b1b>:14] SOURCE: i didn t mean for you to go ! <---> PREDICTED RESPONSE: i m sorry . . . . <---> TARGET: just radio for help okay ? ? ?\n",
      "[NeMo I 2020-10-09 17:53:04 <ipython-input-8-d6a2d1ea5b1b>:13] Train Loss:2.8072662353515625\n",
      "[NeMo I 2020-10-09 17:53:04 <ipython-input-8-d6a2d1ea5b1b>:14] SOURCE: you sure that s how you spell it ? <---> PREDICTED RESPONSE: i m not . . . . <---> TARGET: yeah .\n",
      "[NeMo I 2020-10-09 17:53:04 <ipython-input-8-d6a2d1ea5b1b>:13] Train Loss:2.6390297412872314\n",
      "[NeMo I 2020-10-09 17:53:04 <ipython-input-8-d6a2d1ea5b1b>:14] SOURCE: so i ll see you at the rehearsal . <---> PREDICTED RESPONSE: i m sorry . . . . <---> TARGET: yeah .\n",
      "[NeMo I 2020-10-09 17:53:04 <ipython-input-8-d6a2d1ea5b1b>:13] Train Loss:2.632599115371704\n",
      "[NeMo I 2020-10-09 17:53:04 <ipython-input-8-d6a2d1ea5b1b>:14] SOURCE: fine . . . i guess . you ? <---> PREDICTED RESPONSE: yeah . . . . . . . <---> TARGET: good . i think about things .\n",
      "[NeMo I 2020-10-09 17:53:04 <ipython-input-8-d6a2d1ea5b1b>:13] Train Loss:2.6055521965026855\n",
      "[NeMo I 2020-10-09 17:53:04 <ipython-input-8-d6a2d1ea5b1b>:14] SOURCE: wait here . i ll be right back . <---> PREDICTED RESPONSE: what ? . . . ? ? <---> TARGET: where would we go ?\n",
      "[NeMo I 2020-10-09 17:53:04 <ipython-input-8-d6a2d1ea5b1b>:13] Train Loss:2.660280227661133\n",
      "[NeMo I 2020-10-09 17:53:04 <ipython-input-8-d6a2d1ea5b1b>:14] SOURCE: she came to talk to me . . . <---> PREDICTED RESPONSE: i m sorry . . . . <---> TARGET: okay ?\n",
      "[NeMo I 2020-10-09 17:53:04 <ipython-input-8-d6a2d1ea5b1b>:13] Train Loss:2.574489116668701\n",
      "[NeMo I 2020-10-09 17:53:04 <ipython-input-8-d6a2d1ea5b1b>:14] SOURCE: well not yet . the gate was open ? <---> PREDICTED RESPONSE: i don t know . . . <---> TARGET: it s taken care of .\n",
      "[NeMo I 2020-10-09 17:53:04 <ipython-input-8-d6a2d1ea5b1b>:13] Train Loss:2.6359705924987793\n",
      "[NeMo I 2020-10-09 17:53:04 <ipython-input-8-d6a2d1ea5b1b>:14] SOURCE: what are they interested in . . . ? <---> PREDICTED RESPONSE: i don t know . . . <---> TARGET: wine women and song .\n",
      "[NeMo I 2020-10-09 17:53:04 <ipython-input-8-d6a2d1ea5b1b>:13] Train Loss:2.689624071121216\n",
      "[NeMo I 2020-10-09 17:53:04 <ipython-input-8-d6a2d1ea5b1b>:14] SOURCE: yes . i was on the other side . <---> PREDICTED RESPONSE: i know . you re a rifle . <---> TARGET: you came back because of me ?\n",
      "[NeMo I 2020-10-09 17:53:04 <ipython-input-8-d6a2d1ea5b1b>:13] Train Loss:2.622332811355591\n",
      "[NeMo I 2020-10-09 17:53:04 <ipython-input-8-d6a2d1ea5b1b>:14] SOURCE: that s not really a very proper question . <---> PREDICTED RESPONSE: what ? . . . ? . <---> TARGET: how old are you ?\n",
      "[NeMo I 2020-10-09 17:53:04 <ipython-input-8-d6a2d1ea5b1b>:13] Train Loss:2.5444705486297607\n",
      "[NeMo I 2020-10-09 17:53:04 <ipython-input-8-d6a2d1ea5b1b>:14] SOURCE: geez i forgot how heavy these things are . <---> PREDICTED RESPONSE: what ? . . . ? ! <---> TARGET: okay let s heat em up !\n",
      "[NeMo I 2020-10-09 17:53:04 <ipython-input-8-d6a2d1ea5b1b>:13] Train Loss:2.6890928745269775\n",
      "[NeMo I 2020-10-09 17:53:04 <ipython-input-8-d6a2d1ea5b1b>:14] SOURCE: i take out my slim jim . . . <---> PREDICTED RESPONSE: what ? . . . ? . <---> TARGET: oh god . . .\n",
      "[NeMo I 2020-10-09 17:53:04 <ipython-input-8-d6a2d1ea5b1b>:13] Train Loss:2.5788426399230957\n",
      "[NeMo I 2020-10-09 17:53:04 <ipython-input-8-d6a2d1ea5b1b>:14] SOURCE: all right . no . that s nice . <---> PREDICTED RESPONSE: what s your name ? . . <---> TARGET: if there s a train .\n",
      "[NeMo I 2020-10-09 17:53:04 <ipython-input-8-d6a2d1ea5b1b>:13] Train Loss:2.572592258453369\n",
      "[NeMo I 2020-10-09 17:53:04 <ipython-input-8-d6a2d1ea5b1b>:14] SOURCE: i m fine hal . how are you ? <---> PREDICTED RESPONSE: i m not . . . . <---> TARGET: somebody said she was here .\n",
      "[NeMo I 2020-10-09 17:53:04 <ipython-input-8-d6a2d1ea5b1b>:13] Train Loss:2.7997095584869385\n",
      "[NeMo I 2020-10-09 17:53:04 <ipython-input-8-d6a2d1ea5b1b>:14] SOURCE: i had to follow her to a store . <---> PREDICTED RESPONSE: i m sorry . . . . <---> TARGET: what s wrong with your paisley tie ?\n",
      "[NeMo I 2020-10-09 17:53:04 <ipython-input-8-d6a2d1ea5b1b>:13] Train Loss:2.545987367630005\n",
      "[NeMo I 2020-10-09 17:53:04 <ipython-input-8-d6a2d1ea5b1b>:14] SOURCE: no . it had nothing on this afternoon . <---> PREDICTED RESPONSE: what ? ? ? ? ? <---> TARGET: oh you weren t scared .\n",
      "[NeMo I 2020-10-09 17:53:04 <ipython-input-8-d6a2d1ea5b1b>:13] Train Loss:2.700650215148926\n",
      "[NeMo I 2020-10-09 17:53:04 <ipython-input-8-d6a2d1ea5b1b>:14] SOURCE: jeff again . has tom come in yet ? <---> PREDICTED RESPONSE: no . . . . . <---> TARGET: not yet jeff .\n",
      "[NeMo I 2020-10-09 17:53:04 <ipython-input-8-d6a2d1ea5b1b>:13] Train Loss:2.600351095199585\n",
      "[NeMo I 2020-10-09 17:53:04 <ipython-input-8-d6a2d1ea5b1b>:14] SOURCE: how long do you leave him in there ? <---> PREDICTED RESPONSE: i don t know . . . <---> TARGET: until he s done .\n",
      "[NeMo I 2020-10-09 17:53:04 <ipython-input-8-d6a2d1ea5b1b>:13] Train Loss:2.5984132289886475\n",
      "[NeMo I 2020-10-09 17:53:04 <ipython-input-8-d6a2d1ea5b1b>:14] SOURCE: i thought i was allowed to defend myself . <---> PREDICTED RESPONSE: i m sorry . . . . <---> TARGET: you re not allowed to lie .\n",
      "[NeMo I 2020-10-09 17:53:04 <ipython-input-8-d6a2d1ea5b1b>:13] Train Loss:2.4936509132385254\n",
      "[NeMo I 2020-10-09 17:53:04 <ipython-input-8-d6a2d1ea5b1b>:14] SOURCE: busy . but you ve got his heart . <---> PREDICTED RESPONSE: i don t know . . . <---> TARGET: i want an hour with him .\n",
      "[NeMo I 2020-10-09 17:53:04 <ipython-input-8-d6a2d1ea5b1b>:13] Train Loss:2.7349181175231934\n",
      "[NeMo I 2020-10-09 17:53:04 <ipython-input-8-d6a2d1ea5b1b>:14] SOURCE: clear the area . this is an order ! <---> PREDICTED RESPONSE: what ? ! ! ! ! <---> TARGET: what is wrong with you ?\n",
      "[NeMo I 2020-10-09 17:53:04 <ipython-input-8-d6a2d1ea5b1b>:13] Train Loss:2.561466932296753\n",
      "[NeMo I 2020-10-09 17:53:04 <ipython-input-8-d6a2d1ea5b1b>:14] SOURCE: who s setting you up in this place ? <---> PREDICTED RESPONSE: i don t know . . . <---> TARGET: brumby .\n",
      "[NeMo I 2020-10-09 17:53:04 <ipython-input-8-d6a2d1ea5b1b>:13] Train Loss:2.4714972972869873\n",
      "[NeMo I 2020-10-09 17:53:04 <ipython-input-8-d6a2d1ea5b1b>:14] SOURCE: no . . . can i come in ? <---> PREDICTED RESPONSE: no . . . . . <---> TARGET: why don t we go to your room\n",
      "[NeMo I 2020-10-09 17:53:04 <ipython-input-8-d6a2d1ea5b1b>:13] Train Loss:2.570427894592285\n",
      "[NeMo I 2020-10-09 17:53:04 <ipython-input-8-d6a2d1ea5b1b>:14] SOURCE: how do you know you can trust me ? <---> PREDICTED RESPONSE: i don t know . . . <---> TARGET: got to trust someone .\n",
      "[NeMo I 2020-10-09 17:53:04 <ipython-input-8-d6a2d1ea5b1b>:13] Train Loss:2.5043978691101074\n",
      "[NeMo I 2020-10-09 17:53:04 <ipython-input-8-d6a2d1ea5b1b>:14] SOURCE: come on jack shall we go ? ! ! <---> PREDICTED RESPONSE: i m sorry . . . . <---> TARGET: apparently so .\n",
      "[NeMo I 2020-10-09 17:53:04 <ipython-input-8-d6a2d1ea5b1b>:13] Train Loss:2.405250310897827\n",
      "[NeMo I 2020-10-09 17:53:04 <ipython-input-8-d6a2d1ea5b1b>:14] SOURCE: you mean to tell me we re dead ! <---> PREDICTED RESPONSE: i m not . . . . <---> TARGET: i guess so .\n",
      "[NeMo I 2020-10-09 17:53:04 <ipython-input-8-d6a2d1ea5b1b>:13] Train Loss:2.4471049308776855\n",
      "[NeMo I 2020-10-09 17:53:04 <ipython-input-8-d6a2d1ea5b1b>:14] SOURCE: you are one lucky sonofabitch you know that ? <---> PREDICTED RESPONSE: i m not . . . . <---> TARGET: i am ?\n",
      "[NeMo I 2020-10-09 17:53:04 <ipython-input-8-d6a2d1ea5b1b>:13] Train Loss:2.3557450771331787\n",
      "[NeMo I 2020-10-09 17:53:04 <ipython-input-8-d6a2d1ea5b1b>:14] SOURCE: well either you are or you aren t . <---> PREDICTED RESPONSE: i m sorry . . . . <---> TARGET: right .\n",
      "[NeMo I 2020-10-09 17:53:04 <ipython-input-8-d6a2d1ea5b1b>:13] Train Loss:2.5180139541625977\n",
      "[NeMo I 2020-10-09 17:53:04 <ipython-input-8-d6a2d1ea5b1b>:14] SOURCE: are you nuts ? get out of there ! <---> PREDICTED RESPONSE: i m not . . . . <---> TARGET: i m going inside .\n",
      "[NeMo I 2020-10-09 17:53:04 <ipython-input-8-d6a2d1ea5b1b>:13] Train Loss:2.5084352493286133\n",
      "[NeMo I 2020-10-09 17:53:04 <ipython-input-8-d6a2d1ea5b1b>:14] SOURCE: no ! not me ! no other people ! <---> PREDICTED RESPONSE: what ? ! ! ! ! <---> TARGET: shut up ! just shut the\n",
      "[NeMo I 2020-10-09 17:53:05 <ipython-input-8-d6a2d1ea5b1b>:13] Train Loss:2.5081803798675537\n",
      "[NeMo I 2020-10-09 17:53:05 <ipython-input-8-d6a2d1ea5b1b>:14] SOURCE: does it make you . . . hard ? <---> PREDICTED RESPONSE: yeah . . . . . . . <---> TARGET: . . . hard ?\n",
      "[NeMo I 2020-10-09 17:53:05 <ipython-input-8-d6a2d1ea5b1b>:13] Train Loss:2.4649717807769775\n",
      "[NeMo I 2020-10-09 17:53:05 <ipython-input-8-d6a2d1ea5b1b>:14] SOURCE: good answer . same goes double for me . <---> PREDICTED RESPONSE: i m sorry . . . . <---> TARGET: who s your friend ?\n",
      "[NeMo I 2020-10-09 17:53:05 <ipython-input-8-d6a2d1ea5b1b>:13] Train Loss:2.468278169631958\n",
      "[NeMo I 2020-10-09 17:53:05 <ipython-input-8-d6a2d1ea5b1b>:14] SOURCE: austin may i have a word with you ? <---> PREDICTED RESPONSE: i don t know . . . <---> TARGET: of course luv .\n",
      "[NeMo I 2020-10-09 17:53:05 <ipython-input-8-d6a2d1ea5b1b>:13] Train Loss:2.532140016555786\n",
      "[NeMo I 2020-10-09 17:53:05 <ipython-input-8-d6a2d1ea5b1b>:14] SOURCE: no . . . thanks . . . listen <---> PREDICTED RESPONSE: i m not . . . . <---> TARGET: my name is parry .\n",
      "[NeMo I 2020-10-09 17:53:05 <ipython-input-8-d6a2d1ea5b1b>:13] Train Loss:2.260477304458618\n",
      "[NeMo I 2020-10-09 17:53:05 <ipython-input-8-d6a2d1ea5b1b>:14] SOURCE: it s okay . the cops did it . <---> PREDICTED RESPONSE: what ? . . . . . . <---> TARGET: i know .\n",
      "[NeMo I 2020-10-09 17:53:05 <ipython-input-8-d6a2d1ea5b1b>:13] Train Loss:2.366523265838623\n",
      "[NeMo I 2020-10-09 17:53:05 <ipython-input-8-d6a2d1ea5b1b>:14] SOURCE: i don t wanna come along with you . <---> PREDICTED RESPONSE: i know . you can . . <---> TARGET: just say so .\n",
      "[NeMo I 2020-10-09 17:53:05 <ipython-input-8-d6a2d1ea5b1b>:13] Train Loss:2.4216229915618896\n",
      "[NeMo I 2020-10-09 17:53:05 <ipython-input-8-d6a2d1ea5b1b>:14] SOURCE: i ve never used the word insane ted . <---> PREDICTED RESPONSE: i m sorry . you re not . <---> TARGET: what word would you use elaine ?\n",
      "[NeMo I 2020-10-09 17:53:05 <ipython-input-8-d6a2d1ea5b1b>:13] Train Loss:2.433523178100586\n",
      "[NeMo I 2020-10-09 17:53:05 <ipython-input-8-d6a2d1ea5b1b>:14] SOURCE: all right everybody ! that s ten minutes ! <---> PREDICTED RESPONSE: what ? ! ! ! ! <---> TARGET: no ! let me try this !\n",
      "[NeMo I 2020-10-09 17:53:05 <ipython-input-8-d6a2d1ea5b1b>:13] Train Loss:2.3968920707702637\n",
      "[NeMo I 2020-10-09 17:53:05 <ipython-input-8-d6a2d1ea5b1b>:14] SOURCE: you ve been out for about a day . <---> PREDICTED RESPONSE: i m sorry . . . . <---> TARGET: say what ?\n",
      "[NeMo I 2020-10-09 17:53:05 <ipython-input-8-d6a2d1ea5b1b>:13] Train Loss:2.274991035461426\n",
      "[NeMo I 2020-10-09 17:53:05 <ipython-input-8-d6a2d1ea5b1b>:14] SOURCE: i was thinking of selling all the cards . <---> PREDICTED RESPONSE: i m sorry . . . . <---> TARGET: really ? no kidding ?\n",
      "[NeMo I 2020-10-09 17:53:05 <ipython-input-8-d6a2d1ea5b1b>:13] Train Loss:2.301872491836548\n",
      "[NeMo I 2020-10-09 17:53:05 <ipython-input-8-d6a2d1ea5b1b>:14] SOURCE: yeah but you you got a nice apartment . <---> PREDICTED RESPONSE: i don t know . . . <---> TARGET: i have a tiny apartment .\n",
      "[NeMo I 2020-10-09 17:53:05 <ipython-input-8-d6a2d1ea5b1b>:13] Train Loss:2.4966228008270264\n",
      "[NeMo I 2020-10-09 17:53:05 <ipython-input-8-d6a2d1ea5b1b>:14] SOURCE: no i won t let you do it . <---> PREDICTED RESPONSE: i know . i m sorry . . <---> TARGET: alex what are you doing ?\n",
      "[NeMo I 2020-10-09 17:53:05 <ipython-input-8-d6a2d1ea5b1b>:13] Train Loss:2.369938611984253\n",
      "[NeMo I 2020-10-09 17:53:05 <ipython-input-8-d6a2d1ea5b1b>:14] SOURCE: andy stop ! i think he can help you <---> PREDICTED RESPONSE: allo ? ! ! ! ! <---> TARGET: allo ?\n",
      "[NeMo I 2020-10-09 17:53:05 <ipython-input-8-d6a2d1ea5b1b>:13] Train Loss:2.3272383213043213\n",
      "[NeMo I 2020-10-09 17:53:05 <ipython-input-8-d6a2d1ea5b1b>:14] SOURCE: you can t make me do a thing . <---> PREDICTED RESPONSE: i m sorry . . . . <---> TARGET: sit down for a second .\n",
      "[NeMo I 2020-10-09 17:53:05 <ipython-input-8-d6a2d1ea5b1b>:13] Train Loss:2.420529842376709\n",
      "[NeMo I 2020-10-09 17:53:05 <ipython-input-8-d6a2d1ea5b1b>:14] SOURCE: you never could have kept this from me . <---> PREDICTED RESPONSE: i don t know . . . <---> TARGET: i was leaving .\n",
      "[NeMo I 2020-10-09 17:53:05 <ipython-input-8-d6a2d1ea5b1b>:13] Train Loss:2.451397180557251\n",
      "[NeMo I 2020-10-09 17:53:05 <ipython-input-8-d6a2d1ea5b1b>:14] SOURCE: and you did that to protect my interest ? <---> PREDICTED RESPONSE: no . i m not . . <---> TARGET: in a way yes .\n",
      "[NeMo I 2020-10-09 17:53:05 <ipython-input-8-d6a2d1ea5b1b>:13] Train Loss:2.431372880935669\n",
      "[NeMo I 2020-10-09 17:53:05 <ipython-input-8-d6a2d1ea5b1b>:14] SOURCE: tis not the time to speak of cheer . <---> PREDICTED RESPONSE: i ll be here . . . <---> TARGET: you ll visit again ?\n",
      "[NeMo I 2020-10-09 17:53:05 <ipython-input-8-d6a2d1ea5b1b>:13] Train Loss:2.238546848297119\n",
      "[NeMo I 2020-10-09 17:53:05 <ipython-input-8-d6a2d1ea5b1b>:14] SOURCE: your voice it s so familiar . . . <---> PREDICTED RESPONSE: what ? . . . . . . <---> TARGET: we have met . . .\n",
      "[NeMo I 2020-10-09 17:53:05 <ipython-input-8-d6a2d1ea5b1b>:13] Train Loss:2.164865493774414\n",
      "[NeMo I 2020-10-09 17:53:05 <ipython-input-8-d6a2d1ea5b1b>:14] SOURCE: i don t want to be just your friend <---> PREDICTED RESPONSE: you know what i m doing . . <---> TARGET: you don t know what you want\n",
      "[NeMo I 2020-10-09 17:53:05 <ipython-input-8-d6a2d1ea5b1b>:13] Train Loss:2.4855642318725586\n",
      "[NeMo I 2020-10-09 17:53:05 <ipython-input-8-d6a2d1ea5b1b>:14] SOURCE: oh i suppose you is a doctor homer ? <---> PREDICTED RESPONSE: i don t know . . . <---> TARGET: almost .\n",
      "[NeMo I 2020-10-09 17:53:05 <ipython-input-8-d6a2d1ea5b1b>:13] Train Loss:2.454925060272217\n",
      "[NeMo I 2020-10-09 17:53:05 <ipython-input-8-d6a2d1ea5b1b>:14] SOURCE: hello hello . it went well i thought . <---> PREDICTED RESPONSE: hello . . . . . <---> TARGET: very impressive ceremony . good speech .\n",
      "[NeMo I 2020-10-09 17:53:05 <ipython-input-8-d6a2d1ea5b1b>:13] Train Loss:2.4613382816314697\n",
      "[NeMo I 2020-10-09 17:53:05 <ipython-input-8-d6a2d1ea5b1b>:14] SOURCE: fire department ? firemen don t carry guns . <---> PREDICTED RESPONSE: i don t know . . . <---> TARGET: oh yeah ? guess again .\n",
      "[NeMo I 2020-10-09 17:53:05 <ipython-input-8-d6a2d1ea5b1b>:13] Train Loss:2.5438313484191895\n",
      "[NeMo I 2020-10-09 17:53:05 <ipython-input-8-d6a2d1ea5b1b>:14] SOURCE: i m sorry . i m so sorry . <---> PREDICTED RESPONSE: you re not leaving me . . . <---> TARGET: oh letty what happened ?\n",
      "[NeMo I 2020-10-09 17:53:05 <ipython-input-8-d6a2d1ea5b1b>:13] Train Loss:2.753873825073242\n",
      "[NeMo I 2020-10-09 17:53:05 <ipython-input-8-d6a2d1ea5b1b>:14] SOURCE: bobby you re in way over your head . <---> PREDICTED RESPONSE: i m not . . . . <---> TARGET: go to em jerry .\n",
      "[NeMo I 2020-10-09 17:53:05 <ipython-input-8-d6a2d1ea5b1b>:13] Train Loss:2.6906731128692627\n",
      "[NeMo I 2020-10-09 17:53:05 <ipython-input-8-d6a2d1ea5b1b>:14] SOURCE: this is sort of high class . . . <---> PREDICTED RESPONSE: i m sorry . . . . <---> TARGET: i mean porno movies .\n"
     ]
    }
   ],
   "source": [
    "for batch in range(len(result['rnn_train.inference@torch_tensor'][0])):\n",
    "    outputs2words([i[batch] for i in result['rnn_train.inference@torch_tensor']], result['rnn_train.eval_data@out_nm'].voc.index2word)"
   ]
  },
  {
   "cell_type": "markdown",
   "metadata": {},
   "source": [
    "## Chatbot model Hypyparameter Tuning\n",
    "\n",
    "If you haven't followed the `09_gquant_machine_hpo` notebook, it is recommended to go back and check it. It explains in detail how to use gQuant to perform hyperparameter tuning. We will use it to tune the hyperparameters for the chatbot model.\n",
    "\n",
    "Since the context composite node exposes the `number of layers` and `drop-out rate` as context parameters, the `hpo` `Nemo Hyper Tune Node` will do a grid search of the `number of layers` parameter and random uniform search on the `drop-out` parameter. The eval loss will be used as the hyperparameter tuning metric. \n",
    "\n",
    "In the following example, we will perform `1` sample hyperparameter tuning. Click on the `run` button to see the hyperparameter tuning in action."
   ]
  },
  {
   "cell_type": "code",
   "execution_count": 10,
   "metadata": {},
   "outputs": [
    {
     "data": {
      "application/vnd.jupyter.widget-view+json": {
       "model_id": "357d14b76d7b4bffabc17e591dc7af5c",
       "version_major": 2,
       "version_minor": 0
      },
      "text/plain": [
       "GQuantWidget(sub=HBox(), value=[OrderedDict([('id', 'rnn_train'), ('type', 'ContextCompositeNode'), ('conf', {…"
      ]
     },
     "metadata": {},
     "output_type": "display_data"
    }
   ],
   "source": [
    "taskGraph=TaskGraph.load_taskgraph('../taskgraphs/nemo_examples/chatbot_hpo.gq.yaml')\n",
    "taskGraph.draw()"
   ]
  },
  {
   "cell_type": "markdown",
   "metadata": {},
   "source": [
    "It is satisfying to see all the GPUs in the host node are busy searching for different hyperparameters. The best set of hyperparameters are reported in the end. It can also be fed back to other context composite node to use. \n",
    "\n",
    "Since we are dealing with deep learning model training, the model is trained in a batched fashion. It is sometimes wasteful to run the training to end to get a metric. Luckily, the `Ray Tune` library provides a few scheduler algorithms that can perform the early stop in the optimization process. The `Nemo Hyper Tune Node` integrates a few scheduler algorithms from the `Ray Tune` lib that are ready to be used. \n",
    "\n",
    "In the following example, we will use [ASHA](https://docs.ray.io/en/latest/tune/api_docs/schedulers.html#tune-scheduler-hyperband), a scalable algorithm for [principled early stopping](https://blog.ml.cmu.edu/2018/12/12/massively-parallel-hyperparameter-optimization/). On a high level, ASHA terminates trials that are less promising and allocates more time and resources to more promising trials. As our optimization process becomes more efficient, we can afford to increase the search space by 5x, by adjusting the parameter `num_samples`. In the following example, we use `10` as `num_samples`.\n",
    "\n",
    "Click on the `run` button to see the large scale hyperparameter search in action."
   ]
  },
  {
   "cell_type": "code",
   "execution_count": 11,
   "metadata": {
    "collapsed": true,
    "jupyter": {
     "outputs_hidden": true
    }
   },
   "outputs": [
    {
     "data": {
      "application/vnd.jupyter.widget-view+json": {
       "model_id": "8a7f8821561c49138578538642158ebb",
       "version_major": 2,
       "version_minor": 0
      },
      "text/plain": [
       "GQuantWidget(sub=HBox(), value=[OrderedDict([('id', 'rnn_train'), ('type', 'ContextCompositeNode'), ('conf', {…"
      ]
     },
     "metadata": {},
     "output_type": "display_data"
    }
   ],
   "source": [
    "taskGraph=TaskGraph.load_taskgraph('../taskgraphs/nemo_examples/chatbot_large_hpo_search.gq.yaml')\n",
    "taskGraph.draw()"
   ]
  },
  {
   "cell_type": "markdown",
   "metadata": {},
   "source": [
    "Checking the dynamically updated logs, you can see there are `20` search trails running in total because of the `10` samples and `2` types of grid search. Most of the trials are terminated early at `1` iteration. Only a few are running untill the end. \n",
    "\n",
    "After tuning is done, the best hyperparameter set is used to train the model again and run the inference. It should give a better model performance."
   ]
  },
  {
   "cell_type": "markdown",
   "metadata": {},
   "source": [
    "## Clean up"
   ]
  },
  {
   "cell_type": "code",
   "execution_count": 12,
   "metadata": {},
   "outputs": [
    {
     "data": {
      "text/plain": [
       "{'status': 'ok', 'restart': True}"
      ]
     },
     "execution_count": 12,
     "metadata": {},
     "output_type": "execute_result"
    }
   ],
   "source": [
    "import IPython\n",
    "app = IPython.Application.instance()\n",
    "app.kernel.do_shutdown(True)"
   ]
  },
  {
   "cell_type": "code",
   "execution_count": null,
   "metadata": {},
   "outputs": [],
   "source": []
  }
 ],
 "metadata": {
  "kernelspec": {
   "display_name": "Python 3",
   "language": "python",
   "name": "python3"
  },
  "language_info": {
   "codemirror_mode": {
    "name": "ipython",
    "version": 3
   },
   "file_extension": ".py",
   "mimetype": "text/x-python",
   "name": "python",
   "nbconvert_exporter": "python",
   "pygments_lexer": "ipython3",
   "version": "3.7.7"
  }
 },
 "nbformat": 4,
 "nbformat_minor": 4
}
