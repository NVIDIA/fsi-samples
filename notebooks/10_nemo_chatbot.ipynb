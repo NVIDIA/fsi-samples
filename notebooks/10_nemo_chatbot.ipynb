{
 "cells": [
  {
   "cell_type": "markdown",
   "metadata": {
    "slideshow": {
     "slide_type": "slide"
    }
   },
   "source": [
    "# gQuant NeMo Chatbot Example\n",
    "\n",
    "In the previous example notebooks, we use gQuant to perform ETL, backtesting, machine learning, hyperparameter tuning tasks. As we  see, gQuant can be extended easily for other types of workflow accelerations as long as the computation can be organized as graph computations. \n",
    "\n",
    "[NeMo](https://github.com/NVIDIA/NeMo) is a toolkit for creating Conversational AI applications. Most importantly, NeMo abstracts the neural network into neural modules with input and output ports similar to gQuant nodes. So the neural network computation is organized as a computation graph made of neural modules. Because of the similarity between gQuant node and neural modules, the neural module can be easily wrapped up into a gQuant node. NeMo is integrated into the gQuant so the neural modules can be wired, trained, inferred visually with the help of gQuant UI. \n",
    "\n",
    "In this tutorial, we will show how to use gQuant to train an RNN model for chatbot applications. \n",
    "\n",
    "## NeMo gQuant integration\n",
    "\n",
    "Convert the NeMo neural module to gQuant node is easy. gQuant provides a base NeMo node that can be used for inheritance for neural modules. The child class just need to pass in the class name of the Neural Module in the constructor. Here is one example that converts the EncoderRNN Neural Module to gQuant node.\n",
    "\n",
    "```python\n",
    "from gquant.dataframe_flow import Node\n",
    "# within <>/modules/nemo_gquant_modules\n",
    "from .nemoBaseNode import NeMoBase\n",
    "import nemo\n",
    "import nemo.backends.pytorch.tutorials\n",
    "\n",
    "\n",
    "class EncoderRNNNode(NeMoBase, Node):\n",
    "    def init(self):\n",
    "        NeMoBase.init(self, nemo.backends.pytorch.tutorials.chatbot.modules.EncoderRNN)\n",
    "```\n",
    "\n",
    "`NeMoBase` inspects the `EncoderRNN` constructor signature and converts it as node configuration JSON schema. It automatically infers the types for each of the parameters.  If the auto type inference has an error, it can be fixed by modifying the `self.fix_type` dictionary in the constructor. The keys of the dictionary are the parameter names while the values are the type strings.\n",
    "\n",
    "In the `util` directory, we provide a script `auto_gen.py` that automatically converts the NeMo Neural Modules into gQuant nodes. Currently, it converts 90% of the Neural Modules. The converted Python files are exported to the `modules` directory. gQuant by design can load any externally defined nodes by defining the node modules in the `gquantrc` file.  Here is an example `gquantrc` file that loads the converted NeMo neural module files:\n",
    "\n",
    "```ini\n",
    "nemo_modules= %(MODULEPATH)s/nemo_gquant_modules\n",
    "```\n",
    "Note, gQuant can automatically interpret the `.` in the module names to form hierarchical menus.\n",
    "\n",
    "\n",
    "## Data Preparation\n",
    "\n",
    "Let's first prepare the chatbot dataset that will be used to train an RNN model."
   ]
  },
  {
   "cell_type": "code",
   "execution_count": 1,
   "metadata": {},
   "outputs": [],
   "source": [
    "import gzip\n",
    "import os\n",
    "import shutil\n",
    "data_file = \"movie_data.txt\"\n",
    "# Download the data file.\n",
    "if not os.path.isfile(data_file):\n",
    "    with gzip.open(\"../../NeMo/tests/data/movie_lines.txt.gz\", 'rb') as f_in:\n",
    "        with open(data_file, 'wb') as f_out:\n",
    "            shutil.copyfileobj(f_in, f_out)"
   ]
  },
  {
   "cell_type": "markdown",
   "metadata": {},
   "source": [
    "It assumes you are using the docker container to run this example. The `movie_lines.txt.gz` file is located at `../../NeMo/tests/data/`. If it is not the case, the data file can be fetched by the following command.\n",
    "```bash\n",
    "wget https://github.com/NVIDIA/NeMo/raw/v0.11.1/tests/data/movie_lines.txt.gz\n",
    "gzip -d movie_lines.txt.gz\n",
    "mv movie_lines.txt movie_data.txt\n",
    "```\n",
    "\n",
    "Let's load the necessary NeMo module and gQuant module, and setup the Neural Module Factory environment. "
   ]
  },
  {
   "cell_type": "code",
   "execution_count": 2,
   "metadata": {},
   "outputs": [],
   "source": [
    "# start the neural module factory\n",
    "import nemo\n",
    "nemo.core.NeuralModuleFactory()\n",
    "import json\n",
    "from gquant.dataframe_flow import TaskGraph"
   ]
  },
  {
   "cell_type": "markdown",
   "metadata": {},
   "source": [
    "Later we will use Ray Tune for hyperparameter tuning. Let's setup the ray environment so we can utilize all the GPUs in the host node for hyperparameter search."
   ]
  },
  {
   "cell_type": "code",
   "execution_count": 3,
   "metadata": {},
   "outputs": [
    {
     "name": "stderr",
     "output_type": "stream",
     "text": [
      "2020-11-09 03:41:13,542\tINFO resource_spec.py:231 -- Starting Ray with 52.93 GiB memory available for workers and up to 26.48 GiB for objects. You can adjust these settings with ray.init(memory=<bytes>, object_store_memory=<bytes>).\n",
      "2020-11-09 03:41:14,120\tINFO services.py:1193 -- View the Ray dashboard at \u001b[1m\u001b[32m172.17.0.2:8265\u001b[39m\u001b[22m\n",
      "2020-11-09 03:41:14,123\tWARNING services.py:1567 -- WARNING: The object store is using /tmp instead of /dev/shm because /dev/shm has only 67100672 bytes available. This may slow down performance! You may be able to free up space by deleting files in /dev/shm or terminating any running plasma_store_server processes. If you are inside a Docker container, you may need to pass an argument with the flag '--shm-size' to 'docker run'.\n",
      "2020-11-09 03:41:14,142\tWARNING services.py:1567 -- WARNING: The object store is using /tmp instead of /dev/shm because /dev/shm has only 67100672 bytes available. This may slow down performance! You may be able to free up space by deleting files in /dev/shm or terminating any running plasma_store_server processes. If you are inside a Docker container, you may need to pass an argument with the flag '--shm-size' to 'docker run'.\n"
     ]
    },
    {
     "data": {
      "text/plain": [
       "{'node_ip_address': '172.17.0.2',\n",
       " 'raylet_ip_address': '172.17.0.2',\n",
       " 'redis_address': '172.17.0.2:6379',\n",
       " 'object_store_address': '/tmp/ray/session_2020-11-09_03-41-13_540966_6746/sockets/plasma_store',\n",
       " 'raylet_socket_name': '/tmp/ray/session_2020-11-09_03-41-13_540966_6746/sockets/raylet',\n",
       " 'webui_url': '172.17.0.2:8265',\n",
       " 'session_dir': '/tmp/ray/session_2020-11-09_03-41-13_540966_6746'}"
      ]
     },
     "execution_count": 3,
     "metadata": {},
     "output_type": "execute_result"
    }
   ],
   "source": [
    "import ray\n",
    "ray.init(dashboard_host='0.0.0.0')"
   ]
  },
  {
   "cell_type": "markdown",
   "metadata": {},
   "source": [
    "## Chatbot Model\n",
    "\n",
    "The chat bot model is taken from the NeMo tutorial example. It consists of a Data layer, a RNN encoder, RNN decoder for Cross Entropy loss and Greedy RNN decoder for text inference. Load the TaskGraph into gQuant:"
   ]
  },
  {
   "cell_type": "code",
   "execution_count": 4,
   "metadata": {
    "collapsed": true,
    "jupyter": {
     "outputs_hidden": true
    },
    "slideshow": {
     "slide_type": "slide"
    }
   },
   "outputs": [
    {
     "data": {
      "application/vnd.jupyter.widget-view+json": {
       "model_id": "4d76bfde7eb44de4b0a42a0437cbe056",
       "version_major": 2,
       "version_minor": 0
      },
      "text/plain": [
       "GQuantWidget(sub=HBox(), value=[OrderedDict([('id', 'data'), ('type', 'DialogDataLayerNode'), ('conf', {'batch…"
      ]
     },
     "metadata": {},
     "output_type": "display_data"
    }
   ],
   "source": [
    "taskGraph=TaskGraph.load_taskgraph('../taskgraphs/nemo_examples/chatbot_example.gq.yaml')\n",
    "taskGraph.draw()"
   ]
  },
  {
   "cell_type": "markdown",
   "metadata": {},
   "source": [
    "You may notice that each trainable neural module has an `in_nm` input port that takes a neural module as input. This input port is mainly used for sharing weights between neural modules. The gQuant Neural Module wrapper supports all 3 weight sharing mechanisms mentioned in the [NeMo documents](https://docs.nvidia.com/deeplearning/nemo/user-guide/docs/en/v0.11.0/tutorials/weightsharing.html): Module Reuse, Weight Copying, and Weight Tying. Click on the trainable neural module node above, you will see that the weight sharing method can be configured easily in a dropdown list. In the above example, the encoder and decoder modules for thes evaluation dataset reuse the encoder and decoder modules for training. The greedy decoder shares the weights with the decoder by tying the weights. \n",
    "\n",
    "All the neural modules have an `out_nm` port that outputs the neural module instance itself for other nodes to consume. For example, it can be used for weight sharing. Or, it can be used to extract other important information from the neural module. Later in the inference stage, we use the outputted data layer neural module to extract the text dictionary information. \n",
    "\n",
    "There are two special nodes in the above graph: `NeMo Train Node` and `NeMo Infer Node`. As the name indicates, they are used for training and inference for a NeMo module graph. Both nodes can connect to any number of `NmTensors` which are the outputs from the Neural Modules. In the `NeMo Train Node`, the user can specify the `NmTensor` for training loss, and a list of `NmTensors` for logging. Users can select the optimization method from a list of pre-defined optimization methods. Users can also select the `WarmUp Policy` from a list of pre-defined policies. Other configurations like the checkpoints and training epochs can be configured in a similar way. The output port of the `NeMo Train Node` is the directory for the checkpoint files. In the above example, it is used by `NeMo Infer Node` to load the checkpoint files, and run inference. \n",
    "\n",
    "Click on the `run` button to see the training and inference of this chatbot model are in action. During the run the log console has informative information from the Ray Tune library. Click one the 'list' button to see the log or you can go to \"View -> Show Log Console\". It will train 3 epochs by default. If better accuracy is needed, try to increase the number of epochs in the `NeMo Train Node` and run it again.\n",
    "\n",
    "The chatbot graph is a little complicated. We can wrap the whole computation graph into a `Context Composite Node` as explained in the `08_gquant_machine_learning` notebook. The number of layers for encoders and decoders and the drop out rate parameters are exposed as context parameters for this context composite node. We will tune these two parameters later. \n",
    "\n",
    "Load this simplified graph:"
   ]
  },
  {
   "cell_type": "code",
   "execution_count": 5,
   "metadata": {
    "slideshow": {
     "slide_type": "slide"
    }
   },
   "outputs": [
    {
     "data": {
      "application/vnd.jupyter.widget-view+json": {
       "model_id": "563bd346690e481685b72e49d23becca",
       "version_major": 2,
       "version_minor": 0
      },
      "text/plain": [
       "GQuantWidget(sub=HBox(), value=[OrderedDict([('id', 'rnn_train'), ('type', 'ContextCompositeNode'), ('conf', {…"
      ]
     },
     "metadata": {},
     "output_type": "display_data"
    }
   ],
   "source": [
    "taskGraph=TaskGraph.load_taskgraph('../taskgraphs/nemo_examples/chatbot_simplified.gq.yaml')\n",
    "taskGraph.draw()"
   ]
  },
  {
   "cell_type": "markdown",
   "metadata": {},
   "source": [
    "The context composite node output the evaluation results from the inference node and the evaluation data layer neural module for extracting the text dictionary. It produces the same result as the previous complicated graph. The graph can be run in a programmatically way. Let's verify the result by the following command: "
   ]
  },
  {
   "cell_type": "code",
   "execution_count": 6,
   "metadata": {
    "collapsed": true,
    "jupyter": {
     "outputs_hidden": true
    }
   },
   "outputs": [
    {
     "name": "stdout",
     "output_type": "stream",
     "text": [
      "[NeMo I 2020-11-09 03:44:07 data:132] Start preparing training data ...\n",
      "[NeMo I 2020-11-09 03:44:07 data:102] Reading lines...\n",
      "[NeMo I 2020-11-09 03:44:19 data:134] Read 150000 sentence pairs\n",
      "[NeMo I 2020-11-09 03:44:19 data:136] Trimmed to 43840 sentence pairs\n",
      "[NeMo I 2020-11-09 03:44:19 data:137] Counting words...\n",
      "[NeMo I 2020-11-09 03:44:19 data:141] Bad message (TypeError('not all arguments converted during string formatting')): {'name': 'nemo_logger', 'msg': 'Counted words:', 'args': (14455,), 'levelname': 'INFO', 'levelno': 20, 'pathname': '/home/quant/NeMo/nemo/backends/pytorch/tutorials/chatbot/data.py', 'filename': 'data.py', 'module': 'data', 'exc_info': None, 'exc_text': None, 'stack_info': None, 'lineno': 141, 'funcName': 'loadPrepareData', 'created': 1604893459.6826048, 'msecs': 682.6047897338867, 'relativeCreated': 193500.7767677307, 'thread': 140434525873984, 'threadName': 'MainThread', 'processName': 'MainProcess', 'process': 6746}\n",
      "[NeMo I 2020-11-09 03:44:19 data:58] keep_words 6104 / 14452 = 0.4224\n",
      "[NeMo I 2020-11-09 03:44:20 data:132] Start preparing training data ...\n",
      "[NeMo I 2020-11-09 03:44:20 data:102] Reading lines...\n",
      "[NeMo I 2020-11-09 03:44:32 data:134] Read 150000 sentence pairs\n",
      "[NeMo I 2020-11-09 03:44:32 data:136] Trimmed to 43840 sentence pairs\n",
      "[NeMo I 2020-11-09 03:44:32 data:137] Counting words...\n",
      "[NeMo I 2020-11-09 03:44:32 data:141] Bad message (TypeError('not all arguments converted during string formatting')): {'name': 'nemo_logger', 'msg': 'Counted words:', 'args': (14455,), 'levelname': 'INFO', 'levelno': 20, 'pathname': '/home/quant/NeMo/nemo/backends/pytorch/tutorials/chatbot/data.py', 'filename': 'data.py', 'module': 'data', 'exc_info': None, 'exc_text': None, 'stack_info': None, 'lineno': 141, 'funcName': 'loadPrepareData', 'created': 1604893472.618958, 'msecs': 618.9579963684082, 'relativeCreated': 206437.12997436523, 'thread': 140434525873984, 'threadName': 'MainThread', 'processName': 'MainProcess', 'process': 6746}\n",
      "[NeMo I 2020-11-09 03:44:32 data:58] keep_words 6104 / 14452 = 0.4224\n"
     ]
    },
    {
     "name": "stderr",
     "output_type": "stream",
     "text": [
      "[NeMo W 2020-11-09 03:44:33 callbacks:415] No checkpoints will be saved because step_freq and epoch_freq are both -1.\n"
     ]
    },
    {
     "name": "stdout",
     "output_type": "stream",
     "text": [
      "[NeMo I 2020-11-09 03:44:33 callbacks:534] Found 3 modules with weights:\n",
      "[NeMo I 2020-11-09 03:44:33 callbacks:536] LuongAttnDecoderRNN\n",
      "[NeMo I 2020-11-09 03:44:33 callbacks:536] GreedyLuongAttnDecoderRNN\n",
      "[NeMo I 2020-11-09 03:44:33 callbacks:536] EncoderRNN\n",
      "[NeMo I 2020-11-09 03:44:33 callbacks:537] Total model parameters: 30876086\n",
      "[NeMo I 2020-11-09 03:44:33 callbacks:473] Found checkpoint folder nemo_log. Will attempt to restore checkpoints from it.\n"
     ]
    },
    {
     "name": "stderr",
     "output_type": "stream",
     "text": [
      "[NeMo W 2020-11-09 03:44:33 callbacks:499] For module GreedyLuongAttnDecoderRNN, no file matches  in nemo_log\n",
      "[NeMo W 2020-11-09 03:44:33 callbacks:501] Checkpoint folder nemo_log was present but nothing was restored. Continuing training from random initialization.\n"
     ]
    },
    {
     "name": "stdout",
     "output_type": "stream",
     "text": [
      "[NeMo I 2020-11-09 03:44:33 callbacks:232] loss: 8.718216\n",
      "[NeMo I 2020-11-09 03:44:33 deprecated_callbacks:316] Doing Evaluation ..............................\n"
     ]
    },
    {
     "name": "stderr",
     "output_type": "stream",
     "text": [
      "2020-11-09 03:44:35,895\tWARNING session.py:14 -- Session not detected. You should not be calling this function outside `tune.run` or while using the class API. \n"
     ]
    },
    {
     "name": "stdout",
     "output_type": "stream",
     "text": [
      "eval: loss 8.26005\n",
      "[NeMo I 2020-11-09 03:44:35 deprecated_callbacks:321] Evaluation time: 2.347580671310425 seconds\n",
      "[NeMo I 2020-11-09 03:44:39 callbacks:232] loss: 4.190693\n",
      "[NeMo I 2020-11-09 03:44:39 deprecated_callbacks:316] Doing Evaluation ..............................\n"
     ]
    },
    {
     "name": "stderr",
     "output_type": "stream",
     "text": [
      "2020-11-09 03:44:41,841\tWARNING session.py:14 -- Session not detected. You should not be calling this function outside `tune.run` or while using the class API. \n"
     ]
    },
    {
     "name": "stdout",
     "output_type": "stream",
     "text": [
      "eval: loss 4.123701\n",
      "[NeMo I 2020-11-09 03:44:41 deprecated_callbacks:321] Evaluation time: 2.278665065765381 seconds\n",
      "[NeMo I 2020-11-09 03:44:46 callbacks:232] loss: 3.6708205\n",
      "[NeMo I 2020-11-09 03:44:46 deprecated_callbacks:316] Doing Evaluation ..............................\n"
     ]
    },
    {
     "name": "stderr",
     "output_type": "stream",
     "text": [
      "2020-11-09 03:44:49,377\tWARNING session.py:14 -- Session not detected. You should not be calling this function outside `tune.run` or while using the class API. \n"
     ]
    },
    {
     "name": "stdout",
     "output_type": "stream",
     "text": [
      "eval: loss 3.6907465\n",
      "[NeMo I 2020-11-09 03:44:49 deprecated_callbacks:321] Evaluation time: 2.5818610191345215 seconds\n",
      "[NeMo I 2020-11-09 03:44:53 callbacks:232] loss: 3.585144\n",
      "[NeMo I 2020-11-09 03:44:53 deprecated_callbacks:316] Doing Evaluation ..............................\n"
     ]
    },
    {
     "name": "stderr",
     "output_type": "stream",
     "text": [
      "2020-11-09 03:44:56,023\tWARNING session.py:14 -- Session not detected. You should not be calling this function outside `tune.run` or while using the class API. \n"
     ]
    },
    {
     "name": "stdout",
     "output_type": "stream",
     "text": [
      "eval: loss 3.4861107\n",
      "[NeMo I 2020-11-09 03:44:56 deprecated_callbacks:321] Evaluation time: 2.264796257019043 seconds\n",
      "[NeMo I 2020-11-09 03:45:01 callbacks:232] loss: 3.5408874\n",
      "[NeMo I 2020-11-09 03:45:01 deprecated_callbacks:316] Doing Evaluation ..............................\n"
     ]
    },
    {
     "name": "stderr",
     "output_type": "stream",
     "text": [
      "2020-11-09 03:45:03,853\tWARNING session.py:14 -- Session not detected. You should not be calling this function outside `tune.run` or while using the class API. \n"
     ]
    },
    {
     "name": "stdout",
     "output_type": "stream",
     "text": [
      "eval: loss 3.3057895\n",
      "[NeMo I 2020-11-09 03:45:03 deprecated_callbacks:321] Evaluation time: 2.5809037685394287 seconds\n",
      "[NeMo I 2020-11-09 03:45:09 callbacks:232] loss: 3.1828606\n",
      "[NeMo I 2020-11-09 03:45:09 deprecated_callbacks:316] Doing Evaluation ..............................\n"
     ]
    },
    {
     "name": "stderr",
     "output_type": "stream",
     "text": [
      "2020-11-09 03:45:11,479\tWARNING session.py:14 -- Session not detected. You should not be calling this function outside `tune.run` or while using the class API. \n"
     ]
    },
    {
     "name": "stdout",
     "output_type": "stream",
     "text": [
      "eval: loss 3.1178234\n",
      "[NeMo I 2020-11-09 03:45:11 deprecated_callbacks:321] Evaluation time: 2.2888317108154297 seconds\n",
      "[NeMo I 2020-11-09 03:45:16 callbacks:232] loss: 3.1866925\n",
      "[NeMo I 2020-11-09 03:45:16 deprecated_callbacks:316] Doing Evaluation ..............................\n"
     ]
    },
    {
     "name": "stderr",
     "output_type": "stream",
     "text": [
      "2020-11-09 03:45:19,076\tWARNING session.py:14 -- Session not detected. You should not be calling this function outside `tune.run` or while using the class API. \n"
     ]
    },
    {
     "name": "stdout",
     "output_type": "stream",
     "text": [
      "eval: loss 2.9714723\n",
      "[NeMo I 2020-11-09 03:45:19 deprecated_callbacks:321] Evaluation time: 2.3022356033325195 seconds\n",
      "[NeMo I 2020-11-09 03:45:22 callbacks:232] loss: 2.9511797\n",
      "[NeMo I 2020-11-09 03:45:22 deprecated_callbacks:316] Doing Evaluation ..............................\n"
     ]
    },
    {
     "name": "stderr",
     "output_type": "stream",
     "text": [
      "2020-11-09 03:45:24,450\tWARNING session.py:14 -- Session not detected. You should not be calling this function outside `tune.run` or while using the class API. \n"
     ]
    },
    {
     "name": "stdout",
     "output_type": "stream",
     "text": [
      "eval: loss 2.823346\n",
      "[NeMo I 2020-11-09 03:45:24 deprecated_callbacks:321] Evaluation time: 2.269866704940796 seconds\n",
      "[NeMo I 2020-11-09 03:45:29 callbacks:232] loss: 2.7457914\n",
      "[NeMo I 2020-11-09 03:45:29 deprecated_callbacks:316] Doing Evaluation ..............................\n"
     ]
    },
    {
     "name": "stderr",
     "output_type": "stream",
     "text": [
      "2020-11-09 03:45:32,248\tWARNING session.py:14 -- Session not detected. You should not be calling this function outside `tune.run` or while using the class API. \n"
     ]
    },
    {
     "name": "stdout",
     "output_type": "stream",
     "text": [
      "eval: loss 2.6377351\n",
      "[NeMo I 2020-11-09 03:45:32 deprecated_callbacks:321] Evaluation time: 2.297018527984619 seconds\n",
      "[NeMo I 2020-11-09 03:45:33 deprecated_callbacks:339] Final Evaluation ..............................\n"
     ]
    },
    {
     "name": "stderr",
     "output_type": "stream",
     "text": [
      "2020-11-09 03:45:35,703\tWARNING session.py:14 -- Session not detected. You should not be calling this function outside `tune.run` or while using the class API. \n"
     ]
    },
    {
     "name": "stdout",
     "output_type": "stream",
     "text": [
      "eval: loss 2.627568\n",
      "[NeMo I 2020-11-09 03:45:35 deprecated_callbacks:344] Evaluation time: 2.461597204208374 seconds\n",
      "[NeMo I 2020-11-09 03:45:35 actions:695] Evaluating batch 0 out of 273\n",
      "[NeMo I 2020-11-09 03:45:36 actions:695] Evaluating batch 27 out of 273\n",
      "[NeMo I 2020-11-09 03:45:37 actions:695] Evaluating batch 54 out of 273\n",
      "[NeMo I 2020-11-09 03:45:38 actions:695] Evaluating batch 81 out of 273\n",
      "[NeMo I 2020-11-09 03:45:39 actions:695] Evaluating batch 108 out of 273\n",
      "[NeMo I 2020-11-09 03:45:40 actions:695] Evaluating batch 135 out of 273\n",
      "[NeMo I 2020-11-09 03:45:41 actions:695] Evaluating batch 162 out of 273\n",
      "[NeMo I 2020-11-09 03:45:42 actions:695] Evaluating batch 189 out of 273\n",
      "[NeMo I 2020-11-09 03:45:43 actions:695] Evaluating batch 216 out of 273\n",
      "[NeMo I 2020-11-09 03:45:44 actions:695] Evaluating batch 243 out of 273\n",
      "[NeMo I 2020-11-09 03:45:45 actions:695] Evaluating batch 270 out of 273\n"
     ]
    }
   ],
   "source": [
    "result = taskGraph.run()"
   ]
  },
  {
   "cell_type": "markdown",
   "metadata": {},
   "source": [
    "The graph computation results are stored in the `result` variable. It can be used as a named tuple or a dictionary. The keys of the result dictionary can be queried by the following command:|"
   ]
  },
  {
   "cell_type": "code",
   "execution_count": 7,
   "metadata": {},
   "outputs": [
    {
     "data": {
      "text/plain": [
       "('rnn_train.inference@torch_tensor', 'rnn_train.eval_data@out_nm')"
      ]
     },
     "execution_count": 7,
     "metadata": {},
     "output_type": "execute_result"
    }
   ],
   "source": [
    "result.get_keys()"
   ]
  },
  {
   "cell_type": "markdown",
   "metadata": {},
   "source": [
    "The evaluated greedy tensors are indices of the predicted letters in the dictionary. We can translate the numbers to human-readable texts by the following convenient function:"
   ]
  },
  {
   "cell_type": "code",
   "execution_count": 8,
   "metadata": {},
   "outputs": [],
   "source": [
    "from nemo.utils import logging\n",
    "# Define the callback function which prints intermediate results to console.\n",
    "def outputs2words(tensors, vocab):\n",
    "    source_ids = tensors[1][:, 0].cpu().numpy().tolist()\n",
    "    response_ids = tensors[2][:, 0].cpu().numpy().tolist()\n",
    "    tgt_ids = tensors[3][:, 0].cpu().numpy().tolist()\n",
    "    source = list(map(lambda x: vocab[x], source_ids))\n",
    "    response = list(map(lambda x: vocab[x], response_ids))\n",
    "    target = list(map(lambda x: vocab[x], tgt_ids))\n",
    "    source = ' '.join([s for s in source if s != 'EOS' and s != 'PAD'])\n",
    "    response = ' '.join([s for s in response if s != 'EOS' and s != 'PAD'])\n",
    "    target = ' '.join([s for s in target if s != 'EOS' and s != 'PAD'])\n",
    "    logging.info(f\"Train Loss:{str(tensors[0].item())}\")\n",
    "    logging.info(f\"SOURCE: {source} <---> PREDICTED RESPONSE: {response} \" f\"<---> TARGET: {target}\")"
   ]
  },
  {
   "cell_type": "markdown",
   "metadata": {},
   "source": [
    "We are ready to check the quality of the model performance. Note, by default, only 3 epochs are trained. For better performance, please increase the number of epochs."
   ]
  },
  {
   "cell_type": "code",
   "execution_count": 9,
   "metadata": {},
   "outputs": [
    {
     "name": "stdout",
     "output_type": "stream",
     "text": [
      "[NeMo I 2020-11-09 03:45:56 <ipython-input-8-d6a2d1ea5b1b>:13] Train Loss:2.7109627723693848\n",
      "[NeMo I 2020-11-09 03:45:56 <ipython-input-8-d6a2d1ea5b1b>:14] SOURCE: i told you i m looking for someone . <---> PREDICTED RESPONSE: you re not . you ? me ? <---> TARGET: in the cars too ? !\n",
      "[NeMo I 2020-11-09 03:45:56 <ipython-input-8-d6a2d1ea5b1b>:13] Train Loss:2.756969928741455\n",
      "[NeMo I 2020-11-09 03:45:56 <ipython-input-8-d6a2d1ea5b1b>:14] SOURCE: your wheel dude ! i m rolling out ! <---> PREDICTED RESPONSE: you re not . you ! ? <---> TARGET: what the fuck ?\n",
      "[NeMo I 2020-11-09 03:45:56 <ipython-input-8-d6a2d1ea5b1b>:13] Train Loss:2.7450406551361084\n",
      "[NeMo I 2020-11-09 03:45:56 <ipython-input-8-d6a2d1ea5b1b>:14] SOURCE: relax you need to chill the fuck out . <---> PREDICTED RESPONSE: i m sorry . you home . ? <---> TARGET: highway to hell highway to hell .\n",
      "[NeMo I 2020-11-09 03:45:56 <ipython-input-8-d6a2d1ea5b1b>:13] Train Loss:2.7304885387420654\n",
      "[NeMo I 2020-11-09 03:45:56 <ipython-input-8-d6a2d1ea5b1b>:14] SOURCE: check this out . y know sal s . <---> PREDICTED RESPONSE: i m sorry . you home . ? <---> TARGET: yeah i know dat motherfucker .\n",
      "[NeMo I 2020-11-09 03:45:56 <ipython-input-8-d6a2d1ea5b1b>:13] Train Loss:2.6222524642944336\n",
      "[NeMo I 2020-11-09 03:45:56 <ipython-input-8-d6a2d1ea5b1b>:14] SOURCE: women ? no . . . not really . <---> PREDICTED RESPONSE: why ? you ? me ? me <---> TARGET: why not ?\n",
      "[NeMo I 2020-11-09 03:45:56 <ipython-input-8-d6a2d1ea5b1b>:13] Train Loss:2.5930676460266113\n",
      "[NeMo I 2020-11-09 03:45:56 <ipython-input-8-d6a2d1ea5b1b>:14] SOURCE: cool . so you re living up north ? <---> PREDICTED RESPONSE: yeah . you . me home . <---> TARGET: yeah\n",
      "[NeMo I 2020-11-09 03:45:56 <ipython-input-8-d6a2d1ea5b1b>:13] Train Loss:2.839690685272217\n",
      "[NeMo I 2020-11-09 03:45:56 <ipython-input-8-d6a2d1ea5b1b>:14] SOURCE: you can go to your grave not knowing . <---> PREDICTED RESPONSE: no . you . me ? ? <---> TARGET: that s fair .\n",
      "[NeMo I 2020-11-09 03:45:56 <ipython-input-8-d6a2d1ea5b1b>:13] Train Loss:2.642540693283081\n",
      "[NeMo I 2020-11-09 03:45:56 <ipython-input-8-d6a2d1ea5b1b>:14] SOURCE: chang s first question was about the pilot . <---> PREDICTED RESPONSE: yes . you ? me ? me <---> TARGET: uh huh .\n",
      "[NeMo I 2020-11-09 03:45:56 <ipython-input-8-d6a2d1ea5b1b>:13] Train Loss:2.817174196243286\n",
      "[NeMo I 2020-11-09 03:45:56 <ipython-input-8-d6a2d1ea5b1b>:14] SOURCE: that place is four hundred dollars a month ? <---> PREDICTED RESPONSE: yes . you . me home . <---> TARGET: yes it is .\n",
      "[NeMo I 2020-11-09 03:45:56 <ipython-input-8-d6a2d1ea5b1b>:13] Train Loss:2.934948205947876\n",
      "[NeMo I 2020-11-09 03:45:56 <ipython-input-8-d6a2d1ea5b1b>:14] SOURCE: you need the money just like we do . <---> PREDICTED RESPONSE: no . you ? me ? me <---> TARGET: shut up violet .\n",
      "[NeMo I 2020-11-09 03:45:56 <ipython-input-8-d6a2d1ea5b1b>:13] Train Loss:2.790698766708374\n",
      "[NeMo I 2020-11-09 03:45:56 <ipython-input-8-d6a2d1ea5b1b>:14] SOURCE: well i m done . are you done ? <---> PREDICTED RESPONSE: yeah . you home . me ? <---> TARGET: no\n",
      "[NeMo I 2020-11-09 03:45:56 <ipython-input-8-d6a2d1ea5b1b>:13] Train Loss:2.7591817378997803\n",
      "[NeMo I 2020-11-09 03:45:56 <ipython-input-8-d6a2d1ea5b1b>:14] SOURCE: who s setting you up in this place ? <---> PREDICTED RESPONSE: i m sorry . you . me ? <---> TARGET: brumby .\n",
      "[NeMo I 2020-11-09 03:45:56 <ipython-input-8-d6a2d1ea5b1b>:13] Train Loss:2.811413288116455\n",
      "[NeMo I 2020-11-09 03:45:56 <ipython-input-8-d6a2d1ea5b1b>:14] SOURCE: then you can expect me at tomorrow morning . <---> PREDICTED RESPONSE: i m not sure . you ? me <---> TARGET: and this is legitimate therapy ?\n",
      "[NeMo I 2020-11-09 03:45:56 <ipython-input-8-d6a2d1ea5b1b>:13] Train Loss:2.837139368057251\n",
      "[NeMo I 2020-11-09 03:45:56 <ipython-input-8-d6a2d1ea5b1b>:14] SOURCE: everybody is at home it s no good . <---> PREDICTED RESPONSE: you re not going to be here . me <---> TARGET: let s have a look anyway .\n",
      "[NeMo I 2020-11-09 03:45:56 <ipython-input-8-d6a2d1ea5b1b>:13] Train Loss:2.730541944503784\n",
      "[NeMo I 2020-11-09 03:45:56 <ipython-input-8-d6a2d1ea5b1b>:14] SOURCE: i ve never used the word insane ted . <---> PREDICTED RESPONSE: you re not . you home . ? <---> TARGET: what word would you use elaine ?\n",
      "[NeMo I 2020-11-09 03:45:56 <ipython-input-8-d6a2d1ea5b1b>:13] Train Loss:2.763209581375122\n",
      "[NeMo I 2020-11-09 03:45:56 <ipython-input-8-d6a2d1ea5b1b>:14] SOURCE: nothing is going on with us is it ? <---> PREDICTED RESPONSE: yes . you know that . ? <---> TARGET: going on ?\n",
      "[NeMo I 2020-11-09 03:45:56 <ipython-input-8-d6a2d1ea5b1b>:13] Train Loss:2.718960762023926\n",
      "[NeMo I 2020-11-09 03:45:56 <ipython-input-8-d6a2d1ea5b1b>:14] SOURCE: i got a way we make everybody happy . <---> PREDICTED RESPONSE: you re not . you ? me ? <---> TARGET: yeah .\n",
      "[NeMo I 2020-11-09 03:45:56 <ipython-input-8-d6a2d1ea5b1b>:13] Train Loss:2.722612142562866\n",
      "[NeMo I 2020-11-09 03:45:56 <ipython-input-8-d6a2d1ea5b1b>:14] SOURCE: but you love him don t you saunders ? <---> PREDICTED RESPONSE: no . you . me ? me <---> TARGET: what are you talking about ? what difference ?\n",
      "[NeMo I 2020-11-09 03:45:56 <ipython-input-8-d6a2d1ea5b1b>:13] Train Loss:2.8140487670898438\n",
      "[NeMo I 2020-11-09 03:45:56 <ipython-input-8-d6a2d1ea5b1b>:14] SOURCE: . . . aye sir . . . ? <---> PREDICTED RESPONSE: yeah . you . me . ? <---> TARGET: what is our condition ?\n",
      "[NeMo I 2020-11-09 03:45:56 <ipython-input-8-d6a2d1ea5b1b>:13] Train Loss:2.8564846515655518\n",
      "[NeMo I 2020-11-09 03:45:56 <ipython-input-8-d6a2d1ea5b1b>:14] SOURCE: god you . . . you re mean . <---> PREDICTED RESPONSE: i m sorry . you . ? <---> TARGET: i know . will you please leave now ?\n",
      "[NeMo I 2020-11-09 03:45:56 <ipython-input-8-d6a2d1ea5b1b>:13] Train Loss:2.7251901626586914\n",
      "[NeMo I 2020-11-09 03:45:56 <ipython-input-8-d6a2d1ea5b1b>:14] SOURCE: philip what are u you u doing here ? <---> PREDICTED RESPONSE: i m sorry . you . ? <---> TARGET: look i think we should work things out .\n",
      "[NeMo I 2020-11-09 03:45:56 <ipython-input-8-d6a2d1ea5b1b>:13] Train Loss:2.872415542602539\n",
      "[NeMo I 2020-11-09 03:45:56 <ipython-input-8-d6a2d1ea5b1b>:14] SOURCE: don t mess with me . how much ? <---> PREDICTED RESPONSE: he s dead . care . ? <---> TARGET: five bills .\n",
      "[NeMo I 2020-11-09 03:45:56 <ipython-input-8-d6a2d1ea5b1b>:13] Train Loss:2.840200901031494\n",
      "[NeMo I 2020-11-09 03:45:56 <ipython-input-8-d6a2d1ea5b1b>:14] SOURCE: what if captain dawson had come with me ? <---> PREDICTED RESPONSE: he s dead . it . ? <---> TARGET: it would have been really embarrassing !\n",
      "[NeMo I 2020-11-09 03:45:56 <ipython-input-8-d6a2d1ea5b1b>:13] Train Loss:2.8905913829803467\n",
      "[NeMo I 2020-11-09 03:45:56 <ipython-input-8-d6a2d1ea5b1b>:14] SOURCE: that s the way i see it too . <---> PREDICTED RESPONSE: you re not . you ? me ? <---> TARGET: call me later .\n",
      "[NeMo I 2020-11-09 03:45:56 <ipython-input-8-d6a2d1ea5b1b>:13] Train Loss:2.8012564182281494\n",
      "[NeMo I 2020-11-09 03:45:56 <ipython-input-8-d6a2d1ea5b1b>:14] SOURCE: they don t build them like this anymore . <---> PREDICTED RESPONSE: no . you . me home ? <---> TARGET: suppose not .\n",
      "[NeMo I 2020-11-09 03:45:56 <ipython-input-8-d6a2d1ea5b1b>:13] Train Loss:2.5743472576141357\n",
      "[NeMo I 2020-11-09 03:45:56 <ipython-input-8-d6a2d1ea5b1b>:14] SOURCE: well how do you feel about him then ? <---> PREDICTED RESPONSE: i don t know . you . ? <---> TARGET: i don t .\n",
      "[NeMo I 2020-11-09 03:45:56 <ipython-input-8-d6a2d1ea5b1b>:13] Train Loss:2.6988062858581543\n",
      "[NeMo I 2020-11-09 03:45:56 <ipython-input-8-d6a2d1ea5b1b>:14] SOURCE: can i beg for mercy on my knees ? <---> PREDICTED RESPONSE: no . you . me home ? <---> TARGET: if you want to be found that way .\n",
      "[NeMo I 2020-11-09 03:45:56 <ipython-input-8-d6a2d1ea5b1b>:13] Train Loss:2.788132667541504\n",
      "[NeMo I 2020-11-09 03:45:56 <ipython-input-8-d6a2d1ea5b1b>:14] SOURCE: no television forget the homework no phone calls . <---> PREDICTED RESPONSE: no . you . me ? ? <---> TARGET: no mother . yes mother . no mother .\n",
      "[NeMo I 2020-11-09 03:45:56 <ipython-input-8-d6a2d1ea5b1b>:13] Train Loss:2.8903234004974365\n",
      "[NeMo I 2020-11-09 03:45:56 <ipython-input-8-d6a2d1ea5b1b>:14] SOURCE: next time lets put some money on it . <---> PREDICTED RESPONSE: no . it up . it ! <---> TARGET: get him home safe .\n",
      "[NeMo I 2020-11-09 03:45:56 <ipython-input-8-d6a2d1ea5b1b>:13] Train Loss:2.7305991649627686\n",
      "[NeMo I 2020-11-09 03:45:56 <ipython-input-8-d6a2d1ea5b1b>:14] SOURCE: it s not me it s my wife . <---> PREDICTED RESPONSE: it s not your fault . it . <---> TARGET: what is ?\n",
      "[NeMo I 2020-11-09 03:45:56 <ipython-input-8-d6a2d1ea5b1b>:13] Train Loss:2.8364481925964355\n",
      "[NeMo I 2020-11-09 03:45:56 <ipython-input-8-d6a2d1ea5b1b>:14] SOURCE: there s a young girl to see you . <---> PREDICTED RESPONSE: what ? me in there ? me ? <---> TARGET: what does she want ?\n",
      "[NeMo I 2020-11-09 03:45:56 <ipython-input-8-d6a2d1ea5b1b>:13] Train Loss:2.7850351333618164\n",
      "[NeMo I 2020-11-09 03:45:56 <ipython-input-8-d6a2d1ea5b1b>:14] SOURCE: so you re going to be a grandfather . <---> PREDICTED RESPONSE: yes . you . me home . <---> TARGET: and i m still just a lad myself .\n",
      "[NeMo I 2020-11-09 03:45:56 <ipython-input-8-d6a2d1ea5b1b>:13] Train Loss:2.8497297763824463\n",
      "[NeMo I 2020-11-09 03:45:56 <ipython-input-8-d6a2d1ea5b1b>:14] SOURCE: press a button and they give us money . <---> PREDICTED RESPONSE: no . you . me ? ? <---> TARGET: ride with me . we need a haircut .\n",
      "[NeMo I 2020-11-09 03:45:56 <ipython-input-8-d6a2d1ea5b1b>:13] Train Loss:2.8256678581237793\n",
      "[NeMo I 2020-11-09 03:45:56 <ipython-input-8-d6a2d1ea5b1b>:14] SOURCE: it doesn t exactly play like dumb panic . <---> PREDICTED RESPONSE: it s not your fault . me ? <---> TARGET: what do you mean ?\n",
      "[NeMo I 2020-11-09 03:45:56 <ipython-input-8-d6a2d1ea5b1b>:13] Train Loss:2.8033061027526855\n",
      "[NeMo I 2020-11-09 03:45:56 <ipython-input-8-d6a2d1ea5b1b>:14] SOURCE: oh god ! give me the fuckin name ! <---> PREDICTED RESPONSE: no ! t ! me ! ! <---> TARGET: ch charlie m !\n",
      "[NeMo I 2020-11-09 03:45:56 <ipython-input-8-d6a2d1ea5b1b>:13] Train Loss:2.8309404850006104\n",
      "[NeMo I 2020-11-09 03:45:56 <ipython-input-8-d6a2d1ea5b1b>:14] SOURCE: i understand you were in africa . whereabouts ? <---> PREDICTED RESPONSE: yes . you . me home . <---> TARGET: oh all over .\n",
      "[NeMo I 2020-11-09 03:45:56 <ipython-input-8-d6a2d1ea5b1b>:13] Train Loss:2.8502368927001953\n",
      "[NeMo I 2020-11-09 03:45:56 <ipython-input-8-d6a2d1ea5b1b>:14] SOURCE: it s what they want you to see . <---> PREDICTED RESPONSE: you re not . you ? me ? <---> TARGET: this is the way in ?\n",
      "[NeMo I 2020-11-09 03:45:56 <ipython-input-8-d6a2d1ea5b1b>:13] Train Loss:2.874704122543335\n",
      "[NeMo I 2020-11-09 03:45:56 <ipython-input-8-d6a2d1ea5b1b>:14] SOURCE: oh jeez benjie . well here you are . <---> PREDICTED RESPONSE: yes . you ? me ? me <---> TARGET: damn right but where the hell were you ?\n",
      "[NeMo I 2020-11-09 03:45:56 <ipython-input-8-d6a2d1ea5b1b>:13] Train Loss:2.835240602493286\n",
      "[NeMo I 2020-11-09 03:45:56 <ipython-input-8-d6a2d1ea5b1b>:14] SOURCE: if i may be so bold . . . <---> PREDICTED RESPONSE: you re not going to get out of here . <---> TARGET: for the gods spit it out !\n",
      "[NeMo I 2020-11-09 03:45:56 <ipython-input-8-d6a2d1ea5b1b>:13] Train Loss:2.9504384994506836\n",
      "[NeMo I 2020-11-09 03:45:56 <ipython-input-8-d6a2d1ea5b1b>:14] SOURCE: hey lainey . how s your love life ? <---> PREDICTED RESPONSE: oh . you . ? me ? <---> TARGET: i do okay . how about you ?\n",
      "[NeMo I 2020-11-09 03:45:56 <ipython-input-8-d6a2d1ea5b1b>:13] Train Loss:2.8748159408569336\n",
      "[NeMo I 2020-11-09 03:45:56 <ipython-input-8-d6a2d1ea5b1b>:14] SOURCE: maybe i ll bring him some food by . <---> PREDICTED RESPONSE: you re not . you . ? <---> TARGET: thank you for walking him .\n",
      "[NeMo I 2020-11-09 03:45:56 <ipython-input-8-d6a2d1ea5b1b>:13] Train Loss:2.868887186050415\n",
      "[NeMo I 2020-11-09 03:45:56 <ipython-input-8-d6a2d1ea5b1b>:14] SOURCE: no no the wealth was all mother s . <---> PREDICTED RESPONSE: no . you . me ? ? <---> TARGET: but your father he runs stuff he\n",
      "[NeMo I 2020-11-09 03:45:56 <ipython-input-8-d6a2d1ea5b1b>:13] Train Loss:2.8274152278900146\n",
      "[NeMo I 2020-11-09 03:45:56 <ipython-input-8-d6a2d1ea5b1b>:14] SOURCE: we been seein you all along the way . <---> PREDICTED RESPONSE: no . you . me ? ? <---> TARGET: yeah . i been seein you too .\n",
      "[NeMo I 2020-11-09 03:45:56 <ipython-input-8-d6a2d1ea5b1b>:13] Train Loss:2.8165736198425293\n",
      "[NeMo I 2020-11-09 03:45:56 <ipython-input-8-d6a2d1ea5b1b>:14] SOURCE: how long is this going to go on ? <---> PREDICTED RESPONSE: i don t know . t . it <---> TARGET: what ?\n",
      "[NeMo I 2020-11-09 03:45:56 <ipython-input-8-d6a2d1ea5b1b>:13] Train Loss:2.8669216632843018\n",
      "[NeMo I 2020-11-09 03:45:56 <ipython-input-8-d6a2d1ea5b1b>:14] SOURCE: no . it had nothing on this afternoon . <---> PREDICTED RESPONSE: no . you . me ? ? <---> TARGET: oh you weren t scared .\n",
      "[NeMo I 2020-11-09 03:45:56 <ipython-input-8-d6a2d1ea5b1b>:13] Train Loss:2.929400682449341\n",
      "[NeMo I 2020-11-09 03:45:56 <ipython-input-8-d6a2d1ea5b1b>:14] SOURCE: i ll be gone two or three weeks . <---> PREDICTED RESPONSE: you re not . you ? me ? <---> TARGET: you ll be gone period .\n",
      "[NeMo I 2020-11-09 03:45:56 <ipython-input-8-d6a2d1ea5b1b>:13] Train Loss:2.719485282897949\n",
      "[NeMo I 2020-11-09 03:45:56 <ipython-input-8-d6a2d1ea5b1b>:14] SOURCE: christ you scared the shit out of me . <---> PREDICTED RESPONSE: yes . you . me home ? <---> TARGET: aw you ain t seen nothing yet .\n",
      "[NeMo I 2020-11-09 03:45:56 <ipython-input-8-d6a2d1ea5b1b>:13] Train Loss:2.8118960857391357\n",
      "[NeMo I 2020-11-09 03:45:56 <ipython-input-8-d6a2d1ea5b1b>:14] SOURCE: you could be more right than you know . <---> PREDICTED RESPONSE: i m not sure . you ? me <---> TARGET: yes ?\n",
      "[NeMo I 2020-11-09 03:45:56 <ipython-input-8-d6a2d1ea5b1b>:13] Train Loss:2.912598133087158\n",
      "[NeMo I 2020-11-09 03:45:56 <ipython-input-8-d6a2d1ea5b1b>:14] SOURCE: mr . powell ! willa has run away ! <---> PREDICTED RESPONSE: yes ! ! ! ! ! <---> TARGET: i ll be switched ! . . .\n",
      "[NeMo I 2020-11-09 03:45:56 <ipython-input-8-d6a2d1ea5b1b>:13] Train Loss:2.8377442359924316\n",
      "[NeMo I 2020-11-09 03:45:56 <ipython-input-8-d6a2d1ea5b1b>:14] SOURCE: shhh . slow down bob . drive natural . <---> PREDICTED RESPONSE: yes . you . me ? ? <---> TARGET: this is natural .\n",
      "[NeMo I 2020-11-09 03:45:56 <ipython-input-8-d6a2d1ea5b1b>:13] Train Loss:2.805896520614624\n",
      "[NeMo I 2020-11-09 03:45:56 <ipython-input-8-d6a2d1ea5b1b>:14] SOURCE: the play s going to be really good . <---> PREDICTED RESPONSE: i m sorry . you . ? <---> TARGET: i m really glad you think so .\n",
      "[NeMo I 2020-11-09 03:45:56 <ipython-input-8-d6a2d1ea5b1b>:13] Train Loss:2.7758448123931885\n",
      "[NeMo I 2020-11-09 03:45:56 <ipython-input-8-d6a2d1ea5b1b>:14] SOURCE: but it s so far away . . . <---> PREDICTED RESPONSE: yes . you . me home . <---> TARGET: that s rather nice isn t it ?\n",
      "[NeMo I 2020-11-09 03:45:56 <ipython-input-8-d6a2d1ea5b1b>:13] Train Loss:2.785259485244751\n",
      "[NeMo I 2020-11-09 03:45:56 <ipython-input-8-d6a2d1ea5b1b>:14] SOURCE: or her or her or any of them ? <---> PREDICTED RESPONSE: no . you . him . ? <---> TARGET: claudia you torture yourself .\n",
      "[NeMo I 2020-11-09 03:45:56 <ipython-input-8-d6a2d1ea5b1b>:13] Train Loss:2.7832658290863037\n",
      "[NeMo I 2020-11-09 03:45:56 <ipython-input-8-d6a2d1ea5b1b>:14] SOURCE: herb . u i have to go u . <---> PREDICTED RESPONSE: you re not . ? ? ? <---> TARGET: why ?\n",
      "[NeMo I 2020-11-09 03:45:56 <ipython-input-8-d6a2d1ea5b1b>:13] Train Loss:2.8510847091674805\n",
      "[NeMo I 2020-11-09 03:45:56 <ipython-input-8-d6a2d1ea5b1b>:14] SOURCE: stop talking like a monk ! just fight ! <---> PREDICTED RESPONSE: what ? me ! ! ! <---> TARGET: then tell me where jade fox is .\n",
      "[NeMo I 2020-11-09 03:45:56 <ipython-input-8-d6a2d1ea5b1b>:13] Train Loss:2.7891905307769775\n",
      "[NeMo I 2020-11-09 03:45:56 <ipython-input-8-d6a2d1ea5b1b>:14] SOURCE: being a jerk is better than being nothing . <---> PREDICTED RESPONSE: i m sorry . you . ? <---> TARGET: i never said you were nothing .\n",
      "[NeMo I 2020-11-09 03:45:56 <ipython-input-8-d6a2d1ea5b1b>:13] Train Loss:2.9476237297058105\n",
      "[NeMo I 2020-11-09 03:45:56 <ipython-input-8-d6a2d1ea5b1b>:14] SOURCE: we didn t tell him any different for years <---> PREDICTED RESPONSE: what ? you ? me home ? <---> TARGET: your parents are divorced ?\n",
      "[NeMo I 2020-11-09 03:45:56 <ipython-input-8-d6a2d1ea5b1b>:13] Train Loss:2.6751034259796143\n",
      "[NeMo I 2020-11-09 03:45:56 <ipython-input-8-d6a2d1ea5b1b>:14] SOURCE: my arm ! he took my fucking arm ! <---> PREDICTED RESPONSE: he s not going to get out ! ! <---> TARGET: shut up ! you let him have it !\n",
      "[NeMo I 2020-11-09 03:45:56 <ipython-input-8-d6a2d1ea5b1b>:13] Train Loss:2.694815158843994\n",
      "[NeMo I 2020-11-09 03:45:56 <ipython-input-8-d6a2d1ea5b1b>:14] SOURCE: you try anything it goes in . . . <---> PREDICTED RESPONSE: i m sorry . you . me ? <---> TARGET: . . .the river .\n",
      "[NeMo I 2020-11-09 03:45:56 <ipython-input-8-d6a2d1ea5b1b>:13] Train Loss:2.7270145416259766\n",
      "[NeMo I 2020-11-09 03:45:56 <ipython-input-8-d6a2d1ea5b1b>:14] SOURCE: thank you . i ll bet you need to <---> PREDICTED RESPONSE: you re not . you ! ? <---> TARGET: yes .\n",
      "[NeMo I 2020-11-09 03:45:56 <ipython-input-8-d6a2d1ea5b1b>:13] Train Loss:2.8298099040985107\n",
      "[NeMo I 2020-11-09 03:45:56 <ipython-input-8-d6a2d1ea5b1b>:14] SOURCE: cause you know goddamn well who i am . <---> PREDICTED RESPONSE: i m not sure . you . ? <---> TARGET: i don t know you .\n",
      "[NeMo I 2020-11-09 03:45:56 <ipython-input-8-d6a2d1ea5b1b>:13] Train Loss:2.7981085777282715\n",
      "[NeMo I 2020-11-09 03:45:56 <ipython-input-8-d6a2d1ea5b1b>:14] SOURCE: what were you like when you were younger ? <---> PREDICTED RESPONSE: i don t know . you . ? <---> TARGET: trouble . why ?\n",
      "[NeMo I 2020-11-09 03:45:56 <ipython-input-8-d6a2d1ea5b1b>:13] Train Loss:2.760030746459961\n",
      "[NeMo I 2020-11-09 03:45:56 <ipython-input-8-d6a2d1ea5b1b>:14] SOURCE: clever of you to find this spot betty . <---> PREDICTED RESPONSE: no . you ? me ? me <---> TARGET: it pays to know your way around oliver .\n",
      "[NeMo I 2020-11-09 03:45:56 <ipython-input-8-d6a2d1ea5b1b>:13] Train Loss:2.8293399810791016\n",
      "[NeMo I 2020-11-09 03:45:56 <ipython-input-8-d6a2d1ea5b1b>:14] SOURCE: they re harder to do than they look . <---> PREDICTED RESPONSE: they re not . ? me ? <---> TARGET: oh ? you ve tried ?\n",
      "[NeMo I 2020-11-09 03:45:56 <ipython-input-8-d6a2d1ea5b1b>:13] Train Loss:2.8184304237365723\n",
      "[NeMo I 2020-11-09 03:45:56 <ipython-input-8-d6a2d1ea5b1b>:14] SOURCE: you re a dark horse ripley . engaged ? <---> PREDICTED RESPONSE: yes . you . me home ? <---> TARGET: your parents met her .\n",
      "[NeMo I 2020-11-09 03:45:56 <ipython-input-8-d6a2d1ea5b1b>:13] Train Loss:2.8721964359283447\n",
      "[NeMo I 2020-11-09 03:45:56 <ipython-input-8-d6a2d1ea5b1b>:14] SOURCE: sorry honey he just happened to tag along . <---> PREDICTED RESPONSE: he s not going to be here . me <---> TARGET: nothing ever really changes does it david ?\n",
      "[NeMo I 2020-11-09 03:45:56 <ipython-input-8-d6a2d1ea5b1b>:13] Train Loss:2.75368332862854\n",
      "[NeMo I 2020-11-09 03:45:56 <ipython-input-8-d6a2d1ea5b1b>:14] SOURCE: so we won t be going to london ? <---> PREDICTED RESPONSE: no . you . me home . <---> TARGET: no not just yet .\n",
      "[NeMo I 2020-11-09 03:45:56 <ipython-input-8-d6a2d1ea5b1b>:13] Train Loss:2.891073226928711\n",
      "[NeMo I 2020-11-09 03:45:56 <ipython-input-8-d6a2d1ea5b1b>:14] SOURCE: you must think i m quite the madman . <---> PREDICTED RESPONSE: you re not . you ! ? <---> TARGET: the thought had crossed my mind .\n",
      "[NeMo I 2020-11-09 03:45:56 <ipython-input-8-d6a2d1ea5b1b>:13] Train Loss:2.5904150009155273\n",
      "[NeMo I 2020-11-09 03:45:56 <ipython-input-8-d6a2d1ea5b1b>:14] SOURCE: yes robert . i know about the president . <---> PREDICTED RESPONSE: why ? you ? me ? me <---> TARGET: . . . oh ? you ve heard ?\n",
      "[NeMo I 2020-11-09 03:45:56 <ipython-input-8-d6a2d1ea5b1b>:13] Train Loss:2.9013965129852295\n",
      "[NeMo I 2020-11-09 03:45:56 <ipython-input-8-d6a2d1ea5b1b>:14] SOURCE: belinda s telling everyone that kiss was real . <---> PREDICTED RESPONSE: you re not . you home . ? <---> TARGET: it was .\n",
      "[NeMo I 2020-11-09 03:45:56 <ipython-input-8-d6a2d1ea5b1b>:13] Train Loss:2.78220272064209\n",
      "[NeMo I 2020-11-09 03:45:56 <ipython-input-8-d6a2d1ea5b1b>:14] SOURCE: oh hello vanessa . how was the flight ? <---> PREDICTED RESPONSE: yes . you know . me . <---> TARGET: great .\n",
      "[NeMo I 2020-11-09 03:45:56 <ipython-input-8-d6a2d1ea5b1b>:13] Train Loss:2.8618805408477783\n",
      "[NeMo I 2020-11-09 03:45:56 <ipython-input-8-d6a2d1ea5b1b>:14] SOURCE: we don t have a maid any more . <---> PREDICTED RESPONSE: why not ? me talking about it ? <---> TARGET: oh ?\n",
      "[NeMo I 2020-11-09 03:45:56 <ipython-input-8-d6a2d1ea5b1b>:13] Train Loss:2.7463932037353516\n",
      "[NeMo I 2020-11-09 03:45:56 <ipython-input-8-d6a2d1ea5b1b>:14] SOURCE: ben i m afraid i ve got to ask <---> PREDICTED RESPONSE: you re not . you ? ? <---> TARGET: not unless you want that clipboard stretched up your\n",
      "[NeMo I 2020-11-09 03:45:56 <ipython-input-8-d6a2d1ea5b1b>:13] Train Loss:2.697216033935547\n",
      "[NeMo I 2020-11-09 03:45:56 <ipython-input-8-d6a2d1ea5b1b>:14] SOURCE: you ve gotta ask her to the dance ! <---> PREDICTED RESPONSE: you re not . you ! ? <---> TARGET: not now . . . .\n",
      "[NeMo I 2020-11-09 03:45:56 <ipython-input-8-d6a2d1ea5b1b>:13] Train Loss:2.7603213787078857\n",
      "[NeMo I 2020-11-09 03:45:56 <ipython-input-8-d6a2d1ea5b1b>:14] SOURCE: there s nothing around . nobody s holding . <---> PREDICTED RESPONSE: what ? me in there ? me ? <---> TARGET: i got a name sal boca brooklyn .\n",
      "[NeMo I 2020-11-09 03:45:56 <ipython-input-8-d6a2d1ea5b1b>:13] Train Loss:2.712674379348755\n",
      "[NeMo I 2020-11-09 03:45:56 <ipython-input-8-d6a2d1ea5b1b>:14] SOURCE: shit . sorry . that didn t count . <---> PREDICTED RESPONSE: you re going to bed . it ? <---> TARGET: like hell . that counted .\n",
      "[NeMo I 2020-11-09 03:45:56 <ipython-input-8-d6a2d1ea5b1b>:13] Train Loss:2.7743477821350098\n",
      "[NeMo I 2020-11-09 03:45:56 <ipython-input-8-d6a2d1ea5b1b>:14] SOURCE: i shouldn t drink when i m driving . <---> PREDICTED RESPONSE: you re not . you home . ? <---> TARGET: you re so right .\n",
      "[NeMo I 2020-11-09 03:45:56 <ipython-input-8-d6a2d1ea5b1b>:13] Train Loss:2.915008306503296\n",
      "[NeMo I 2020-11-09 03:45:56 <ipython-input-8-d6a2d1ea5b1b>:14] SOURCE: that s good . keep it at forty . <---> PREDICTED RESPONSE: you re not . you . ? <---> TARGET: did we get it ?\n",
      "[NeMo I 2020-11-09 03:45:56 <ipython-input-8-d6a2d1ea5b1b>:13] Train Loss:2.729278564453125\n",
      "[NeMo I 2020-11-09 03:45:56 <ipython-input-8-d6a2d1ea5b1b>:14] SOURCE: i don t want to be just your friend <---> PREDICTED RESPONSE: you re not . you home . ? <---> TARGET: you don t know what you want\n",
      "[NeMo I 2020-11-09 03:45:56 <ipython-input-8-d6a2d1ea5b1b>:13] Train Loss:2.7728497982025146\n",
      "[NeMo I 2020-11-09 03:45:56 <ipython-input-8-d6a2d1ea5b1b>:14] SOURCE: . . . he spoke of your friendship . <---> PREDICTED RESPONSE: yes . you ? me ? ? <---> TARGET: yes . . .\n",
      "[NeMo I 2020-11-09 03:45:56 <ipython-input-8-d6a2d1ea5b1b>:13] Train Loss:2.8190441131591797\n",
      "[NeMo I 2020-11-09 03:45:56 <ipython-input-8-d6a2d1ea5b1b>:14] SOURCE: well let s dig up the preacher kid . <---> PREDICTED RESPONSE: yeah . you home . ? me <---> TARGET: huh ?\n",
      "[NeMo I 2020-11-09 03:45:56 <ipython-input-8-d6a2d1ea5b1b>:13] Train Loss:2.7843949794769287\n",
      "[NeMo I 2020-11-09 03:45:56 <ipython-input-8-d6a2d1ea5b1b>:14] SOURCE: peter i love you too but . . . <---> PREDICTED RESPONSE: you re not . you ? me ? <---> TARGET: i don t think you ll hurt me .\n",
      "[NeMo I 2020-11-09 03:45:56 <ipython-input-8-d6a2d1ea5b1b>:13] Train Loss:2.633164644241333\n",
      "[NeMo I 2020-11-09 03:45:56 <ipython-input-8-d6a2d1ea5b1b>:14] SOURCE: to begin with it could make things worse . <---> PREDICTED RESPONSE: why ? you ? me ? me <---> TARGET: but how ?\n",
      "[NeMo I 2020-11-09 03:45:56 <ipython-input-8-d6a2d1ea5b1b>:13] Train Loss:2.808065176010132\n",
      "[NeMo I 2020-11-09 03:45:56 <ipython-input-8-d6a2d1ea5b1b>:14] SOURCE: i don t really feel like talking anymore . <---> PREDICTED RESPONSE: why not ? me in your truck ? <---> TARGET: listen lady we can do this downtown if you\n",
      "[NeMo I 2020-11-09 03:45:56 <ipython-input-8-d6a2d1ea5b1b>:13] Train Loss:2.7210588455200195\n",
      "[NeMo I 2020-11-09 03:45:57 <ipython-input-8-d6a2d1ea5b1b>:14] SOURCE: what s this ? what s going on ? <---> PREDICTED RESPONSE: nothing . you know . me . <---> TARGET: nothing .\n",
      "[NeMo I 2020-11-09 03:45:57 <ipython-input-8-d6a2d1ea5b1b>:13] Train Loss:2.8389534950256348\n",
      "[NeMo I 2020-11-09 03:45:57 <ipython-input-8-d6a2d1ea5b1b>:14] SOURCE: and you ve no idea where he went ? <---> PREDICTED RESPONSE: no . you . me home ? <---> TARGET: no sir .\n",
      "[NeMo I 2020-11-09 03:45:57 <ipython-input-8-d6a2d1ea5b1b>:13] Train Loss:2.785977840423584\n",
      "[NeMo I 2020-11-09 03:45:57 <ipython-input-8-d6a2d1ea5b1b>:14] SOURCE: you ve been very cold to me tonight . <---> PREDICTED RESPONSE: yes . you . me ? ? <---> TARGET: no .\n",
      "[NeMo I 2020-11-09 03:45:57 <ipython-input-8-d6a2d1ea5b1b>:13] Train Loss:2.8386948108673096\n",
      "[NeMo I 2020-11-09 03:45:57 <ipython-input-8-d6a2d1ea5b1b>:14] SOURCE: why don t you go to bed son . <---> PREDICTED RESPONSE: i m sorry . you . me ? <---> TARGET: i can t take my eyes off you .\n",
      "[NeMo I 2020-11-09 03:45:57 <ipython-input-8-d6a2d1ea5b1b>:13] Train Loss:2.7489936351776123\n",
      "[NeMo I 2020-11-09 03:45:57 <ipython-input-8-d6a2d1ea5b1b>:14] SOURCE: i think i m gonna move back east . <---> PREDICTED RESPONSE: you re not going to be here . me <---> TARGET: well that s dumb .\n",
      "[NeMo I 2020-11-09 03:45:57 <ipython-input-8-d6a2d1ea5b1b>:13] Train Loss:2.5586249828338623\n",
      "[NeMo I 2020-11-09 03:45:57 <ipython-input-8-d6a2d1ea5b1b>:14] SOURCE: you ve done much of this work before ? <---> PREDICTED RESPONSE: yes . you . me . ? <---> TARGET: never .\n",
      "[NeMo I 2020-11-09 03:45:57 <ipython-input-8-d6a2d1ea5b1b>:13] Train Loss:2.7623958587646484\n",
      "[NeMo I 2020-11-09 03:45:57 <ipython-input-8-d6a2d1ea5b1b>:14] SOURCE: james called me last night looking for you . <---> PREDICTED RESPONSE: you re not . you ? me ? <---> TARGET: when ?\n",
      "[NeMo I 2020-11-09 03:45:57 <ipython-input-8-d6a2d1ea5b1b>:13] Train Loss:2.6979799270629883\n",
      "[NeMo I 2020-11-09 03:45:57 <ipython-input-8-d6a2d1ea5b1b>:14] SOURCE: i told you you wouldn t like him . <---> PREDICTED RESPONSE: why not ? me in there ? me <---> TARGET: he s coming over here !\n",
      "[NeMo I 2020-11-09 03:45:57 <ipython-input-8-d6a2d1ea5b1b>:13] Train Loss:2.748258113861084\n",
      "[NeMo I 2020-11-09 03:45:57 <ipython-input-8-d6a2d1ea5b1b>:14] SOURCE: ma didn t want it around . after . <---> PREDICTED RESPONSE: what ? you ? me ? me <---> TARGET: oh .\n",
      "[NeMo I 2020-11-09 03:45:57 <ipython-input-8-d6a2d1ea5b1b>:13] Train Loss:2.6602070331573486\n",
      "[NeMo I 2020-11-09 03:45:57 <ipython-input-8-d6a2d1ea5b1b>:14] SOURCE: oh no bother i d be glad to . <---> PREDICTED RESPONSE: you re not . you ? me ? <---> TARGET: well actually\n",
      "[NeMo I 2020-11-09 03:45:57 <ipython-input-8-d6a2d1ea5b1b>:13] Train Loss:2.7986690998077393\n",
      "[NeMo I 2020-11-09 03:45:57 <ipython-input-8-d6a2d1ea5b1b>:14] SOURCE: evan stop ! you re gonna kill him ! <---> PREDICTED RESPONSE: no ! t ! ! me ! <---> TARGET: he s a fucking maniac !\n",
      "[NeMo I 2020-11-09 03:45:57 <ipython-input-8-d6a2d1ea5b1b>:13] Train Loss:2.634674549102783\n",
      "[NeMo I 2020-11-09 03:45:57 <ipython-input-8-d6a2d1ea5b1b>:14] SOURCE: why don t we say we were together ? <---> PREDICTED RESPONSE: because you re not . me home . <---> TARGET: why would we do that ?\n",
      "[NeMo I 2020-11-09 03:45:57 <ipython-input-8-d6a2d1ea5b1b>:13] Train Loss:2.6776556968688965\n",
      "[NeMo I 2020-11-09 03:45:57 <ipython-input-8-d6a2d1ea5b1b>:14] SOURCE: you know what i m going to be ? <---> PREDICTED RESPONSE: yes . you . me ? me <---> TARGET: a cowboy .\n",
      "[NeMo I 2020-11-09 03:45:57 <ipython-input-8-d6a2d1ea5b1b>:13] Train Loss:2.672633409500122\n",
      "[NeMo I 2020-11-09 03:45:57 <ipython-input-8-d6a2d1ea5b1b>:14] SOURCE: rosebud ? i ll tell you about rosebud . <---> PREDICTED RESPONSE: you re a girl . you ? me <---> TARGET: again .\n",
      "[NeMo I 2020-11-09 03:45:57 <ipython-input-8-d6a2d1ea5b1b>:13] Train Loss:2.7304024696350098\n",
      "[NeMo I 2020-11-09 03:45:57 <ipython-input-8-d6a2d1ea5b1b>:14] SOURCE: what s this ? what s going on ? <---> PREDICTED RESPONSE: nothing . you know . me . <---> TARGET: nothing .\n",
      "[NeMo I 2020-11-09 03:45:57 <ipython-input-8-d6a2d1ea5b1b>:13] Train Loss:2.6930670738220215\n",
      "[NeMo I 2020-11-09 03:45:57 <ipython-input-8-d6a2d1ea5b1b>:14] SOURCE: because i took it out of your memory . <---> PREDICTED RESPONSE: you re not . you ? me ? <---> TARGET: why\n",
      "[NeMo I 2020-11-09 03:45:57 <ipython-input-8-d6a2d1ea5b1b>:13] Train Loss:2.6273772716522217\n",
      "[NeMo I 2020-11-09 03:45:57 <ipython-input-8-d6a2d1ea5b1b>:14] SOURCE: of course i think about it every day . <---> PREDICTED RESPONSE: no . you . me home ? <---> TARGET: of course .\n",
      "[NeMo I 2020-11-09 03:45:57 <ipython-input-8-d6a2d1ea5b1b>:13] Train Loss:2.7228856086730957\n",
      "[NeMo I 2020-11-09 03:45:57 <ipython-input-8-d6a2d1ea5b1b>:14] SOURCE: we re all square now harry . right ? <---> PREDICTED RESPONSE: yes . you . me home ? <---> TARGET: all square doc .\n",
      "[NeMo I 2020-11-09 03:45:57 <ipython-input-8-d6a2d1ea5b1b>:13] Train Loss:2.716113805770874\n",
      "[NeMo I 2020-11-09 03:45:57 <ipython-input-8-d6a2d1ea5b1b>:14] SOURCE: hurry ? what for ? i m just now <---> PREDICTED RESPONSE: you know what you mean . ? ? <---> TARGET: you didn t tell her ?\n",
      "[NeMo I 2020-11-09 03:45:57 <ipython-input-8-d6a2d1ea5b1b>:13] Train Loss:2.706920862197876\n",
      "[NeMo I 2020-11-09 03:45:57 <ipython-input-8-d6a2d1ea5b1b>:14] SOURCE: wha what kind of things do you build ? <---> PREDICTED RESPONSE: you re not . you ? me ? <---> TARGET: are you really interested ?\n",
      "[NeMo I 2020-11-09 03:45:57 <ipython-input-8-d6a2d1ea5b1b>:13] Train Loss:2.8090925216674805\n",
      "[NeMo I 2020-11-09 03:45:57 <ipython-input-8-d6a2d1ea5b1b>:14] SOURCE: that s a nasty scratch on your neck . <---> PREDICTED RESPONSE: that s right . me home . ? <---> TARGET: i have a passionate girlfriend .\n",
      "[NeMo I 2020-11-09 03:45:57 <ipython-input-8-d6a2d1ea5b1b>:13] Train Loss:2.5664467811584473\n",
      "[NeMo I 2020-11-09 03:45:57 <ipython-input-8-d6a2d1ea5b1b>:14] SOURCE: do you really want to buy those cigarettes ? <---> PREDICTED RESPONSE: yes . you . me . ? <---> TARGET: are you serious ?\n",
      "[NeMo I 2020-11-09 03:45:57 <ipython-input-8-d6a2d1ea5b1b>:13] Train Loss:2.7832281589508057\n",
      "[NeMo I 2020-11-09 03:45:57 <ipython-input-8-d6a2d1ea5b1b>:14] SOURCE: kind of makes you wonder doesn t it ? <---> PREDICTED RESPONSE: no . you . me ? it <---> TARGET: wonder what ?\n",
      "[NeMo I 2020-11-09 03:45:57 <ipython-input-8-d6a2d1ea5b1b>:13] Train Loss:2.6912522315979004\n",
      "[NeMo I 2020-11-09 03:45:57 <ipython-input-8-d6a2d1ea5b1b>:14] SOURCE: no he was talking about girls i think . <---> PREDICTED RESPONSE: why not ? me ? me ? <---> TARGET: that makes you an expert i guess .\n",
      "[NeMo I 2020-11-09 03:45:57 <ipython-input-8-d6a2d1ea5b1b>:13] Train Loss:2.597651481628418\n",
      "[NeMo I 2020-11-09 03:45:57 <ipython-input-8-d6a2d1ea5b1b>:14] SOURCE: i don t wanta rob you ma am . <---> PREDICTED RESPONSE: why ? you ? me ? me <---> TARGET: go ahead bert says take it .\n",
      "[NeMo I 2020-11-09 03:45:57 <ipython-input-8-d6a2d1ea5b1b>:13] Train Loss:2.800785541534424\n",
      "[NeMo I 2020-11-09 03:45:57 <ipython-input-8-d6a2d1ea5b1b>:14] SOURCE: is it her ? is anne in there ? <---> PREDICTED RESPONSE: yes . you . it ? me <---> TARGET: she is . don t go in there .\n",
      "[NeMo I 2020-11-09 03:45:57 <ipython-input-8-d6a2d1ea5b1b>:13] Train Loss:2.790496587753296\n",
      "[NeMo I 2020-11-09 03:45:57 <ipython-input-8-d6a2d1ea5b1b>:14] SOURCE: you re fuckin a we can do this . <---> PREDICTED RESPONSE: no . you . me ? me <---> TARGET: not with me . not with people .\n",
      "[NeMo I 2020-11-09 03:45:57 <ipython-input-8-d6a2d1ea5b1b>:13] Train Loss:2.5491445064544678\n",
      "[NeMo I 2020-11-09 03:45:57 <ipython-input-8-d6a2d1ea5b1b>:14] SOURCE: your what ? ! your fuckin what ? ! <---> PREDICTED RESPONSE: what ? you ! ! ! <---> TARGET: my my . . .\n",
      "[NeMo I 2020-11-09 03:45:57 <ipython-input-8-d6a2d1ea5b1b>:13] Train Loss:2.6263482570648193\n",
      "[NeMo I 2020-11-09 03:45:57 <ipython-input-8-d6a2d1ea5b1b>:14] SOURCE: well jesus these hostages are keeping me alive . <---> PREDICTED RESPONSE: you re not going to be here ! ? <---> TARGET: okay when do i get them ?\n",
      "[NeMo I 2020-11-09 03:45:57 <ipython-input-8-d6a2d1ea5b1b>:13] Train Loss:2.744558811187744\n",
      "[NeMo I 2020-11-09 03:45:57 <ipython-input-8-d6a2d1ea5b1b>:14] SOURCE: how in the fuck do you know that ? <---> PREDICTED RESPONSE: i don t know . you . ? <---> TARGET: do you want rath or not ?\n",
      "[NeMo I 2020-11-09 03:45:57 <ipython-input-8-d6a2d1ea5b1b>:13] Train Loss:2.8597559928894043\n",
      "[NeMo I 2020-11-09 03:45:57 <ipython-input-8-d6a2d1ea5b1b>:14] SOURCE: no i m not gonna drive with some crazy <---> PREDICTED RESPONSE: no you mustn t that much . ? <---> TARGET: you re driving me nuts !\n",
      "[NeMo I 2020-11-09 03:45:57 <ipython-input-8-d6a2d1ea5b1b>:13] Train Loss:2.743178129196167\n",
      "[NeMo I 2020-11-09 03:45:57 <ipython-input-8-d6a2d1ea5b1b>:14] SOURCE: mr . creasy . what do you want ? <---> PREDICTED RESPONSE: yes . you . me ? ? <---> TARGET: i want you .\n",
      "[NeMo I 2020-11-09 03:45:57 <ipython-input-8-d6a2d1ea5b1b>:13] Train Loss:2.6873395442962646\n",
      "[NeMo I 2020-11-09 03:45:57 <ipython-input-8-d6a2d1ea5b1b>:14] SOURCE: because i took it out of your memory . <---> PREDICTED RESPONSE: you re not . you ? me ? <---> TARGET: why\n",
      "[NeMo I 2020-11-09 03:45:57 <ipython-input-8-d6a2d1ea5b1b>:13] Train Loss:2.772561550140381\n",
      "[NeMo I 2020-11-09 03:45:57 <ipython-input-8-d6a2d1ea5b1b>:14] SOURCE: i m in town for a short time . <---> PREDICTED RESPONSE: you re not . you home . ? <---> TARGET: try ?\n",
      "[NeMo I 2020-11-09 03:45:57 <ipython-input-8-d6a2d1ea5b1b>:13] Train Loss:2.7624752521514893\n",
      "[NeMo I 2020-11-09 03:45:57 <ipython-input-8-d6a2d1ea5b1b>:14] SOURCE: on a case by case basis . . . <---> PREDICTED RESPONSE: you re not going to die . me ? <---> TARGET: you know how to make chocolate milk ?\n",
      "[NeMo I 2020-11-09 03:45:57 <ipython-input-8-d6a2d1ea5b1b>:13] Train Loss:2.60860276222229\n",
      "[NeMo I 2020-11-09 03:45:57 <ipython-input-8-d6a2d1ea5b1b>:14] SOURCE: me fall ? let s get some drugs ! <---> PREDICTED RESPONSE: yes ! ! ! ! ! <---> TARGET: drugs ? ? !\n",
      "[NeMo I 2020-11-09 03:45:57 <ipython-input-8-d6a2d1ea5b1b>:13] Train Loss:2.6679601669311523\n",
      "[NeMo I 2020-11-09 03:45:57 <ipython-input-8-d6a2d1ea5b1b>:14] SOURCE: i m working across on a cattle boat . <---> PREDICTED RESPONSE: you re not going to be here . ? <---> TARGET: a cattle boat ?\n",
      "[NeMo I 2020-11-09 03:45:57 <ipython-input-8-d6a2d1ea5b1b>:13] Train Loss:2.859435796737671\n",
      "[NeMo I 2020-11-09 03:45:57 <ipython-input-8-d6a2d1ea5b1b>:14] SOURCE: my . . . name is . . . <---> PREDICTED RESPONSE: what ? me ? me out ? <---> TARGET: john merrick .\n",
      "[NeMo I 2020-11-09 03:45:57 <ipython-input-8-d6a2d1ea5b1b>:13] Train Loss:2.639807939529419\n",
      "[NeMo I 2020-11-09 03:45:57 <ipython-input-8-d6a2d1ea5b1b>:14] SOURCE: drive ? i m not old enough yet . <---> PREDICTED RESPONSE: no . you . me home ? <---> TARGET: it s never too soon to start .\n",
      "[NeMo I 2020-11-09 03:45:57 <ipython-input-8-d6a2d1ea5b1b>:13] Train Loss:2.5124261379241943\n",
      "[NeMo I 2020-11-09 03:45:57 <ipython-input-8-d6a2d1ea5b1b>:14] SOURCE: this is dr . duval our head surgeon . <---> PREDICTED RESPONSE: yes . you . me ? ? <---> TARGET: oh yes i ve heard of you doctor .\n",
      "[NeMo I 2020-11-09 03:45:57 <ipython-input-8-d6a2d1ea5b1b>:13] Train Loss:2.7011399269104004\n",
      "[NeMo I 2020-11-09 03:45:57 <ipython-input-8-d6a2d1ea5b1b>:14] SOURCE: that s what you get flight pay for . <---> PREDICTED RESPONSE: you re not . you . ? <---> TARGET: maybe i shouldn t take it .\n",
      "[NeMo I 2020-11-09 03:45:57 <ipython-input-8-d6a2d1ea5b1b>:13] Train Loss:2.7063181400299072\n",
      "[NeMo I 2020-11-09 03:45:57 <ipython-input-8-d6a2d1ea5b1b>:14] SOURCE: happy birthday lainey . do you like it ? <---> PREDICTED RESPONSE: yes . it . me home . <---> TARGET: it s fantastic it s too much .\n",
      "[NeMo I 2020-11-09 03:45:57 <ipython-input-8-d6a2d1ea5b1b>:13] Train Loss:2.744635581970215\n",
      "[NeMo I 2020-11-09 03:45:57 <ipython-input-8-d6a2d1ea5b1b>:14] SOURCE: i am now . i missed you thorgan . <---> PREDICTED RESPONSE: you re not . you ? me ? <---> TARGET: i missed you too .\n",
      "[NeMo I 2020-11-09 03:45:57 <ipython-input-8-d6a2d1ea5b1b>:13] Train Loss:2.722665309906006\n",
      "[NeMo I 2020-11-09 03:45:57 <ipython-input-8-d6a2d1ea5b1b>:14] SOURCE: frank i don t want to hear it . <---> PREDICTED RESPONSE: why not ? me in your car ? <---> TARGET: senator long set your boss up my friend .\n",
      "[NeMo I 2020-11-09 03:45:57 <ipython-input-8-d6a2d1ea5b1b>:13] Train Loss:2.7606263160705566\n",
      "[NeMo I 2020-11-09 03:45:57 <ipython-input-8-d6a2d1ea5b1b>:14] SOURCE: did he tell you how we finally met ? <---> PREDICTED RESPONSE: he s dead . care . ? <---> TARGET: nobody cares ronald .\n",
      "[NeMo I 2020-11-09 03:45:57 <ipython-input-8-d6a2d1ea5b1b>:13] Train Loss:2.840041399002075\n",
      "[NeMo I 2020-11-09 03:45:57 <ipython-input-8-d6a2d1ea5b1b>:14] SOURCE: what are they interested in . . . ? <---> PREDICTED RESPONSE: nothing . you know . me . <---> TARGET: wine women and song .\n",
      "[NeMo I 2020-11-09 03:45:57 <ipython-input-8-d6a2d1ea5b1b>:13] Train Loss:2.7147889137268066\n",
      "[NeMo I 2020-11-09 03:45:57 <ipython-input-8-d6a2d1ea5b1b>:14] SOURCE: are you sure ? how do you know ? <---> PREDICTED RESPONSE: no . you . me home ? <---> TARGET: we know .\n",
      "[NeMo I 2020-11-09 03:45:57 <ipython-input-8-d6a2d1ea5b1b>:13] Train Loss:2.779524803161621\n",
      "[NeMo I 2020-11-09 03:45:57 <ipython-input-8-d6a2d1ea5b1b>:14] SOURCE: sal we need you . we need you . <---> PREDICTED RESPONSE: yeah ? me in the best ? me <---> TARGET: hey nick . how can you need me ?\n",
      "[NeMo I 2020-11-09 03:45:57 <ipython-input-8-d6a2d1ea5b1b>:13] Train Loss:2.7144505977630615\n",
      "[NeMo I 2020-11-09 03:45:57 <ipython-input-8-d6a2d1ea5b1b>:14] SOURCE: hey . she says she loves you nick . <---> PREDICTED RESPONSE: what ? me ? me ? me <---> TARGET: she says a lot of things .\n",
      "[NeMo I 2020-11-09 03:45:57 <ipython-input-8-d6a2d1ea5b1b>:13] Train Loss:2.6426825523376465\n",
      "[NeMo I 2020-11-09 03:45:57 <ipython-input-8-d6a2d1ea5b1b>:14] SOURCE: no wait a minute there s someone else . <---> PREDICTED RESPONSE: why ? you ? me ? me <---> TARGET: who ?\n",
      "[NeMo I 2020-11-09 03:45:57 <ipython-input-8-d6a2d1ea5b1b>:13] Train Loss:2.648965835571289\n",
      "[NeMo I 2020-11-09 03:45:57 <ipython-input-8-d6a2d1ea5b1b>:14] SOURCE: you wanted the truth now you have it . <---> PREDICTED RESPONSE: i m not . you . ? <---> TARGET: and the other one he is like you ?\n",
      "[NeMo I 2020-11-09 03:45:57 <ipython-input-8-d6a2d1ea5b1b>:13] Train Loss:2.714710235595703\n",
      "[NeMo I 2020-11-09 03:45:57 <ipython-input-8-d6a2d1ea5b1b>:14] SOURCE: what s she got to do with it ? <---> PREDICTED RESPONSE: nothing . you know . me . <---> TARGET: she s going with me .\n",
      "[NeMo I 2020-11-09 03:45:57 <ipython-input-8-d6a2d1ea5b1b>:13] Train Loss:2.7850029468536377\n",
      "[NeMo I 2020-11-09 03:45:57 <ipython-input-8-d6a2d1ea5b1b>:14] SOURCE: really . do you think it s wrong ? <---> PREDICTED RESPONSE: yes . you . me home ? <---> TARGET: no .\n",
      "[NeMo I 2020-11-09 03:45:57 <ipython-input-8-d6a2d1ea5b1b>:13] Train Loss:2.728644609451294\n",
      "[NeMo I 2020-11-09 03:45:57 <ipython-input-8-d6a2d1ea5b1b>:14] SOURCE: i ve got him if you want him . <---> PREDICTED RESPONSE: no . you . me ? ? <---> TARGET: no shooting .\n",
      "[NeMo I 2020-11-09 03:45:57 <ipython-input-8-d6a2d1ea5b1b>:13] Train Loss:2.712144136428833\n",
      "[NeMo I 2020-11-09 03:45:57 <ipython-input-8-d6a2d1ea5b1b>:14] SOURCE: i ll tell him someone else told me . <---> PREDICTED RESPONSE: no . you . ? ? <---> TARGET: just don t ask me no more shit .\n",
      "[NeMo I 2020-11-09 03:45:57 <ipython-input-8-d6a2d1ea5b1b>:13] Train Loss:2.5926828384399414\n",
      "[NeMo I 2020-11-09 03:45:57 <ipython-input-8-d6a2d1ea5b1b>:14] SOURCE: name your poison and i ll supply it . <---> PREDICTED RESPONSE: what ? me ? me ? me <---> TARGET: some other time cobb . some other time .\n",
      "[NeMo I 2020-11-09 03:45:57 <ipython-input-8-d6a2d1ea5b1b>:13] Train Loss:2.5483126640319824\n",
      "[NeMo I 2020-11-09 03:45:57 <ipython-input-8-d6a2d1ea5b1b>:14] SOURCE: tell me . what do the police say ? <---> PREDICTED RESPONSE: you know what you mean . . . t <---> TARGET: they re calling it an accident .\n",
      "[NeMo I 2020-11-09 03:45:57 <ipython-input-8-d6a2d1ea5b1b>:13] Train Loss:2.718632936477661\n",
      "[NeMo I 2020-11-09 03:45:57 <ipython-input-8-d6a2d1ea5b1b>:14] SOURCE: you ve heard of u .s .t . ? <---> PREDICTED RESPONSE: i m not . you . ? <---> TARGET: i just went there for a job .\n",
      "[NeMo I 2020-11-09 03:45:57 <ipython-input-8-d6a2d1ea5b1b>:13] Train Loss:2.618149757385254\n",
      "[NeMo I 2020-11-09 03:45:57 <ipython-input-8-d6a2d1ea5b1b>:14] SOURCE: call me as soon as you re settled . <---> PREDICTED RESPONSE: you re not . you ? me ? <---> TARGET: i love you .\n",
      "[NeMo I 2020-11-09 03:45:57 <ipython-input-8-d6a2d1ea5b1b>:13] Train Loss:2.472788095474243\n",
      "[NeMo I 2020-11-09 03:45:57 <ipython-input-8-d6a2d1ea5b1b>:14] SOURCE: you gonna do what i say got it ? <---> PREDICTED RESPONSE: you re not . you . ? <---> TARGET: yes .\n",
      "[NeMo I 2020-11-09 03:45:57 <ipython-input-8-d6a2d1ea5b1b>:13] Train Loss:2.8060007095336914\n",
      "[NeMo I 2020-11-09 03:45:57 <ipython-input-8-d6a2d1ea5b1b>:14] SOURCE: better that way . . . for me . <---> PREDICTED RESPONSE: yes . you . me . ? <---> TARGET: why ?\n",
      "[NeMo I 2020-11-09 03:45:57 <ipython-input-8-d6a2d1ea5b1b>:13] Train Loss:2.645380735397339\n",
      "[NeMo I 2020-11-09 03:45:57 <ipython-input-8-d6a2d1ea5b1b>:14] SOURCE: well . . .i m pretty sure i ve <---> PREDICTED RESPONSE: you re not . you ? me ? <---> TARGET: no you haven t .\n",
      "[NeMo I 2020-11-09 03:45:57 <ipython-input-8-d6a2d1ea5b1b>:13] Train Loss:2.656045913696289\n",
      "[NeMo I 2020-11-09 03:45:57 <ipython-input-8-d6a2d1ea5b1b>:14] SOURCE: i worked the three nine in queens charlie . <---> PREDICTED RESPONSE: why ? you ? me ? me <---> TARGET: i didn t know .\n",
      "[NeMo I 2020-11-09 03:45:57 <ipython-input-8-d6a2d1ea5b1b>:13] Train Loss:2.6598289012908936\n",
      "[NeMo I 2020-11-09 03:45:57 <ipython-input-8-d6a2d1ea5b1b>:14] SOURCE: what ll you do when you leave here ? <---> PREDICTED RESPONSE: i m sorry . you . ? <---> TARGET: i don t know .\n",
      "[NeMo I 2020-11-09 03:45:57 <ipython-input-8-d6a2d1ea5b1b>:13] Train Loss:2.824502468109131\n",
      "[NeMo I 2020-11-09 03:45:57 <ipython-input-8-d6a2d1ea5b1b>:14] SOURCE: morning ! who s that little old man ? <---> PREDICTED RESPONSE: i m fine . you . ? <---> TARGET: it s paul s grandfather .\n",
      "[NeMo I 2020-11-09 03:45:57 <ipython-input-8-d6a2d1ea5b1b>:13] Train Loss:2.535935878753662\n",
      "[NeMo I 2020-11-09 03:45:57 <ipython-input-8-d6a2d1ea5b1b>:14] SOURCE: the war dropped him here and forgot him . <---> PREDICTED RESPONSE: no . you . me home ? <---> TARGET: yes i was in the war .\n",
      "[NeMo I 2020-11-09 03:45:57 <ipython-input-8-d6a2d1ea5b1b>:13] Train Loss:2.6020216941833496\n",
      "[NeMo I 2020-11-09 03:45:57 <ipython-input-8-d6a2d1ea5b1b>:14] SOURCE: i m sending . do you hear me ? <---> PREDICTED RESPONSE: yes . you . me ? me <---> TARGET: receiving .\n",
      "[NeMo I 2020-11-09 03:45:57 <ipython-input-8-d6a2d1ea5b1b>:13] Train Loss:2.5353338718414307\n",
      "[NeMo I 2020-11-09 03:45:57 <ipython-input-8-d6a2d1ea5b1b>:14] SOURCE: ma am you have to open the door . <---> PREDICTED RESPONSE: no . you . me ? ? <---> TARGET: all right .\n",
      "[NeMo I 2020-11-09 03:45:57 <ipython-input-8-d6a2d1ea5b1b>:13] Train Loss:2.601935386657715\n",
      "[NeMo I 2020-11-09 03:45:57 <ipython-input-8-d6a2d1ea5b1b>:14] SOURCE: i . . .i can t . . . <---> PREDICTED RESPONSE: you re not . you ? me ? <---> TARGET: you can and you will ! swim rennie !\n",
      "[NeMo I 2020-11-09 03:45:57 <ipython-input-8-d6a2d1ea5b1b>:13] Train Loss:2.6722047328948975\n",
      "[NeMo I 2020-11-09 03:45:57 <ipython-input-8-d6a2d1ea5b1b>:14] SOURCE: we love her craig . i m sorry . <---> PREDICTED RESPONSE: what ? you ? me ? me <---> TARGET: we ?\n",
      "[NeMo I 2020-11-09 03:45:57 <ipython-input-8-d6a2d1ea5b1b>:13] Train Loss:2.6223504543304443\n",
      "[NeMo I 2020-11-09 03:45:57 <ipython-input-8-d6a2d1ea5b1b>:14] SOURCE: you got a bet on the game tonight ? <---> PREDICTED RESPONSE: yes . you . me home ? <---> TARGET: as a matter of fact i do .\n",
      "[NeMo I 2020-11-09 03:45:57 <ipython-input-8-d6a2d1ea5b1b>:13] Train Loss:2.644597053527832\n",
      "[NeMo I 2020-11-09 03:45:57 <ipython-input-8-d6a2d1ea5b1b>:14] SOURCE: doesn t matter . then put him away . <---> PREDICTED RESPONSE: what ? me ? me home ? <---> TARGET: sir ?\n",
      "[NeMo I 2020-11-09 03:45:57 <ipython-input-8-d6a2d1ea5b1b>:13] Train Loss:2.65706729888916\n",
      "[NeMo I 2020-11-09 03:45:57 <ipython-input-8-d6a2d1ea5b1b>:14] SOURCE: philip what are u you u doing here ? <---> PREDICTED RESPONSE: i m sorry . you . ? <---> TARGET: look i think we should work things out .\n",
      "[NeMo I 2020-11-09 03:45:57 <ipython-input-8-d6a2d1ea5b1b>:13] Train Loss:2.6496825218200684\n",
      "[NeMo I 2020-11-09 03:45:57 <ipython-input-8-d6a2d1ea5b1b>:14] SOURCE: what you said to me in the room . <---> PREDICTED RESPONSE: i m sorry . you . ? <---> TARGET: what did i say ?\n",
      "[NeMo I 2020-11-09 03:45:57 <ipython-input-8-d6a2d1ea5b1b>:13] Train Loss:2.571896553039551\n",
      "[NeMo I 2020-11-09 03:45:57 <ipython-input-8-d6a2d1ea5b1b>:14] SOURCE: no no no no no . keep goin . <---> PREDICTED RESPONSE: no . you . me ? ? <---> TARGET: okay .\n",
      "[NeMo I 2020-11-09 03:45:57 <ipython-input-8-d6a2d1ea5b1b>:13] Train Loss:2.592660427093506\n",
      "[NeMo I 2020-11-09 03:45:57 <ipython-input-8-d6a2d1ea5b1b>:14] SOURCE: did i hear somethin break ? outside left ! <---> PREDICTED RESPONSE: you re not . you ! ? <---> TARGET: fuck you .\n",
      "[NeMo I 2020-11-09 03:45:57 <ipython-input-8-d6a2d1ea5b1b>:13] Train Loss:2.5420949459075928\n",
      "[NeMo I 2020-11-09 03:45:57 <ipython-input-8-d6a2d1ea5b1b>:14] SOURCE: you sure that s how you spell it ? <---> PREDICTED RESPONSE: yeah . you . me . ? <---> TARGET: yeah .\n",
      "[NeMo I 2020-11-09 03:45:57 <ipython-input-8-d6a2d1ea5b1b>:13] Train Loss:2.6905505657196045\n",
      "[NeMo I 2020-11-09 03:45:57 <ipython-input-8-d6a2d1ea5b1b>:14] SOURCE: i was there i saw her do it . <---> PREDICTED RESPONSE: why ? you ? me ? me <---> TARGET: well you weren t supposed to be there .\n",
      "[NeMo I 2020-11-09 03:45:57 <ipython-input-8-d6a2d1ea5b1b>:13] Train Loss:2.546579599380493\n",
      "[NeMo I 2020-11-09 03:45:57 <ipython-input-8-d6a2d1ea5b1b>:14] SOURCE: joey . . . which way s aft ? <---> PREDICTED RESPONSE: yes . you . ? me ? <---> TARGET: that way .\n",
      "[NeMo I 2020-11-09 03:45:57 <ipython-input-8-d6a2d1ea5b1b>:13] Train Loss:2.576432704925537\n",
      "[NeMo I 2020-11-09 03:45:57 <ipython-input-8-d6a2d1ea5b1b>:14] SOURCE: once i even told him i loved him . <---> PREDICTED RESPONSE: he s not going to be here . me <---> TARGET: i forgive you . . .\n",
      "[NeMo I 2020-11-09 03:45:57 <ipython-input-8-d6a2d1ea5b1b>:13] Train Loss:2.6707465648651123\n",
      "[NeMo I 2020-11-09 03:45:57 <ipython-input-8-d6a2d1ea5b1b>:14] SOURCE: this is a gift you ll not return . <---> PREDICTED RESPONSE: yes . you ? me ? me <---> TARGET: get out of here !\n",
      "[NeMo I 2020-11-09 03:45:57 <ipython-input-8-d6a2d1ea5b1b>:13] Train Loss:2.6548187732696533\n",
      "[NeMo I 2020-11-09 03:45:57 <ipython-input-8-d6a2d1ea5b1b>:14] SOURCE: a man wouldn t do that . . . <---> PREDICTED RESPONSE: what ? me ? me a drink . <---> TARGET: he isn t a man .\n",
      "[NeMo I 2020-11-09 03:45:57 <ipython-input-8-d6a2d1ea5b1b>:13] Train Loss:2.6487584114074707\n",
      "[NeMo I 2020-11-09 03:45:57 <ipython-input-8-d6a2d1ea5b1b>:14] SOURCE: if only i could have been with you . <---> PREDICTED RESPONSE: you re not . you ? me ? <---> TARGET: there were rats dad .\n",
      "[NeMo I 2020-11-09 03:45:57 <ipython-input-8-d6a2d1ea5b1b>:13] Train Loss:2.7306783199310303\n",
      "[NeMo I 2020-11-09 03:45:57 <ipython-input-8-d6a2d1ea5b1b>:14] SOURCE: well at least it hasn t been boring . <---> PREDICTED RESPONSE: you re not . you home . ? <---> TARGET: well thanks for the lift .\n",
      "[NeMo I 2020-11-09 03:45:57 <ipython-input-8-d6a2d1ea5b1b>:13] Train Loss:2.6138768196105957\n",
      "[NeMo I 2020-11-09 03:45:57 <ipython-input-8-d6a2d1ea5b1b>:14] SOURCE: i moved the couch . that s all . <---> PREDICTED RESPONSE: you re not . you ? me ? <---> TARGET: where to ?\n",
      "[NeMo I 2020-11-09 03:45:57 <ipython-input-8-d6a2d1ea5b1b>:13] Train Loss:2.6279585361480713\n",
      "[NeMo I 2020-11-09 03:45:57 <ipython-input-8-d6a2d1ea5b1b>:14] SOURCE: they re afraid of you aren t they ? <---> PREDICTED RESPONSE: he s not . me home . ? <---> TARGET: they should be .\n",
      "[NeMo I 2020-11-09 03:45:57 <ipython-input-8-d6a2d1ea5b1b>:13] Train Loss:2.606058359146118\n",
      "[NeMo I 2020-11-09 03:45:57 <ipython-input-8-d6a2d1ea5b1b>:14] SOURCE: i can t find the second one sir . <---> PREDICTED RESPONSE: why not ? me talking about it ? <---> TARGET: look under the body .\n",
      "[NeMo I 2020-11-09 03:45:57 <ipython-input-8-d6a2d1ea5b1b>:13] Train Loss:2.606431722640991\n",
      "[NeMo I 2020-11-09 03:45:57 <ipython-input-8-d6a2d1ea5b1b>:14] SOURCE: and you ve got me all figured out ? <---> PREDICTED RESPONSE: yes . you . me . ? <---> TARGET: sure .\n",
      "[NeMo I 2020-11-09 03:45:57 <ipython-input-8-d6a2d1ea5b1b>:13] Train Loss:2.5631208419799805\n",
      "[NeMo I 2020-11-09 03:45:57 <ipython-input-8-d6a2d1ea5b1b>:14] SOURCE: you re up ! you must be feeling better <---> PREDICTED RESPONSE: no . you ! ! ! <---> TARGET: yes . . .\n",
      "[NeMo I 2020-11-09 03:45:57 <ipython-input-8-d6a2d1ea5b1b>:13] Train Loss:2.6717090606689453\n",
      "[NeMo I 2020-11-09 03:45:57 <ipython-input-8-d6a2d1ea5b1b>:14] SOURCE: he s who we want to go with . <---> PREDICTED RESPONSE: he s dead . me . ? <---> TARGET: this guy .\n",
      "[NeMo I 2020-11-09 03:45:57 <ipython-input-8-d6a2d1ea5b1b>:13] Train Loss:2.591212034225464\n",
      "[NeMo I 2020-11-09 03:45:57 <ipython-input-8-d6a2d1ea5b1b>:14] SOURCE: we got it . we got it baby . <---> PREDICTED RESPONSE: what ? me ? me ? me <---> TARGET: what ? what is it ?\n",
      "[NeMo I 2020-11-09 03:45:57 <ipython-input-8-d6a2d1ea5b1b>:13] Train Loss:2.643880605697632\n",
      "[NeMo I 2020-11-09 03:45:57 <ipython-input-8-d6a2d1ea5b1b>:14] SOURCE: are you saying that he s . . . <---> PREDICTED RESPONSE: i m afraid . you . ? <---> TARGET: shhhhhh .\n",
      "[NeMo I 2020-11-09 03:45:57 <ipython-input-8-d6a2d1ea5b1b>:13] Train Loss:2.6336963176727295\n",
      "[NeMo I 2020-11-09 03:45:57 <ipython-input-8-d6a2d1ea5b1b>:14] SOURCE: it s okay . i want the rush . <---> PREDICTED RESPONSE: it s a waste of time . it ? <---> TARGET: no . look .\n",
      "[NeMo I 2020-11-09 03:45:57 <ipython-input-8-d6a2d1ea5b1b>:13] Train Loss:2.6471571922302246\n",
      "[NeMo I 2020-11-09 03:45:57 <ipython-input-8-d6a2d1ea5b1b>:14] SOURCE: drive ? i m not old enough yet . <---> PREDICTED RESPONSE: no . you . me home ? <---> TARGET: it s never too soon to start .\n",
      "[NeMo I 2020-11-09 03:45:57 <ipython-input-8-d6a2d1ea5b1b>:13] Train Loss:2.485276699066162\n",
      "[NeMo I 2020-11-09 03:45:57 <ipython-input-8-d6a2d1ea5b1b>:14] SOURCE: i m tired of being afraid of waiting . <---> PREDICTED RESPONSE: why not ? me ? me ? <---> TARGET: why wait ?\n",
      "[NeMo I 2020-11-09 03:45:57 <ipython-input-8-d6a2d1ea5b1b>:13] Train Loss:2.6587517261505127\n",
      "[NeMo I 2020-11-09 03:45:57 <ipython-input-8-d6a2d1ea5b1b>:14] SOURCE: we didn t come here for day day . <---> PREDICTED RESPONSE: what ? you ? me ? me <---> TARGET: yes you did .\n",
      "[NeMo I 2020-11-09 03:45:57 <ipython-input-8-d6a2d1ea5b1b>:13] Train Loss:2.644470453262329\n",
      "[NeMo I 2020-11-09 03:45:57 <ipython-input-8-d6a2d1ea5b1b>:14] SOURCE: okay . we ll see you later then . <---> PREDICTED RESPONSE: yeah . you . me home . <---> TARGET: yeah . bye .\n",
      "[NeMo I 2020-11-09 03:45:57 <ipython-input-8-d6a2d1ea5b1b>:13] Train Loss:2.6320793628692627\n",
      "[NeMo I 2020-11-09 03:45:57 <ipython-input-8-d6a2d1ea5b1b>:14] SOURCE: there are two bodies found at this point . <---> PREDICTED RESPONSE: what ? me in the way ? ? <---> TARGET: can we go up to the crime scene ?\n",
      "[NeMo I 2020-11-09 03:45:57 <ipython-input-8-d6a2d1ea5b1b>:13] Train Loss:2.5099740028381348\n",
      "[NeMo I 2020-11-09 03:45:57 <ipython-input-8-d6a2d1ea5b1b>:14] SOURCE: i think they ll probably have booze there . <---> PREDICTED RESPONSE: you re not . you ? me ? <---> TARGET: right .\n",
      "[NeMo I 2020-11-09 03:45:57 <ipython-input-8-d6a2d1ea5b1b>:13] Train Loss:2.4379358291625977\n",
      "[NeMo I 2020-11-09 03:45:57 <ipython-input-8-d6a2d1ea5b1b>:14] SOURCE: wait . i have to tell you something . <---> PREDICTED RESPONSE: what ? ? me ? me ? <---> TARGET: what ?\n",
      "[NeMo I 2020-11-09 03:45:57 <ipython-input-8-d6a2d1ea5b1b>:13] Train Loss:2.5887296199798584\n",
      "[NeMo I 2020-11-09 03:45:57 <ipython-input-8-d6a2d1ea5b1b>:14] SOURCE: okay how many fingers am i holding up ? <---> PREDICTED RESPONSE: okay . you . me home . <---> TARGET: two .\n",
      "[NeMo I 2020-11-09 03:45:57 <ipython-input-8-d6a2d1ea5b1b>:13] Train Loss:2.5981192588806152\n",
      "[NeMo I 2020-11-09 03:45:57 <ipython-input-8-d6a2d1ea5b1b>:14] SOURCE: well they paid for the doctor s visit . <---> PREDICTED RESPONSE: you re not going to be here . ? <---> TARGET: they did ?\n",
      "[NeMo I 2020-11-09 03:45:57 <ipython-input-8-d6a2d1ea5b1b>:13] Train Loss:2.638730525970459\n",
      "[NeMo I 2020-11-09 03:45:57 <ipython-input-8-d6a2d1ea5b1b>:14] SOURCE: no particular reason . just to go somewhere . <---> PREDICTED RESPONSE: you re not . you ? ? <---> TARGET: and then sunday ?\n",
      "[NeMo I 2020-11-09 03:45:57 <ipython-input-8-d6a2d1ea5b1b>:13] Train Loss:2.3979861736297607\n",
      "[NeMo I 2020-11-09 03:45:57 <ipython-input-8-d6a2d1ea5b1b>:14] SOURCE: one inch stuff on a three number combination . <---> PREDICTED RESPONSE: no . you . me ? ? <---> TARGET: i m good at that .\n",
      "[NeMo I 2020-11-09 03:45:57 <ipython-input-8-d6a2d1ea5b1b>:13] Train Loss:2.6176204681396484\n",
      "[NeMo I 2020-11-09 03:45:57 <ipython-input-8-d6a2d1ea5b1b>:14] SOURCE: don t you want to know my name ? <---> PREDICTED RESPONSE: no . you . me home . <---> TARGET: i already know it mary .\n",
      "[NeMo I 2020-11-09 03:45:57 <ipython-input-8-d6a2d1ea5b1b>:13] Train Loss:2.5779247283935547\n",
      "[NeMo I 2020-11-09 03:45:57 <ipython-input-8-d6a2d1ea5b1b>:14] SOURCE: two years . ever since we left island . <---> PREDICTED RESPONSE: you re not . you ? me ? <---> TARGET: in that time you ever have sex ?\n",
      "[NeMo I 2020-11-09 03:45:57 <ipython-input-8-d6a2d1ea5b1b>:13] Train Loss:2.4632210731506348\n",
      "[NeMo I 2020-11-09 03:45:57 <ipython-input-8-d6a2d1ea5b1b>:14] SOURCE: you live in that house behind the store ? <---> PREDICTED RESPONSE: yes . you . me home . <---> TARGET: yes i do .\n",
      "[NeMo I 2020-11-09 03:45:57 <ipython-input-8-d6a2d1ea5b1b>:13] Train Loss:2.679227113723755\n",
      "[NeMo I 2020-11-09 03:45:57 <ipython-input-8-d6a2d1ea5b1b>:14] SOURCE: aye . . . my lord . . . <---> PREDICTED RESPONSE: good . you to university ? ? <---> TARGET: rise screwball and into the basket with you .\n",
      "[NeMo I 2020-11-09 03:45:57 <ipython-input-8-d6a2d1ea5b1b>:13] Train Loss:2.5723164081573486\n",
      "[NeMo I 2020-11-09 03:45:57 <ipython-input-8-d6a2d1ea5b1b>:14] SOURCE: hey ! that s a u prototype u ! <---> PREDICTED RESPONSE: go back to the drawing board . ? <---> TARGET: go back to the drawing board .\n",
      "[NeMo I 2020-11-09 03:45:57 <ipython-input-8-d6a2d1ea5b1b>:13] Train Loss:2.527582883834839\n",
      "[NeMo I 2020-11-09 03:45:57 <ipython-input-8-d6a2d1ea5b1b>:14] SOURCE: oh god ! are we in that episode ? <---> PREDICTED RESPONSE: no . you . me ? it <---> TARGET: what ?\n",
      "[NeMo I 2020-11-09 03:45:57 <ipython-input-8-d6a2d1ea5b1b>:13] Train Loss:2.4437644481658936\n",
      "[NeMo I 2020-11-09 03:45:57 <ipython-input-8-d6a2d1ea5b1b>:14] SOURCE: yes it ll be a very interesting experiment . <---> PREDICTED RESPONSE: why ? you ? me ? me <---> TARGET: to make a gentleman out of a tramp ?\n",
      "[NeMo I 2020-11-09 03:45:57 <ipython-input-8-d6a2d1ea5b1b>:13] Train Loss:2.60548996925354\n",
      "[NeMo I 2020-11-09 03:45:57 <ipython-input-8-d6a2d1ea5b1b>:14] SOURCE: my husband brought it to me from america . <---> PREDICTED RESPONSE: yes . you . me home . <---> TARGET: a wonderful country . . .\n",
      "[NeMo I 2020-11-09 03:45:57 <ipython-input-8-d6a2d1ea5b1b>:13] Train Loss:2.523513078689575\n",
      "[NeMo I 2020-11-09 03:45:57 <ipython-input-8-d6a2d1ea5b1b>:14] SOURCE: you don t know where you re going ? <---> PREDICTED RESPONSE: no . you . me home . <---> TARGET: no . just the cross streets .\n",
      "[NeMo I 2020-11-09 03:45:57 <ipython-input-8-d6a2d1ea5b1b>:13] Train Loss:2.5227787494659424\n",
      "[NeMo I 2020-11-09 03:45:57 <ipython-input-8-d6a2d1ea5b1b>:14] SOURCE: yes something s very wrong dr . mumford . <---> PREDICTED RESPONSE: why ? you ? me ? me <---> TARGET: you re upset .\n",
      "[NeMo I 2020-11-09 03:45:57 <ipython-input-8-d6a2d1ea5b1b>:13] Train Loss:2.477001667022705\n",
      "[NeMo I 2020-11-09 03:45:57 <ipython-input-8-d6a2d1ea5b1b>:14] SOURCE: one in six . where s the girl ? <---> PREDICTED RESPONSE: yes . you . me home . <---> TARGET: officer white put down that weapon and\n",
      "[NeMo I 2020-11-09 03:45:57 <ipython-input-8-d6a2d1ea5b1b>:13] Train Loss:2.6527130603790283\n",
      "[NeMo I 2020-11-09 03:45:57 <ipython-input-8-d6a2d1ea5b1b>:14] SOURCE: did i ever tell you about my father ? <---> PREDICTED RESPONSE: no . you . me . ? <---> TARGET: i don t give a shit about\n",
      "[NeMo I 2020-11-09 03:45:57 <ipython-input-8-d6a2d1ea5b1b>:13] Train Loss:2.4690568447113037\n",
      "[NeMo I 2020-11-09 03:45:57 <ipython-input-8-d6a2d1ea5b1b>:14] SOURCE: it s what they want you to see . <---> PREDICTED RESPONSE: you re not . you ? me ? <---> TARGET: this is the way in ?\n",
      "[NeMo I 2020-11-09 03:45:57 <ipython-input-8-d6a2d1ea5b1b>:13] Train Loss:2.588352680206299\n",
      "[NeMo I 2020-11-09 03:45:57 <ipython-input-8-d6a2d1ea5b1b>:14] SOURCE: well what do you have for me today ? <---> PREDICTED RESPONSE: i don t know . you . ? <---> TARGET: your majesty herr mozart\n",
      "[NeMo I 2020-11-09 03:45:57 <ipython-input-8-d6a2d1ea5b1b>:13] Train Loss:2.5383691787719727\n",
      "[NeMo I 2020-11-09 03:45:57 <ipython-input-8-d6a2d1ea5b1b>:14] SOURCE: of course it is . is it loaded ? <---> PREDICTED RESPONSE: yes . you . it ? me <---> TARGET: no .\n",
      "[NeMo I 2020-11-09 03:45:57 <ipython-input-8-d6a2d1ea5b1b>:13] Train Loss:2.379603147506714\n",
      "[NeMo I 2020-11-09 03:45:57 <ipython-input-8-d6a2d1ea5b1b>:14] SOURCE: i hope i m not being too forward . <---> PREDICTED RESPONSE: why not ? you ? me ? <---> TARGET: not at all .\n",
      "[NeMo I 2020-11-09 03:45:57 <ipython-input-8-d6a2d1ea5b1b>:13] Train Loss:2.5494961738586426\n",
      "[NeMo I 2020-11-09 03:45:57 <ipython-input-8-d6a2d1ea5b1b>:14] SOURCE: that s it you look like a professional . <---> PREDICTED RESPONSE: that s right . me home . ? <---> TARGET: three . . .\n",
      "[NeMo I 2020-11-09 03:45:57 <ipython-input-8-d6a2d1ea5b1b>:13] Train Loss:2.6173553466796875\n",
      "[NeMo I 2020-11-09 03:45:57 <ipython-input-8-d6a2d1ea5b1b>:14] SOURCE: it s so good to see you sweetheart . <---> PREDICTED RESPONSE: it s my wife . me . ? <---> TARGET: you too mom .\n",
      "[NeMo I 2020-11-09 03:45:57 <ipython-input-8-d6a2d1ea5b1b>:13] Train Loss:2.604447603225708\n",
      "[NeMo I 2020-11-09 03:45:57 <ipython-input-8-d6a2d1ea5b1b>:14] SOURCE: donna . on this tape it says donna . <---> PREDICTED RESPONSE: hey ! you go in there ? me <---> TARGET: donna was a girl i knew in florida .\n",
      "[NeMo I 2020-11-09 03:45:57 <ipython-input-8-d6a2d1ea5b1b>:13] Train Loss:2.377732992172241\n",
      "[NeMo I 2020-11-09 03:45:57 <ipython-input-8-d6a2d1ea5b1b>:14] SOURCE: no harm in your coming to see us . <---> PREDICTED RESPONSE: no . you . me ? ? <---> TARGET: not interested .\n",
      "[NeMo I 2020-11-09 03:45:57 <ipython-input-8-d6a2d1ea5b1b>:13] Train Loss:2.4699957370758057\n",
      "[NeMo I 2020-11-09 03:45:57 <ipython-input-8-d6a2d1ea5b1b>:14] SOURCE: did you know him before you knew dad ? <---> PREDICTED RESPONSE: yes . you . me home . <---> TARGET: since seventh grade .\n",
      "[NeMo I 2020-11-09 03:45:57 <ipython-input-8-d6a2d1ea5b1b>:13] Train Loss:2.5694000720977783\n",
      "[NeMo I 2020-11-09 03:45:57 <ipython-input-8-d6a2d1ea5b1b>:14] SOURCE: i don t talk about her that much . <---> PREDICTED RESPONSE: why not ? me ? me ? <---> TARGET: oh no ?\n",
      "[NeMo I 2020-11-09 03:45:57 <ipython-input-8-d6a2d1ea5b1b>:13] Train Loss:2.636737823486328\n",
      "[NeMo I 2020-11-09 03:45:57 <ipython-input-8-d6a2d1ea5b1b>:14] SOURCE: that s impossible . i m not rheya . <---> PREDICTED RESPONSE: you re not . you ? me ? <---> TARGET: who are you then ?\n",
      "[NeMo I 2020-11-09 03:45:57 <ipython-input-8-d6a2d1ea5b1b>:13] Train Loss:2.537158489227295\n",
      "[NeMo I 2020-11-09 03:45:57 <ipython-input-8-d6a2d1ea5b1b>:14] SOURCE: that s alright we got a pressing engagement ! <---> PREDICTED RESPONSE: yes . you ! me ! ? <---> TARGET: yeah right outside the door !\n",
      "[NeMo I 2020-11-09 03:45:57 <ipython-input-8-d6a2d1ea5b1b>:13] Train Loss:2.467841386795044\n",
      "[NeMo I 2020-11-09 03:45:57 <ipython-input-8-d6a2d1ea5b1b>:14] SOURCE: how do you get out of the house ? <---> PREDICTED RESPONSE: i don t know . you . ? <---> TARGET: i walk out .\n",
      "[NeMo I 2020-11-09 03:45:57 <ipython-input-8-d6a2d1ea5b1b>:13] Train Loss:2.3831465244293213\n",
      "[NeMo I 2020-11-09 03:45:57 <ipython-input-8-d6a2d1ea5b1b>:14] SOURCE: the heroin . you don t have it . <---> PREDICTED RESPONSE: no . you . me ? ? <---> TARGET: no i don t have it .\n",
      "[NeMo I 2020-11-09 03:45:57 <ipython-input-8-d6a2d1ea5b1b>:13] Train Loss:2.5323686599731445\n",
      "[NeMo I 2020-11-09 03:45:57 <ipython-input-8-d6a2d1ea5b1b>:14] SOURCE: you re sure this is a good idea . <---> PREDICTED RESPONSE: yes . you . me . ? <---> TARGET: my people love me .\n",
      "[NeMo I 2020-11-09 03:45:57 <ipython-input-8-d6a2d1ea5b1b>:13] Train Loss:2.413924217224121\n",
      "[NeMo I 2020-11-09 03:45:57 <ipython-input-8-d6a2d1ea5b1b>:14] SOURCE: deception isn t something i personally consider sexy . <---> PREDICTED RESPONSE: what ? you ? me ? me <---> TARGET: what s sexy ?\n",
      "[NeMo I 2020-11-09 03:45:57 <ipython-input-8-d6a2d1ea5b1b>:13] Train Loss:2.5223450660705566\n",
      "[NeMo I 2020-11-09 03:45:57 <ipython-input-8-d6a2d1ea5b1b>:14] SOURCE: i don t want to talk to you . <---> PREDICTED RESPONSE: why not ? me in your truck ? <---> TARGET: fine . just lend me your car .\n",
      "[NeMo I 2020-11-09 03:45:57 <ipython-input-8-d6a2d1ea5b1b>:13] Train Loss:2.5319440364837646\n",
      "[NeMo I 2020-11-09 03:45:57 <ipython-input-8-d6a2d1ea5b1b>:14] SOURCE: we re not even sure what it was . <---> PREDICTED RESPONSE: what ? you ? me ? me <---> TARGET: what else could ve done that ?\n",
      "[NeMo I 2020-11-09 03:45:57 <ipython-input-8-d6a2d1ea5b1b>:13] Train Loss:2.4454307556152344\n",
      "[NeMo I 2020-11-09 03:45:57 <ipython-input-8-d6a2d1ea5b1b>:14] SOURCE: why don t you just go now okay ? <---> PREDICTED RESPONSE: i m afraid . you . me . <---> TARGET: i told you i m not easily shocked .\n",
      "[NeMo I 2020-11-09 03:45:57 <ipython-input-8-d6a2d1ea5b1b>:13] Train Loss:2.4338886737823486\n",
      "[NeMo I 2020-11-09 03:45:57 <ipython-input-8-d6a2d1ea5b1b>:14] SOURCE: you re implying that i planted a gun ? <---> PREDICTED RESPONSE: yes . you . me home . <---> TARGET: not at all\n",
      "[NeMo I 2020-11-09 03:45:57 <ipython-input-8-d6a2d1ea5b1b>:13] Train Loss:2.493215799331665\n",
      "[NeMo I 2020-11-09 03:45:57 <ipython-input-8-d6a2d1ea5b1b>:14] SOURCE: i s pose his name s david ravell . <---> PREDICTED RESPONSE: you re not . you ? me ? <---> TARGET: how did you know ?\n",
      "[NeMo I 2020-11-09 03:45:57 <ipython-input-8-d6a2d1ea5b1b>:13] Train Loss:2.568108081817627\n",
      "[NeMo I 2020-11-09 03:45:57 <ipython-input-8-d6a2d1ea5b1b>:14] SOURCE: oh our relatives . . . the children . <---> PREDICTED RESPONSE: what ? me in the car ? me <---> TARGET: the children ! may i see ?\n",
      "[NeMo I 2020-11-09 03:45:57 <ipython-input-8-d6a2d1ea5b1b>:13] Train Loss:2.5124175548553467\n",
      "[NeMo I 2020-11-09 03:45:57 <ipython-input-8-d6a2d1ea5b1b>:14] SOURCE: are you worried about security for your million ? <---> PREDICTED RESPONSE: no . you . me . ? <---> TARGET: no .\n",
      "[NeMo I 2020-11-09 03:45:57 <ipython-input-8-d6a2d1ea5b1b>:13] Train Loss:2.5442261695861816\n",
      "[NeMo I 2020-11-09 03:45:57 <ipython-input-8-d6a2d1ea5b1b>:14] SOURCE: i kinda get nervous when i take tests . <---> PREDICTED RESPONSE: you re not going to be here . me <---> TARGET: don t move .\n",
      "[NeMo I 2020-11-09 03:45:57 <ipython-input-8-d6a2d1ea5b1b>:13] Train Loss:2.5345451831817627\n",
      "[NeMo I 2020-11-09 03:45:57 <ipython-input-8-d6a2d1ea5b1b>:14] SOURCE: it s a plain end see ? so ? <---> PREDICTED RESPONSE: yes . you know that . ? <---> TARGET: take it off .\n",
      "[NeMo I 2020-11-09 03:45:57 <ipython-input-8-d6a2d1ea5b1b>:13] Train Loss:2.421959400177002\n",
      "[NeMo I 2020-11-09 03:45:57 <ipython-input-8-d6a2d1ea5b1b>:14] SOURCE: you may not think so but you are . <---> PREDICTED RESPONSE: i m not . you . ? <---> TARGET: he was by the book all the way .\n",
      "[NeMo I 2020-11-09 03:45:57 <ipython-input-8-d6a2d1ea5b1b>:13] Train Loss:2.4540414810180664\n",
      "[NeMo I 2020-11-09 03:45:57 <ipython-input-8-d6a2d1ea5b1b>:14] SOURCE: she must be about thirty three thirty four . <---> PREDICTED RESPONSE: you know you re not . you ? <---> TARGET: you must be thinking of a different daughter .\n",
      "[NeMo I 2020-11-09 03:45:57 <ipython-input-8-d6a2d1ea5b1b>:13] Train Loss:2.4264490604400635\n",
      "[NeMo I 2020-11-09 03:45:57 <ipython-input-8-d6a2d1ea5b1b>:14] SOURCE: usually i just turn the can upside down . <---> PREDICTED RESPONSE: why not ? me in there ? me <---> TARGET: maybe we should soap your hand or something .\n",
      "[NeMo I 2020-11-09 03:45:57 <ipython-input-8-d6a2d1ea5b1b>:13] Train Loss:2.477989673614502\n",
      "[NeMo I 2020-11-09 03:45:57 <ipython-input-8-d6a2d1ea5b1b>:14] SOURCE: my goodness . a wedding . my goodness . <---> PREDICTED RESPONSE: what ? me ? me out ? <---> TARGET: wow . congratulations .\n",
      "[NeMo I 2020-11-09 03:45:57 <ipython-input-8-d6a2d1ea5b1b>:13] Train Loss:2.3799915313720703\n",
      "[NeMo I 2020-11-09 03:45:57 <ipython-input-8-d6a2d1ea5b1b>:14] SOURCE: yes i m on a good streak thanks . <---> PREDICTED RESPONSE: why ? you ? me ? me <---> TARGET: i was just looking at you so quiet .\n",
      "[NeMo I 2020-11-09 03:45:57 <ipython-input-8-d6a2d1ea5b1b>:13] Train Loss:2.3041837215423584\n",
      "[NeMo I 2020-11-09 03:45:57 <ipython-input-8-d6a2d1ea5b1b>:14] SOURCE: what time did we go to the funeral ? <---> PREDICTED RESPONSE: i don t know . you . ? <---> TARGET: i think four .\n",
      "[NeMo I 2020-11-09 03:45:57 <ipython-input-8-d6a2d1ea5b1b>:13] Train Loss:2.475829601287842\n",
      "[NeMo I 2020-11-09 03:45:57 <ipython-input-8-d6a2d1ea5b1b>:14] SOURCE: barton . empathy requires . . . understanding . <---> PREDICTED RESPONSE: what ? me ? me ? me <---> TARGET: what . what don t i understand ?\n",
      "[NeMo I 2020-11-09 03:45:57 <ipython-input-8-d6a2d1ea5b1b>:13] Train Loss:2.475278615951538\n",
      "[NeMo I 2020-11-09 03:45:57 <ipython-input-8-d6a2d1ea5b1b>:14] SOURCE: i heard your mother took sick that so ? <---> PREDICTED RESPONSE: yes . you . me home . <---> TARGET: yes ma am . .\n",
      "[NeMo I 2020-11-09 03:45:57 <ipython-input-8-d6a2d1ea5b1b>:13] Train Loss:2.5558297634124756\n",
      "[NeMo I 2020-11-09 03:45:57 <ipython-input-8-d6a2d1ea5b1b>:14] SOURCE: what exactly did you want to discuss pat ? <---> PREDICTED RESPONSE: you know what i mean . ? ? <---> TARGET: you . what you re doing\n",
      "[NeMo I 2020-11-09 03:45:57 <ipython-input-8-d6a2d1ea5b1b>:13] Train Loss:2.4162490367889404\n",
      "[NeMo I 2020-11-09 03:45:57 <ipython-input-8-d6a2d1ea5b1b>:14] SOURCE: now go over there and get those digits . <---> PREDICTED RESPONSE: you re not . you ? ? <---> TARGET: you re money .\n",
      "[NeMo I 2020-11-09 03:45:57 <ipython-input-8-d6a2d1ea5b1b>:13] Train Loss:2.461177110671997\n",
      "[NeMo I 2020-11-09 03:45:57 <ipython-input-8-d6a2d1ea5b1b>:14] SOURCE: maybe i ll bring him some food by . <---> PREDICTED RESPONSE: you re not . you . ? <---> TARGET: thank you for walking him .\n",
      "[NeMo I 2020-11-09 03:45:57 <ipython-input-8-d6a2d1ea5b1b>:13] Train Loss:2.3897721767425537\n",
      "[NeMo I 2020-11-09 03:45:57 <ipython-input-8-d6a2d1ea5b1b>:14] SOURCE: i didn t ask george to invite you . <---> PREDICTED RESPONSE: why ? you ? me ? me <---> TARGET: then who did ?\n",
      "[NeMo I 2020-11-09 03:45:57 <ipython-input-8-d6a2d1ea5b1b>:13] Train Loss:2.283005475997925\n",
      "[NeMo I 2020-11-09 03:45:57 <ipython-input-8-d6a2d1ea5b1b>:14] SOURCE: good answer . same goes double for me . <---> PREDICTED RESPONSE: you re a good idea . you ? <---> TARGET: who s your friend ?\n",
      "[NeMo I 2020-11-09 03:45:57 <ipython-input-8-d6a2d1ea5b1b>:13] Train Loss:2.367141008377075\n",
      "[NeMo I 2020-11-09 03:45:57 <ipython-input-8-d6a2d1ea5b1b>:14] SOURCE: gee this is a surprise mr . gittes . <---> PREDICTED RESPONSE: yes sir . you back in there ? <---> TARGET: call me jake . how is everything ?\n",
      "[NeMo I 2020-11-09 03:45:57 <ipython-input-8-d6a2d1ea5b1b>:13] Train Loss:2.3479621410369873\n",
      "[NeMo I 2020-11-09 03:45:57 <ipython-input-8-d6a2d1ea5b1b>:14] SOURCE: i don t know how to thank you . <---> PREDICTED RESPONSE: why not ? me in the other way ? <---> TARGET: i enjoyed every minute of it .\n",
      "[NeMo I 2020-11-09 03:45:57 <ipython-input-8-d6a2d1ea5b1b>:13] Train Loss:2.391252040863037\n",
      "[NeMo I 2020-11-09 03:45:57 <ipython-input-8-d6a2d1ea5b1b>:14] SOURCE: it s french though . it really is . <---> PREDICTED RESPONSE: it s a waste of time . it ? <---> TARGET: yeah .\n",
      "[NeMo I 2020-11-09 03:45:57 <ipython-input-8-d6a2d1ea5b1b>:13] Train Loss:2.542102336883545\n",
      "[NeMo I 2020-11-09 03:45:57 <ipython-input-8-d6a2d1ea5b1b>:14] SOURCE: i want you to help my little girl . <---> PREDICTED RESPONSE: i m sorry . you . ? <---> TARGET: i m only a student .\n",
      "[NeMo I 2020-11-09 03:45:57 <ipython-input-8-d6a2d1ea5b1b>:13] Train Loss:2.329878568649292\n",
      "[NeMo I 2020-11-09 03:45:57 <ipython-input-8-d6a2d1ea5b1b>:14] SOURCE: was it ? did you speak to tom ? <---> PREDICTED RESPONSE: yes . you . me home ? <---> TARGET: november th is my information .\n",
      "[NeMo I 2020-11-09 03:45:57 <ipython-input-8-d6a2d1ea5b1b>:13] Train Loss:2.3150405883789062\n",
      "[NeMo I 2020-11-09 03:45:57 <ipython-input-8-d6a2d1ea5b1b>:14] SOURCE: put it in the middle of the room ! <---> PREDICTED RESPONSE: you re not ! you ! ! <---> TARGET: when did you make this walter ?\n",
      "[NeMo I 2020-11-09 03:45:57 <ipython-input-8-d6a2d1ea5b1b>:13] Train Loss:2.2369935512542725\n",
      "[NeMo I 2020-11-09 03:45:57 <ipython-input-8-d6a2d1ea5b1b>:14] SOURCE: andy stop ! i think he can help you <---> PREDICTED RESPONSE: allo ? me going to go ! ? <---> TARGET: allo ?\n",
      "[NeMo I 2020-11-09 03:45:57 <ipython-input-8-d6a2d1ea5b1b>:13] Train Loss:2.3407528400421143\n",
      "[NeMo I 2020-11-09 03:45:57 <ipython-input-8-d6a2d1ea5b1b>:14] SOURCE: yeah i went on a date last week . <---> PREDICTED RESPONSE: you re not . you home . ? <---> TARGET: how d it go ?\n",
      "[NeMo I 2020-11-09 03:45:57 <ipython-input-8-d6a2d1ea5b1b>:13] Train Loss:2.345858097076416\n",
      "[NeMo I 2020-11-09 03:45:57 <ipython-input-8-d6a2d1ea5b1b>:14] SOURCE: is that why you say it s horrible ? <---> PREDICTED RESPONSE: yes . you . me home . <---> TARGET: yes .\n",
      "[NeMo I 2020-11-09 03:45:57 <ipython-input-8-d6a2d1ea5b1b>:13] Train Loss:2.311591863632202\n",
      "[NeMo I 2020-11-09 03:45:57 <ipython-input-8-d6a2d1ea5b1b>:14] SOURCE: everyone loves the girl next door particularly farley . <---> PREDICTED RESPONSE: no . it . it ! ? <---> TARGET: so it seems .\n",
      "[NeMo I 2020-11-09 03:45:57 <ipython-input-8-d6a2d1ea5b1b>:13] Train Loss:2.27073073387146\n",
      "[NeMo I 2020-11-09 03:45:57 <ipython-input-8-d6a2d1ea5b1b>:14] SOURCE: what exactly did you want to discuss pat ? <---> PREDICTED RESPONSE: you know what i mean . ? ? <---> TARGET: you . what you re doing\n",
      "[NeMo I 2020-11-09 03:45:57 <ipython-input-8-d6a2d1ea5b1b>:13] Train Loss:2.406693935394287\n",
      "[NeMo I 2020-11-09 03:45:57 <ipython-input-8-d6a2d1ea5b1b>:14] SOURCE: yah this guy s smaller than his buddy . <---> PREDICTED RESPONSE: yes ? you ? me ? me <---> TARGET: oh yah ?\n",
      "[NeMo I 2020-11-09 03:45:57 <ipython-input-8-d6a2d1ea5b1b>:13] Train Loss:2.2392795085906982\n",
      "[NeMo I 2020-11-09 03:45:57 <ipython-input-8-d6a2d1ea5b1b>:14] SOURCE: rosebud ? i ll tell you about rosebud . <---> PREDICTED RESPONSE: you re a girl . you ? me <---> TARGET: again .\n",
      "[NeMo I 2020-11-09 03:45:57 <ipython-input-8-d6a2d1ea5b1b>:13] Train Loss:2.217236280441284\n",
      "[NeMo I 2020-11-09 03:45:57 <ipython-input-8-d6a2d1ea5b1b>:14] SOURCE: you can hit me if you want to . <---> PREDICTED RESPONSE: no . you . me ? ? <---> TARGET: no please . i won t .\n",
      "[NeMo I 2020-11-09 03:45:57 <ipython-input-8-d6a2d1ea5b1b>:13] Train Loss:2.1588082313537598\n",
      "[NeMo I 2020-11-09 03:45:57 <ipython-input-8-d6a2d1ea5b1b>:14] SOURCE: lindsey just put the thing on and shut up <---> PREDICTED RESPONSE: no ! ! ! ! ! <---> TARGET: no ! ! now be logical bud you re\n",
      "[NeMo I 2020-11-09 03:45:57 <ipython-input-8-d6a2d1ea5b1b>:13] Train Loss:2.2693850994110107\n",
      "[NeMo I 2020-11-09 03:45:57 <ipython-input-8-d6a2d1ea5b1b>:14] SOURCE: friend of his . they play duets together . <---> PREDICTED RESPONSE: he s dead . ? me ? <---> TARGET: duets ? but can we trust him ?\n",
      "[NeMo I 2020-11-09 03:45:57 <ipython-input-8-d6a2d1ea5b1b>:13] Train Loss:2.1924569606781006\n",
      "[NeMo I 2020-11-09 03:45:57 <ipython-input-8-d6a2d1ea5b1b>:14] SOURCE: please general i will give you money whiskey . <---> PREDICTED RESPONSE: you re not . you home . ? <---> TARGET: you said you had no whiskey .\n",
      "[NeMo I 2020-11-09 03:45:57 <ipython-input-8-d6a2d1ea5b1b>:13] Train Loss:2.1520540714263916\n",
      "[NeMo I 2020-11-09 03:45:57 <ipython-input-8-d6a2d1ea5b1b>:14] SOURCE: you seem to have an answer for everything . <---> PREDICTED RESPONSE: no . you . ? ? <---> TARGET: something wrong with that ?\n",
      "[NeMo I 2020-11-09 03:45:57 <ipython-input-8-d6a2d1ea5b1b>:13] Train Loss:2.334462881088257\n",
      "[NeMo I 2020-11-09 03:45:57 <ipython-input-8-d6a2d1ea5b1b>:14] SOURCE: i want this sera . i need this ! <---> PREDICTED RESPONSE: you re not . you ? me ? <---> TARGET: please yuri .\n",
      "[NeMo I 2020-11-09 03:45:57 <ipython-input-8-d6a2d1ea5b1b>:13] Train Loss:2.212710380554199\n",
      "[NeMo I 2020-11-09 03:45:57 <ipython-input-8-d6a2d1ea5b1b>:14] SOURCE: hiya fellow . . . what were they ? <---> PREDICTED RESPONSE: what ? ? me ? me ? <---> TARGET: what ?\n",
      "[NeMo I 2020-11-09 03:45:57 <ipython-input-8-d6a2d1ea5b1b>:13] Train Loss:2.3517956733703613\n",
      "[NeMo I 2020-11-09 03:45:57 <ipython-input-8-d6a2d1ea5b1b>:14] SOURCE: it means you re too hard on guys . <---> PREDICTED RESPONSE: no . you . me ? ? <---> TARGET: no i m not .\n",
      "[NeMo I 2020-11-09 03:45:57 <ipython-input-8-d6a2d1ea5b1b>:13] Train Loss:2.1896493434906006\n",
      "[NeMo I 2020-11-09 03:45:57 <ipython-input-8-d6a2d1ea5b1b>:14] SOURCE: uh his birthday uh may . i think . <---> PREDICTED RESPONSE: what ? you ? me ? me <---> TARGET: it s november .\n",
      "[NeMo I 2020-11-09 03:45:57 <ipython-input-8-d6a2d1ea5b1b>:13] Train Loss:2.1318411827087402\n",
      "[NeMo I 2020-11-09 03:45:57 <ipython-input-8-d6a2d1ea5b1b>:14] SOURCE: oh . . .and who is it ! ? <---> PREDICTED RESPONSE: what ? me ! ? me ! <---> TARGET: i didn t say anything .\n",
      "[NeMo I 2020-11-09 03:45:57 <ipython-input-8-d6a2d1ea5b1b>:13] Train Loss:2.217041492462158\n",
      "[NeMo I 2020-11-09 03:45:57 <ipython-input-8-d6a2d1ea5b1b>:14] SOURCE: fucking germans . nothing changes . fucking nazis . <---> PREDICTED RESPONSE: they re not . ? me ? <---> TARGET: they were nazis dude ?\n",
      "[NeMo I 2020-11-09 03:45:57 <ipython-input-8-d6a2d1ea5b1b>:13] Train Loss:2.2150564193725586\n",
      "[NeMo I 2020-11-09 03:45:57 <ipython-input-8-d6a2d1ea5b1b>:14] SOURCE: i think your life s about to change . <---> PREDICTED RESPONSE: you re not . you ? me ? <---> TARGET: so you found mary ?\n",
      "[NeMo I 2020-11-09 03:45:57 <ipython-input-8-d6a2d1ea5b1b>:13] Train Loss:2.1607000827789307\n",
      "[NeMo I 2020-11-09 03:45:57 <ipython-input-8-d6a2d1ea5b1b>:14] SOURCE: that was nothing . that wasn t anything . <---> PREDICTED RESPONSE: why ? you ? me ? me <---> TARGET: but\n",
      "[NeMo I 2020-11-09 03:45:57 <ipython-input-8-d6a2d1ea5b1b>:13] Train Loss:2.164855480194092\n",
      "[NeMo I 2020-11-09 03:45:57 <ipython-input-8-d6a2d1ea5b1b>:14] SOURCE: i guess i am . just a little . <---> PREDICTED RESPONSE: what ? me ? me ? me <---> TARGET: what do you mean ?\n",
      "[NeMo I 2020-11-09 03:45:57 <ipython-input-8-d6a2d1ea5b1b>:13] Train Loss:2.328474998474121\n",
      "[NeMo I 2020-11-09 03:45:57 <ipython-input-8-d6a2d1ea5b1b>:14] SOURCE: we were going to start again i think . <---> PREDICTED RESPONSE: you re not . you ? me ? <---> TARGET: don t you already have a girlfriend ?\n",
      "[NeMo I 2020-11-09 03:45:57 <ipython-input-8-d6a2d1ea5b1b>:13] Train Loss:2.279642105102539\n",
      "[NeMo I 2020-11-09 03:45:57 <ipython-input-8-d6a2d1ea5b1b>:14] SOURCE: we still have to go in there sometime . <---> PREDICTED RESPONSE: what ? you ? me ? me <---> TARGET: it s always closed . . .\n",
      "[NeMo I 2020-11-09 03:45:57 <ipython-input-8-d6a2d1ea5b1b>:13] Train Loss:2.187441825866699\n",
      "[NeMo I 2020-11-09 03:45:57 <ipython-input-8-d6a2d1ea5b1b>:14] SOURCE: listen to your dirty mouth you fucking whore ! <---> PREDICTED RESPONSE: you re not ! you ! ! <---> TARGET: goddamn you !\n",
      "[NeMo I 2020-11-09 03:45:57 <ipython-input-8-d6a2d1ea5b1b>:13] Train Loss:2.2605457305908203\n",
      "[NeMo I 2020-11-09 03:45:57 <ipython-input-8-d6a2d1ea5b1b>:14] SOURCE: i ve got you come on go down . <---> PREDICTED RESPONSE: i m sorry . you . me ? <---> TARGET: rachel !\n",
      "[NeMo I 2020-11-09 03:45:57 <ipython-input-8-d6a2d1ea5b1b>:13] Train Loss:2.339329719543457\n",
      "[NeMo I 2020-11-09 03:45:57 <ipython-input-8-d6a2d1ea5b1b>:14] SOURCE: can i beg for mercy on my knees ? <---> PREDICTED RESPONSE: no . you . me home ? <---> TARGET: if you want to be found that way .\n",
      "[NeMo I 2020-11-09 03:45:57 <ipython-input-8-d6a2d1ea5b1b>:13] Train Loss:2.498784303665161\n",
      "[NeMo I 2020-11-09 03:45:57 <ipython-input-8-d6a2d1ea5b1b>:14] SOURCE: i ve never used the word insane ted . <---> PREDICTED RESPONSE: you re not . you home . ? <---> TARGET: what word would you use elaine ?\n",
      "[NeMo I 2020-11-09 03:45:57 <ipython-input-8-d6a2d1ea5b1b>:13] Train Loss:2.413985013961792\n",
      "[NeMo I 2020-11-09 03:45:57 <ipython-input-8-d6a2d1ea5b1b>:14] SOURCE: mama that wasn t marie that was me ! <---> PREDICTED RESPONSE: you re not . you ! ? <---> TARGET: who are you ?\n",
      "[NeMo I 2020-11-09 03:45:57 <ipython-input-8-d6a2d1ea5b1b>:13] Train Loss:2.689047336578369\n",
      "[NeMo I 2020-11-09 03:45:57 <ipython-input-8-d6a2d1ea5b1b>:14] SOURCE: what s with all the whoo whoo noises ? <---> PREDICTED RESPONSE: nothing . you ever seen him . ? <---> TARGET: everything s fine pop .\n"
     ]
    }
   ],
   "source": [
    "for batch in range(len(result['rnn_train.inference@torch_tensor'][0])):\n",
    "    outputs2words([i[batch] for i in result['rnn_train.inference@torch_tensor']], result['rnn_train.eval_data@out_nm'].voc.index2word)"
   ]
  },
  {
   "cell_type": "markdown",
   "metadata": {},
   "source": [
    "## Chatbot model Hypyparameter Tuning\n",
    "\n",
    "If you haven't followed the `09_gquant_machine_hpo` notebook, it is recommended to go back and check it. It explains in detail how to use gQuant to perform hyperparameter tuning. We will use it to tune the hyperparameters for the chatbot model.\n",
    "\n",
    "Since the context composite node exposes the `number of layers` and `drop-out rate` as context parameters, the `hpo` `Nemo Hyper Tune Node` will do a grid search of the `number of layers` parameter and random uniform search on the `drop-out` parameter. The eval loss will be used as the hyperparameter tuning metric. \n",
    "\n",
    "In the following example, we will perform `1` sample hyperparameter tuning. Click on the `run` button to see the hyperparameter tuning in action."
   ]
  },
  {
   "cell_type": "code",
   "execution_count": 10,
   "metadata": {
    "collapsed": true,
    "jupyter": {
     "outputs_hidden": true
    }
   },
   "outputs": [
    {
     "data": {
      "application/vnd.jupyter.widget-view+json": {
       "model_id": "898d24f2d2544335bc23430bdb9313bf",
       "version_major": 2,
       "version_minor": 0
      },
      "text/plain": [
       "GQuantWidget(sub=HBox(), value=[OrderedDict([('id', 'rnn_train'), ('type', 'ContextCompositeNode'), ('conf', {…"
      ]
     },
     "metadata": {},
     "output_type": "display_data"
    }
   ],
   "source": [
    "taskGraph=TaskGraph.load_taskgraph('../taskgraphs/nemo_examples/chatbot_hpo.gq.yaml')\n",
    "taskGraph.draw()"
   ]
  },
  {
   "cell_type": "markdown",
   "metadata": {},
   "source": [
    "It is satisfying to see all the GPUs in the host node are busy searching for different hyperparameters. The best set of hyperparameters are reported in the end. It can also be fed back to other context composite node to use. \n",
    "\n",
    "Since we are dealing with deep learning model training, the model is trained in a batched fashion. It is sometimes wasteful to run the training to end to get a metric. Luckily, the `Ray Tune` library provides a few scheduler algorithms that can perform the early stop in the optimization process. The `Nemo Hyper Tune Node` integrates a few scheduler algorithms from the `Ray Tune` lib that are ready to be used. \n",
    "\n",
    "In the following example, we will use [ASHA](https://docs.ray.io/en/latest/tune/api_docs/schedulers.html#tune-scheduler-hyperband), a scalable algorithm for [principled early stopping](https://blog.ml.cmu.edu/2018/12/12/massively-parallel-hyperparameter-optimization/). On a high level, ASHA terminates trials that are less promising and allocates more time and resources to more promising trials. As our optimization process becomes more efficient, we can afford to increase the search space by 5x, by adjusting the parameter `num_samples`. In the following example, we use `10` as `num_samples`.\n",
    "\n",
    "Click on the `run` button to see the large scale hyperparameter search in action."
   ]
  },
  {
   "cell_type": "code",
   "execution_count": 11,
   "metadata": {},
   "outputs": [
    {
     "data": {
      "application/vnd.jupyter.widget-view+json": {
       "model_id": "b4be934bf47e46aab916c9f73e310c54",
       "version_major": 2,
       "version_minor": 0
      },
      "text/plain": [
       "GQuantWidget(sub=HBox(), value=[OrderedDict([('id', 'rnn_train'), ('type', 'ContextCompositeNode'), ('conf', {…"
      ]
     },
     "metadata": {},
     "output_type": "display_data"
    }
   ],
   "source": [
    "taskGraph=TaskGraph.load_taskgraph('../taskgraphs/nemo_examples/chatbot_large_hpo_search.gq.yaml')\n",
    "taskGraph.draw()"
   ]
  },
  {
   "cell_type": "markdown",
   "metadata": {},
   "source": [
    "Checking the dynamically updated logs, you can see there are `20` search trails running in total because of the `10` samples and `2` types of grid search. Most of the trials are terminated early at `1` iteration. Only a few are running untill the end. \n",
    "\n",
    "After tuning is done, the best hyperparameter set is used to train the model again and run the inference. It should give a better model performance."
   ]
  },
  {
   "cell_type": "markdown",
   "metadata": {},
   "source": [
    "## Clean up"
   ]
  },
  {
   "cell_type": "code",
   "execution_count": 12,
   "metadata": {},
   "outputs": [
    {
     "data": {
      "text/plain": [
       "{'status': 'ok', 'restart': True}"
      ]
     },
     "execution_count": 12,
     "metadata": {},
     "output_type": "execute_result"
    }
   ],
   "source": [
    "import IPython\n",
    "app = IPython.Application.instance()\n",
    "app.kernel.do_shutdown(True)"
   ]
  },
  {
   "cell_type": "code",
   "execution_count": null,
   "metadata": {},
   "outputs": [],
   "source": []
  }
 ],
 "metadata": {
  "kernelspec": {
   "display_name": "Python 3",
   "language": "python",
   "name": "python3"
  },
  "language_info": {
   "codemirror_mode": {
    "name": "ipython",
    "version": 3
   },
   "file_extension": ".py",
   "mimetype": "text/x-python",
   "name": "python",
   "nbconvert_exporter": "python",
   "pygments_lexer": "ipython3",
   "version": "3.7.7"
  }
 },
 "nbformat": 4,
 "nbformat_minor": 4
}
