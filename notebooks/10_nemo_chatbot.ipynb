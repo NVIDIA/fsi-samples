{
 "cells": [
  {
   "cell_type": "markdown",
   "metadata": {
    "slideshow": {
     "slide_type": "slide"
    }
   },
   "source": [
    "# gQuant NeMo Chatbot Example\n",
    "\n",
    "In the previous example notebooks, we use gQuant to perform ETL, backtesting, machine learning, hyperparameter tuning tasks. As we  see, gQuant can be extended easily for other types of workflow accelerations as long as the computation can be organized as graph computations. \n",
    "\n",
    "[NeMo](https://github.com/NVIDIA/NeMo) is a toolkit for creating Conversational AI applications. Most importantly, NeMo abstracts the neural network into neural modules with input and output ports similar to gQuant nodes. So the neural network computation is organized as a computation graph made of neural modules. Because of the similarity between gQuant node and neural modules, the neural module can be easily wrapped up into a gQuant node. NeMo is integrated into the gQuant so the neural modules can be wired, trained, inferred visually with the help of gQuant UI. \n",
    "\n",
    "In this tutorial, we will show how to use gQuant to train an RNN model for chatbot applications. \n",
    "\n",
    "## NeMo gQuant integration\n",
    "\n",
    "Convert the NeMo neural module to gQuant node is easy. gQuant provides a base NeMo node that can be used for inheritance for neural modules. The child class just need to pass in the class name of the Neural Module in the constructor. Here is one example that converts the EncoderRNN Neural Module to gQuant node.\n",
    "\n",
    "```python\n",
    "from gquant.dataframe_flow import Node\n",
    "# within <>/modules/nemo_gquant_modules\n",
    "from .nemoBaseNode import NeMoBase\n",
    "import nemo\n",
    "import nemo.backends.pytorch.tutorials\n",
    "\n",
    "\n",
    "class EncoderRNNNode(NeMoBase, Node):\n",
    "    def init(self):\n",
    "        NeMoBase.init(self, nemo.backends.pytorch.tutorials.chatbot.modules.EncoderRNN)\n",
    "```\n",
    "\n",
    "`NeMoBase` inspects the `EncoderRNN` constructor signature and converts it as node configuration JSON schema. It automatically infers the types for each of the parameters.  If the auto type inference has an error, it can be fixed by modifying the `self.fix_type` dictionary in the constructor. The keys of the dictionary are the parameter names while the values are the type strings.\n",
    "\n",
    "In the `util` directory, we provide a script `auto_gen.py` that automatically converts the NeMo Neural Modules into gQuant nodes. Currently, it converts 90% of the Neural Modules. The converted Python files are exported to the `modules` directory. gQuant by design can load any externally defined nodes by defining the node modules in the `gquantrc` file.  Here is an example `gquantrc` file that loads the converted NeMo neural module files:\n",
    "\n",
    "```ini\n",
    "nemo_modules= %(MODULEPATH)s/nemo_gquant_modules\n",
    "```\n",
    "Note, gQuant can automatically interpret the `.` in the module names to form hierarchical menus.\n",
    "\n",
    "\n",
    "## Data Preparation\n",
    "\n",
    "Let's first prepare the chatbot dataset that will be used to train an RNN model."
   ]
  },
  {
   "cell_type": "code",
   "execution_count": 1,
   "metadata": {},
   "outputs": [],
   "source": [
    "import gzip\n",
    "import os\n",
    "import shutil\n",
    "data_file = \"movie_data.txt\"\n",
    "# Download the data file.\n",
    "if not os.path.isfile(data_file):\n",
    "    with gzip.open(\"../../NeMo/tests/data/movie_lines.txt.gz\", 'rb') as f_in:\n",
    "        with open(data_file, 'wb') as f_out:\n",
    "            shutil.copyfileobj(f_in, f_out)"
   ]
  },
  {
   "cell_type": "markdown",
   "metadata": {},
   "source": [
    "It assumes you are using the docker container to run this example. The `movie_lines.txt.gz` file is located at `../../NeMo/tests/data/`. If it is not the case, the data file can be fetched by the following command.\n",
    "```bash\n",
    "wget https://github.com/NVIDIA/NeMo/raw/v0.11.1/tests/data/movie_lines.txt.gz\n",
    "gzip -d movie_lines.txt.gz\n",
    "mv movie_lines.txt movie_data.txt\n",
    "```\n",
    "\n",
    "Let's load the necessary NeMo module and gQuant module, and setup the Neural Module Factory environment. "
   ]
  },
  {
   "cell_type": "code",
   "execution_count": 2,
   "metadata": {},
   "outputs": [],
   "source": [
    "# start the neural module factory\n",
    "import nemo\n",
    "nemo.core.NeuralModuleFactory()\n",
    "import json\n",
    "from gquant.dataframe_flow import TaskGraph"
   ]
  },
  {
   "cell_type": "markdown",
   "metadata": {},
   "source": [
    "Later we will use Ray Tune for hyperparameter tuning. Let's setup the ray environment so we can utilize all the GPUs in the host node for hyperparameter search."
   ]
  },
  {
   "cell_type": "code",
   "execution_count": 3,
   "metadata": {},
   "outputs": [
    {
     "name": "stderr",
     "output_type": "stream",
     "text": [
      "2020-11-05 03:06:53,143\tINFO resource_spec.py:231 -- Starting Ray with 53.08 GiB memory available for workers and up to 26.55 GiB for objects. You can adjust these settings with ray.init(memory=<bytes>, object_store_memory=<bytes>).\n",
      "2020-11-05 03:06:53,743\tINFO services.py:1193 -- View the Ray dashboard at \u001b[1m\u001b[32m172.17.0.2:8265\u001b[39m\u001b[22m\n",
      "2020-11-05 03:06:53,748\tWARNING services.py:1567 -- WARNING: The object store is using /tmp instead of /dev/shm because /dev/shm has only 67100672 bytes available. This may slow down performance! You may be able to free up space by deleting files in /dev/shm or terminating any running plasma_store_server processes. If you are inside a Docker container, you may need to pass an argument with the flag '--shm-size' to 'docker run'.\n",
      "2020-11-05 03:06:53,767\tWARNING services.py:1567 -- WARNING: The object store is using /tmp instead of /dev/shm because /dev/shm has only 67100672 bytes available. This may slow down performance! You may be able to free up space by deleting files in /dev/shm or terminating any running plasma_store_server processes. If you are inside a Docker container, you may need to pass an argument with the flag '--shm-size' to 'docker run'.\n"
     ]
    },
    {
     "data": {
      "text/plain": [
       "{'node_ip_address': '172.17.0.2',\n",
       " 'raylet_ip_address': '172.17.0.2',\n",
       " 'redis_address': '172.17.0.2:6379',\n",
       " 'object_store_address': '/tmp/ray/session_2020-11-05_03-06-53_142655_8548/sockets/plasma_store',\n",
       " 'raylet_socket_name': '/tmp/ray/session_2020-11-05_03-06-53_142655_8548/sockets/raylet',\n",
       " 'webui_url': '172.17.0.2:8265',\n",
       " 'session_dir': '/tmp/ray/session_2020-11-05_03-06-53_142655_8548'}"
      ]
     },
     "execution_count": 3,
     "metadata": {},
     "output_type": "execute_result"
    }
   ],
   "source": [
    "import ray\n",
    "ray.init(dashboard_host='0.0.0.0')"
   ]
  },
  {
   "cell_type": "markdown",
   "metadata": {},
   "source": [
    "## Chatbot Model\n",
    "\n",
    "The chat bot model is taken from the NeMo tutorial example. It consists of a Data layer, a RNN encoder, RNN decoder for Cross Entropy loss and Greedy RNN decoder for text inference. Load the TaskGraph into gQuant:"
   ]
  },
  {
   "cell_type": "code",
   "execution_count": 4,
   "metadata": {
    "slideshow": {
     "slide_type": "slide"
    }
   },
   "outputs": [
    {
     "data": {
      "application/vnd.jupyter.widget-view+json": {
       "model_id": "ff4f5d1f99f94652b1858882a1b41d3d",
       "version_major": 2,
       "version_minor": 0
      },
      "text/plain": [
       "GQuantWidget(sub=HBox(), value=[OrderedDict([('id', 'data'), ('type', 'DialogDataLayerNode'), ('conf', {'batch…"
      ]
     },
     "metadata": {},
     "output_type": "display_data"
    }
   ],
   "source": [
    "taskGraph=TaskGraph.load_taskgraph('../taskgraphs/nemo_examples/chatbot_example.gq.yaml')\n",
    "taskGraph.draw()"
   ]
  },
  {
   "cell_type": "markdown",
   "metadata": {},
   "source": [
    "You may notice that each trainable neural module has an `in_nm` input port that takes a neural module as input. This input port is mainly used for sharing weights between neural modules. The gQuant Neural Module wrapper supports all 3 weight sharing mechanisms mentioned in the [NeMo documents](https://docs.nvidia.com/deeplearning/nemo/user-guide/docs/en/v0.11.0/tutorials/weightsharing.html): Module Reuse, Weight Copying, and Weight Tying. Click on the trainable neural module node above, you will see that the weight sharing method can be configured easily in a dropdown list. In the above example, the encoder and decoder modules for thes evaluation dataset reuse the encoder and decoder modules for training. The greedy decoder shares the weights with the decoder by tying the weights. \n",
    "\n",
    "All the neural modules have an `out_nm` port that outputs the neural module instance itself for other nodes to consume. For example, it can be used for weight sharing. Or, it can be used to extract other important information from the neural module. Later in the inference stage, we use the outputted data layer neural module to extract the text dictionary information. \n",
    "\n",
    "There are two special nodes in the above graph: `NeMo Train Node` and `NeMo Infer Node`. As the name indicates, they are used for training and inference for a NeMo module graph. Both nodes can connect to any number of `NmTensors` which are the outputs from the Neural Modules. In the `NeMo Train Node`, the user can specify the `NmTensor` for training loss, and a list of `NmTensors` for logging. Users can select the optimization method from a list of pre-defined optimization methods. Users can also select the `WarmUp Policy` from a list of pre-defined policies. Other configurations like the checkpoints and training epochs can be configured in a similar way. The output port of the `NeMo Train Node` is the directory for the checkpoint files. In the above example, it is used by `NeMo Infer Node` to load the checkpoint files, and run inference. \n",
    "\n",
    "Click on the `run` button to see the training and inference of this chatbot model are in action. During the run the log console has informative information from the Ray Tune library. Click one the 'list' button to see the log or you can go to \"View -> Show Log Console\". It will train 3 epochs by default. If better accuracy is needed, try to increase the number of epochs in the `NeMo Train Node` and run it again.\n",
    "\n",
    "The chatbot graph is a little complicated. We can wrap the whole computation graph into a `Context Composite Node` as explained in the `08_gquant_machine_learning` notebook. The number of layers for encoders and decoders and the drop out rate parameters are exposed as context parameters for this context composite node. We will tune these two parameters later. \n",
    "\n",
    "Load this simplified graph:"
   ]
  },
  {
   "cell_type": "code",
   "execution_count": 5,
   "metadata": {
    "slideshow": {
     "slide_type": "slide"
    }
   },
   "outputs": [
    {
     "data": {
      "application/vnd.jupyter.widget-view+json": {
       "model_id": "dfcdcfa4c11647c4b985e17da47a16c4",
       "version_major": 2,
       "version_minor": 0
      },
      "text/plain": [
       "GQuantWidget(sub=HBox(), value=[OrderedDict([('id', 'rnn_train'), ('type', 'ContextCompositeNode'), ('conf', {…"
      ]
     },
     "metadata": {},
     "output_type": "display_data"
    }
   ],
   "source": [
    "taskGraph=TaskGraph.load_taskgraph('../taskgraphs/nemo_examples/chatbot_simplified.gq.yaml')\n",
    "taskGraph.draw()"
   ]
  },
  {
   "cell_type": "markdown",
   "metadata": {},
   "source": [
    "The context composite node output the evaluation results from the inference node and the evaluation data layer neural module for extracting the text dictionary. It produces the same result as the previous complicated graph. The graph can be run in a programmatically way. Let's verify the result by the following command: "
   ]
  },
  {
   "cell_type": "code",
   "execution_count": 6,
   "metadata": {},
   "outputs": [
    {
     "name": "stdout",
     "output_type": "stream",
     "text": [
      "[NeMo I 2020-11-05 03:09:15 data:132] Start preparing training data ...\n",
      "[NeMo I 2020-11-05 03:09:15 data:102] Reading lines...\n",
      "[NeMo I 2020-11-05 03:09:27 data:134] Read 150000 sentence pairs\n",
      "[NeMo I 2020-11-05 03:09:27 data:136] Trimmed to 43840 sentence pairs\n",
      "[NeMo I 2020-11-05 03:09:27 data:137] Counting words...\n",
      "[NeMo I 2020-11-05 03:09:27 data:141] Bad message (TypeError('not all arguments converted during string formatting')): {'name': 'nemo_logger', 'msg': 'Counted words:', 'args': (14455,), 'levelname': 'INFO', 'levelno': 20, 'pathname': '/home/quant/NeMo/nemo/backends/pytorch/tutorials/chatbot/data.py', 'filename': 'data.py', 'module': 'data', 'exc_info': None, 'exc_text': None, 'stack_info': None, 'lineno': 141, 'funcName': 'loadPrepareData', 'created': 1604545767.7073672, 'msecs': 707.3671817779541, 'relativeCreated': 163967.93675422668, 'thread': 140246147655488, 'threadName': 'MainThread', 'processName': 'MainProcess', 'process': 8548}\n",
      "[NeMo I 2020-11-05 03:09:27 data:58] keep_words 6104 / 14452 = 0.4224\n",
      "[NeMo I 2020-11-05 03:09:28 data:132] Start preparing training data ...\n",
      "[NeMo I 2020-11-05 03:09:28 data:102] Reading lines...\n",
      "[NeMo I 2020-11-05 03:09:39 data:134] Read 150000 sentence pairs\n",
      "[NeMo I 2020-11-05 03:09:40 data:136] Trimmed to 43840 sentence pairs\n",
      "[NeMo I 2020-11-05 03:09:40 data:137] Counting words...\n",
      "[NeMo I 2020-11-05 03:09:40 data:141] Bad message (TypeError('not all arguments converted during string formatting')): {'name': 'nemo_logger', 'msg': 'Counted words:', 'args': (14455,), 'levelname': 'INFO', 'levelno': 20, 'pathname': '/home/quant/NeMo/nemo/backends/pytorch/tutorials/chatbot/data.py', 'filename': 'data.py', 'module': 'data', 'exc_info': None, 'exc_text': None, 'stack_info': None, 'lineno': 141, 'funcName': 'loadPrepareData', 'created': 1604545780.4484613, 'msecs': 448.46129417419434, 'relativeCreated': 176709.03086662292, 'thread': 140246147655488, 'threadName': 'MainThread', 'processName': 'MainProcess', 'process': 8548}\n",
      "[NeMo I 2020-11-05 03:09:40 data:58] keep_words 6104 / 14452 = 0.4224\n"
     ]
    },
    {
     "name": "stderr",
     "output_type": "stream",
     "text": [
      "[NeMo W 2020-11-05 03:09:41 callbacks:415] No checkpoints will be saved because step_freq and epoch_freq are both -1.\n"
     ]
    },
    {
     "name": "stdout",
     "output_type": "stream",
     "text": [
      "[NeMo I 2020-11-05 03:09:41 callbacks:534] Found 3 modules with weights:\n",
      "[NeMo I 2020-11-05 03:09:41 callbacks:536] LuongAttnDecoderRNN\n",
      "[NeMo I 2020-11-05 03:09:41 callbacks:536] EncoderRNN\n",
      "[NeMo I 2020-11-05 03:09:41 callbacks:536] GreedyLuongAttnDecoderRNN\n",
      "[NeMo I 2020-11-05 03:09:41 callbacks:537] Total model parameters: 30876086\n",
      "[NeMo I 2020-11-05 03:09:41 callbacks:473] Found checkpoint folder nemo_log. Will attempt to restore checkpoints from it.\n"
     ]
    },
    {
     "name": "stderr",
     "output_type": "stream",
     "text": [
      "[NeMo W 2020-11-05 03:09:41 callbacks:499] For module LuongAttnDecoderRNN, no file matches  in nemo_log\n",
      "[NeMo W 2020-11-05 03:09:41 callbacks:501] Checkpoint folder nemo_log was present but nothing was restored. Continuing training from random initialization.\n"
     ]
    },
    {
     "name": "stdout",
     "output_type": "stream",
     "text": [
      "[NeMo I 2020-11-05 03:09:41 callbacks:232] loss: 8.706228\n",
      "[NeMo I 2020-11-05 03:09:41 deprecated_callbacks:316] Doing Evaluation ..............................\n"
     ]
    },
    {
     "name": "stderr",
     "output_type": "stream",
     "text": [
      "2020-11-05 03:09:43,629\tWARNING session.py:14 -- Session not detected. You should not be calling this function outside `tune.run` or while using the class API. \n"
     ]
    },
    {
     "name": "stdout",
     "output_type": "stream",
     "text": [
      "eval: loss 8.349951\n",
      "[NeMo I 2020-11-05 03:09:43 deprecated_callbacks:321] Evaluation time: 2.2768726348876953 seconds\n",
      "[NeMo I 2020-11-05 03:09:48 callbacks:232] loss: 4.198024\n",
      "[NeMo I 2020-11-05 03:09:48 deprecated_callbacks:316] Doing Evaluation ..............................\n"
     ]
    },
    {
     "name": "stderr",
     "output_type": "stream",
     "text": [
      "2020-11-05 03:09:51,108\tWARNING session.py:14 -- Session not detected. You should not be calling this function outside `tune.run` or while using the class API. \n"
     ]
    },
    {
     "name": "stdout",
     "output_type": "stream",
     "text": [
      "eval: loss 4.1336217\n",
      "[NeMo I 2020-11-05 03:09:51 deprecated_callbacks:321] Evaluation time: 2.308359384536743 seconds\n",
      "[NeMo I 2020-11-05 03:09:56 callbacks:232] loss: 3.7907884\n",
      "[NeMo I 2020-11-05 03:09:56 deprecated_callbacks:316] Doing Evaluation ..............................\n"
     ]
    },
    {
     "name": "stderr",
     "output_type": "stream",
     "text": [
      "2020-11-05 03:09:58,548\tWARNING session.py:14 -- Session not detected. You should not be calling this function outside `tune.run` or while using the class API. \n"
     ]
    },
    {
     "name": "stdout",
     "output_type": "stream",
     "text": [
      "eval: loss 3.6996589\n",
      "[NeMo I 2020-11-05 03:09:58 deprecated_callbacks:321] Evaluation time: 2.284151554107666 seconds\n",
      "[NeMo I 2020-11-05 03:10:03 callbacks:232] loss: 3.4743078\n",
      "[NeMo I 2020-11-05 03:10:03 deprecated_callbacks:316] Doing Evaluation ..............................\n"
     ]
    },
    {
     "name": "stderr",
     "output_type": "stream",
     "text": [
      "2020-11-05 03:10:06,020\tWARNING session.py:14 -- Session not detected. You should not be calling this function outside `tune.run` or while using the class API. \n"
     ]
    },
    {
     "name": "stdout",
     "output_type": "stream",
     "text": [
      "eval: loss 3.4751437\n",
      "[NeMo I 2020-11-05 03:10:06 deprecated_callbacks:321] Evaluation time: 2.273024320602417 seconds\n",
      "[NeMo I 2020-11-05 03:10:09 callbacks:232] loss: 3.294403\n",
      "[NeMo I 2020-11-05 03:10:09 deprecated_callbacks:316] Doing Evaluation ..............................\n"
     ]
    },
    {
     "name": "stderr",
     "output_type": "stream",
     "text": [
      "2020-11-05 03:10:12,104\tWARNING session.py:14 -- Session not detected. You should not be calling this function outside `tune.run` or while using the class API. \n"
     ]
    },
    {
     "name": "stdout",
     "output_type": "stream",
     "text": [
      "eval: loss 3.2660127\n",
      "[NeMo I 2020-11-05 03:10:12 deprecated_callbacks:321] Evaluation time: 2.268523693084717 seconds\n",
      "[NeMo I 2020-11-05 03:10:17 callbacks:232] loss: 3.1321588\n",
      "[NeMo I 2020-11-05 03:10:17 deprecated_callbacks:316] Doing Evaluation ..............................\n"
     ]
    },
    {
     "name": "stderr",
     "output_type": "stream",
     "text": [
      "2020-11-05 03:10:19,493\tWARNING session.py:14 -- Session not detected. You should not be calling this function outside `tune.run` or while using the class API. \n"
     ]
    },
    {
     "name": "stdout",
     "output_type": "stream",
     "text": [
      "eval: loss 3.0894132\n",
      "[NeMo I 2020-11-05 03:10:19 deprecated_callbacks:321] Evaluation time: 2.294124126434326 seconds\n",
      "[NeMo I 2020-11-05 03:10:23 callbacks:232] loss: 3.0565758\n",
      "[NeMo I 2020-11-05 03:10:23 deprecated_callbacks:316] Doing Evaluation ..............................\n"
     ]
    },
    {
     "name": "stderr",
     "output_type": "stream",
     "text": [
      "2020-11-05 03:10:25,629\tWARNING session.py:14 -- Session not detected. You should not be calling this function outside `tune.run` or while using the class API. \n"
     ]
    },
    {
     "name": "stdout",
     "output_type": "stream",
     "text": [
      "eval: loss 2.9342794\n",
      "[NeMo I 2020-11-05 03:10:25 deprecated_callbacks:321] Evaluation time: 2.280200481414795 seconds\n",
      "[NeMo I 2020-11-05 03:10:30 callbacks:232] loss: 3.0449822\n",
      "[NeMo I 2020-11-05 03:10:30 deprecated_callbacks:316] Doing Evaluation ..............................\n"
     ]
    },
    {
     "name": "stderr",
     "output_type": "stream",
     "text": [
      "2020-11-05 03:10:33,079\tWARNING session.py:14 -- Session not detected. You should not be calling this function outside `tune.run` or while using the class API. \n"
     ]
    },
    {
     "name": "stdout",
     "output_type": "stream",
     "text": [
      "eval: loss 2.7579932\n",
      "[NeMo I 2020-11-05 03:10:33 deprecated_callbacks:321] Evaluation time: 2.2844736576080322 seconds\n",
      "[NeMo I 2020-11-05 03:10:38 callbacks:232] loss: 2.650106\n",
      "[NeMo I 2020-11-05 03:10:38 deprecated_callbacks:316] Doing Evaluation ..............................\n"
     ]
    },
    {
     "name": "stderr",
     "output_type": "stream",
     "text": [
      "2020-11-05 03:10:40,567\tWARNING session.py:14 -- Session not detected. You should not be calling this function outside `tune.run` or while using the class API. \n"
     ]
    },
    {
     "name": "stdout",
     "output_type": "stream",
     "text": [
      "eval: loss 2.5839798\n",
      "[NeMo I 2020-11-05 03:10:40 deprecated_callbacks:321] Evaluation time: 2.286599636077881 seconds\n",
      "[NeMo I 2020-11-05 03:10:41 deprecated_callbacks:339] Final Evaluation ..............................\n"
     ]
    },
    {
     "name": "stderr",
     "output_type": "stream",
     "text": [
      "2020-11-05 03:10:43,776\tWARNING session.py:14 -- Session not detected. You should not be calling this function outside `tune.run` or while using the class API. \n"
     ]
    },
    {
     "name": "stdout",
     "output_type": "stream",
     "text": [
      "eval: loss 2.5623217\n",
      "[NeMo I 2020-11-05 03:10:43 deprecated_callbacks:344] Evaluation time: 2.2895567417144775 seconds\n",
      "[NeMo I 2020-11-05 03:10:43 actions:695] Evaluating batch 0 out of 273\n",
      "[NeMo I 2020-11-05 03:10:44 actions:695] Evaluating batch 27 out of 273\n",
      "[NeMo I 2020-11-05 03:10:45 actions:695] Evaluating batch 54 out of 273\n",
      "[NeMo I 2020-11-05 03:10:46 actions:695] Evaluating batch 81 out of 273\n",
      "[NeMo I 2020-11-05 03:10:47 actions:695] Evaluating batch 108 out of 273\n",
      "[NeMo I 2020-11-05 03:10:47 actions:695] Evaluating batch 135 out of 273\n",
      "[NeMo I 2020-11-05 03:10:48 actions:695] Evaluating batch 162 out of 273\n",
      "[NeMo I 2020-11-05 03:10:49 actions:695] Evaluating batch 189 out of 273\n",
      "[NeMo I 2020-11-05 03:10:50 actions:695] Evaluating batch 216 out of 273\n",
      "[NeMo I 2020-11-05 03:10:51 actions:695] Evaluating batch 243 out of 273\n",
      "[NeMo I 2020-11-05 03:10:52 actions:695] Evaluating batch 270 out of 273\n"
     ]
    }
   ],
   "source": [
    "result = taskGraph.run()"
   ]
  },
  {
   "cell_type": "markdown",
   "metadata": {},
   "source": [
    "The graph computation results are stored in the `result` variable. It can be used as a named tuple or a dictionary. The keys of the result dictionary can be queried by the following command:|"
   ]
  },
  {
   "cell_type": "code",
   "execution_count": 7,
   "metadata": {},
   "outputs": [
    {
     "data": {
      "text/plain": [
       "('rnn_train.inference@torch_tensor', 'rnn_train.eval_data@out_nm')"
      ]
     },
     "execution_count": 7,
     "metadata": {},
     "output_type": "execute_result"
    }
   ],
   "source": [
    "result.get_keys()"
   ]
  },
  {
   "cell_type": "markdown",
   "metadata": {},
   "source": [
    "The evaluated greedy tensors are indices of the predicted letters in the dictionary. We can translate the numbers to human-readable texts by the following convenient function:"
   ]
  },
  {
   "cell_type": "code",
   "execution_count": 8,
   "metadata": {},
   "outputs": [],
   "source": [
    "from nemo.utils import logging\n",
    "# Define the callback function which prints intermediate results to console.\n",
    "def outputs2words(tensors, vocab):\n",
    "    source_ids = tensors[1][:, 0].cpu().numpy().tolist()\n",
    "    response_ids = tensors[2][:, 0].cpu().numpy().tolist()\n",
    "    tgt_ids = tensors[3][:, 0].cpu().numpy().tolist()\n",
    "    source = list(map(lambda x: vocab[x], source_ids))\n",
    "    response = list(map(lambda x: vocab[x], response_ids))\n",
    "    target = list(map(lambda x: vocab[x], tgt_ids))\n",
    "    source = ' '.join([s for s in source if s != 'EOS' and s != 'PAD'])\n",
    "    response = ' '.join([s for s in response if s != 'EOS' and s != 'PAD'])\n",
    "    target = ' '.join([s for s in target if s != 'EOS' and s != 'PAD'])\n",
    "    logging.info(f\"Train Loss:{str(tensors[0].item())}\")\n",
    "    logging.info(f\"SOURCE: {source} <---> PREDICTED RESPONSE: {response} \" f\"<---> TARGET: {target}\")"
   ]
  },
  {
   "cell_type": "markdown",
   "metadata": {},
   "source": [
    "We are ready to check the quality of the model performance. Note, by default, only 3 epochs are trained. For better performance, please increase the number of epochs."
   ]
  },
  {
   "cell_type": "code",
   "execution_count": 9,
   "metadata": {},
   "outputs": [
    {
     "name": "stdout",
     "output_type": "stream",
     "text": [
      "[NeMo I 2020-11-05 04:03:41 <ipython-input-8-d6a2d1ea5b1b>:13] Train Loss:2.628030776977539\n",
      "[NeMo I 2020-11-05 04:03:41 <ipython-input-8-d6a2d1ea5b1b>:14] SOURCE: that s it you look like a professional . <---> PREDICTED RESPONSE: what ? ? ? ? ? <---> TARGET: three . . .\n",
      "[NeMo I 2020-11-05 04:03:41 <ipython-input-8-d6a2d1ea5b1b>:13] Train Loss:2.8242764472961426\n",
      "[NeMo I 2020-11-05 04:03:41 <ipython-input-8-d6a2d1ea5b1b>:14] SOURCE: can i just ask you one other thing ? <---> PREDICTED RESPONSE: no . times . times . ? <---> TARGET: maybe .\n",
      "[NeMo I 2020-11-05 04:03:41 <ipython-input-8-d6a2d1ea5b1b>:13] Train Loss:2.769148588180542\n",
      "[NeMo I 2020-11-05 04:03:41 <ipython-input-8-d6a2d1ea5b1b>:14] SOURCE: that s just it it would ruin me ! <---> PREDICTED RESPONSE: it s not my fault . . . <---> TARGET: how ?\n",
      "[NeMo I 2020-11-05 04:03:41 <ipython-input-8-d6a2d1ea5b1b>:13] Train Loss:2.762861967086792\n",
      "[NeMo I 2020-11-05 04:03:41 <ipython-input-8-d6a2d1ea5b1b>:14] SOURCE: what s the worst thing you ever did ? <---> PREDICTED RESPONSE: i don t know . . . <---> TARGET: the worst ?\n",
      "[NeMo I 2020-11-05 04:03:41 <ipython-input-8-d6a2d1ea5b1b>:13] Train Loss:2.7231602668762207\n",
      "[NeMo I 2020-11-05 04:03:41 <ipython-input-8-d6a2d1ea5b1b>:14] SOURCE: what happened ? did you lose your keys ? <---> PREDICTED RESPONSE: no . . . . . <---> TARGET: have a nice day .\n",
      "[NeMo I 2020-11-05 04:03:41 <ipython-input-8-d6a2d1ea5b1b>:13] Train Loss:2.7563467025756836\n",
      "[NeMo I 2020-11-05 04:03:41 <ipython-input-8-d6a2d1ea5b1b>:14] SOURCE: are you sure it can t hurt us ? <---> PREDICTED RESPONSE: no . s fine . ? ? <---> TARGET: nothing can . not ever .\n",
      "[NeMo I 2020-11-05 04:03:41 <ipython-input-8-d6a2d1ea5b1b>:13] Train Loss:2.7303404808044434\n",
      "[NeMo I 2020-11-05 04:03:41 <ipython-input-8-d6a2d1ea5b1b>:14] SOURCE: there s a lot you don t know . <---> PREDICTED RESPONSE: what ? ? ? ? ? <---> TARGET: and don t let her know either .\n",
      "[NeMo I 2020-11-05 04:03:41 <ipython-input-8-d6a2d1ea5b1b>:13] Train Loss:2.5902044773101807\n",
      "[NeMo I 2020-11-05 04:03:41 <ipython-input-8-d6a2d1ea5b1b>:14] SOURCE: charlie don t do anything . promise me ? <---> PREDICTED RESPONSE: what ? ? ? ? ? <---> TARGET: what ?\n",
      "[NeMo I 2020-11-05 04:03:41 <ipython-input-8-d6a2d1ea5b1b>:13] Train Loss:2.6077308654785156\n",
      "[NeMo I 2020-11-05 04:03:41 <ipython-input-8-d6a2d1ea5b1b>:14] SOURCE: the play s in a couple of weeks . <---> PREDICTED RESPONSE: that s right . times ? ? <---> TARGET: yes . and ?\n",
      "[NeMo I 2020-11-05 04:03:41 <ipython-input-8-d6a2d1ea5b1b>:13] Train Loss:2.7668890953063965\n",
      "[NeMo I 2020-11-05 04:03:41 <ipython-input-8-d6a2d1ea5b1b>:14] SOURCE: you said in l .a . anything goes . <---> PREDICTED RESPONSE: i m sorry . s on . times <---> TARGET: i was talking about what you could wear !\n",
      "[NeMo I 2020-11-05 04:03:41 <ipython-input-8-d6a2d1ea5b1b>:13] Train Loss:2.687047243118286\n",
      "[NeMo I 2020-11-05 04:03:41 <ipython-input-8-d6a2d1ea5b1b>:14] SOURCE: ayuh . . .how is your cat louis ? <---> PREDICTED RESPONSE: it s my chance . ? ? <---> TARGET: it s ellie s cat .\n",
      "[NeMo I 2020-11-05 04:03:41 <ipython-input-8-d6a2d1ea5b1b>:13] Train Loss:2.6566720008850098\n",
      "[NeMo I 2020-11-05 04:03:41 <ipython-input-8-d6a2d1ea5b1b>:14] SOURCE: hey brad . are you still a virgin ? <---> PREDICTED RESPONSE: no . . . ? ? <---> TARGET: why ?\n",
      "[NeMo I 2020-11-05 04:03:41 <ipython-input-8-d6a2d1ea5b1b>:13] Train Loss:2.7879350185394287\n",
      "[NeMo I 2020-11-05 04:03:41 <ipython-input-8-d6a2d1ea5b1b>:14] SOURCE: really ? that s interesting . not great ? <---> PREDICTED RESPONSE: no . s not . times . <---> TARGET: oh well you know .\n",
      "[NeMo I 2020-11-05 04:03:41 <ipython-input-8-d6a2d1ea5b1b>:13] Train Loss:2.759889841079712\n",
      "[NeMo I 2020-11-05 04:03:41 <ipython-input-8-d6a2d1ea5b1b>:14] SOURCE: okay then . go to it . and charlie <---> PREDICTED RESPONSE: yeah . . . . . <---> TARGET: yeah ?\n",
      "[NeMo I 2020-11-05 04:03:41 <ipython-input-8-d6a2d1ea5b1b>:13] Train Loss:2.7205326557159424\n",
      "[NeMo I 2020-11-05 04:03:41 <ipython-input-8-d6a2d1ea5b1b>:14] SOURCE: you do . you re handsome and charming . <---> PREDICTED RESPONSE: i m sorry . s on . . <---> TARGET: i meant he s a doctor .\n",
      "[NeMo I 2020-11-05 04:03:41 <ipython-input-8-d6a2d1ea5b1b>:13] Train Loss:2.750788688659668\n",
      "[NeMo I 2020-11-05 04:03:41 <ipython-input-8-d6a2d1ea5b1b>:14] SOURCE: bullshit ! don t make me use this . <---> PREDICTED RESPONSE: what ? ? ? ? ? <---> TARGET: jesus .\n",
      "[NeMo I 2020-11-05 04:03:41 <ipython-input-8-d6a2d1ea5b1b>:13] Train Loss:2.8348350524902344\n",
      "[NeMo I 2020-11-05 04:03:41 <ipython-input-8-d6a2d1ea5b1b>:14] SOURCE: annette how long have we known each other ? <---> PREDICTED RESPONSE: i don t know . . . <---> TARGET: forever .\n",
      "[NeMo I 2020-11-05 04:03:41 <ipython-input-8-d6a2d1ea5b1b>:13] Train Loss:2.620033025741577\n",
      "[NeMo I 2020-11-05 04:03:41 <ipython-input-8-d6a2d1ea5b1b>:14] SOURCE: yes i am her brother he s the son <---> PREDICTED RESPONSE: he s dead . ? ? ? <---> TARGET: just a minute .\n",
      "[NeMo I 2020-11-05 04:03:41 <ipython-input-8-d6a2d1ea5b1b>:13] Train Loss:2.7856850624084473\n",
      "[NeMo I 2020-11-05 04:03:41 <ipython-input-8-d6a2d1ea5b1b>:14] SOURCE: my dear francis you do seem extremely uncomfortable . <---> PREDICTED RESPONSE: i don t know . . ? <---> TARGET: i m afraid i am just a bit .\n",
      "[NeMo I 2020-11-05 04:03:41 <ipython-input-8-d6a2d1ea5b1b>:13] Train Loss:2.712439775466919\n",
      "[NeMo I 2020-11-05 04:03:41 <ipython-input-8-d6a2d1ea5b1b>:14] SOURCE: this is a gift you ll not return . <---> PREDICTED RESPONSE: i m sorry . . . . . <---> TARGET: get out of here !\n",
      "[NeMo I 2020-11-05 04:03:41 <ipython-input-8-d6a2d1ea5b1b>:13] Train Loss:2.541752576828003\n",
      "[NeMo I 2020-11-05 04:03:41 <ipython-input-8-d6a2d1ea5b1b>:14] SOURCE: you want us to give you a ride ? <---> PREDICTED RESPONSE: no . . . . . <---> TARGET: i don t know .\n",
      "[NeMo I 2020-11-05 04:03:41 <ipython-input-8-d6a2d1ea5b1b>:13] Train Loss:2.8349673748016357\n",
      "[NeMo I 2020-11-05 04:03:41 <ipython-input-8-d6a2d1ea5b1b>:14] SOURCE: there s a first time for everything admiral . <---> PREDICTED RESPONSE: a little of a little one . . <---> TARGET: to be sure captain .\n",
      "[NeMo I 2020-11-05 04:03:41 <ipython-input-8-d6a2d1ea5b1b>:13] Train Loss:2.761345386505127\n",
      "[NeMo I 2020-11-05 04:03:41 <ipython-input-8-d6a2d1ea5b1b>:14] SOURCE: no . i think i better just go . <---> PREDICTED RESPONSE: you re not going to turley ? ? <---> TARGET: okay . thank you .\n",
      "[NeMo I 2020-11-05 04:03:41 <ipython-input-8-d6a2d1ea5b1b>:13] Train Loss:2.8162291049957275\n",
      "[NeMo I 2020-11-05 04:03:41 <ipython-input-8-d6a2d1ea5b1b>:14] SOURCE: sir i d like to ask you a few <---> PREDICTED RESPONSE: what s that ? ? ? ? <---> TARGET: what time is it ?\n",
      "[NeMo I 2020-11-05 04:03:41 <ipython-input-8-d6a2d1ea5b1b>:13] Train Loss:2.949525833129883\n",
      "[NeMo I 2020-11-05 04:03:41 <ipython-input-8-d6a2d1ea5b1b>:14] SOURCE: i know one way you can do it . <---> PREDICTED RESPONSE: you re a good nervous . ? ? <---> TARGET: how ?\n",
      "[NeMo I 2020-11-05 04:03:41 <ipython-input-8-d6a2d1ea5b1b>:13] Train Loss:2.7324917316436768\n",
      "[NeMo I 2020-11-05 04:03:41 <ipython-input-8-d6a2d1ea5b1b>:14] SOURCE: mouth to mouth which could maybe . . . <---> PREDICTED RESPONSE: my name s my name . . . <---> TARGET: which could maybe what ?\n",
      "[NeMo I 2020-11-05 04:03:41 <ipython-input-8-d6a2d1ea5b1b>:13] Train Loss:2.793945550918579\n",
      "[NeMo I 2020-11-05 04:03:41 <ipython-input-8-d6a2d1ea5b1b>:14] SOURCE: all his life . he s tried everything . <---> PREDICTED RESPONSE: he s dead . ? ? ? <---> TARGET: still clear ?\n",
      "[NeMo I 2020-11-05 04:03:41 <ipython-input-8-d6a2d1ea5b1b>:13] Train Loss:2.6545746326446533\n",
      "[NeMo I 2020-11-05 04:03:41 <ipython-input-8-d6a2d1ea5b1b>:14] SOURCE: i love you don with all my heart . <---> PREDICTED RESPONSE: i m not . . . . <---> TARGET: no it s not don .\n",
      "[NeMo I 2020-11-05 04:03:41 <ipython-input-8-d6a2d1ea5b1b>:13] Train Loss:2.823768138885498\n",
      "[NeMo I 2020-11-05 04:03:41 <ipython-input-8-d6a2d1ea5b1b>:14] SOURCE: have you ever retired a human by mistake ? <---> PREDICTED RESPONSE: no . . . . . <---> TARGET: no .\n",
      "[NeMo I 2020-11-05 04:03:41 <ipython-input-8-d6a2d1ea5b1b>:13] Train Loss:2.6562283039093018\n",
      "[NeMo I 2020-11-05 04:03:41 <ipython-input-8-d6a2d1ea5b1b>:14] SOURCE: i m not allowed to see you anymore . <---> PREDICTED RESPONSE: what ? ? ? ? ? <---> TARGET: really ? me too .\n",
      "[NeMo I 2020-11-05 04:03:41 <ipython-input-8-d6a2d1ea5b1b>:13] Train Loss:2.7645914554595947\n",
      "[NeMo I 2020-11-05 04:03:41 <ipython-input-8-d6a2d1ea5b1b>:14] SOURCE: shit . i meant the other way around . <---> PREDICTED RESPONSE: you re a good nervous . ? ? <---> TARGET: well the studio told me not to .\n",
      "[NeMo I 2020-11-05 04:03:41 <ipython-input-8-d6a2d1ea5b1b>:13] Train Loss:2.822542905807495\n",
      "[NeMo I 2020-11-05 04:03:41 <ipython-input-8-d6a2d1ea5b1b>:14] SOURCE: you would be . they tore me apart . <---> PREDICTED RESPONSE: i m sorry . s on . times <---> TARGET: so you were cheated .\n",
      "[NeMo I 2020-11-05 04:03:41 <ipython-input-8-d6a2d1ea5b1b>:13] Train Loss:2.7701635360717773\n",
      "[NeMo I 2020-11-05 04:03:41 <ipython-input-8-d6a2d1ea5b1b>:14] SOURCE: i guess you have to go on faith . <---> PREDICTED RESPONSE: i m not . . . . <---> TARGET: some times . . .\n",
      "[NeMo I 2020-11-05 04:03:41 <ipython-input-8-d6a2d1ea5b1b>:13] Train Loss:2.668501853942871\n",
      "[NeMo I 2020-11-05 04:03:41 <ipython-input-8-d6a2d1ea5b1b>:14] SOURCE: i ve often wondered how you do it . <---> PREDICTED RESPONSE: i m sorry . s on . day <---> TARGET: depends on what you believe in .\n",
      "[NeMo I 2020-11-05 04:03:41 <ipython-input-8-d6a2d1ea5b1b>:13] Train Loss:2.9903714656829834\n",
      "[NeMo I 2020-11-05 04:03:41 <ipython-input-8-d6a2d1ea5b1b>:14] SOURCE: what kind of straight pool game you like ? <---> PREDICTED RESPONSE: what ? ? ? ? ? <---> TARGET: the expensive kind .\n",
      "[NeMo I 2020-11-05 04:03:41 <ipython-input-8-d6a2d1ea5b1b>:13] Train Loss:2.7741551399230957\n",
      "[NeMo I 2020-11-05 04:03:41 <ipython-input-8-d6a2d1ea5b1b>:14] SOURCE: you do . you re handsome and charming . <---> PREDICTED RESPONSE: i m sorry . s on . . <---> TARGET: i meant he s a doctor .\n",
      "[NeMo I 2020-11-05 04:03:41 <ipython-input-8-d6a2d1ea5b1b>:13] Train Loss:2.67753267288208\n",
      "[NeMo I 2020-11-05 04:03:41 <ipython-input-8-d6a2d1ea5b1b>:14] SOURCE: clever of you to find this spot betty . <---> PREDICTED RESPONSE: oh god . . . . . <---> TARGET: it pays to know your way around oliver .\n",
      "[NeMo I 2020-11-05 04:03:41 <ipython-input-8-d6a2d1ea5b1b>:13] Train Loss:2.7679152488708496\n",
      "[NeMo I 2020-11-05 04:03:41 <ipython-input-8-d6a2d1ea5b1b>:14] SOURCE: so guess where i m going next weekend ? <---> PREDICTED RESPONSE: i don t know . . . <---> TARGET: i don t know . where ?\n",
      "[NeMo I 2020-11-05 04:03:41 <ipython-input-8-d6a2d1ea5b1b>:13] Train Loss:2.8759400844573975\n",
      "[NeMo I 2020-11-05 04:03:41 <ipython-input-8-d6a2d1ea5b1b>:14] SOURCE: i don t think we survived the crash . <---> PREDICTED RESPONSE: what s that ? ? ? ? <---> TARGET: this is going to take some time .\n",
      "[NeMo I 2020-11-05 04:03:41 <ipython-input-8-d6a2d1ea5b1b>:13] Train Loss:2.480851650238037\n",
      "[NeMo I 2020-11-05 04:03:41 <ipython-input-8-d6a2d1ea5b1b>:14] SOURCE: ever meet her or they talk about her ? <---> PREDICTED RESPONSE: no . times . times . times <---> TARGET: not yet .\n",
      "[NeMo I 2020-11-05 04:03:41 <ipython-input-8-d6a2d1ea5b1b>:13] Train Loss:2.677166700363159\n",
      "[NeMo I 2020-11-05 04:03:41 <ipython-input-8-d6a2d1ea5b1b>:14] SOURCE: never ! i m going in and ask him <---> PREDICTED RESPONSE: you re not going to turley ? ! <---> TARGET: if you do i ll break your neck .\n",
      "[NeMo I 2020-11-05 04:03:41 <ipython-input-8-d6a2d1ea5b1b>:13] Train Loss:2.7843427658081055\n",
      "[NeMo I 2020-11-05 04:03:41 <ipython-input-8-d6a2d1ea5b1b>:14] SOURCE: he ll barely be able to sit up . <---> PREDICTED RESPONSE: he s dead . ? ? ? <---> TARGET: that s the idea . here we are .\n",
      "[NeMo I 2020-11-05 04:03:41 <ipython-input-8-d6a2d1ea5b1b>:13] Train Loss:2.7892231941223145\n",
      "[NeMo I 2020-11-05 04:03:41 <ipython-input-8-d6a2d1ea5b1b>:14] SOURCE: it s not myself i m worried about . <---> PREDICTED RESPONSE: what ? ? ? ? ? <---> TARGET: i ll do fine .\n",
      "[NeMo I 2020-11-05 04:03:41 <ipython-input-8-d6a2d1ea5b1b>:13] Train Loss:2.6241633892059326\n",
      "[NeMo I 2020-11-05 04:03:41 <ipython-input-8-d6a2d1ea5b1b>:14] SOURCE: i do . i need a new sponsor . <---> PREDICTED RESPONSE: what s that ? ? ? ? <---> TARGET: is that what you want ?\n",
      "[NeMo I 2020-11-05 04:03:41 <ipython-input-8-d6a2d1ea5b1b>:13] Train Loss:2.744396448135376\n",
      "[NeMo I 2020-11-05 04:03:41 <ipython-input-8-d6a2d1ea5b1b>:14] SOURCE: you will take them all mr . jimmy ? <---> PREDICTED RESPONSE: yeah . . . . . <---> TARGET: i ll be fine hanna . thank you .\n",
      "[NeMo I 2020-11-05 04:03:41 <ipython-input-8-d6a2d1ea5b1b>:13] Train Loss:2.749051094055176\n",
      "[NeMo I 2020-11-05 04:03:41 <ipython-input-8-d6a2d1ea5b1b>:14] SOURCE: is her mother still lying on the floor ? <---> PREDICTED RESPONSE: no . . . . . <---> TARGET: no she s fine .\n",
      "[NeMo I 2020-11-05 04:03:41 <ipython-input-8-d6a2d1ea5b1b>:13] Train Loss:2.9165406227111816\n",
      "[NeMo I 2020-11-05 04:03:41 <ipython-input-8-d6a2d1ea5b1b>:14] SOURCE: a lot of people are looking for you . <---> PREDICTED RESPONSE: you re a good nervous . ? ? <---> TARGET: i guess that makes you the smart one .\n",
      "[NeMo I 2020-11-05 04:03:41 <ipython-input-8-d6a2d1ea5b1b>:13] Train Loss:2.6766679286956787\n",
      "[NeMo I 2020-11-05 04:03:41 <ipython-input-8-d6a2d1ea5b1b>:14] SOURCE: grandma death will teach me how . soon . <---> PREDICTED RESPONSE: you re not going to turley ? ? <---> TARGET: then how is time travel possible ?\n",
      "[NeMo I 2020-11-05 04:03:41 <ipython-input-8-d6a2d1ea5b1b>:13] Train Loss:2.6929984092712402\n",
      "[NeMo I 2020-11-05 04:03:41 <ipython-input-8-d6a2d1ea5b1b>:14] SOURCE: she s an alcoholic for christ s sake . <---> PREDICTED RESPONSE: what ? ? ? ? ? <---> TARGET: oh jesus .\n",
      "[NeMo I 2020-11-05 04:03:41 <ipython-input-8-d6a2d1ea5b1b>:13] Train Loss:2.5337955951690674\n",
      "[NeMo I 2020-11-05 04:03:41 <ipython-input-8-d6a2d1ea5b1b>:14] SOURCE: okay i know what i want this time . <---> PREDICTED RESPONSE: you re not going to jail . night . <---> TARGET: anything you need .\n",
      "[NeMo I 2020-11-05 04:03:41 <ipython-input-8-d6a2d1ea5b1b>:13] Train Loss:2.9547104835510254\n",
      "[NeMo I 2020-11-05 04:03:41 <ipython-input-8-d6a2d1ea5b1b>:14] SOURCE: the next corner we can get a cab . <---> PREDICTED RESPONSE: what s that ? ? ? ? <---> TARGET: i should be committed .\n",
      "[NeMo I 2020-11-05 04:03:41 <ipython-input-8-d6a2d1ea5b1b>:13] Train Loss:2.7056987285614014\n",
      "[NeMo I 2020-11-05 04:03:41 <ipython-input-8-d6a2d1ea5b1b>:14] SOURCE: i think this is number three . . . <---> PREDICTED RESPONSE: what s that ? ? ? ? <---> TARGET: that s an opinion not evidence . . .\n",
      "[NeMo I 2020-11-05 04:03:41 <ipython-input-8-d6a2d1ea5b1b>:13] Train Loss:2.6591379642486572\n",
      "[NeMo I 2020-11-05 04:03:41 <ipython-input-8-d6a2d1ea5b1b>:14] SOURCE: any chance of getting me out on bail ? <---> PREDICTED RESPONSE: no . times . times ? ? <---> TARGET: what is bail ?\n",
      "[NeMo I 2020-11-05 04:03:41 <ipython-input-8-d6a2d1ea5b1b>:13] Train Loss:2.6752400398254395\n",
      "[NeMo I 2020-11-05 04:03:41 <ipython-input-8-d6a2d1ea5b1b>:14] SOURCE: is he a fireman ? i like firemen . <---> PREDICTED RESPONSE: he s gone . ? ? ? <---> TARGET: you like everybody ronald .\n",
      "[NeMo I 2020-11-05 04:03:41 <ipython-input-8-d6a2d1ea5b1b>:13] Train Loss:2.6951231956481934\n",
      "[NeMo I 2020-11-05 04:03:41 <ipython-input-8-d6a2d1ea5b1b>:14] SOURCE: do you know what a vampire king is ? <---> PREDICTED RESPONSE: what ? ? ? ? ? <---> TARGET: a vampire king ? you mean like dracula ?\n",
      "[NeMo I 2020-11-05 04:03:41 <ipython-input-8-d6a2d1ea5b1b>:13] Train Loss:2.6603424549102783\n",
      "[NeMo I 2020-11-05 04:03:41 <ipython-input-8-d6a2d1ea5b1b>:14] SOURCE: forty seven . you d better floor it . <---> PREDICTED RESPONSE: i m sorry . s on . night <---> TARGET: what do you think i m doin ? !\n",
      "[NeMo I 2020-11-05 04:03:41 <ipython-input-8-d6a2d1ea5b1b>:13] Train Loss:2.754547357559204\n",
      "[NeMo I 2020-11-05 04:03:41 <ipython-input-8-d6a2d1ea5b1b>:14] SOURCE: you were supposed to help me with this . <---> PREDICTED RESPONSE: i m sorry . s here . ? <---> TARGET: you need the exercise .\n",
      "[NeMo I 2020-11-05 04:03:41 <ipython-input-8-d6a2d1ea5b1b>:13] Train Loss:2.7120914459228516\n",
      "[NeMo I 2020-11-05 04:03:41 <ipython-input-8-d6a2d1ea5b1b>:14] SOURCE: okay i ll do a damned lot count ! <---> PREDICTED RESPONSE: you re not going to turley ? ? <---> TARGET: sir ? right now ?\n",
      "[NeMo I 2020-11-05 04:03:41 <ipython-input-8-d6a2d1ea5b1b>:13] Train Loss:2.7659552097320557\n",
      "[NeMo I 2020-11-05 04:03:41 <ipython-input-8-d6a2d1ea5b1b>:14] SOURCE: do you like the people you work with ? <---> PREDICTED RESPONSE: no . . . . times <---> TARGET: i work alone .\n",
      "[NeMo I 2020-11-05 04:03:41 <ipython-input-8-d6a2d1ea5b1b>:13] Train Loss:2.8543500900268555\n",
      "[NeMo I 2020-11-05 04:03:41 <ipython-input-8-d6a2d1ea5b1b>:14] SOURCE: if i may be so bold . . . <---> PREDICTED RESPONSE: you re a teacher . times . times <---> TARGET: for the gods spit it out !\n",
      "[NeMo I 2020-11-05 04:03:41 <ipython-input-8-d6a2d1ea5b1b>:13] Train Loss:2.635829448699951\n",
      "[NeMo I 2020-11-05 04:03:41 <ipython-input-8-d6a2d1ea5b1b>:14] SOURCE: i d like a word with you jack . <---> PREDICTED RESPONSE: what s that ? ? ? ? <---> TARGET: that s nice .\n",
      "[NeMo I 2020-11-05 04:03:41 <ipython-input-8-d6a2d1ea5b1b>:13] Train Loss:2.7178475856781006\n",
      "[NeMo I 2020-11-05 04:03:41 <ipython-input-8-d6a2d1ea5b1b>:14] SOURCE: can you say that my name is jack ? <---> PREDICTED RESPONSE: yeah . . . . . <---> TARGET: you want her to call you jack ?\n",
      "[NeMo I 2020-11-05 04:03:41 <ipython-input-8-d6a2d1ea5b1b>:13] Train Loss:2.6354403495788574\n",
      "[NeMo I 2020-11-05 04:03:41 <ipython-input-8-d6a2d1ea5b1b>:14] SOURCE: you saved our lives . you did it ! <---> PREDICTED RESPONSE: i m sorry . s here . ? <---> TARGET: we did it .\n",
      "[NeMo I 2020-11-05 04:03:41 <ipython-input-8-d6a2d1ea5b1b>:13] Train Loss:2.7876217365264893\n",
      "[NeMo I 2020-11-05 04:03:41 <ipython-input-8-d6a2d1ea5b1b>:14] SOURCE: i ve got nothing to say to you . <---> PREDICTED RESPONSE: i m sorry . s on . night <---> TARGET: you know what happened .\n",
      "[NeMo I 2020-11-05 04:03:41 <ipython-input-8-d6a2d1ea5b1b>:13] Train Loss:2.729295015335083\n",
      "[NeMo I 2020-11-05 04:03:41 <ipython-input-8-d6a2d1ea5b1b>:14] SOURCE: oh yes . how did you like that ? <---> PREDICTED RESPONSE: i don t know . . . <---> TARGET: well i didn t .\n",
      "[NeMo I 2020-11-05 04:03:41 <ipython-input-8-d6a2d1ea5b1b>:13] Train Loss:2.811190605163574\n",
      "[NeMo I 2020-11-05 04:03:41 <ipython-input-8-d6a2d1ea5b1b>:14] SOURCE: congratulations . you should spit in my face . <---> PREDICTED RESPONSE: i m sorry . s on . night <---> TARGET: excuse me colonel .\n",
      "[NeMo I 2020-11-05 04:03:41 <ipython-input-8-d6a2d1ea5b1b>:13] Train Loss:2.817650556564331\n",
      "[NeMo I 2020-11-05 04:03:41 <ipython-input-8-d6a2d1ea5b1b>:14] SOURCE: what if she doesn t want to go ? <---> PREDICTED RESPONSE: she s just a comin you re going . <---> TARGET: she will if you think she should .\n",
      "[NeMo I 2020-11-05 04:03:41 <ipython-input-8-d6a2d1ea5b1b>:13] Train Loss:2.708233118057251\n",
      "[NeMo I 2020-11-05 04:03:41 <ipython-input-8-d6a2d1ea5b1b>:14] SOURCE: hey ! we forgot to call the loser ! <---> PREDICTED RESPONSE: what s the matter ? here ? ? <---> TARGET: which loser ?\n",
      "[NeMo I 2020-11-05 04:03:41 <ipython-input-8-d6a2d1ea5b1b>:13] Train Loss:2.6676831245422363\n",
      "[NeMo I 2020-11-05 04:03:41 <ipython-input-8-d6a2d1ea5b1b>:14] SOURCE: let him go stan . i can help . <---> PREDICTED RESPONSE: you re not going to the lighthouse ? ? <---> TARGET: go .\n",
      "[NeMo I 2020-11-05 04:03:41 <ipython-input-8-d6a2d1ea5b1b>:13] Train Loss:2.681638240814209\n",
      "[NeMo I 2020-11-05 04:03:41 <ipython-input-8-d6a2d1ea5b1b>:14] SOURCE: very well mr . saavik clear all moorings . <---> PREDICTED RESPONSE: thanks . s all right . night . <---> TARGET: aye sir .\n",
      "[NeMo I 2020-11-05 04:03:41 <ipython-input-8-d6a2d1ea5b1b>:13] Train Loss:2.6765220165252686\n",
      "[NeMo I 2020-11-05 04:03:41 <ipython-input-8-d6a2d1ea5b1b>:14] SOURCE: i am going to call the police now . <---> PREDICTED RESPONSE: i m sorry . s not . . <---> TARGET: could i make one phone call first ?\n",
      "[NeMo I 2020-11-05 04:03:41 <ipython-input-8-d6a2d1ea5b1b>:13] Train Loss:2.79176926612854\n",
      "[NeMo I 2020-11-05 04:03:41 <ipython-input-8-d6a2d1ea5b1b>:14] SOURCE: okay okay i promise i ll do it ! <---> PREDICTED RESPONSE: you re not going to help . night . <---> TARGET: not good enough swear to god .\n",
      "[NeMo I 2020-11-05 04:03:41 <ipython-input-8-d6a2d1ea5b1b>:13] Train Loss:2.785839080810547\n",
      "[NeMo I 2020-11-05 04:03:41 <ipython-input-8-d6a2d1ea5b1b>:14] SOURCE: so what you re stuck here all day ? <---> PREDICTED RESPONSE: no . as a long way . . <---> TARGET: fuck !\n",
      "[NeMo I 2020-11-05 04:03:41 <ipython-input-8-d6a2d1ea5b1b>:13] Train Loss:2.6662793159484863\n",
      "[NeMo I 2020-11-05 04:03:41 <ipython-input-8-d6a2d1ea5b1b>:14] SOURCE: did it look like this in your mind ? <---> PREDICTED RESPONSE: no . times . times . times <---> TARGET: this is more difficult\n",
      "[NeMo I 2020-11-05 04:03:41 <ipython-input-8-d6a2d1ea5b1b>:13] Train Loss:2.773066520690918\n",
      "[NeMo I 2020-11-05 04:03:41 <ipython-input-8-d6a2d1ea5b1b>:14] SOURCE: can t you say hello to a fellow ? <---> PREDICTED RESPONSE: i m sorry . s on . times <---> TARGET: hildy !\n",
      "[NeMo I 2020-11-05 04:03:41 <ipython-input-8-d6a2d1ea5b1b>:13] Train Loss:2.5495471954345703\n",
      "[NeMo I 2020-11-05 04:03:41 <ipython-input-8-d6a2d1ea5b1b>:14] SOURCE: how do you know i made it up ? <---> PREDICTED RESPONSE: i m fine . . . . <---> TARGET: what are you talking about ?\n",
      "[NeMo I 2020-11-05 04:03:41 <ipython-input-8-d6a2d1ea5b1b>:13] Train Loss:2.8728580474853516\n",
      "[NeMo I 2020-11-05 04:03:41 <ipython-input-8-d6a2d1ea5b1b>:14] SOURCE: you didn t bring any chocolate did you ? <---> PREDICTED RESPONSE: no . . . . . <---> TARGET: what ?\n",
      "[NeMo I 2020-11-05 04:03:41 <ipython-input-8-d6a2d1ea5b1b>:13] Train Loss:2.6865925788879395\n",
      "[NeMo I 2020-11-05 04:03:41 <ipython-input-8-d6a2d1ea5b1b>:14] SOURCE: there wasn t any way to explain it . <---> PREDICTED RESPONSE: don t you have to get out of here . <---> TARGET: yeah .\n",
      "[NeMo I 2020-11-05 04:03:41 <ipython-input-8-d6a2d1ea5b1b>:13] Train Loss:2.6262049674987793\n",
      "[NeMo I 2020-11-05 04:03:41 <ipython-input-8-d6a2d1ea5b1b>:14] SOURCE: well not until now for christ s sake . <---> PREDICTED RESPONSE: what s that ? ? ? ? <---> TARGET: sorry .\n",
      "[NeMo I 2020-11-05 04:03:41 <ipython-input-8-d6a2d1ea5b1b>:13] Train Loss:2.872929096221924\n",
      "[NeMo I 2020-11-05 04:03:41 <ipython-input-8-d6a2d1ea5b1b>:14] SOURCE: not at all . why d you ask ? <---> PREDICTED RESPONSE: i m not sure . times . times <---> TARGET: it s not important good night .\n",
      "[NeMo I 2020-11-05 04:03:41 <ipython-input-8-d6a2d1ea5b1b>:13] Train Loss:2.7307116985321045\n",
      "[NeMo I 2020-11-05 04:03:41 <ipython-input-8-d6a2d1ea5b1b>:14] SOURCE: what s that got to do with it ? <---> PREDICTED RESPONSE: what do you want ? ? ? <---> TARGET: why should you be the only one .\n",
      "[NeMo I 2020-11-05 04:03:41 <ipython-input-8-d6a2d1ea5b1b>:13] Train Loss:2.674729347229004\n",
      "[NeMo I 2020-11-05 04:03:41 <ipython-input-8-d6a2d1ea5b1b>:14] SOURCE: act like one then . be a man . <---> PREDICTED RESPONSE: what ? ? ? ? ? <---> TARGET: later .\n",
      "[NeMo I 2020-11-05 04:03:41 <ipython-input-8-d6a2d1ea5b1b>:13] Train Loss:2.767545223236084\n",
      "[NeMo I 2020-11-05 04:03:41 <ipython-input-8-d6a2d1ea5b1b>:14] SOURCE: and you ve got me all figured out ? <---> PREDICTED RESPONSE: poppy what ? ? ? ? <---> TARGET: sure .\n",
      "[NeMo I 2020-11-05 04:03:41 <ipython-input-8-d6a2d1ea5b1b>:13] Train Loss:2.749366521835327\n",
      "[NeMo I 2020-11-05 04:03:41 <ipython-input-8-d6a2d1ea5b1b>:14] SOURCE: i . . .i can t . . . <---> PREDICTED RESPONSE: you re a good nervous . ? ? <---> TARGET: you can and you will ! !\n",
      "[NeMo I 2020-11-05 04:03:41 <ipython-input-8-d6a2d1ea5b1b>:13] Train Loss:2.527735471725464\n",
      "[NeMo I 2020-11-05 04:03:41 <ipython-input-8-d6a2d1ea5b1b>:14] SOURCE: i m okay . it s going well ! <---> PREDICTED RESPONSE: i m sorry . s on . times <---> TARGET: have a look ?\n",
      "[NeMo I 2020-11-05 04:03:41 <ipython-input-8-d6a2d1ea5b1b>:13] Train Loss:2.708864688873291\n",
      "[NeMo I 2020-11-05 04:03:41 <ipython-input-8-d6a2d1ea5b1b>:14] SOURCE: i can . . . make it work . <---> PREDICTED RESPONSE: yeah . . . . . . . <---> TARGET: reed stop you need to rest your\n",
      "[NeMo I 2020-11-05 04:03:41 <ipython-input-8-d6a2d1ea5b1b>:13] Train Loss:2.6516520977020264\n",
      "[NeMo I 2020-11-05 04:03:41 <ipython-input-8-d6a2d1ea5b1b>:14] SOURCE: is mrs . redi nice to work for ? <---> PREDICTED RESPONSE: i don t know . . . <---> TARGET: redi s all right .\n",
      "[NeMo I 2020-11-05 04:03:41 <ipython-input-8-d6a2d1ea5b1b>:13] Train Loss:2.6953368186950684\n",
      "[NeMo I 2020-11-05 04:03:41 <ipython-input-8-d6a2d1ea5b1b>:14] SOURCE: you crazy nut ! you crazy crazy nut ! <---> PREDICTED RESPONSE: go ahead ! ! ! ! <---> TARGET: get away from me !\n",
      "[NeMo I 2020-11-05 04:03:41 <ipython-input-8-d6a2d1ea5b1b>:13] Train Loss:2.7488038539886475\n",
      "[NeMo I 2020-11-05 04:03:41 <ipython-input-8-d6a2d1ea5b1b>:14] SOURCE: you don t like coming here do you ? <---> PREDICTED RESPONSE: no . . . . . <---> TARGET: it s okay .\n",
      "[NeMo I 2020-11-05 04:03:41 <ipython-input-8-d6a2d1ea5b1b>:13] Train Loss:2.7108047008514404\n",
      "[NeMo I 2020-11-05 04:03:41 <ipython-input-8-d6a2d1ea5b1b>:14] SOURCE: i ll be a few minutes . wait here <---> PREDICTED RESPONSE: i m sorry . s on . night <---> TARGET: don t i always ?\n",
      "[NeMo I 2020-11-05 04:03:41 <ipython-input-8-d6a2d1ea5b1b>:13] Train Loss:2.697643995285034\n",
      "[NeMo I 2020-11-05 04:03:41 <ipython-input-8-d6a2d1ea5b1b>:14] SOURCE: go ? u where u are we going ? <---> PREDICTED RESPONSE: i m here . . . . <---> TARGET: where u they u went . saavik .\n",
      "[NeMo I 2020-11-05 04:03:41 <ipython-input-8-d6a2d1ea5b1b>:13] Train Loss:2.7031350135803223\n",
      "[NeMo I 2020-11-05 04:03:41 <ipython-input-8-d6a2d1ea5b1b>:14] SOURCE: check the monitor she s u fine u . <---> PREDICTED RESPONSE: she s gone with the boost . times ? <---> TARGET: she s far from fine .\n",
      "[NeMo I 2020-11-05 04:03:41 <ipython-input-8-d6a2d1ea5b1b>:13] Train Loss:2.9326577186584473\n",
      "[NeMo I 2020-11-05 04:03:41 <ipython-input-8-d6a2d1ea5b1b>:14] SOURCE: i didn t get on cathy last night . <---> PREDICTED RESPONSE: you re a good nervous . ? ? <---> TARGET: why not ?\n",
      "[NeMo I 2020-11-05 04:03:41 <ipython-input-8-d6a2d1ea5b1b>:13] Train Loss:2.7396039962768555\n",
      "[NeMo I 2020-11-05 04:03:41 <ipython-input-8-d6a2d1ea5b1b>:14] SOURCE: no more . . . i can t ! <---> PREDICTED RESPONSE: you re not going to bed ? ! <---> TARGET: yes you can . come on shelly !\n",
      "[NeMo I 2020-11-05 04:03:41 <ipython-input-8-d6a2d1ea5b1b>:13] Train Loss:2.7686734199523926\n",
      "[NeMo I 2020-11-05 04:03:41 <ipython-input-8-d6a2d1ea5b1b>:14] SOURCE: i need someone with your kind of background . <---> PREDICTED RESPONSE: what ? ? ? ? ? <---> TARGET: my kind of background ?\n",
      "[NeMo I 2020-11-05 04:03:41 <ipython-input-8-d6a2d1ea5b1b>:13] Train Loss:2.59515380859375\n",
      "[NeMo I 2020-11-05 04:03:41 <ipython-input-8-d6a2d1ea5b1b>:14] SOURCE: it s okay . i want the rush . <---> PREDICTED RESPONSE: no . s a saloon . ? <---> TARGET: no . look .\n",
      "[NeMo I 2020-11-05 04:03:41 <ipython-input-8-d6a2d1ea5b1b>:13] Train Loss:2.576131820678711\n",
      "[NeMo I 2020-11-05 04:03:41 <ipython-input-8-d6a2d1ea5b1b>:14] SOURCE: next time lets put some money on it . <---> PREDICTED RESPONSE: i m sorry . s on . times <---> TARGET: get him home safe .\n",
      "[NeMo I 2020-11-05 04:03:41 <ipython-input-8-d6a2d1ea5b1b>:13] Train Loss:2.6081440448760986\n",
      "[NeMo I 2020-11-05 04:03:41 <ipython-input-8-d6a2d1ea5b1b>:14] SOURCE: he was the last time i saw him . <---> PREDICTED RESPONSE: you re not ? ? ? ? <---> TARGET: when was that ?\n",
      "[NeMo I 2020-11-05 04:03:41 <ipython-input-8-d6a2d1ea5b1b>:13] Train Loss:2.788055419921875\n",
      "[NeMo I 2020-11-05 04:03:41 <ipython-input-8-d6a2d1ea5b1b>:14] SOURCE: mom ? eve and i have to go . <---> PREDICTED RESPONSE: what ? ? ? ? ? <---> TARGET: what ?\n",
      "[NeMo I 2020-11-05 04:03:41 <ipython-input-8-d6a2d1ea5b1b>:13] Train Loss:2.784346103668213\n",
      "[NeMo I 2020-11-05 04:03:41 <ipython-input-8-d6a2d1ea5b1b>:14] SOURCE: why don t we both forget about him ? <---> PREDICTED RESPONSE: because he s just going to be . times <---> TARGET: alright !\n",
      "[NeMo I 2020-11-05 04:03:41 <ipython-input-8-d6a2d1ea5b1b>:13] Train Loss:2.769162893295288\n",
      "[NeMo I 2020-11-05 04:03:41 <ipython-input-8-d6a2d1ea5b1b>:14] SOURCE: you mean you have finished the whole investigation ? <---> PREDICTED RESPONSE: no . . . . . <---> TARGET: yes .\n",
      "[NeMo I 2020-11-05 04:03:41 <ipython-input-8-d6a2d1ea5b1b>:13] Train Loss:2.700357675552368\n",
      "[NeMo I 2020-11-05 04:03:41 <ipython-input-8-d6a2d1ea5b1b>:14] SOURCE: but i do have a theory . . . <---> PREDICTED RESPONSE: what ? ? ? ? ? <---> TARGET: i thought you might .\n",
      "[NeMo I 2020-11-05 04:03:41 <ipython-input-8-d6a2d1ea5b1b>:13] Train Loss:2.726658821105957\n",
      "[NeMo I 2020-11-05 04:03:41 <ipython-input-8-d6a2d1ea5b1b>:14] SOURCE: uh huh . you beat me three times . <---> PREDICTED RESPONSE: what ? ? ? ? ? <---> TARGET: i did ?\n",
      "[NeMo I 2020-11-05 04:03:41 <ipython-input-8-d6a2d1ea5b1b>:13] Train Loss:2.702652931213379\n",
      "[NeMo I 2020-11-05 04:03:41 <ipython-input-8-d6a2d1ea5b1b>:14] SOURCE: oh god it s soft it s moving ! <---> PREDICTED RESPONSE: wait ! ! ! ! ! <---> TARGET: willie !\n",
      "[NeMo I 2020-11-05 04:03:41 <ipython-input-8-d6a2d1ea5b1b>:13] Train Loss:2.5619168281555176\n",
      "[NeMo I 2020-11-05 04:03:41 <ipython-input-8-d6a2d1ea5b1b>:14] SOURCE: yes . could you give me some information ? <---> PREDICTED RESPONSE: yeah . . . . . <---> TARGET: gladly .\n",
      "[NeMo I 2020-11-05 04:03:41 <ipython-input-8-d6a2d1ea5b1b>:13] Train Loss:2.7501442432403564\n",
      "[NeMo I 2020-11-05 04:03:41 <ipython-input-8-d6a2d1ea5b1b>:14] SOURCE: in just a second . two . . . <---> PREDICTED RESPONSE: what s that ? ? ? ? <---> TARGET: i don t believe this .\n",
      "[NeMo I 2020-11-05 04:03:41 <ipython-input-8-d6a2d1ea5b1b>:13] Train Loss:2.6410114765167236\n",
      "[NeMo I 2020-11-05 04:03:41 <ipython-input-8-d6a2d1ea5b1b>:14] SOURCE: anything . . . may i sit down ? <---> PREDICTED RESPONSE: yes . for the door . times . <---> TARGET: yes .\n",
      "[NeMo I 2020-11-05 04:03:41 <ipython-input-8-d6a2d1ea5b1b>:13] Train Loss:2.6128804683685303\n",
      "[NeMo I 2020-11-05 04:03:41 <ipython-input-8-d6a2d1ea5b1b>:14] SOURCE: it s okay . i want the rush . <---> PREDICTED RESPONSE: no . s a saloon . ? <---> TARGET: no . look .\n",
      "[NeMo I 2020-11-05 04:03:41 <ipython-input-8-d6a2d1ea5b1b>:13] Train Loss:2.7172141075134277\n",
      "[NeMo I 2020-11-05 04:03:41 <ipython-input-8-d6a2d1ea5b1b>:14] SOURCE: milo . surprised he s not your guest . <---> PREDICTED RESPONSE: he s not going to be . ? <---> TARGET: we tried !\n",
      "[NeMo I 2020-11-05 04:03:41 <ipython-input-8-d6a2d1ea5b1b>:13] Train Loss:2.734066963195801\n",
      "[NeMo I 2020-11-05 04:03:41 <ipython-input-8-d6a2d1ea5b1b>:14] SOURCE: this isn t working out for me anymore . <---> PREDICTED RESPONSE: you re not going to start . ? <---> TARGET: yeah me neither .\n",
      "[NeMo I 2020-11-05 04:03:41 <ipython-input-8-d6a2d1ea5b1b>:13] Train Loss:2.578972816467285\n",
      "[NeMo I 2020-11-05 04:03:41 <ipython-input-8-d6a2d1ea5b1b>:14] SOURCE: i understand . i ll go with you . <---> PREDICTED RESPONSE: you re a good nervous . night . <---> TARGET: thanks .\n",
      "[NeMo I 2020-11-05 04:03:41 <ipython-input-8-d6a2d1ea5b1b>:13] Train Loss:2.6626932621002197\n",
      "[NeMo I 2020-11-05 04:03:41 <ipython-input-8-d6a2d1ea5b1b>:14] SOURCE: how long you plan to be in arizona ? <---> PREDICTED RESPONSE: i m fine . times . times . <---> TARGET: no longer n we can get acrost her .\n",
      "[NeMo I 2020-11-05 04:03:41 <ipython-input-8-d6a2d1ea5b1b>:13] Train Loss:2.611274003982544\n",
      "[NeMo I 2020-11-05 04:03:41 <ipython-input-8-d6a2d1ea5b1b>:14] SOURCE: uh listen willie i got a better idea . <---> PREDICTED RESPONSE: what ? ? ? ? ? <---> TARGET: what ? !\n",
      "[NeMo I 2020-11-05 04:03:41 <ipython-input-8-d6a2d1ea5b1b>:13] Train Loss:2.7019309997558594\n",
      "[NeMo I 2020-11-05 04:03:41 <ipython-input-8-d6a2d1ea5b1b>:14] SOURCE: only one in the rear i m afraid . <---> PREDICTED RESPONSE: you re not going to turley ? ! <---> TARGET: that s perfect !\n",
      "[NeMo I 2020-11-05 04:03:41 <ipython-input-8-d6a2d1ea5b1b>:13] Train Loss:2.7173988819122314\n",
      "[NeMo I 2020-11-05 04:03:41 <ipython-input-8-d6a2d1ea5b1b>:14] SOURCE: that should buy you ten minutes at least . <---> PREDICTED RESPONSE: what s that ? ? ? ? <---> TARGET: gee thanks friend .\n",
      "[NeMo I 2020-11-05 04:03:41 <ipython-input-8-d6a2d1ea5b1b>:13] Train Loss:2.508007526397705\n",
      "[NeMo I 2020-11-05 04:03:41 <ipython-input-8-d6a2d1ea5b1b>:14] SOURCE: i m a little late that s all . <---> PREDICTED RESPONSE: what ? ? ? ? ? <---> TARGET: how late ?\n",
      "[NeMo I 2020-11-05 04:03:41 <ipython-input-8-d6a2d1ea5b1b>:13] Train Loss:2.6322860717773438\n",
      "[NeMo I 2020-11-05 04:03:41 <ipython-input-8-d6a2d1ea5b1b>:14] SOURCE: i thought i heard . . . yes ? <---> PREDICTED RESPONSE: i m sorry . s a long day . <---> TARGET: uh jefferson smith s residence ?\n",
      "[NeMo I 2020-11-05 04:03:41 <ipython-input-8-d6a2d1ea5b1b>:13] Train Loss:2.670301675796509\n",
      "[NeMo I 2020-11-05 04:03:41 <ipython-input-8-d6a2d1ea5b1b>:14] SOURCE: how long you worked for mr . whale ? <---> PREDICTED RESPONSE: i don t know . . . <---> TARGET: long enough . fifteen years .\n",
      "[NeMo I 2020-11-05 04:03:41 <ipython-input-8-d6a2d1ea5b1b>:13] Train Loss:2.7098941802978516\n",
      "[NeMo I 2020-11-05 04:03:41 <ipython-input-8-d6a2d1ea5b1b>:14] SOURCE: we were going to start again i think . <---> PREDICTED RESPONSE: you re not going to turley ? ? <---> TARGET: don t you already have a girlfriend ?\n",
      "[NeMo I 2020-11-05 04:03:41 <ipython-input-8-d6a2d1ea5b1b>:13] Train Loss:2.6865124702453613\n",
      "[NeMo I 2020-11-05 04:03:41 <ipython-input-8-d6a2d1ea5b1b>:14] SOURCE: in england i was a poor student but i <---> PREDICTED RESPONSE: you re not going to jail . times . <---> TARGET: that was england .\n",
      "[NeMo I 2020-11-05 04:03:41 <ipython-input-8-d6a2d1ea5b1b>:13] Train Loss:2.5299296379089355\n",
      "[NeMo I 2020-11-05 04:03:41 <ipython-input-8-d6a2d1ea5b1b>:14] SOURCE: what is it ? what s the matter ? <---> PREDICTED RESPONSE: nothing . s a minor . . <---> TARGET: mike s out there .\n",
      "[NeMo I 2020-11-05 04:03:41 <ipython-input-8-d6a2d1ea5b1b>:13] Train Loss:2.631542444229126\n",
      "[NeMo I 2020-11-05 04:03:41 <ipython-input-8-d6a2d1ea5b1b>:14] SOURCE: i just wanted to see how you looked . <---> PREDICTED RESPONSE: i m fine . . . ? <---> TARGET: how d i look ?\n",
      "[NeMo I 2020-11-05 04:03:41 <ipython-input-8-d6a2d1ea5b1b>:13] Train Loss:2.6551401615142822\n",
      "[NeMo I 2020-11-05 04:03:41 <ipython-input-8-d6a2d1ea5b1b>:14] SOURCE: well why don t you look her up ? <---> PREDICTED RESPONSE: no . times . times . times <---> TARGET: yeah right .\n",
      "[NeMo I 2020-11-05 04:03:41 <ipython-input-8-d6a2d1ea5b1b>:13] Train Loss:2.505019426345825\n",
      "[NeMo I 2020-11-05 04:03:41 <ipython-input-8-d6a2d1ea5b1b>:14] SOURCE: nothing s been boring since you found me . <---> PREDICTED RESPONSE: what s that ? ? ? ? <---> TARGET: that s not all of it .\n",
      "[NeMo I 2020-11-05 04:03:41 <ipython-input-8-d6a2d1ea5b1b>:13] Train Loss:2.7750778198242188\n",
      "[NeMo I 2020-11-05 04:03:41 <ipython-input-8-d6a2d1ea5b1b>:14] SOURCE: yah well that was a mix up then . <---> PREDICTED RESPONSE: what ? believes it ? ? ? <---> TARGET: yeah you already said that .\n",
      "[NeMo I 2020-11-05 04:03:41 <ipython-input-8-d6a2d1ea5b1b>:13] Train Loss:2.693553924560547\n",
      "[NeMo I 2020-11-05 04:03:41 <ipython-input-8-d6a2d1ea5b1b>:14] SOURCE: oh my god oh my god . . . <---> PREDICTED RESPONSE: what s that ? ? ? ? <---> TARGET: starck !\n",
      "[NeMo I 2020-11-05 04:03:41 <ipython-input-8-d6a2d1ea5b1b>:13] Train Loss:2.521773099899292\n",
      "[NeMo I 2020-11-05 04:03:41 <ipython-input-8-d6a2d1ea5b1b>:14] SOURCE: i suppose you d like the top down . <---> PREDICTED RESPONSE: i m not sure . times . times <---> TARGET: if that s okay ?\n",
      "[NeMo I 2020-11-05 04:03:41 <ipython-input-8-d6a2d1ea5b1b>:13] Train Loss:2.5771164894104004\n",
      "[NeMo I 2020-11-05 04:03:41 <ipython-input-8-d6a2d1ea5b1b>:14] SOURCE: remember the first time we came up here ? <---> PREDICTED RESPONSE: no . . . . . <---> TARGET: of course i do .\n",
      "[NeMo I 2020-11-05 04:03:41 <ipython-input-8-d6a2d1ea5b1b>:13] Train Loss:2.5562446117401123\n",
      "[NeMo I 2020-11-05 04:03:41 <ipython-input-8-d6a2d1ea5b1b>:14] SOURCE: just let it go i ve got you ! <---> PREDICTED RESPONSE: i m sorry . times . times . <---> TARGET: what re you nuts\n",
      "[NeMo I 2020-11-05 04:03:41 <ipython-input-8-d6a2d1ea5b1b>:13] Train Loss:2.6809794902801514\n",
      "[NeMo I 2020-11-05 04:03:41 <ipython-input-8-d6a2d1ea5b1b>:14] SOURCE: what do you mean you don t know ? <---> PREDICTED RESPONSE: no . s a minor . birthday . <---> TARGET: i ll tell you later .\n",
      "[NeMo I 2020-11-05 04:03:41 <ipython-input-8-d6a2d1ea5b1b>:13] Train Loss:2.6074130535125732\n",
      "[NeMo I 2020-11-05 04:03:41 <ipython-input-8-d6a2d1ea5b1b>:14] SOURCE: you loaded it vince ! i saw you ! <---> PREDICTED RESPONSE: i m sorry . s here . ? <---> TARGET: the fuck i did ! ! !\n",
      "[NeMo I 2020-11-05 04:03:41 <ipython-input-8-d6a2d1ea5b1b>:13] Train Loss:2.5747177600860596\n",
      "[NeMo I 2020-11-05 04:03:41 <ipython-input-8-d6a2d1ea5b1b>:14] SOURCE: nels don t let that cop pass you . <---> PREDICTED RESPONSE: i m sorry . s on . times <---> TARGET: what am i supposed to do ?\n",
      "[NeMo I 2020-11-05 04:03:41 <ipython-input-8-d6a2d1ea5b1b>:13] Train Loss:2.578947067260742\n",
      "[NeMo I 2020-11-05 04:03:41 <ipython-input-8-d6a2d1ea5b1b>:14] SOURCE: not unless you want that clipboard stretched up your <---> PREDICTED RESPONSE: no . s not . times . <---> TARGET: o kay . we ll skip that question .\n",
      "[NeMo I 2020-11-05 04:03:41 <ipython-input-8-d6a2d1ea5b1b>:13] Train Loss:2.4765396118164062\n",
      "[NeMo I 2020-11-05 04:03:42 <ipython-input-8-d6a2d1ea5b1b>:14] SOURCE: you are woman . i know woman well . <---> PREDICTED RESPONSE: what ? ? ? ? ? <---> TARGET: this is crazy .\n",
      "[NeMo I 2020-11-05 04:03:42 <ipython-input-8-d6a2d1ea5b1b>:13] Train Loss:2.517437696456909\n",
      "[NeMo I 2020-11-05 04:03:42 <ipython-input-8-d6a2d1ea5b1b>:14] SOURCE: i ve done much better ones than this . <---> PREDICTED RESPONSE: you re not going to turley ? ? <---> TARGET: you have huh ?\n",
      "[NeMo I 2020-11-05 04:03:42 <ipython-input-8-d6a2d1ea5b1b>:13] Train Loss:2.4729840755462646\n",
      "[NeMo I 2020-11-05 04:03:42 <ipython-input-8-d6a2d1ea5b1b>:14] SOURCE: i mean you broke up with me right ? <---> PREDICTED RESPONSE: no . s here . ? ? <---> TARGET: are you kidding ?\n",
      "[NeMo I 2020-11-05 04:03:42 <ipython-input-8-d6a2d1ea5b1b>:13] Train Loss:2.579186201095581\n",
      "[NeMo I 2020-11-05 04:03:42 <ipython-input-8-d6a2d1ea5b1b>:14] SOURCE: guess who s here ? another surprise guest . <---> PREDICTED RESPONSE: i m sorry . s gone . ? <---> TARGET: who ?\n",
      "[NeMo I 2020-11-05 04:03:42 <ipython-input-8-d6a2d1ea5b1b>:13] Train Loss:2.5710361003875732\n",
      "[NeMo I 2020-11-05 04:03:42 <ipython-input-8-d6a2d1ea5b1b>:14] SOURCE: i read the hospital report on your client . <---> PREDICTED RESPONSE: i m sorry . s a long time . <---> TARGET: . . .deborah ann kaye . . .\n",
      "[NeMo I 2020-11-05 04:03:42 <ipython-input-8-d6a2d1ea5b1b>:13] Train Loss:2.5761239528656006\n",
      "[NeMo I 2020-11-05 04:03:42 <ipython-input-8-d6a2d1ea5b1b>:14] SOURCE: jesus sally . i m not the enemy . <---> PREDICTED RESPONSE: what ? ? ? ? ? <---> TARGET: and you re not the wife .\n",
      "[NeMo I 2020-11-05 04:03:42 <ipython-input-8-d6a2d1ea5b1b>:13] Train Loss:2.564985513687134\n",
      "[NeMo I 2020-11-05 04:03:42 <ipython-input-8-d6a2d1ea5b1b>:14] SOURCE: oh god it s soft it s moving ! <---> PREDICTED RESPONSE: wait ! ! ! ! ! <---> TARGET: willie !\n",
      "[NeMo I 2020-11-05 04:03:42 <ipython-input-8-d6a2d1ea5b1b>:13] Train Loss:2.605421543121338\n",
      "[NeMo I 2020-11-05 04:03:42 <ipython-input-8-d6a2d1ea5b1b>:14] SOURCE: i don t know herman maybe you do . <---> PREDICTED RESPONSE: you re not going to turley ? ? <---> TARGET: me ?\n",
      "[NeMo I 2020-11-05 04:03:42 <ipython-input-8-d6a2d1ea5b1b>:13] Train Loss:2.605327844619751\n",
      "[NeMo I 2020-11-05 04:03:42 <ipython-input-8-d6a2d1ea5b1b>:14] SOURCE: you know you ve been very nervous lately . <---> PREDICTED RESPONSE: i m sorry . s on . times <---> TARGET: i can t take this anymore .\n",
      "[NeMo I 2020-11-05 04:03:42 <ipython-input-8-d6a2d1ea5b1b>:13] Train Loss:2.637129068374634\n",
      "[NeMo I 2020-11-05 04:03:42 <ipython-input-8-d6a2d1ea5b1b>:14] SOURCE: i see he d walk out next month . <---> PREDICTED RESPONSE: you re a good nervous . ? ? <---> TARGET: that s right .\n",
      "[NeMo I 2020-11-05 04:03:42 <ipython-input-8-d6a2d1ea5b1b>:13] Train Loss:2.6029114723205566\n",
      "[NeMo I 2020-11-05 04:03:42 <ipython-input-8-d6a2d1ea5b1b>:14] SOURCE: you mean to someone like mr . sheldrake . <---> PREDICTED RESPONSE: i m sorry . s on . times <---> TARGET: i guess so .\n",
      "[NeMo I 2020-11-05 04:03:42 <ipython-input-8-d6a2d1ea5b1b>:13] Train Loss:2.6037867069244385\n",
      "[NeMo I 2020-11-05 04:03:42 <ipython-input-8-d6a2d1ea5b1b>:14] SOURCE: get out ? ! what does it say ? <---> PREDICTED RESPONSE: it s just a seat . times . <---> TARGET: fucked me .\n",
      "[NeMo I 2020-11-05 04:03:42 <ipython-input-8-d6a2d1ea5b1b>:13] Train Loss:2.695087194442749\n",
      "[NeMo I 2020-11-05 04:03:42 <ipython-input-8-d6a2d1ea5b1b>:14] SOURCE: hey ! you shouldn t be down there ! <---> PREDICTED RESPONSE: what ? ? ? ? ? <---> TARGET: for god s sakes let me out ! !\n",
      "[NeMo I 2020-11-05 04:03:42 <ipython-input-8-d6a2d1ea5b1b>:13] Train Loss:2.6426048278808594\n",
      "[NeMo I 2020-11-05 04:03:42 <ipython-input-8-d6a2d1ea5b1b>:14] SOURCE: well until you know you can t go . <---> PREDICTED RESPONSE: what ? ? ? ? ? <---> TARGET: oh okay .\n",
      "[NeMo I 2020-11-05 04:03:42 <ipython-input-8-d6a2d1ea5b1b>:13] Train Loss:2.544083833694458\n",
      "[NeMo I 2020-11-05 04:03:42 <ipython-input-8-d6a2d1ea5b1b>:14] SOURCE: there . should be coming through about there . <---> PREDICTED RESPONSE: what ? ? ? ? ? <---> TARGET: careful don t get under it !\n",
      "[NeMo I 2020-11-05 04:03:42 <ipython-input-8-d6a2d1ea5b1b>:13] Train Loss:2.6304190158843994\n",
      "[NeMo I 2020-11-05 04:03:42 <ipython-input-8-d6a2d1ea5b1b>:14] SOURCE: my boss probably . who would you fight ? <---> PREDICTED RESPONSE: i m sorry . times . times . <---> TARGET: my dad . no question .\n",
      "[NeMo I 2020-11-05 04:03:42 <ipython-input-8-d6a2d1ea5b1b>:13] Train Loss:2.6268465518951416\n",
      "[NeMo I 2020-11-05 04:03:42 <ipython-input-8-d6a2d1ea5b1b>:14] SOURCE: that s . . .a comfort to hear . <---> PREDICTED RESPONSE: i m sorry . s on . . <---> TARGET: i have a problem .\n",
      "[NeMo I 2020-11-05 04:03:42 <ipython-input-8-d6a2d1ea5b1b>:13] Train Loss:2.654327630996704\n",
      "[NeMo I 2020-11-05 04:03:42 <ipython-input-8-d6a2d1ea5b1b>:14] SOURCE: good . from me you ll get justice . <---> PREDICTED RESPONSE: godfather . s here . ? ? <---> TARGET: godfather .\n",
      "[NeMo I 2020-11-05 04:03:42 <ipython-input-8-d6a2d1ea5b1b>:13] Train Loss:2.6176326274871826\n",
      "[NeMo I 2020-11-05 04:03:42 <ipython-input-8-d6a2d1ea5b1b>:14] SOURCE: you crazy nut ! you crazy crazy nut ! <---> PREDICTED RESPONSE: go ahead ! ! ! ! <---> TARGET: get away from me !\n",
      "[NeMo I 2020-11-05 04:03:42 <ipython-input-8-d6a2d1ea5b1b>:13] Train Loss:2.5191993713378906\n",
      "[NeMo I 2020-11-05 04:03:42 <ipython-input-8-d6a2d1ea5b1b>:14] SOURCE: i m wearing a t shirt and panties . <---> PREDICTED RESPONSE: what s that ? ? ? ? <---> TARGET: really ?\n",
      "[NeMo I 2020-11-05 04:03:42 <ipython-input-8-d6a2d1ea5b1b>:13] Train Loss:2.676638126373291\n",
      "[NeMo I 2020-11-05 04:03:42 <ipython-input-8-d6a2d1ea5b1b>:14] SOURCE: i m a little late that s all . <---> PREDICTED RESPONSE: what ? ? ? ? ? <---> TARGET: how late ?\n",
      "[NeMo I 2020-11-05 04:03:42 <ipython-input-8-d6a2d1ea5b1b>:13] Train Loss:2.706911325454712\n",
      "[NeMo I 2020-11-05 04:03:42 <ipython-input-8-d6a2d1ea5b1b>:14] SOURCE: ah good . now turn to your left . <---> PREDICTED RESPONSE: what ? ? ? ? ? <---> TARGET: she talk about the boys ?\n",
      "[NeMo I 2020-11-05 04:03:42 <ipython-input-8-d6a2d1ea5b1b>:13] Train Loss:2.5907084941864014\n",
      "[NeMo I 2020-11-05 04:03:42 <ipython-input-8-d6a2d1ea5b1b>:14] SOURCE: you re the doctor what do you think ? <---> PREDICTED RESPONSE: what ? ? ? ? ? <---> TARGET: she seems very unhappy .\n",
      "[NeMo I 2020-11-05 04:03:42 <ipython-input-8-d6a2d1ea5b1b>:13] Train Loss:2.56026291847229\n",
      "[NeMo I 2020-11-05 04:03:42 <ipython-input-8-d6a2d1ea5b1b>:14] SOURCE: we can t raise the wheel without it . <---> PREDICTED RESPONSE: what s that ? ? ? ? <---> TARGET: my horse doesn t work .\n",
      "[NeMo I 2020-11-05 04:03:42 <ipython-input-8-d6a2d1ea5b1b>:13] Train Loss:2.699064254760742\n",
      "[NeMo I 2020-11-05 04:03:42 <ipython-input-8-d6a2d1ea5b1b>:14] SOURCE: you stand to win everything . call it . <---> PREDICTED RESPONSE: what ? ? ? ? ? <---> TARGET: all right . heads then .\n",
      "[NeMo I 2020-11-05 04:03:42 <ipython-input-8-d6a2d1ea5b1b>:13] Train Loss:2.4371604919433594\n",
      "[NeMo I 2020-11-05 04:03:42 <ipython-input-8-d6a2d1ea5b1b>:14] SOURCE: is it . . . is it really ? <---> PREDICTED RESPONSE: yeah . . . . . <---> TARGET: are you pulling my leg ?\n",
      "[NeMo I 2020-11-05 04:03:42 <ipython-input-8-d6a2d1ea5b1b>:13] Train Loss:2.4288694858551025\n",
      "[NeMo I 2020-11-05 04:03:42 <ipython-input-8-d6a2d1ea5b1b>:14] SOURCE: so i hear you re from new mexico ! <---> PREDICTED RESPONSE: i m sorry . s on . times <---> TARGET: sometimes .\n",
      "[NeMo I 2020-11-05 04:03:42 <ipython-input-8-d6a2d1ea5b1b>:13] Train Loss:2.544144868850708\n",
      "[NeMo I 2020-11-05 04:03:42 <ipython-input-8-d6a2d1ea5b1b>:14] SOURCE: that doesn t look like very much clay . <---> PREDICTED RESPONSE: what s that ? ? ? ? <---> TARGET: oh it s enough . . .\n",
      "[NeMo I 2020-11-05 04:03:42 <ipython-input-8-d6a2d1ea5b1b>:13] Train Loss:2.4905028343200684\n",
      "[NeMo I 2020-11-05 04:03:42 <ipython-input-8-d6a2d1ea5b1b>:14] SOURCE: i hope you re still alive jean luc . <---> PREDICTED RESPONSE: i m sorry . s here . . <---> TARGET: i am .\n",
      "[NeMo I 2020-11-05 04:03:42 <ipython-input-8-d6a2d1ea5b1b>:13] Train Loss:2.628685235977173\n",
      "[NeMo I 2020-11-05 04:03:42 <ipython-input-8-d6a2d1ea5b1b>:14] SOURCE: may i speak to you for a moment ? <---> PREDICTED RESPONSE: i don t know . . . <---> TARGET: can t it wait ?\n",
      "[NeMo I 2020-11-05 04:03:42 <ipython-input-8-d6a2d1ea5b1b>:13] Train Loss:2.5483105182647705\n",
      "[NeMo I 2020-11-05 04:03:42 <ipython-input-8-d6a2d1ea5b1b>:14] SOURCE: was it ? did you speak to tom ? <---> PREDICTED RESPONSE: yeah . . . . . <---> TARGET: november th is my information .\n",
      "[NeMo I 2020-11-05 04:03:42 <ipython-input-8-d6a2d1ea5b1b>:13] Train Loss:2.404637575149536\n",
      "[NeMo I 2020-11-05 04:03:42 <ipython-input-8-d6a2d1ea5b1b>:14] SOURCE: it s all right . it s organic . <---> PREDICTED RESPONSE: oh yeah . . . . . . <---> TARGET: oh harold .\n",
      "[NeMo I 2020-11-05 04:03:42 <ipython-input-8-d6a2d1ea5b1b>:13] Train Loss:2.517345428466797\n",
      "[NeMo I 2020-11-05 04:03:42 <ipython-input-8-d6a2d1ea5b1b>:14] SOURCE: let s have a look do you mind ? <---> PREDICTED RESPONSE: no . ? ? ? ? <---> TARGET: of course . i would like to look .\n",
      "[NeMo I 2020-11-05 04:03:42 <ipython-input-8-d6a2d1ea5b1b>:13] Train Loss:2.613326072692871\n",
      "[NeMo I 2020-11-05 04:03:42 <ipython-input-8-d6a2d1ea5b1b>:14] SOURCE: listen i don t even know your name . <---> PREDICTED RESPONSE: who s the problem ? ? ? <---> TARGET: rath . robert rath .\n",
      "[NeMo I 2020-11-05 04:03:42 <ipython-input-8-d6a2d1ea5b1b>:13] Train Loss:2.608731985092163\n",
      "[NeMo I 2020-11-05 04:03:42 <ipython-input-8-d6a2d1ea5b1b>:14] SOURCE: do you really want to buy those cigarettes ? <---> PREDICTED RESPONSE: i m sorry . . . . ? <---> TARGET: are you serious ?\n",
      "[NeMo I 2020-11-05 04:03:42 <ipython-input-8-d6a2d1ea5b1b>:13] Train Loss:2.5244460105895996\n",
      "[NeMo I 2020-11-05 04:03:42 <ipython-input-8-d6a2d1ea5b1b>:14] SOURCE: yes . might as well all of it . <---> PREDICTED RESPONSE: yeah ? ? ? ? ? <---> TARGET: yes sir .\n",
      "[NeMo I 2020-11-05 04:03:42 <ipython-input-8-d6a2d1ea5b1b>:13] Train Loss:2.704152822494507\n",
      "[NeMo I 2020-11-05 04:03:42 <ipython-input-8-d6a2d1ea5b1b>:14] SOURCE: shut up . it s daddy shit head . <---> PREDICTED RESPONSE: who s the engines ? ? ? <---> TARGET: hello daddy .\n",
      "[NeMo I 2020-11-05 04:03:42 <ipython-input-8-d6a2d1ea5b1b>:13] Train Loss:2.3612918853759766\n",
      "[NeMo I 2020-11-05 04:03:42 <ipython-input-8-d6a2d1ea5b1b>:14] SOURCE: our man is sick . come right away . <---> PREDICTED RESPONSE: what s the problem ? ? ? <---> TARGET: what is it ?\n",
      "[NeMo I 2020-11-05 04:03:42 <ipython-input-8-d6a2d1ea5b1b>:13] Train Loss:2.533384323120117\n",
      "[NeMo I 2020-11-05 04:03:42 <ipython-input-8-d6a2d1ea5b1b>:14] SOURCE: well they always is to the party concerned . <---> PREDICTED RESPONSE: they re birds . times . times . <---> TARGET: ed tom i ll be polite .\n",
      "[NeMo I 2020-11-05 04:03:42 <ipython-input-8-d6a2d1ea5b1b>:13] Train Loss:2.4237802028656006\n",
      "[NeMo I 2020-11-05 04:03:42 <ipython-input-8-d6a2d1ea5b1b>:14] SOURCE: i told you her family moved to miami . <---> PREDICTED RESPONSE: i m sorry . s on . night <---> TARGET: i mean since then .\n",
      "[NeMo I 2020-11-05 04:03:42 <ipython-input-8-d6a2d1ea5b1b>:13] Train Loss:2.5958282947540283\n",
      "[NeMo I 2020-11-05 04:03:42 <ipython-input-8-d6a2d1ea5b1b>:14] SOURCE: how do you know he d buy them ? <---> PREDICTED RESPONSE: i don t know . . . <---> TARGET: graff ? because i worked for him .\n",
      "[NeMo I 2020-11-05 04:03:42 <ipython-input-8-d6a2d1ea5b1b>:13] Train Loss:2.5176384449005127\n",
      "[NeMo I 2020-11-05 04:03:42 <ipython-input-8-d6a2d1ea5b1b>:14] SOURCE: what did he sound like on the phone ? <---> PREDICTED RESPONSE: he s gone . face . . <---> TARGET: real polite . kept calling me sir .\n",
      "[NeMo I 2020-11-05 04:03:42 <ipython-input-8-d6a2d1ea5b1b>:13] Train Loss:2.405139207839966\n",
      "[NeMo I 2020-11-05 04:03:42 <ipython-input-8-d6a2d1ea5b1b>:14] SOURCE: did you just call me a fuck ass ? <---> PREDICTED RESPONSE: no . times . times . ? <---> TARGET: that s enough .\n",
      "[NeMo I 2020-11-05 04:03:42 <ipython-input-8-d6a2d1ea5b1b>:13] Train Loss:2.5754506587982178\n",
      "[NeMo I 2020-11-05 04:03:42 <ipython-input-8-d6a2d1ea5b1b>:14] SOURCE: the fat man down there on the bench . <---> PREDICTED RESPONSE: what ? ? ? ? ? <---> TARGET: perfect .\n",
      "[NeMo I 2020-11-05 04:03:42 <ipython-input-8-d6a2d1ea5b1b>:13] Train Loss:2.5004467964172363\n",
      "[NeMo I 2020-11-05 04:03:42 <ipython-input-8-d6a2d1ea5b1b>:14] SOURCE: where were you jason ? in the car . <---> PREDICTED RESPONSE: i m going to juarez . . . <---> TARGET: conklin up front .\n",
      "[NeMo I 2020-11-05 04:03:42 <ipython-input-8-d6a2d1ea5b1b>:13] Train Loss:2.437433958053589\n",
      "[NeMo I 2020-11-05 04:03:42 <ipython-input-8-d6a2d1ea5b1b>:14] SOURCE: wait here . i ll be right back . <---> PREDICTED RESPONSE: what ? ? ? ? ? <---> TARGET: where would we go ?\n",
      "[NeMo I 2020-11-05 04:03:42 <ipython-input-8-d6a2d1ea5b1b>:13] Train Loss:2.5354104042053223\n",
      "[NeMo I 2020-11-05 04:03:42 <ipython-input-8-d6a2d1ea5b1b>:14] SOURCE: i didn t ask george to invite you . <---> PREDICTED RESPONSE: i m sorry . s on . times <---> TARGET: then who did ?\n",
      "[NeMo I 2020-11-05 04:03:42 <ipython-input-8-d6a2d1ea5b1b>:13] Train Loss:2.558424234390259\n",
      "[NeMo I 2020-11-05 04:03:42 <ipython-input-8-d6a2d1ea5b1b>:14] SOURCE: there s a first time for everything admiral . <---> PREDICTED RESPONSE: a little of a little one . . <---> TARGET: to be sure captain .\n",
      "[NeMo I 2020-11-05 04:03:42 <ipython-input-8-d6a2d1ea5b1b>:13] Train Loss:2.6135048866271973\n",
      "[NeMo I 2020-11-05 04:03:42 <ipython-input-8-d6a2d1ea5b1b>:14] SOURCE: but first a little juice . . . . <---> PREDICTED RESPONSE: what ? ? ? ? ? <---> TARGET: and second ?\n",
      "[NeMo I 2020-11-05 04:03:42 <ipython-input-8-d6a2d1ea5b1b>:13] Train Loss:2.538585662841797\n",
      "[NeMo I 2020-11-05 04:03:42 <ipython-input-8-d6a2d1ea5b1b>:14] SOURCE: oh our relatives . . . the children . <---> PREDICTED RESPONSE: what ? ? ? ? ? <---> TARGET: the children ! may i see ?\n",
      "[NeMo I 2020-11-05 04:03:42 <ipython-input-8-d6a2d1ea5b1b>:13] Train Loss:2.7304632663726807\n",
      "[NeMo I 2020-11-05 04:03:42 <ipython-input-8-d6a2d1ea5b1b>:14] SOURCE: we had a good laugh didn t we ? <---> PREDICTED RESPONSE: yeah . . . . . <---> TARGET: yeah . i guess we did .\n",
      "[NeMo I 2020-11-05 04:03:42 <ipython-input-8-d6a2d1ea5b1b>:13] Train Loss:2.576814889907837\n",
      "[NeMo I 2020-11-05 04:03:42 <ipython-input-8-d6a2d1ea5b1b>:14] SOURCE: at least you pulled yourself out . . . <---> PREDICTED RESPONSE: what ? ? ? ? ? <---> TARGET: things got a lot worse .\n",
      "[NeMo I 2020-11-05 04:03:42 <ipython-input-8-d6a2d1ea5b1b>:13] Train Loss:2.4682652950286865\n",
      "[NeMo I 2020-11-05 04:03:42 <ipython-input-8-d6a2d1ea5b1b>:14] SOURCE: but what about the past ? our past ? <---> PREDICTED RESPONSE: no . times . times . times <---> TARGET: we never really shared one .\n",
      "[NeMo I 2020-11-05 04:03:42 <ipython-input-8-d6a2d1ea5b1b>:13] Train Loss:2.5921192169189453\n",
      "[NeMo I 2020-11-05 04:03:42 <ipython-input-8-d6a2d1ea5b1b>:14] SOURCE: but john was with him at the pool ? <---> PREDICTED RESPONSE: no . times . times . times <---> TARGET: yes .\n",
      "[NeMo I 2020-11-05 04:03:42 <ipython-input-8-d6a2d1ea5b1b>:13] Train Loss:2.4629547595977783\n",
      "[NeMo I 2020-11-05 04:03:42 <ipython-input-8-d6a2d1ea5b1b>:14] SOURCE: milo . surprised he s not your guest . <---> PREDICTED RESPONSE: he s not going to be . ? <---> TARGET: we tried !\n",
      "[NeMo I 2020-11-05 04:03:42 <ipython-input-8-d6a2d1ea5b1b>:13] Train Loss:2.708479881286621\n",
      "[NeMo I 2020-11-05 04:03:42 <ipython-input-8-d6a2d1ea5b1b>:14] SOURCE: later . listen we re entertaining some guests so <---> PREDICTED RESPONSE: you re not going to bed ? ! <---> TARGET: annette ! annette !\n",
      "[NeMo I 2020-11-05 04:03:42 <ipython-input-8-d6a2d1ea5b1b>:13] Train Loss:2.3718156814575195\n",
      "[NeMo I 2020-11-05 04:03:42 <ipython-input-8-d6a2d1ea5b1b>:14] SOURCE: all right . i ll try anything once . <---> PREDICTED RESPONSE: you re a good nervous . ? ? <---> TARGET: except sex .\n",
      "[NeMo I 2020-11-05 04:03:42 <ipython-input-8-d6a2d1ea5b1b>:13] Train Loss:2.472627878189087\n",
      "[NeMo I 2020-11-05 04:03:42 <ipython-input-8-d6a2d1ea5b1b>:14] SOURCE: if you know where it is get there ! <---> PREDICTED RESPONSE: i m sorry . times . times . <---> TARGET: me ? you ve gotta be kidding .\n",
      "[NeMo I 2020-11-05 04:03:42 <ipython-input-8-d6a2d1ea5b1b>:13] Train Loss:2.647711753845215\n",
      "[NeMo I 2020-11-05 04:03:42 <ipython-input-8-d6a2d1ea5b1b>:14] SOURCE: you hold the counter and i ll pull . <---> PREDICTED RESPONSE: i m sorry . s on . . <---> TARGET: usually i just turn the can upside down .\n",
      "[NeMo I 2020-11-05 04:03:42 <ipython-input-8-d6a2d1ea5b1b>:13] Train Loss:2.409397602081299\n",
      "[NeMo I 2020-11-05 04:03:42 <ipython-input-8-d6a2d1ea5b1b>:14] SOURCE: why don t you get to it buddy ? <---> PREDICTED RESPONSE: i don t know . . . <---> TARGET: get to what ?\n",
      "[NeMo I 2020-11-05 04:03:42 <ipython-input-8-d6a2d1ea5b1b>:13] Train Loss:2.3542213439941406\n",
      "[NeMo I 2020-11-05 04:03:42 <ipython-input-8-d6a2d1ea5b1b>:14] SOURCE: it really is . did you find anything ? <---> PREDICTED RESPONSE: yeah . times . times . times <---> TARGET: yeah . take a walk with me .\n",
      "[NeMo I 2020-11-05 04:03:42 <ipython-input-8-d6a2d1ea5b1b>:13] Train Loss:2.592413902282715\n",
      "[NeMo I 2020-11-05 04:03:42 <ipython-input-8-d6a2d1ea5b1b>:14] SOURCE: you know how to work a pistol dunbar ? <---> PREDICTED RESPONSE: i m fine . times . times . <---> TARGET: sir yes sir !\n",
      "[NeMo I 2020-11-05 04:03:42 <ipython-input-8-d6a2d1ea5b1b>:13] Train Loss:2.6414260864257812\n",
      "[NeMo I 2020-11-05 04:03:42 <ipython-input-8-d6a2d1ea5b1b>:14] SOURCE: you didn t have to beat him up ! <---> PREDICTED RESPONSE: i m sorry . s on . . <---> TARGET: what ?\n",
      "[NeMo I 2020-11-05 04:03:42 <ipython-input-8-d6a2d1ea5b1b>:13] Train Loss:2.4509692192077637\n",
      "[NeMo I 2020-11-05 04:03:42 <ipython-input-8-d6a2d1ea5b1b>:14] SOURCE: you can hit me if you want to . <---> PREDICTED RESPONSE: i m sorry . s on . times <---> TARGET: no please . i won t .\n",
      "[NeMo I 2020-11-05 04:03:42 <ipython-input-8-d6a2d1ea5b1b>:13] Train Loss:2.4571127891540527\n",
      "[NeMo I 2020-11-05 04:03:42 <ipython-input-8-d6a2d1ea5b1b>:14] SOURCE: you sure you want to throw that card ? <---> PREDICTED RESPONSE: no . . . . . <---> TARGET: sure .\n",
      "[NeMo I 2020-11-05 04:03:42 <ipython-input-8-d6a2d1ea5b1b>:13] Train Loss:2.4648561477661133\n",
      "[NeMo I 2020-11-05 04:03:42 <ipython-input-8-d6a2d1ea5b1b>:14] SOURCE: made it . maxine . maxine maxine maxine . <---> PREDICTED RESPONSE: i m sorry . s over . times <---> TARGET: just .\n",
      "[NeMo I 2020-11-05 04:03:42 <ipython-input-8-d6a2d1ea5b1b>:13] Train Loss:2.6977956295013428\n",
      "[NeMo I 2020-11-05 04:03:42 <ipython-input-8-d6a2d1ea5b1b>:14] SOURCE: we ll speak to her jim . . . <---> PREDICTED RESPONSE: what s the problem ? ? ? <---> TARGET: she won t listen .\n",
      "[NeMo I 2020-11-05 04:03:42 <ipython-input-8-d6a2d1ea5b1b>:13] Train Loss:2.478142023086548\n",
      "[NeMo I 2020-11-05 04:03:42 <ipython-input-8-d6a2d1ea5b1b>:14] SOURCE: but what if they try and scare us ? <---> PREDICTED RESPONSE: i don t know . . . <---> TARGET: we ll scare em right back .\n",
      "[NeMo I 2020-11-05 04:03:42 <ipython-input-8-d6a2d1ea5b1b>:13] Train Loss:2.4187283515930176\n",
      "[NeMo I 2020-11-05 04:03:42 <ipython-input-8-d6a2d1ea5b1b>:14] SOURCE: does it make you . . . hard ? <---> PREDICTED RESPONSE: yeah . . . . . . . <---> TARGET: . . . hard ?\n",
      "[NeMo I 2020-11-05 04:03:42 <ipython-input-8-d6a2d1ea5b1b>:13] Train Loss:2.4314968585968018\n",
      "[NeMo I 2020-11-05 04:03:42 <ipython-input-8-d6a2d1ea5b1b>:14] SOURCE: next . could i see your documents please ? <---> PREDICTED RESPONSE: yeah . . . . . <---> TARGET: yes sir .\n",
      "[NeMo I 2020-11-05 04:03:42 <ipython-input-8-d6a2d1ea5b1b>:13] Train Loss:2.4367499351501465\n",
      "[NeMo I 2020-11-05 04:03:42 <ipython-input-8-d6a2d1ea5b1b>:14] SOURCE: i ve done my best have i not ? <---> PREDICTED RESPONSE: no . . . . . <---> TARGET: indeed .\n",
      "[NeMo I 2020-11-05 04:03:42 <ipython-input-8-d6a2d1ea5b1b>:13] Train Loss:2.474452018737793\n",
      "[NeMo I 2020-11-05 04:03:42 <ipython-input-8-d6a2d1ea5b1b>:14] SOURCE: can t you say hello to a fellow ? <---> PREDICTED RESPONSE: i m sorry . s on . times <---> TARGET: hildy !\n",
      "[NeMo I 2020-11-05 04:03:42 <ipython-input-8-d6a2d1ea5b1b>:13] Train Loss:2.4366273880004883\n",
      "[NeMo I 2020-11-05 04:03:42 <ipython-input-8-d6a2d1ea5b1b>:14] SOURCE: take your boots off . you re tan . <---> PREDICTED RESPONSE: yeah . . . . . . <---> TARGET: mexico .\n",
      "[NeMo I 2020-11-05 04:03:42 <ipython-input-8-d6a2d1ea5b1b>:13] Train Loss:2.512723684310913\n",
      "[NeMo I 2020-11-05 04:03:42 <ipython-input-8-d6a2d1ea5b1b>:14] SOURCE: fergus i think you don t trust me . <---> PREDICTED RESPONSE: what ? ? ? ? ? <---> TARGET: you may be right .\n",
      "[NeMo I 2020-11-05 04:03:42 <ipython-input-8-d6a2d1ea5b1b>:13] Train Loss:2.4212026596069336\n",
      "[NeMo I 2020-11-05 04:03:42 <ipython-input-8-d6a2d1ea5b1b>:14] SOURCE: are you sure this is the river road ? <---> PREDICTED RESPONSE: yeah . . . . . <---> TARGET: i saw the sign .\n",
      "[NeMo I 2020-11-05 04:03:42 <ipython-input-8-d6a2d1ea5b1b>:13] Train Loss:2.356290817260742\n",
      "[NeMo I 2020-11-05 04:03:42 <ipython-input-8-d6a2d1ea5b1b>:14] SOURCE: come on jake . that didn t hurt . <---> PREDICTED RESPONSE: how ? ? ? ? ? <---> TARGET: how do you know ?\n",
      "[NeMo I 2020-11-05 04:03:42 <ipython-input-8-d6a2d1ea5b1b>:13] Train Loss:2.4469239711761475\n",
      "[NeMo I 2020-11-05 04:03:42 <ipython-input-8-d6a2d1ea5b1b>:14] SOURCE: you want to sleep in my bed tonight ? <---> PREDICTED RESPONSE: i m sorry . s on . . <---> TARGET: okay .\n",
      "[NeMo I 2020-11-05 04:03:42 <ipython-input-8-d6a2d1ea5b1b>:13] Train Loss:2.523390769958496\n",
      "[NeMo I 2020-11-05 04:03:42 <ipython-input-8-d6a2d1ea5b1b>:14] SOURCE: tell me this ain t the bar scene . <---> PREDICTED RESPONSE: it s vichyssoise . ? ? ? <---> TARGET: wanna drink ?\n",
      "[NeMo I 2020-11-05 04:03:42 <ipython-input-8-d6a2d1ea5b1b>:13] Train Loss:2.3737688064575195\n",
      "[NeMo I 2020-11-05 04:03:42 <ipython-input-8-d6a2d1ea5b1b>:14] SOURCE: i m just stopping by to say hello . <---> PREDICTED RESPONSE: hello ? ? ? ? ? <---> TARGET: hello .\n",
      "[NeMo I 2020-11-05 04:03:42 <ipython-input-8-d6a2d1ea5b1b>:13] Train Loss:2.3768973350524902\n",
      "[NeMo I 2020-11-05 04:03:42 <ipython-input-8-d6a2d1ea5b1b>:14] SOURCE: poison gas . invisible . don t forget . <---> PREDICTED RESPONSE: i m sorry . s all . . <---> TARGET: i promise . is that all ?\n",
      "[NeMo I 2020-11-05 04:03:42 <ipython-input-8-d6a2d1ea5b1b>:13] Train Loss:2.395603656768799\n",
      "[NeMo I 2020-11-05 04:03:42 <ipython-input-8-d6a2d1ea5b1b>:14] SOURCE: don t you love my sexy body ? ! <---> PREDICTED RESPONSE: i m not sure i do . times . <---> TARGET: i do baby i do .\n",
      "[NeMo I 2020-11-05 04:03:42 <ipython-input-8-d6a2d1ea5b1b>:13] Train Loss:2.328885316848755\n",
      "[NeMo I 2020-11-05 04:03:42 <ipython-input-8-d6a2d1ea5b1b>:14] SOURCE: to begin with it could make things worse . <---> PREDICTED RESPONSE: what ? ? ? ? ? <---> TARGET: but how ?\n",
      "[NeMo I 2020-11-05 04:03:42 <ipython-input-8-d6a2d1ea5b1b>:13] Train Loss:2.5207724571228027\n",
      "[NeMo I 2020-11-05 04:03:42 <ipython-input-8-d6a2d1ea5b1b>:14] SOURCE: were you in it ? in the war ? <---> PREDICTED RESPONSE: no . s here . ? ? <---> TARGET: you never saw that picture huh ?\n",
      "[NeMo I 2020-11-05 04:03:42 <ipython-input-8-d6a2d1ea5b1b>:13] Train Loss:2.3211076259613037\n",
      "[NeMo I 2020-11-05 04:03:42 <ipython-input-8-d6a2d1ea5b1b>:14] SOURCE: i don t know . wherever you want . <---> PREDICTED RESPONSE: i m sorry . s on . time <---> TARGET: how about the point ?\n",
      "[NeMo I 2020-11-05 04:03:42 <ipython-input-8-d6a2d1ea5b1b>:13] Train Loss:2.4210166931152344\n",
      "[NeMo I 2020-11-05 04:03:42 <ipython-input-8-d6a2d1ea5b1b>:14] SOURCE: yeah . . . i know the routine . <---> PREDICTED RESPONSE: you re a good man . ? ? <---> TARGET: you are married ?\n",
      "[NeMo I 2020-11-05 04:03:42 <ipython-input-8-d6a2d1ea5b1b>:13] Train Loss:2.5682342052459717\n",
      "[NeMo I 2020-11-05 04:03:42 <ipython-input-8-d6a2d1ea5b1b>:14] SOURCE: to him ? he s a sick freak . <---> PREDICTED RESPONSE: he s gone . ? ? ? <---> TARGET: he s passionate .\n",
      "[NeMo I 2020-11-05 04:03:42 <ipython-input-8-d6a2d1ea5b1b>:13] Train Loss:2.4085006713867188\n",
      "[NeMo I 2020-11-05 04:03:42 <ipython-input-8-d6a2d1ea5b1b>:14] SOURCE: i moved the couch . that s all . <---> PREDICTED RESPONSE: what s that ? ? ? ? <---> TARGET: where to ?\n",
      "[NeMo I 2020-11-05 04:03:42 <ipython-input-8-d6a2d1ea5b1b>:13] Train Loss:2.383364200592041\n",
      "[NeMo I 2020-11-05 04:03:42 <ipython-input-8-d6a2d1ea5b1b>:14] SOURCE: how in the fuck do you know that ? <---> PREDICTED RESPONSE: i m fine . . . . <---> TARGET: do you want rath or not ?\n",
      "[NeMo I 2020-11-05 04:03:42 <ipython-input-8-d6a2d1ea5b1b>:13] Train Loss:2.452119827270508\n",
      "[NeMo I 2020-11-05 04:03:42 <ipython-input-8-d6a2d1ea5b1b>:14] SOURCE: if i was still alive i probably would . <---> PREDICTED RESPONSE: you re a good nervous . ? ? <---> TARGET: you look awful .\n",
      "[NeMo I 2020-11-05 04:03:42 <ipython-input-8-d6a2d1ea5b1b>:13] Train Loss:2.467770576477051\n",
      "[NeMo I 2020-11-05 04:03:42 <ipython-input-8-d6a2d1ea5b1b>:14] SOURCE: they can deal with this sort of thing . <---> PREDICTED RESPONSE: what ? ? ? ? ? <---> TARGET: more soldiers ?\n",
      "[NeMo I 2020-11-05 04:03:42 <ipython-input-8-d6a2d1ea5b1b>:13] Train Loss:2.421862840652466\n",
      "[NeMo I 2020-11-05 04:03:42 <ipython-input-8-d6a2d1ea5b1b>:14] SOURCE: a piece of ass wouldn t kill me . <---> PREDICTED RESPONSE: what ? ? ? ? ? <---> TARGET: when ya go back on ?\n",
      "[NeMo I 2020-11-05 04:03:42 <ipython-input-8-d6a2d1ea5b1b>:13] Train Loss:2.426107168197632\n",
      "[NeMo I 2020-11-05 04:03:42 <ipython-input-8-d6a2d1ea5b1b>:14] SOURCE: what you said to me in the room . <---> PREDICTED RESPONSE: what ? ? ? ? ? <---> TARGET: what did i say ?\n",
      "[NeMo I 2020-11-05 04:03:42 <ipython-input-8-d6a2d1ea5b1b>:13] Train Loss:2.2995197772979736\n",
      "[NeMo I 2020-11-05 04:03:42 <ipython-input-8-d6a2d1ea5b1b>:14] SOURCE: mom ? eve and i have to go . <---> PREDICTED RESPONSE: what ? ? ? ? ? <---> TARGET: what ?\n",
      "[NeMo I 2020-11-05 04:03:42 <ipython-input-8-d6a2d1ea5b1b>:13] Train Loss:2.3548779487609863\n",
      "[NeMo I 2020-11-05 04:03:42 <ipython-input-8-d6a2d1ea5b1b>:14] SOURCE: ah the staff meeting could have gone better . <---> PREDICTED RESPONSE: what ? ? ? ? ? <---> TARGET: let me guess russia came up ?\n",
      "[NeMo I 2020-11-05 04:03:42 <ipython-input-8-d6a2d1ea5b1b>:13] Train Loss:2.3181445598602295\n",
      "[NeMo I 2020-11-05 04:03:42 <ipython-input-8-d6a2d1ea5b1b>:14] SOURCE: you were looking for me weren t you ? <---> PREDICTED RESPONSE: no . . . . . <---> TARGET: no i was just maybe\n",
      "[NeMo I 2020-11-05 04:03:42 <ipython-input-8-d6a2d1ea5b1b>:13] Train Loss:2.364337205886841\n",
      "[NeMo I 2020-11-05 04:03:42 <ipython-input-8-d6a2d1ea5b1b>:14] SOURCE: you re mad at me aren t you ? <---> PREDICTED RESPONSE: no . . . . . <---> TARGET: what ?\n",
      "[NeMo I 2020-11-05 04:03:42 <ipython-input-8-d6a2d1ea5b1b>:13] Train Loss:2.3401474952697754\n",
      "[NeMo I 2020-11-05 04:03:42 <ipython-input-8-d6a2d1ea5b1b>:14] SOURCE: you don t have to tell me this . <---> PREDICTED RESPONSE: no . . . . . <---> TARGET: i m just talking man .\n",
      "[NeMo I 2020-11-05 04:03:42 <ipython-input-8-d6a2d1ea5b1b>:13] Train Loss:2.2771260738372803\n",
      "[NeMo I 2020-11-05 04:03:42 <ipython-input-8-d6a2d1ea5b1b>:14] SOURCE: he s the devil s child . . . <---> PREDICTED RESPONSE: he s dead . ? ? ? <---> TARGET: we ll all go crazy . . .\n",
      "[NeMo I 2020-11-05 04:03:42 <ipython-input-8-d6a2d1ea5b1b>:13] Train Loss:2.2333457469940186\n",
      "[NeMo I 2020-11-05 04:03:42 <ipython-input-8-d6a2d1ea5b1b>:14] SOURCE: how long have you been a hit man ? <---> PREDICTED RESPONSE: i don t know . . . <---> TARGET: why ?\n",
      "[NeMo I 2020-11-05 04:03:42 <ipython-input-8-d6a2d1ea5b1b>:13] Train Loss:2.4059219360351562\n",
      "[NeMo I 2020-11-05 04:03:42 <ipython-input-8-d6a2d1ea5b1b>:14] SOURCE: tell ashley . . . i . . . <---> PREDICTED RESPONSE: you re a good man . night . <---> TARGET: you tell her !\n",
      "[NeMo I 2020-11-05 04:03:42 <ipython-input-8-d6a2d1ea5b1b>:13] Train Loss:2.3146121501922607\n",
      "[NeMo I 2020-11-05 04:03:42 <ipython-input-8-d6a2d1ea5b1b>:14] SOURCE: it s lonely in there in my room . <---> PREDICTED RESPONSE: what ? ? ? ? ? <---> TARGET: my name is . . .\n",
      "[NeMo I 2020-11-05 04:03:42 <ipython-input-8-d6a2d1ea5b1b>:13] Train Loss:2.370406150817871\n",
      "[NeMo I 2020-11-05 04:03:42 <ipython-input-8-d6a2d1ea5b1b>:14] SOURCE: you re thinking of sleeping with mark tonight ? <---> PREDICTED RESPONSE: no . s here . ? ? <---> TARGET: unless he makes a move during seventh period .\n",
      "[NeMo I 2020-11-05 04:03:42 <ipython-input-8-d6a2d1ea5b1b>:13] Train Loss:2.3322386741638184\n",
      "[NeMo I 2020-11-05 04:03:42 <ipython-input-8-d6a2d1ea5b1b>:14] SOURCE: uh listen willie i got a better idea . <---> PREDICTED RESPONSE: what ? ? ? ? ? <---> TARGET: what ? !\n",
      "[NeMo I 2020-11-05 04:03:42 <ipython-input-8-d6a2d1ea5b1b>:13] Train Loss:2.188214063644409\n",
      "[NeMo I 2020-11-05 04:03:42 <ipython-input-8-d6a2d1ea5b1b>:14] SOURCE: i wouldn t talk about things like that . <---> PREDICTED RESPONSE: i m not sure . . . <---> TARGET: they never caught on .\n",
      "[NeMo I 2020-11-05 04:03:42 <ipython-input-8-d6a2d1ea5b1b>:13] Train Loss:2.2415285110473633\n",
      "[NeMo I 2020-11-05 04:03:42 <ipython-input-8-d6a2d1ea5b1b>:14] SOURCE: all right commander you wanna tell us anything ? <---> PREDICTED RESPONSE: poppy ? for me ? ? ? <---> TARGET: like what ?\n",
      "[NeMo I 2020-11-05 04:03:42 <ipython-input-8-d6a2d1ea5b1b>:13] Train Loss:2.3106753826141357\n",
      "[NeMo I 2020-11-05 04:03:42 <ipython-input-8-d6a2d1ea5b1b>:14] SOURCE: i m saying they came into my yard . <---> PREDICTED RESPONSE: you re not going to jail . times . <---> TARGET: you punishing him ain t you ?\n",
      "[NeMo I 2020-11-05 04:03:42 <ipython-input-8-d6a2d1ea5b1b>:13] Train Loss:2.202975034713745\n",
      "[NeMo I 2020-11-05 04:03:42 <ipython-input-8-d6a2d1ea5b1b>:14] SOURCE: would you like a beer for your bath ? <---> PREDICTED RESPONSE: no . . . . . <---> TARGET: yes that d be nice .\n",
      "[NeMo I 2020-11-05 04:03:42 <ipython-input-8-d6a2d1ea5b1b>:13] Train Loss:2.299457311630249\n",
      "[NeMo I 2020-11-05 04:03:42 <ipython-input-8-d6a2d1ea5b1b>:14] SOURCE: i need you to do me a favor . <---> PREDICTED RESPONSE: what ? ? ? ? ? <---> TARGET: god you look like crap george .\n",
      "[NeMo I 2020-11-05 04:03:42 <ipython-input-8-d6a2d1ea5b1b>:13] Train Loss:2.2117910385131836\n",
      "[NeMo I 2020-11-05 04:03:42 <ipython-input-8-d6a2d1ea5b1b>:14] SOURCE: no i don t want to be rude . <---> PREDICTED RESPONSE: well then you re not going to jail . <---> TARGET: well then sit down .\n",
      "[NeMo I 2020-11-05 04:03:42 <ipython-input-8-d6a2d1ea5b1b>:13] Train Loss:2.2630603313446045\n",
      "[NeMo I 2020-11-05 04:03:42 <ipython-input-8-d6a2d1ea5b1b>:14] SOURCE: no sir i don t believe i do . <---> PREDICTED RESPONSE: i m sorry . s not . . <---> TARGET: oh . i have a message for him .\n",
      "[NeMo I 2020-11-05 04:03:42 <ipython-input-8-d6a2d1ea5b1b>:13] Train Loss:2.310450553894043\n",
      "[NeMo I 2020-11-05 04:03:42 <ipython-input-8-d6a2d1ea5b1b>:14] SOURCE: oh well . must have been your brother . <---> PREDICTED RESPONSE: what s that ? ? ? ? <---> TARGET: out !\n",
      "[NeMo I 2020-11-05 04:03:42 <ipython-input-8-d6a2d1ea5b1b>:13] Train Loss:2.1221721172332764\n",
      "[NeMo I 2020-11-05 04:03:42 <ipython-input-8-d6a2d1ea5b1b>:14] SOURCE: it s true . i wouldn t lie . <---> PREDICTED RESPONSE: you re a good team . ? ? <---> TARGET: you are sweet .\n",
      "[NeMo I 2020-11-05 04:03:42 <ipython-input-8-d6a2d1ea5b1b>:13] Train Loss:2.179137945175171\n",
      "[NeMo I 2020-11-05 04:03:42 <ipython-input-8-d6a2d1ea5b1b>:14] SOURCE: you know something jack you really are hopeless . <---> PREDICTED RESPONSE: what ? ? ? ? ? <---> TARGET: that s the way i see it too .\n",
      "[NeMo I 2020-11-05 04:03:42 <ipython-input-8-d6a2d1ea5b1b>:13] Train Loss:2.1706652641296387\n",
      "[NeMo I 2020-11-05 04:03:42 <ipython-input-8-d6a2d1ea5b1b>:14] SOURCE: no i got it . it s okay . <---> PREDICTED RESPONSE: you re not going to jail . times . <---> TARGET: what happened ?\n",
      "[NeMo I 2020-11-05 04:03:42 <ipython-input-8-d6a2d1ea5b1b>:13] Train Loss:2.2180287837982178\n",
      "[NeMo I 2020-11-05 04:03:42 <ipython-input-8-d6a2d1ea5b1b>:14] SOURCE: the silver screen s loss is your gain . <---> PREDICTED RESPONSE: what ? ? ? ? ? <---> TARGET: how about white ?\n",
      "[NeMo I 2020-11-05 04:03:42 <ipython-input-8-d6a2d1ea5b1b>:13] Train Loss:2.1796751022338867\n",
      "[NeMo I 2020-11-05 04:03:42 <ipython-input-8-d6a2d1ea5b1b>:14] SOURCE: jeff again . has tom come in yet ? <---> PREDICTED RESPONSE: i m sorry . s over . times <---> TARGET: not yet jeff .\n",
      "[NeMo I 2020-11-05 04:03:42 <ipython-input-8-d6a2d1ea5b1b>:13] Train Loss:2.219255208969116\n",
      "[NeMo I 2020-11-05 04:03:42 <ipython-input-8-d6a2d1ea5b1b>:14] SOURCE: oh man that kid takes himself real serious . <---> PREDICTED RESPONSE: yeah ? ? ? ? ? <---> TARGET: yeah you still with northland ?\n",
      "[NeMo I 2020-11-05 04:03:42 <ipython-input-8-d6a2d1ea5b1b>:13] Train Loss:2.216075897216797\n",
      "[NeMo I 2020-11-05 04:03:42 <ipython-input-8-d6a2d1ea5b1b>:14] SOURCE: ma am you have to open the door . <---> PREDICTED RESPONSE: what ? ? ? ? ? <---> TARGET: all right .\n",
      "[NeMo I 2020-11-05 04:03:42 <ipython-input-8-d6a2d1ea5b1b>:13] Train Loss:2.181488275527954\n",
      "[NeMo I 2020-11-05 04:03:42 <ipython-input-8-d6a2d1ea5b1b>:14] SOURCE: what do they have to do with this ? <---> PREDICTED RESPONSE: i don t know . . . <---> TARGET: that s who they are .\n",
      "[NeMo I 2020-11-05 04:03:42 <ipython-input-8-d6a2d1ea5b1b>:13] Train Loss:2.102515697479248\n",
      "[NeMo I 2020-11-05 04:03:42 <ipython-input-8-d6a2d1ea5b1b>:14] SOURCE: oh no . . .did you say rio ? <---> PREDICTED RESPONSE: no . times . times . times <---> TARGET: no . yes ?\n",
      "[NeMo I 2020-11-05 04:03:42 <ipython-input-8-d6a2d1ea5b1b>:13] Train Loss:2.1822476387023926\n",
      "[NeMo I 2020-11-05 04:03:42 <ipython-input-8-d6a2d1ea5b1b>:14] SOURCE: you know what i m going to be ? <---> PREDICTED RESPONSE: no . . . . . <---> TARGET: a cowboy .\n",
      "[NeMo I 2020-11-05 04:03:42 <ipython-input-8-d6a2d1ea5b1b>:13] Train Loss:2.0998215675354004\n",
      "[NeMo I 2020-11-05 04:03:42 <ipython-input-8-d6a2d1ea5b1b>:14] SOURCE: listen i don t even know your name . <---> PREDICTED RESPONSE: who s the problem ? ? ? <---> TARGET: rath . robert rath .\n",
      "[NeMo I 2020-11-05 04:03:42 <ipython-input-8-d6a2d1ea5b1b>:13] Train Loss:2.145949363708496\n",
      "[NeMo I 2020-11-05 04:03:42 <ipython-input-8-d6a2d1ea5b1b>:14] SOURCE: that means you won t have a gun . <---> PREDICTED RESPONSE: i don t know . . . <---> TARGET: that s right .\n",
      "[NeMo I 2020-11-05 04:03:42 <ipython-input-8-d6a2d1ea5b1b>:13] Train Loss:2.075104236602783\n",
      "[NeMo I 2020-11-05 04:03:42 <ipython-input-8-d6a2d1ea5b1b>:14] SOURCE: but john was with him at the pool ? <---> PREDICTED RESPONSE: no . times . times . times <---> TARGET: yes .\n",
      "[NeMo I 2020-11-05 04:03:42 <ipython-input-8-d6a2d1ea5b1b>:13] Train Loss:2.200327157974243\n",
      "[NeMo I 2020-11-05 04:03:42 <ipython-input-8-d6a2d1ea5b1b>:14] SOURCE: that was nothing . that wasn t anything . <---> PREDICTED RESPONSE: what s that ? ? ? ? <---> TARGET: but\n",
      "[NeMo I 2020-11-05 04:03:42 <ipython-input-8-d6a2d1ea5b1b>:13] Train Loss:2.1563732624053955\n",
      "[NeMo I 2020-11-05 04:03:42 <ipython-input-8-d6a2d1ea5b1b>:14] SOURCE: i m so close i can feel it . <---> PREDICTED RESPONSE: you re a good team . ? ? <---> TARGET: me too . i m almost there .\n",
      "[NeMo I 2020-11-05 04:03:42 <ipython-input-8-d6a2d1ea5b1b>:13] Train Loss:2.1240956783294678\n",
      "[NeMo I 2020-11-05 04:03:42 <ipython-input-8-d6a2d1ea5b1b>:14] SOURCE: and i m sorry who are you again ? <---> PREDICTED RESPONSE: i m not going to juarez . times . <---> TARGET: frieda s boss .\n",
      "[NeMo I 2020-11-05 04:03:42 <ipython-input-8-d6a2d1ea5b1b>:13] Train Loss:2.1018354892730713\n",
      "[NeMo I 2020-11-05 04:03:42 <ipython-input-8-d6a2d1ea5b1b>:14] SOURCE: if you loved me like i loved you ? <---> PREDICTED RESPONSE: poppy ? ? ? ? ? <---> TARGET: poppy this is not the time !\n",
      "[NeMo I 2020-11-05 04:03:42 <ipython-input-8-d6a2d1ea5b1b>:13] Train Loss:2.0687832832336426\n",
      "[NeMo I 2020-11-05 04:03:42 <ipython-input-8-d6a2d1ea5b1b>:14] SOURCE: i don t have any answers for you . <---> PREDICTED RESPONSE: you re not going to turley ? ? <---> TARGET: who was that man last night ?\n",
      "[NeMo I 2020-11-05 04:03:42 <ipython-input-8-d6a2d1ea5b1b>:13] Train Loss:2.191957950592041\n",
      "[NeMo I 2020-11-05 04:03:42 <ipython-input-8-d6a2d1ea5b1b>:14] SOURCE: take your boots off . you re tan . <---> PREDICTED RESPONSE: yeah . . . . . . <---> TARGET: mexico .\n",
      "[NeMo I 2020-11-05 04:03:42 <ipython-input-8-d6a2d1ea5b1b>:13] Train Loss:1.9920024871826172\n",
      "[NeMo I 2020-11-05 04:03:42 <ipython-input-8-d6a2d1ea5b1b>:14] SOURCE: what d you put him in there for ? <---> PREDICTED RESPONSE: i don t know . . . <---> TARGET: just to keep him out of the sun .\n",
      "[NeMo I 2020-11-05 04:03:42 <ipython-input-8-d6a2d1ea5b1b>:13] Train Loss:2.21549916267395\n",
      "[NeMo I 2020-11-05 04:03:42 <ipython-input-8-d6a2d1ea5b1b>:14] SOURCE: thank you . thank you sir . . . <---> PREDICTED RESPONSE: what s the problem ? ? ? <---> TARGET: let go of me ! !\n",
      "[NeMo I 2020-11-05 04:03:42 <ipython-input-8-d6a2d1ea5b1b>:13] Train Loss:2.2108263969421387\n",
      "[NeMo I 2020-11-05 04:03:42 <ipython-input-8-d6a2d1ea5b1b>:14] SOURCE: i don t want to hurt my daddy . <---> PREDICTED RESPONSE: you re not going to turley ? ! <---> TARGET: robin listen to me .\n",
      "[NeMo I 2020-11-05 04:03:42 <ipython-input-8-d6a2d1ea5b1b>:13] Train Loss:2.224256753921509\n",
      "[NeMo I 2020-11-05 04:03:42 <ipython-input-8-d6a2d1ea5b1b>:14] SOURCE: best get down close to the moat lad . <---> PREDICTED RESPONSE: oh . s dead . ? ? <---> TARGET: aye . we re good as inside .\n",
      "[NeMo I 2020-11-05 04:03:42 <ipython-input-8-d6a2d1ea5b1b>:13] Train Loss:2.256629228591919\n",
      "[NeMo I 2020-11-05 04:03:42 <ipython-input-8-d6a2d1ea5b1b>:14] SOURCE: great . thanks . you gonna have one ? <---> PREDICTED RESPONSE: yeah . . . . . <---> TARGET: i m trying to quit .\n",
      "[NeMo I 2020-11-05 04:03:42 <ipython-input-8-d6a2d1ea5b1b>:13] Train Loss:2.41426157951355\n",
      "[NeMo I 2020-11-05 04:03:42 <ipython-input-8-d6a2d1ea5b1b>:14] SOURCE: how do you become something you re not ? <---> PREDICTED RESPONSE: i m fine . . . . <---> TARGET: what would you like to be ?\n",
      "[NeMo I 2020-11-05 04:03:42 <ipython-input-8-d6a2d1ea5b1b>:13] Train Loss:2.178264856338501\n",
      "[NeMo I 2020-11-05 04:03:42 <ipython-input-8-d6a2d1ea5b1b>:14] SOURCE: well either you are or you aren t . <---> PREDICTED RESPONSE: i m sorry . . . . ? <---> TARGET: right .\n",
      "[NeMo I 2020-11-05 04:03:42 <ipython-input-8-d6a2d1ea5b1b>:13] Train Loss:2.407151222229004\n",
      "[NeMo I 2020-11-05 04:03:42 <ipython-input-8-d6a2d1ea5b1b>:14] SOURCE: waiting i m waiting for news from manchester . <---> PREDICTED RESPONSE: you re a bit nervous . times . <---> TARGET: no news yet ?\n",
      "[NeMo I 2020-11-05 04:03:42 <ipython-input-8-d6a2d1ea5b1b>:13] Train Loss:2.4005892276763916\n",
      "[NeMo I 2020-11-05 04:03:42 <ipython-input-8-d6a2d1ea5b1b>:14] SOURCE: face it boyfriend . this is really happening . <---> PREDICTED RESPONSE: it s not a fucking fucking fucking radio ! <---> TARGET: no it isn t ! you re dead !\n",
      "[NeMo I 2020-11-05 04:03:42 <ipython-input-8-d6a2d1ea5b1b>:13] Train Loss:2.5208187103271484\n",
      "[NeMo I 2020-11-05 04:03:42 <ipython-input-8-d6a2d1ea5b1b>:14] SOURCE: never pissed holding a girl s hand jude . <---> PREDICTED RESPONSE: you re a good team . ? ? <---> TARGET: you didn t ?\n"
     ]
    }
   ],
   "source": [
    "for batch in range(len(result['rnn_train.inference@torch_tensor'][0])):\n",
    "    outputs2words([i[batch] for i in result['rnn_train.inference@torch_tensor']], result['rnn_train.eval_data@out_nm'].voc.index2word)"
   ]
  },
  {
   "cell_type": "markdown",
   "metadata": {},
   "source": [
    "## Chatbot model Hypyparameter Tuning\n",
    "\n",
    "If you haven't followed the `09_gquant_machine_hpo` notebook, it is recommended to go back and check it. It explains in detail how to use gQuant to perform hyperparameter tuning. We will use it to tune the hyperparameters for the chatbot model.\n",
    "\n",
    "Since the context composite node exposes the `number of layers` and `drop-out rate` as context parameters, the `hpo` `Nemo Hyper Tune Node` will do a grid search of the `number of layers` parameter and random uniform search on the `drop-out` parameter. The eval loss will be used as the hyperparameter tuning metric. \n",
    "\n",
    "In the following example, we will perform `1` sample hyperparameter tuning. Click on the `run` button to see the hyperparameter tuning in action."
   ]
  },
  {
   "cell_type": "code",
   "execution_count": 10,
   "metadata": {},
   "outputs": [
    {
     "data": {
      "application/vnd.jupyter.widget-view+json": {
       "model_id": "357d14b76d7b4bffabc17e591dc7af5c",
       "version_major": 2,
       "version_minor": 0
      },
      "text/plain": [
       "GQuantWidget(sub=HBox(), value=[OrderedDict([('id', 'rnn_train'), ('type', 'ContextCompositeNode'), ('conf', {…"
      ]
     },
     "metadata": {},
     "output_type": "display_data"
    }
   ],
   "source": [
    "taskGraph=TaskGraph.load_taskgraph('../taskgraphs/nemo_examples/chatbot_hpo.gq.yaml')\n",
    "taskGraph.draw()"
   ]
  },
  {
   "cell_type": "markdown",
   "metadata": {},
   "source": [
    "It is satisfying to see all the GPUs in the host node are busy searching for different hyperparameters. The best set of hyperparameters are reported in the end. It can also be fed back to other context composite node to use. \n",
    "\n",
    "Since we are dealing with deep learning model training, the model is trained in a batched fashion. It is sometimes wasteful to run the training to end to get a metric. Luckily, the `Ray Tune` library provides a few scheduler algorithms that can perform the early stop in the optimization process. The `Nemo Hyper Tune Node` integrates a few scheduler algorithms from the `Ray Tune` lib that are ready to be used. \n",
    "\n",
    "In the following example, we will use [ASHA](https://docs.ray.io/en/latest/tune/api_docs/schedulers.html#tune-scheduler-hyperband), a scalable algorithm for [principled early stopping](https://blog.ml.cmu.edu/2018/12/12/massively-parallel-hyperparameter-optimization/). On a high level, ASHA terminates trials that are less promising and allocates more time and resources to more promising trials. As our optimization process becomes more efficient, we can afford to increase the search space by 5x, by adjusting the parameter `num_samples`. In the following example, we use `10` as `num_samples`.\n",
    "\n",
    "Click on the `run` button to see the large scale hyperparameter search in action."
   ]
  },
  {
   "cell_type": "code",
   "execution_count": 11,
   "metadata": {
    "collapsed": true,
    "jupyter": {
     "outputs_hidden": true
    }
   },
   "outputs": [
    {
     "data": {
      "application/vnd.jupyter.widget-view+json": {
       "model_id": "8a7f8821561c49138578538642158ebb",
       "version_major": 2,
       "version_minor": 0
      },
      "text/plain": [
       "GQuantWidget(sub=HBox(), value=[OrderedDict([('id', 'rnn_train'), ('type', 'ContextCompositeNode'), ('conf', {…"
      ]
     },
     "metadata": {},
     "output_type": "display_data"
    }
   ],
   "source": [
    "taskGraph=TaskGraph.load_taskgraph('../taskgraphs/nemo_examples/chatbot_large_hpo_search.gq.yaml')\n",
    "taskGraph.draw()"
   ]
  },
  {
   "cell_type": "markdown",
   "metadata": {},
   "source": [
    "Checking the dynamically updated logs, you can see there are `20` search trails running in total because of the `10` samples and `2` types of grid search. Most of the trials are terminated early at `1` iteration. Only a few are running untill the end. \n",
    "\n",
    "After tuning is done, the best hyperparameter set is used to train the model again and run the inference. It should give a better model performance."
   ]
  },
  {
   "cell_type": "markdown",
   "metadata": {},
   "source": [
    "## Clean up"
   ]
  },
  {
   "cell_type": "code",
   "execution_count": 12,
   "metadata": {},
   "outputs": [
    {
     "data": {
      "text/plain": [
       "{'status': 'ok', 'restart': True}"
      ]
     },
     "execution_count": 12,
     "metadata": {},
     "output_type": "execute_result"
    }
   ],
   "source": [
    "import IPython\n",
    "app = IPython.Application.instance()\n",
    "app.kernel.do_shutdown(True)"
   ]
  },
  {
   "cell_type": "code",
   "execution_count": null,
   "metadata": {},
   "outputs": [],
   "source": []
  }
 ],
 "metadata": {
  "kernelspec": {
   "display_name": "Python 3",
   "language": "python",
   "name": "python3"
  },
  "language_info": {
   "codemirror_mode": {
    "name": "ipython",
    "version": 3
   },
   "file_extension": ".py",
   "mimetype": "text/x-python",
   "name": "python",
   "nbconvert_exporter": "python",
   "pygments_lexer": "ipython3",
   "version": "3.7.7"
  }
 },
 "nbformat": 4,
 "nbformat_minor": 4
}
