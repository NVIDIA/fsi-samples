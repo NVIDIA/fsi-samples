{
 "cells": [
  {
   "cell_type": "markdown",
   "metadata": {
    "slideshow": {
     "slide_type": "slide"
    }
   },
   "source": [
    "# gQuant NeMo Chatbot Example\n",
    "\n",
    "In the previous example notebooks, we use gQuant to perform ETL, backtesting, machine learning, hyperparameter tuning tasks. As we  see, gQuant can be extended easily for other types of workflow accelerations as long as the computation can be organized as graph computations. \n",
    "\n",
    "[NeMo](https://github.com/NVIDIA/NeMo) is a toolkit for creating Conversational AI applications. Most importantly, NeMo abstracts the neural network into neural modules with input and output ports similar to gQuant nodes. So the neural network computation is organized as a computation graph made of neural modules. Because of the similarity between gQuant node and neural modules, the neural module can be easily wrapped up into a gQuant node. NeMo is integrated into the gQuant so the neural modules can be wired, trained, inferred visually with the help of gQuant UI. \n",
    "\n",
    "In this tutorial, we will show how to use gQuant to train an RNN model for chatbot applications. \n",
    "\n",
    "## NeMo gQuant integration\n",
    "\n",
    "Convert the NeMo neural module to gQuant node is easy. gQuant provides a base NeMo node that can be used for inheritance for neural modules. The child class just need to pass in the class name of the Neural Module in the constructor. Here is one example that converts the EncoderRNN Neural Module to gQuant node.\n",
    "\n",
    "```python\n",
    "from gquant.plugin_nodes.nemo_util.nemoBaseNode import NeMoBase\n",
    "import nemo\n",
    "import nemo.backends.pytorch.tutorials\n",
    "\n",
    "class EncoderRNNNode(NeMoBase):\n",
    "    def init(self):\n",
    "        super().init(nemo.backends.pytorch.tutorials.chatbot.modules.EncoderRNN)\n",
    "```\n",
    "\n",
    "`NeMoBase` inspects the `EncoderRNN` constructor signature and converts it as node configuration JSON schema. It automatically infers the types for each of the parameters.  If the auto type inference has an error, it can be fixed by modifying the `self.fix_type` dictionary in the constructor. The keys of the dictionary are the parameter names while the values are the type strings.\n",
    "\n",
    "In the `util` directory, we provide a script `auto_gen.py` that automatically converts the NeMo Neural Modules into gQuant nodes. Currently, it converts 90% of the Neural Modules. The converted Python files are exported to the `modules` directory. gQuant by design can load any externally defined nodes by defining the node modules in the `gquantrc` file.  Here is an example `gquantrc` file that loads the converted NeMo neural module files:\n",
    "\n",
    "```ini\n",
    "nemo.asr= %(MODULEPATH)s/asr.py\n",
    "nemo.common= %(MODULEPATH)s/common.py\n",
    "nemo.cv= %(MODULEPATH)s/cv.py\n",
    "nemo.nlp= %(MODULEPATH)s/nlp.py\n",
    "nemo.simple_gan= %(MODULEPATH)s/simple_gan.py\n",
    "nemo.tts= %(MODULEPATH)s/tts.py\n",
    "nemo.tutorials= %(MODULEPATH)s/tutorials.py\n",
    "```\n",
    "Note, gQuant can automatically interpret the `.` in the module names to form hierarchical menus.\n",
    "\n",
    "\n",
    "## Data Preparation\n",
    "\n",
    "Let's first prepare the chatbot dataset that will be used to train an RNN model."
   ]
  },
  {
   "cell_type": "code",
   "execution_count": 2,
   "metadata": {},
   "outputs": [],
   "source": [
    "import gzip\n",
    "import os\n",
    "import shutil\n",
    "data_file = \"movie_data.txt\"\n",
    "# Download the data file.\n",
    "if not os.path.isfile(data_file):\n",
    "    with gzip.open(\"../../NeMo/tests/data/movie_lines.txt.gz\", 'rb') as f_in:\n",
    "        with open(data_file, 'wb') as f_out:\n",
    "            shutil.copyfileobj(f_in, f_out)\n"
   ]
  },
  {
   "cell_type": "markdown",
   "metadata": {},
   "source": [
    "Let's load the necessary NeMo module and gQuant module, and setup the Neural Module Factory environment. "
   ]
  },
  {
   "cell_type": "code",
   "execution_count": 1,
   "metadata": {},
   "outputs": [],
   "source": [
    "# start the neural module factory\n",
    "import nemo\n",
    "nemo.core.NeuralModuleFactory()\n",
    "import json\n",
    "from gquant.dataframe_flow import TaskGraph"
   ]
  },
  {
   "cell_type": "markdown",
   "metadata": {},
   "source": [
    "Later we will use Ray Tune for hyperparameter tuning. Let's setup the ray environment so we can utilize all the GPUs in the host node for hyperparameter search."
   ]
  },
  {
   "cell_type": "code",
   "execution_count": 2,
   "metadata": {},
   "outputs": [
    {
     "name": "stderr",
     "output_type": "stream",
     "text": [
      "2020-09-16 14:06:25,061\tINFO resource_spec.py:231 -- Starting Ray with 52.88 GiB memory available for workers and up to 26.45 GiB for objects. You can adjust these settings with ray.init(memory=<bytes>, object_store_memory=<bytes>).\n",
      "2020-09-16 14:06:25,740\tINFO services.py:1193 -- View the Ray dashboard at \u001b[1m\u001b[32m172.17.0.2:8266\u001b[39m\u001b[22m\n",
      "2020-09-16 14:06:25,745\tWARNING services.py:1567 -- WARNING: The object store is using /tmp instead of /dev/shm because /dev/shm has only 67096576 bytes available. This may slow down performance! You may be able to free up space by deleting files in /dev/shm or terminating any running plasma_store_server processes. If you are inside a Docker container, you may need to pass an argument with the flag '--shm-size' to 'docker run'.\n",
      "2020-09-16 14:06:25,761\tWARNING services.py:1567 -- WARNING: The object store is using /tmp instead of /dev/shm because /dev/shm has only 67096576 bytes available. This may slow down performance! You may be able to free up space by deleting files in /dev/shm or terminating any running plasma_store_server processes. If you are inside a Docker container, you may need to pass an argument with the flag '--shm-size' to 'docker run'.\n"
     ]
    },
    {
     "data": {
      "text/plain": [
       "{'node_ip_address': '172.17.0.2',\n",
       " 'raylet_ip_address': '172.17.0.2',\n",
       " 'redis_address': '172.17.0.2:10963',\n",
       " 'object_store_address': '/tmp/ray/session_2020-09-16_14-06-25_060871_1598/sockets/plasma_store',\n",
       " 'raylet_socket_name': '/tmp/ray/session_2020-09-16_14-06-25_060871_1598/sockets/raylet',\n",
       " 'webui_url': '172.17.0.2:8266',\n",
       " 'session_dir': '/tmp/ray/session_2020-09-16_14-06-25_060871_1598'}"
      ]
     },
     "execution_count": 2,
     "metadata": {},
     "output_type": "execute_result"
    }
   ],
   "source": [
    "import ray\n",
    "ray.init(dashboard_host='0.0.0.0')"
   ]
  },
  {
   "cell_type": "markdown",
   "metadata": {},
   "source": [
    "## Chatbot Model\n",
    "\n",
    "The chat bot model is taken from the NeMo tutorial example. It consists of a Data layer, a RNN encoder, RNN decoder for Cross Entropy loss and Greedy RNN decoder for text inference. Load the TaskGraph into gQuant:"
   ]
  },
  {
   "cell_type": "code",
   "execution_count": 3,
   "metadata": {
    "slideshow": {
     "slide_type": "slide"
    }
   },
   "outputs": [
    {
     "data": {
      "application/vnd.jupyter.widget-view+json": {
       "model_id": "e4a3505e3e1a407c8fd60bfe43006bee",
       "version_major": 2,
       "version_minor": 0
      },
      "text/plain": [
       "GQuantWidget(sub=HBox(), value=[OrderedDict([('id', 'data'), ('type', 'DialogDataLayerNode'), ('conf', {'batch…"
      ]
     },
     "metadata": {},
     "output_type": "display_data"
    }
   ],
   "source": [
    "taskGraph=TaskGraph.load_taskgraph('../taskgraphs/nemo_examples/chatbot_example.gq.yaml')\n",
    "taskGraph.draw()"
   ]
  },
  {
   "cell_type": "markdown",
   "metadata": {},
   "source": [
    "You may notice that each trainable neural module has an `in_nm` input port that takes a neural module as input. This input port is mainly used for sharing weights between neural modules. The gQuant Neural Module wrapper supports all 3 weight sharing mechanisms mentioned in the [NeMo documents](https://docs.nvidia.com/deeplearning/nemo/user-guide/docs/en/v0.11.0/tutorials/weightsharing.html): Module Reuse, Weight Copying, and Weight Tying. Click on the trainable neural module node above, you will see that the weight sharing method can be configured easily in a dropdown list. In the above example, the encoder and decoder modules for thes evaluation dataset reuse the encoder and decoder modules for training. The greedy decoder shares the weights with the decoder by tying the weights. \n",
    "\n",
    "All the neural modules have an `out_nm` port that outputs the neural module instance itself for other nodes to consume. For example, it can be used for weight sharing. Or, it can be used to extract other important information from the neural module. Later in the inference stage, we use the outputted data layer neural module to extract the text dictionary information. \n",
    "\n",
    "There are two special nodes in the above graph: `NeMo Train Node` and `NeMo Infer Node`. As the name indicates, they are used for training and inference for a NeMo module graph. Both nodes can connect to any number of `NmTensors` which are the outputs from the Neural Modules. In the `NeMo Train Node`, the user can specify the `NmTensor` for training loss, and a list of `NmTensors` for logging. Users can select the optimization method from a list of pre-defined optimization methods. Users can also select the `WarmUp Policy` from a list of pre-defined policies. Other configurations like the checkpoints and training epochs can be configured in a similar way. The output port of the `NeMo Train Node` is the directory for the checkpoint files. In the above example, it is used by `NeMo Infer Node` to load the checkpoint files, and run inference. \n",
    "\n",
    "Click on the `run` button to see the training and inference of this chatbot model are in action. It will train 3 epochs by default. If better accuracy is needed, try to increase the number of epochs in the `NeMo Train Node` and run it again.\n",
    "\n",
    "The chatbot graph is a little complicated. We can wrap the whole computation graph into a `Context Composite Node` as explained in the `08_gquant_machine_learning` notebook. The number of layers for encoders and decoders and the drop out rate parameters are exposed as context parameters for this context composite node. We will tune these two parameters later. \n",
    "\n",
    "Load this simplified graph:"
   ]
  },
  {
   "cell_type": "code",
   "execution_count": 4,
   "metadata": {
    "slideshow": {
     "slide_type": "slide"
    }
   },
   "outputs": [
    {
     "data": {
      "application/vnd.jupyter.widget-view+json": {
       "model_id": "447c4f99946e41e09195cef251824150",
       "version_major": 2,
       "version_minor": 0
      },
      "text/plain": [
       "GQuantWidget(sub=HBox(), value=[OrderedDict([('id', 'rnn_train'), ('type', 'ContextCompositeNode'), ('conf', {…"
      ]
     },
     "metadata": {},
     "output_type": "display_data"
    }
   ],
   "source": [
    "taskGraph=TaskGraph.load_taskgraph('../taskgraphs/nemo_examples/chatbot_simplified.gq.yaml')\n",
    "taskGraph.draw()"
   ]
  },
  {
   "cell_type": "markdown",
   "metadata": {},
   "source": [
    "The context composite node output the evaluation results from the inference node and the evaluation data layer neural module for extracting the text dictionary. It produces the same result as the previous complicated graph. The graph can be run in a programmatically way. Let's verify the result by the following command: "
   ]
  },
  {
   "cell_type": "code",
   "execution_count": 5,
   "metadata": {},
   "outputs": [
    {
     "name": "stdout",
     "output_type": "stream",
     "text": [
      "[NeMo I 2020-09-02 01:03:17 data:132] Start preparing training data ...\n",
      "[NeMo I 2020-09-02 01:03:17 data:102] Reading lines...\n",
      "[NeMo I 2020-09-02 01:03:28 data:134] Read 150000 sentence pairs\n",
      "[NeMo I 2020-09-02 01:03:28 data:136] Trimmed to 43840 sentence pairs\n",
      "[NeMo I 2020-09-02 01:03:28 data:137] Counting words...\n",
      "[NeMo I 2020-09-02 01:03:29 data:141] Bad message (TypeError('not all arguments converted during string formatting')): {'name': 'nemo_logger', 'msg': 'Counted words:', 'args': (14455,), 'levelname': 'INFO', 'levelno': 20, 'pathname': '/home/quant/NeMo/nemo/backends/pytorch/tutorials/chatbot/data.py', 'filename': 'data.py', 'module': 'data', 'exc_info': None, 'exc_text': None, 'stack_info': None, 'lineno': 141, 'funcName': 'loadPrepareData', 'created': 1599008609.1354413, 'msecs': 135.44130325317383, 'relativeCreated': 25298.787832260132, 'thread': 140660277356352, 'threadName': 'MainThread', 'processName': 'MainProcess', 'process': 18661}\n",
      "[NeMo I 2020-09-02 01:03:29 data:58] keep_words 6104 / 14452 = 0.4224\n",
      "[NeMo I 2020-09-02 01:03:29 data:132] Start preparing training data ...\n",
      "[NeMo I 2020-09-02 01:03:29 data:102] Reading lines...\n",
      "[NeMo I 2020-09-02 01:03:41 data:134] Read 150000 sentence pairs\n",
      "[NeMo I 2020-09-02 01:03:41 data:136] Trimmed to 43840 sentence pairs\n",
      "[NeMo I 2020-09-02 01:03:41 data:137] Counting words...\n",
      "[NeMo I 2020-09-02 01:03:42 data:141] Bad message (TypeError('not all arguments converted during string formatting')): {'name': 'nemo_logger', 'msg': 'Counted words:', 'args': (14455,), 'levelname': 'INFO', 'levelno': 20, 'pathname': '/home/quant/NeMo/nemo/backends/pytorch/tutorials/chatbot/data.py', 'filename': 'data.py', 'module': 'data', 'exc_info': None, 'exc_text': None, 'stack_info': None, 'lineno': 141, 'funcName': 'loadPrepareData', 'created': 1599008622.0282252, 'msecs': 28.225183486938477, 'relativeCreated': 38191.5717124939, 'thread': 140660277356352, 'threadName': 'MainThread', 'processName': 'MainProcess', 'process': 18661}\n",
      "[NeMo I 2020-09-02 01:03:42 data:58] keep_words 6104 / 14452 = 0.4224\n"
     ]
    },
    {
     "name": "stderr",
     "output_type": "stream",
     "text": [
      "[NeMo W 2020-09-02 01:03:42 callbacks:415] No checkpoints will be saved because step_freq and epoch_freq are both -1.\n"
     ]
    },
    {
     "name": "stdout",
     "output_type": "stream",
     "text": [
      "[NeMo I 2020-09-02 01:03:42 callbacks:534] Found 3 modules with weights:\n",
      "[NeMo I 2020-09-02 01:03:42 callbacks:536] GreedyLuongAttnDecoderRNN\n",
      "[NeMo I 2020-09-02 01:03:42 callbacks:536] LuongAttnDecoderRNN\n",
      "[NeMo I 2020-09-02 01:03:42 callbacks:536] EncoderRNN\n",
      "[NeMo I 2020-09-02 01:03:42 callbacks:537] Total model parameters: 30876086\n",
      "[NeMo I 2020-09-02 01:03:42 callbacks:473] Found checkpoint folder nemo_log. Will attempt to restore checkpoints from it.\n"
     ]
    },
    {
     "name": "stderr",
     "output_type": "stream",
     "text": [
      "[NeMo W 2020-09-02 01:03:42 callbacks:499] For module EncoderRNN, no file matches  in nemo_log\n",
      "[NeMo W 2020-09-02 01:03:42 callbacks:501] Checkpoint folder nemo_log was present but nothing was restored. Continuing training from random initialization.\n"
     ]
    },
    {
     "name": "stdout",
     "output_type": "stream",
     "text": [
      "[NeMo I 2020-09-02 01:03:42 callbacks:232] loss: 8.714747\n",
      "[NeMo I 2020-09-02 01:03:42 deprecated_callbacks:316] Doing Evaluation ..............................\n"
     ]
    },
    {
     "name": "stderr",
     "output_type": "stream",
     "text": [
      "2020-09-02 01:03:45,146\tWARNING session.py:14 -- Session not detected. You should not be calling this function outside `tune.run` or while using the class API. \n"
     ]
    },
    {
     "name": "stdout",
     "output_type": "stream",
     "text": [
      "eval: loss 8.358688\n",
      "[NeMo I 2020-09-02 01:03:45 deprecated_callbacks:321] Evaluation time: 2.376847743988037 seconds\n",
      "[NeMo I 2020-09-02 01:03:50 callbacks:232] loss: 4.350775\n",
      "[NeMo I 2020-09-02 01:03:50 deprecated_callbacks:316] Doing Evaluation ..............................\n"
     ]
    },
    {
     "name": "stderr",
     "output_type": "stream",
     "text": [
      "2020-09-02 01:03:52,669\tWARNING session.py:14 -- Session not detected. You should not be calling this function outside `tune.run` or while using the class API. \n"
     ]
    },
    {
     "name": "stdout",
     "output_type": "stream",
     "text": [
      "eval: loss 4.121506\n",
      "[NeMo I 2020-09-02 01:03:52 deprecated_callbacks:321] Evaluation time: 2.311250925064087 seconds\n",
      "[NeMo I 2020-09-02 01:03:57 callbacks:232] loss: 3.9032123\n",
      "[NeMo I 2020-09-02 01:03:57 deprecated_callbacks:316] Doing Evaluation ..............................\n"
     ]
    },
    {
     "name": "stderr",
     "output_type": "stream",
     "text": [
      "2020-09-02 01:04:00,109\tWARNING session.py:14 -- Session not detected. You should not be calling this function outside `tune.run` or while using the class API. \n"
     ]
    },
    {
     "name": "stdout",
     "output_type": "stream",
     "text": [
      "eval: loss 3.7209554\n",
      "[NeMo I 2020-09-02 01:04:00 deprecated_callbacks:321] Evaluation time: 2.2805421352386475 seconds\n",
      "[NeMo I 2020-09-02 01:04:05 callbacks:232] loss: 3.6042643\n",
      "[NeMo I 2020-09-02 01:04:05 deprecated_callbacks:316] Doing Evaluation ..............................\n"
     ]
    },
    {
     "name": "stderr",
     "output_type": "stream",
     "text": [
      "2020-09-02 01:04:07,559\tWARNING session.py:14 -- Session not detected. You should not be calling this function outside `tune.run` or while using the class API. \n"
     ]
    },
    {
     "name": "stdout",
     "output_type": "stream",
     "text": [
      "eval: loss 3.5243497\n",
      "[NeMo I 2020-09-02 01:04:07 deprecated_callbacks:321] Evaluation time: 2.288452386856079 seconds\n",
      "[NeMo I 2020-09-02 01:04:12 callbacks:232] loss: 3.561353\n",
      "[NeMo I 2020-09-02 01:04:12 deprecated_callbacks:316] Doing Evaluation ..............................\n"
     ]
    },
    {
     "name": "stderr",
     "output_type": "stream",
     "text": [
      "2020-09-02 01:04:14,727\tWARNING session.py:14 -- Session not detected. You should not be calling this function outside `tune.run` or while using the class API. \n"
     ]
    },
    {
     "name": "stdout",
     "output_type": "stream",
     "text": [
      "eval: loss 3.312268\n",
      "[NeMo I 2020-09-02 01:04:14 deprecated_callbacks:321] Evaluation time: 2.3128857612609863 seconds\n",
      "[NeMo I 2020-09-02 01:04:19 callbacks:232] loss: 3.1925693\n",
      "[NeMo I 2020-09-02 01:04:19 deprecated_callbacks:316] Doing Evaluation ..............................\n"
     ]
    },
    {
     "name": "stderr",
     "output_type": "stream",
     "text": [
      "2020-09-02 01:04:21,627\tWARNING session.py:14 -- Session not detected. You should not be calling this function outside `tune.run` or while using the class API. \n"
     ]
    },
    {
     "name": "stdout",
     "output_type": "stream",
     "text": [
      "eval: loss 3.1452332\n",
      "[NeMo I 2020-09-02 01:04:21 deprecated_callbacks:321] Evaluation time: 2.2978508472442627 seconds\n",
      "[NeMo I 2020-09-02 01:04:26 callbacks:232] loss: 3.1329074\n",
      "[NeMo I 2020-09-02 01:04:26 deprecated_callbacks:316] Doing Evaluation ..............................\n"
     ]
    },
    {
     "name": "stderr",
     "output_type": "stream",
     "text": [
      "2020-09-02 01:04:28,413\tWARNING session.py:14 -- Session not detected. You should not be calling this function outside `tune.run` or while using the class API. \n"
     ]
    },
    {
     "name": "stdout",
     "output_type": "stream",
     "text": [
      "eval: loss 2.9881816\n",
      "[NeMo I 2020-09-02 01:04:28 deprecated_callbacks:321] Evaluation time: 2.2736289501190186 seconds\n",
      "[NeMo I 2020-09-02 01:04:32 callbacks:232] loss: 2.9664466\n",
      "[NeMo I 2020-09-02 01:04:32 deprecated_callbacks:316] Doing Evaluation ..............................\n"
     ]
    },
    {
     "name": "stderr",
     "output_type": "stream",
     "text": [
      "2020-09-02 01:04:34,774\tWARNING session.py:14 -- Session not detected. You should not be calling this function outside `tune.run` or while using the class API. \n"
     ]
    },
    {
     "name": "stdout",
     "output_type": "stream",
     "text": [
      "eval: loss 2.8105288\n",
      "[NeMo I 2020-09-02 01:04:34 deprecated_callbacks:321] Evaluation time: 2.261976957321167 seconds\n",
      "[NeMo I 2020-09-02 01:04:39 callbacks:232] loss: 2.769644\n",
      "[NeMo I 2020-09-02 01:04:39 deprecated_callbacks:316] Doing Evaluation ..............................\n"
     ]
    },
    {
     "name": "stderr",
     "output_type": "stream",
     "text": [
      "2020-09-02 01:04:42,115\tWARNING session.py:14 -- Session not detected. You should not be calling this function outside `tune.run` or while using the class API. \n"
     ]
    },
    {
     "name": "stdout",
     "output_type": "stream",
     "text": [
      "eval: loss 2.6432502\n",
      "[NeMo I 2020-09-02 01:04:42 deprecated_callbacks:321] Evaluation time: 2.2938408851623535 seconds\n",
      "[NeMo I 2020-09-02 01:04:43 deprecated_callbacks:339] Final Evaluation ..............................\n"
     ]
    },
    {
     "name": "stderr",
     "output_type": "stream",
     "text": [
      "2020-09-02 01:04:45,314\tWARNING session.py:14 -- Session not detected. You should not be calling this function outside `tune.run` or while using the class API. \n"
     ]
    },
    {
     "name": "stdout",
     "output_type": "stream",
     "text": [
      "eval: loss 2.601487\n",
      "[NeMo I 2020-09-02 01:04:45 deprecated_callbacks:344] Evaluation time: 2.292282819747925 seconds\n",
      "node inference,  from <NodeInTaskGraph gquant.plugin_nodes.nemo_util.trainNemo.NemoTrainNode object at 0x7fe5f26010d0> oport checkpoint_dir not in out cols\n",
      "{}\n",
      "[NeMo I 2020-09-02 01:04:45 actions:695] Evaluating batch 0 out of 273\n",
      "[NeMo I 2020-09-02 01:04:46 actions:695] Evaluating batch 27 out of 273\n",
      "[NeMo I 2020-09-02 01:04:46 actions:695] Evaluating batch 54 out of 273\n",
      "[NeMo I 2020-09-02 01:04:47 actions:695] Evaluating batch 81 out of 273\n",
      "[NeMo I 2020-09-02 01:04:48 actions:695] Evaluating batch 108 out of 273\n",
      "[NeMo I 2020-09-02 01:04:49 actions:695] Evaluating batch 135 out of 273\n",
      "[NeMo I 2020-09-02 01:04:50 actions:695] Evaluating batch 162 out of 273\n",
      "[NeMo I 2020-09-02 01:04:51 actions:695] Evaluating batch 189 out of 273\n",
      "[NeMo I 2020-09-02 01:04:51 actions:695] Evaluating batch 216 out of 273\n",
      "[NeMo I 2020-09-02 01:04:52 actions:695] Evaluating batch 243 out of 273\n",
      "[NeMo I 2020-09-02 01:04:53 actions:695] Evaluating batch 270 out of 273\n"
     ]
    }
   ],
   "source": [
    "result = taskGraph.run()"
   ]
  },
  {
   "cell_type": "markdown",
   "metadata": {},
   "source": [
    "The graph computation results are stored in the `result` variable. It can be used as a named tuple or a dictionary. The keys of the result dictionary can be queried by the following command:|"
   ]
  },
  {
   "cell_type": "code",
   "execution_count": null,
   "metadata": {},
   "outputs": [],
   "source": [
    "result.get_keys()"
   ]
  },
  {
   "cell_type": "markdown",
   "metadata": {},
   "source": [
    "The evaluated greedy tensors are indices of the predicted letters in the dictionary. We can translate the numbers to human-readable texts by the following convenient function:"
   ]
  },
  {
   "cell_type": "code",
   "execution_count": 7,
   "metadata": {},
   "outputs": [],
   "source": [
    "from nemo.utils import logging\n",
    "# Define the callback function which prints intermediate results to console.\n",
    "def outputs2words(tensors, vocab):\n",
    "    source_ids = tensors[1][:, 0].cpu().numpy().tolist()\n",
    "    response_ids = tensors[2][:, 0].cpu().numpy().tolist()\n",
    "    tgt_ids = tensors[3][:, 0].cpu().numpy().tolist()\n",
    "    source = list(map(lambda x: vocab[x], source_ids))\n",
    "    response = list(map(lambda x: vocab[x], response_ids))\n",
    "    target = list(map(lambda x: vocab[x], tgt_ids))\n",
    "    source = ' '.join([s for s in source if s != 'EOS' and s != 'PAD'])\n",
    "    response = ' '.join([s for s in response if s != 'EOS' and s != 'PAD'])\n",
    "    target = ' '.join([s for s in target if s != 'EOS' and s != 'PAD'])\n",
    "    logging.info(f\"Train Loss:{str(tensors[0].item())}\")\n",
    "    logging.info(f\"SOURCE: {source} <---> PREDICTED RESPONSE: {response} \" f\"<---> TARGET: {target}\")"
   ]
  },
  {
   "cell_type": "markdown",
   "metadata": {},
   "source": [
    "We are ready to check the quality of the model performance. Note, by default, only 3 epochs are trained. For better performance, please increase the number of epochs."
   ]
  },
  {
   "cell_type": "code",
   "execution_count": 8,
   "metadata": {},
   "outputs": [
    {
     "name": "stdout",
     "output_type": "stream",
     "text": [
      "[NeMo I 2020-09-02 01:05:00 <ipython-input-7-d6a2d1ea5b1b>:13] Train Loss:2.929340362548828\n",
      "[NeMo I 2020-09-02 01:05:00 <ipython-input-7-d6a2d1ea5b1b>:14] SOURCE: not with what they pay me . . . <---> PREDICTED RESPONSE: you re not listening . . . <---> TARGET: you re not married are you ?\n",
      "[NeMo I 2020-09-02 01:05:00 <ipython-input-7-d6a2d1ea5b1b>:13] Train Loss:2.680102586746216\n",
      "[NeMo I 2020-09-02 01:05:00 <ipython-input-7-d6a2d1ea5b1b>:14] SOURCE: holy shit . what d i tell you ? <---> PREDICTED RESPONSE: what ? . . . . <---> TARGET: eight dollars .\n",
      "[NeMo I 2020-09-02 01:05:00 <ipython-input-7-d6a2d1ea5b1b>:13] Train Loss:2.777458429336548\n",
      "[NeMo I 2020-09-02 01:05:00 <ipython-input-7-d6a2d1ea5b1b>:14] SOURCE: you won t keep growing at this rate . <---> PREDICTED RESPONSE: i m sorry . you . . <---> TARGET: what rate ?\n",
      "[NeMo I 2020-09-02 01:05:00 <ipython-input-7-d6a2d1ea5b1b>:13] Train Loss:2.8599038124084473\n",
      "[NeMo I 2020-09-02 01:05:00 <ipython-input-7-d6a2d1ea5b1b>:14] SOURCE: uh yeah . . . gimme a tab . <---> PREDICTED RESPONSE: what ? ? ? ? ? <---> TARGET: what ?\n",
      "[NeMo I 2020-09-02 01:05:00 <ipython-input-7-d6a2d1ea5b1b>:13] Train Loss:2.7885115146636963\n",
      "[NeMo I 2020-09-02 01:05:00 <ipython-input-7-d6a2d1ea5b1b>:14] SOURCE: it s more than what you re worth . <---> PREDICTED RESPONSE: you re a little idiot . . . <---> TARGET: you bastard !\n",
      "[NeMo I 2020-09-02 01:05:00 <ipython-input-7-d6a2d1ea5b1b>:13] Train Loss:2.606346607208252\n",
      "[NeMo I 2020-09-02 01:05:00 <ipython-input-7-d6a2d1ea5b1b>:14] SOURCE: yeah that s what happened with me too . <---> PREDICTED RESPONSE: you re not listening . him . <---> TARGET: the other guy drew first .\n",
      "[NeMo I 2020-09-02 01:05:00 <ipython-input-7-d6a2d1ea5b1b>:13] Train Loss:2.5113677978515625\n",
      "[NeMo I 2020-09-02 01:05:00 <ipython-input-7-d6a2d1ea5b1b>:14] SOURCE: ayuh . . .how is your cat louis ? <---> PREDICTED RESPONSE: it s a folk accident . . . <---> TARGET: it s ellie s cat .\n",
      "[NeMo I 2020-09-02 01:05:00 <ipython-input-7-d6a2d1ea5b1b>:13] Train Loss:2.794961452484131\n",
      "[NeMo I 2020-09-02 01:05:00 <ipython-input-7-d6a2d1ea5b1b>:14] SOURCE: i thought i was allowed to defend myself . <---> PREDICTED RESPONSE: you re not listening . you ? <---> TARGET: you re not allowed to lie .\n",
      "[NeMo I 2020-09-02 01:05:00 <ipython-input-7-d6a2d1ea5b1b>:13] Train Loss:2.7652549743652344\n",
      "[NeMo I 2020-09-02 01:05:00 <ipython-input-7-d6a2d1ea5b1b>:14] SOURCE: he s home . i heard the car . <---> PREDICTED RESPONSE: i m not . . . . <---> TARGET: are you going down there ?\n",
      "[NeMo I 2020-09-02 01:05:00 <ipython-input-7-d6a2d1ea5b1b>:13] Train Loss:2.7282819747924805\n",
      "[NeMo I 2020-09-02 01:05:00 <ipython-input-7-d6a2d1ea5b1b>:14] SOURCE: mother miriam was with you wasn t she ? <---> PREDICTED RESPONSE: yeah . . . . . <---> TARGET: yes .\n",
      "[NeMo I 2020-09-02 01:05:00 <ipython-input-7-d6a2d1ea5b1b>:13] Train Loss:2.857172966003418\n",
      "[NeMo I 2020-09-02 01:05:00 <ipython-input-7-d6a2d1ea5b1b>:14] SOURCE: the point is they want a man inside . <---> PREDICTED RESPONSE: i m sorry . you . . <---> TARGET: and i thought you were a bright woman .\n",
      "[NeMo I 2020-09-02 01:05:00 <ipython-input-7-d6a2d1ea5b1b>:13] Train Loss:2.8490211963653564\n",
      "[NeMo I 2020-09-02 01:05:00 <ipython-input-7-d6a2d1ea5b1b>:14] SOURCE: shit ben ! how the shit are ya ? <---> PREDICTED RESPONSE: fine . . . . . <---> TARGET: fine frank . fine . how are you ?\n",
      "[NeMo I 2020-09-02 01:05:00 <ipython-input-7-d6a2d1ea5b1b>:13] Train Loss:2.8452534675598145\n",
      "[NeMo I 2020-09-02 01:05:00 <ipython-input-7-d6a2d1ea5b1b>:14] SOURCE: uh huh . you beat me three times . <---> PREDICTED RESPONSE: i m sorry . you . . <---> TARGET: i did ?\n",
      "[NeMo I 2020-09-02 01:05:00 <ipython-input-7-d6a2d1ea5b1b>:13] Train Loss:2.9427106380462646\n",
      "[NeMo I 2020-09-02 01:05:00 <ipython-input-7-d6a2d1ea5b1b>:14] SOURCE: she seems rather an odd woman to me . <---> PREDICTED RESPONSE: you don t know . . . <---> TARGET: she s a pretty good sort .\n",
      "[NeMo I 2020-09-02 01:05:00 <ipython-input-7-d6a2d1ea5b1b>:13] Train Loss:2.946594476699829\n",
      "[NeMo I 2020-09-02 01:05:00 <ipython-input-7-d6a2d1ea5b1b>:14] SOURCE: you hold the counter and i ll pull . <---> PREDICTED RESPONSE: i m sorry . you . . <---> TARGET: usually i just turn the can upside down .\n",
      "[NeMo I 2020-09-02 01:05:00 <ipython-input-7-d6a2d1ea5b1b>:13] Train Loss:2.923586845397949\n",
      "[NeMo I 2020-09-02 01:05:00 <ipython-input-7-d6a2d1ea5b1b>:14] SOURCE: what ? ! what d you think ? ! <---> PREDICTED RESPONSE: i m sorry . you . . <---> TARGET: oh .\n",
      "[NeMo I 2020-09-02 01:05:00 <ipython-input-7-d6a2d1ea5b1b>:13] Train Loss:2.7015981674194336\n",
      "[NeMo I 2020-09-02 01:05:00 <ipython-input-7-d6a2d1ea5b1b>:14] SOURCE: that s good . keep it at forty . <---> PREDICTED RESPONSE: you re a good teacher ? . . <---> TARGET: did we get it ?\n",
      "[NeMo I 2020-09-02 01:05:00 <ipython-input-7-d6a2d1ea5b1b>:13] Train Loss:2.9726853370666504\n",
      "[NeMo I 2020-09-02 01:05:00 <ipython-input-7-d6a2d1ea5b1b>:14] SOURCE: did it look like this in your mind ? <---> PREDICTED RESPONSE: no . . . . . <---> TARGET: this is more difficult\n",
      "[NeMo I 2020-09-02 01:05:00 <ipython-input-7-d6a2d1ea5b1b>:13] Train Loss:2.886331796646118\n",
      "[NeMo I 2020-09-02 01:05:00 <ipython-input-7-d6a2d1ea5b1b>:14] SOURCE: are you the guy they called ray bones ? <---> PREDICTED RESPONSE: yes . s wise . . . <---> TARGET: depends . who s this ?\n",
      "[NeMo I 2020-09-02 01:05:00 <ipython-input-7-d6a2d1ea5b1b>:13] Train Loss:2.6750802993774414\n",
      "[NeMo I 2020-09-02 01:05:00 <ipython-input-7-d6a2d1ea5b1b>:14] SOURCE: i will . when can i come visit ? <---> PREDICTED RESPONSE: i don t know . . . <---> TARGET: i don t know . probably next friday .\n",
      "[NeMo I 2020-09-02 01:05:00 <ipython-input-7-d6a2d1ea5b1b>:13] Train Loss:2.80312442779541\n",
      "[NeMo I 2020-09-02 01:05:00 <ipython-input-7-d6a2d1ea5b1b>:14] SOURCE: so whoever did this now has our shotgun . <---> PREDICTED RESPONSE: i m sorry . you . ? <---> TARGET: doesn t look like it much matters .\n",
      "[NeMo I 2020-09-02 01:05:00 <ipython-input-7-d6a2d1ea5b1b>:13] Train Loss:2.790895462036133\n",
      "[NeMo I 2020-09-02 01:05:00 <ipython-input-7-d6a2d1ea5b1b>:14] SOURCE: but i ain t got you . . . <---> PREDICTED RESPONSE: i m not . . . . . <---> TARGET: no i ain t got you . . .\n",
      "[NeMo I 2020-09-02 01:05:00 <ipython-input-7-d6a2d1ea5b1b>:13] Train Loss:2.7596468925476074\n",
      "[NeMo I 2020-09-02 01:05:00 <ipython-input-7-d6a2d1ea5b1b>:14] SOURCE: nope . can t . we re through . <---> PREDICTED RESPONSE: what s wrong ? ? ? ? <---> TARGET: then i ll call you a cab .\n",
      "[NeMo I 2020-09-02 01:05:00 <ipython-input-7-d6a2d1ea5b1b>:13] Train Loss:2.7294952869415283\n",
      "[NeMo I 2020-09-02 01:05:00 <ipython-input-7-d6a2d1ea5b1b>:14] SOURCE: but you can t stay you know that ? <---> PREDICTED RESPONSE: no . . . . . <---> TARGET: didn t think i could .\n",
      "[NeMo I 2020-09-02 01:05:00 <ipython-input-7-d6a2d1ea5b1b>:13] Train Loss:2.802703380584717\n",
      "[NeMo I 2020-09-02 01:05:00 <ipython-input-7-d6a2d1ea5b1b>:14] SOURCE: oh some insurance man . are you in ? <---> PREDICTED RESPONSE: no . . . . . <---> TARGET: give me that !\n",
      "[NeMo I 2020-09-02 01:05:00 <ipython-input-7-d6a2d1ea5b1b>:13] Train Loss:2.782533884048462\n",
      "[NeMo I 2020-09-02 01:05:00 <ipython-input-7-d6a2d1ea5b1b>:14] SOURCE: i . . .i can t . . . <---> PREDICTED RESPONSE: you re a good choice . . . <---> TARGET: you can and you will ! swim rennie !\n",
      "[NeMo I 2020-09-02 01:05:00 <ipython-input-7-d6a2d1ea5b1b>:13] Train Loss:2.67997145652771\n",
      "[NeMo I 2020-09-02 01:05:00 <ipython-input-7-d6a2d1ea5b1b>:14] SOURCE: hi harry . did you see the play ? <---> PREDICTED RESPONSE: yes . . . . . <---> TARGET: you think i d miss it ?\n",
      "[NeMo I 2020-09-02 01:05:00 <ipython-input-7-d6a2d1ea5b1b>:13] Train Loss:2.869033098220825\n",
      "[NeMo I 2020-09-02 01:05:00 <ipython-input-7-d6a2d1ea5b1b>:14] SOURCE: hey can you sneak me on the lot ? <---> PREDICTED RESPONSE: no . . . . . <---> TARGET: sure .\n",
      "[NeMo I 2020-09-02 01:05:00 <ipython-input-7-d6a2d1ea5b1b>:13] Train Loss:2.7479708194732666\n",
      "[NeMo I 2020-09-02 01:05:00 <ipython-input-7-d6a2d1ea5b1b>:14] SOURCE: . . .you need to talk to me . <---> PREDICTED RESPONSE: i m not . . . . <---> TARGET: i don t need to talk to you .\n",
      "[NeMo I 2020-09-02 01:05:00 <ipython-input-7-d6a2d1ea5b1b>:13] Train Loss:2.908541679382324\n",
      "[NeMo I 2020-09-02 01:05:00 <ipython-input-7-d6a2d1ea5b1b>:14] SOURCE: why s that necessary all of a sudden ? <---> PREDICTED RESPONSE: i don t know . . . <---> TARGET: i don t know him that well .\n",
      "[NeMo I 2020-09-02 01:05:00 <ipython-input-7-d6a2d1ea5b1b>:13] Train Loss:2.8744938373565674\n",
      "[NeMo I 2020-09-02 01:05:00 <ipython-input-7-d6a2d1ea5b1b>:14] SOURCE: no . . .no . . .no . . <---> PREDICTED RESPONSE: what s wrong ? ? ? . <---> TARGET: mama ?\n",
      "[NeMo I 2020-09-02 01:05:00 <ipython-input-7-d6a2d1ea5b1b>:13] Train Loss:2.7664566040039062\n",
      "[NeMo I 2020-09-02 01:05:00 <ipython-input-7-d6a2d1ea5b1b>:14] SOURCE: she don t know shit about the money . <---> PREDICTED RESPONSE: what ? ? ? ? ? <---> TARGET: what does she think she s gettin ?\n",
      "[NeMo I 2020-09-02 01:05:00 <ipython-input-7-d6a2d1ea5b1b>:13] Train Loss:2.8121941089630127\n",
      "[NeMo I 2020-09-02 01:05:00 <ipython-input-7-d6a2d1ea5b1b>:14] SOURCE: we might need some mo money behind this . <---> PREDICTED RESPONSE: that s not a half bad . ? <---> TARGET: that can be done .\n",
      "[NeMo I 2020-09-02 01:05:00 <ipython-input-7-d6a2d1ea5b1b>:13] Train Loss:2.8008065223693848\n",
      "[NeMo I 2020-09-02 01:05:00 <ipython-input-7-d6a2d1ea5b1b>:14] SOURCE: what s that got to do with it ? <---> PREDICTED RESPONSE: it s not a little one . . <---> TARGET: you are aren t you ?\n",
      "[NeMo I 2020-09-02 01:05:00 <ipython-input-7-d6a2d1ea5b1b>:13] Train Loss:2.76977801322937\n",
      "[NeMo I 2020-09-02 01:05:00 <ipython-input-7-d6a2d1ea5b1b>:14] SOURCE: the point is they want a man inside . <---> PREDICTED RESPONSE: i m sorry . you . . <---> TARGET: and i thought you were a bright woman .\n",
      "[NeMo I 2020-09-02 01:05:00 <ipython-input-7-d6a2d1ea5b1b>:13] Train Loss:2.904726505279541\n",
      "[NeMo I 2020-09-02 01:05:00 <ipython-input-7-d6a2d1ea5b1b>:14] SOURCE: maybe i ll bring him some food by . <---> PREDICTED RESPONSE: what ? ? ? ? ? <---> TARGET: thank you for walking him .\n",
      "[NeMo I 2020-09-02 01:05:00 <ipython-input-7-d6a2d1ea5b1b>:13] Train Loss:2.758619785308838\n",
      "[NeMo I 2020-09-02 01:05:00 <ipython-input-7-d6a2d1ea5b1b>:14] SOURCE: i doubt very much that one even exists . <---> PREDICTED RESPONSE: you can t be listening . . . <---> TARGET: what are you talking about ?\n",
      "[NeMo I 2020-09-02 01:05:00 <ipython-input-7-d6a2d1ea5b1b>:13] Train Loss:2.649143695831299\n",
      "[NeMo I 2020-09-02 01:05:00 <ipython-input-7-d6a2d1ea5b1b>:14] SOURCE: you re not gonna believe this . . . <---> PREDICTED RESPONSE: i m sorry . you . . <---> TARGET: try me .\n",
      "[NeMo I 2020-09-02 01:05:00 <ipython-input-7-d6a2d1ea5b1b>:13] Train Loss:2.7954039573669434\n",
      "[NeMo I 2020-09-02 01:05:00 <ipython-input-7-d6a2d1ea5b1b>:14] SOURCE: you think they ll come then ? why ? <---> PREDICTED RESPONSE: i don t know . . . <---> TARGET: good luck .\n",
      "[NeMo I 2020-09-02 01:05:00 <ipython-input-7-d6a2d1ea5b1b>:13] Train Loss:2.747143030166626\n",
      "[NeMo I 2020-09-02 01:05:00 <ipython-input-7-d6a2d1ea5b1b>:14] SOURCE: morning ! who s that little old man ? <---> PREDICTED RESPONSE: it s not a little late . . <---> TARGET: it s paul s grandfather .\n",
      "[NeMo I 2020-09-02 01:05:00 <ipython-input-7-d6a2d1ea5b1b>:13] Train Loss:2.786773443222046\n",
      "[NeMo I 2020-09-02 01:05:00 <ipython-input-7-d6a2d1ea5b1b>:14] SOURCE: you re not just like fucking with me ? <---> PREDICTED RESPONSE: no . . . . . <---> TARGET: no baby !\n",
      "[NeMo I 2020-09-02 01:05:00 <ipython-input-7-d6a2d1ea5b1b>:13] Train Loss:2.636517286300659\n",
      "[NeMo I 2020-09-02 01:05:00 <ipython-input-7-d6a2d1ea5b1b>:14] SOURCE: you may not think so but you are . <---> PREDICTED RESPONSE: i m not sure . . . <---> TARGET: he was by the book all the way .\n",
      "[NeMo I 2020-09-02 01:05:00 <ipython-input-7-d6a2d1ea5b1b>:13] Train Loss:2.826115369796753\n",
      "[NeMo I 2020-09-02 01:05:00 <ipython-input-7-d6a2d1ea5b1b>:14] SOURCE: u .s . history . mr . hand . <---> PREDICTED RESPONSE: what s wrong ? ? ? ? <---> TARGET: hey yo .\n",
      "[NeMo I 2020-09-02 01:05:00 <ipython-input-7-d6a2d1ea5b1b>:13] Train Loss:2.742025136947632\n",
      "[NeMo I 2020-09-02 01:05:00 <ipython-input-7-d6a2d1ea5b1b>:14] SOURCE: pino i work hard like everybody in here . <---> PREDICTED RESPONSE: i m not listening . you . <---> TARGET: he s right .\n",
      "[NeMo I 2020-09-02 01:05:00 <ipython-input-7-d6a2d1ea5b1b>:13] Train Loss:2.7608749866485596\n",
      "[NeMo I 2020-09-02 01:05:00 <ipython-input-7-d6a2d1ea5b1b>:14] SOURCE: how d you get the information on depinto ? <---> PREDICTED RESPONSE: i m not hungry . . . <---> TARGET: what do you mean ?\n",
      "[NeMo I 2020-09-02 01:05:00 <ipython-input-7-d6a2d1ea5b1b>:13] Train Loss:2.797506332397461\n",
      "[NeMo I 2020-09-02 01:05:00 <ipython-input-7-d6a2d1ea5b1b>:14] SOURCE: course it s too bad about your dad . <---> PREDICTED RESPONSE: what ? ? ? ? ? <---> TARGET: yeah .\n",
      "[NeMo I 2020-09-02 01:05:00 <ipython-input-7-d6a2d1ea5b1b>:13] Train Loss:2.840402841567993\n",
      "[NeMo I 2020-09-02 01:05:00 <ipython-input-7-d6a2d1ea5b1b>:14] SOURCE: that s all there is to it huh ? <---> PREDICTED RESPONSE: it s not a little one . . <---> TARGET: that s all .\n",
      "[NeMo I 2020-09-02 01:05:00 <ipython-input-7-d6a2d1ea5b1b>:13] Train Loss:2.7620153427124023\n",
      "[NeMo I 2020-09-02 01:05:00 <ipython-input-7-d6a2d1ea5b1b>:14] SOURCE: has my daughter given you an answer yet ? <---> PREDICTED RESPONSE: i don t know . . . <---> TARGET: no . she hasn t .\n",
      "[NeMo I 2020-09-02 01:05:00 <ipython-input-7-d6a2d1ea5b1b>:13] Train Loss:2.8010876178741455\n",
      "[NeMo I 2020-09-02 01:05:00 <ipython-input-7-d6a2d1ea5b1b>:14] SOURCE: so what s my share of the dress ? <---> PREDICTED RESPONSE: thirty dakota . . . . <---> TARGET: thirty two dollars .\n",
      "[NeMo I 2020-09-02 01:05:00 <ipython-input-7-d6a2d1ea5b1b>:13] Train Loss:2.9278147220611572\n",
      "[NeMo I 2020-09-02 01:05:00 <ipython-input-7-d6a2d1ea5b1b>:14] SOURCE: you want to take a walk with me ? <---> PREDICTED RESPONSE: no . . . . . <---> TARGET: where to ?\n",
      "[NeMo I 2020-09-02 01:05:00 <ipython-input-7-d6a2d1ea5b1b>:13] Train Loss:2.864619731903076\n",
      "[NeMo I 2020-09-02 01:05:00 <ipython-input-7-d6a2d1ea5b1b>:14] SOURCE: oh . just not at school . . . <---> PREDICTED RESPONSE: what ? . . . . . <---> TARGET: yeah\n",
      "[NeMo I 2020-09-02 01:05:00 <ipython-input-7-d6a2d1ea5b1b>:13] Train Loss:2.829972267150879\n",
      "[NeMo I 2020-09-02 01:05:00 <ipython-input-7-d6a2d1ea5b1b>:14] SOURCE: cool . so you re living up north ? <---> PREDICTED RESPONSE: yeah . . . . . <---> TARGET: yeah\n",
      "[NeMo I 2020-09-02 01:05:00 <ipython-input-7-d6a2d1ea5b1b>:13] Train Loss:2.731570243835449\n",
      "[NeMo I 2020-09-02 01:05:00 <ipython-input-7-d6a2d1ea5b1b>:14] SOURCE: you fucking cow can t you read ? ! <---> PREDICTED RESPONSE: i m not sure . . . <---> TARGET: i . . .\n",
      "[NeMo I 2020-09-02 01:05:00 <ipython-input-7-d6a2d1ea5b1b>:13] Train Loss:2.8849844932556152\n",
      "[NeMo I 2020-09-02 01:05:00 <ipython-input-7-d6a2d1ea5b1b>:14] SOURCE: chang s first question was about the pilot . <---> PREDICTED RESPONSE: yeah . . . . . <---> TARGET: uh huh .\n",
      "[NeMo I 2020-09-02 01:05:00 <ipython-input-7-d6a2d1ea5b1b>:13] Train Loss:2.76387357711792\n",
      "[NeMo I 2020-09-02 01:05:00 <ipython-input-7-d6a2d1ea5b1b>:14] SOURCE: well he has to rule out certain things . <---> PREDICTED RESPONSE: what ? ? ? ? ? <---> TARGET: like what ? ! what ?\n",
      "[NeMo I 2020-09-02 01:05:00 <ipython-input-7-d6a2d1ea5b1b>:13] Train Loss:2.8435888290405273\n",
      "[NeMo I 2020-09-02 01:05:00 <ipython-input-7-d6a2d1ea5b1b>:14] SOURCE: yeah . . . how ya doin pete ? <---> PREDICTED RESPONSE: okay . . . . . <---> TARGET: okay .\n",
      "[NeMo I 2020-09-02 01:05:00 <ipython-input-7-d6a2d1ea5b1b>:13] Train Loss:2.721452236175537\n",
      "[NeMo I 2020-09-02 01:05:00 <ipython-input-7-d6a2d1ea5b1b>:14] SOURCE: i m not really dressed for a party . <---> PREDICTED RESPONSE: you re not listening to me ? . <---> TARGET: relax it s casual .\n",
      "[NeMo I 2020-09-02 01:05:00 <ipython-input-7-d6a2d1ea5b1b>:13] Train Loss:2.8144102096557617\n",
      "[NeMo I 2020-09-02 01:05:00 <ipython-input-7-d6a2d1ea5b1b>:14] SOURCE: it goes from the bathroom to the kitchen . <---> PREDICTED RESPONSE: i m not . . . . <---> TARGET: i can t even stand up\n",
      "[NeMo I 2020-09-02 01:05:00 <ipython-input-7-d6a2d1ea5b1b>:13] Train Loss:2.749053955078125\n",
      "[NeMo I 2020-09-02 01:05:00 <ipython-input-7-d6a2d1ea5b1b>:14] SOURCE: you re implying that i planted a gun ? <---> PREDICTED RESPONSE: no . . . . . <---> TARGET: not at all\n",
      "[NeMo I 2020-09-02 01:05:00 <ipython-input-7-d6a2d1ea5b1b>:13] Train Loss:2.636248826980591\n",
      "[NeMo I 2020-09-02 01:05:00 <ipython-input-7-d6a2d1ea5b1b>:14] SOURCE: hey can you sneak me on the lot ? <---> PREDICTED RESPONSE: no . . . . . <---> TARGET: sure .\n",
      "[NeMo I 2020-09-02 01:05:00 <ipython-input-7-d6a2d1ea5b1b>:13] Train Loss:2.6380603313446045\n",
      "[NeMo I 2020-09-02 01:05:00 <ipython-input-7-d6a2d1ea5b1b>:14] SOURCE: there s one major hole in your story . <---> PREDICTED RESPONSE: you re not going to help me ? ! <---> TARGET: which is ?\n",
      "[NeMo I 2020-09-02 01:05:00 <ipython-input-7-d6a2d1ea5b1b>:13] Train Loss:2.75344181060791\n",
      "[NeMo I 2020-09-02 01:05:00 <ipython-input-7-d6a2d1ea5b1b>:14] SOURCE: it s gotta be right for my customer . <---> PREDICTED RESPONSE: you re a little so so so . . <---> TARGET: your customer eh ?\n",
      "[NeMo I 2020-09-02 01:05:00 <ipython-input-7-d6a2d1ea5b1b>:13] Train Loss:2.7767395973205566\n",
      "[NeMo I 2020-09-02 01:05:00 <ipython-input-7-d6a2d1ea5b1b>:14] SOURCE: turn the power of the hunter against him . <---> PREDICTED RESPONSE: he s dead . . . . <---> TARGET: tie a fly . . .\n",
      "[NeMo I 2020-09-02 01:05:00 <ipython-input-7-d6a2d1ea5b1b>:13] Train Loss:2.665458917617798\n",
      "[NeMo I 2020-09-02 01:05:00 <ipython-input-7-d6a2d1ea5b1b>:14] SOURCE: i used to throw trash for the city . <---> PREDICTED RESPONSE: you re not listening . ? ? <---> TARGET: you lost that one ?\n",
      "[NeMo I 2020-09-02 01:05:00 <ipython-input-7-d6a2d1ea5b1b>:13] Train Loss:2.7089240550994873\n",
      "[NeMo I 2020-09-02 01:05:00 <ipython-input-7-d6a2d1ea5b1b>:14] SOURCE: listen to me ! lisa s been arrested . <---> PREDICTED RESPONSE: you re welcome . . . . <---> TARGET: your lisa ?\n",
      "[NeMo I 2020-09-02 01:05:00 <ipython-input-7-d6a2d1ea5b1b>:13] Train Loss:2.87921142578125\n",
      "[NeMo I 2020-09-02 01:05:00 <ipython-input-7-d6a2d1ea5b1b>:14] SOURCE: why do you want to do that for ? <---> PREDICTED RESPONSE: i don t know . . . <---> TARGET: would make me feel better about it .\n",
      "[NeMo I 2020-09-02 01:05:00 <ipython-input-7-d6a2d1ea5b1b>:13] Train Loss:2.831951379776001\n",
      "[NeMo I 2020-09-02 01:05:00 <ipython-input-7-d6a2d1ea5b1b>:14] SOURCE: that means the nanobot is still inside him . <---> PREDICTED RESPONSE: i m sorry . . . . <---> TARGET: yes .\n",
      "[NeMo I 2020-09-02 01:05:00 <ipython-input-7-d6a2d1ea5b1b>:13] Train Loss:2.8288440704345703\n",
      "[NeMo I 2020-09-02 01:05:00 <ipython-input-7-d6a2d1ea5b1b>:14] SOURCE: put it in the middle of the room ! <---> PREDICTED RESPONSE: you re not coming ? ! ! <---> TARGET: when did you make this walter ?\n",
      "[NeMo I 2020-09-02 01:05:00 <ipython-input-7-d6a2d1ea5b1b>:13] Train Loss:2.685621738433838\n",
      "[NeMo I 2020-09-02 01:05:00 <ipython-input-7-d6a2d1ea5b1b>:14] SOURCE: yeah and get a slave too huh baby ? <---> PREDICTED RESPONSE: he s a half in the house . . <---> TARGET: i ain t doing bad .\n",
      "[NeMo I 2020-09-02 01:05:00 <ipython-input-7-d6a2d1ea5b1b>:13] Train Loss:2.735459327697754\n",
      "[NeMo I 2020-09-02 01:05:00 <ipython-input-7-d6a2d1ea5b1b>:14] SOURCE: what s that got to do with it ? <---> PREDICTED RESPONSE: it s not a little one . . <---> TARGET: funny i thought it was a strong point .\n",
      "[NeMo I 2020-09-02 01:05:00 <ipython-input-7-d6a2d1ea5b1b>:13] Train Loss:2.767742872238159\n",
      "[NeMo I 2020-09-02 01:05:00 <ipython-input-7-d6a2d1ea5b1b>:14] SOURCE: you must think i m quite the madman . <---> PREDICTED RESPONSE: you re not listening . school . . <---> TARGET: the thought had crossed my mind .\n",
      "[NeMo I 2020-09-02 01:05:00 <ipython-input-7-d6a2d1ea5b1b>:13] Train Loss:2.687999725341797\n",
      "[NeMo I 2020-09-02 01:05:00 <ipython-input-7-d6a2d1ea5b1b>:14] SOURCE: and what was that neighbor guy doing here ? <---> PREDICTED RESPONSE: i don t know . . . <---> TARGET: philip what are u you u doing here ?\n",
      "[NeMo I 2020-09-02 01:05:00 <ipython-input-7-d6a2d1ea5b1b>:13] Train Loss:2.8554749488830566\n",
      "[NeMo I 2020-09-02 01:05:00 <ipython-input-7-d6a2d1ea5b1b>:14] SOURCE: uh yeah . . . gimme a tab . <---> PREDICTED RESPONSE: what ? ? ? ? ? <---> TARGET: what ?\n",
      "[NeMo I 2020-09-02 01:05:00 <ipython-input-7-d6a2d1ea5b1b>:13] Train Loss:2.67865252494812\n",
      "[NeMo I 2020-09-02 01:05:00 <ipython-input-7-d6a2d1ea5b1b>:14] SOURCE: are you sure ? how do you know ? <---> PREDICTED RESPONSE: i m not . . . . <---> TARGET: we know .\n",
      "[NeMo I 2020-09-02 01:05:00 <ipython-input-7-d6a2d1ea5b1b>:13] Train Loss:2.6564645767211914\n",
      "[NeMo I 2020-09-02 01:05:00 <ipython-input-7-d6a2d1ea5b1b>:14] SOURCE: it s about to work just come on . <---> PREDICTED RESPONSE: i m sorry . . . . <---> TARGET: what about the dog ?\n",
      "[NeMo I 2020-09-02 01:05:00 <ipython-input-7-d6a2d1ea5b1b>:13] Train Loss:2.6780924797058105\n",
      "[NeMo I 2020-09-02 01:05:00 <ipython-input-7-d6a2d1ea5b1b>:14] SOURCE: calm down . tell me what s wrong . <---> PREDICTED RESPONSE: you re kidding . s docile . . <---> TARGET: something awful happened last night .\n",
      "[NeMo I 2020-09-02 01:05:00 <ipython-input-7-d6a2d1ea5b1b>:13] Train Loss:2.7712557315826416\n",
      "[NeMo I 2020-09-02 01:05:00 <ipython-input-7-d6a2d1ea5b1b>:14] SOURCE: do you want an argument or an answer ? <---> PREDICTED RESPONSE: no . . . . . <---> TARGET: an answer .\n",
      "[NeMo I 2020-09-02 01:05:00 <ipython-input-7-d6a2d1ea5b1b>:13] Train Loss:2.8401291370391846\n",
      "[NeMo I 2020-09-02 01:05:00 <ipython-input-7-d6a2d1ea5b1b>:14] SOURCE: oh my god ! she s in there ! <---> PREDICTED RESPONSE: what s wrong ? ? ! ! <---> TARGET: daddy help !\n",
      "[NeMo I 2020-09-02 01:05:00 <ipython-input-7-d6a2d1ea5b1b>:13] Train Loss:2.7151753902435303\n",
      "[NeMo I 2020-09-02 01:05:00 <ipython-input-7-d6a2d1ea5b1b>:14] SOURCE: they may nail me into this now mccoy . <---> PREDICTED RESPONSE: what ? you know . . . <---> TARGET: that s your problem .\n",
      "[NeMo I 2020-09-02 01:05:00 <ipython-input-7-d6a2d1ea5b1b>:13] Train Loss:2.823099136352539\n",
      "[NeMo I 2020-09-02 01:05:00 <ipython-input-7-d6a2d1ea5b1b>:14] SOURCE: we got i don t know we got separated <---> PREDICTED RESPONSE: we re not listening . . <---> TARGET: before or after the explosion ? mueller\n",
      "[NeMo I 2020-09-02 01:05:00 <ipython-input-7-d6a2d1ea5b1b>:13] Train Loss:2.8455417156219482\n",
      "[NeMo I 2020-09-02 01:05:00 <ipython-input-7-d6a2d1ea5b1b>:14] SOURCE: you re beautiful . let s have sex . <---> PREDICTED RESPONSE: i m sorry . you ? . <---> TARGET: no .\n",
      "[NeMo I 2020-09-02 01:05:00 <ipython-input-7-d6a2d1ea5b1b>:13] Train Loss:2.678569793701172\n",
      "[NeMo I 2020-09-02 01:05:00 <ipython-input-7-d6a2d1ea5b1b>:14] SOURCE: robert i think you better just . . . <---> PREDICTED RESPONSE: you re a little too too . . <---> TARGET: you re all full of shit !\n",
      "[NeMo I 2020-09-02 01:05:00 <ipython-input-7-d6a2d1ea5b1b>:13] Train Loss:2.760524272918701\n",
      "[NeMo I 2020-09-02 01:05:00 <ipython-input-7-d6a2d1ea5b1b>:14] SOURCE: are you worried about security for your million ? <---> PREDICTED RESPONSE: yes . . . . . <---> TARGET: no .\n",
      "[NeMo I 2020-09-02 01:05:00 <ipython-input-7-d6a2d1ea5b1b>:13] Train Loss:2.617353916168213\n",
      "[NeMo I 2020-09-02 01:05:00 <ipython-input-7-d6a2d1ea5b1b>:14] SOURCE: guys i think i d rather stay here . <---> PREDICTED RESPONSE: you re a good idea . . . <---> TARGET: c mon larry . be good for you .\n",
      "[NeMo I 2020-09-02 01:05:00 <ipython-input-7-d6a2d1ea5b1b>:13] Train Loss:2.8254246711730957\n",
      "[NeMo I 2020-09-02 01:05:00 <ipython-input-7-d6a2d1ea5b1b>:14] SOURCE: flame on flame off . flame on flame off <---> PREDICTED RESPONSE: impressive ! ! ! ! ! <---> TARGET: johnny .\n",
      "[NeMo I 2020-09-02 01:05:00 <ipython-input-7-d6a2d1ea5b1b>:13] Train Loss:2.580387830734253\n",
      "[NeMo I 2020-09-02 01:05:00 <ipython-input-7-d6a2d1ea5b1b>:14] SOURCE: and you did that to protect my interest ? <---> PREDICTED RESPONSE: yes . . . . . <---> TARGET: in a way yes .\n",
      "[NeMo I 2020-09-02 01:05:00 <ipython-input-7-d6a2d1ea5b1b>:13] Train Loss:2.583625316619873\n",
      "[NeMo I 2020-09-02 01:05:00 <ipython-input-7-d6a2d1ea5b1b>:14] SOURCE: no not that hedge . the other one . <---> PREDICTED RESPONSE: you re not listening . you ? <---> TARGET: the other one ?\n",
      "[NeMo I 2020-09-02 01:05:00 <ipython-input-7-d6a2d1ea5b1b>:13] Train Loss:2.6272099018096924\n",
      "[NeMo I 2020-09-02 01:05:00 <ipython-input-7-d6a2d1ea5b1b>:14] SOURCE: . . .to be off the island tonight . <---> PREDICTED RESPONSE: and the other thing . . . <---> TARGET: and i changed the schedule .\n",
      "[NeMo I 2020-09-02 01:05:00 <ipython-input-7-d6a2d1ea5b1b>:13] Train Loss:2.7146008014678955\n",
      "[NeMo I 2020-09-02 01:05:00 <ipython-input-7-d6a2d1ea5b1b>:14] SOURCE: you understand which side the gelatin s on ? <---> PREDICTED RESPONSE: it s not your sister . . . <---> TARGET: it tastes wonderful !\n",
      "[NeMo I 2020-09-02 01:05:00 <ipython-input-7-d6a2d1ea5b1b>:13] Train Loss:2.9327356815338135\n",
      "[NeMo I 2020-09-02 01:05:00 <ipython-input-7-d6a2d1ea5b1b>:14] SOURCE: hey you two ! what s going on ? <---> PREDICTED RESPONSE: what ? . . . . <---> TARGET: i was sitting there .\n",
      "[NeMo I 2020-09-02 01:05:00 <ipython-input-7-d6a2d1ea5b1b>:13] Train Loss:2.8288657665252686\n",
      "[NeMo I 2020-09-02 01:05:00 <ipython-input-7-d6a2d1ea5b1b>:14] SOURCE: what s going on ? who started this ? <---> PREDICTED RESPONSE: you don t know . . . <---> TARGET: you mean who hit who ?\n",
      "[NeMo I 2020-09-02 01:05:00 <ipython-input-7-d6a2d1ea5b1b>:13] Train Loss:2.7664833068847656\n",
      "[NeMo I 2020-09-02 01:05:00 <ipython-input-7-d6a2d1ea5b1b>:14] SOURCE: there what ? i didn t see anything . <---> PREDICTED RESPONSE: you don t know . . . <---> TARGET: back it up rewind whatever you call it .\n",
      "[NeMo I 2020-09-02 01:05:00 <ipython-input-7-d6a2d1ea5b1b>:13] Train Loss:2.6332874298095703\n",
      "[NeMo I 2020-09-02 01:05:00 <ipython-input-7-d6a2d1ea5b1b>:14] SOURCE: it knows us . this one knows us . <---> PREDICTED RESPONSE: you re not listening . it . <---> TARGET: i need that report lt .\n",
      "[NeMo I 2020-09-02 01:05:00 <ipython-input-7-d6a2d1ea5b1b>:13] Train Loss:2.7010183334350586\n",
      "[NeMo I 2020-09-02 01:05:00 <ipython-input-7-d6a2d1ea5b1b>:14] SOURCE: want something to drink ? i m buying . <---> PREDICTED RESPONSE: no . . . . . <---> TARGET: no thanks .\n",
      "[NeMo I 2020-09-02 01:05:00 <ipython-input-7-d6a2d1ea5b1b>:13] Train Loss:2.8116061687469482\n",
      "[NeMo I 2020-09-02 01:05:00 <ipython-input-7-d6a2d1ea5b1b>:14] SOURCE: do we have anything on the budget today ? <---> PREDICTED RESPONSE: no . . . . . <---> TARGET: i don t think so .\n",
      "[NeMo I 2020-09-02 01:05:00 <ipython-input-7-d6a2d1ea5b1b>:13] Train Loss:2.8269519805908203\n",
      "[NeMo I 2020-09-02 01:05:00 <ipython-input-7-d6a2d1ea5b1b>:14] SOURCE: you must bring something heavy to the deal . <---> PREDICTED RESPONSE: i m not sure . up . . <---> TARGET: that s right me .\n",
      "[NeMo I 2020-09-02 01:05:00 <ipython-input-7-d6a2d1ea5b1b>:13] Train Loss:2.6291487216949463\n",
      "[NeMo I 2020-09-02 01:05:00 <ipython-input-7-d6a2d1ea5b1b>:14] SOURCE: uh uh . you re on your own . <---> PREDICTED RESPONSE: i m sorry . you . . <---> TARGET: so i ll see you at the rehearsal .\n",
      "[NeMo I 2020-09-02 01:05:00 <ipython-input-7-d6a2d1ea5b1b>:13] Train Loss:2.6619272232055664\n",
      "[NeMo I 2020-09-02 01:05:00 <ipython-input-7-d6a2d1ea5b1b>:14] SOURCE: are you sure you re totally into guys ? <---> PREDICTED RESPONSE: yes . . . . . <---> TARGET: what are you talking about ?\n",
      "[NeMo I 2020-09-02 01:05:00 <ipython-input-7-d6a2d1ea5b1b>:13] Train Loss:2.5924863815307617\n",
      "[NeMo I 2020-09-02 01:05:00 <ipython-input-7-d6a2d1ea5b1b>:14] SOURCE: do you want me to sleep on it ? <---> PREDICTED RESPONSE: i don t know . . . <---> TARGET: no .\n",
      "[NeMo I 2020-09-02 01:05:00 <ipython-input-7-d6a2d1ea5b1b>:13] Train Loss:2.7296762466430664\n",
      "[NeMo I 2020-09-02 01:05:00 <ipython-input-7-d6a2d1ea5b1b>:14] SOURCE: if i may be so bold . . . <---> PREDICTED RESPONSE: you re a little in the house . . <---> TARGET: for the gods spit it out !\n",
      "[NeMo I 2020-09-02 01:05:00 <ipython-input-7-d6a2d1ea5b1b>:13] Train Loss:2.751990556716919\n",
      "[NeMo I 2020-09-02 01:05:00 <ipython-input-7-d6a2d1ea5b1b>:14] SOURCE: you wouldn t know her address would you ? <---> PREDICTED RESPONSE: i m not . . . . <---> TARGET: no but i can get it for you .\n",
      "[NeMo I 2020-09-02 01:05:00 <ipython-input-7-d6a2d1ea5b1b>:13] Train Loss:2.5485587120056152\n",
      "[NeMo I 2020-09-02 01:05:00 <ipython-input-7-d6a2d1ea5b1b>:14] SOURCE: this is a gift you ll not return . <---> PREDICTED RESPONSE: what ? it s a little . . <---> TARGET: get out of here !\n",
      "[NeMo I 2020-09-02 01:05:00 <ipython-input-7-d6a2d1ea5b1b>:13] Train Loss:2.7572944164276123\n",
      "[NeMo I 2020-09-02 01:05:00 <ipython-input-7-d6a2d1ea5b1b>:14] SOURCE: and we got rid of the red head . <---> PREDICTED RESPONSE: what ? ? ? ? ? <---> TARGET: jake ? customs ?\n",
      "[NeMo I 2020-09-02 01:05:00 <ipython-input-7-d6a2d1ea5b1b>:13] Train Loss:2.7416281700134277\n",
      "[NeMo I 2020-09-02 01:05:00 <ipython-input-7-d6a2d1ea5b1b>:14] SOURCE: peter i love you too but . . . <---> PREDICTED RESPONSE: i m sorry . you . . <---> TARGET: i don t think you ll hurt me .\n",
      "[NeMo I 2020-09-02 01:05:00 <ipython-input-7-d6a2d1ea5b1b>:13] Train Loss:2.8070008754730225\n",
      "[NeMo I 2020-09-02 01:05:00 <ipython-input-7-d6a2d1ea5b1b>:14] SOURCE: i m not very good at this mitch . <---> PREDICTED RESPONSE: you re not listening . you . <---> TARGET: you re doing fine .\n",
      "[NeMo I 2020-09-02 01:05:00 <ipython-input-7-d6a2d1ea5b1b>:13] Train Loss:2.8737969398498535\n",
      "[NeMo I 2020-09-02 01:05:00 <ipython-input-7-d6a2d1ea5b1b>:14] SOURCE: you still don t believe me do you ? <---> PREDICTED RESPONSE: i m not sure . . . <---> TARGET: i do believe you . . .\n",
      "[NeMo I 2020-09-02 01:05:00 <ipython-input-7-d6a2d1ea5b1b>:13] Train Loss:2.707622528076172\n",
      "[NeMo I 2020-09-02 01:05:00 <ipython-input-7-d6a2d1ea5b1b>:14] SOURCE: yeah cause maybe he s learned his lesson . <---> PREDICTED RESPONSE: oh . . . . . <---> TARGET: unlikely .\n",
      "[NeMo I 2020-09-02 01:05:00 <ipython-input-7-d6a2d1ea5b1b>:13] Train Loss:2.6714138984680176\n",
      "[NeMo I 2020-09-02 01:05:00 <ipython-input-7-d6a2d1ea5b1b>:14] SOURCE: he was actually there ? you saw him ? <---> PREDICTED RESPONSE: he was hamburger . . . . <---> TARGET: well what was left of him .\n",
      "[NeMo I 2020-09-02 01:05:00 <ipython-input-7-d6a2d1ea5b1b>:13] Train Loss:2.665102958679199\n",
      "[NeMo I 2020-09-02 01:05:00 <ipython-input-7-d6a2d1ea5b1b>:14] SOURCE: you want those assholes you want top dollar . <---> PREDICTED RESPONSE: i m sorry . you too . <---> TARGET: t bird ?\n",
      "[NeMo I 2020-09-02 01:05:00 <ipython-input-7-d6a2d1ea5b1b>:13] Train Loss:2.6678996086120605\n",
      "[NeMo I 2020-09-02 01:05:00 <ipython-input-7-d6a2d1ea5b1b>:14] SOURCE: i mean it could get us both killed . <---> PREDICTED RESPONSE: you can t be . . . <---> TARGET: i can back him off .\n",
      "[NeMo I 2020-09-02 01:05:00 <ipython-input-7-d6a2d1ea5b1b>:13] Train Loss:2.7513742446899414\n",
      "[NeMo I 2020-09-02 01:05:00 <ipython-input-7-d6a2d1ea5b1b>:14] SOURCE: can you imagine your parents in bed together ? <---> PREDICTED RESPONSE: no . . . . . <---> TARGET: no way !\n",
      "[NeMo I 2020-09-02 01:05:00 <ipython-input-7-d6a2d1ea5b1b>:13] Train Loss:2.6441383361816406\n",
      "[NeMo I 2020-09-02 01:05:00 <ipython-input-7-d6a2d1ea5b1b>:14] SOURCE: this denial of death . you remember this ? <---> PREDICTED RESPONSE: yeah . . . . . <---> TARGET: oh\n",
      "[NeMo I 2020-09-02 01:05:00 <ipython-input-7-d6a2d1ea5b1b>:13] Train Loss:2.7683887481689453\n",
      "[NeMo I 2020-09-02 01:05:00 <ipython-input-7-d6a2d1ea5b1b>:14] SOURCE: you live in that house behind the store ? <---> PREDICTED RESPONSE: yes . . . . . <---> TARGET: yes i do .\n",
      "[NeMo I 2020-09-02 01:05:00 <ipython-input-7-d6a2d1ea5b1b>:13] Train Loss:2.681795597076416\n",
      "[NeMo I 2020-09-02 01:05:00 <ipython-input-7-d6a2d1ea5b1b>:14] SOURCE: i understand . what s the other thing ? <---> PREDICTED RESPONSE: it s a little one . . . <---> TARGET: tuck in your shirt .\n",
      "[NeMo I 2020-09-02 01:05:00 <ipython-input-7-d6a2d1ea5b1b>:13] Train Loss:2.6245086193084717\n",
      "[NeMo I 2020-09-02 01:05:00 <ipython-input-7-d6a2d1ea5b1b>:14] SOURCE: we dated for about a month last year . <---> PREDICTED RESPONSE: you re a half too much . ? <---> TARGET: then what happened ?\n",
      "[NeMo I 2020-09-02 01:05:00 <ipython-input-7-d6a2d1ea5b1b>:13] Train Loss:2.7276315689086914\n",
      "[NeMo I 2020-09-02 01:05:00 <ipython-input-7-d6a2d1ea5b1b>:14] SOURCE: it doesn t exactly play like dumb panic . <---> PREDICTED RESPONSE: i m not listening . it . . <---> TARGET: what do you mean ?\n",
      "[NeMo I 2020-09-02 01:05:00 <ipython-input-7-d6a2d1ea5b1b>:13] Train Loss:2.681753635406494\n",
      "[NeMo I 2020-09-02 01:05:00 <ipython-input-7-d6a2d1ea5b1b>:14] SOURCE: and the rest of us are truck horses ? <---> PREDICTED RESPONSE: i m not scared . . . <---> TARGET: there you go talking like a woman !\n",
      "[NeMo I 2020-09-02 01:05:00 <ipython-input-7-d6a2d1ea5b1b>:13] Train Loss:2.745142936706543\n",
      "[NeMo I 2020-09-02 01:05:00 <ipython-input-7-d6a2d1ea5b1b>:14] SOURCE: clever of you to find this spot betty . <---> PREDICTED RESPONSE: it s not a little cigars . . <---> TARGET: it pays to know your way around oliver .\n",
      "[NeMo I 2020-09-02 01:05:00 <ipython-input-7-d6a2d1ea5b1b>:13] Train Loss:2.7918472290039062\n",
      "[NeMo I 2020-09-02 01:05:00 <ipython-input-7-d6a2d1ea5b1b>:14] SOURCE: you d like me better that way jimmy ? <---> PREDICTED RESPONSE: yeah . . . . . <---> TARGET: yes .\n",
      "[NeMo I 2020-09-02 01:05:00 <ipython-input-7-d6a2d1ea5b1b>:13] Train Loss:2.6812095642089844\n",
      "[NeMo I 2020-09-02 01:05:00 <ipython-input-7-d6a2d1ea5b1b>:14] SOURCE: but i thought you could hold your tongue . <---> PREDICTED RESPONSE: i m not scared . . . <---> TARGET: it won t happen again .\n",
      "[NeMo I 2020-09-02 01:05:00 <ipython-input-7-d6a2d1ea5b1b>:13] Train Loss:2.7022764682769775\n",
      "[NeMo I 2020-09-02 01:05:00 <ipython-input-7-d6a2d1ea5b1b>:14] SOURCE: so that s it . i m out ? <---> PREDICTED RESPONSE: you re not listening . . . <---> TARGET: i didn t say that .\n",
      "[NeMo I 2020-09-02 01:05:00 <ipython-input-7-d6a2d1ea5b1b>:13] Train Loss:2.5988168716430664\n",
      "[NeMo I 2020-09-02 01:05:00 <ipython-input-7-d6a2d1ea5b1b>:14] SOURCE: oh my god oh my god . . . <---> PREDICTED RESPONSE: what ? ? ? ? ? <---> TARGET: get the kit !\n",
      "[NeMo I 2020-09-02 01:05:00 <ipython-input-7-d6a2d1ea5b1b>:13] Train Loss:2.744176149368286\n",
      "[NeMo I 2020-09-02 01:05:00 <ipython-input-7-d6a2d1ea5b1b>:14] SOURCE: what the fuck are we going to do ? <---> PREDICTED RESPONSE: we re not listening . . . <---> TARGET: hide him .\n",
      "[NeMo I 2020-09-02 01:05:00 <ipython-input-7-d6a2d1ea5b1b>:13] Train Loss:2.7678017616271973\n",
      "[NeMo I 2020-09-02 01:05:00 <ipython-input-7-d6a2d1ea5b1b>:14] SOURCE: . actually . i ve been in twice . <---> PREDICTED RESPONSE: you re a little tougher ? ? ? <---> TARGET: twice . without her sensing anything ?\n",
      "[NeMo I 2020-09-02 01:05:00 <ipython-input-7-d6a2d1ea5b1b>:13] Train Loss:2.7286360263824463\n",
      "[NeMo I 2020-09-02 01:05:00 <ipython-input-7-d6a2d1ea5b1b>:14] SOURCE: he didn t say nothin . just drive . <---> PREDICTED RESPONSE: he s not a circuit . . . <---> TARGET: you have a responsibility to tell me .\n",
      "[NeMo I 2020-09-02 01:05:00 <ipython-input-7-d6a2d1ea5b1b>:13] Train Loss:2.6112353801727295\n",
      "[NeMo I 2020-09-02 01:05:00 <ipython-input-7-d6a2d1ea5b1b>:14] SOURCE: boy she s so popular all the sudden . <---> PREDICTED RESPONSE: i m not scared . . . <---> TARGET: what are you saying ?\n",
      "[NeMo I 2020-09-02 01:05:00 <ipython-input-7-d6a2d1ea5b1b>:13] Train Loss:2.664782762527466\n",
      "[NeMo I 2020-09-02 01:05:00 <ipython-input-7-d6a2d1ea5b1b>:14] SOURCE: best get down close to the moat lad . <---> PREDICTED RESPONSE: i m not . . . . <---> TARGET: aye . we re good as inside .\n",
      "[NeMo I 2020-09-02 01:05:00 <ipython-input-7-d6a2d1ea5b1b>:13] Train Loss:2.7579965591430664\n",
      "[NeMo I 2020-09-02 01:05:00 <ipython-input-7-d6a2d1ea5b1b>:14] SOURCE: i was just looking at you so quiet . <---> PREDICTED RESPONSE: i m sorry . you . . <---> TARGET: where s dickie ?\n",
      "[NeMo I 2020-09-02 01:05:00 <ipython-input-7-d6a2d1ea5b1b>:13] Train Loss:2.595423936843872\n",
      "[NeMo I 2020-09-02 01:05:00 <ipython-input-7-d6a2d1ea5b1b>:14] SOURCE: it better be up to and including me . <---> PREDICTED RESPONSE: yeah . . . . . <---> TARGET: twelve .\n",
      "[NeMo I 2020-09-02 01:05:00 <ipython-input-7-d6a2d1ea5b1b>:13] Train Loss:2.7774901390075684\n",
      "[NeMo I 2020-09-02 01:05:00 <ipython-input-7-d6a2d1ea5b1b>:14] SOURCE: sir i d like to ask you a few <---> PREDICTED RESPONSE: you re not listening . you . <---> TARGET: what time is it ?\n",
      "[NeMo I 2020-09-02 01:05:00 <ipython-input-7-d6a2d1ea5b1b>:13] Train Loss:2.675490379333496\n",
      "[NeMo I 2020-09-02 01:05:00 <ipython-input-7-d6a2d1ea5b1b>:14] SOURCE: shit . sorry . that didn t count . <---> PREDICTED RESPONSE: what ? ? ? ? ? <---> TARGET: like hell . that counted .\n",
      "[NeMo I 2020-09-02 01:05:00 <ipython-input-7-d6a2d1ea5b1b>:13] Train Loss:2.735592842102051\n",
      "[NeMo I 2020-09-02 01:05:00 <ipython-input-7-d6a2d1ea5b1b>:14] SOURCE: come and dance with me mr . kringelein . <---> PREDICTED RESPONSE: what ? ? ? ? ? <---> TARGET: i must speak to you miss flaemm business .\n",
      "[NeMo I 2020-09-02 01:05:00 <ipython-input-7-d6a2d1ea5b1b>:13] Train Loss:2.7607712745666504\n",
      "[NeMo I 2020-09-02 01:05:00 <ipython-input-7-d6a2d1ea5b1b>:14] SOURCE: i d like you to meet my father . <---> PREDICTED RESPONSE: i m not sure . . . <---> TARGET: oh won t you come in ?\n",
      "[NeMo I 2020-09-02 01:05:00 <ipython-input-7-d6a2d1ea5b1b>:13] Train Loss:2.7834060192108154\n",
      "[NeMo I 2020-09-02 01:05:00 <ipython-input-7-d6a2d1ea5b1b>:14] SOURCE: you re fuckin a we can do this . <---> PREDICTED RESPONSE: i m not . . . . <---> TARGET: not with me . not with people .\n",
      "[NeMo I 2020-09-02 01:05:00 <ipython-input-7-d6a2d1ea5b1b>:13] Train Loss:2.6063015460968018\n",
      "[NeMo I 2020-09-02 01:05:00 <ipython-input-7-d6a2d1ea5b1b>:14] SOURCE: ssh . don t want babe to hear . <---> PREDICTED RESPONSE: what s wrong ? ? ? ? <---> TARGET: you re hurting .\n",
      "[NeMo I 2020-09-02 01:05:00 <ipython-input-7-d6a2d1ea5b1b>:13] Train Loss:2.6140055656433105\n",
      "[NeMo I 2020-09-02 01:05:00 <ipython-input-7-d6a2d1ea5b1b>:14] SOURCE: friend of his . they play duets together . <---> PREDICTED RESPONSE: what s wrong ? ? ? ? <---> TARGET: duets ? but can we trust him ?\n",
      "[NeMo I 2020-09-02 01:05:00 <ipython-input-7-d6a2d1ea5b1b>:13] Train Loss:2.564358949661255\n",
      "[NeMo I 2020-09-02 01:05:00 <ipython-input-7-d6a2d1ea5b1b>:14] SOURCE: i m so close i can feel it . <---> PREDICTED RESPONSE: you can t be . . . <---> TARGET: me too . i m almost there .\n",
      "[NeMo I 2020-09-02 01:05:00 <ipython-input-7-d6a2d1ea5b1b>:13] Train Loss:2.6969525814056396\n",
      "[NeMo I 2020-09-02 01:05:00 <ipython-input-7-d6a2d1ea5b1b>:14] SOURCE: watch your mouth man . it s christmas . <---> PREDICTED RESPONSE: i m sorry . you ? . <---> TARGET: i m not nick !\n",
      "[NeMo I 2020-09-02 01:05:00 <ipython-input-7-d6a2d1ea5b1b>:13] Train Loss:2.4320058822631836\n",
      "[NeMo I 2020-09-02 01:05:00 <ipython-input-7-d6a2d1ea5b1b>:14] SOURCE: yeah but you you got a nice apartment . <---> PREDICTED RESPONSE: i m not sure . up . <---> TARGET: i have a tiny apartment .\n",
      "[NeMo I 2020-09-02 01:05:00 <ipython-input-7-d6a2d1ea5b1b>:13] Train Loss:2.719876289367676\n",
      "[NeMo I 2020-09-02 01:05:00 <ipython-input-7-d6a2d1ea5b1b>:14] SOURCE: that wouldn t be too good would it ? <---> PREDICTED RESPONSE: it s not a little one . . <---> TARGET: frank would open you .\n",
      "[NeMo I 2020-09-02 01:05:00 <ipython-input-7-d6a2d1ea5b1b>:13] Train Loss:2.5090394020080566\n",
      "[NeMo I 2020-09-02 01:05:00 <ipython-input-7-d6a2d1ea5b1b>:14] SOURCE: i really hope you have a nice trip . <---> PREDICTED RESPONSE: i m sorry . you . . <---> TARGET: thanks . i hope yours is okay too .\n",
      "[NeMo I 2020-09-02 01:05:00 <ipython-input-7-d6a2d1ea5b1b>:13] Train Loss:2.557407855987549\n",
      "[NeMo I 2020-09-02 01:05:00 <ipython-input-7-d6a2d1ea5b1b>:14] SOURCE: i m going to wait in the car . <---> PREDICTED RESPONSE: you re not listening . you ? <---> TARGET: sure . we almost done ain t we ?\n",
      "[NeMo I 2020-09-02 01:05:00 <ipython-input-7-d6a2d1ea5b1b>:13] Train Loss:2.6873459815979004\n",
      "[NeMo I 2020-09-02 01:05:00 <ipython-input-7-d6a2d1ea5b1b>:14] SOURCE: my arm ! he took my fucking arm ! <---> PREDICTED RESPONSE: i m sorry . you ! ! <---> TARGET: shut up ! you let him have it !\n",
      "[NeMo I 2020-09-02 01:05:00 <ipython-input-7-d6a2d1ea5b1b>:13] Train Loss:2.698125123977661\n",
      "[NeMo I 2020-09-02 01:05:00 <ipython-input-7-d6a2d1ea5b1b>:14] SOURCE: you sure you want to throw that card ? <---> PREDICTED RESPONSE: no . . . . . <---> TARGET: sure .\n",
      "[NeMo I 2020-09-02 01:05:00 <ipython-input-7-d6a2d1ea5b1b>:13] Train Loss:2.569395065307617\n",
      "[NeMo I 2020-09-02 01:05:00 <ipython-input-7-d6a2d1ea5b1b>:14] SOURCE: si . tecate . you like to fight ? <---> PREDICTED RESPONSE: what ? ? ? ? ? <---> TARGET: what ?\n",
      "[NeMo I 2020-09-02 01:05:00 <ipython-input-7-d6a2d1ea5b1b>:13] Train Loss:2.5760085582733154\n",
      "[NeMo I 2020-09-02 01:05:00 <ipython-input-7-d6a2d1ea5b1b>:14] SOURCE: you can t take her away from here ! <---> PREDICTED RESPONSE: i m sorry . you . <---> TARGET: why not ?\n",
      "[NeMo I 2020-09-02 01:05:00 <ipython-input-7-d6a2d1ea5b1b>:13] Train Loss:2.697859764099121\n",
      "[NeMo I 2020-09-02 01:05:00 <ipython-input-7-d6a2d1ea5b1b>:14] SOURCE: you re right . the killer told me . <---> PREDICTED RESPONSE: what ? . . . . <---> TARGET: he didn t tell you either .\n",
      "[NeMo I 2020-09-02 01:05:00 <ipython-input-7-d6a2d1ea5b1b>:13] Train Loss:2.6633336544036865\n",
      "[NeMo I 2020-09-02 01:05:00 <ipython-input-7-d6a2d1ea5b1b>:14] SOURCE: you wanted the truth now you have it . <---> PREDICTED RESPONSE: i m sorry . you . . <---> TARGET: and the other one he is like you ?\n",
      "[NeMo I 2020-09-02 01:05:00 <ipython-input-7-d6a2d1ea5b1b>:13] Train Loss:2.8010425567626953\n",
      "[NeMo I 2020-09-02 01:05:00 <ipython-input-7-d6a2d1ea5b1b>:14] SOURCE: you broke it ? you know the source ? <---> PREDICTED RESPONSE: yeah . . . . . <---> TARGET: practically .\n",
      "[NeMo I 2020-09-02 01:05:00 <ipython-input-7-d6a2d1ea5b1b>:13] Train Loss:2.561318874359131\n",
      "[NeMo I 2020-09-02 01:05:00 <ipython-input-7-d6a2d1ea5b1b>:14] SOURCE: can we get some coffee . . . ? <---> PREDICTED RESPONSE: yeah . . . . . <---> TARGET: how ya doing ?\n",
      "[NeMo I 2020-09-02 01:05:00 <ipython-input-7-d6a2d1ea5b1b>:13] Train Loss:2.602963447570801\n",
      "[NeMo I 2020-09-02 01:05:00 <ipython-input-7-d6a2d1ea5b1b>:14] SOURCE: well i don t know . that depends . <---> PREDICTED RESPONSE: you re not listening . school . . <---> TARGET: on what ?\n",
      "[NeMo I 2020-09-02 01:05:00 <ipython-input-7-d6a2d1ea5b1b>:13] Train Loss:2.7534990310668945\n",
      "[NeMo I 2020-09-02 01:05:00 <ipython-input-7-d6a2d1ea5b1b>:14] SOURCE: did i hear somethin break ? outside left ! <---> PREDICTED RESPONSE: that s not what you mean . . <---> TARGET: fuck you .\n",
      "[NeMo I 2020-09-02 01:05:00 <ipython-input-7-d6a2d1ea5b1b>:13] Train Loss:2.6240923404693604\n",
      "[NeMo I 2020-09-02 01:05:00 <ipython-input-7-d6a2d1ea5b1b>:14] SOURCE: i know i won t be your puppet . <---> PREDICTED RESPONSE: you don t know . . . <---> TARGET: you can go now .\n",
      "[NeMo I 2020-09-02 01:05:00 <ipython-input-7-d6a2d1ea5b1b>:13] Train Loss:2.5880889892578125\n",
      "[NeMo I 2020-09-02 01:05:00 <ipython-input-7-d6a2d1ea5b1b>:14] SOURCE: . . . i was dreaming . . . <---> PREDICTED RESPONSE: you re a little too too . . <---> TARGET: something good ?\n",
      "[NeMo I 2020-09-02 01:05:00 <ipython-input-7-d6a2d1ea5b1b>:13] Train Loss:2.5728626251220703\n",
      "[NeMo I 2020-09-02 01:05:00 <ipython-input-7-d6a2d1ea5b1b>:14] SOURCE: oh my god . it s coming out . <---> PREDICTED RESPONSE: what ? ? ? ? ? <---> TARGET: what ?\n",
      "[NeMo I 2020-09-02 01:05:00 <ipython-input-7-d6a2d1ea5b1b>:13] Train Loss:2.6210741996765137\n",
      "[NeMo I 2020-09-02 01:05:00 <ipython-input-7-d6a2d1ea5b1b>:14] SOURCE: why don t you just go now okay ? <---> PREDICTED RESPONSE: i m not scared . . . <---> TARGET: i told you i m not easily shocked .\n",
      "[NeMo I 2020-09-02 01:05:00 <ipython-input-7-d6a2d1ea5b1b>:13] Train Loss:2.7960546016693115\n",
      "[NeMo I 2020-09-02 01:05:00 <ipython-input-7-d6a2d1ea5b1b>:14] SOURCE: let me go ! i wanna see him ! <---> PREDICTED RESPONSE: you re not going to help me ? ! <---> TARGET: he s not home i tell you !\n",
      "[NeMo I 2020-09-02 01:05:00 <ipython-input-7-d6a2d1ea5b1b>:13] Train Loss:2.5785653591156006\n",
      "[NeMo I 2020-09-02 01:05:00 <ipython-input-7-d6a2d1ea5b1b>:14] SOURCE: of course not . he wouldn t be . <---> PREDICTED RESPONSE: that s not that all . . . <---> TARGET: who ?\n",
      "[NeMo I 2020-09-02 01:05:00 <ipython-input-7-d6a2d1ea5b1b>:13] Train Loss:2.37263560295105\n",
      "[NeMo I 2020-09-02 01:05:00 <ipython-input-7-d6a2d1ea5b1b>:14] SOURCE: anything to get the fuck out of dodge . <---> PREDICTED RESPONSE: you re not listening . him . <---> TARGET: did it hurt ?\n",
      "[NeMo I 2020-09-02 01:05:00 <ipython-input-7-d6a2d1ea5b1b>:13] Train Loss:2.538684606552124\n",
      "[NeMo I 2020-09-02 01:05:00 <ipython-input-7-d6a2d1ea5b1b>:14] SOURCE: no sandro . . . please . . . <---> PREDICTED RESPONSE: what ? . . . . . <---> TARGET: why ?\n",
      "[NeMo I 2020-09-02 01:05:00 <ipython-input-7-d6a2d1ea5b1b>:13] Train Loss:2.609788179397583\n",
      "[NeMo I 2020-09-02 01:05:00 <ipython-input-7-d6a2d1ea5b1b>:14] SOURCE: dan l webster is coming to my party . <---> PREDICTED RESPONSE: i m sorry . s sake ! ! <---> TARGET: dan l webster ?\n",
      "[NeMo I 2020-09-02 01:05:00 <ipython-input-7-d6a2d1ea5b1b>:13] Train Loss:2.4624152183532715\n",
      "[NeMo I 2020-09-02 01:05:00 <ipython-input-7-d6a2d1ea5b1b>:14] SOURCE: read you re a man of some knowledge . <---> PREDICTED RESPONSE: what ? me too ! ! ! <---> TARGET: gabriel !\n",
      "[NeMo I 2020-09-02 01:05:00 <ipython-input-7-d6a2d1ea5b1b>:13] Train Loss:2.4874377250671387\n",
      "[NeMo I 2020-09-02 01:05:00 <ipython-input-7-d6a2d1ea5b1b>:14] SOURCE: ssh . don t want babe to hear . <---> PREDICTED RESPONSE: what s wrong ? ? ? ? <---> TARGET: you re hurting .\n",
      "[NeMo I 2020-09-02 01:05:00 <ipython-input-7-d6a2d1ea5b1b>:13] Train Loss:2.513617515563965\n",
      "[NeMo I 2020-09-02 01:05:00 <ipython-input-7-d6a2d1ea5b1b>:14] SOURCE: i don t know . i suppose so . <---> PREDICTED RESPONSE: why ? you too . . <---> TARGET: about how wealthy would you say ?\n",
      "[NeMo I 2020-09-02 01:05:00 <ipython-input-7-d6a2d1ea5b1b>:13] Train Loss:2.6614151000976562\n",
      "[NeMo I 2020-09-02 01:05:00 <ipython-input-7-d6a2d1ea5b1b>:14] SOURCE: well sure if you are margaret . . . <---> PREDICTED RESPONSE: i m sorry . you later . . <---> TARGET: anyway we want to get this letter off .\n",
      "[NeMo I 2020-09-02 01:05:00 <ipython-input-7-d6a2d1ea5b1b>:13] Train Loss:2.5896899700164795\n",
      "[NeMo I 2020-09-02 01:05:00 <ipython-input-7-d6a2d1ea5b1b>:14] SOURCE: did i ever tell you about my father ? <---> PREDICTED RESPONSE: i don t know . . . <---> TARGET: i don t give a shit about\n",
      "[NeMo I 2020-09-02 01:05:00 <ipython-input-7-d6a2d1ea5b1b>:13] Train Loss:2.726550817489624\n",
      "[NeMo I 2020-09-02 01:05:00 <ipython-input-7-d6a2d1ea5b1b>:14] SOURCE: a bereavement . a death in the family . <---> PREDICTED RESPONSE: no . . . . . <---> TARGET: oh i m sorry to hear that .\n",
      "[NeMo I 2020-09-02 01:05:00 <ipython-input-7-d6a2d1ea5b1b>:13] Train Loss:2.7561655044555664\n",
      "[NeMo I 2020-09-02 01:05:00 <ipython-input-7-d6a2d1ea5b1b>:14] SOURCE: as if your mind s not all there . <---> PREDICTED RESPONSE: what ? it s not . . <---> TARGET: i am sort of scattered .\n",
      "[NeMo I 2020-09-02 01:05:00 <ipython-input-7-d6a2d1ea5b1b>:13] Train Loss:2.661059617996216\n",
      "[NeMo I 2020-09-02 01:05:00 <ipython-input-7-d6a2d1ea5b1b>:14] SOURCE: we seem to have a little problem here ? <---> PREDICTED RESPONSE: what ? ? ? ? ? <---> TARGET: what kind of problem ?\n",
      "[NeMo I 2020-09-02 01:05:00 <ipython-input-7-d6a2d1ea5b1b>:13] Train Loss:2.5358526706695557\n",
      "[NeMo I 2020-09-02 01:05:00 <ipython-input-7-d6a2d1ea5b1b>:14] SOURCE: well not yet . the gate was open ? <---> PREDICTED RESPONSE: i don t know . . . <---> TARGET: it s taken care of .\n",
      "[NeMo I 2020-09-02 01:05:00 <ipython-input-7-d6a2d1ea5b1b>:13] Train Loss:2.451803207397461\n",
      "[NeMo I 2020-09-02 01:05:00 <ipython-input-7-d6a2d1ea5b1b>:14] SOURCE: what do you do on the other days ? <---> PREDICTED RESPONSE: i don t know . . . <---> TARGET: i drink .\n",
      "[NeMo I 2020-09-02 01:05:00 <ipython-input-7-d6a2d1ea5b1b>:13] Train Loss:2.581254243850708\n",
      "[NeMo I 2020-09-02 01:05:00 <ipython-input-7-d6a2d1ea5b1b>:14] SOURCE: i m going to try to do better . <---> PREDICTED RESPONSE: you re not listening . ? ? <---> TARGET: you re doing fine .\n",
      "[NeMo I 2020-09-02 01:05:00 <ipython-input-7-d6a2d1ea5b1b>:13] Train Loss:2.5389046669006348\n",
      "[NeMo I 2020-09-02 01:05:00 <ipython-input-7-d6a2d1ea5b1b>:14] SOURCE: i think this is number three . . . <---> PREDICTED RESPONSE: you re not listening . school . . <---> TARGET: that s an opinion not evidence . . .\n",
      "[NeMo I 2020-09-02 01:05:00 <ipython-input-7-d6a2d1ea5b1b>:13] Train Loss:2.505034923553467\n",
      "[NeMo I 2020-09-02 01:05:00 <ipython-input-7-d6a2d1ea5b1b>:14] SOURCE: win made his choices claire . we all do <---> PREDICTED RESPONSE: i m sorry . day . . <---> TARGET: and i m making mine .\n",
      "[NeMo I 2020-09-02 01:05:00 <ipython-input-7-d6a2d1ea5b1b>:13] Train Loss:2.6704156398773193\n",
      "[NeMo I 2020-09-02 01:05:00 <ipython-input-7-d6a2d1ea5b1b>:14] SOURCE: what are we going to do about this ? <---> PREDICTED RESPONSE: you re not listening . . . <---> TARGET: i ll handle it .\n",
      "[NeMo I 2020-09-02 01:05:00 <ipython-input-7-d6a2d1ea5b1b>:13] Train Loss:2.517519474029541\n",
      "[NeMo I 2020-09-02 01:05:00 <ipython-input-7-d6a2d1ea5b1b>:14] SOURCE: an investigation ? it was a bus accident . <---> PREDICTED RESPONSE: yes sir . up . . . <---> TARGET: he s heard that it s escalated .\n",
      "[NeMo I 2020-09-02 01:05:00 <ipython-input-7-d6a2d1ea5b1b>:13] Train Loss:2.42164945602417\n",
      "[NeMo I 2020-09-02 01:05:00 <ipython-input-7-d6a2d1ea5b1b>:14] SOURCE: he s just parking the governor s car . <---> PREDICTED RESPONSE: i m not scared . . . <---> TARGET: great keep him out of trouble .\n",
      "[NeMo I 2020-09-02 01:05:00 <ipython-input-7-d6a2d1ea5b1b>:13] Train Loss:2.5457615852355957\n",
      "[NeMo I 2020-09-02 01:05:00 <ipython-input-7-d6a2d1ea5b1b>:14] SOURCE: that was quite a thing you did today . <---> PREDICTED RESPONSE: oh . . . . . <---> TARGET: anybody would have done it .\n",
      "[NeMo I 2020-09-02 01:05:00 <ipython-input-7-d6a2d1ea5b1b>:13] Train Loss:2.5597727298736572\n",
      "[NeMo I 2020-09-02 01:05:00 <ipython-input-7-d6a2d1ea5b1b>:14] SOURCE: dem white boys giving you a hard time ? <---> PREDICTED RESPONSE: i don t know . . . <---> TARGET: nuthin i can t handle .\n",
      "[NeMo I 2020-09-02 01:05:00 <ipython-input-7-d6a2d1ea5b1b>:13] Train Loss:2.5903215408325195\n",
      "[NeMo I 2020-09-02 01:05:00 <ipython-input-7-d6a2d1ea5b1b>:14] SOURCE: i m not sure he s a lunatic . <---> PREDICTED RESPONSE: you re not listening . you ? <---> TARGET: well what would you call him .\n",
      "[NeMo I 2020-09-02 01:05:00 <ipython-input-7-d6a2d1ea5b1b>:13] Train Loss:2.566288471221924\n",
      "[NeMo I 2020-09-02 01:05:00 <ipython-input-7-d6a2d1ea5b1b>:14] SOURCE: no sir ! we have genesis whatever you want <---> PREDICTED RESPONSE: i m sorry . you . . <---> TARGET: u full power damn you u !\n",
      "[NeMo I 2020-09-02 01:05:00 <ipython-input-7-d6a2d1ea5b1b>:13] Train Loss:2.4753258228302\n",
      "[NeMo I 2020-09-02 01:05:00 <ipython-input-7-d6a2d1ea5b1b>:14] SOURCE: bobby you re in way over your head . <---> PREDICTED RESPONSE: i m sorry . you . <---> TARGET: go to em jerry .\n",
      "[NeMo I 2020-09-02 01:05:00 <ipython-input-7-d6a2d1ea5b1b>:13] Train Loss:2.522278070449829\n",
      "[NeMo I 2020-09-02 01:05:00 <ipython-input-7-d6a2d1ea5b1b>:14] SOURCE: we seem to have a little problem here ? <---> PREDICTED RESPONSE: what ? ? ? ? ? <---> TARGET: what kind of problem ?\n",
      "[NeMo I 2020-09-02 01:05:00 <ipython-input-7-d6a2d1ea5b1b>:13] Train Loss:2.448103427886963\n",
      "[NeMo I 2020-09-02 01:05:00 <ipython-input-7-d6a2d1ea5b1b>:14] SOURCE: . . .that the prey can bite back . <---> PREDICTED RESPONSE: what ? you know . . . <---> TARGET: let me have those .\n",
      "[NeMo I 2020-09-02 01:05:00 <ipython-input-7-d6a2d1ea5b1b>:13] Train Loss:2.4934675693511963\n",
      "[NeMo I 2020-09-02 01:05:00 <ipython-input-7-d6a2d1ea5b1b>:14] SOURCE: we ll keep a watch on the house . <---> PREDICTED RESPONSE: you can t . . . . <---> TARGET: as best we can .\n",
      "[NeMo I 2020-09-02 01:05:00 <ipython-input-7-d6a2d1ea5b1b>:13] Train Loss:2.5457513332366943\n",
      "[NeMo I 2020-09-02 01:05:00 <ipython-input-7-d6a2d1ea5b1b>:14] SOURCE: to make a gentleman out of a tramp ? <---> PREDICTED RESPONSE: that s right . . . . <---> TARGET: exactly .\n",
      "[NeMo I 2020-09-02 01:05:00 <ipython-input-7-d6a2d1ea5b1b>:13] Train Loss:2.4790186882019043\n",
      "[NeMo I 2020-09-02 01:05:00 <ipython-input-7-d6a2d1ea5b1b>:14] SOURCE: have you got the speech i gave you ? <---> PREDICTED RESPONSE: yes . . . . . <---> TARGET: yeah .\n",
      "[NeMo I 2020-09-02 01:05:00 <ipython-input-7-d6a2d1ea5b1b>:13] Train Loss:2.412334680557251\n",
      "[NeMo I 2020-09-02 01:05:00 <ipython-input-7-d6a2d1ea5b1b>:14] SOURCE: it s about to work just come on . <---> PREDICTED RESPONSE: i m sorry . . . . <---> TARGET: what about the dog ?\n",
      "[NeMo I 2020-09-02 01:05:00 <ipython-input-7-d6a2d1ea5b1b>:13] Train Loss:2.5726094245910645\n",
      "[NeMo I 2020-09-02 01:05:00 <ipython-input-7-d6a2d1ea5b1b>:14] SOURCE: well if it s all the same to you <---> PREDICTED RESPONSE: i m sorry . you . . <---> TARGET: i know . it s violet .\n",
      "[NeMo I 2020-09-02 01:05:00 <ipython-input-7-d6a2d1ea5b1b>:13] Train Loss:2.6222126483917236\n",
      "[NeMo I 2020-09-02 01:05:00 <ipython-input-7-d6a2d1ea5b1b>:14] SOURCE: is that so ? you might marry me ? <---> PREDICTED RESPONSE: yes . . . . . <---> TARGET: yes .\n",
      "[NeMo I 2020-09-02 01:05:00 <ipython-input-7-d6a2d1ea5b1b>:13] Train Loss:2.680408477783203\n",
      "[NeMo I 2020-09-02 01:05:00 <ipython-input-7-d6a2d1ea5b1b>:14] SOURCE: it shouldn t make any difference what happened . <---> PREDICTED RESPONSE: i m sorry . you . . <---> TARGET: that s quite a statement .\n",
      "[NeMo I 2020-09-02 01:05:00 <ipython-input-7-d6a2d1ea5b1b>:13] Train Loss:2.7064647674560547\n",
      "[NeMo I 2020-09-02 01:05:00 <ipython-input-7-d6a2d1ea5b1b>:14] SOURCE: paul could pop the question at any time . <---> PREDICTED RESPONSE: what ? ? ? ? ? <---> TARGET: mom please .\n",
      "[NeMo I 2020-09-02 01:05:00 <ipython-input-7-d6a2d1ea5b1b>:13] Train Loss:2.5934653282165527\n",
      "[NeMo I 2020-09-02 01:05:00 <ipython-input-7-d6a2d1ea5b1b>:14] SOURCE: i m thinking of going back to school . <---> PREDICTED RESPONSE: how much ? ? ? ? <---> TARGET: social work ?\n",
      "[NeMo I 2020-09-02 01:05:00 <ipython-input-7-d6a2d1ea5b1b>:13] Train Loss:2.537815809249878\n",
      "[NeMo I 2020-09-02 01:05:00 <ipython-input-7-d6a2d1ea5b1b>:14] SOURCE: i believe we re being called to dinner . <---> PREDICTED RESPONSE: you re not listening . s . <---> TARGET: finally !\n",
      "[NeMo I 2020-09-02 01:05:00 <ipython-input-7-d6a2d1ea5b1b>:13] Train Loss:2.588233709335327\n",
      "[NeMo I 2020-09-02 01:05:00 <ipython-input-7-d6a2d1ea5b1b>:14] SOURCE: oh yeah you gotta start making the list . <---> PREDICTED RESPONSE: what s wrong ? ? ? ? <---> TARGET: what list ?\n",
      "[NeMo I 2020-09-02 01:05:00 <ipython-input-7-d6a2d1ea5b1b>:13] Train Loss:2.552557945251465\n",
      "[NeMo I 2020-09-02 01:05:00 <ipython-input-7-d6a2d1ea5b1b>:14] SOURCE: i m afraid you have to eat something . <---> PREDICTED RESPONSE: i m not sure . . . <---> TARGET: please really . i m not hungry .\n",
      "[NeMo I 2020-09-02 01:05:00 <ipython-input-7-d6a2d1ea5b1b>:13] Train Loss:2.4753668308258057\n",
      "[NeMo I 2020-09-02 01:05:00 <ipython-input-7-d6a2d1ea5b1b>:14] SOURCE: it was a condition of getting doug out . <---> PREDICTED RESPONSE: what ? it ! ! ! <---> TARGET: what are you talking about ?\n",
      "[NeMo I 2020-09-02 01:05:00 <ipython-input-7-d6a2d1ea5b1b>:13] Train Loss:2.5103678703308105\n",
      "[NeMo I 2020-09-02 01:05:00 <ipython-input-7-d6a2d1ea5b1b>:14] SOURCE: i see . the verdict yes . . . <---> PREDICTED RESPONSE: you re a little idiot . . . <---> TARGET: wait this isn t fair . . .\n",
      "[NeMo I 2020-09-02 01:05:00 <ipython-input-7-d6a2d1ea5b1b>:13] Train Loss:2.5060222148895264\n",
      "[NeMo I 2020-09-02 01:05:00 <ipython-input-7-d6a2d1ea5b1b>:14] SOURCE: ben i m afraid i ve got to ask <---> PREDICTED RESPONSE: you re not listening to me ! <---> TARGET: not unless you want that clipboard stretched up your\n",
      "[NeMo I 2020-09-02 01:05:00 <ipython-input-7-d6a2d1ea5b1b>:13] Train Loss:2.3465664386749268\n",
      "[NeMo I 2020-09-02 01:05:00 <ipython-input-7-d6a2d1ea5b1b>:14] SOURCE: how d i know he had a knife . <---> PREDICTED RESPONSE: he s a half too . . . <---> TARGET: never trust a nigger .\n",
      "[NeMo I 2020-09-02 01:05:00 <ipython-input-7-d6a2d1ea5b1b>:13] Train Loss:2.508768320083618\n",
      "[NeMo I 2020-09-02 01:05:00 <ipython-input-7-d6a2d1ea5b1b>:14] SOURCE: mrs . benson this is mr . brady . <---> PREDICTED RESPONSE: yes . s romantic . . . <---> TARGET: mr . brady s a cop .\n",
      "[NeMo I 2020-09-02 01:05:00 <ipython-input-7-d6a2d1ea5b1b>:13] Train Loss:2.4635403156280518\n",
      "[NeMo I 2020-09-02 01:05:00 <ipython-input-7-d6a2d1ea5b1b>:14] SOURCE: uh his birthday uh may . i think . <---> PREDICTED RESPONSE: he s not here . . . <---> TARGET: it s november .\n",
      "[NeMo I 2020-09-02 01:05:00 <ipython-input-7-d6a2d1ea5b1b>:13] Train Loss:2.4929721355438232\n",
      "[NeMo I 2020-09-02 01:05:00 <ipython-input-7-d6a2d1ea5b1b>:14] SOURCE: shit . i meant the other way around . <---> PREDICTED RESPONSE: what ? ? ? ? ? <---> TARGET: well the studio told me not to .\n",
      "[NeMo I 2020-09-02 01:05:00 <ipython-input-7-d6a2d1ea5b1b>:13] Train Loss:2.526616096496582\n",
      "[NeMo I 2020-09-02 01:05:00 <ipython-input-7-d6a2d1ea5b1b>:14] SOURCE: do you want me to sleep on it ? <---> PREDICTED RESPONSE: i don t know . . . <---> TARGET: no .\n",
      "[NeMo I 2020-09-02 01:05:00 <ipython-input-7-d6a2d1ea5b1b>:13] Train Loss:2.37394118309021\n",
      "[NeMo I 2020-09-02 01:05:00 <ipython-input-7-d6a2d1ea5b1b>:14] SOURCE: how do you get out of the house ? <---> PREDICTED RESPONSE: i don t know . . . <---> TARGET: i walk out .\n",
      "[NeMo I 2020-09-02 01:05:00 <ipython-input-7-d6a2d1ea5b1b>:13] Train Loss:2.6102206707000732\n",
      "[NeMo I 2020-09-02 01:05:00 <ipython-input-7-d6a2d1ea5b1b>:14] SOURCE: i think now that he might . . . <---> PREDICTED RESPONSE: you don t know . . . <---> TARGET: why ?\n",
      "[NeMo I 2020-09-02 01:05:00 <ipython-input-7-d6a2d1ea5b1b>:13] Train Loss:2.5308687686920166\n",
      "[NeMo I 2020-09-02 01:05:00 <ipython-input-7-d6a2d1ea5b1b>:14] SOURCE: you killed them huh ? both of them ? <---> PREDICTED RESPONSE: that s right . . . . <---> TARGET: such nice boys ! it makes me sick to\n",
      "[NeMo I 2020-09-02 01:05:00 <ipython-input-7-d6a2d1ea5b1b>:13] Train Loss:2.4703638553619385\n",
      "[NeMo I 2020-09-02 01:05:00 <ipython-input-7-d6a2d1ea5b1b>:14] SOURCE: what s she got to do with it ? <---> PREDICTED RESPONSE: you know what she said . . . <---> TARGET: she s going with me .\n",
      "[NeMo I 2020-09-02 01:05:00 <ipython-input-7-d6a2d1ea5b1b>:13] Train Loss:2.7215325832366943\n",
      "[NeMo I 2020-09-02 01:05:00 <ipython-input-7-d6a2d1ea5b1b>:14] SOURCE: what is it ? what s the matter ? <---> PREDICTED RESPONSE: i m not . . . . <---> TARGET: mike s out there .\n",
      "[NeMo I 2020-09-02 01:05:00 <ipython-input-7-d6a2d1ea5b1b>:13] Train Loss:2.3721277713775635\n",
      "[NeMo I 2020-09-02 01:05:00 <ipython-input-7-d6a2d1ea5b1b>:14] SOURCE: look kind o natural don t they fred ? <---> PREDICTED RESPONSE: i don t know . . . <---> TARGET: a sight for sore eyes !\n",
      "[NeMo I 2020-09-02 01:05:00 <ipython-input-7-d6a2d1ea5b1b>:13] Train Loss:2.390944242477417\n",
      "[NeMo I 2020-09-02 01:05:00 <ipython-input-7-d6a2d1ea5b1b>:14] SOURCE: because i took it out of your memory . <---> PREDICTED RESPONSE: you re a good friend . . . <---> TARGET: why\n",
      "[NeMo I 2020-09-02 01:05:00 <ipython-input-7-d6a2d1ea5b1b>:13] Train Loss:2.5730226039886475\n",
      "[NeMo I 2020-09-02 01:05:00 <ipython-input-7-d6a2d1ea5b1b>:14] SOURCE: i bet . going into people s homes . <---> PREDICTED RESPONSE: you re not going to help me ? . <---> TARGET: it s a living .\n",
      "[NeMo I 2020-09-02 01:05:00 <ipython-input-7-d6a2d1ea5b1b>:13] Train Loss:2.4521541595458984\n",
      "[NeMo I 2020-09-02 01:05:00 <ipython-input-7-d6a2d1ea5b1b>:14] SOURCE: we ve cracked it . lunacharsky found it . <---> PREDICTED RESPONSE: you re not listening . ? ? <---> TARGET: you mean\n",
      "[NeMo I 2020-09-02 01:05:00 <ipython-input-7-d6a2d1ea5b1b>:13] Train Loss:2.383854389190674\n",
      "[NeMo I 2020-09-02 01:05:00 <ipython-input-7-d6a2d1ea5b1b>:14] SOURCE: but you were saying you were . . . <---> PREDICTED RESPONSE: i m not . . . . . <---> TARGET: yes !\n",
      "[NeMo I 2020-09-02 01:05:00 <ipython-input-7-d6a2d1ea5b1b>:13] Train Loss:2.4982223510742188\n",
      "[NeMo I 2020-09-02 01:05:00 <ipython-input-7-d6a2d1ea5b1b>:14] SOURCE: well what am i supposed to call you ? <---> PREDICTED RESPONSE: you re a little in the house . . <---> TARGET: that s besides the point .\n",
      "[NeMo I 2020-09-02 01:05:00 <ipython-input-7-d6a2d1ea5b1b>:13] Train Loss:2.3176774978637695\n",
      "[NeMo I 2020-09-02 01:05:00 <ipython-input-7-d6a2d1ea5b1b>:14] SOURCE: yes i am her brother he s the son <---> PREDICTED RESPONSE: i m not . . . . <---> TARGET: just a minute .\n",
      "[NeMo I 2020-09-02 01:05:00 <ipython-input-7-d6a2d1ea5b1b>:13] Train Loss:2.4650607109069824\n",
      "[NeMo I 2020-09-02 01:05:00 <ipython-input-7-d6a2d1ea5b1b>:14] SOURCE: do you think ? maybe we should call someone <---> PREDICTED RESPONSE: i m sorry . . . <---> TARGET: the phone s out .\n",
      "[NeMo I 2020-09-02 01:05:00 <ipython-input-7-d6a2d1ea5b1b>:13] Train Loss:2.4431118965148926\n",
      "[NeMo I 2020-09-02 01:05:00 <ipython-input-7-d6a2d1ea5b1b>:14] SOURCE: for as long as you ll let me . <---> PREDICTED RESPONSE: i m sorry . . . . <---> TARGET: i shall want you for always .\n",
      "[NeMo I 2020-09-02 01:05:00 <ipython-input-7-d6a2d1ea5b1b>:13] Train Loss:2.488755226135254\n",
      "[NeMo I 2020-09-02 01:05:00 <ipython-input-7-d6a2d1ea5b1b>:14] SOURCE: sorry honey he just happened to tag along . <---> PREDICTED RESPONSE: oh . . . . . <---> TARGET: nothing ever really changes does it david ?\n",
      "[NeMo I 2020-09-02 01:05:00 <ipython-input-7-d6a2d1ea5b1b>:13] Train Loss:2.327744960784912\n",
      "[NeMo I 2020-09-02 01:05:00 <ipython-input-7-d6a2d1ea5b1b>:14] SOURCE: engaged ? as in you re getting married ? <---> PREDICTED RESPONSE: yeah . . . . . <---> TARGET: affirmative .\n",
      "[NeMo I 2020-09-02 01:05:00 <ipython-input-7-d6a2d1ea5b1b>:13] Train Loss:2.498739242553711\n",
      "[NeMo I 2020-09-02 01:05:00 <ipython-input-7-d6a2d1ea5b1b>:14] SOURCE: okay chief . what s my next assignment . <---> PREDICTED RESPONSE: you re a good teacher . . . <---> TARGET: to get on home .\n",
      "[NeMo I 2020-09-02 01:05:00 <ipython-input-7-d6a2d1ea5b1b>:13] Train Loss:2.479701280593872\n",
      "[NeMo I 2020-09-02 01:05:00 <ipython-input-7-d6a2d1ea5b1b>:14] SOURCE: you just haven t met the right person . <---> PREDICTED RESPONSE: i m not . . . . <---> TARGET: no . i haven t . have you ?\n",
      "[NeMo I 2020-09-02 01:05:00 <ipython-input-7-d6a2d1ea5b1b>:13] Train Loss:2.385472536087036\n",
      "[NeMo I 2020-09-02 01:05:00 <ipython-input-7-d6a2d1ea5b1b>:14] SOURCE: easy your worship . only trying to help . <---> PREDICTED RESPONSE: what ? it s not . . <---> TARGET: would you please stop calling me that ?\n",
      "[NeMo I 2020-09-02 01:05:00 <ipython-input-7-d6a2d1ea5b1b>:13] Train Loss:2.5627694129943848\n",
      "[NeMo I 2020-09-02 01:05:00 <ipython-input-7-d6a2d1ea5b1b>:14] SOURCE: i brought it to you in the hospital . <---> PREDICTED RESPONSE: you re not listening . you ? <---> TARGET: no you didn t .\n",
      "[NeMo I 2020-09-02 01:05:00 <ipython-input-7-d6a2d1ea5b1b>:13] Train Loss:2.289440870285034\n",
      "[NeMo I 2020-09-02 01:05:00 <ipython-input-7-d6a2d1ea5b1b>:14] SOURCE: you don t celebrate til it s over . <---> PREDICTED RESPONSE: i m sorry . you . . <---> TARGET: true .\n",
      "[NeMo I 2020-09-02 01:05:00 <ipython-input-7-d6a2d1ea5b1b>:13] Train Loss:2.3463337421417236\n",
      "[NeMo I 2020-09-02 01:05:00 <ipython-input-7-d6a2d1ea5b1b>:14] SOURCE: it s not just inner beauty is it ? <---> PREDICTED RESPONSE: i m not . . . . <---> TARGET: turn around .\n",
      "[NeMo I 2020-09-02 01:05:00 <ipython-input-7-d6a2d1ea5b1b>:13] Train Loss:2.387998580932617\n",
      "[NeMo I 2020-09-02 01:05:00 <ipython-input-7-d6a2d1ea5b1b>:14] SOURCE: just meet with the boy once a week . <---> PREDICTED RESPONSE: i m not scared . . . <---> TARGET: can we do it at my office ?\n",
      "[NeMo I 2020-09-02 01:05:00 <ipython-input-7-d6a2d1ea5b1b>:13] Train Loss:2.333519697189331\n",
      "[NeMo I 2020-09-02 01:05:00 <ipython-input-7-d6a2d1ea5b1b>:14] SOURCE: no . no problem . the airport right ? <---> PREDICTED RESPONSE: yes . . . . . <---> TARGET: right .\n",
      "[NeMo I 2020-09-02 01:05:00 <ipython-input-7-d6a2d1ea5b1b>:13] Train Loss:2.235715627670288\n",
      "[NeMo I 2020-09-02 01:05:00 <ipython-input-7-d6a2d1ea5b1b>:14] SOURCE: you they cannot believe you re still here . <---> PREDICTED RESPONSE: nonsense . . . . . <---> TARGET: nonsense .\n",
      "[NeMo I 2020-09-02 01:05:00 <ipython-input-7-d6a2d1ea5b1b>:13] Train Loss:2.3852474689483643\n",
      "[NeMo I 2020-09-02 01:05:00 <ipython-input-7-d6a2d1ea5b1b>:14] SOURCE: because if you do i ll kill you ! <---> PREDICTED RESPONSE: i m sorry . you too . . <---> TARGET: okay . . . i promise .\n",
      "[NeMo I 2020-09-02 01:05:00 <ipython-input-7-d6a2d1ea5b1b>:13] Train Loss:2.3580758571624756\n",
      "[NeMo I 2020-09-02 01:05:00 <ipython-input-7-d6a2d1ea5b1b>:14] SOURCE: bullshit ! don t make me use this . <---> PREDICTED RESPONSE: i m sorry . you . . <---> TARGET: jesus .\n",
      "[NeMo I 2020-09-02 01:05:00 <ipython-input-7-d6a2d1ea5b1b>:13] Train Loss:2.3627166748046875\n",
      "[NeMo I 2020-09-02 01:05:00 <ipython-input-7-d6a2d1ea5b1b>:14] SOURCE: so what were you fucking around for then ? <---> PREDICTED RESPONSE: i m not scared . . . <---> TARGET: you fuckers set me up . that bitch\n",
      "[NeMo I 2020-09-02 01:05:00 <ipython-input-7-d6a2d1ea5b1b>:13] Train Loss:2.334221601486206\n",
      "[NeMo I 2020-09-02 01:05:00 <ipython-input-7-d6a2d1ea5b1b>:14] SOURCE: not a real fan of halloween humor will . <---> PREDICTED RESPONSE: what ? ? ? ? ? <---> TARGET: oh right . sorry .\n",
      "[NeMo I 2020-09-02 01:05:00 <ipython-input-7-d6a2d1ea5b1b>:13] Train Loss:2.332007646560669\n",
      "[NeMo I 2020-09-02 01:05:00 <ipython-input-7-d6a2d1ea5b1b>:14] SOURCE: what did you do to end up here ? <---> PREDICTED RESPONSE: i don t know . . . <---> TARGET: i believe it s in my file sir .\n",
      "[NeMo I 2020-09-02 01:05:00 <ipython-input-7-d6a2d1ea5b1b>:13] Train Loss:2.268824338912964\n",
      "[NeMo I 2020-09-02 01:05:00 <ipython-input-7-d6a2d1ea5b1b>:14] SOURCE: oh no . . .did you say rio ? <---> PREDICTED RESPONSE: no . . . . . <---> TARGET: no . yes ?\n",
      "[NeMo I 2020-09-02 01:05:00 <ipython-input-7-d6a2d1ea5b1b>:13] Train Loss:2.321805953979492\n",
      "[NeMo I 2020-09-02 01:05:00 <ipython-input-7-d6a2d1ea5b1b>:14] SOURCE: this isn t working out for me anymore . <---> PREDICTED RESPONSE: yeah . . . . . <---> TARGET: yeah me neither .\n",
      "[NeMo I 2020-09-02 01:05:00 <ipython-input-7-d6a2d1ea5b1b>:13] Train Loss:2.163471221923828\n",
      "[NeMo I 2020-09-02 01:05:00 <ipython-input-7-d6a2d1ea5b1b>:14] SOURCE: si . tecate . you like to fight ? <---> PREDICTED RESPONSE: what ? ? ? ? ? <---> TARGET: what ?\n",
      "[NeMo I 2020-09-02 01:05:00 <ipython-input-7-d6a2d1ea5b1b>:13] Train Loss:2.21271014213562\n",
      "[NeMo I 2020-09-02 01:05:00 <ipython-input-7-d6a2d1ea5b1b>:14] SOURCE: brad ! have mom or dad seen this ? <---> PREDICTED RESPONSE: they re not scared . . . <---> TARGET: they re not home yet .\n",
      "[NeMo I 2020-09-02 01:05:00 <ipython-input-7-d6a2d1ea5b1b>:13] Train Loss:2.2234439849853516\n",
      "[NeMo I 2020-09-02 01:05:00 <ipython-input-7-d6a2d1ea5b1b>:14] SOURCE: rachel can i go get my costume on ? <---> PREDICTED RESPONSE: yeah . . . . . <---> TARGET: yeah hurry up .\n",
      "[NeMo I 2020-09-02 01:05:00 <ipython-input-7-d6a2d1ea5b1b>:13] Train Loss:2.2952208518981934\n",
      "[NeMo I 2020-09-02 01:05:00 <ipython-input-7-d6a2d1ea5b1b>:14] SOURCE: where is this cave he s talking about ? <---> PREDICTED RESPONSE: he s taking a half . . . <---> TARGET: beyond the stream . i think i know .\n",
      "[NeMo I 2020-09-02 01:05:00 <ipython-input-7-d6a2d1ea5b1b>:13] Train Loss:2.3300979137420654\n",
      "[NeMo I 2020-09-02 01:05:00 <ipython-input-7-d6a2d1ea5b1b>:14] SOURCE: the whole summer man . party in tahoe . <---> PREDICTED RESPONSE: i m not . . . . <---> TARGET: i don t know .\n",
      "[NeMo I 2020-09-02 01:05:00 <ipython-input-7-d6a2d1ea5b1b>:13] Train Loss:2.2997608184814453\n",
      "[NeMo I 2020-09-02 01:05:00 <ipython-input-7-d6a2d1ea5b1b>:14] SOURCE: your mother won t be going right away charles <---> PREDICTED RESPONSE: i m sorry . . <---> TARGET: where m i going ?\n",
      "[NeMo I 2020-09-02 01:05:00 <ipython-input-7-d6a2d1ea5b1b>:13] Train Loss:2.328279733657837\n",
      "[NeMo I 2020-09-02 01:05:00 <ipython-input-7-d6a2d1ea5b1b>:14] SOURCE: i understand . i ll go with you . <---> PREDICTED RESPONSE: you re not listening . school . . <---> TARGET: thanks .\n",
      "[NeMo I 2020-09-02 01:05:00 <ipython-input-7-d6a2d1ea5b1b>:13] Train Loss:2.3541769981384277\n",
      "[NeMo I 2020-09-02 01:05:00 <ipython-input-7-d6a2d1ea5b1b>:14] SOURCE: frank . . . the giant bunny rabbit ? <---> PREDICTED RESPONSE: i m here . . . . <---> TARGET: frank ?\n",
      "[NeMo I 2020-09-02 01:05:00 <ipython-input-7-d6a2d1ea5b1b>:13] Train Loss:2.283353328704834\n",
      "[NeMo I 2020-09-02 01:05:00 <ipython-input-7-d6a2d1ea5b1b>:14] SOURCE: you seem to have an answer for everything . <---> PREDICTED RESPONSE: what ? ? ? ? ? <---> TARGET: something wrong with that ?\n",
      "[NeMo I 2020-09-02 01:05:00 <ipython-input-7-d6a2d1ea5b1b>:13] Train Loss:2.2325291633605957\n",
      "[NeMo I 2020-09-02 01:05:00 <ipython-input-7-d6a2d1ea5b1b>:14] SOURCE: doesn t look anything like her to me . <---> PREDICTED RESPONSE: oh . . . . . <---> TARGET: pictures don t lie .\n",
      "[NeMo I 2020-09-02 01:05:00 <ipython-input-7-d6a2d1ea5b1b>:13] Train Loss:2.212916851043701\n",
      "[NeMo I 2020-09-02 01:05:00 <ipython-input-7-d6a2d1ea5b1b>:14] SOURCE: did i ever tell you about my father ? <---> PREDICTED RESPONSE: i don t know . . . <---> TARGET: i don t give a shit about\n",
      "[NeMo I 2020-09-02 01:05:00 <ipython-input-7-d6a2d1ea5b1b>:13] Train Loss:2.3662686347961426\n",
      "[NeMo I 2020-09-02 01:05:00 <ipython-input-7-d6a2d1ea5b1b>:14] SOURCE: yeah yeah hurry up . zuzu s sick . <---> PREDICTED RESPONSE: what s wrong ? ? ? ? <---> TARGET: all right .\n",
      "[NeMo I 2020-09-02 01:05:00 <ipython-input-7-d6a2d1ea5b1b>:13] Train Loss:2.309223175048828\n",
      "[NeMo I 2020-09-02 01:05:00 <ipython-input-7-d6a2d1ea5b1b>:14] SOURCE: no i don t want to be rude . <---> PREDICTED RESPONSE: you re not listening . you . <---> TARGET: well then sit down .\n",
      "[NeMo I 2020-09-02 01:05:00 <ipython-input-7-d6a2d1ea5b1b>:13] Train Loss:2.1010539531707764\n",
      "[NeMo I 2020-09-02 01:05:00 <ipython-input-7-d6a2d1ea5b1b>:14] SOURCE: hi i m bob woodward of the post and <---> PREDICTED RESPONSE: yes sir . ! ! ! <---> TARGET: yes yes what is it ?\n",
      "[NeMo I 2020-09-02 01:05:00 <ipython-input-7-d6a2d1ea5b1b>:13] Train Loss:2.2065255641937256\n",
      "[NeMo I 2020-09-02 01:05:00 <ipython-input-7-d6a2d1ea5b1b>:14] SOURCE: we can t pretend this isn t happening . <---> PREDICTED RESPONSE: i m not . . . . <---> TARGET: please not now .\n",
      "[NeMo I 2020-09-02 01:05:00 <ipython-input-7-d6a2d1ea5b1b>:13] Train Loss:2.1403262615203857\n",
      "[NeMo I 2020-09-02 01:05:00 <ipython-input-7-d6a2d1ea5b1b>:14] SOURCE: my name s salvatore . . .and yours ? <---> PREDICTED RESPONSE: yes . s elena . . . <---> TARGET: elena . my name s elena .\n",
      "[NeMo I 2020-09-02 01:05:00 <ipython-input-7-d6a2d1ea5b1b>:13] Train Loss:2.299103260040283\n",
      "[NeMo I 2020-09-02 01:05:00 <ipython-input-7-d6a2d1ea5b1b>:14] SOURCE: i ll always go back to that church . <---> PREDICTED RESPONSE: you re a good teacher . . . <---> TARGET: so one day we ll meet .\n",
      "[NeMo I 2020-09-02 01:05:00 <ipython-input-7-d6a2d1ea5b1b>:13] Train Loss:2.2252047061920166\n",
      "[NeMo I 2020-09-02 01:05:00 <ipython-input-7-d6a2d1ea5b1b>:14] SOURCE: for the same reason you did to help . <---> PREDICTED RESPONSE: no . . . . . <---> TARGET: yeah let s go .\n",
      "[NeMo I 2020-09-02 01:05:00 <ipython-input-7-d6a2d1ea5b1b>:13] Train Loss:2.163417100906372\n",
      "[NeMo I 2020-09-02 01:05:00 <ipython-input-7-d6a2d1ea5b1b>:14] SOURCE: no sir ! we have genesis whatever you want <---> PREDICTED RESPONSE: i m sorry . you . . <---> TARGET: u full power damn you u !\n",
      "[NeMo I 2020-09-02 01:05:00 <ipython-input-7-d6a2d1ea5b1b>:13] Train Loss:2.2119531631469727\n",
      "[NeMo I 2020-09-02 01:05:00 <ipython-input-7-d6a2d1ea5b1b>:14] SOURCE: thank god thank god i ve got you . <---> PREDICTED RESPONSE: i m sorry . you . . <---> TARGET: who is this ?\n",
      "[NeMo I 2020-09-02 01:05:00 <ipython-input-7-d6a2d1ea5b1b>:13] Train Loss:2.1758787631988525\n",
      "[NeMo I 2020-09-02 01:05:00 <ipython-input-7-d6a2d1ea5b1b>:14] SOURCE: that s a picture of me in japan . <---> PREDICTED RESPONSE: you re not listening to me ? ? <---> TARGET: you been to japan ?\n",
      "[NeMo I 2020-09-02 01:05:00 <ipython-input-7-d6a2d1ea5b1b>:13] Train Loss:2.1238298416137695\n",
      "[NeMo I 2020-09-02 01:05:00 <ipython-input-7-d6a2d1ea5b1b>:14] SOURCE: nothing . i just prefer the other one . <---> PREDICTED RESPONSE: you re not listening . . <---> TARGET: bullshit .\n",
      "[NeMo I 2020-09-02 01:05:00 <ipython-input-7-d6a2d1ea5b1b>:13] Train Loss:2.1383869647979736\n",
      "[NeMo I 2020-09-02 01:05:00 <ipython-input-7-d6a2d1ea5b1b>:14] SOURCE: mr . sulu . . . the shields ! <---> PREDICTED RESPONSE: what s wrong ? ! ! ! <---> TARGET: trying sir !\n",
      "[NeMo I 2020-09-02 01:05:00 <ipython-input-7-d6a2d1ea5b1b>:13] Train Loss:2.0817291736602783\n",
      "[NeMo I 2020-09-02 01:05:00 <ipython-input-7-d6a2d1ea5b1b>:14] SOURCE: it s alright it s cool . . . <---> PREDICTED RESPONSE: what ? ? ? ? ? <---> TARGET: is it still moving ?\n",
      "[NeMo I 2020-09-02 01:05:00 <ipython-input-7-d6a2d1ea5b1b>:13] Train Loss:1.9951577186584473\n",
      "[NeMo I 2020-09-02 01:05:00 <ipython-input-7-d6a2d1ea5b1b>:14] SOURCE: tomorrow at the gym . don t forget . <---> PREDICTED RESPONSE: i m sorry . you . . <---> TARGET: right the gym .\n",
      "[NeMo I 2020-09-02 01:05:00 <ipython-input-7-d6a2d1ea5b1b>:13] Train Loss:2.227510452270508\n",
      "[NeMo I 2020-09-02 01:05:00 <ipython-input-7-d6a2d1ea5b1b>:14] SOURCE: but then i won t need your money . <---> PREDICTED RESPONSE: no . . . . . <---> TARGET: that s right .\n",
      "[NeMo I 2020-09-02 01:05:00 <ipython-input-7-d6a2d1ea5b1b>:13] Train Loss:2.137307643890381\n",
      "[NeMo I 2020-09-02 01:05:00 <ipython-input-7-d6a2d1ea5b1b>:14] SOURCE: and i really wanted some ice cream too . <---> PREDICTED RESPONSE: i m sorry . you . . <---> TARGET: i can run out and get it .\n",
      "[NeMo I 2020-09-02 01:05:00 <ipython-input-7-d6a2d1ea5b1b>:13] Train Loss:2.1579177379608154\n",
      "[NeMo I 2020-09-02 01:05:00 <ipython-input-7-d6a2d1ea5b1b>:14] SOURCE: i was hoping i might be your friend . <---> PREDICTED RESPONSE: you re a half in the house . ? <---> TARGET: my u friend u .\n",
      "[NeMo I 2020-09-02 01:05:00 <ipython-input-7-d6a2d1ea5b1b>:13] Train Loss:2.1329188346862793\n",
      "[NeMo I 2020-09-02 01:05:00 <ipython-input-7-d6a2d1ea5b1b>:14] SOURCE: i didn t get on cathy last night . <---> PREDICTED RESPONSE: you re not listening . you ? <---> TARGET: why not ?\n",
      "[NeMo I 2020-09-02 01:05:00 <ipython-input-7-d6a2d1ea5b1b>:13] Train Loss:2.3834731578826904\n",
      "[NeMo I 2020-09-02 01:05:00 <ipython-input-7-d6a2d1ea5b1b>:14] SOURCE: saved a lot of folk from the railroad . <---> PREDICTED RESPONSE: that s not a lot of time . <---> TARGET: but he killed a lot of men too .\n",
      "[NeMo I 2020-09-02 01:05:00 <ipython-input-7-d6a2d1ea5b1b>:13] Train Loss:2.2533297538757324\n",
      "[NeMo I 2020-09-02 01:05:00 <ipython-input-7-d6a2d1ea5b1b>:14] SOURCE: you re from santa maria mr . watson ? <---> PREDICTED RESPONSE: yes . s over . . . <---> TARGET: yes .\n",
      "[NeMo I 2020-09-02 01:05:00 <ipython-input-7-d6a2d1ea5b1b>:13] Train Loss:2.389496326446533\n",
      "[NeMo I 2020-09-02 01:05:00 <ipython-input-7-d6a2d1ea5b1b>:14] SOURCE: . . .all the luck in the world . <---> PREDICTED RESPONSE: you re not going to help me ? . <---> TARGET: you do ?\n",
      "[NeMo I 2020-09-02 01:05:00 <ipython-input-7-d6a2d1ea5b1b>:13] Train Loss:2.253404378890991\n",
      "[NeMo I 2020-09-02 01:05:00 <ipython-input-7-d6a2d1ea5b1b>:14] SOURCE: boss i got all the time you need . <---> PREDICTED RESPONSE: i m not . . . . <---> TARGET: i know about you .\n",
      "[NeMo I 2020-09-02 01:05:00 <ipython-input-7-d6a2d1ea5b1b>:13] Train Loss:2.395055055618286\n",
      "[NeMo I 2020-09-02 01:05:00 <ipython-input-7-d6a2d1ea5b1b>:14] SOURCE: press a button and they give us money . <---> PREDICTED RESPONSE: i don t know . . . <---> TARGET: ride with me . we need a haircut .\n",
      "[NeMo I 2020-09-02 01:05:00 <ipython-input-7-d6a2d1ea5b1b>:13] Train Loss:2.638617515563965\n",
      "[NeMo I 2020-09-02 01:05:00 <ipython-input-7-d6a2d1ea5b1b>:14] SOURCE: when you come on you really come on . <---> PREDICTED RESPONSE: i m sorry . . . . <---> TARGET: well come on .\n",
      "[NeMo I 2020-09-02 01:05:00 <ipython-input-7-d6a2d1ea5b1b>:13] Train Loss:2.7558422088623047\n",
      "[NeMo I 2020-09-02 01:05:00 <ipython-input-7-d6a2d1ea5b1b>:14] SOURCE: how do you know you can trust me ? <---> PREDICTED RESPONSE: i don t know . . . <---> TARGET: got to trust someone .\n",
      "[NeMo I 2020-09-02 01:05:00 <ipython-input-7-d6a2d1ea5b1b>:13] Train Loss:2.6546132564544678\n",
      "[NeMo I 2020-09-02 01:05:00 <ipython-input-7-d6a2d1ea5b1b>:14] SOURCE: she says my whole body s a mistake . <---> PREDICTED RESPONSE: you know what she said ? it . <---> TARGET: why ?\n"
     ]
    }
   ],
   "source": [
    "for batch in range(len(result['rnn_train.inference@torch_tensor'][0])):\n",
    "    outputs2words([i[batch] for i in result['rnn_train.inference@torch_tensor']], result['rnn_train.eval_data@out_nm'].voc.index2word)"
   ]
  },
  {
   "cell_type": "markdown",
   "metadata": {},
   "source": [
    "## Chatbot model Hypyparameter Tuning\n",
    "\n",
    "If you haven't followed the `09_gquant_machine_hpo` notebook, it is recommended to go back and check it. It explains in detail how to use gQuant to perform hyperparameter tuning. We will use it to tune the hyperparameters for the chatbot model.\n",
    "\n",
    "Since the context composite node exposes the `number of layers` and `drop-out rate` as context parameters, the `hpo` `Nemo Hyper Tune Node` will do a grid search of the `number of layers` parameter and random uniform search on the `drop-out` parameter. The eval loss will be used as the hyperparameter tuning metric. \n",
    "\n",
    "In the following example, we will perform `1` sample hyperparameter tuning. Click on the `run` button to see the hyperparameter tuning in action."
   ]
  },
  {
   "cell_type": "code",
   "execution_count": 6,
   "metadata": {},
   "outputs": [
    {
     "data": {
      "application/vnd.jupyter.widget-view+json": {
       "model_id": "ba8cbb1afad344c8b90713c57d1d2a85",
       "version_major": 2,
       "version_minor": 0
      },
      "text/plain": [
       "GQuantWidget(sub=HBox(), value=[OrderedDict([('id', 'rnn_train'), ('type', 'ContextCompositeNode'), ('conf', {…"
      ]
     },
     "metadata": {},
     "output_type": "display_data"
    }
   ],
   "source": [
    "taskGraph=TaskGraph.load_taskgraph('../taskgraphs/nemo_examples/chatbot_hpo.gq.yaml')\n",
    "taskGraph.draw()"
   ]
  },
  {
   "cell_type": "markdown",
   "metadata": {},
   "source": [
    "It is satisfying to see all the GPUs in the host node are busy searching for different hyperparameters. The best set of hyperparameters are reported in the end. It can also be fed back to other context composite node to use. \n",
    "\n",
    "Since we are dealing with deep learning model training, the model is trained in a batched fashion. It is sometimes wasteful to run the training to end to get a metric. Luckily, the `Ray Tune` library provides a few scheduler algorithms that can perform the early stop in the optimization process. The `Nemo Hyper Tune Node` integrates a few scheduler algorithms from the `Ray Tune` lib that are ready to be used. \n",
    "\n",
    "In the following example, we will use [ASHA](https://docs.ray.io/en/latest/tune/api_docs/schedulers.html#tune-scheduler-hyperband), a scalable algorithm for [principled early stopping](https://blog.ml.cmu.edu/2018/12/12/massively-parallel-hyperparameter-optimization/). On a high level, ASHA terminates trials that are less promising and allocates more time and resources to more promising trials. As our optimization process becomes more efficient, we can afford to increase the search space by 5x, by adjusting the parameter `num_samples`. In the following example, we use `10` as `num_samples`.\n",
    "\n",
    "Click on the `run` button to see the large scale hyperparameter search in action."
   ]
  },
  {
   "cell_type": "code",
   "execution_count": 7,
   "metadata": {},
   "outputs": [
    {
     "data": {
      "application/vnd.jupyter.widget-view+json": {
       "model_id": "5aef24527a4e47b3bd42c345748663e3",
       "version_major": 2,
       "version_minor": 0
      },
      "text/plain": [
       "GQuantWidget(sub=HBox(), value=[OrderedDict([('id', 'rnn_train'), ('type', 'ContextCompositeNode'), ('conf', {…"
      ]
     },
     "metadata": {},
     "output_type": "display_data"
    }
   ],
   "source": [
    "taskGraph=TaskGraph.load_taskgraph('../taskgraphs/nemo_examples/chatbot_large_hpo_search.gq.yaml')\n",
    "taskGraph.draw()"
   ]
  },
  {
   "cell_type": "markdown",
   "metadata": {},
   "source": [
    "Checking the dynamically updated logs, you can see there are `20` search trails running in total because of the `10` samples and `2` types of grid search. Most of the trials are terminated early at `1` iteration. Only a few are running untill the end. \n",
    "\n",
    "After tuning is done, the best hyperparameter set is used to train the model again and run the inference. It should give a better model performance."
   ]
  },
  {
   "cell_type": "code",
   "execution_count": null,
   "metadata": {},
   "outputs": [],
   "source": []
  }
 ],
 "metadata": {
  "kernelspec": {
   "display_name": "Python 3",
   "language": "python",
   "name": "python3"
  },
  "language_info": {
   "codemirror_mode": {
    "name": "ipython",
    "version": 3
   },
   "file_extension": ".py",
   "mimetype": "text/x-python",
   "name": "python",
   "nbconvert_exporter": "python",
   "pygments_lexer": "ipython3",
   "version": "3.7.7"
  }
 },
 "nbformat": 4,
 "nbformat_minor": 4
}
