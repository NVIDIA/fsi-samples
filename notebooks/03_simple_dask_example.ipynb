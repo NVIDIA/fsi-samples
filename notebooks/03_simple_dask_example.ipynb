{
 "cells": [
  {
   "cell_type": "code",
   "execution_count": 1,
   "metadata": {},
   "outputs": [],
   "source": [
    "import sys\n",
    "sys.path.append('..')\n",
    "\n",
    "from gquant.dataframe_flow import TaskGraph"
   ]
  },
  {
   "cell_type": "code",
   "execution_count": 2,
   "metadata": {},
   "outputs": [
    {
     "data": {
      "text/html": [
       "<table style=\"border: 2px solid white;\">\n",
       "<tr>\n",
       "<td style=\"vertical-align: top; border: 0px solid white\">\n",
       "<h3 style=\"text-align: left;\">Client</h3>\n",
       "<ul style=\"text-align: left; list-style: none; margin: 0; padding: 0;\">\n",
       "  <li><b>Scheduler: </b>tcp://127.0.0.1:46190</li>\n",
       "  <li><b>Dashboard: </b><a href='http://127.0.0.1:8787/status' target='_blank'>http://127.0.0.1:8787/status</a>\n",
       "</ul>\n",
       "</td>\n",
       "<td style=\"vertical-align: top; border: 0px solid white\">\n",
       "<h3 style=\"text-align: left;\">Cluster</h3>\n",
       "<ul style=\"text-align: left; list-style:none; margin: 0; padding: 0;\">\n",
       "  <li><b>Workers: </b>8</li>\n",
       "  <li><b>Cores: </b>8</li>\n",
       "  <li><b>Memory: </b>540.95 GB</li>\n",
       "</ul>\n",
       "</td>\n",
       "</tr>\n",
       "</table>"
      ],
      "text/plain": [
       "<Client: 'tcp://127.0.0.1:46190' processes=8 threads=8, memory=540.95 GB>"
      ]
     },
     "execution_count": 2,
     "metadata": {},
     "output_type": "execute_result"
    }
   ],
   "source": [
    "from dask_cuda import LocalCUDACluster\n",
    "cluster = LocalCUDACluster()\n",
    "from dask.distributed import Client\n",
    "client = Client(cluster)\n",
    "client"
   ]
  },
  {
   "cell_type": "markdown",
   "metadata": {},
   "source": [
    "We can open the status page in the brwoser by following javascript commands"
   ]
  },
  {
   "cell_type": "code",
   "execution_count": 3,
   "metadata": {},
   "outputs": [
    {
     "data": {
      "text/html": [
       "\n",
       "<script type=\"text/Javascript\">\n",
       "    function check_status(){\n",
       "        var url = document.location.href;\n",
       "        var index = url.indexOf(':8888');\n",
       "        var status = url.substr(0, index)+\":8787\";\n",
       "        window.open(status,'_blank');\n",
       "    }\n",
       "    check_status();\n",
       "</script>\n"
      ],
      "text/plain": [
       "<IPython.core.display.HTML object>"
      ]
     },
     "execution_count": 3,
     "metadata": {},
     "output_type": "execute_result"
    }
   ],
   "source": [
    "from IPython.display import HTML\n",
    "javascript = \"\"\"\n",
    "<script type=\"text/Javascript\">\n",
    "    function check_status(){\n",
    "        var url = document.location.href;\n",
    "        var index = url.indexOf(':8888');\n",
    "        var status = url.substr(0, index)+\":8787\";\n",
    "        window.open(status,'_blank');\n",
    "    }\n",
    "    check_status();\n",
    "</script>\n",
    "\"\"\"\n",
    "HTML(javascript)"
   ]
  },
  {
   "cell_type": "markdown",
   "metadata": {},
   "source": [
    "# Prepare distributed CSV files <span style=\"color:red\">(not necessary if the dataset is already prepared)</span>\n",
    "\n",
    "Following is the code to prepare the dataset as mulitple csv files that we can use dask_cuda to load them"
   ]
  },
  {
   "cell_type": "code",
   "execution_count": 6,
   "metadata": {},
   "outputs": [
    {
     "name": "stdout",
     "output_type": "stream",
     "text": [
      "           datetime    open   close    high     low   asset  volume\n",
      "1870     1990-01-02    1.12    1.12    1.12    1.12      93     0.0\n",
      "1871     1990-01-03    1.00    1.00    1.00    1.00      93    15.6\n",
      "1872     1990-01-04    1.00    1.00    1.00    1.00      93     0.0\n",
      "1873     1990-01-05    1.00    1.00    1.00    1.00      93     0.0\n",
      "1874     1990-01-08    1.00    1.00    1.00    1.00      93     0.6\n",
      "1875     1990-01-09    1.00    1.00    1.00    1.00      93     0.0\n",
      "1876     1990-01-10    1.00    1.00    1.00    1.00      93     0.0\n",
      "1877     1990-01-11    1.12    1.12    1.12    1.12      93     1.6\n",
      "1878     1990-01-12    1.12    1.12    1.12    1.12      93     0.0\n",
      "1879     1990-01-15    1.00    1.00    1.00    1.00      93     1.2\n",
      "1880     1990-01-16    1.00    1.00    1.00    1.00      93     0.0\n",
      "1881     1990-01-17    1.00    1.00    1.00    1.00      93     0.0\n",
      "1882     1990-01-18    1.00    1.00    1.00    1.00      93     0.0\n",
      "1883     1990-01-19    1.00    1.00    1.00    1.00      93     1.0\n",
      "1884     1990-01-22    1.00    1.00    1.00    1.00      93     4.4\n",
      "1885     1990-01-23    1.00    1.00    1.00    1.00      93     0.4\n",
      "1886     1990-01-24    1.00    1.00    1.00    1.00      93     0.0\n",
      "1887     1990-01-25    1.00    1.00    1.00    1.00      93     0.0\n",
      "1888     1990-01-26    1.00    1.00    1.12    1.00      93     1.8\n",
      "1889     1990-01-29    1.00    1.00    1.00    1.00      93     0.0\n",
      "1890     1990-01-30    1.00    1.00    1.00    1.00      93     0.0\n",
      "1891     1990-01-31    1.00    1.00    1.00    1.00      93     0.0\n",
      "1892     1990-02-01    1.00    1.00    1.00    1.00      93     0.0\n",
      "1893     1990-02-02    1.00    1.00    1.00    1.00      93     0.0\n",
      "1894     1990-02-05    1.12    1.12    1.12    1.12      93     2.4\n",
      "1895     1990-02-06    1.25    1.25    1.25    1.25      93    23.4\n",
      "1896     1990-02-07    1.25    1.25    1.25    1.25      93     0.0\n",
      "1897     1990-02-08    1.25    1.25    1.25    1.25      93     0.0\n",
      "1898     1990-02-09    1.25    1.25    1.25    1.25      93     0.0\n",
      "1899     1990-02-12    1.25    1.25    1.25    1.25      93     0.0\n",
      "...             ...     ...     ...     ...     ...     ...     ...\n",
      "15865769 2016-04-11  469.90  467.84  480.00  465.93  869599    26.4\n",
      "15865770 2016-04-12  468.00  465.60  469.23  460.54  869599    22.7\n",
      "15865771 2016-04-13  466.03  469.99  474.43  462.00  869599    55.9\n",
      "15865772 2016-04-14  470.00  464.17  470.00  454.92  869599    48.0\n",
      "15865773 2016-04-15  465.55  476.37  481.15  451.51  869599    44.7\n",
      "15865774 2016-04-18  475.00  470.19  480.00  466.30  869599    25.0\n",
      "15865775 2016-04-19  470.00  475.82  477.74  464.46  869599    33.5\n",
      "15865776 2016-04-20  473.45  485.24  487.90  473.00  869599    27.4\n",
      "15865777 2016-04-21  486.90  482.86  490.03  473.18  869599    24.4\n",
      "15865778 2016-04-22  483.13  489.97  494.00  468.01  869599    41.4\n",
      "15865779 2016-04-25  488.90  486.53  489.12  483.13  869599    19.9\n",
      "15865780 2016-04-26  486.97  487.02  502.00  485.01  869599    20.9\n",
      "15865781 2016-04-27  485.75  487.40  490.43  483.54  869599    24.2\n",
      "15865782 2016-04-28  489.80  475.56  489.80  472.06  869599    33.4\n",
      "15865783 2016-04-29  477.39  476.54  489.40  473.42  869599    18.8\n",
      "15865784 2016-05-02  479.95  486.16  487.91  479.95  869599    22.1\n",
      "15865785 2016-05-03  482.25  481.27  497.50  478.82  869599    14.4\n",
      "15865786 2016-05-04  477.60  476.26  481.00  466.00  869599    16.9\n",
      "15865787 2016-05-05  478.16  481.67  495.21  478.16  869599    22.0\n",
      "15865788 2016-05-06  479.60  481.30  496.25  479.47  869599    23.8\n",
      "15865789 2016-05-09  481.02  481.23  484.96  480.41  869599     5.5\n",
      "15865790 2016-05-10  481.28  485.76  486.90  481.28  869599    18.6\n",
      "15865791 2016-05-11  483.19  479.70  484.48  475.70  869599    15.1\n",
      "15865792 2016-05-12  481.65  486.00  488.79  470.41  869599    28.5\n",
      "15865793 2016-05-13  484.81  481.32  487.77  470.02  869599    24.0\n",
      "15865794 2016-05-16  481.32  481.46  487.45  478.24  869599    28.7\n",
      "15865795 2016-05-17  482.67  484.88  493.07  480.01  869599    36.9\n",
      "15865796 2016-05-18  485.58  483.91  489.04  480.81  869599    20.1\n",
      "15865797 2016-05-19  481.03  489.86  491.17  476.10  869599    17.3\n",
      "15865798 2016-05-20  491.35  496.45  499.69  491.35  869599    16.6\n",
      "\n",
      "[19277162 rows x 7 columns]\n"
     ]
    }
   ],
   "source": [
    "import dask.dataframe as dd\n",
    "import os\n",
    "action = \"load\" if os.path.isfile('./.cache/load_csv_data.hdf5') else \"save\"\n",
    "node_csv = {\"id\": \"load_csv_data\",\n",
    "            \"type\": \"CsvStockLoader\",\n",
    "            \"conf\": {\"path\": \"/Project/data/stocks/stock_price_hist.csv.gz\"},\n",
    "            \"inputs\": []}\n",
    "\n",
    "node_sort = {\"id\": \"node_sort\",\n",
    "             \"type\": \"SortNode\",\n",
    "             \"conf\": {\"keys\": ['asset', 'datetime']},\n",
    "             \"inputs\": [\"load_csv_data\"]}\n",
    "task_graph = TaskGraph([node_csv, node_sort])\n",
    "df = task_graph.run(\n",
    "         outputs=['node_sort'],\n",
    "         replace={'load_csv_data': {action: True}})[0]\n",
    "os.makedirs('many-small', exist_ok=True)\n",
    "print(df)\n",
    "df = dd.from_pandas(df.to_pandas(), npartitions=8).to_csv('many-small/*.csv', index=False)"
   ]
  },
  {
   "cell_type": "code",
   "execution_count": 7,
   "metadata": {},
   "outputs": [
    {
     "name": "stdout",
     "output_type": "stream",
     "text": [
      "- id: node_csvdata_dask\n",
      "  type: DaskCsvStockLoader\n",
      "  conf:\n",
      "    path: many-small\n",
      "  inputs: []\n",
      "- id: node_minVolume\n",
      "  type: VolumeFilterNode\n",
      "  conf:\n",
      "    min: 50.0\n",
      "  inputs: \n",
      "    - node_csvdata_dask\n",
      "- id: node_sort\n",
      "  type: SortNode\n",
      "  conf:\n",
      "    keys: \n",
      "      - asset\n",
      "      - datetime\n",
      "  inputs: \n",
      "    - node_minVolume\n",
      "- id: node_volumeMean\n",
      "  type: AverageNode\n",
      "  conf:\n",
      "    column: volume\n",
      "  inputs: \n",
      "    - node_sort\n",
      "- id: node_outputCsv\n",
      "  type: OutCsvNode\n",
      "  conf:\n",
      "    path: symbol_volume.csv\n",
      "  inputs:\n",
      "    - node_volumeMean\n"
     ]
    }
   ],
   "source": [
    "!cat ../task_example/dask_task.yaml"
   ]
  },
  {
   "cell_type": "code",
   "execution_count": 3,
   "metadata": {},
   "outputs": [
    {
     "data": {
      "image/png": "[encoded data removed]",
      "text/plain": [
       "<IPython.core.display.Image object>"
      ]
     },
     "metadata": {},
     "output_type": "display_data"
    }
   ],
   "source": [
    "task_graph = TaskGraph.load_taskgraph('../task_example/dask_task.yaml')\n",
    "task_graph.draw(show='ipynb')"
   ]
  },
  {
   "cell_type": "code",
   "execution_count": 9,
   "metadata": {},
   "outputs": [],
   "source": [
    "df = task_graph.run(['node_outputCsv'], {})[0]"
   ]
  },
  {
   "cell_type": "code",
   "execution_count": null,
   "metadata": {},
   "outputs": [],
   "source": []
  }
 ],
 "metadata": {
  "kernelspec": {
   "display_name": "Python 3",
   "language": "python",
   "name": "python3"
  },
  "language_info": {
   "codemirror_mode": {
    "name": "ipython",
    "version": 3
   },
   "file_extension": ".py",
   "mimetype": "text/x-python",
   "name": "python",
   "nbconvert_exporter": "python",
   "pygments_lexer": "ipython3",
   "version": "3.6.7"
  }
 },
 "nbformat": 4,
 "nbformat_minor": 2
}
