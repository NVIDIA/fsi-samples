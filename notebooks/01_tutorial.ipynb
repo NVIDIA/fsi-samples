{
 "cells": [
  {
   "cell_type": "markdown",
   "metadata": {},
   "source": [
    "# Introduction to gQuant\n",
    "\n",
    "**gQuant** is a set of open-source examples for Quantitative Analysis tasks:\n",
    "- Data preparation & feat. engineering\n",
    "- Alpha seeking modeling\n",
    "- Technical indicators\n",
    "- Backtesting\n",
    "\n",
    "It is GPU-accelerated by leveraging [**RAPIDS.ai**](https://rapids.ai) technology, and has Multi-GPU and Multi-Node support.\n",
    "\n",
    "gQuant computing components are oriented around its plugins and task graph.\n",
    "\n",
    "## Download example datasets\n",
    "\n",
    "Before getting started, let's download the example datasets if not present."
   ]
  },
  {
   "cell_type": "code",
   "execution_count": 1,
   "metadata": {},
   "outputs": [
    {
     "name": "stdout",
     "output_type": "stream",
     "text": [
      "Dataset is already present. No need to re-download it.\n"
     ]
    }
   ],
   "source": [
    "! ((test ! -f './data/stock_price_hist.csv.gz' ||  test ! -f './data/security_master.csv.gz') && \\\n",
    "  cd .. && bash download_data.sh) || echo \"Dataset is already present. No need to re-download it.\""
   ]
  },
  {
   "cell_type": "markdown",
   "metadata": {},
   "source": [
    "## About this notebook\n",
    "\n",
    "In this tutorial, we are going to use gQuant to do a simple quant job. The job tasks are listed below:\n",
    "    1. load csv stock data.\n",
    "    2. filter out the stocks that has average volume smaller than 50.\n",
    "    3. sort the stock symbols and datetime.\n",
    "    4. add rate of return as a feature into the table.\n",
    "    5. in two branches, computethe mean volume and mean return.\n",
    "    6. read the file containing the stock symbol names, and join the computed dataframes.\n",
    "    7. output the result in csv files.\n",
    "    \n",
    "## TaskGraph playground\n",
    "\n",
    "Run the following gquant code to start a empty TaskGraph where computation graph can be created. You can follow the steps as listed below."
   ]
  },
  {
   "cell_type": "code",
   "execution_count": 2,
   "metadata": {},
   "outputs": [
    {
     "data": {
      "application/vnd.jupyter.widget-view+json": {
       "model_id": "72a734262dac4df99d41c33d6d055e73",
       "version_major": 2,
       "version_minor": 0
      },
      "text/plain": [
       "GQuantWidget(sub=HBox())"
      ]
     },
     "metadata": {},
     "output_type": "display_data"
    }
   ],
   "source": [
    "import sys; sys.path.insert(0, '..')\n",
    "from gquant.dataframe_flow import TaskGraph\n",
    "task_graph = TaskGraph()\n",
    "task_graph.draw()"
   ]
  },
  {
   "cell_type": "markdown",
   "metadata": {},
   "source": [
    "## Step by Step to build your first task graph\n",
    "\n",
    "### Create Task node to load the included stock csv file \n",
    "<img src=\"images/loader_csv.gif\" align=\"center\">\n",
    "\n",
    "### Explore the data and visualize it\n",
    "<img src='images/explore_data.gif' align='center'>\n",
    "\n",
    "### Clean up the Task nodes for next steps\n",
    "<img src='images/clean.gif' align='center'>\n",
    "\n",
    "### Filter the data and compute the rate of return feature\n",
    "<img src='images/get_return_feature.gif' align='center'>\n",
    "\n",
    "### Save current TaskGraph for a composite Task node\n",
    "<img src='images/add_composite_node.gif' align='center'>\n",
    "\n",
    "### Clean up the redudant feature computation Task nodes\n",
    "<img src='images/clean_up_feature.gif' align='center'>\n",
    "\n",
    "### Compute the averge volume and returns \n",
    "<img src='images/average.gif' align='center'>\n",
    "\n",
    "### Dump the dataframe to csv files\n",
    "<img src='images/csv_out.gif' align='center'>"
   ]
  },
  {
   "cell_type": "markdown",
   "metadata": {},
   "source": [
    "Just in case you cannnot follow along, here you can load the tutorial taskgraph from the file. First one is the graph to calculate the return feature. "
   ]
  },
  {
   "cell_type": "code",
   "execution_count": 3,
   "metadata": {},
   "outputs": [
    {
     "data": {
      "application/vnd.jupyter.widget-view+json": {
       "model_id": "b1a11683ae1f4a4b95fb35bd0cf2f9e7",
       "version_major": 2,
       "version_minor": 0
      },
      "text/plain": [
       "GQuantWidget(sub=HBox(), value=[OrderedDict([('id', 'stock_data'), ('type', 'CsvStockLoader'), ('conf', {'file…"
      ]
     },
     "metadata": {},
     "output_type": "display_data"
    }
   ],
   "source": [
    "task_graph = TaskGraph.load_taskgraph('../taskgraphs/get_return_feature.gq.yaml')\n",
    "task_graph.draw()"
   ]
  },
  {
   "cell_type": "markdown",
   "metadata": {},
   "source": [
    "Load the full graph and click on the `run` button to see the result"
   ]
  },
  {
   "cell_type": "code",
   "execution_count": 4,
   "metadata": {},
   "outputs": [
    {
     "data": {
      "application/vnd.jupyter.widget-view+json": {
       "model_id": "b9103d5fb9be40aca2a8fbfee31e26c1",
       "version_major": 2,
       "version_minor": 0
      },
      "text/plain": [
       "GQuantWidget(sub=HBox(), value=[OrderedDict([('id', 'stock_data'), ('type', 'CsvStockLoader'), ('conf', {'file…"
      ]
     },
     "metadata": {},
     "output_type": "display_data"
    }
   ],
   "source": [
    "task_graph = TaskGraph.load_taskgraph('../taskgraphs/tutorial_intro.gq.yaml')\n",
    "task_graph.draw()"
   ]
  },
  {
   "cell_type": "markdown",
   "metadata": {},
   "source": [
    "## About Task graphs, nodes and plugins\n",
    "\n",
    "Quant processing operators are defined as nodes that operates on **cuDF**/**dask_cuDF** dataframes.\n",
    "\n",
    "A **task graph** is a list of tasks composed of gQuant nodes.\n",
    "\n",
    "The cell below contains the task graph described before."
   ]
  },
  {
   "cell_type": "code",
   "execution_count": 5,
   "metadata": {},
   "outputs": [],
   "source": [
    "import warnings; warnings.simplefilter(\"ignore\")\n",
    "csv_average_return = 'average_return.csv'\n",
    "csv_average_volume = 'average_volume.csv'\n",
    "csv_file_path = './data/stock_price_hist.csv.gz'\n",
    "csv_name_file_path = './data/security_master.csv.gz'\n",
    "from gquant.dataframe_flow import TaskSpecSchema \n",
    "\n",
    "# load csv stock data\n",
    "task_csvdata = {\n",
    "    TaskSpecSchema.task_id: 'stock_data',\n",
    "    TaskSpecSchema.node_type: 'CsvStockLoader',\n",
    "    TaskSpecSchema.conf: {'file': csv_file_path},\n",
    "    TaskSpecSchema.inputs: {}\n",
    "}\n",
    "\n",
    "# filter out the stocks that has average volume smaller than 50\n",
    "task_minVolume = {\n",
    "    TaskSpecSchema.task_id: 'volume_filter',\n",
    "    TaskSpecSchema.node_type: 'ValueFilterNode',\n",
    "    TaskSpecSchema.conf: [{'min': 50.0, 'column': 'volume'}],\n",
    "    TaskSpecSchema.inputs: {'in': 'stock_data.cudf_out'}\n",
    "}\n",
    "\n",
    "# sort the stock symbols and datetime\n",
    "task_sort = {\n",
    "    TaskSpecSchema.task_id: 'sort_node',\n",
    "    TaskSpecSchema.node_type: 'SortNode',\n",
    "    TaskSpecSchema.conf: {'keys': ['asset', 'datetime']},\n",
    "    TaskSpecSchema.inputs: {'in': 'volume_filter.out'}\n",
    "}\n",
    "\n",
    "# add rate of return as a feature into the table\n",
    "task_addReturn = {\n",
    "    TaskSpecSchema.task_id: 'add_return_feature',\n",
    "    TaskSpecSchema.node_type: 'ReturnFeatureNode',\n",
    "    TaskSpecSchema.conf: {},\n",
    "    TaskSpecSchema.inputs: {'stock_in': 'sort_node.out'}\n",
    "}\n",
    "\n",
    "# read the stock symbol name file and join the computed dataframes\n",
    "task_stockSymbol = {\n",
    "    TaskSpecSchema.task_id: 'stock_name',\n",
    "    TaskSpecSchema.node_type: 'StockNameLoader',\n",
    "    TaskSpecSchema.conf: {'file': csv_name_file_path },\n",
    "    TaskSpecSchema.inputs: {}\n",
    "}\n",
    "\n",
    "# In two branches, compute the mean volume and mean return seperately\n",
    "task_volumeMean = {\n",
    "    TaskSpecSchema.task_id: 'average_volume',\n",
    "    TaskSpecSchema.node_type: 'AverageNode',\n",
    "    TaskSpecSchema.conf: {'column': 'volume'},\n",
    "    TaskSpecSchema.inputs: {'stock_in': 'add_return_feature.stock_out'}\n",
    "}\n",
    "\n",
    "task_returnMean = {\n",
    "    TaskSpecSchema.task_id: 'average_return',\n",
    "    TaskSpecSchema.node_type: 'AverageNode',\n",
    "    TaskSpecSchema.conf: {'column': 'returns'},\n",
    "    TaskSpecSchema.inputs: {'stock_in': 'add_return_feature.stock_out'}\n",
    "}\n",
    "\n",
    "task_leftMerge1 = {\n",
    "    TaskSpecSchema.task_id: 'left_merge1',\n",
    "    TaskSpecSchema.node_type: 'LeftMergeNode',\n",
    "    TaskSpecSchema.conf: {'column': 'asset'},\n",
    "    TaskSpecSchema.inputs: {'left': 'average_return.stock_out', \n",
    "                            'right': 'stock_name.stock_name'}\n",
    "}\n",
    "\n",
    "task_leftMerge2 = {\n",
    "    TaskSpecSchema.task_id: 'left_merge2',\n",
    "    TaskSpecSchema.node_type: 'LeftMergeNode',\n",
    "    TaskSpecSchema.conf: {'column': 'asset'},\n",
    "    TaskSpecSchema.inputs: {'left': 'average_volume.stock_out', \n",
    "                            'right': 'stock_name.stock_name'}\n",
    "}\n",
    "\n",
    "# output the result in csv files\n",
    "\n",
    "task_outputCsv1 = {\n",
    "    TaskSpecSchema.task_id: 'output_csv1',\n",
    "    TaskSpecSchema.node_type: 'OutCsvNode',\n",
    "    TaskSpecSchema.conf: {'path': csv_average_return},\n",
    "    TaskSpecSchema.inputs: {'df_in': 'left_merge1.merged'}\n",
    "}\n",
    "\n",
    "task_outputCsv2 = {\n",
    "    TaskSpecSchema.task_id: 'output_csv2',\n",
    "    TaskSpecSchema.node_type: 'OutCsvNode',\n",
    "    TaskSpecSchema.conf: {'path': csv_average_volume },\n",
    "    TaskSpecSchema.inputs: {'df_in': 'left_merge2.merged'}\n",
    "}"
   ]
  },
  {
   "cell_type": "markdown",
   "metadata": {},
   "source": [
    "In Python, a gQuant task-spec is defined as a dictionary with the following fields:\n",
    "- `id`\n",
    "- `type`\n",
    "- `conf`\n",
    "- `inputs`\n",
    "- `filepath`\n",
    "- `module`\n",
    "\n",
    "As a best practice, we recommend using the `TaskSpecSchema` class for these fields, instead of strings.\n",
    "\n",
    "The `id` for a given task must be unique within a task graph. To use the result(s) of other task(s) as input(s) of a different task, we use the id(s) of the former task(s) in the `inputs` field of the next task.\n",
    "\n",
    "The `type` field contains the node type to use for the compute task. gQuant includes a collection of node classes. These can be found in `gquant.plugin_nodes`. Click [here](#node_class_example) to see a gQuant node class example.\n",
    "\n",
    "The `conf` field is used to parameterise a task. It lets you access user-set parameters within a plugin (such as `self.conf['min']` in the example above). Each node defines the `conf` json schema. The gQuant UI can use this schema to generate the proper form UI for the inputs. It is recommended to use the UI to configure the `conf`. \n",
    "\n",
    "The `filepath` field is used to specify a python module where a custom plugin is defined. It is optional if the plugin is in `plugin_nodes` directory, and mandatory when the plugin is somewhere else. In a different tutorial, we will learn how to create custom plugins.\n",
    "\n",
    "The `module` is optional to tell gQuant the name of module that the node type is from. If it is not specified, gQuant will search for it among all the customized modules. \n",
    "\n",
    "A custom node schema will look something like this:\n",
    "```\n",
    "custom_task = {\n",
    "    TaskSpecSchema.task_id: 'custom_calc',\n",
    "    TaskSpecSchema.node_type: 'CustomNode',\n",
    "    TaskSpecSchema.conf: {},\n",
    "    TaskSpecSchema.inputs: ['some_other_node'],\n",
    "    TaskSpecSchema.filepath: 'custom_nodes.py'\n",
    "}\n",
    "```"
   ]
  },
  {
   "cell_type": "markdown",
   "metadata": {},
   "source": [
    "Below, we compose our task graph and visualize it as a graph."
   ]
  },
  {
   "cell_type": "code",
   "execution_count": 6,
   "metadata": {},
   "outputs": [
    {
     "data": {
      "image/png": "[encoded data removed]",
      "text/plain": [
       "<IPython.core.display.Image object>"
      ]
     },
     "execution_count": 6,
     "metadata": {},
     "output_type": "execute_result"
    }
   ],
   "source": [
    "from gquant.dataframe_flow import TaskGraph\n",
    "\n",
    "# list of nodes composing the task graph\n",
    "task_list = [\n",
    "    task_csvdata, task_minVolume, task_sort, task_addReturn,\n",
    "    task_stockSymbol, task_volumeMean, task_returnMean,\n",
    "    task_leftMerge1, task_leftMerge2,\n",
    "    task_outputCsv1, task_outputCsv2]\n",
    "\n",
    "task_graph = TaskGraph(task_list)\n",
    "task_graph.draw(show='ipynb')"
   ]
  },
  {
   "cell_type": "markdown",
   "metadata": {},
   "source": [
    "We can visualize the ports by setting `show_ports` to `True`"
   ]
  },
  {
   "cell_type": "code",
   "execution_count": 7,
   "metadata": {},
   "outputs": [
    {
     "data": {
      "image/png": "[encoded data removed]",
      "text/plain": [
       "<IPython.core.display.Image object>"
      ]
     },
     "execution_count": 7,
     "metadata": {},
     "output_type": "execute_result"
    }
   ],
   "source": [
    "task_graph.draw(show='ipynb', show_ports=True)"
   ]
  },
  {
   "cell_type": "markdown",
   "metadata": {},
   "source": [
    "It is recommended to visualize it with gQuant widget so you can interact with it by call `draw` without arguments"
   ]
  },
  {
   "cell_type": "code",
   "execution_count": 8,
   "metadata": {},
   "outputs": [
    {
     "data": {
      "application/vnd.jupyter.widget-view+json": {
       "model_id": "9957c177c36b467d8e65bc7cb8616547",
       "version_major": 2,
       "version_minor": 0
      },
      "text/plain": [
       "GQuantWidget(sub=HBox(), value=[OrderedDict([('id', 'stock_data'), ('type', 'CsvStockLoader'), ('conf', {'file…"
      ]
     },
     "metadata": {},
     "output_type": "display_data"
    }
   ],
   "source": [
    "task_graph.draw()"
   ]
  },
  {
   "cell_type": "markdown",
   "metadata": {},
   "source": [
    "We will use `save_taskgraph` method to save the task graph to a **yaml file**.\n",
    "\n",
    "That will allow us to re-use it in the future."
   ]
  },
  {
   "cell_type": "code",
   "execution_count": 9,
   "metadata": {},
   "outputs": [],
   "source": [
    "task_graph_file_name = '01_tutorial_task_graph.gq.yaml'\n",
    "\n",
    "task_graph.save_taskgraph(task_graph_file_name)"
   ]
  },
  {
   "cell_type": "markdown",
   "metadata": {},
   "source": [
    "Here is a snippet of the content in the resulting yaml file:"
   ]
  },
  {
   "cell_type": "code",
   "execution_count": 10,
   "metadata": {},
   "outputs": [
    {
     "name": "stdout",
     "output_type": "stream",
     "text": [
      "- id: stock_data\n",
      "  type: CsvStockLoader\n",
      "  conf:\n",
      "    file: ./data/stock_price_hist.csv.gz\n",
      "  inputs: {}\n",
      "- id: volume_filter\n",
      "  type: ValueFilterNode\n",
      "  conf:\n",
      "  - column: volume\n",
      "    min: 50\n",
      "  inputs:\n",
      "    in: stock_data.cudf_out\n",
      "- id: sort_node\n",
      "  type: SortNode\n",
      "  conf:\n",
      "    keys:\n",
      "    - asset\n",
      "    - datetime\n",
      "  inputs:\n"
     ]
    }
   ],
   "source": [
    "%%bash -s \"$task_graph_file_name\"\n",
    "head -n 19 $1"
   ]
  },
  {
   "cell_type": "markdown",
   "metadata": {},
   "source": [
    "The yaml file describes the computation tasks.  We can load it and visualize it as a graph."
   ]
  },
  {
   "cell_type": "code",
   "execution_count": 11,
   "metadata": {},
   "outputs": [
    {
     "data": {
      "application/vnd.jupyter.widget-view+json": {
       "model_id": "d39ab24bedfd4e94800ba64767e5c8a7",
       "version_major": 2,
       "version_minor": 0
      },
      "text/plain": [
       "GQuantWidget(sub=HBox(), value=[OrderedDict([('id', 'stock_data'), ('type', 'CsvStockLoader'), ('conf', {'file…"
      ]
     },
     "metadata": {},
     "output_type": "display_data"
    }
   ],
   "source": [
    "task_graph = TaskGraph.load_taskgraph(task_graph_file_name)\n",
    "task_graph.draw()"
   ]
  },
  {
   "cell_type": "markdown",
   "metadata": {},
   "source": [
    "## Building a task graph\n",
    "\n",
    "Running the task graph is the next logical step. Nevertheless, it can optionally be built before running it.\n",
    "\n",
    "By calling `build` method, the graph is traversed without running the dataframe computations. This could be useful to inspect the column names and types, validate that the plugins can be instantiated, and check for errors.\n",
    "\n",
    "The output of `build` are instances of each task in a dictionary.\n",
    "\n",
    "In the example below, we inspect the column names and types for the inputs and outputs of the `left_merge1` task:"
   ]
  },
  {
   "cell_type": "code",
   "execution_count": 12,
   "metadata": {},
   "outputs": [
    {
     "name": "stdout",
     "output_type": "stream",
     "text": [
      "Output of build task graph are instances of each task in a dictionary:\n",
      "\n",
      "stock_data: <NodeInTaskGraph gquant.plugin_nodes.dataloader.csvStockLoader.CsvStockLoader object at 0x7fb4b66de250>\n",
      "volume_filter: <NodeInTaskGraph gquant.plugin_nodes.transform.valueFilterNode.ValueFilterNode object at 0x7fb62928b950>\n",
      "sort_node: <NodeInTaskGraph gquant.plugin_nodes.transform.sortNode.SortNode object at 0x7fb62928b050>\n",
      "add_return_feature: <NodeInTaskGraph gquant.plugin_nodes.transform.returnFeatureNode.ReturnFeatureNode object at 0x7fb62928e210>\n",
      "stock_name: <NodeInTaskGraph gquant.plugin_nodes.dataloader.stockNameLoader.StockNameLoader object at 0x7fb62928ea10>\n",
      "average_volume: <NodeInTaskGraph gquant.plugin_nodes.transform.averageNode.AverageNode object at 0x7fb6292b3f50>\n",
      "average_return: <NodeInTaskGraph gquant.plugin_nodes.transform.averageNode.AverageNode object at 0x7fb638139e50>\n",
      "left_merge1: <NodeInTaskGraph gquant.plugin_nodes.transform.leftMergeNode.LeftMergeNode object at 0x7fb629292690>\n",
      "left_merge2: <NodeInTaskGraph gquant.plugin_nodes.transform.leftMergeNode.LeftMergeNode object at 0x7fb6292921d0>\n",
      "output_csv1: <NodeInTaskGraph gquant.plugin_nodes.analysis.outCsvNode.OutCsvNode object at 0x7fb629292d90>\n",
      "output_csv2: <NodeInTaskGraph gquant.plugin_nodes.analysis.outCsvNode.OutCsvNode object at 0x7fb4b678c5d0>\n",
      "\n"
     ]
    }
   ],
   "source": [
    "from pprint import pprint\n",
    "\n",
    "task_graph.build()\n",
    "\n",
    "print('Output of build task graph are instances of each task in a dictionary:\\n')\n",
    "print(str(task_graph))"
   ]
  },
  {
   "cell_type": "code",
   "execution_count": 13,
   "metadata": {},
   "outputs": [
    {
     "name": "stdout",
     "output_type": "stream",
     "text": [
      "Output columns in outgoing dataframe:\n",
      "\n",
      "{'merged': {'asset': 'int64', 'asset_name': 'object', 'returns': 'float64'}}\n"
     ]
    }
   ],
   "source": [
    "# Output columns in 'left_merge_1' node\n",
    "\n",
    "print('Output columns in outgoing dataframe:\\n')\n",
    "pprint(task_graph['left_merge1'].columns_setup())"
   ]
  },
  {
   "cell_type": "markdown",
   "metadata": {},
   "source": [
    "## Running a task graph\n",
    "\n",
    "To execute the graph computations, we will use the `run` method. If the `Output_Collector` task node is not added to the graph, a output list can be feeded to the run method. The result can be displayed in a rich mode if the `formated` argument is turned on.\n",
    "\n",
    "`run` can also takes an optional `replace` argument which is used and explained later on"
   ]
  },
  {
   "cell_type": "code",
   "execution_count": 14,
   "metadata": {},
   "outputs": [
    {
     "data": {
      "application/vnd.jupyter.widget-view+json": {
       "model_id": "86fde6a704d54340a1360818ed380687",
       "version_major": 2,
       "version_minor": 0
      },
      "text/plain": [
       "Tab(children=(Output(), Output(), Output(), Output(layout=Layout(border='1px solid black'))), _titles={'0': 's…"
      ]
     },
     "metadata": {},
     "output_type": "display_data"
    }
   ],
   "source": [
    "outputs = ['stock_data.cudf_out', 'output_csv1.df_out', 'output_csv2.df_out']\n",
    "task_graph.run(outputs=outputs, formated=True)"
   ]
  },
  {
   "cell_type": "markdown",
   "metadata": {},
   "source": [
    "The result can be used as a tuple or dictionary."
   ]
  },
  {
   "cell_type": "code",
   "execution_count": 15,
   "metadata": {},
   "outputs": [
    {
     "data": {
      "text/html": [
       "<div>\n",
       "<style scoped>\n",
       "    .dataframe tbody tr th:only-of-type {\n",
       "        vertical-align: middle;\n",
       "    }\n",
       "\n",
       "    .dataframe tbody tr th {\n",
       "        vertical-align: top;\n",
       "    }\n",
       "\n",
       "    .dataframe thead th {\n",
       "        text-align: right;\n",
       "    }\n",
       "</style>\n",
       "<table border=\"1\" class=\"dataframe\">\n",
       "  <thead>\n",
       "    <tr style=\"text-align: right;\">\n",
       "      <th></th>\n",
       "      <th>asset</th>\n",
       "      <th>volume</th>\n",
       "      <th>asset_name</th>\n",
       "    </tr>\n",
       "  </thead>\n",
       "  <tbody>\n",
       "    <tr>\n",
       "      <th>0</th>\n",
       "      <td>869577</td>\n",
       "      <td>154.528596</td>\n",
       "      <td>CTT</td>\n",
       "    </tr>\n",
       "    <tr>\n",
       "      <th>1</th>\n",
       "      <td>869584</td>\n",
       "      <td>701.630560</td>\n",
       "      <td>LPT</td>\n",
       "    </tr>\n",
       "    <tr>\n",
       "      <th>2</th>\n",
       "      <td>869587</td>\n",
       "      <td>119.878161</td>\n",
       "      <td>HBP</td>\n",
       "    </tr>\n",
       "    <tr>\n",
       "      <th>3</th>\n",
       "      <td>869589</td>\n",
       "      <td>161.938559</td>\n",
       "      <td>DSLV</td>\n",
       "    </tr>\n",
       "    <tr>\n",
       "      <th>4</th>\n",
       "      <td>869590</td>\n",
       "      <td>204.126667</td>\n",
       "      <td>BPTH</td>\n",
       "    </tr>\n",
       "    <tr>\n",
       "      <th>...</th>\n",
       "      <td>...</td>\n",
       "      <td>...</td>\n",
       "      <td>...</td>\n",
       "    </tr>\n",
       "    <tr>\n",
       "      <th>4995</th>\n",
       "      <td>707588</td>\n",
       "      <td>99.917736</td>\n",
       "      <td>LDP</td>\n",
       "    </tr>\n",
       "    <tr>\n",
       "      <th>4996</th>\n",
       "      <td>707611</td>\n",
       "      <td>393.918500</td>\n",
       "      <td>LITB</td>\n",
       "    </tr>\n",
       "    <tr>\n",
       "      <th>4997</th>\n",
       "      <td>707619</td>\n",
       "      <td>112.800000</td>\n",
       "      <td>LND</td>\n",
       "    </tr>\n",
       "    <tr>\n",
       "      <th>4998</th>\n",
       "      <td>707624</td>\n",
       "      <td>1256.701650</td>\n",
       "      <td>LOCK</td>\n",
       "    </tr>\n",
       "    <tr>\n",
       "      <th>4999</th>\n",
       "      <td>707647</td>\n",
       "      <td>116.476103</td>\n",
       "      <td>LXFR</td>\n",
       "    </tr>\n",
       "  </tbody>\n",
       "</table>\n",
       "<p>5000 rows × 3 columns</p>\n",
       "</div>"
      ],
      "text/plain": [
       "       asset       volume asset_name\n",
       "0     869577   154.528596        CTT\n",
       "1     869584   701.630560        LPT\n",
       "2     869587   119.878161        HBP\n",
       "3     869589   161.938559       DSLV\n",
       "4     869590   204.126667       BPTH\n",
       "...      ...          ...        ...\n",
       "4995  707588    99.917736        LDP\n",
       "4996  707611   393.918500       LITB\n",
       "4997  707619   112.800000        LND\n",
       "4998  707624  1256.701650       LOCK\n",
       "4999  707647   116.476103       LXFR\n",
       "\n",
       "[5000 rows x 3 columns]"
      ]
     },
     "execution_count": 15,
     "metadata": {},
     "output_type": "execute_result"
    }
   ],
   "source": [
    "result = task_graph.run(outputs=outputs)\n",
    "csv_data_df, csv_1_df, csv_2_df = result\n",
    "result['output_csv2.df_out']"
   ]
  },
  {
   "cell_type": "markdown",
   "metadata": {},
   "source": [
    "We can profile each of the computation node running time by turning on the profiler."
   ]
  },
  {
   "cell_type": "code",
   "execution_count": 16,
   "metadata": {},
   "outputs": [
    {
     "name": "stdout",
     "output_type": "stream",
     "text": [
      "id:stock_data process time:3.999s\n",
      "id:volume_filter process time:0.009s\n",
      "id:sort_node process time:0.089s\n",
      "id:add_return_feature process time:0.057s\n",
      "id:average_volume process time:0.035s\n",
      "id:average_return process time:0.034s\n",
      "id:stock_name process time:0.013s\n",
      "id:left_merge1 process time:0.002s\n",
      "id:output_csv1 process time:0.028s\n",
      "id:left_merge2 process time:0.002s\n",
      "id:output_csv2 process time:0.026s\n"
     ]
    }
   ],
   "source": [
    "outputs =  ['stock_data.cudf_out', 'output_csv1.df_out', 'output_csv2.df_out']\n",
    "csv_data_df, csv_1_df, csv_2_df = task_graph.run(outputs=outputs, profile=True)"
   ]
  },
  {
   "cell_type": "markdown",
   "metadata": {},
   "source": [
    "Where most of the time is spent on the csv file processing. This is because we have to convert the time string to the proper format via CPU. Let's inspect the content of `csv_1_df` and `csv_2_df`."
   ]
  },
  {
   "cell_type": "code",
   "execution_count": 17,
   "metadata": {},
   "outputs": [
    {
     "name": "stdout",
     "output_type": "stream",
     "text": [
      "csv_1_df content:\n",
      "       asset   returns asset_name\n",
      "0     869577 -0.000295        CTT\n",
      "1     869584  0.000387        LPT\n",
      "2     869587  0.027713        HBP\n",
      "3     869589  0.001337       DSLV\n",
      "4     869590  0.009657       BPTH\n",
      "...      ...       ...        ...\n",
      "4995  707588 -0.000049        LDP\n",
      "4996  707611 -0.000967       LITB\n",
      "4997  707619 -0.021890        LND\n",
      "4998  707624  0.001069       LOCK\n",
      "4999  707647  0.001011       LXFR\n",
      "\n",
      "[5000 rows x 3 columns]\n",
      "\n",
      "csv_2_df content:\n",
      "       asset      volume asset_name\n",
      "0     869577  154.528596        CTT\n",
      "1     869584  701.630560        LPT\n",
      "2     869587  119.878161        HBP\n",
      "3     869589  161.938559       DSLV\n",
      "4     869590  204.126667       BPTH\n",
      "...      ...         ...        ...\n",
      "4995    7438   80.495558        NQM\n",
      "4996    7440   76.090120        NQP\n",
      "4997    7441   86.637237        NQS\n",
      "4998    7443  569.610747         NR\n",
      "4999    7455   68.407921        NRT\n",
      "\n",
      "[5000 rows x 3 columns]\n"
     ]
    }
   ],
   "source": [
    "print('csv_1_df content:')\n",
    "print(csv_1_df)\n",
    "\n",
    "print('\\ncsv_2_df content:')\n",
    "print(csv_2_df)   "
   ]
  },
  {
   "cell_type": "markdown",
   "metadata": {},
   "source": [
    "Also, please notice that two resulting csv files has been created:\n",
    "- average_return.csv\n",
    "- average_volume.csv"
   ]
  },
  {
   "cell_type": "code",
   "execution_count": 18,
   "metadata": {},
   "outputs": [
    {
     "name": "stdout",
     "output_type": "stream",
     "text": [
      "\n",
      "csv files created:\n"
     ]
    }
   ],
   "source": [
    "print('\\ncsv files created:')\n",
    "!find . -iname \"*symbol*\" "
   ]
  },
  {
   "cell_type": "markdown",
   "metadata": {},
   "source": [
    "## Subgraphs\n",
    "\n",
    "A nice feature of task graphs is that we can evaluate any **subgraph**. For instance, if you are only interested in the `average volume` result, you can run only the tasks which are relevant for that computation.\n",
    "\n",
    "If we would not want to re-run tasks, we could also use the `replace` argument of the `run` function with a `load` option.\n",
    "\n",
    "The `replace` argument needs to be a dictionary where each key is the task/node id. The values are a replacement task-spec dictionary (i.e. each key is a spec overload, and its value is what to overload with).\n",
    "\n",
    "In the example below, instead of re-running the `stock_data` node to load a csv file into a `cudf` dataframe, we will use its dataframe output to load from it."
   ]
  },
  {
   "cell_type": "code",
   "execution_count": 19,
   "metadata": {},
   "outputs": [
    {
     "name": "stdout",
     "output_type": "stream",
     "text": [
      "       asset      volume\n",
      "0         93   86.594737\n",
      "1        165   67.020000\n",
      "2        239  128.835141\n",
      "3        281   68.450000\n",
      "4        592  110.333333\n",
      "...      ...         ...\n",
      "4995  869589  161.938559\n",
      "4996  869590  204.126667\n",
      "4997  869592  101.423675\n",
      "4998  869597   81.298788\n",
      "4999  869599   83.425988\n",
      "\n",
      "[5000 rows x 2 columns]\n"
     ]
    }
   ],
   "source": [
    "replace = {\n",
    "    'stock_data': {\n",
    "        'load': {\n",
    "            'cudf_out': csv_data_df\n",
    "        },\n",
    "        'save': True\n",
    "    }\n",
    "}\n",
    "\n",
    "(volume_mean_df, ) = task_graph.run(outputs=['average_volume.stock_out'],\n",
    "                                    replace=replace)\n",
    "\n",
    "print(volume_mean_df)"
   ]
  },
  {
   "cell_type": "markdown",
   "metadata": {},
   "source": [
    "As a convenience, we can save on disk the checkpoints for any of the nodes, and re-load them if needed. It is only needed to set the save option to `True`. This step will take a while depends on the disk IO speed.\n",
    "\n",
    "In the example above, the `replace` spec directs `run` to save on disk for the `stock_data`. If `load` was boolean then the data would be loaded from disk presuming the data was saved to disk in a prior run.\n",
    "\n",
    "The default directory for saving is `<current_workdir>/.cache/<node_id>.hdf5`.\n",
    "\n",
    "`replace` is also used to override parameters in the tasks. For instance, if we wanted to use the value `40.0` instead `50.0` in the task `volume_filter`, we would do something similar to:\n",
    "```\n",
    "replace_spec = {\n",
    "    'volume_filter': {\n",
    "        'conf': {\n",
    "            'min': 40.0\n",
    "        }\n",
    "    },\n",
    "    'some_task': etc...\n",
    "}\n",
    "```"
   ]
  },
  {
   "cell_type": "code",
   "execution_count": 19,
   "metadata": {},
   "outputs": [
    {
     "name": "stdout",
     "output_type": "stream",
     "text": [
      "Return mean Dataframe:\n",
      "\n",
      "       asset   returns\n",
      "0         93  0.241380\n",
      "1        165  0.000700\n",
      "2        239  0.010021\n",
      "3        281 -0.088465\n",
      "4        592  0.619716\n",
      "...      ...       ...\n",
      "4995  869589  0.001337\n",
      "4996  869590  0.009657\n",
      "4997  869592  0.001202\n",
      "4998  869597 -0.003332\n",
      "4999  869599  0.003291\n",
      "\n",
      "[5000 rows x 2 columns]\n"
     ]
    }
   ],
   "source": [
    "replace = {'stock_data': {'load': True},\n",
    "           'average_return': {'save': True}}\n",
    "\n",
    "\n",
    "(return_mean_df, ) = task_graph.run(outputs=['average_return.stock_out'], replace=replace)\n",
    "\n",
    "print('Return mean Dataframe:\\n')\n",
    "print(return_mean_df)"
   ]
  },
  {
   "cell_type": "markdown",
   "metadata": {},
   "source": [
    "Now, we might want to load the `return_mean_df` from the saved file and evaluate only tasks that we are interested in.\n",
    "\n",
    "In the cells below, we compare different load approaches:\n",
    "- in-memory,\n",
    "- from disk, \n",
    "- and not loading at all.\n",
    "\n",
    "When working interactively, or in situations requiring iterative and explorative task graphs, a significant amount of time is saved by just re-loading the data that do not require to be recalculated."
   ]
  },
  {
   "cell_type": "code",
   "execution_count": 20,
   "metadata": {},
   "outputs": [
    {
     "name": "stdout",
     "output_type": "stream",
     "text": [
      "Using in-memory dataframes for load:\n",
      "CPU times: user 319 ms, sys: 82.9 ms, total: 401 ms\n",
      "Wall time: 397 ms\n"
     ]
    }
   ],
   "source": [
    "%%time\n",
    "print('Using in-memory dataframes for load:')\n",
    "\n",
    "replace = {'stock_data': {'load':  {\n",
    "            'cudf_out': csv_data_df\n",
    "            }},\n",
    "           'average return': {'load': \n",
    "                              {'stock_out': return_mean_df}}\n",
    "          }\n",
    "\n",
    "_ = task_graph.run(outputs=['output_csv2.df_out'], replace=replace)"
   ]
  },
  {
   "cell_type": "code",
   "execution_count": 21,
   "metadata": {},
   "outputs": [
    {
     "name": "stdout",
     "output_type": "stream",
     "text": [
      "Using cached dataframes on disk for load:\n",
      "CPU times: user 4.14 s, sys: 932 ms, total: 5.08 s\n",
      "Wall time: 5.06 s\n"
     ]
    }
   ],
   "source": [
    "%%time\n",
    "print('Using cached dataframes on disk for load:')\n",
    "\n",
    "replace = {'stock_data': {'load': True},\n",
    "           'average return': {'load': True}}\n",
    "\n",
    "_ = task_graph.run(outputs=['output_csv2.df_out'], replace=replace)"
   ]
  },
  {
   "cell_type": "code",
   "execution_count": 22,
   "metadata": {},
   "outputs": [
    {
     "name": "stdout",
     "output_type": "stream",
     "text": [
      "Re-running dataframes calculations instead of using load:\n",
      "CPU times: user 4.2 s, sys: 922 ms, total: 5.13 s\n",
      "Wall time: 5.11 s\n"
     ]
    }
   ],
   "source": [
    "%%time\n",
    "print('Re-running dataframes calculations instead of using load:')\n",
    "\n",
    "replace = {'stock_data': {'load': True}}\n",
    "\n",
    "_ = task_graph.run(outputs=['output_csv2.df_out'], replace=replace)"
   ]
  },
  {
   "cell_type": "markdown",
   "metadata": {},
   "source": [
    "An idiomatic way to save data, if not on disk, or load data, if present on disk, is demonstrated below."
   ]
  },
  {
   "cell_type": "code",
   "execution_count": 23,
   "metadata": {},
   "outputs": [
    {
     "name": "stdout",
     "output_type": "stream",
     "text": [
      "CPU times: user 4.16 s, sys: 910 ms, total: 5.07 s\n",
      "Wall time: 5.05 s\n"
     ]
    }
   ],
   "source": [
    "%%time\n",
    "import os\n",
    "\n",
    "loadsave_csv_data    = 'load' if os.path.isfile('./.cache/stock_data.hdf5') else 'save'\n",
    "loadsave_return_mean = 'load' if os.path.isfile('./.cache/average_return.hdf5') else 'save'\n",
    "\n",
    "replace = {'stock_data': {loadsave_csv_data: True},\n",
    "           'average_return': {loadsave_return_mean: True}}\n",
    "\n",
    "_ = task_graph.run(outputs=['output_csv2.df_out'], replace=replace)"
   ]
  },
  {
   "cell_type": "markdown",
   "metadata": {},
   "source": [
    "## Delete temporary files\n",
    "\n",
    "A few cells above, we generated a .yaml file containing the example task graph, and also a couple of CSV files.\n",
    "\n",
    "Let's keep our directory clean, and delete them."
   ]
  },
  {
   "cell_type": "code",
   "execution_count": 24,
   "metadata": {},
   "outputs": [],
   "source": [
    "%%bash -s \"$task_graph_file_name\"  \"$csv_average_return\" \"$csv_average_volume\" \n",
    "rm -f $1 $2 $3"
   ]
  },
  {
   "cell_type": "markdown",
   "metadata": {},
   "source": [
    "<a id='node_class_example'></a>\n",
    "\n",
    "---\n",
    "\n",
    "## Node class example\n",
    "\n",
    "Implementing custom nodes in gQuant is very straighforward.\n",
    "\n",
    "Data scientists only need to override five methods in the parent class `Node`:\n",
    "- `init`\n",
    "- `columns_setup`\n",
    "- `ports_setup`\n",
    "- `conf_schema`\n",
    "- `process`\n",
    "\n",
    "`init` method is usually used to define the required column names\n",
    "\n",
    "`ports_setup` defines the input and output ports for the node\n",
    "\n",
    "`columns_setup` method is used to calculate the output column name and types.\n",
    "\n",
    "`conf_schema` method is used to define the JSON schema for the node conf so the client can generate the proper UI for it.\n",
    "\n",
    "`process` method takes input dataframes and computes the output dataframe. \n",
    "\n",
    "In this way, dataframes are strongly typed, and errors can be detected early before the time-consuming computation happens.\n",
    "\n",
    "Below, it can be observed `ValueFilterNode` implementation details:"
   ]
  },
  {
   "cell_type": "code",
   "execution_count": 36,
   "metadata": {},
   "outputs": [
    {
     "name": "stdout",
     "output_type": "stream",
     "text": [
      "class ValueFilterNode(Node, _PortTypesMixin):\n",
      "\n",
      "    def init(self):\n",
      "        _PortTypesMixin.init(self)\n",
      "        cols_required = {\"asset\": \"int64\"}\n",
      "        self.required = {\n",
      "            self.INPUT_PORT_NAME: cols_required\n",
      "        }\n",
      "\n",
      "    def columns_setup(self):\n",
      "        return _PortTypesMixin.columns_setup(self)\n",
      "\n",
      "    def ports_setup(self):\n",
      "        return _PortTypesMixin.ports_setup(self)\n",
      "\n",
      "    def conf_schema(self):\n",
      "        json = {\n",
      "            \"title\": \"Value Filter Node configure\",\n",
      "            \"type\": \"array\",\n",
      "            \"description\": \"\"\"Filter the dataframe based on a list of\n",
      "            min/max values.\"\"\",\n",
      "            \"items\": {\n",
      "                \"type\": \"object\",\n",
      "                \"properties\": {\n",
      "                    \"column\":  {\n",
      "                        \"type\": \"string\",\n",
      "                        \"description\": \"dataframe column to be filered on\"\n",
      "                    },\n",
      "                    \"min\": {\n",
      "                        \"type\": \"number\",\n",
      "                        \"description\": \"min value, inclusive\"\n",
      "                    },\n",
      "                    \"max\": {\n",
      "                        \"type\": \"number\",\n",
      "                        \"description\": \"max value, inclusive\"\n",
      "                    }\n",
      "                }\n",
      "            }\n",
      "        }\n",
      "        ui = {}\n",
      "        input_columns = self.get_input_columns()\n",
      "        if self.INPUT_PORT_NAME in input_columns:\n",
      "            col_from_inport = input_columns[self.INPUT_PORT_NAME]\n",
      "            enums = [col for col in col_from_inport.keys()]\n",
      "            json['items']['properties']['column']['enum'] = enums\n",
      "            return ConfSchema(json=json, ui=ui)\n",
      "        else:\n",
      "            return ConfSchema(json=json, ui=ui)\n",
      "\n",
      "    def process(self, inputs):\n",
      "        \"\"\"\n",
      "        filter the dataframe based on a list of min/max values. The node's\n",
      "        conf is a list of column criteria. It defines the column name in\n",
      "        'column`, the min value in `min` and the max value in `max`.\n",
      "\n",
      "        Arguments\n",
      "        -------\n",
      "         inputs: list\n",
      "            list of input dataframes.\n",
      "        Returns\n",
      "        -------\n",
      "        dataframe\n",
      "        \"\"\"\n",
      "\n",
      "        input_df = inputs[self.INPUT_PORT_NAME]\n",
      "        str_list = []\n",
      "        for column_item in self.conf:\n",
      "            column_name = column_item['column']\n",
      "            if 'min' in column_item:\n",
      "                minValue = column_item['min']\n",
      "                str_item = '%s >= %f' % (column_name, minValue)\n",
      "                str_list.append(str_item)\n",
      "            if 'max' in column_item:\n",
      "                maxValue = column_item['max']\n",
      "                str_item = '%s <= %f' % (column_name, maxValue)\n",
      "                str_list.append(str_item)\n",
      "        input_df = input_df.query(\" and \".join(str_list))\n",
      "        return {self.OUTPUT_PORT_NAME: input_df}\n",
      "\n"
     ]
    }
   ],
   "source": [
    "import inspect\n",
    "from gquant.plugin_nodes.transform import ValueFilterNode\n",
    "\n",
    "print(inspect.getsource(ValueFilterNode))"
   ]
  },
  {
   "cell_type": "code",
   "execution_count": null,
   "metadata": {},
   "outputs": [],
   "source": []
  },
  {
   "cell_type": "code",
   "execution_count": null,
   "metadata": {},
   "outputs": [],
   "source": []
  },
  {
   "cell_type": "code",
   "execution_count": null,
   "metadata": {},
   "outputs": [],
   "source": []
  },
  {
   "cell_type": "code",
   "execution_count": null,
   "metadata": {},
   "outputs": [],
   "source": []
  },
  {
   "cell_type": "code",
   "execution_count": null,
   "metadata": {},
   "outputs": [],
   "source": []
  },
  {
   "cell_type": "code",
   "execution_count": null,
   "metadata": {},
   "outputs": [],
   "source": []
  },
  {
   "cell_type": "code",
   "execution_count": null,
   "metadata": {},
   "outputs": [],
   "source": []
  },
  {
   "cell_type": "code",
   "execution_count": null,
   "metadata": {},
   "outputs": [],
   "source": []
  },
  {
   "cell_type": "code",
   "execution_count": null,
   "metadata": {},
   "outputs": [],
   "source": []
  },
  {
   "cell_type": "code",
   "execution_count": null,
   "metadata": {},
   "outputs": [],
   "source": []
  }
 ],
 "metadata": {
  "kernelspec": {
   "display_name": "Python 3",
   "language": "python",
   "name": "python3"
  },
  "language_info": {
   "codemirror_mode": {
    "name": "ipython",
    "version": 3
   },
   "file_extension": ".py",
   "mimetype": "text/x-python",
   "name": "python",
   "nbconvert_exporter": "python",
   "pygments_lexer": "ipython3",
   "version": "3.7.7"
  }
 },
 "nbformat": 4,
 "nbformat_minor": 4
}
