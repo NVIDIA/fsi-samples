{
 "cells": [
  {
   "cell_type": "markdown",
   "metadata": {},
   "source": [
    "# Introduction to gQuant\n",
    "\n",
    "**gQuant** is a set of open-source examples for Quantitative Analysis tasks:\n",
    "- Data preparation & feat. engineering\n",
    "- Alpha seeking modeling\n",
    "- Technical indicators\n",
    "- Backtesting\n",
    "\n",
    "It is GPU-accelerated by leveraging [**RAPIDS.ai**](https://rapids.ai) technology, and has Multi-GPU and Multi-Node support.\n",
    "\n",
    "gQuant computing components are oriented around its plugins and task graph.\n",
    "\n",
    "## Download example datasets\n",
    "\n",
    "Before getting started, let's download the example datasets if not present."
   ]
  },
  {
   "cell_type": "code",
   "execution_count": 1,
   "metadata": {},
   "outputs": [
    {
     "name": "stdout",
     "output_type": "stream",
     "text": [
      "Dataset is already present. No need to re-download it.\n"
     ]
    }
   ],
   "source": [
    "! ((test ! -f './data/stock_price_hist.csv.gz' ||  test ! -f './data/security_master.csv.gz') && \\\n",
    "  cd .. && bash download_data.sh) || echo \"Dataset is already present. No need to re-download it.\""
   ]
  },
  {
   "cell_type": "markdown",
   "metadata": {},
   "source": [
    "## About this notebook\n",
    "\n",
    "In this tutorial, we are going to use gQuant to do a simple quant job. The job tasks are listed below:\n",
    "    1. load csv stock data.\n",
    "    2. filter out the stocks that has average volume smaller than 50.\n",
    "    3. sort the stock symbols and datetime.\n",
    "    4. add rate of return as a feature into the table.\n",
    "    5. in two branches, computethe mean volume and mean return.\n",
    "    6. read the file containing the stock symbol names, and join the computed dataframes.\n",
    "    7. output the result in csv files.\n",
    "    \n",
    "## Task graphs, nodes and plugins\n",
    "\n",
    "Quant processing operators are defined as nodes that operates on **cuDF**/**dask_cuDF** dataframes.\n",
    "\n",
    "A **task graph** is a list of tasks composed of gQuant nodes.\n",
    "\n",
    "The cell below contains the task graph described before."
   ]
  },
  {
   "cell_type": "code",
   "execution_count": 2,
   "metadata": {},
   "outputs": [],
   "source": [
    "import sys; sys.path.append('..')\n",
    "import warnings; warnings.simplefilter(\"ignore\")\n",
    "\n",
    "from gquant.dataframe_flow import TaskSpecSchema \n",
    "\n",
    "# load csv stock data\n",
    "task_csvdata = {\n",
    "    TaskSpecSchema.task_id: 'load_csv_data',\n",
    "    TaskSpecSchema.node_type: 'CsvStockLoader',\n",
    "    TaskSpecSchema.conf: {'path': './data/stock_price_hist.csv.gz'},\n",
    "    TaskSpecSchema.inputs: []\n",
    "}\n",
    "\n",
    "# filter out the stocks that has average volume smaller than 50\n",
    "task_minVolume = {\n",
    "    TaskSpecSchema.task_id: 'min_volume',\n",
    "    TaskSpecSchema.node_type: 'VolumeFilterNode',\n",
    "    TaskSpecSchema.conf: {'min': 50.0},\n",
    "    TaskSpecSchema.inputs: ['load_csv_data']\n",
    "}\n",
    "\n",
    "# sort the stock symbols and datetime\n",
    "task_sort = {\n",
    "    TaskSpecSchema.task_id: 'sort',\n",
    "    TaskSpecSchema.node_type: 'SortNode',\n",
    "    TaskSpecSchema.conf: {'keys': ['asset', 'datetime']},\n",
    "    TaskSpecSchema.inputs: ['min_volume']\n",
    "}\n",
    "\n",
    "# add rate of return as a feature into the table\n",
    "task_addReturn = {\n",
    "    TaskSpecSchema.task_id: 'add_return',\n",
    "    TaskSpecSchema.node_type: 'ReturnFeatureNode',\n",
    "    TaskSpecSchema.conf: {},\n",
    "    TaskSpecSchema.inputs: ['sort']\n",
    "}\n",
    "\n",
    "# read the stock symbol name file and join the computed dataframes\n",
    "task_stockSymbol = {\n",
    "    TaskSpecSchema.task_id: 'stock_symbol',\n",
    "    TaskSpecSchema.node_type: 'StockNameLoader',\n",
    "    TaskSpecSchema.conf: {'path': './data/security_master.csv.gz'},\n",
    "    TaskSpecSchema.inputs: []\n",
    "}\n",
    "\n",
    "# In two branches, compute the mean volume and mean return seperately\n",
    "task_volumeMean = {\n",
    "    TaskSpecSchema.task_id: 'volume_mean',\n",
    "    TaskSpecSchema.node_type: 'AverageNode',\n",
    "    TaskSpecSchema.conf: {'column': 'volume'},\n",
    "    TaskSpecSchema.inputs: ['add_return']\n",
    "}\n",
    "\n",
    "task_returnMean = {\n",
    "    TaskSpecSchema.task_id: 'return_mean',\n",
    "    TaskSpecSchema.node_type: 'AverageNode',\n",
    "    TaskSpecSchema.conf: {'column': 'returns'},\n",
    "    TaskSpecSchema.inputs: ['add_return']\n",
    "}\n",
    "\n",
    "task_leftMerge1 = {\n",
    "    TaskSpecSchema.task_id: 'left_merge_1',\n",
    "    TaskSpecSchema.node_type: 'LeftMergeNode',\n",
    "    TaskSpecSchema.conf: {'column': 'asset'},\n",
    "    TaskSpecSchema.inputs: ['volume_mean', 'stock_symbol']\n",
    "}\n",
    "\n",
    "task_leftMerge2 = {\n",
    "    TaskSpecSchema.task_id: 'left_merge_2',\n",
    "    TaskSpecSchema.node_type: 'LeftMergeNode',\n",
    "    TaskSpecSchema.conf: {'column': 'asset'},\n",
    "    TaskSpecSchema.inputs: ['return_mean', 'stock_symbol']\n",
    "}\n",
    "\n",
    "# output the result in csv files\n",
    "\n",
    "task_outputCsv1 = {\n",
    "    TaskSpecSchema.task_id: 'output_csv_1',\n",
    "    TaskSpecSchema.node_type: 'OutCsvNode',\n",
    "    TaskSpecSchema.conf: {'path': 'symbol_volume.csv'},\n",
    "    TaskSpecSchema.inputs: ['left_merge_1']\n",
    "}\n",
    "\n",
    "task_outputCsv2 = {\n",
    "    TaskSpecSchema.task_id: 'output_csv_2',\n",
    "    TaskSpecSchema.node_type: 'OutCsvNode',\n",
    "    TaskSpecSchema.conf: {'path': 'symbol_returns.csv'},\n",
    "    TaskSpecSchema.inputs: ['left_merge_2']\n",
    "}"
   ]
  },
  {
   "cell_type": "markdown",
   "metadata": {},
   "source": [
    "In Python, a gQuant task-spec is defined as a dictionary with the following fields:\n",
    "- `id`\n",
    "- `type`\n",
    "- `conf`\n",
    "- `inputs`\n",
    "- `filepath`\n",
    "\n",
    "As a best practice, we recommend using the `TaskSpecSchema` class for these fields, instead of strings.\n",
    "\n",
    "The `id` for a given task must be unique within a task graph. To use the result(s) of other task(s) as input(s) of a different task, we use the id(s) of the former task(s) in the `inputs` field of the next task.\n",
    "\n",
    "The `type` field contains the node type to use for the compute task. gQuant includes a collection of node classes. These can be found in `gquant.plugin_nodes`. Click [here](#node_class_example) to see a gQuant node class example.\n",
    "\n",
    "The `conf` field is used to parameterise a task. It lets you access user-set parameters within a plugin (such as `self.conf['min']` in the example above).\n",
    "\n",
    "The `filepath` field is used to specify a python module where a custom plugin is defined. It is optional if the plugin is in `plugin_nodes` directory, and mandatory when the plugin is somewhere else. In a different tutorial, we will learn how to create custom plugins.\n",
    "\n",
    "A custom node schema will look something like this:\n",
    "```\n",
    "custom_task = {\n",
    "    TaskSpecSchema.task_id: 'custom_calc',\n",
    "    TaskSpecSchema.node_type: 'CustomNode',\n",
    "    TaskSpecSchema.conf: {},\n",
    "    TaskSpecSchema.inputs: ['some_other_node'],\n",
    "    TaskSpecSchema.filepath: 'custom_nodes.py'\n",
    "}\n",
    "```"
   ]
  },
  {
   "cell_type": "markdown",
   "metadata": {},
   "source": [
    "Below, we compose our task graph and visualize it as a graph."
   ]
  },
  {
   "cell_type": "code",
   "execution_count": 3,
   "metadata": {},
   "outputs": [
    {
     "data": {
      "image/png": "[encoded data removed]",
      "text/plain": [
       "<IPython.core.display.Image object>"
      ]
     },
     "execution_count": 3,
     "metadata": {},
     "output_type": "execute_result"
    }
   ],
   "source": [
    "from gquant.dataframe_flow import TaskGraph\n",
    "\n",
    "# list of nodes composing the task graph\n",
    "task_list = [\n",
    "    task_csvdata, task_minVolume, task_sort, task_addReturn,\n",
    "    task_stockSymbol, task_volumeMean, task_returnMean,\n",
    "    task_leftMerge1, task_leftMerge2,\n",
    "    task_outputCsv1, task_outputCsv2]\n",
    "\n",
    "task_graph = TaskGraph(task_list)\n",
    "task_graph.draw(format='ipynb')"
   ]
  },
  {
   "cell_type": "markdown",
   "metadata": {},
   "source": [
    "We will use `save` method to save the task graph to a **yaml file**.\n",
    "\n",
    "That will allow us to re-use it in the future."
   ]
  },
  {
   "cell_type": "code",
   "execution_count": 4,
   "metadata": {},
   "outputs": [],
   "source": [
    "task_graph_file_name = '01_tutorial_task_graph.yaml'\n",
    "\n",
    "task_graph.save(task_graph_file_name)"
   ]
  },
  {
   "cell_type": "markdown",
   "metadata": {},
   "source": [
    "Here is a snippet of the content in the resulting yaml file:"
   ]
  },
  {
   "cell_type": "code",
   "execution_count": 5,
   "metadata": {},
   "outputs": [
    {
     "name": "stdout",
     "output_type": "stream",
     "text": [
      "- id: load_csv_data\n",
      "  type: CsvStockLoader\n",
      "  conf:\n",
      "    path: ./data/stock_price_hist.csv.gz\n",
      "  inputs: []\n",
      "- id: min_volume\n",
      "  type: VolumeFilterNode\n",
      "  conf:\n",
      "    min: 50.0\n",
      "  inputs:\n",
      "  - load_csv_data\n",
      "- id: sort\n",
      "  type: SortNode\n",
      "  conf:\n",
      "    keys:\n",
      "    - asset\n",
      "    - datetime\n",
      "  inputs:\n",
      "  - min_volume\n"
     ]
    }
   ],
   "source": [
    "%%bash -s \"$task_graph_file_name\"\n",
    "head -n 19 $1"
   ]
  },
  {
   "cell_type": "markdown",
   "metadata": {},
   "source": [
    "The yaml file describes the computation tasks. We can load it and visualize it as a graph."
   ]
  },
  {
   "cell_type": "code",
   "execution_count": 6,
   "metadata": {},
   "outputs": [
    {
     "data": {
      "image/png": "[encoded data removed]",
      "text/plain": [
       "<IPython.core.display.Image object>"
      ]
     },
     "execution_count": 6,
     "metadata": {},
     "output_type": "execute_result"
    }
   ],
   "source": [
    "task_graph = TaskGraph.load(task_graph_file_name)\n",
    "task_graph.draw(format='ipynb')"
   ]
  },
  {
   "cell_type": "markdown",
   "metadata": {},
   "source": [
    "## Building a task graph\n",
    "\n",
    "Running the task graph is the next logical step. Nevertheless, it can optionally be built before running it.\n",
    "\n",
    "By calling `build` method, the graph is traversed without running the dataframe computations. This could be useful to inspect the column names and types, validate that the plugins can be instantiated, and check for errors.\n",
    "\n",
    "The output of `build` are instances of each task in a dictionary.\n",
    "\n",
    "In the example below, we inspect the column names and types for the inputs and outputs of the `left_merge_1` task:"
   ]
  },
  {
   "cell_type": "code",
   "execution_count": 7,
   "metadata": {},
   "outputs": [
    {
     "name": "stdout",
     "output_type": "stream",
     "text": [
      "Output of build task graph are instances of each task in a dictionary:\n",
      "\n",
      "load_csv_data: <gquant.plugin_nodes.dataloader.csvStockLoader.CsvStockLoader object at 0x7f125a0017f0>\n",
      "min_volume: <gquant.plugin_nodes.transform.volumeFilterNode.VolumeFilterNode object at 0x7f1259f7cef0>\n",
      "sort: <gquant.plugin_nodes.transform.sortNode.SortNode object at 0x7f1259f7cf60>\n",
      "add_return: <gquant.plugin_nodes.transform.returnFeatureNode.ReturnFeatureNode object at 0x7f1259f7cfd0>\n",
      "stock_symbol: <gquant.plugin_nodes.dataloader.stockNameLoader.StockNameLoader object at 0x7f1259f7e080>\n",
      "volume_mean: <gquant.plugin_nodes.transform.averageNode.AverageNode object at 0x7f1259f7e0f0>\n",
      "return_mean: <gquant.plugin_nodes.transform.averageNode.AverageNode object at 0x7f12760991d0>\n",
      "left_merge_1: <gquant.plugin_nodes.transform.leftMergeNode.LeftMergeNode object at 0x7f1259f7e160>\n",
      "left_merge_2: <gquant.plugin_nodes.transform.leftMergeNode.LeftMergeNode object at 0x7f1259f7e1d0>\n",
      "output_csv_1: <gquant.plugin_nodes.analysis.outCsvNode.OutCsvNode object at 0x7f1259f7e240>\n",
      "output_csv_2: <gquant.plugin_nodes.analysis.outCsvNode.OutCsvNode object at 0x7f1259f7e2b0>\n",
      "\n"
     ]
    }
   ],
   "source": [
    "from pprint import pprint\n",
    "\n",
    "task_graph.build()\n",
    "\n",
    "print('Output of build task graph are instances of each task in a dictionary:\\n')\n",
    "print(str(task_graph))"
   ]
  },
  {
   "cell_type": "code",
   "execution_count": 8,
   "metadata": {},
   "outputs": [
    {
     "name": "stdout",
     "output_type": "stream",
     "text": [
      "Input columns in incoming dataframes:\n",
      "\n",
      "{<gquant.plugin_nodes.dataloader.stockNameLoader.StockNameLoader object at 0x7f1259f7e080>: {'asset': 'int64',\n",
      "                                                                                             'asset_name': 'object'},\n",
      " <gquant.plugin_nodes.transform.averageNode.AverageNode object at 0x7f1259f7e0f0>: {'asset': 'int64',\n",
      "                                                                                    'volume': 'float64'}}\n"
     ]
    }
   ],
   "source": [
    "# Input columns in 'left_merge_1' node\n",
    "\n",
    "print('Input columns in incoming dataframes:\\n')\n",
    "pprint(task_graph['left_merge_1'].input_columns)"
   ]
  },
  {
   "cell_type": "code",
   "execution_count": 9,
   "metadata": {},
   "outputs": [
    {
     "name": "stdout",
     "output_type": "stream",
     "text": [
      "Output columns in outgoing dataframe:\n",
      "\n",
      "{'asset': 'int64', 'asset_name': 'object', 'volume': 'float64'}\n"
     ]
    }
   ],
   "source": [
    "# Output columns in 'left_merge_1' node\n",
    "\n",
    "print('Output columns in outgoing dataframe:\\n')\n",
    "pprint(task_graph['left_merge_1'].output_columns)"
   ]
  },
  {
   "cell_type": "markdown",
   "metadata": {},
   "source": [
    "## Running a task graph\n",
    "\n",
    "To execute the graph computations, we will use the `run` method.\n",
    "\n",
    "It requires a tasks list and outputs list. `run` can also takes an optional `replace` argument which is used and explained later on."
   ]
  },
  {
   "cell_type": "code",
   "execution_count": 10,
   "metadata": {},
   "outputs": [],
   "source": [
    "outputs = ['load_csv_data', 'output_csv_1', 'output_csv_2']\n",
    "csv_data_df, csv_1_df, csv_2_df = task_graph.run(outputs=outputs)"
   ]
  },
  {
   "cell_type": "markdown",
   "metadata": {},
   "source": [
    "Let's inspect the content of `csv_1_df` and `csv_2_df`."
   ]
  },
  {
   "cell_type": "code",
   "execution_count": 11,
   "metadata": {},
   "outputs": [
    {
     "name": "stdout",
     "output_type": "stream",
     "text": [
      "csv_1_df content:\n",
      "     asset              volume  asset_name\n",
      "0  869584   673.6252347192931         LPT\n",
      "1  869589   110.4560658578856        DSLV\n",
      "2  869590   66.60725338491314        BPTH\n",
      "3  869592   56.04176626826032          SP\n",
      "4  869349   91.16199127906974        VIIX\n",
      "5  869357    307.764991334489        USLV\n",
      "6  869358   487.5099673202612         UVE\n",
      "7  869363  149.03844827586238        SNOW\n",
      "8  869368  130.89174311926593        AMBR\n",
      "9  869369  149.52366548042696         IBP\n",
      "[3674 more rows]\n",
      "\n",
      "csv_2_df content:\n",
      "     asset                  returns  asset_name\n",
      "0  869584   0.00036941850449688003         LPT\n",
      "1  869589    0.0010772159244456252        DSLV\n",
      "2  869590     0.005320585829942711        BPTH\n",
      "3  869592    0.0005018748359261769          SP\n",
      "4  869349     0.004717268101121203        VIIX\n",
      "5  869357     0.005729739785646481        USLV\n",
      "6  869358    0.0013285777584282478         UVE\n",
      "7  869363  -2.8580346399647587e-05        SNOW\n",
      "8  869368    -0.001582324338745822        AMBR\n",
      "9  869369    0.0017413617080852101         IBP\n",
      "[3674 more rows]\n"
     ]
    }
   ],
   "source": [
    "print('csv_1_df content:')\n",
    "print(csv_1_df)\n",
    "\n",
    "print('\\ncsv_2_df content:')\n",
    "print(csv_2_df)   "
   ]
  },
  {
   "cell_type": "markdown",
   "metadata": {},
   "source": [
    "Also, please notice that two resulting csv files has been created:\n",
    "- symbol_returns.csv\n",
    "- symbol_volume.csv"
   ]
  },
  {
   "cell_type": "code",
   "execution_count": 12,
   "metadata": {},
   "outputs": [
    {
     "name": "stdout",
     "output_type": "stream",
     "text": [
      "\n",
      "csv files created:\n",
      "./symbol_returns.csv\n",
      "./symbol_volume.csv\n"
     ]
    }
   ],
   "source": [
    "print('\\ncsv files created:')\n",
    "!find . -iname \"*symbol*\" "
   ]
  },
  {
   "cell_type": "markdown",
   "metadata": {},
   "source": [
    "## Subgraphs\n",
    "\n",
    "A nice feature of task graphs is that we can evaluate any **subgraph**. For instance, if you are only interested in the `volume_mean` result, you can run only the tasks which are relevant for that computation.\n",
    "\n",
    "If we would not want to re-run tasks, we could also use the `replace` argument of the `run` function with a `load` option.\n",
    "\n",
    "The `replace` argument needs to be a dictionary where each key is the task/node id. The values are a replacement task-spec dictionary (i.e. each key is a spec overload, and its value is what to overload with).\n",
    "\n",
    "In the example below, instead of re-running the `load_csv_data` node to load a csv file into a `cudf` dataframe, we will use its dataframe output to load from it."
   ]
  },
  {
   "cell_type": "code",
   "execution_count": 13,
   "metadata": {},
   "outputs": [
    {
     "name": "stdout",
     "output_type": "stream",
     "text": [
      "    asset              volume\n",
      "0    631  350.26002599934947\n",
      "1    914   266.2237735849058\n",
      "2   1404  2073.5291677469504\n",
      "3   1544   80.65922330097104\n",
      "4   1545  18922.826861182188\n",
      "5   1551   136.9049115913555\n",
      "6   1556    255.454874041621\n",
      "7   1562  185.35912167243217\n",
      "8   1565    66.3794800371402\n",
      "9   1568   948.0509283819619\n",
      "[3674 more rows]\n"
     ]
    }
   ],
   "source": [
    "replace = {\n",
    "    'load_csv_data': {\n",
    "        'load': csv_data_df,\n",
    "        'save': True\n",
    "    }\n",
    "}\n",
    "\n",
    "(volume_mean_df, ) = task_graph.run(outputs=['volume_mean'],\n",
    "                                    replace=replace)\n",
    "\n",
    "print(volume_mean_df)"
   ]
  },
  {
   "cell_type": "markdown",
   "metadata": {},
   "source": [
    "As a convenience, we can save on disk the checkpoints for any of the nodes, and re-load them if needed. It is only needed to set the save option to `True`.\n",
    "\n",
    "In the example above, the `replace` spec directs `run` to save on disk for the `load_csv_data`. If `load` was boolean then the data would be loaded from disk presuming the data was saved to disk in a prior run.\n",
    "\n",
    "The default directory for saving is `<current_workdir>/.cache/<node_id>.hdf5`.\n",
    "\n",
    "`replace` is also used to override parameters in the tasks. For instance, if we wanted to use the value `40.0` instead `50.0` in the task `min_volume`, we would do something similar to:\n",
    "```\n",
    "replace_spec = {\n",
    "    'min_volume': {\n",
    "        'conf': {\n",
    "            'min': 40.0\n",
    "        }\n",
    "    },\n",
    "    'some_task': etc...\n",
    "}\n",
    "```"
   ]
  },
  {
   "cell_type": "code",
   "execution_count": 14,
   "metadata": {},
   "outputs": [
    {
     "name": "stdout",
     "output_type": "stream",
     "text": [
      "Return mean Dataframe:\n",
      "\n",
      "    asset                returns\n",
      "0    631 2.5793723583336317e-05\n",
      "1    914 -0.0008932574948235614\n",
      "2   1404  0.0004232514430167549\n",
      "3   1544  0.0011525606145957482\n",
      "4   1545  0.0007839569686931369\n",
      "5   1551   0.001066455016228575\n",
      "6   1556 0.00040300307029187066\n",
      "7   1562  0.0013682239808026357\n",
      "8   1565  0.0015257181852492247\n",
      "9   1568  0.0022582282008917287\n",
      "[3674 more rows]\n"
     ]
    }
   ],
   "source": [
    "replace = {'load_csv_data': {'load': True},\n",
    "           'return_mean': {'save': True}}\n",
    "\n",
    "\n",
    "(return_mean_df, ) = task_graph.run(outputs=['return_mean'], replace=replace)\n",
    "\n",
    "print('Return mean Dataframe:\\n')\n",
    "print(return_mean_df)"
   ]
  },
  {
   "cell_type": "markdown",
   "metadata": {},
   "source": [
    "Now, we might want to load the `return_mean_df` from the saved file and evaluate only tasks that we are interested in.\n",
    "\n",
    "In the cells below, we compare different load approaches:\n",
    "- in-memory,\n",
    "- from disk, \n",
    "- and not loading at all.\n",
    "\n",
    "When working interactively, or in situations requiring iterative and explorative task graphs, a significant amount of time is saved by just re-loading the data that do not require to be recalculated."
   ]
  },
  {
   "cell_type": "code",
   "execution_count": 15,
   "metadata": {},
   "outputs": [
    {
     "name": "stdout",
     "output_type": "stream",
     "text": [
      "Using in-memory dataframes for load:\n",
      "CPU times: user 55.6 ms, sys: 4.55 ms, total: 60.1 ms\n",
      "Wall time: 67.9 ms\n"
     ]
    }
   ],
   "source": [
    "%%time\n",
    "print('Using in-memory dataframes for load:')\n",
    "\n",
    "replace = {'load_csv_data': {'load': csv_data_df},\n",
    "           'return_mean': {'load': return_mean_df}}\n",
    "\n",
    "_ = task_graph.run(outputs=['output_csv_2'], replace=replace)"
   ]
  },
  {
   "cell_type": "code",
   "execution_count": 16,
   "metadata": {},
   "outputs": [
    {
     "name": "stdout",
     "output_type": "stream",
     "text": [
      "Using cached dataframes on disk for load:\n",
      "CPU times: user 52.2 ms, sys: 8.03 ms, total: 60.2 ms\n",
      "Wall time: 68.9 ms\n"
     ]
    }
   ],
   "source": [
    "%%time\n",
    "print('Using cached dataframes on disk for load:')\n",
    "\n",
    "replace = {'load_csv_data': {'load': True},\n",
    "           'return_mean': {'load': True}}\n",
    "\n",
    "_ = task_graph.run(outputs=['output_csv_2'], replace=replace)"
   ]
  },
  {
   "cell_type": "code",
   "execution_count": 17,
   "metadata": {},
   "outputs": [
    {
     "name": "stdout",
     "output_type": "stream",
     "text": [
      "Re-running dataframes calculations instead of using load:\n",
      "CPU times: user 1.24 s, sys: 1.6 s, total: 2.84 s\n",
      "Wall time: 3.44 s\n"
     ]
    }
   ],
   "source": [
    "%%time\n",
    "print('Re-running dataframes calculations instead of using load:')\n",
    "\n",
    "replace = {'load_csv_data': {'load': True}}\n",
    "\n",
    "_ = task_graph.run(outputs=['output_csv_2'], replace=replace)"
   ]
  },
  {
   "cell_type": "markdown",
   "metadata": {},
   "source": [
    "An idiomatic way to save data, if not on disk, or load data, if present on disk, is demonstrated below."
   ]
  },
  {
   "cell_type": "code",
   "execution_count": 18,
   "metadata": {},
   "outputs": [
    {
     "name": "stdout",
     "output_type": "stream",
     "text": [
      "CPU times: user 56.5 ms, sys: 3.88 ms, total: 60.4 ms\n",
      "Wall time: 63.5 ms\n"
     ]
    }
   ],
   "source": [
    "%%time\n",
    "import os\n",
    "\n",
    "loadsave_csv_data    = 'load' if os.path.isfile('./.cache/load_csv_data.hdf5') else 'save'\n",
    "loadsave_return_mean = 'load' if os.path.isfile('./.cache/return_mean.hdf5') else 'save'\n",
    "\n",
    "replace = {'load_csv_data': {loadsave_csv_data: True},\n",
    "           'return_mean': {loadsave_return_mean: True}}\n",
    "\n",
    "_ = task_graph.run(outputs=['output_csv_2'], replace=replace)"
   ]
  },
  {
   "cell_type": "markdown",
   "metadata": {},
   "source": [
    "## Delete temporary files\n",
    "\n",
    "A few cells above, we generated a .yaml file containing the example task graph, and also a couple of CSV files.\n",
    "\n",
    "Let's keep our directory clean, and delete them."
   ]
  },
  {
   "cell_type": "code",
   "execution_count": 19,
   "metadata": {},
   "outputs": [],
   "source": [
    "%%bash -s \"$task_graph_file_name\"\n",
    "rm -f $1 symbol_returns.csv symbol_volume.csv # clean up"
   ]
  },
  {
   "cell_type": "markdown",
   "metadata": {},
   "source": [
    "<a id='node_class_example'></a>\n",
    "\n",
    "---\n",
    "\n",
    "## Node class example\n",
    "\n",
    "Implementing custom nodes in gQuant is very straighforward.\n",
    "\n",
    "Data scientists only need to override two methods in the parent class `Node`:\n",
    "- `columns_setup`\n",
    "- `process`\n",
    "\n",
    "`columns_setup` method  is used to define the required column names and types for both input and output dataframes.\n",
    "\n",
    "`process` method takes input dataframes and computes the output dataframe. \n",
    "\n",
    "In this way, dataframes are strongly typed, and errors can be detected early before the time-consuming computation happens.\n",
    "\n",
    "Below, it can be observed `VolumeFilterNode` implementation details:"
   ]
  },
  {
   "cell_type": "code",
   "execution_count": 20,
   "metadata": {},
   "outputs": [
    {
     "name": "stdout",
     "output_type": "stream",
     "text": [
      "class VolumeFilterNode(Node):\n",
      "\n",
      "    def columns_setup(self):\n",
      "        self.required = {\"asset\": \"int64\",\n",
      "                         \"volume\": \"float64\"}\n",
      "        self.addition = {\"mean_volume\": \"float64\"}\n",
      "\n",
      "    def process(self, inputs):\n",
      "        \"\"\"\n",
      "        filter the dataframe based on the min and max values of the average\n",
      "        volume for each fo the assets.\n",
      "\n",
      "        Arguments\n",
      "        -------\n",
      "         inputs: list\n",
      "            list of input dataframes.\n",
      "        Returns\n",
      "        -------\n",
      "        dataframe\n",
      "        \"\"\"\n",
      "\n",
      "        input_df = inputs[0]\n",
      "        volume_df = input_df[['volume', \"asset\"]].groupby(\n",
      "                [\"asset\"]).mean().reset_index()\n",
      "        volume_df.columns = [\"asset\", 'mean_volume']\n",
      "        merged = input_df.merge(volume_df, on=\"asset\", how='left')\n",
      "        if 'min' in self.conf:\n",
      "            minVolume = self.conf['min']\n",
      "            merged = merged.query('mean_volume >= %f' % (minVolume))\n",
      "        if 'max' in self.conf:\n",
      "            maxVolume = self.conf['max']\n",
      "            merged = merged.query('mean_volume <= %f' % (maxVolume))\n",
      "        return merged\n",
      "\n"
     ]
    }
   ],
   "source": [
    "import inspect\n",
    "from gquant.plugin_nodes.transform import VolumeFilterNode\n",
    "\n",
    "print(inspect.getsource(VolumeFilterNode))"
   ]
  }
 ],
 "metadata": {
  "kernelspec": {
   "display_name": "Python 3",
   "language": "python",
   "name": "python3"
  },
  "language_info": {
   "codemirror_mode": {
    "name": "ipython",
    "version": 3
   },
   "file_extension": ".py",
   "mimetype": "text/x-python",
   "name": "python",
   "nbconvert_exporter": "python",
   "pygments_lexer": "ipython3",
   "version": "3.6.8"
  }
 },
 "nbformat": 4,
 "nbformat_minor": 2
}
