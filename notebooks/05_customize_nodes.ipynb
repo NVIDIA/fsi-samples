{
 "cells": [
  {
   "cell_type": "markdown",
   "metadata": {},
   "source": [
    "### Customize your own GPU Kernels in gQuant\n",
    "\n",
    "The gQuant is designed to accelerate quantitive finance workflows on the GPU. The acceleration on GPU is facilitated by using cuDF dataframes in the computation graph. The cuDF project is a continously evolving library that provides a pandas-like API. Sometimes, the data scientists are facing a few challenges that cannot be easily solved:\n",
    "    1. The quantitative work needs customized logic to manipulate the data, and there are no direct methods within cuDF to support this logic.\n",
    "    2. Each cuDF dataframe method call launches the GPU kernel once. For performance crtical task, it is sometimes required to wrap lots of computation steps together in a single GPU kernel to reduce the kernel launch overheads. \n",
    "The solution is to build customized GPU kernels to implement them. The code and examples below illustrate a variety of approaches to implement customized GPU kernels in Python."
   ]
  },
  {
   "cell_type": "code",
   "execution_count": 1,
   "metadata": {},
   "outputs": [],
   "source": [
    "import sys\n",
    "sys.path.append('..')\n",
    "\n",
    "# Load necessary Python modules\n",
    "import sys\n",
    "from gquant.dataframe_flow import TaskGraph, Node\n",
    "import cudf\n",
    "import numpy as np\n",
    "from numba import cuda\n",
    "import cupy\n",
    "import math\n",
    "import dask\n",
    "import dask_cudf"
   ]
  },
  {
   "cell_type": "markdown",
   "metadata": {},
   "source": [
    "Define a utility function to verify the results:"
   ]
  },
  {
   "cell_type": "code",
   "execution_count": 2,
   "metadata": {},
   "outputs": [],
   "source": [
    "def verify(ground_truth, computed):\n",
    "    max_difference = (ground_truth - computed).abs().max()\n",
    "    # print('Max Difference: {}'.format(max_difference))\n",
    "    assert(max_difference < 1e-8)\n",
    "    return max_difference"
   ]
  },
  {
   "cell_type": "markdown",
   "metadata": {},
   "source": [
    "### Example Problem: Calculating the distance of points to the origin\n",
    "\n",
    "The sample problem is to take a list of points in 2-D space and compute their distance to the origin.\n",
    "We start by creating a source `Node` in the graph that generate a cuDF dataframe containing 1000 random points."
   ]
  },
  {
   "cell_type": "code",
   "execution_count": 3,
   "metadata": {},
   "outputs": [],
   "source": [
    "class PointNode(Node):\n",
    "\n",
    "    def columns_setup(self,):\n",
    "        self.required = {}\n",
    "        self.addition = {'x': 'float64',\n",
    "                         'y': 'float64'}\n",
    "\n",
    "    def process(self, inputs):\n",
    "        df = cudf.DataFrame()\n",
    "        df['x'] = np.random.rand(1000)\n",
    "        df['y'] = np.random.rand(1000)\n",
    "        return df"
   ]
  },
  {
   "cell_type": "markdown",
   "metadata": {},
   "source": [
    "The distance can be computed via cuDF methods. We define the DistanceNode to calculate the distance and add a `distance_cudf` column to the output dataframe. We use that as the ground truth to compare and verify results later."
   ]
  },
  {
   "cell_type": "code",
   "execution_count": 4,
   "metadata": {},
   "outputs": [],
   "source": [
    "class DistanceNode(Node):\n",
    "\n",
    "    def columns_setup(self,):\n",
    "        self.required = {'x': 'float64',\n",
    "                         'y': 'float64'}\n",
    "        self.addition = {'distance_cudf': 'float64'}\n",
    "\n",
    "    def process(self, inputs):\n",
    "        df = inputs[0]\n",
    "        df['distance_cudf'] = (df['x']**2 + df['y']**2).sqrt()\n",
    "        return df"
   ]
  },
  {
   "cell_type": "markdown",
   "metadata": {},
   "source": [
    "Having these two nodes, we can construct a simple task graph to compute the distance."
   ]
  },
  {
   "cell_type": "code",
   "execution_count": 5,
   "metadata": {},
   "outputs": [
    {
     "data": {
      "image/png": "[encoded data removed]",
      "text/plain": [
       "<IPython.core.display.Image object>"
      ]
     },
     "metadata": {},
     "output_type": "display_data"
    }
   ],
   "source": [
    "input_node = {\n",
    "    'id': 'points',\n",
    "    'type': PointNode,\n",
    "    'conf': {},\n",
    "    'inputs': []}\n",
    "\n",
    "cudf_distance_node = {\n",
    "    'id': 'distance_by_cudf',\n",
    "    'type': DistanceNode,\n",
    "    'conf': {},\n",
    "    'inputs': ['points']}\n",
    "\n",
    "task_list = [input_node, cudf_distance_node]\n",
    "task_graph = TaskGraph(task_list)\n",
    "task_graph.draw(show='ipynb')"
   ]
  },
  {
   "cell_type": "markdown",
   "metadata": {},
   "source": [
    "The next step is to run the task graph to obtain the distances. The output is identified by the `id` of the distance node:"
   ]
  },
  {
   "cell_type": "code",
   "execution_count": 6,
   "metadata": {},
   "outputs": [
    {
     "name": "stdout",
     "output_type": "stream",
     "text": [
      "            x         y  distance_cudf\n",
      "0    0.836387  0.957514       1.271368\n",
      "1    0.294106  0.109366       0.313782\n",
      "2    0.495487  0.440543       0.663013\n",
      "3    0.998370  0.553888       1.141724\n",
      "4    0.691739  0.253014       0.736559\n",
      "5    0.000852  0.061719       0.061725\n",
      "6    0.765695  0.470009       0.898441\n",
      "7    0.170214  0.214503       0.273833\n",
      "8    0.567862  0.188615       0.598367\n",
      "9    0.128882  0.536904       0.552157\n",
      "10   0.752010  0.497383       0.901615\n",
      "11   0.027600  0.129488       0.132397\n",
      "12   0.714133  0.242321       0.754126\n",
      "13   0.051390  0.874764       0.876272\n",
      "14   0.424406  0.113438       0.439304\n",
      "15   0.587216  0.961709       1.126812\n",
      "16   0.478085  0.133467       0.496366\n",
      "17   0.363664  0.157096       0.396145\n",
      "18   0.624918  0.109936       0.634514\n",
      "19   0.581437  0.400406       0.705970\n",
      "20   0.961781  0.454890       1.063931\n",
      "21   0.907983  0.740077       1.171387\n",
      "22   0.408558  0.849442       0.942587\n",
      "23   0.949032  0.475539       1.061508\n",
      "24   0.212582  0.999529       1.021885\n",
      "25   0.838425  0.166519       0.854801\n",
      "26   0.564560  0.166126       0.588494\n",
      "27   0.768162  0.282583       0.818490\n",
      "28   0.758121  0.827895       1.122567\n",
      "29   0.925646  0.353130       0.990718\n",
      "..        ...       ...            ...\n",
      "970  0.125576  0.018615       0.126948\n",
      "971  0.826058  0.344783       0.895124\n",
      "972  0.759709  0.774125       1.084632\n",
      "973  0.579127  0.659230       0.877481\n",
      "974  0.446206  0.001899       0.446210\n",
      "975  0.470431  0.918708       1.032148\n",
      "976  0.615124  0.183615       0.641944\n",
      "977  0.925549  0.488118       1.046375\n",
      "978  0.578353  0.889417       1.060922\n",
      "979  0.216710  0.790887       0.820040\n",
      "980  0.219122  0.240300       0.325206\n",
      "981  0.539036  0.036415       0.540265\n",
      "982  0.111227  0.477055       0.489850\n",
      "983  0.927727  0.835949       1.248795\n",
      "984  0.336382  0.859899       0.923352\n",
      "985  0.969154  0.858187       1.294505\n",
      "986  0.281598  0.562810       0.629327\n",
      "987  0.934636  0.939830       1.325453\n",
      "988  0.438150  0.028522       0.439077\n",
      "989  0.549242  0.387627       0.672251\n",
      "990  0.543592  0.493093       0.733916\n",
      "991  0.599601  0.560348       0.820678\n",
      "992  0.683408  0.402713       0.793236\n",
      "993  0.366721  0.283478       0.463513\n",
      "994  0.054395  0.082871       0.099128\n",
      "995  0.345603  0.094344       0.358248\n",
      "996  0.902845  0.954603       1.313924\n",
      "997  0.411790  0.047897       0.414566\n",
      "998  0.507562  0.226668       0.555875\n",
      "999  0.575396  0.145080       0.593404\n",
      "\n",
      "[1000 rows x 3 columns]\n"
     ]
    }
   ],
   "source": [
    "(out_df,) = task_graph.run(outputs=['distance_by_cudf'])\n",
    "print(out_df)"
   ]
  },
  {
   "cell_type": "markdown",
   "metadata": {},
   "source": [
    "### Customized Kernel with Numba library\n",
    "\n",
    "Numba is an excellent python library used for accelerating numerical computations. Numba supports CUDA GPU programming by directly compiling a restricted subset of Python code into CUDA kernels and device functions. The Numba GPU kernel is written in Python and translated (JIT just-in-time compiled) into GPU code at runtime. This is achieved by decorating a Python function with `@cuda.jit`. "
   ]
  },
  {
   "cell_type": "code",
   "execution_count": 7,
   "metadata": {},
   "outputs": [],
   "source": [
    "@cuda.jit\n",
    "def distance_kernel(x, y, distance, array_len):\n",
    "    # ii - overall thread index\n",
    "    ii = cuda.threadIdx.x + cuda.blockIdx.x * cuda.blockDim.x\n",
    "    if ii < array_len:\n",
    "        distance[ii] = math.sqrt(x[ii]**2 + y[ii]**2)"
   ]
  },
  {
   "cell_type": "markdown",
   "metadata": {},
   "source": [
    "Just like a C/C++ CUDA GPU kernel, the `distance_kernel` function is called by thousands of threads in the GPU. The thread id is computed by `threadIdx.x`, `blockId.x` and `blockDim.x` built-in variables. Please check the [CUDA programming guild](https://docs.nvidia.com/cuda/cuda-c-programming-guide/index.html#thread-hierarchy) for details."
   ]
  },
  {
   "cell_type": "markdown",
   "metadata": {},
   "source": [
    "A cuDF series can be converted to GPU arrays compatible with the Numba library via `to_gpu_array` API. The next step is to define a Node that calls this Numba kernel to compute the distance and save the result into `distance_numba` column in the output dataframe."
   ]
  },
  {
   "cell_type": "code",
   "execution_count": 8,
   "metadata": {},
   "outputs": [],
   "source": [
    "class NumbaDistanceNode(Node):\n",
    "\n",
    "    def columns_setup(self,):\n",
    "        self.required = {'x': 'float64',\n",
    "                         'y': 'float64'}\n",
    "        self.addition = {'distance_numba': 'float64'}\n",
    "        self.delayed_process = True\n",
    "\n",
    "    def process(self, inputs):\n",
    "        df = inputs[0]\n",
    "        number_of_threads = 16\n",
    "        number_of_blocks = ((len(df) - 1)//number_of_threads) + 1\n",
    "        # Inits device array by setting 0 for each index.\n",
    "        # df['distance_numba'] = 0.0\n",
    "        # darr = rmm.device_array(len(df))\n",
    "        darr = cuda.device_array(len(df))\n",
    "        distance_kernel[(number_of_blocks,), (number_of_threads,)](\n",
    "            df['x'].to_gpu_array(),\n",
    "            df['y'].to_gpu_array(),\n",
    "            darr,\n",
    "            len(df))\n",
    "        # df['distance_numba'].to_gpu_array()\n",
    "        df['distance_numba'] = darr\n",
    "        return df"
   ]
  },
  {
   "cell_type": "markdown",
   "metadata": {},
   "source": [
    "The `self.delayed_process = True` flag in the `columns_setup` is necesary to enable the logic in the `Node` class for handling `dask_cudf` dataframes in order to use Dask (for distributed computation i.e. multi-gpu in examples later on). The `dask_cudf` dataframe does not support GPU customized kernels directly. The `to_delayed` and `from_delayed` low level interfaces of `dask_cudf` enable this support. The gQuant framework handles `dask_cudf` dataframes automatically under the hood when we set this flag."
   ]
  },
  {
   "cell_type": "markdown",
   "metadata": {},
   "source": [
    "### Customized Kernel by CuPy library\n",
    "\n",
    "CuPy is an alternative to Numba. Numba JIT compiles Python code into GPU device code at runtime. There are some limitations in how Numba can be used as well as JIT compilation latency overhead. When a Python process calls a Numba GPU kernel for the first time Numba has to compile the Python code, and each time a new Python process is started the GPU kernel has to be recompiled. If advanced features of CUDA are needed and latency is important, CuPy is an alternative library that can be used to compile C/C++ CUDA code. CuPy caches the GPU device code on disk (default location `$(HOME)/.cupy/kernel_cache` which can be changed via `CUPY_CACHE_DIR` environment variable) thus eliminating compilation latency for subsequent Python processes.\n",
    "\n",
    "`CuPy` GPU kernel is esentially a C/C++ GPU kernel. Below we define the `compute_distance` kernel using `CuPy`:"
   ]
  },
  {
   "cell_type": "code",
   "execution_count": 9,
   "metadata": {},
   "outputs": [],
   "source": [
    "raw_kernel = cupy.RawKernel(r'''\n",
    "    extern \"C\" __global__\n",
    "    void compute_distance(const double* x, const double* y,\n",
    "            double* distance, int arr_len) {\n",
    "        int tid = blockDim.x * blockIdx.x + threadIdx.x;\n",
    "        if (tid < arr_len){\n",
    "        distance[tid] = sqrt(x[tid]*x[tid] + y[tid]*y[tid]);\n",
    "        }\n",
    "    }\n",
    "''', 'compute_distance')"
   ]
  },
  {
   "cell_type": "markdown",
   "metadata": {},
   "source": [
    "Using gQuant we can now define a Node that calls this CuPy kernel to compute the distance and save the results into `distance_cupy` column of a `cudf` dataframe."
   ]
  },
  {
   "cell_type": "code",
   "execution_count": 10,
   "metadata": {},
   "outputs": [],
   "source": [
    "class CupyDistanceNode(Node):\n",
    "\n",
    "    def columns_setup(self,):\n",
    "        self.required = {'x': 'float64',\n",
    "                         'y': 'float64'}\n",
    "        self.addition = {'distance_cupy': 'float64'}\n",
    "        self.delayed_process = True\n",
    "\n",
    "    def process(self, inputs):\n",
    "        df = inputs[0]\n",
    "        # cupy_x = cupy.asarray(df['x'].to_gpu_array())\n",
    "        # cupy_y = cupy.asarray(df['y'].to_gpu_array())\n",
    "        cupy_x = cupy.asarray(df['x'])\n",
    "        cupy_y = cupy.asarray(df['y'])\n",
    "        number_of_threads = 16\n",
    "        number_of_blocks = (len(df) - 1)//number_of_threads + 1\n",
    "        dis = cupy.ndarray(len(df), dtype=cupy.float64)\n",
    "        raw_kernel((number_of_blocks,), (number_of_threads,),\n",
    "                   (cupy_x, cupy_y, dis, len(df)))\n",
    "        df['distance_cupy'] = dis\n",
    "        return df"
   ]
  },
  {
   "cell_type": "markdown",
   "metadata": {},
   "source": [
    "The `self.delayed_process = True` flag is added for the same reason as with `DistanceNumbaNode` i.e. to support `dask_cudf` data frames."
   ]
  },
  {
   "cell_type": "markdown",
   "metadata": {},
   "source": [
    "### Computing using the Nodes with customized GPU kernels\n",
    "\n",
    "First we construct the computation graph for gQuant."
   ]
  },
  {
   "cell_type": "code",
   "execution_count": 11,
   "metadata": {},
   "outputs": [
    {
     "data": {
      "image/png": "[encoded data removed]",
      "text/plain": [
       "<IPython.core.display.Image object>"
      ]
     },
     "metadata": {},
     "output_type": "display_data"
    }
   ],
   "source": [
    "numba_distance_node = {\n",
    "    'id': 'distance_by_numba',\n",
    "    'type': NumbaDistanceNode,\n",
    "    'conf': {},\n",
    "    'inputs': ['points']\n",
    "}\n",
    "\n",
    "cupy_distance_node = {\n",
    "    'id': 'distance_by_cupy',\n",
    "    'type': CupyDistanceNode,\n",
    "    'conf': {},\n",
    "    'inputs': ['points']\n",
    "}\n",
    "\n",
    "task_list = [input_node, numba_distance_node,\n",
    "             cupy_distance_node, cudf_distance_node]\n",
    "out_list = ['distance_by_numba', 'distance_by_cupy', 'distance_by_cudf']\n",
    "task_graph = TaskGraph(task_list)\n",
    "task_graph.draw(show='ipynb')"
   ]
  },
  {
   "cell_type": "markdown",
   "metadata": {},
   "source": [
    "Then we run the tasks."
   ]
  },
  {
   "cell_type": "code",
   "execution_count": 12,
   "metadata": {},
   "outputs": [],
   "source": [
    "df_w_numba, df_w_cupy, df_w_cudf = task_graph.run(out_list)"
   ]
  },
  {
   "cell_type": "markdown",
   "metadata": {},
   "source": [
    "Use `verify` function defined above to verify the results:"
   ]
  },
  {
   "cell_type": "code",
   "execution_count": 13,
   "metadata": {},
   "outputs": [
    {
     "name": "stdout",
     "output_type": "stream",
     "text": [
      "Max Difference: 2.220446049250313e-16\n",
      "Max Difference: 2.220446049250313e-16\n"
     ]
    }
   ],
   "source": [
    "mdiff = verify(df_w_cudf['distance_cudf'], df_w_numba['distance_numba'])\n",
    "print('Max Difference: {}'.format(mdiff))\n",
    "mdiff = verify(df_w_cudf['distance_cudf'], df_w_cupy['distance_cupy'])\n",
    "print('Max Difference: {}'.format(mdiff))"
   ]
  },
  {
   "cell_type": "markdown",
   "metadata": {},
   "source": [
    "### Dask distributed computation\n",
    "\n",
    "Using Dask and `dask-cudf` we can run the Nodes with customized GPU kernels on distributed dataframes. Under the hood of the `Node` class the Dask delayed processing API is handled for cudf dataframes when the `self.delayed_process = True` flag is set.\n",
    "\n",
    "We first start a distributed Dask environment. When a dask client is instantiated it registers itself as the default Dask scheduler (<http://distributed.dask.org/en/latest/client.html>). Therefore all subsequent Dask distibuted dataframe operations will run in distributed fashion."
   ]
  },
  {
   "cell_type": "code",
   "execution_count": 14,
   "metadata": {},
   "outputs": [
    {
     "data": {
      "text/html": [
       "<table style=\"border: 2px solid white;\">\n",
       "<tr>\n",
       "<td style=\"vertical-align: top; border: 0px solid white\">\n",
       "<h3 style=\"text-align: left;\">Client</h3>\n",
       "<ul style=\"text-align: left; list-style: none; margin: 0; padding: 0;\">\n",
       "  <li><b>Scheduler: </b>tcp://127.0.0.1:45147</li>\n",
       "  <li><b>Dashboard: </b><a href='http://127.0.0.1:8787/status' target='_blank'>http://127.0.0.1:8787/status</a>\n",
       "</ul>\n",
       "</td>\n",
       "<td style=\"vertical-align: top; border: 0px solid white\">\n",
       "<h3 style=\"text-align: left;\">Cluster</h3>\n",
       "<ul style=\"text-align: left; list-style:none; margin: 0; padding: 0;\">\n",
       "  <li><b>Workers: </b>8</li>\n",
       "  <li><b>Cores: </b>8</li>\n",
       "  <li><b>Memory: </b>540.95 GB</li>\n",
       "</ul>\n",
       "</td>\n",
       "</tr>\n",
       "</table>"
      ],
      "text/plain": [
       "<Client: 'tcp://127.0.0.1:45147' processes=8 threads=8, memory=540.95 GB>"
      ]
     },
     "execution_count": 14,
     "metadata": {},
     "output_type": "execute_result"
    }
   ],
   "source": [
    "from dask_cuda import LocalCUDACluster\n",
    "cluster = LocalCUDACluster()\n",
    "from dask.distributed import Client\n",
    "client = Client(cluster)\n",
    "client"
   ]
  },
  {
   "cell_type": "markdown",
   "metadata": {},
   "source": [
    "The Dask status page can be displayed in a web browser at `<ip-address>:8787`. The ip-address corresponds to the machine where the dask cluster (scheduler) was launched. Most likely same ip-address as where this jupyter notebook is running. The javascript cell below will launch the dask status page otherwise manually go to the status page <http://distributed.dask.org/en/latest/web.html>. Using the Dask status page is convenient for monitoring dask distributed processing."
   ]
  },
  {
   "cell_type": "code",
   "execution_count": 15,
   "metadata": {},
   "outputs": [
    {
     "data": {
      "text/html": [
       "\n",
       "<script type=\"text/Javascript\">\n",
       "    function check_status(){\n",
       "        var url = document.location.href;\n",
       "        var index = url.indexOf(':8888');\n",
       "        var status = url.substr(0, index)+\":8787\";\n",
       "        window.open(status,'_blank');\n",
       "    }\n",
       "    check_status();\n",
       "</script>\n"
      ],
      "text/plain": [
       "<IPython.core.display.HTML object>"
      ]
     },
     "execution_count": 15,
     "metadata": {},
     "output_type": "execute_result"
    }
   ],
   "source": [
    "from IPython.display import HTML\n",
    "javascript = \"\"\"\n",
    "<script type=\"text/Javascript\">\n",
    "    function check_status(){\n",
    "        var url = document.location.href;\n",
    "        var index = url.indexOf(':8888');\n",
    "        var status = url.substr(0, index)+\":8787\";\n",
    "        window.open(status,'_blank');\n",
    "    }\n",
    "    check_status();\n",
    "</script>\n",
    "\"\"\"\n",
    "HTML(javascript)"
   ]
  },
  {
   "cell_type": "markdown",
   "metadata": {},
   "source": [
    "The next step is to partition the `cudf` dataframe into a `dask_cudf` dataframe. Here we make the number of partitions correspond to the number of workers:"
   ]
  },
  {
   "cell_type": "code",
   "execution_count": 16,
   "metadata": {},
   "outputs": [],
   "source": [
    "class DistributedNode(Node):\n",
    "\n",
    "    def columns_setup(self,):\n",
    "        self.required = {'x': 'float64',\n",
    "                         'y': 'float64'}\n",
    "\n",
    "    def process(self, inputs):\n",
    "        npartitions = self.conf['npartitions']\n",
    "        df = inputs[0]        \n",
    "        return dask_cudf.from_cudf(df, npartitions=npartitions)"
   ]
  },
  {
   "cell_type": "markdown",
   "metadata": {},
   "source": [
    "We add this distribution node to the computation graph to convert `cudf` dataframes into `dask-cudf` dataframes."
   ]
  },
  {
   "cell_type": "code",
   "execution_count": 17,
   "metadata": {},
   "outputs": [
    {
     "data": {
      "image/png": "[encoded data removed]",
      "text/plain": [
       "<IPython.core.display.Image object>"
      ]
     },
     "metadata": {},
     "output_type": "display_data"
    }
   ],
   "source": [
    "npartitions = len(client.scheduler_info()['workers'])\n",
    "\n",
    "input_node = {\n",
    "    'id': 'points',\n",
    "    'type': PointNode,\n",
    "    'conf': {},\n",
    "    'inputs': []\n",
    "}\n",
    "\n",
    "distributed_node = {\n",
    "    'id': 'distributed_points',\n",
    "    'type': DistributedNode,\n",
    "    'conf': {'npartitions': npartitions},\n",
    "    'inputs': [\"points\"]\n",
    "}\n",
    "\n",
    "cudf_distance_node = {\n",
    "    'id': 'distance_by_cudf',\n",
    "    'type': DistanceNode,\n",
    "    'conf': {},\n",
    "    'inputs': ['points']\n",
    "}\n",
    "\n",
    "numba_distance_node = {\n",
    "    'id': 'distance_by_numba',\n",
    "    'type': NumbaDistanceNode,\n",
    "    'conf': {},\n",
    "    'inputs': ['distributed_points']\n",
    "}\n",
    "\n",
    "cupy_distance_node = {\n",
    "    'id': 'distance_by_cupy',\n",
    "    'type': CupyDistanceNode,\n",
    "    'conf': {},\n",
    "    'inputs': ['distributed_points']\n",
    "}\n",
    "\n",
    "task_list = [input_node, distributed_node, cudf_distance_node,\n",
    "             numba_distance_node, cupy_distance_node]\n",
    "out_list = ['distance_by_numba', 'distance_by_cupy', 'distance_by_cudf']\n",
    "task_graph = TaskGraph(task_list)\n",
    "task_graph.draw(show='ipynb')"
   ]
  },
  {
   "cell_type": "code",
   "execution_count": 18,
   "metadata": {},
   "outputs": [],
   "source": [
    "df_w_numba, df_w_cupy, df_w_cudf = task_graph.run(out_list)\n",
    "df_w_numba = df_w_numba.compute()\n",
    "df_w_cupy = df_w_cupy.compute()"
   ]
  },
  {
   "cell_type": "markdown",
   "metadata": {},
   "source": [
    "Verify the results:"
   ]
  },
  {
   "cell_type": "code",
   "execution_count": 19,
   "metadata": {},
   "outputs": [
    {
     "name": "stdout",
     "output_type": "stream",
     "text": [
      "Max Difference: 2.220446049250313e-16\n",
      "Max Difference: 2.220446049250313e-16\n"
     ]
    }
   ],
   "source": [
    "mdiff = verify(df_w_cudf['distance_cudf'], df_w_numba['distance_numba'])\n",
    "print('Max Difference: {}'.format(mdiff))\n",
    "mdiff = verify(df_w_cudf['distance_cudf'], df_w_cupy['distance_cupy'])\n",
    "print('Max Difference: {}'.format(mdiff))"
   ]
  },
  {
   "cell_type": "markdown",
   "metadata": {},
   "source": [
    "One limitation to be aware of when using customized kernels within Nodes in the Dask environment, is that each GPU kernel works on one partition of the dataframe. Therefore if the computation depends on other partitions of the dataframe the approach above does not work."
   ]
  },
  {
   "cell_type": "markdown",
   "metadata": {},
   "source": [
    "### Saving Custom Nodes and Kernels\n",
    "\n",
    "The gQuant framework already implements a number of Nodes. These can be found in `gquant.plugin_nodes` submodules. Refer to those nodes for reference implementations. For example:"
   ]
  },
  {
   "cell_type": "code",
   "execution_count": 20,
   "metadata": {},
   "outputs": [
    {
     "name": "stdout",
     "output_type": "stream",
     "text": [
      "class CsvStockLoader(Node):\n",
      "\n",
      "    def columns_setup(self):\n",
      "        self.required = {}\n",
      "        self.addition = {\"datetime\": \"date\",\n",
      "                         \"asset\": \"int64\",\n",
      "                         \"volume\": \"float64\",\n",
      "                         \"close\": \"float64\",\n",
      "                         \"open\": \"float64\",\n",
      "                         \"high\": \"float64\",\n",
      "                         \"low\": \"float64\"}\n",
      "        self.deletion = None\n",
      "        self.retention = None\n",
      "\n",
      "    def process(self, inputs):\n",
      "        \"\"\"\n",
      "        Load the end of day stock CSV data into cuDF dataframe\n",
      "\n",
      "        Arguments\n",
      "        -------\n",
      "         inputs: list\n",
      "             empty list\n",
      "        Returns\n",
      "        -------\n",
      "        cudf.DataFrame\n",
      "        \"\"\"\n",
      "\n",
      "        df = pd.read_csv(self.conf['path'],\n",
      "                         converters={'DTE': lambda x: pd.Timestamp(str(x))})\n",
      "        df = df[['DTE', 'OPEN',\n",
      "                 'CLOSE', 'HIGH',\n",
      "                 'LOW', 'SM_ID', 'VOLUME']]\n",
      "        df['VOLUME'] /= 1000\n",
      "        output = cudf.from_pandas(df)\n",
      "        # change the names\n",
      "        output.columns = ['datetime', 'open', 'close', 'high',\n",
      "                          'low', \"asset\", 'volume']\n",
      "        return output\n",
      "\n"
     ]
    }
   ],
   "source": [
    "import inspect\n",
    "from gquant.plugin_nodes.dataloader import CsvStockLoader\n",
    "\n",
    "print(inspect.getsource(CsvStockLoader))"
   ]
  },
  {
   "cell_type": "markdown",
   "metadata": {},
   "source": [
    "The customized kernels and nodes can be saved to your own python modules for future re-use instead of having to re-define them at runtime. We will take the nodes we defined above and write them to a python module. Then we will re-run our workflow importing the Nodes from the custom module we wrote out."
   ]
  },
  {
   "cell_type": "code",
   "execution_count": 21,
   "metadata": {},
   "outputs": [
    {
     "name": "stdout",
     "output_type": "stream",
     "text": [
      "Overwriting custom_nodes.py\n"
     ]
    }
   ],
   "source": [
    "%%writefile custom_nodes.py\n",
    "\n",
    "import math\n",
    "import numpy as np\n",
    "from numba import cuda\n",
    "import cupy\n",
    "import cudf\n",
    "import dask_cudf\n",
    "\n",
    "from gquant.dataframe_flow import Node\n",
    "# from librmm_cffi import librmm as rmm\n",
    "\n",
    "\n",
    "class PointNode(Node):\n",
    "\n",
    "    def columns_setup(self,):\n",
    "        self.required = {}\n",
    "        self.addition = {'x': 'float64',\n",
    "                         'y': 'float64'}\n",
    "\n",
    "    def process(self, inputs):\n",
    "        df = cudf.DataFrame()\n",
    "        df['x'] = np.random.rand(1000)\n",
    "        df['y'] = np.random.rand(1000)\n",
    "        return df\n",
    "\n",
    "\n",
    "class DistanceNode(Node):\n",
    "\n",
    "    def columns_setup(self,):\n",
    "        self.required = {'x': 'float64',\n",
    "                         'y': 'float64'}\n",
    "        self.addition = {'distance_cudf': 'float64'}\n",
    "\n",
    "    def process(self, inputs):\n",
    "        df = inputs[0]\n",
    "        df['distance_cudf'] = (df['x']**2 + df['y']**2).sqrt()\n",
    "        return df\n",
    "\n",
    "\n",
    "@cuda.jit\n",
    "def distance_kernel(x, y, distance, array_len):\n",
    "    # ii - overall thread index\n",
    "    ii = cuda.threadIdx.x + cuda.blockIdx.x * cuda.blockDim.x\n",
    "    if ii < array_len:\n",
    "        distance[ii] = math.sqrt(x[ii]**2 + y[ii]**2)\n",
    "\n",
    "\n",
    "class NumbaDistanceNode(Node):\n",
    "\n",
    "    def columns_setup(self,):\n",
    "        self.required = {'x': 'float64',\n",
    "                         'y': 'float64'}\n",
    "        self.addition = {'distance_numba': 'float64'}\n",
    "        self.delayed_process = True\n",
    "\n",
    "    def process(self, inputs):\n",
    "        df = inputs[0]\n",
    "        number_of_threads = 16\n",
    "        number_of_blocks = ((len(df) - 1)//number_of_threads) + 1\n",
    "        # Inits device array by setting 0 for each index.\n",
    "        # df['distance_numba'] = 0.0\n",
    "        darr = cuda.device_array(len(df))\n",
    "        distance_kernel[(number_of_blocks,), (number_of_threads,)](\n",
    "            df['x'].to_gpu_array(),\n",
    "            df['y'].to_gpu_array(),\n",
    "            darr,\n",
    "            len(df))\n",
    "        df['distance_numba'] = darr\n",
    "        return df\n",
    "\n",
    "\n",
    "raw_kernel = cupy.RawKernel(r'''\n",
    "    extern \"C\" __global__\n",
    "    void compute_distance(const double* x, const double* y,\n",
    "            double* distance, int arr_len) {\n",
    "        int tid = blockDim.x * blockIdx.x + threadIdx.x;\n",
    "        if (tid < arr_len){\n",
    "        distance[tid] = sqrt(x[tid]*x[tid] + y[tid]*y[tid]);\n",
    "        }\n",
    "    }\n",
    "''', 'compute_distance')\n",
    "\n",
    "\n",
    "class CupyDistanceNode(Node):\n",
    "\n",
    "    def columns_setup(self,):\n",
    "        self.required = {'x': 'float64',\n",
    "                         'y': 'float64'}\n",
    "        self.addition = {'distance_cupy': 'float64'}\n",
    "        self.delayed_process = True\n",
    "\n",
    "    def process(self, inputs):\n",
    "        df = inputs[0]\n",
    "        # cupy_x = cupy.asarray(df['x'].to_gpu_array())\n",
    "        # cupy_y = cupy.asarray(df['y'].to_gpu_array())\n",
    "        cupy_x = cupy.asarray(df['x'])\n",
    "        cupy_y = cupy.asarray(df['y'])\n",
    "        number_of_threads = 16\n",
    "        number_of_blocks = ((len(df) - 1)//number_of_threads) + 1\n",
    "        dis = cupy.ndarray(len(df), dtype=cupy.float64)\n",
    "        raw_kernel((number_of_blocks,), (number_of_threads,),\n",
    "                   (cupy_x, cupy_y, dis, len(df)))\n",
    "        df['distance_cupy'] = dis\n",
    "        return df\n",
    "\n",
    "\n",
    "class DistributedNode(Node):\n",
    "\n",
    "    def columns_setup(self,):\n",
    "        self.required = {'x': 'float64',\n",
    "                         'y': 'float64'}\n",
    "\n",
    "    def process(self, inputs):\n",
    "        npartitions = self.conf['npartitions']\n",
    "        df = inputs[0]\n",
    "        return dask_cudf.from_cudf(df, npartitions=npartitions)\n"
   ]
  },
  {
   "cell_type": "markdown",
   "metadata": {},
   "source": [
    "When defining the tasks we specify `filepath` for the path to the python module that has the Node definition. Notice, that the `type` is specified as a string instead of class. The string is the class name of the node that will be imported for running a task."
   ]
  },
  {
   "cell_type": "code",
   "execution_count": 23,
   "metadata": {},
   "outputs": [
    {
     "data": {
      "image/png": "[encoded data removed]",
      "text/plain": [
       "<IPython.core.display.Image object>"
      ]
     },
     "metadata": {},
     "output_type": "display_data"
    }
   ],
   "source": [
    "npartitions = len(client.scheduler_info()['workers'])\n",
    "\n",
    "input_node = {\n",
    "    'id': 'points',\n",
    "    'type': 'PointNode',\n",
    "    'conf': {},\n",
    "    'inputs': [],\n",
    "    'filepath': 'custom_nodes.py'\n",
    "}\n",
    "\n",
    "distributed_node = {\n",
    "    'id': 'distributed_points',\n",
    "    'type': 'DistributedNode',\n",
    "    'conf': {'npartitions': npartitions},\n",
    "    'inputs': ['points'],\n",
    "    'filepath': 'custom_nodes.py'\n",
    "}\n",
    "\n",
    "cudf_distance_node = {\n",
    "    'id': 'distance_by_cudf',\n",
    "    'type': 'DistanceNode',\n",
    "    'conf': {},\n",
    "    'inputs': ['points'],\n",
    "    'filepath': 'custom_nodes.py'\n",
    "}\n",
    "\n",
    "numba_distance_node = {\n",
    "    'id': 'distance_by_numba',\n",
    "    'type': 'NumbaDistanceNode',\n",
    "    'conf': {},\n",
    "    'inputs': ['distributed_points'],\n",
    "    'filepath': 'custom_nodes.py'\n",
    "}\n",
    "\n",
    "cupy_distance_node = {\n",
    "    'id': 'distance_by_cupy',\n",
    "    'type': 'CupyDistanceNode',\n",
    "    'conf': {},\n",
    "    'inputs': ['distributed_points'],\n",
    "    'filepath': 'custom_nodes.py'\n",
    "}\n",
    "\n",
    "task_list = [input_node, distributed_node, cudf_distance_node,\n",
    "             numba_distance_node, cupy_distance_node]\n",
    "out_list = ['distance_by_numba', 'distance_by_cupy', 'distance_by_cudf']\n",
    "task_graph = TaskGraph(task_list)\n",
    "task_graph.draw(show='ipynb')"
   ]
  },
  {
   "cell_type": "code",
   "execution_count": 24,
   "metadata": {},
   "outputs": [
    {
     "name": "stdout",
     "output_type": "stream",
     "text": [
      "Max Difference: 2.220446049250313e-16\n",
      "Max Difference: 2.220446049250313e-16\n"
     ]
    }
   ],
   "source": [
    "df_w_numba, df_w_cupy, df_w_cudf = task_graph.run(out_list)\n",
    "df_w_numba = df_w_numba.compute()\n",
    "df_w_cupy = df_w_cupy.compute()\n",
    "\n",
    "mdiff = verify(df_w_cudf['distance_cudf'], df_w_numba['distance_numba'])\n",
    "print('Max Difference: {}'.format(mdiff))\n",
    "mdiff = verify(df_w_cudf['distance_cudf'], df_w_cupy['distance_cupy'])\n",
    "print('Max Difference: {}'.format(mdiff))"
   ]
  },
  {
   "cell_type": "markdown",
   "metadata": {},
   "source": [
    "### Conclusion\n",
    "\n",
    "Using customized GPU kernels allows data scientists to implement and incorporate advanced algorithms. We demonstrated implementations using Numba and CuPy.\n",
    "\n",
    "The Numba approach enables data scientists to write GPU kernels directly in the Python language. Numba is easy to use for implementing and accelerating computations. However there is some overhead incurred for compiling the kernels whenever the Numba GPU kernels are used for the first time in a Python process. Currently Numba library only supports primitive data types. Some advanced CUDA programming features, such as function pointers and function recursions are not supported. \n",
    "\n",
    "The Cupy method is very flexible, because data scientists are writing C/C++ GPU kernels with CUDA directly. All the CUDA programming features are supported. CuPy compiles the kernel and caches the device code to the filesystem. The launch overhead is low. Also, the GPU kernel is built statically resulting in runtime efficiency. However it might be harder for data scientists to use, because C/C++ programming is more complicated. \n",
    "\n",
    "Below is a brief summary comparison table:\n",
    "\n",
    "| Methods | Development Difficulty | Flexibility | Efficiency | Latency |\n",
    "|---|---|---|---|---|\n",
    "| Numba method | medium | medium | low | high |\n",
    "| CuPy method | hard | high  | high | low |\n",
    "\n",
    "We recommend that the data scientists select the approach appropriate for their task taking into consideration the efficiency, latency, difficulty and flexibility of their workflow. \n",
    "\n",
    "In this blog, we showed how to wrap the customized GPU kernels in gQuant nodes. Also, by taking advantage of having the gQuant handle the low-level Dask interfaces for the developer, we demonstrated how to use the gQuant workflow with Dask distributed computations."
   ]
  },
  {
   "cell_type": "code",
   "execution_count": 25,
   "metadata": {},
   "outputs": [],
   "source": [
    "# Clean up\n",
    "\n",
    "# Shutdown the Dask cluster\n",
    "client.close()\n",
    "cluster.close()"
   ]
  },
  {
   "cell_type": "code",
   "execution_count": null,
   "metadata": {},
   "outputs": [],
   "source": []
  }
 ],
 "metadata": {
  "kernelspec": {
   "display_name": "Python 3",
   "language": "python",
   "name": "python3"
  },
  "language_info": {
   "codemirror_mode": {
    "name": "ipython",
    "version": 3
   },
   "file_extension": ".py",
   "mimetype": "text/x-python",
   "name": "python",
   "nbconvert_exporter": "python",
   "pygments_lexer": "ipython3",
   "version": "3.6.7"
  }
 },
 "nbformat": 4,
 "nbformat_minor": 2
}
