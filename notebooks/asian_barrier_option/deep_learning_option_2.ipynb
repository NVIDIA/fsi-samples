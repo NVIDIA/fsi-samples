{
 "cells": [
  {
   "cell_type": "markdown",
   "metadata": {},
   "source": [
    "### Deep Learning Model for Asian Barrier Options\n",
    "\n",
    "As shown in the previous notebook, there are a few problems to generate data on the fly \n",
    "   \n",
    "    1. There is no model serialization so the trained model is not saved\n",
    "    2. There is no validation dataset to check the training progress\n",
    "    3. Most of the time is spent on Monte Carlo simulation hence the training is slow\n",
    "    4. We use a few paths(1024) for each option parameter set which is noise and the model cannot converge to a low cost value.\n",
    "The solution is to save the Monte Carlo simulation data on the disk. This allows us to\n",
    "\n",
    "    1. Reuse the same dataset for different models and save the Monte Carlo simulation time\n",
    "    2. Generate more accurate pricing data by increasing the number of paths\n",
    "    \n",
    "We will use CuPy to run the Monte Carlo simulation as it is the most efficient way. Taking the same OptionDataSet defined in the previous notebook:-"
   ]
  },
  {
   "cell_type": "code",
   "execution_count": 7,
   "metadata": {},
   "outputs": [],
   "source": [
    "from cupy_dataset import OptionDataSet"
   ]
  },
  {
   "cell_type": "markdown",
   "metadata": {},
   "source": [
    "Making the directories for the saved data files and the model check points:-"
   ]
  },
  {
   "cell_type": "code",
   "execution_count": 2,
   "metadata": {},
   "outputs": [],
   "source": [
    "!mkdir -p datafiles\n",
    "!mkdir -p check_points"
   ]
  },
  {
   "cell_type": "markdown",
   "metadata": {},
   "source": [
    "Defining a function to generate the dataset file:- "
   ]
  },
  {
   "cell_type": "code",
   "execution_count": 5,
   "metadata": {},
   "outputs": [],
   "source": [
    "import torch\n",
    "\n",
    "def gen_data(n_files = 630, options_per_file = 10000, seed=3):\n",
    "    counter = 0\n",
    "    ds = OptionDataSet(max_len=n_files * options_per_file, number_path=8192000, batch=1,\n",
    "                   seed=seed)\n",
    "    x = []\n",
    "    y = []\n",
    "    for i in ds:\n",
    "        if counter!=0 and counter % options_per_file == 0:\n",
    "            filename = 'datafiles/'+str(seed) + '_' + str(counter//options_per_file) + '.pth'\n",
    "            state = (torch.cat(x, 0), torch.cat(y, 0))\n",
    "            torch.save(state, filename)\n",
    "            x = []\n",
    "            y = []\n",
    "        x.append(i[0].cpu())\n",
    "        y.append(i[1].cpu())\n",
    "        counter += 1\n",
    "    return seed"
   ]
  },
  {
   "cell_type": "markdown",
   "metadata": {},
   "source": [
    "It will generate files that contain `X` and `Y` matrix of size `option_per_file` and the filenames are in the format of `seed_group.pth`, we can test run with `n_files` = 5 and `options_per_file` = 16"
   ]
  },
  {
   "cell_type": "code",
   "execution_count": 8,
   "metadata": {},
   "outputs": [
    {
     "name": "stdout",
     "output_type": "stream",
     "text": [
      "tensor([[1.7910e+02, 6.8079e+01, 1.0688e+02, 2.5889e-01, 1.7393e-01, 1.4359e-01],\n",
      "        [1.3597e+02, 5.8014e+01, 1.0772e+02, 1.1119e-01, 1.1278e-01, 3.3107e-03],\n",
      "        [4.7951e+01, 3.6957e+01, 8.0480e+01, 2.6536e-01, 5.3653e-02, 7.2782e-02],\n",
      "        [1.0026e+02, 8.1533e+00, 6.6216e+01, 3.8491e-02, 5.5396e-02, 1.4566e-01],\n",
      "        [1.0416e+02, 7.9586e+01, 1.0620e+02, 1.2557e-01, 1.9639e-02, 3.0966e-02],\n",
      "        [1.6851e+02, 9.7813e+01, 1.2468e+02, 1.1845e-01, 7.9473e-02, 1.0369e-01],\n",
      "        [1.6673e+02, 7.4595e+01, 6.4872e+01, 3.8445e-01, 4.0116e-02, 1.5097e-01],\n",
      "        [3.2400e+01, 1.4736e+01, 9.4934e+01, 2.5872e-01, 6.7174e-02, 1.0737e-01],\n",
      "        [1.2953e+02, 8.5337e+01, 1.2570e+02, 1.6452e-01, 7.1083e-02, 1.9993e-01],\n",
      "        [1.5920e+02, 1.3722e+02, 6.4502e+01, 3.5891e-01, 1.5036e-01, 1.8909e-01],\n",
      "        [4.7439e+00, 6.8898e-01, 1.7892e+01, 1.6206e-02, 1.1772e-01, 1.1536e-01],\n",
      "        [1.4590e+02, 5.5645e+00, 9.4114e+00, 9.8751e-02, 7.2455e-03, 1.2266e-01],\n",
      "        [1.0537e+02, 4.6149e+01, 7.2182e+01, 2.0814e-01, 1.5636e-02, 4.7667e-02],\n",
      "        [1.9498e+02, 1.4687e+02, 5.9092e+01, 5.9770e-02, 4.7395e-02, 8.9560e-02],\n",
      "        [5.4070e+00, 4.4146e+00, 1.3971e+02, 3.4593e-01, 1.8324e-01, 1.3890e-01],\n",
      "        [6.1022e+01, 3.5528e+01, 3.8339e+01, 1.4686e-01, 1.2386e-01, 1.2188e-01]])\n",
      "tensor([2.1621e-02, 1.0037e-02, 3.2299e+01, 0.0000e+00, 4.7080e+00, 2.7595e-04,\n",
      "        0.0000e+00, 5.9109e+01, 4.3838e+00, 0.0000e+00, 1.2694e+01, 0.0000e+00,\n",
      "        4.3242e-03, 0.0000e+00, 1.2877e+02, 2.6165e-06])\n"
     ]
    }
   ],
   "source": [
    "gen_data(n_files=5, options_per_file = 16, seed=3)\n",
    "X, Y = torch.load('datafiles/3_1.pth')\n",
    "print(X)\n",
    "print(Y)"
   ]
  },
  {
   "cell_type": "markdown",
   "metadata": {},
   "source": [
    "We will use DASK to generate dataset on multipe GPUs in this notebook"
   ]
  },
  {
   "cell_type": "code",
   "execution_count": 5,
   "metadata": {},
   "outputs": [
    {
     "data": {
      "text/html": [
       "<table style=\"border: 2px solid white;\">\n",
       "<tr>\n",
       "<td style=\"vertical-align: top; border: 0px solid white\">\n",
       "<h3 style=\"text-align: left;\">Client</h3>\n",
       "<ul style=\"text-align: left; list-style: none; margin: 0; padding: 0;\">\n",
       "  <li><b>Scheduler: </b>tcp://127.0.0.1:43453</li>\n",
       "  <li><b>Dashboard: </b><a href='http://127.0.0.1:8787/status' target='_blank'>http://127.0.0.1:8787/status</a>\n",
       "</ul>\n",
       "</td>\n",
       "<td style=\"vertical-align: top; border: 0px solid white\">\n",
       "<h3 style=\"text-align: left;\">Cluster</h3>\n",
       "<ul style=\"text-align: left; list-style:none; margin: 0; padding: 0;\">\n",
       "  <li><b>Workers: </b>8</li>\n",
       "  <li><b>Cores: </b>8</li>\n",
       "  <li><b>Memory: </b>540.94 GB</li>\n",
       "</ul>\n",
       "</td>\n",
       "</tr>\n",
       "</table>"
      ],
      "text/plain": [
       "<Client: 'tcp://127.0.0.1:43453' processes=8 threads=8, memory=540.94 GB>"
      ]
     },
     "execution_count": 5,
     "metadata": {},
     "output_type": "execute_result"
    }
   ],
   "source": [
    "import dask\n",
    "import dask_cudf\n",
    "from dask.delayed import delayed\n",
    "from dask_cuda import LocalCUDACluster\n",
    "cluster = LocalCUDACluster()\n",
    "from dask.distributed import Client\n",
    "client = Client(cluster)\n",
    "client"
   ]
  },
  {
   "cell_type": "markdown",
   "metadata": {},
   "source": [
    "Following code is an example that generates `100x5x16` data points on 4 GPUs. For serious Deep Learning model training, we need millions of data points. You can try to change `n_files` and `options_per_file` to larger numbers"
   ]
  },
  {
   "cell_type": "code",
   "execution_count": 6,
   "metadata": {},
   "outputs": [
    {
     "data": {
      "text/plain": [
       "[0,\n",
       " 1,\n",
       " 2,\n",
       " 3,\n",
       " 4,\n",
       " 5,\n",
       " 6,\n",
       " 7,\n",
       " 8,\n",
       " 9,\n",
       " 10,\n",
       " 11,\n",
       " 12,\n",
       " 13,\n",
       " 14,\n",
       " 15,\n",
       " 16,\n",
       " 17,\n",
       " 18,\n",
       " 19,\n",
       " 20,\n",
       " 21,\n",
       " 22,\n",
       " 23,\n",
       " 24,\n",
       " 25,\n",
       " 26,\n",
       " 27,\n",
       " 28,\n",
       " 29,\n",
       " 30,\n",
       " 31,\n",
       " 32,\n",
       " 33,\n",
       " 34,\n",
       " 35,\n",
       " 36,\n",
       " 37,\n",
       " 38,\n",
       " 39,\n",
       " 40,\n",
       " 41,\n",
       " 42,\n",
       " 43,\n",
       " 44,\n",
       " 45,\n",
       " 46,\n",
       " 47,\n",
       " 48,\n",
       " 49,\n",
       " 50,\n",
       " 51,\n",
       " 52,\n",
       " 53,\n",
       " 54,\n",
       " 55,\n",
       " 56,\n",
       " 57,\n",
       " 58,\n",
       " 59,\n",
       " 60,\n",
       " 61,\n",
       " 62,\n",
       " 63,\n",
       " 64,\n",
       " 65,\n",
       " 66,\n",
       " 67,\n",
       " 68,\n",
       " 69,\n",
       " 70,\n",
       " 71,\n",
       " 72,\n",
       " 73,\n",
       " 74,\n",
       " 75,\n",
       " 76,\n",
       " 77,\n",
       " 78,\n",
       " 79,\n",
       " 80,\n",
       " 81,\n",
       " 82,\n",
       " 83,\n",
       " 84,\n",
       " 85,\n",
       " 86,\n",
       " 87,\n",
       " 88,\n",
       " 89,\n",
       " 90,\n",
       " 91,\n",
       " 92,\n",
       " 93,\n",
       " 94,\n",
       " 95,\n",
       " 96,\n",
       " 97,\n",
       " 98,\n",
       " 99]"
      ]
     },
     "execution_count": 6,
     "metadata": {},
     "output_type": "execute_result"
    }
   ],
   "source": [
    "futures = []\n",
    "for i in range(0, 100):\n",
    "    future = client.submit(gen_data, 5, 16, i)\n",
    "    futures.append(future)\n",
    "results = client.gather(futures)\n",
    "results"
   ]
  },
  {
   "cell_type": "markdown",
   "metadata": {},
   "source": [
    "Once millions of data points are generated, we can combine the data points together and split them into training and validation datasets. "
   ]
  },
  {
   "cell_type": "code",
   "execution_count": 7,
   "metadata": {},
   "outputs": [
    {
     "name": "stdout",
     "output_type": "stream",
     "text": [
      "0 / 350\n",
      "10 / 350\n",
      "20 / 350\n",
      "30 / 350\n",
      "40 / 350\n",
      "50 / 350\n",
      "60 / 350\n",
      "70 / 350\n",
      "80 / 350\n",
      "90 / 350\n",
      "100 / 350\n",
      "110 / 350\n",
      "120 / 350\n",
      "130 / 350\n",
      "140 / 350\n",
      "150 / 350\n",
      "160 / 350\n",
      "170 / 350\n",
      "180 / 350\n",
      "190 / 350\n",
      "200 / 350\n",
      "210 / 350\n",
      "220 / 350\n",
      "230 / 350\n",
      "240 / 350\n",
      "250 / 350\n",
      "260 / 350\n",
      "270 / 350\n",
      "280 / 350\n",
      "290 / 350\n",
      "300 / 350\n",
      "310 / 350\n",
      "320 / 350\n",
      "330 / 350\n",
      "340 / 350\n",
      "0 / 150\n",
      "10 / 150\n",
      "20 / 150\n",
      "30 / 150\n",
      "40 / 150\n",
      "50 / 150\n",
      "60 / 150\n",
      "70 / 150\n",
      "80 / 150\n",
      "90 / 150\n",
      "100 / 150\n",
      "110 / 150\n",
      "120 / 150\n",
      "130 / 150\n",
      "140 / 150\n"
     ]
    }
   ],
   "source": [
    "import pathlib\n",
    "\n",
    "files = list(pathlib.Path('datafiles/').glob('*.pth'))\n",
    "trn_size = int(len(files)*0.7)\n",
    "trn_files = files[:trn_size]\n",
    "val_files = files[trn_size:]\n",
    "\n",
    "trn_x = []\n",
    "trn_y = []\n",
    "count = 0\n",
    "\n",
    "for i in trn_files:\n",
    "    tensor = torch.load(i)\n",
    "    if count % 10 == 0:\n",
    "        print(count,'/',len(trn_files))\n",
    "    trn_x.append(tensor[0])\n",
    "    trn_y.append(tensor[1])\n",
    "    count += 1\n",
    "\n",
    "X = torch.cat(trn_x)\n",
    "Y = torch.cat(trn_y)\n",
    "torch.save((X,Y), 'trn.pth')\n",
    "\n",
    "val_x = []\n",
    "val_y = []\n",
    "count = 0\n",
    "\n",
    "for i in val_files:\n",
    "    tensor = torch.load(i)\n",
    "    if count % 10 == 0:\n",
    "        print(count,'/',len(val_files))\n",
    "    val_x.append(tensor[0])\n",
    "    val_y.append(tensor[1])\n",
    "    count += 1\n",
    "\n",
    "X = torch.cat(val_x)\n",
    "Y = torch.cat(val_y)\n",
    "torch.save((X,Y), 'val.pth')"
   ]
  },
  {
   "cell_type": "markdown",
   "metadata": {},
   "source": [
    "We created two data files `trn.pth` and `val.pth` for training and validation. We can define a new PyTorch Dataset to load data from file and write it to file. This dataset takes rank and world_size arguments for distributed training. It loads the whole dataset into the GPU memory and samples the data points according to the rank id so that dataset of different rank_id gives different data."
   ]
  },
  {
   "cell_type": "code",
   "execution_count": 8,
   "metadata": {},
   "outputs": [
    {
     "name": "stdout",
     "output_type": "stream",
     "text": [
      "Writing filedataset.py\n"
     ]
    }
   ],
   "source": [
    "%%writefile filedataset.py\n",
    "import torch\n",
    "\n",
    "\n",
    "class OptionDataSet(torch.utils.data.Dataset):\n",
    "    def __init__(self, filename, rank=0, world_size=5):\n",
    "        tensor = torch.load(filename)\n",
    "        self.tensor = (tensor[0].cuda(), tensor[1].cuda())\n",
    "        self.length = len(self.tensor[0]) // world_size\n",
    "        self.world_size = world_size\n",
    "        self.rank = rank\n",
    "\n",
    "    def __getitem__(self, index):\n",
    "        index = index * self.world_size + self.rank\n",
    "        return self.tensor[0][index], self.tensor[1][index]\n",
    "\n",
    "    def __len__(self):\n",
    "        return self.length"
   ]
  },
  {
   "cell_type": "markdown",
   "metadata": {},
   "source": [
    "When training the deep learning models, one effective way to prevent over-fitting is to have separate validation dataset to monitor the out of sample performance. When the validation dataset  performance declines,  it means over-fitting is happening so we can  stop the training. We put everything together into one script that can train the model efficiently in multiple GPUs:"
   ]
  },
  {
   "cell_type": "code",
   "execution_count": 3,
   "metadata": {},
   "outputs": [
    {
     "name": "stdout",
     "output_type": "stream",
     "text": [
      "Overwriting distributed_training.py\n"
     ]
    }
   ],
   "source": [
    "%%writefile distributed_training.py\n",
    "import torch\n",
    "from ignite.engine import Engine, Events\n",
    "from torch.nn import MSELoss\n",
    "from ignite.contrib.handlers.param_scheduler import CosineAnnealingScheduler\n",
    "from apex import amp\n",
    "import argparse\n",
    "import os\n",
    "from apex.parallel import DistributedDataParallel\n",
    "import apex\n",
    "from apex.optimizers import FusedLAMB\n",
    "from model import Net\n",
    "from filedataset import OptionDataSet\n",
    "from ignite.metrics import MeanAbsoluteError\n",
    "import ignite\n",
    "import shutil\n",
    "import torch.distributed as dist\n",
    "\n",
    "parser = argparse.ArgumentParser()\n",
    "parser.add_argument(\"--local_rank\", default=0, type=int)\n",
    "parser.add_argument(\"--path\", default=None)\n",
    "parser.add_argument(\"--mae_improv_tol\", default=0.002, type=float)\n",
    "args = parser.parse_args()\n",
    "\n",
    "args.distributed = False\n",
    "if 'WORLD_SIZE' in os.environ:\n",
    "    args.distributed = int(os.environ['WORLD_SIZE']) > 1\n",
    "\n",
    "if args.distributed:\n",
    "    torch.cuda.set_device(args.local_rank)\n",
    "    torch.distributed.init_process_group(backend='nccl',\n",
    "                                         init_method='env://')\n",
    "\n",
    "torch.backends.cudnn.benchmark = True\n",
    "\n",
    "trn_dataset = OptionDataSet(filename='./trn.pth',\n",
    "                            rank=dist.get_rank(),\n",
    "                            world_size=int(os.environ['WORLD_SIZE']))\n",
    "trn_dataset = torch.utils.data.DataLoader(trn_dataset,\n",
    "                                          batch_size=1024,\n",
    "                                          shuffle=True,\n",
    "                                          num_workers=0)\n",
    "\n",
    "val_dataset = OptionDataSet(filename='./val.pth',\n",
    "                            rank=dist.get_rank(),\n",
    "                            world_size=int(os.environ['WORLD_SIZE']))\n",
    "val_dataset = torch.utils.data.DataLoader(val_dataset,\n",
    "                                          batch_size=1024,\n",
    "                                          shuffle=False,\n",
    "                                          num_workers=0)\n",
    "\n",
    "model = Net().cuda()\n",
    "optimizer = FusedLAMB(model.parameters(), lr=1e-3)\n",
    "loss_fn = MSELoss()\n",
    "\n",
    "\n",
    "model = apex.parallel.convert_syncbn_model(model, channel_last=True)\n",
    "model, optimizer = amp.initialize(model, optimizer, opt_level='O1')\n",
    "\n",
    "\n",
    "best_mae = 100000\n",
    "\n",
    "if args.path is not None:\n",
    "    def resume():\n",
    "        global best_mae\n",
    "        checkpoint = torch.load(args.path)\n",
    "        best_mae = checkpoint['best_mae']\n",
    "        model.load_state_dict(checkpoint['state_dict'])\n",
    "        amp.load_state_dict(checkpoint['amp'])\n",
    "        optimizer.load_state_dict(checkpoint['optimizer'])\n",
    "    resume()\n",
    "\n",
    "\n",
    "if args.distributed:\n",
    "    model = DistributedDataParallel(model)\n",
    "    \n",
    "\n",
    "def train_update(engine, batch):\n",
    "    model.train()\n",
    "    optimizer.zero_grad()\n",
    "    x = batch[0]\n",
    "    y = batch[1]\n",
    "    y_pred = model(x)\n",
    "    loss = loss_fn(y, y_pred[:, 0])\n",
    "    with amp.scale_loss(loss, optimizer) as scaled_loss:\n",
    "        scaled_loss.backward()\n",
    "    optimizer.step()\n",
    "    return loss.item()\n",
    "\n",
    "trainer = Engine(train_update)\n",
    "log_interval = 500\n",
    "\n",
    "scheduler = CosineAnnealingScheduler(optimizer, 'lr', 1e-5, 5e-6,\n",
    "                                     len(trn_dataset),\n",
    "                                     start_value_mult=0.999, end_value_mult=0.999,\n",
    "                                     save_history=False\n",
    "                                     )\n",
    "trainer.add_event_handler(Events.ITERATION_STARTED, scheduler)\n",
    "\n",
    "\n",
    "def save_checkpoint(state, is_best, filename='checkpoint.pth.tar'):\n",
    "    torch.save(state, filename)\n",
    "    if is_best:\n",
    "        shutil.copyfile(filename, 'check_points/model_best.pth.tar')\n",
    "\n",
    "\n",
    "@trainer.on(Events.ITERATION_COMPLETED)\n",
    "def log_training_loss(engine):\n",
    "    iter = (engine.state.iteration - 1) % len(trn_dataset) + 1\n",
    "    if iter % log_interval == 0:\n",
    "        print('loss', engine.state.output, 'iter', engine.state.iteration,\n",
    "              'lr', scheduler.get_param())\n",
    "\n",
    "\n",
    "metric = MeanAbsoluteError()\n",
    "loss_m = ignite.metrics.Loss(loss_fn)\n",
    "\n",
    "# run eval at one process only\n",
    "def eval_update(engine, batch):\n",
    "    model.eval()\n",
    "    x = batch[0]\n",
    "    y = batch[1]\n",
    "    y_pred = model(x)\n",
    "    return y, y_pred[:, 0]\n",
    "evaluator = Engine(eval_update)\n",
    "metric.attach(evaluator, \"MAE\")\n",
    "loss_m.attach(evaluator, \"loss\")\n",
    "        \n",
    "@trainer.on(Events.EPOCH_COMPLETED)\n",
    "def log_evalnumber(engine):\n",
    "    global best_mae\n",
    "    mae_improv_tol = args.mae_improv_tol  # default 0.002 or 0.2% improvement\n",
    "    evaluator.run(val_dataset, max_epochs=1)\n",
    "    metrics = evaluator.state.metrics\n",
    "    average_tensor = torch.tensor([metrics['MAE'], metrics['loss']]).cuda()\n",
    "    torch.distributed.reduce(average_tensor, 0, op=torch.distributed.ReduceOp.SUM)\n",
    "    torch.distributed.broadcast(average_tensor, 0)\n",
    "    average_tensor = average_tensor/int(os.environ['WORLD_SIZE'])\n",
    "\n",
    "    mae = average_tensor[0].item()\n",
    "    is_best = False\n",
    "    if (1 - mae / best_mae) >= mae_improv_tol or \\\n",
    "            (engine.state.epoch == engine.state.max_epochs and\n",
    "             mae < best_mae):\n",
    "        best_mae = mae\n",
    "        is_best = True\n",
    "\n",
    "    # print(\"RANK {}   Val Results - Epoch: {}  Avg MAE: {:.5f} loss: {:.5f} BEST MAE: {:.5f}\"\n",
    "    #      .format(dist.get_rank(), trainer.state.epoch, metrics['MAE'], metrics['loss'], best_mae))\n",
    "\n",
    "    if dist.get_rank() == 0:\n",
    "        print('Epoch {}/{}'.format(engine.state.epoch, engine.state.max_epochs))\n",
    "        print('Best MAE Improvement Tolerance for checkpointing: {}%'.format(100 * mae_improv_tol))\n",
    "        print(\"RANK {} AVG {} NGPUs, best-mae: {:.5f} mae: {:.5f} loss: {:.5f}\".format(\n",
    "            dist.get_rank(),\n",
    "            int(os.environ['WORLD_SIZE']),\n",
    "            best_mae,\n",
    "            average_tensor[0].item(),\n",
    "            average_tensor[1].item()))\n",
    "        fname = 'check_points/current_pth.tar'\n",
    "        if is_best:\n",
    "            save_checkpoint({'epoch': trainer.state.epoch,\n",
    "                             'state_dict': model.module.state_dict(),\n",
    "                             'best_mae': best_mae,\n",
    "                             'optimizer': optimizer.state_dict(),\n",
    "                             'amp': amp.state_dict()\n",
    "                             }, is_best,\n",
    "                            filename=fname)\n",
    "        inputs = torch.tensor([[110.0, 100.0, 120.0, 0.35, 0.1, 0.05]]).cuda()\n",
    "        res = model(inputs)\n",
    "        print('test one example:', res.item())\n",
    "\n",
    "trainer.run(trn_dataset, max_epochs=2000)"
   ]
  },
  {
   "cell_type": "markdown",
   "metadata": {},
   "source": [
    "Compared to the last notebook, it is a little complicated because \n",
    "* it handles the validation dataset evaluation\n",
    "* it serializes the model into a file and keeps track of the best performed model based on the mean absolute error(MAE)\n",
    "* it resumes the training from the file\n",
    "\n",
    "We can launch the distributed training by the following command:-"
   ]
  },
  {
   "cell_type": "code",
   "execution_count": null,
   "metadata": {},
   "outputs": [],
   "source": [
    "ngpus=!echo $(nvidia-smi -L | wc -l)\n",
    "!python -m torch.distributed.launch --nproc_per_node={ngpus[0]} distributed_training.py"
   ]
  },
  {
   "cell_type": "markdown",
   "metadata": {},
   "source": [
    "We need some patience to train the pricing model until it converges."
   ]
  },
  {
   "cell_type": "markdown",
   "metadata": {},
   "source": [
    "### Inference and Greeks\n",
    "Once the training is converged, the best performed model is saved into `check_points/` directory. \n",
    "\n",
    "To get a good model, you need millions of data points to train the model until it converges. Usually it takes 10-20 hours in a single 8 GPUs DGX-1 machine. We trained the model with 10 million training data points and 5 million validation data points. We didn't explore what is the minimum number of training samples but simply use large number of data samples. You may get away by using less data points for training. \n",
    "\n",
    "To save your time, you can run the following commands to download the weights and use them for the inference"
   ]
  },
  {
   "cell_type": "code",
   "execution_count": 1,
   "metadata": {},
   "outputs": [
    {
     "name": "stdout",
     "output_type": "stream",
     "text": [
      "Dataset is already present. No need to re-download it.\n"
     ]
    }
   ],
   "source": [
    "! ((test ! -f './check_points/model_best.pth.tar' ||  test ! -f './check_points/512/model_best.pth.tar') && \\\n",
    "  bash ./download_data.sh) || echo \"Dataset is already present. No need to re-download it.\""
   ]
  },
  {
   "cell_type": "markdown",
   "metadata": {},
   "source": [
    "We can load the model parameters and use it to do inference"
   ]
  },
  {
   "cell_type": "code",
   "execution_count": 2,
   "metadata": {},
   "outputs": [
    {
     "data": {
      "text/plain": [
       "tensor([[18.7140]], device='cuda:0', grad_fn=<AddmmBackward>)"
      ]
     },
     "execution_count": 2,
     "metadata": {},
     "output_type": "execute_result"
    }
   ],
   "source": [
    "from model import Net\n",
    "import torch\n",
    "checkpoint = torch.load('check_points/model_best.pth.tar')\n",
    "model = Net().cuda()\n",
    "model.load_state_dict(checkpoint['state_dict'])\n",
    "inputs = torch.tensor([[110.0, 100.0, 120.0, 0.35, 0.1, 0.05]]).cuda()\n",
    "model(inputs)"
   ]
  },
  {
   "cell_type": "markdown",
   "metadata": {},
   "source": [
    "One of the benefits of building a deep learning model is that the [Greeks](<https://en.wikipedia.org/wiki/Greeks_(finance)#First-order_Greeks>) can be easily computed. \n",
    "We just need to take advantage of the auto-grad feature in Pytorch. Following is an example to compute the first order differentiation for a multiple variable polynomial function. "
   ]
  },
  {
   "cell_type": "code",
   "execution_count": 4,
   "metadata": {},
   "outputs": [
    {
     "name": "stdout",
     "output_type": "stream",
     "text": [
      "(tensor([24., 36.], grad_fn=<AddBackward0>),)\n"
     ]
    }
   ],
   "source": [
    "import torch\n",
    "from torch.autograd import grad\n",
    "'''\n",
    "z = (xy)^2\n",
    "x = 3, y =2\n",
    "\n",
    "first order deriv [24 36]\n",
    "'''\n",
    "inputs = torch.tensor([3.0,2.0], requires_grad=True)\n",
    "z = (inputs[0]*inputs[1])**2\n",
    "first_order_grad = grad(z, inputs, create_graph=True)\n",
    "print(first_order_grad)"
   ]
  },
  {
   "cell_type": "markdown",
   "metadata": {},
   "source": [
    "We can use `grad` function to compute the first order differentiation for parameters 'K, B, S0, sigma, mu, r'"
   ]
  },
  {
   "cell_type": "code",
   "execution_count": 5,
   "metadata": {},
   "outputs": [
    {
     "data": {
      "text/plain": [
       "tensor([[-6.7092e-01, -2.1257e-02,  7.8896e-01,  1.9219e+01,  4.8331e+01,\n",
       "         -1.8419e+01]], device='cuda:0')"
      ]
     },
     "execution_count": 5,
     "metadata": {},
     "output_type": "execute_result"
    }
   ],
   "source": [
    "inputs = torch.tensor([[110.0, 100.0, 120.0, 0.35, 0.1, 0.05]]).cuda()\n",
    "inputs.requires_grad = True\n",
    "x = model(inputs)\n",
    "x.backward()\n",
    "first_order_gradient = inputs.grad\n",
    "first_order_gradient"
   ]
  },
  {
   "cell_type": "markdown",
   "metadata": {},
   "source": [
    "Here we are going to plot the Delta graph:-"
   ]
  },
  {
   "cell_type": "code",
   "execution_count": 6,
   "metadata": {},
   "outputs": [
    {
     "data": {
      "text/plain": [
       "[<matplotlib.lines.Line2D at 0x7fcd9e1ac7b8>]"
      ]
     },
     "execution_count": 6,
     "metadata": {},
     "output_type": "execute_result"
    },
    {
     "data": {
      "image/png": "[encoded data removed]",
      "text/plain": [
       "<Figure size 432x288 with 1 Axes>"
      ]
     },
     "metadata": {
      "needs_background": "light"
     },
     "output_type": "display_data"
    }
   ],
   "source": [
    "%matplotlib inline\n",
    "import pylab\n",
    "import numpy as np\n",
    "def compute_delta(S):\n",
    "    inputs = torch.tensor([[110.0, 100.0, S, 0.35, 0.1, 0.05]]).cuda()\n",
    "    inputs.requires_grad = True\n",
    "    x = model(inputs)\n",
    "    x.backward()\n",
    "    first_order_gradient = inputs.grad\n",
    "    return first_order_gradient[0][2]\n",
    "prices = np.arange(10, 200, 0.1)\n",
    "deltas = []\n",
    "for p in prices:\n",
    "    deltas.append(compute_delta(p).item())\n",
    "fig = pylab.plot(prices, deltas)\n",
    "pylab.xlabel('prices')\n",
    "pylab.ylabel('Delta')\n",
    "fig"
   ]
  },
  {
   "cell_type": "markdown",
   "metadata": {},
   "source": [
    "Calculating the second order derivative is easy in PyTorch too. We just need to apply the `grad` function twice. Following is an example to calculate the second order derivative for the same polynomial function as above:"
   ]
  },
  {
   "cell_type": "code",
   "execution_count": 7,
   "metadata": {},
   "outputs": [
    {
     "name": "stdout",
     "output_type": "stream",
     "text": [
      "tensor([ 8., 24.])\n",
      "tensor([24., 18.])\n"
     ]
    }
   ],
   "source": [
    "import torch\n",
    "from torch.autograd import grad\n",
    "'''\n",
    "z = (xy)^2\n",
    "x = 3, y =2\n",
    "\n",
    "first order deriv [24 36]\n",
    "d2z/dx2 = 8\n",
    "d2z/dxdy = 24\n",
    "d2z/dy2 = 18\n",
    "'''\n",
    "\n",
    "inputs = torch.tensor([3.0,2.0], requires_grad=True)\n",
    "z = (inputs[0]*inputs[1])**2\n",
    "first_order_grad = grad(z, inputs, create_graph=True)\n",
    "second_order_grad_x, = grad(first_order_grad[0][0], inputs, retain_graph=True) #\n",
    "second_order_grad_y, = grad(first_order_grad[0][1], inputs)\n",
    "print(second_order_grad_x)\n",
    "print(second_order_grad_y)"
   ]
  },
  {
   "cell_type": "markdown",
   "metadata": {},
   "source": [
    "Use this mechanism, we can calculate the second order derivatives $\\frac{\\partial^2 P}{\\partial K \\partial S_0}$, $\\frac{\\partial^2 P}{\\partial B \\partial S_0}$, $\\frac{\\partial^2 P}{\\partial S_0^2}$, $\\frac{\\partial^2 P}{\\partial \\sigma \\partial S_0}$, $\\frac{\\partial^2 P}{\\partial \\mu \\partial S_0}$, $\\frac{\\partial^2 P}{\\partial r \\partial S_0}$ in the following example."
   ]
  },
  {
   "cell_type": "code",
   "execution_count": 9,
   "metadata": {},
   "outputs": [
    {
     "data": {
      "text/plain": [
       "(tensor([[-0.0143,  0.0039,  0.0098, -0.3183,  1.1455, -0.7876]],\n",
       "        device='cuda:0'),)"
      ]
     },
     "execution_count": 9,
     "metadata": {},
     "output_type": "execute_result"
    }
   ],
   "source": [
    "import torch\n",
    "from torch import Tensor\n",
    "from torch.autograd import Variable\n",
    "from torch.autograd import grad\n",
    "from torch import nn\n",
    "\n",
    "inputs = torch.tensor([[110.0, 100.0, 120.0, 0.35, 0.1, 0.05]]).cuda()\n",
    "inputs.requires_grad = True\n",
    "x = model(inputs)\n",
    "\n",
    "# instead of using loss.backward(), use torch.autograd.grad() to compute gradients\n",
    "# https://pytorch.org/docs/stable/autograd.html#torch.autograd.grad\n",
    "loss_grads = grad(x, inputs, create_graph=True)\n",
    "drv = grad(loss_grads[0][0][2], inputs)\n",
    "drv"
   ]
  },
  {
   "cell_type": "markdown",
   "metadata": {},
   "source": [
    "Gamma is the second order differenation of `S`. We can plot the the Gamma curve as a function of the stock price"
   ]
  },
  {
   "cell_type": "code",
   "execution_count": 11,
   "metadata": {},
   "outputs": [
    {
     "data": {
      "text/plain": [
       "[<matplotlib.lines.Line2D at 0x7f996066dba8>]"
      ]
     },
     "execution_count": 11,
     "metadata": {},
     "output_type": "execute_result"
    },
    {
     "data": {
      "image/png": "[encoded data removed]",
      "text/plain": [
       "<Figure size 432x288 with 1 Axes>"
      ]
     },
     "metadata": {
      "needs_background": "light"
     },
     "output_type": "display_data"
    }
   ],
   "source": [
    "import pylab\n",
    "import numpy as np\n",
    "def compute_gamma(S):\n",
    "    inputs = torch.tensor([[110.0, 100.0, S, 0.35, 0.1, 0.05]]).cuda()\n",
    "    inputs.requires_grad = True\n",
    "    x = model(inputs)\n",
    "    loss_grads = grad(x, inputs, create_graph=True)\n",
    "    drv = grad(loss_grads[0][0][2], inputs)\n",
    "    return drv[0][0][2]\n",
    "\n",
    "prices = np.arange(10, 200, 0.1)\n",
    "deltas = []\n",
    "for p in prices:\n",
    "    deltas.append(compute_gamma(p).item())\n",
    "fig2 = pylab.plot(prices, deltas)\n",
    "pylab.xlabel('prices')\n",
    "pylab.ylabel('Gamma')\n",
    "fig2"
   ]
  },
  {
   "cell_type": "markdown",
   "metadata": {},
   "source": [
    "[Implied volatility](https://en.wikipedia.org/wiki/Implied_volatility) is the forecasted volatility of the underlying asset based on the quoted prices of the option. It is the reverse mapping of price to the option parameter given the model which is hard to do with the Monte Carlo simulation approach. But if we have the deep learning pricing model, it is an easy task. We can first plot the relationship between volatility and the option price"
   ]
  },
  {
   "cell_type": "code",
   "execution_count": 13,
   "metadata": {},
   "outputs": [
    {
     "data": {
      "text/plain": [
       "[<matplotlib.lines.Line2D at 0x7fa5e841c2b0>]"
      ]
     },
     "execution_count": 13,
     "metadata": {},
     "output_type": "execute_result"
    },
    {
     "data": {
      "image/png": "[encoded data removed]",
      "text/plain": [
       "<Figure size 432x288 with 1 Axes>"
      ]
     },
     "metadata": {
      "needs_background": "light"
     },
     "output_type": "display_data"
    }
   ],
   "source": [
    "import pylab\n",
    "import numpy as np\n",
    "def compute_price(sigma):\n",
    "    inputs = torch.tensor([[110.0, 100.0, 120.0, sigma, 0.1, 0.05]]).cuda()\n",
    "    x = model(inputs)\n",
    "    return x.item()\n",
    "sigmas = np.arange(0, 0.5, 0.1)\n",
    "prices = []\n",
    "for s in sigmas:\n",
    "    prices.append(compute_price(s))\n",
    "fig3 = pylab.plot(sigmas, prices)\n",
    "pylab.xlabel('Sigma')\n",
    "pylab.ylabel('Price')\n",
    "fig3"
   ]
  },
  {
   "cell_type": "markdown",
   "metadata": {},
   "source": [
    "Given the prices `P`, the implied volatility is the root of the function `compute_price`. We can use bisection to find the root."
   ]
  },
  {
   "cell_type": "code",
   "execution_count": 14,
   "metadata": {},
   "outputs": [
    {
     "name": "stdout",
     "output_type": "stream",
     "text": [
      "implied volativity 0.18517351150512695 error 4.76837158203125e-06\n"
     ]
    }
   ],
   "source": [
    "def bisection_root(small, large, fun, target, EPS=1e-6):\n",
    "    if fun(large) - target < 0:\n",
    "        print('upper bound is too small')\n",
    "        return None\n",
    "    if fun(small) - target > 0:\n",
    "        print('lower bound is too large')\n",
    "        return None\n",
    "    while large - small > EPS:\n",
    "        mid = (large + small) / 2.0\n",
    "        if fun(mid) - target >= 0:\n",
    "            large = mid\n",
    "        else:\n",
    "            small = mid\n",
    "    mid = (large + small) / 2.0\n",
    "    return mid, abs(fun(mid) - target)\n",
    "quoted_price = 16.0\n",
    "sigma, err = bisection_root(0, 0.5, compute_price, quoted_price)\n",
    "print('implied volativity', sigma, 'error', err)     "
   ]
  },
  {
   "cell_type": "code",
   "execution_count": null,
   "metadata": {},
   "outputs": [],
   "source": []
  },
  {
   "cell_type": "code",
   "execution_count": null,
   "metadata": {},
   "outputs": [],
   "source": []
  }
 ],
 "metadata": {
  "kernelspec": {
   "display_name": "Python 3",
   "language": "python",
   "name": "python3"
  },
  "language_info": {
   "codemirror_mode": {
    "name": "ipython",
    "version": 3
   },
   "file_extension": ".py",
   "mimetype": "text/x-python",
   "name": "python",
   "nbconvert_exporter": "python",
   "pygments_lexer": "ipython3",
   "version": "3.6.9"
  }
 },
 "nbformat": 4,
 "nbformat_minor": 4
}
