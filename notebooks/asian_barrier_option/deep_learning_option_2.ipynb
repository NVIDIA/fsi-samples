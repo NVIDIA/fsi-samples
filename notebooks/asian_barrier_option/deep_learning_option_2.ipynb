{
 "cells": [
  {
   "cell_type": "markdown",
   "metadata": {},
   "source": [
    "### Deep Learning Model for Asian Barrier Options\n",
    "\n",
    "As shown in the previous notebook, there are a few problems to generate data on the fly \n",
    "   \n",
    "    1. There is no model serialization so the trained model is not saved\n",
    "    2. There is no validation dataset to check the training progress\n",
    "    3. Most of the time is spent on Monte Carlo simulation hence the training is slow\n",
    "    4. We use a few paths(1024) for each option parameter set which is noise and the model cannot converge to a low cost value.\n",
    "The solution is to save the Monte Carlo simulation data on the disk. This allows us to\n",
    "\n",
    "    1. Reuse the same dataset for different models and save the Monte Carlo simulation time\n",
    "    2. Generate more accurate pricing data by increasing the number of paths\n",
    "    \n",
    "We will use CuPy to run the Monte Carlo simulation as it is the most efficient way. Taking the same OptionDataSet defined in the previous notebook:-"
   ]
  },
  {
   "cell_type": "code",
   "execution_count": 1,
   "metadata": {},
   "outputs": [],
   "source": [
    "from cupy_dataset import OptionDataSet"
   ]
  },
  {
   "cell_type": "markdown",
   "metadata": {},
   "source": [
    "Making the directories for the saved data files and the model check points:-"
   ]
  },
  {
   "cell_type": "code",
   "execution_count": 2,
   "metadata": {},
   "outputs": [],
   "source": [
    "!mkdir -p datafiles\n",
    "!mkdir -p check_points"
   ]
  },
  {
   "cell_type": "markdown",
   "metadata": {},
   "source": [
    "Defining a function to generate the dataset file:- "
   ]
  },
  {
   "cell_type": "code",
   "execution_count": 3,
   "metadata": {},
   "outputs": [],
   "source": [
    "import torch\n",
    "\n",
    "def gen_data(groups = 630, g_size = 10000, seed=3):\n",
    "    counter = 0\n",
    "    ds = OptionDataSet(max_len=groups * g_size, number_path=8192000, batch=1,\n",
    "                   seed=seed)\n",
    "    x = []\n",
    "    y = []\n",
    "    for i in ds:\n",
    "        if counter!=0 and counter % g_size == 0:\n",
    "            filename = 'datafiles/'+str(seed) + '_' + str(counter//g_size) + '.pth'\n",
    "            state = (torch.cat(x, 0), torch.cat(y, 0))\n",
    "            torch.save(state, filename)\n",
    "            x = []\n",
    "            y = []\n",
    "        x.append(i[0].cpu())\n",
    "        y.append(i[1].cpu())\n",
    "        counter += 1\n",
    "    return seed"
   ]
  },
  {
   "cell_type": "markdown",
   "metadata": {},
   "source": [
    "It will generate files that contain `X` and `Y` matrix of size `g_size` and the filenames are in the format of `seed_group.pth`, we can test run with groups = 5 and g_size = 16"
   ]
  },
  {
   "cell_type": "code",
   "execution_count": 19,
   "metadata": {},
   "outputs": [
    {
     "name": "stdout",
     "output_type": "stream",
     "text": [
      "tensor([[1.7910e+02, 6.8079e+01, 1.0688e+02, 2.5889e-01, 1.7393e-01, 1.4359e-01],\n",
      "        [1.3597e+02, 5.8014e+01, 1.0772e+02, 1.1119e-01, 1.1278e-01, 3.3107e-03],\n",
      "        [4.7951e+01, 3.6957e+01, 8.0480e+01, 2.6536e-01, 5.3653e-02, 7.2782e-02],\n",
      "        [1.0026e+02, 8.1533e+00, 6.6216e+01, 3.8491e-02, 5.5396e-02, 1.4566e-01],\n",
      "        [1.0416e+02, 7.9586e+01, 1.0620e+02, 1.2557e-01, 1.9639e-02, 3.0966e-02],\n",
      "        [1.6851e+02, 9.7813e+01, 1.2468e+02, 1.1845e-01, 7.9473e-02, 1.0369e-01],\n",
      "        [1.6673e+02, 7.4595e+01, 6.4872e+01, 3.8445e-01, 4.0116e-02, 1.5097e-01],\n",
      "        [3.2400e+01, 1.4736e+01, 9.4934e+01, 2.5872e-01, 6.7174e-02, 1.0737e-01],\n",
      "        [1.2953e+02, 8.5337e+01, 1.2570e+02, 1.6452e-01, 7.1083e-02, 1.9993e-01],\n",
      "        [1.5920e+02, 1.3722e+02, 6.4502e+01, 3.5891e-01, 1.5036e-01, 1.8909e-01],\n",
      "        [4.7439e+00, 6.8898e-01, 1.7892e+01, 1.6206e-02, 1.1772e-01, 1.1536e-01],\n",
      "        [1.4590e+02, 5.5645e+00, 9.4114e+00, 9.8751e-02, 7.2455e-03, 1.2266e-01],\n",
      "        [1.0537e+02, 4.6149e+01, 7.2182e+01, 2.0814e-01, 1.5636e-02, 4.7667e-02],\n",
      "        [1.9498e+02, 1.4687e+02, 5.9092e+01, 5.9770e-02, 4.7395e-02, 8.9560e-02],\n",
      "        [5.4070e+00, 4.4146e+00, 1.3971e+02, 3.4593e-01, 1.8324e-01, 1.3890e-01],\n",
      "        [6.1022e+01, 3.5528e+01, 3.8339e+01, 1.4686e-01, 1.2386e-01, 1.2188e-01]])\n",
      "tensor([2.1621e-02, 1.0037e-02, 3.2299e+01, 0.0000e+00, 4.7080e+00, 2.7595e-04,\n",
      "        0.0000e+00, 5.9109e+01, 4.3838e+00, 0.0000e+00, 1.2694e+01, 0.0000e+00,\n",
      "        4.3242e-03, 0.0000e+00, 1.2877e+02, 2.6165e-06])\n"
     ]
    }
   ],
   "source": [
    "gen_data(groups=5, g_size = 16, seed=3)\n",
    "X, Y = torch.load('datafiles/3_1.pth')\n",
    "print(X)\n",
    "print(Y)"
   ]
  },
  {
   "cell_type": "markdown",
   "metadata": {},
   "source": [
    "We will use DASK to generate dataset on multipe GPUs in this notebook"
   ]
  },
  {
   "cell_type": "code",
   "execution_count": 4,
   "metadata": {},
   "outputs": [
    {
     "data": {
      "text/html": [
       "<table style=\"border: 2px solid white;\">\n",
       "<tr>\n",
       "<td style=\"vertical-align: top; border: 0px solid white\">\n",
       "<h3 style=\"text-align: left;\">Client</h3>\n",
       "<ul style=\"text-align: left; list-style: none; margin: 0; padding: 0;\">\n",
       "  <li><b>Scheduler: </b>tcp://127.0.0.1:46709</li>\n",
       "  <li><b>Dashboard: </b><a href='http://127.0.0.1:8787/status' target='_blank'>http://127.0.0.1:8787/status</a>\n",
       "</ul>\n",
       "</td>\n",
       "<td style=\"vertical-align: top; border: 0px solid white\">\n",
       "<h3 style=\"text-align: left;\">Cluster</h3>\n",
       "<ul style=\"text-align: left; list-style:none; margin: 0; padding: 0;\">\n",
       "  <li><b>Workers: </b>4</li>\n",
       "  <li><b>Cores: </b>4</li>\n",
       "  <li><b>Memory: </b>270.39 GB</li>\n",
       "</ul>\n",
       "</td>\n",
       "</tr>\n",
       "</table>"
      ],
      "text/plain": [
       "<Client: 'tcp://127.0.0.1:46709' processes=4 threads=4, memory=270.39 GB>"
      ]
     },
     "execution_count": 4,
     "metadata": {},
     "output_type": "execute_result"
    }
   ],
   "source": [
    "import dask\n",
    "import dask_cudf\n",
    "from dask.delayed import delayed\n",
    "from dask_cuda import LocalCUDACluster\n",
    "cluster = LocalCUDACluster()\n",
    "from dask.distributed import Client\n",
    "client = Client(cluster)\n",
    "client"
   ]
  },
  {
   "cell_type": "markdown",
   "metadata": {},
   "source": [
    "Following code is an example that generates `100x5x16` data points on 4 GPUs. For serious Deep Learning model training, we need millions of data points. You can try to change `groups` and `g_size` to larger numbers"
   ]
  },
  {
   "cell_type": "code",
   "execution_count": null,
   "metadata": {},
   "outputs": [],
   "source": [
    "futures = []\n",
    "for i in range(0, 100):\n",
    "    future = client.submit(gen_data, 5, 16, i)\n",
    "    futures.append(future)\n",
    "results = client.gather(futures)\n",
    "results"
   ]
  },
  {
   "cell_type": "markdown",
   "metadata": {},
   "source": [
    "Once millions of data points are generated, we can combine the data points together and split them into training and validation datasets. "
   ]
  },
  {
   "cell_type": "code",
   "execution_count": 6,
   "metadata": {},
   "outputs": [
    {
     "name": "stdout",
     "output_type": "stream",
     "text": [
      "0 / 647\n",
      "10 / 647\n",
      "20 / 647\n",
      "30 / 647\n",
      "40 / 647\n",
      "50 / 647\n",
      "60 / 647\n",
      "70 / 647\n",
      "80 / 647\n",
      "90 / 647\n",
      "100 / 647\n",
      "110 / 647\n",
      "120 / 647\n",
      "130 / 647\n",
      "140 / 647\n",
      "150 / 647\n",
      "160 / 647\n",
      "170 / 647\n",
      "180 / 647\n",
      "190 / 647\n",
      "200 / 647\n",
      "210 / 647\n",
      "220 / 647\n",
      "230 / 647\n",
      "240 / 647\n",
      "250 / 647\n",
      "260 / 647\n",
      "270 / 647\n",
      "280 / 647\n",
      "290 / 647\n",
      "300 / 647\n",
      "310 / 647\n",
      "320 / 647\n",
      "330 / 647\n",
      "340 / 647\n",
      "350 / 647\n",
      "360 / 647\n",
      "370 / 647\n",
      "380 / 647\n",
      "390 / 647\n",
      "400 / 647\n",
      "410 / 647\n",
      "420 / 647\n",
      "430 / 647\n",
      "440 / 647\n",
      "450 / 647\n",
      "460 / 647\n",
      "470 / 647\n",
      "480 / 647\n",
      "490 / 647\n",
      "500 / 647\n",
      "510 / 647\n",
      "520 / 647\n",
      "530 / 647\n",
      "540 / 647\n",
      "550 / 647\n",
      "560 / 647\n",
      "570 / 647\n",
      "580 / 647\n",
      "590 / 647\n",
      "600 / 647\n",
      "610 / 647\n",
      "620 / 647\n",
      "630 / 647\n",
      "640 / 647\n",
      "0 / 278\n",
      "10 / 278\n",
      "20 / 278\n",
      "30 / 278\n",
      "40 / 278\n",
      "50 / 278\n",
      "60 / 278\n",
      "70 / 278\n",
      "80 / 278\n",
      "90 / 278\n",
      "100 / 278\n",
      "110 / 278\n",
      "120 / 278\n",
      "130 / 278\n",
      "140 / 278\n",
      "150 / 278\n",
      "160 / 278\n",
      "170 / 278\n",
      "180 / 278\n",
      "190 / 278\n",
      "200 / 278\n",
      "210 / 278\n",
      "220 / 278\n",
      "230 / 278\n",
      "240 / 278\n",
      "250 / 278\n",
      "260 / 278\n",
      "270 / 278\n"
     ]
    }
   ],
   "source": [
    "import pathlib\n",
    "\n",
    "files = list(pathlib.Path('datafiles/').glob('*.pth'))\n",
    "trn_size = int(len(files)*0.7)\n",
    "trn_files = files[:trn_size]\n",
    "val_files = files[trn_size:]\n",
    "\n",
    "trn_x = []\n",
    "trn_y = []\n",
    "count = 0\n",
    "\n",
    "for i in trn_files:\n",
    "    tensor = torch.load(i)\n",
    "    if count % 10 == 0:\n",
    "        print(count,'/',len(trn_files))\n",
    "    trn_x.append(tensor[0])\n",
    "    trn_y.append(tensor[1])\n",
    "    count += 1\n",
    "\n",
    "X = torch.cat(trn_x)\n",
    "Y = torch.cat(trn_y)\n",
    "torch.save((X,Y), 'trn.pth')\n",
    "\n",
    "val_x = []\n",
    "val_y = []\n",
    "count = 0\n",
    "\n",
    "for i in val_files:\n",
    "    tensor = torch.load(i)\n",
    "    if count % 10 == 0:\n",
    "        print(count,'/',len(val_files))\n",
    "    val_x.append(tensor[0])\n",
    "    val_y.append(tensor[1])\n",
    "    count += 1\n",
    "\n",
    "X = torch.cat(val_x)\n",
    "Y = torch.cat(val_y)\n",
    "torch.save((X,Y), 'val.pth')"
   ]
  },
  {
   "cell_type": "markdown",
   "metadata": {},
   "source": [
    "We created two data files `trn.pth` and `val.pth` for training and validation. We can define a new PyTorch Dataset to load data from file and write it to file. This dataset takes rank and world_size arguments for distributed training. It loads the whole dataset into the GPU memory and samples the data points according to the rank id so that dataset of different rank_id gives different data."
   ]
  },
  {
   "cell_type": "code",
   "execution_count": 7,
   "metadata": {},
   "outputs": [
    {
     "name": "stdout",
     "output_type": "stream",
     "text": [
      "Writing filedataset.py\n"
     ]
    }
   ],
   "source": [
    "%%writefile filedataset.py\n",
    "import torch\n",
    "\n",
    "\n",
    "class OptionDataSet(torch.utils.data.Dataset):\n",
    "    def __init__(self, filename, rank=0, world_size=5):\n",
    "        tensor = torch.load(filename)\n",
    "        self.tensor = (tensor[0].cuda(), tensor[1].cuda())\n",
    "        self.length = len(self.tensor[0]) // world_size\n",
    "        self.world_size = world_size\n",
    "        self.rank = rank\n",
    "\n",
    "    def __getitem__(self, index):\n",
    "        index = index * self.world_size + self.rank\n",
    "        return self.tensor[0][index], self.tensor[1][index]\n",
    "\n",
    "    def __len__(self):\n",
    "        return self.length"
   ]
  },
  {
   "cell_type": "markdown",
   "metadata": {},
   "source": [
    "When training the deep learning models, one effective way to prevent over-fitting is to have separate validation dataset to monitor the out of sample performance. When the validation dataset  performance declines,  it means over-fitting is happening so we can  stop the training. We put everything together into one script that can train the model efficiently in multiple GPUs:"
   ]
  },
  {
   "cell_type": "code",
   "execution_count": 5,
   "metadata": {},
   "outputs": [
    {
     "name": "stdout",
     "output_type": "stream",
     "text": [
      "Overwriting distributed_training.py\n"
     ]
    }
   ],
   "source": [
    "%%writefile distributed_training.py\n",
    "import torch\n",
    "from ignite.engine import Engine, Events\n",
    "from torch.nn import MSELoss\n",
    "from ignite.contrib.handlers.param_scheduler import CosineAnnealingScheduler\n",
    "from apex import amp\n",
    "import argparse\n",
    "import os\n",
    "from apex.parallel import DistributedDataParallel\n",
    "import apex\n",
    "from apex.optimizers import FusedLAMB\n",
    "from model import Net\n",
    "from filedataset import OptionDataSet\n",
    "from ignite.metrics import MeanAbsoluteError\n",
    "import ignite\n",
    "import shutil\n",
    "\n",
    "parser = argparse.ArgumentParser()\n",
    "parser.add_argument(\"--local_rank\", default=0, type=int)\n",
    "parser.add_argument(\"--path\", default=None)\n",
    "args = parser.parse_args()\n",
    "\n",
    "args.distributed = False\n",
    "if 'WORLD_SIZE' in os.environ:\n",
    "    args.distributed = int(os.environ['WORLD_SIZE']) > 1\n",
    "\n",
    "if args.distributed:\n",
    "    torch.cuda.set_device(args.local_rank)\n",
    "    torch.distributed.init_process_group(backend='nccl',\n",
    "                                         init_method='env://')\n",
    "\n",
    "torch.backends.cudnn.benchmark = True\n",
    "\n",
    "trn_dataset = OptionDataSet(filename='./trn.pth',\n",
    "                            rank=args.local_rank,\n",
    "                            world_size=int(os.environ['WORLD_SIZE']))\n",
    "trn_dataset = torch.utils.data.DataLoader(trn_dataset,\n",
    "                                          batch_size=1024,\n",
    "                                          shuffle=True,\n",
    "                                          num_workers=0)\n",
    "\n",
    "val_dataset = OptionDataSet(filename='./val.pth',\n",
    "                            rank=args.local_rank,\n",
    "                            world_size=int(os.environ['WORLD_SIZE']))\n",
    "val_dataset = torch.utils.data.DataLoader(val_dataset,\n",
    "                                          batch_size=1024,\n",
    "                                          shuffle=False,\n",
    "                                          num_workers=0)\n",
    "\n",
    "model = Net().cuda()\n",
    "optimizer = FusedLAMB(model.parameters(), lr=1e-3)\n",
    "loss_fn = MSELoss()\n",
    "\n",
    "\n",
    "model = apex.parallel.convert_syncbn_model(model, channel_last=True)\n",
    "model, optimizer = amp.initialize(model, optimizer, opt_level='O1')\n",
    "\n",
    "\n",
    "best_mae = 100000\n",
    "\n",
    "if args.path is not None:\n",
    "    def resume():\n",
    "        global best_mae\n",
    "        checkpoint = torch.load(args.path)\n",
    "        best_mae = checkpoint['best_mae']\n",
    "        model.load_state_dict(checkpoint['state_dict'])\n",
    "        amp.load_state_dict(checkpoint['amp'])\n",
    "        optimizer.load_state_dict(checkpoint['optimizer'])\n",
    "    resume()\n",
    "\n",
    "\n",
    "if args.distributed:\n",
    "    model = DistributedDataParallel(model)\n",
    "    \n",
    "\n",
    "def train_update(engine, batch):\n",
    "    model.train()\n",
    "    optimizer.zero_grad()\n",
    "    x = batch[0]\n",
    "    y = batch[1]\n",
    "    y_pred = model(x)\n",
    "    loss = loss_fn(y, y_pred[:, 0])\n",
    "    with amp.scale_loss(loss, optimizer) as scaled_loss:\n",
    "        scaled_loss.backward()\n",
    "    optimizer.step()\n",
    "    return loss.item()\n",
    "\n",
    "trainer = Engine(train_update)\n",
    "log_interval = 500\n",
    "\n",
    "scheduler = CosineAnnealingScheduler(optimizer, 'lr', 1e-5, 5e-6,\n",
    "                                     len(trn_dataset),\n",
    "                                     start_value_mult=0.999, end_value_mult=0.999,\n",
    "                                     save_history=False\n",
    "                                     )\n",
    "trainer.add_event_handler(Events.ITERATION_STARTED, scheduler)\n",
    "\n",
    "\n",
    "def save_checkpoint(state, is_best, filename='checkpoint.pth.tar'):\n",
    "    torch.save(state, filename)\n",
    "    if is_best:\n",
    "        shutil.copyfile(filename, 'check_points/model_best.pth.tar')\n",
    "\n",
    "\n",
    "@trainer.on(Events.ITERATION_COMPLETED)\n",
    "def log_training_loss(engine):\n",
    "    iter = (engine.state.iteration - 1) % len(trn_dataset) + 1\n",
    "    if iter % log_interval == 0:\n",
    "        print('loss', engine.state.output, 'iter', engine.state.iteration,\n",
    "              'lr', scheduler.get_param())\n",
    "\n",
    "\n",
    "metric = MeanAbsoluteError()\n",
    "loss_m = ignite.metrics.Loss(loss_fn)\n",
    "\n",
    "# run eval at one process only\n",
    "def eval_update(engine, batch):\n",
    "    model.eval()\n",
    "    x = batch[0]\n",
    "    y = batch[1]\n",
    "    y_pred = model(x)\n",
    "    return y, y_pred[:, 0]\n",
    "evaluator = Engine(eval_update)\n",
    "metric.attach(evaluator, \"MAE\")\n",
    "loss_m.attach(evaluator, \"loss\")\n",
    "\n",
    "@trainer.on(Events.EPOCH_COMPLETED)\n",
    "def log_evalnumber(engine):\n",
    "    global best_mae\n",
    "    evaluator.run(val_dataset, max_epochs=1)\n",
    "    metrics = evaluator.state.metrics\n",
    "    print(\"Val Results - Epoch: {}  Avg MAE: {:.5f} loss: {:.5f} BEST: {:.5f}\"\n",
    "          .format(trainer.state.epoch, metrics['MAE'], metrics['loss'], best_mae))\n",
    "    average_tensor = torch.tensor([metrics['MAE'], metrics['loss']]).cuda()\n",
    "    torch.distributed.reduce(average_tensor, 0, op=torch.distributed.ReduceOp.SUM)\n",
    "    if args.local_rank == 0:\n",
    "        average_tensor = average_tensor/int(os.environ['WORLD_SIZE'])\n",
    "        print(\"ave {} nodes, mae: {:.5f} loss: {:.5f}\".format(int(os.environ['WORLD_SIZE']), average_tensor[0].item(), average_tensor[1].item()))\n",
    "        is_best = average_tensor[0].item() < best_mae\n",
    "        best_mae = min(average_tensor[0].item(), best_mae)\n",
    "        fname = 'check_points/current_pth.tar'\n",
    "        save_checkpoint({'epoch': trainer.state.epoch,\n",
    "                         'state_dict': model.module.state_dict(),\n",
    "                         'best_mae': best_mae,\n",
    "                         'optimizer': optimizer.state_dict(),\n",
    "                         'amp': amp.state_dict()\n",
    "                         }, is_best,\n",
    "                        filename=fname)\n",
    "        inputs = torch.tensor([[110.0, 100.0, 120.0, 0.35, 0.1, 0.05]]).cuda()\n",
    "        res = model(inputs)\n",
    "        print('test one example:', res.item())\n",
    "\n",
    "trainer.run(trn_dataset, max_epochs=2000)"
   ]
  },
  {
   "cell_type": "markdown",
   "metadata": {},
   "source": [
    "Compared to the last notebook, it is a little complicated because \n",
    "* it handles the validation dataset evaluation\n",
    "* it serializes the model into a file and keeps track of the best performed model based on the mean absolute error(MAE)\n",
    "* it resumes the training from the file\n",
    "\n",
    "We can launch the distributed training by the following command:-"
   ]
  },
  {
   "cell_type": "code",
   "execution_count": null,
   "metadata": {},
   "outputs": [],
   "source": [
    "!python -m torch.distributed.launch --nproc_per_node=4 distributed_training.py"
   ]
  },
  {
   "cell_type": "markdown",
   "metadata": {},
   "source": [
    "We need some patience to train the pricing model until it converges."
   ]
  },
  {
   "cell_type": "markdown",
   "metadata": {},
   "source": [
    "### Inference and Greeks\n",
    "Once the training is converged, the best performed model is saved into `check_points/` directory. Now we can load the model parameters and use it to do inference"
   ]
  },
  {
   "cell_type": "code",
   "execution_count": 12,
   "metadata": {},
   "outputs": [
    {
     "data": {
      "text/plain": [
       "tensor([[18.6810]], device='cuda:0', grad_fn=<AddmmBackward>)"
      ]
     },
     "execution_count": 12,
     "metadata": {},
     "output_type": "execute_result"
    }
   ],
   "source": [
    "from model import Net\n",
    "import torch\n",
    "checkpoint = torch.load('check_points/model_best.pth.tar')\n",
    "model = Net().cuda()\n",
    "model.load_state_dict(checkpoint['state_dict'])\n",
    "inputs = torch.tensor([[110.0, 100.0, 120.0, 0.35, 0.1, 0.05]]).cuda()\n",
    "model(inputs)"
   ]
  },
  {
   "cell_type": "markdown",
   "metadata": {},
   "source": [
    "One of the benefits of building a deep learning model is that the [Greeks](<https://en.wikipedia.org/wiki/Greeks_(finance)#First-order_Greeks>) can be easily computed. We just need to take advantage of the auto-grad feature in Pytorch. Following shows an example of calculating the first order differentiation for parameters 'K, B, S0, sigma, mu, r'"
   ]
  },
  {
   "cell_type": "code",
   "execution_count": 13,
   "metadata": {},
   "outputs": [
    {
     "data": {
      "text/plain": [
       "tensor([[-6.7114e-01, -2.5838e-02,  7.9291e-01,  1.9047e+01,  4.8450e+01,\n",
       "         -1.8940e+01]], device='cuda:0')"
      ]
     },
     "execution_count": 13,
     "metadata": {},
     "output_type": "execute_result"
    }
   ],
   "source": [
    "inputs = torch.tensor([[110.0, 100.0, 120.0, 0.35, 0.1, 0.05]]).cuda()\n",
    "inputs.requires_grad = True\n",
    "x = model(inputs)\n",
    "x.backward()\n",
    "first_order_gradient = inputs.grad\n",
    "first_order_gradient"
   ]
  },
  {
   "cell_type": "markdown",
   "metadata": {},
   "source": [
    "Here we are going to plot the Delta graph:-"
   ]
  },
  {
   "cell_type": "code",
   "execution_count": 14,
   "metadata": {},
   "outputs": [
    {
     "data": {
      "text/plain": [
       "[<matplotlib.lines.Line2D at 0x7fef5124ee48>]"
      ]
     },
     "execution_count": 14,
     "metadata": {},
     "output_type": "execute_result"
    },
    {
     "data": {
      "image/png": "[encoded data removed]",
      "text/plain": [
       "<Figure size 432x288 with 1 Axes>"
      ]
     },
     "metadata": {
      "needs_background": "light"
     },
     "output_type": "display_data"
    }
   ],
   "source": [
    "import pylab\n",
    "import numpy as np\n",
    "def compute_delta(S):\n",
    "    inputs = torch.tensor([[110.0, 100.0, S, 0.35, 0.1, 0.05]]).cuda()\n",
    "    inputs.requires_grad = True\n",
    "    x = model(inputs)\n",
    "    x.backward()\n",
    "    first_order_gradient = inputs.grad\n",
    "    return first_order_gradient[0][2]\n",
    "prices = np.arange(10, 200, 0.1)\n",
    "deltas = []\n",
    "for p in prices:\n",
    "    deltas.append(compute_delta(p).item())\n",
    "fig = pylab.plot(prices, deltas)\n",
    "pylab.xlabel('prices')\n",
    "pylab.ylabel('Delta')\n",
    "fig"
   ]
  },
  {
   "cell_type": "markdown",
   "metadata": {},
   "source": [
    "Calculating the second order derivative is easy in PyTorch too, following is an example:"
   ]
  },
  {
   "cell_type": "code",
   "execution_count": 22,
   "metadata": {},
   "outputs": [
    {
     "name": "stdout",
     "output_type": "stream",
     "text": [
      "tensor(0.0047, device='cuda:0')\n"
     ]
    },
    {
     "data": {
      "text/plain": [
       "(tensor([[ 6.9428e-01, -2.9211e-01,  4.6516e-03, -3.4750e+01, -1.5243e+00,\n",
       "          -5.4375e+01]], device='cuda:0'),)"
      ]
     },
     "execution_count": 22,
     "metadata": {},
     "output_type": "execute_result"
    }
   ],
   "source": [
    "import torch\n",
    "from torch import Tensor\n",
    "from torch.autograd import Variable\n",
    "from torch.autograd import grad\n",
    "from torch import nn\n",
    "\n",
    "inputs = torch.tensor([[110.0, 100.0, 120.0, 0.35, 0.1, 0.05]]).cuda()\n",
    "inputs.requires_grad = True\n",
    "x = model(inputs)\n",
    "\n",
    "# instead of using loss.backward(), use torch.autograd.grad() to compute gradients\n",
    "loss_grads = grad(x, inputs, create_graph=True)\n",
    "drv = grad(loss_grads[0], inputs, torch.ones_like(loss_grads[0]) )\n",
    "drv"
   ]
  },
  {
   "cell_type": "markdown",
   "metadata": {},
   "source": [
    "Gamma is the second order differenation of `S`. We can plot the the Gamma curve as a function of the stock price"
   ]
  },
  {
   "cell_type": "code",
   "execution_count": 6,
   "metadata": {},
   "outputs": [
    {
     "data": {
      "text/plain": [
       "[<matplotlib.lines.Line2D at 0x7f4d3dd2fd30>]"
      ]
     },
     "execution_count": 6,
     "metadata": {},
     "output_type": "execute_result"
    },
    {
     "data": {
      "image/png": "[encoded data removed]",
      "text/plain": [
       "<Figure size 432x288 with 1 Axes>"
      ]
     },
     "metadata": {
      "needs_background": "light"
     },
     "output_type": "display_data"
    }
   ],
   "source": [
    "import pylab\n",
    "import numpy as np\n",
    "def compute_gamma(S):\n",
    "    inputs = torch.tensor([[110.0, 100.0, S, 0.35, 0.1, 0.05]]).cuda()\n",
    "    inputs.requires_grad = True\n",
    "    x = model(inputs)\n",
    "    loss_grads = grad(x, inputs, create_graph=True)\n",
    "    drv = grad(loss_grads[0], inputs, torch.ones_like(loss_grads[0]) )\n",
    "    return drv[0][0][2]\n",
    "\n",
    "prices = np.arange(10, 200, 0.1)\n",
    "deltas = []\n",
    "for p in prices:\n",
    "    deltas.append(compute_gamma(p).item())\n",
    "fig2 = pylab.plot(prices, deltas)\n",
    "pylab.xlabel('prices')\n",
    "pylab.ylabel('Gamma')\n",
    "fig2"
   ]
  },
  {
   "cell_type": "markdown",
   "metadata": {},
   "source": [
    "[Implied volatility](https://en.wikipedia.org/wiki/Implied_volatility) is the forecasted volatility of the underlying asset based on the quoted prices of the option. It is the reverse mapping of price to the option parameter given the model which is hard to do with the Monte Carlo simulation approach. But if we have the deep learning pricing model, it is an easy task. We can first plot the relationship between volatility and the option price"
   ]
  },
  {
   "cell_type": "code",
   "execution_count": 12,
   "metadata": {},
   "outputs": [
    {
     "data": {
      "text/plain": [
       "[<matplotlib.lines.Line2D at 0x7f4d3db7eb00>]"
      ]
     },
     "execution_count": 12,
     "metadata": {},
     "output_type": "execute_result"
    },
    {
     "data": {
      "image/png": "[encoded data removed]",
      "text/plain": [
       "<Figure size 432x288 with 1 Axes>"
      ]
     },
     "metadata": {
      "needs_background": "light"
     },
     "output_type": "display_data"
    }
   ],
   "source": [
    "import pylab\n",
    "import numpy as np\n",
    "def compute_price(sigma):\n",
    "    inputs = torch.tensor([[110.0, 100.0, 120.0, sigma, 0.1, 0.05]]).cuda()\n",
    "    x = model(inputs)\n",
    "    return x.item()\n",
    "sigmas = np.arange(0, 0.5, 0.1)\n",
    "prices = []\n",
    "for s in sigmas:\n",
    "    prices.append(compute_price(s))\n",
    "fig3 = pylab.plot(sigmas, prices)\n",
    "pylab.xlabel('Sigma')\n",
    "pylab.ylabel('Price')\n",
    "fig3"
   ]
  },
  {
   "cell_type": "markdown",
   "metadata": {},
   "source": [
    "Given the prices `P`, the implied volatility is the root of the function `compute_price`. We can use bisection to find the root."
   ]
  },
  {
   "cell_type": "code",
   "execution_count": 31,
   "metadata": {},
   "outputs": [
    {
     "name": "stdout",
     "output_type": "stream",
     "text": [
      "implied volativity 0.1859593391418457 error 7.62939453125e-06\n"
     ]
    }
   ],
   "source": [
    "def bisection_root(small, large, fun, target, EPS=1e-6):\n",
    "    if fun(large) - target < 0:\n",
    "        print('upper bound is too small')\n",
    "        return None\n",
    "    if fun(small) - target > 0:\n",
    "        print('lower bound is too large')\n",
    "        return None\n",
    "    while large - small > EPS:\n",
    "        mid = (large + small) / 2.0\n",
    "        if fun(mid) - target >= 0:\n",
    "            large = mid\n",
    "        else:\n",
    "            small = mid\n",
    "    mid = (large + small) / 2.0\n",
    "    return mid, abs(fun(mid) - target)\n",
    "quoted_price = 16.0\n",
    "sigma, err = bisection_root(0, 0.5, compute_price, quoted_price)\n",
    "print('implied volativity', sigma, 'error', err)     "
   ]
  },
  {
   "cell_type": "code",
   "execution_count": null,
   "metadata": {},
   "outputs": [],
   "source": []
  }
 ],
 "metadata": {
  "kernelspec": {
   "display_name": "Python 3",
   "language": "python",
   "name": "python3"
  },
  "language_info": {
   "codemirror_mode": {
    "name": "ipython",
    "version": 3
   },
   "file_extension": ".py",
   "mimetype": "text/x-python",
   "name": "python",
   "nbconvert_exporter": "python",
   "pygments_lexer": "ipython3",
   "version": "3.6.9"
  }
 },
 "nbformat": 4,
 "nbformat_minor": 4
}
