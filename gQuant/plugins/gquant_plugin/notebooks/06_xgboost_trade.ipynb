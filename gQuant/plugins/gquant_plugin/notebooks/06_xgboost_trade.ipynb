{
 "cells": [
  {
   "cell_type": "markdown",
   "metadata": {},
   "source": [
    "# Trade with XGBoost algorithm\n",
    "## Background\n",
    "In the [portfolio trade example](https://github.com/rapidsai/greenflow/blob/master/notebooks/04_portfolio_trade.ipynb), we use greenflow to backtest a simple mean reversion trading strategy on 5000 stocks.\n",
    "It shows decent performance by tweaking the moving average window size. Searching for alpha signal is the ultimate goal for the trading companies. A lot of different methods are used to do so. Machine learning approach\n",
    "is one of those. It has the benefits of extracting important information in the data automatically given enough computation. There are a few popular machine learning algrithoms, including SVM, Random forest tree etc. Amoung those, XGBoost is known to be a very powerful machine \n",
    "learning method that is winning a lot of [ML competitions](https://medium.com/syncedreview/tree-boosting-with-xgboost-why-does-xgboost-win-every-machine-learning-competition-ca8034c0b283). Luckily, the [RAPIDS library](https://github.com/rapidsai) accelerates the XGBoost ML algorithm in the GPU so that we can easily take advantage of it in the greenflow. \n",
    "\n",
    "In this notebook, we are going to demo how to use greenflow to backtest a XGBoost based trading stragty.\n",
    "\n",
    "\n",
    "## Environment Preparation\n",
    "\n",
    "### Download the example Datasets\n",
    "Before getting started, let's download the example datasets if not presen"
   ]
  },
  {
   "cell_type": "code",
   "execution_count": 1,
   "metadata": {},
   "outputs": [
    {
     "name": "stdout",
     "output_type": "stream",
     "text": [
      "Dataset is already present. No need to re-download it.\n"
     ]
    }
   ],
   "source": [
    "! ((test ! -f './data/stock_price_hist.csv.gz' ||  test ! -f './data/security_master.csv.gz') && \\\n",
    "  cd .. && bash download_data.sh) || echo \"Dataset is already present. No need to re-download it.\""
   ]
  },
  {
   "cell_type": "markdown",
   "metadata": {},
   "source": [
    "### Prepare for running in Dask environment\n",
    "\n",
    "Let's start the Dask local cluster environment for distributed computation.\n",
    "\n",
    "Dask provides a web-based dashboard to help to track progress, identify performance issues, and debug failures. To learn more about Dask dashboard, just follow this [link](https://distributed.dask.org/en/latest/web.html).\n"
   ]
  },
  {
   "cell_type": "code",
   "execution_count": 2,
   "metadata": {},
   "outputs": [
    {
     "data": {
      "text/html": [
       "<table style=\"border: 2px solid white;\">\n",
       "<tr>\n",
       "<td style=\"vertical-align: top; border: 0px solid white\">\n",
       "<h3 style=\"text-align: left;\">Client</h3>\n",
       "<ul style=\"text-align: left; list-style: none; margin: 0; padding: 0;\">\n",
       "  <li><b>Scheduler: </b>tcp://127.0.0.1:36989</li>\n",
       "  <li><b>Dashboard: </b><a href='http://127.0.0.1:8787/status' target='_blank'>http://127.0.0.1:8787/status</a></li>\n",
       "</ul>\n",
       "</td>\n",
       "<td style=\"vertical-align: top; border: 0px solid white\">\n",
       "<h3 style=\"text-align: left;\">Cluster</h3>\n",
       "<ul style=\"text-align: left; list-style:none; margin: 0; padding: 0;\">\n",
       "  <li><b>Workers: </b>4</li>\n",
       "  <li><b>Cores: </b>4</li>\n",
       "  <li><b>Memory: </b>270.39 GB</li>\n",
       "</ul>\n",
       "</td>\n",
       "</tr>\n",
       "</table>"
      ],
      "text/plain": [
       "<Client: 'tcp://127.0.0.1:36989' processes=4 threads=4, memory=270.39 GB>"
      ]
     },
     "execution_count": 2,
     "metadata": {},
     "output_type": "execute_result"
    }
   ],
   "source": [
    "# Start the Dask local cluster environment for distrubuted computation\n",
    "from dask_cuda import LocalCUDACluster\n",
    "from dask.distributed import Client\n",
    "\n",
    "cluster = LocalCUDACluster()\n",
    "client = Client(cluster)\n",
    "client\n"
   ]
  },
  {
   "cell_type": "markdown",
   "metadata": {},
   "source": [
    "Though our stock dataset is small enough to fit in a single 16G GPU, to show how to do distributed computation, we will split the dataframe into small pieces to be loaded by different workers in the cluster.\n",
    "\n",
    "Notice this step is need only if the dataset is not split in multiple files yet.\n",
    "\n",
    "First use this simple taskgraph to load data then sort it by the asset id and datatime:"
   ]
  },
  {
   "cell_type": "code",
   "execution_count": 3,
   "metadata": {},
   "outputs": [
    {
     "data": {
      "application/vnd.jupyter.widget-view+json": {
       "model_id": "8d05cfe87c46463db157eab64ad9d8e7",
       "version_major": 2,
       "version_minor": 0
      },
      "text/plain": [
       "GreenflowWidget(sub=HBox(), value=[OrderedDict([('id', 'stock_data'), ('type', 'CsvStockLoader'), ('conf', {'f…"
      ]
     },
     "metadata": {},
     "output_type": "display_data"
    }
   ],
   "source": [
    "import sys; sys.path.insert(0, '..')\n",
    "import warnings\n",
    "from greenflow.dataframe_flow import TaskGraph\n",
    "import ipywidgets as widgets\n",
    "import os\n",
    "warnings.simplefilter(\"ignore\")\n",
    "task_graph = TaskGraph.load_taskgraph('../taskgraphs/sort_stocks.gq.yaml')\n",
    "input_cached, = task_graph.run()\n",
    "task_graph.draw()"
   ]
  },
  {
   "cell_type": "markdown",
   "metadata": {},
   "source": [
    "convert the sorted stock data into partitions and save it into csv files. Note, the data is slited in a way that the same asset belongs to the same partition"
   ]
  },
  {
   "cell_type": "code",
   "execution_count": 4,
   "metadata": {},
   "outputs": [
    {
     "data": {
      "text/plain": [
       "['/home/yidong/Projects/gQuant/gQuant/plugins/gquant_plugin/notebooks/many-small/0.csv',\n",
       " '/home/yidong/Projects/gQuant/gQuant/plugins/gquant_plugin/notebooks/many-small/1.csv',\n",
       " '/home/yidong/Projects/gQuant/gQuant/plugins/gquant_plugin/notebooks/many-small/2.csv',\n",
       " '/home/yidong/Projects/gQuant/gQuant/plugins/gquant_plugin/notebooks/many-small/3.csv',\n",
       " '/home/yidong/Projects/gQuant/gQuant/plugins/gquant_plugin/notebooks/many-small/4.csv',\n",
       " '/home/yidong/Projects/gQuant/gQuant/plugins/gquant_plugin/notebooks/many-small/5.csv',\n",
       " '/home/yidong/Projects/gQuant/gQuant/plugins/gquant_plugin/notebooks/many-small/6.csv',\n",
       " '/home/yidong/Projects/gQuant/gQuant/plugins/gquant_plugin/notebooks/many-small/7.csv']"
      ]
     },
     "execution_count": 4,
     "metadata": {},
     "output_type": "execute_result"
    }
   ],
   "source": [
    "import dask.dataframe as dd\n",
    "import os\n",
    "num_partitions = 8\n",
    "\n",
    "dd.from_pandas(input_cached, npartitions=num_partitions).shuffle(on=['asset']).to_csv('many-small/*.csv', index=False)"
   ]
  },
  {
   "cell_type": "markdown",
   "metadata": {},
   "source": [
    "Note, this notebook requires `cudf` of version >=0.8.0. It can be checked by following command"
   ]
  },
  {
   "cell_type": "code",
   "execution_count": 5,
   "metadata": {},
   "outputs": [
    {
     "name": "stdout",
     "output_type": "stream",
     "text": [
      "0.18.0\n"
     ]
    }
   ],
   "source": [
    "import cudf\n",
    "print(cudf.__version__)"
   ]
  },
  {
   "cell_type": "markdown",
   "metadata": {},
   "source": [
    "## The toy example\n",
    "To mimic the end-to-end quantitative analyst task, we are going to backtest a XGBoost trading strategy. \n",
    "\n",
    "We will reuse the preprocessing steps as shown in the portfolio trade notebook example. \n",
    "\n",
    "The workflow includes following steps:\n",
    "\n",
    "1. Preprocess the datasets.\n",
    "\n",
    "4. Compute the features based on different technical indicators \n",
    "\n",
    "5. Split the data in training and testing and build a XGBoost model based on the training data. From the XGBoost model, compute the trading signals for all the data points.\n",
    "\n",
    "5. Run backtesting and compute the returns from this strategy for each of the days and stock symbols \n",
    "\n",
    "6. Run a simple portfolio optimization by averaging the stocks together for each of the trading days.\n",
    "\n",
    "7. Compute the sharpe ratio and cumulative return results for both training and testing datasets\n",
    "\n",
    "The whole workflow can be organized into a TaskGraph, which are fully described in a `.gq.yaml` file.\n",
    "\n",
    "Each nodes has a unique id, a node type, configuration parameters and input nodes ids. greenflow takes this yaml file, wires it into a graph to visualize it.\n",
    "\n",
    "First let's load the proprocess TaskGraph:"
   ]
  },
  {
   "cell_type": "code",
   "execution_count": 6,
   "metadata": {},
   "outputs": [
    {
     "data": {
      "application/vnd.jupyter.widget-view+json": {
       "model_id": "dd4db05bd2a4483d80becc470bf37087",
       "version_major": 2,
       "version_minor": 0
      },
      "text/plain": [
       "GreenflowWidget(sub=HBox(), value=[OrderedDict([('id', 'stock_data'), ('type', 'CsvStockLoader'), ('conf', {'f…"
      ]
     },
     "metadata": {},
     "output_type": "display_data"
    }
   ],
   "source": [
    "task_graph = TaskGraph.load_taskgraph('../taskgraphs/preprocess.gq.yaml')\n",
    "task_graph.draw()"
   ]
  },
  {
   "cell_type": "markdown",
   "metadata": {},
   "source": [
    "Lode the whole TaskGraph by `load_taskgraph` command. Note the preprocess TaskGraph is included inside the `preprocess` `Composite Node`."
   ]
  },
  {
   "cell_type": "code",
   "execution_count": 7,
   "metadata": {},
   "outputs": [
    {
     "data": {
      "application/vnd.jupyter.widget-view+json": {
       "model_id": "4e4ea68aae2d44adbc9fb164de8def96",
       "version_major": 2,
       "version_minor": 0
      },
      "text/plain": [
       "GreenflowWidget(sub=HBox(), value=[OrderedDict([('id', 'stock_data'), ('type', 'CsvStockLoader'), ('conf', {'f…"
      ]
     },
     "metadata": {},
     "output_type": "display_data"
    }
   ],
   "source": [
    "task_graph = TaskGraph.load_taskgraph('../taskgraphs/xgboost_trade.gq.yaml')\n",
    "task_graph.draw()"
   ]
  },
  {
   "cell_type": "markdown",
   "metadata": {},
   "source": [
    " "
   ]
  },
  {
   "cell_type": "markdown",
   "metadata": {},
   "source": [
    "The features used for XGBoost algorithm are prepared in the `xgboost` Task node, where `cuIndicator` module is used to compute the technical indicators in the GPU for all the stock symbols. `xgboost` is the Task node that is used to compute the trading signals from the stock technical indicators. Each of the greenflow Task node is implemented by overwriting `meta_setup`, `process`, `ports_setup`, `conf_chema` methods of the Node base class. Please refer to [customize nodes notebook](https://github.com/rapidsai/greenflow/blob/master/notebooks/05_customize_nodes.ipynb) for details. Following is the source code for \"XGBoostStrategyNode\":"
   ]
  },
  {
   "cell_type": "code",
   "execution_count": 8,
   "metadata": {},
   "outputs": [
    {
     "name": "stdout",
     "output_type": "stream",
     "text": [
      "class XGBoostStrategyNode(_PortTypesMixin, Node):\n",
      "    \"\"\"\n",
      "    This is the Node used to compute trading signal from XGBoost Strategy.\n",
      "\n",
      "    \"\"\"\n",
      "\n",
      "    def init(self):\n",
      "        _PortTypesMixin.init(self)\n",
      "        self.INPUT_PORT_NAME = 'stock_in'\n",
      "        self.OUTPUT_PORT_NAME = 'stock_out'\n",
      "        port_type = PortsSpecSchema.port_type\n",
      "        self.port_inports = {\n",
      "            self.INPUT_PORT_NAME: {\n",
      "                port_type: [\n",
      "                    \"pandas.DataFrame\", \"cudf.DataFrame\",\n",
      "                    \"dask_cudf.DataFrame\", \"dask.dataframe.DataFrame\"\n",
      "                ]\n",
      "            },\n",
      "        }\n",
      "        self.port_outports = {\n",
      "            self.OUTPUT_PORT_NAME: {\n",
      "                port_type: \"${port:stock_in}\"\n",
      "            }\n",
      "        }\n",
      "        cols_required = {'predict': None, \"asset\": \"int64\"}\n",
      "        addition = {}\n",
      "        addition['signal'] = 'float64'\n",
      "        self.meta_inports = {\n",
      "            self.INPUT_PORT_NAME: cols_required\n",
      "        }\n",
      "        self.meta_outports = {\n",
      "            self.OUTPUT_PORT_NAME: {\n",
      "                self.META_OP: self.META_OP_ADDITION,\n",
      "                self.META_REF_INPUT: self.INPUT_PORT_NAME,\n",
      "                self.META_DATA: addition\n",
      "            }\n",
      "        }\n",
      "\n",
      "    def meta_setup(self):\n",
      "        return _PortTypesMixin.meta_setup(self)\n",
      "\n",
      "    def ports_setup(self):\n",
      "        return _PortTypesMixin.ports_setup(self)\n",
      "\n",
      "    def conf_schema(self):\n",
      "        json = {\n",
      "            \"title\": \"XGBoost Node configure\",\n",
      "            \"type\": \"object\",\n",
      "            \"description\": \"\"\"convert the predicted next day return as trading actions\n",
      "            \"\"\",\n",
      "            \"properties\": {\n",
      "            },\n",
      "        }\n",
      "        ui = {\n",
      "        }\n",
      "        return ConfSchema(json=json, ui=ui)\n",
      "\n",
      "    def process(self, inputs):\n",
      "        input_df = inputs[self.INPUT_PORT_NAME]\n",
      "        # convert the signal to trading action\n",
      "        # 1 is buy and -1 is sell\n",
      "        # It predicts the tomorrow's return (shift -1)\n",
      "        # We shift 1 for trading actions so that it acts on the second day\n",
      "        input_df['signal'] = ((\n",
      "            input_df['predict'] >= 0).astype('float') * 2 - 1).shift(1)\n",
      "        # remove the bad datapints\n",
      "        input_df = input_df.dropna()\n",
      "        return {self.OUTPUT_PORT_NAME: input_df}\n",
      "\n"
     ]
    }
   ],
   "source": [
    "import inspect\n",
    "from greenflow_gquant_plugin.strategy import XGBoostStrategyNode\n",
    "\n",
    "print(inspect.getsource(XGBoostStrategyNode))"
   ]
  },
  {
   "cell_type": "markdown",
   "metadata": {},
   "source": [
    "### XGBoost Trading Strategy Performance\n",
    "Similar to tensorflow, greenflow graph is evaluated by specifying the output nodes and input nodes replacement. We first look at the column result from data preparation node."
   ]
  },
  {
   "cell_type": "code",
   "execution_count": 21,
   "metadata": {},
   "outputs": [
    {
     "name": "stdout",
     "output_type": "stream",
     "text": [
      "output meta of node node_technical_indicator:\n",
      "MetaData(inports={'stock_in': {'indicator': 'int32', 'high': 'float64', 'low': 'float64', 'close': 'float64', 'volume': 'float64', 'returns': 'float64'}}, outports={'stock_out': {'datetime': 'datetime64[ns]', 'open': 'float64', 'close': 'float64', 'high': 'float64', 'low': 'float64', 'asset': 'int64', 'volume': 'float64', 'returns': 'float64', 'indicator': 'int32', 'CH_OS_10_20': 'float64', 'BO_BA_b1_10': 'float64', 'BO_BA_b2_10': 'float64', 'SHIFT_-1': 'float64'}})\n"
     ]
    }
   ],
   "source": [
    "from pprint import pprint\n",
    "print('output meta of node node_technical_indicator:')\n",
    "task_graph.build()\n",
    "pprint(task_graph['technical_indicator'].meta_setup())"
   ]
  },
  {
   "cell_type": "markdown",
   "metadata": {},
   "source": [
    "It adds the columns \"BO_BA_b1_10\", \"BO_BA_b2_10\", 'CH_OS_10_20\" as features and \"SHFIT_-1\" as the target, which is the return of next day. A good feature should be the one that provides highest information about the next day return. In the case we have no prior information about it,\n",
    "we can compute as many features as we like and leave it to the XGBoost to find the right combination of those features. \n",
    "\n",
    "Evaluate the leaf nodes of the backtesting graph by greenflow `run` method."
   ]
  },
  {
   "cell_type": "code",
   "execution_count": 22,
   "metadata": {},
   "outputs": [
    {
     "name": "stdout",
     "output_type": "stream",
     "text": [
      "id:stock_data process time:3.453s\n",
      "id:preprocess process time:0.584s\n",
      "id:sort_after process time:0.070s\n",
      "id:technical_indicator process time:0.112s\n",
      "id:train_df process time:0.015s\n",
      "id:validation_df process time:0.009s\n",
      "id:persist process time:0.005s\n",
      "id:xboost_model process time:1.665s\n",
      "id:train_infer process time:0.172s\n",
      "id:train_signal process time:0.025s\n",
      "id:train_backtest process time:0.001s\n",
      "id:portfolio_opt_train process time:0.012s\n",
      "id:sharpe_ratio_trn process time:0.001s\n",
      "id:cumulative_return_trn process time:0.021s\n",
      "id:val_infer process time:0.151s\n",
      "id:val_signal process time:0.013s\n",
      "id:val_backtest process time:0.001s\n",
      "id:portfolio_opt_validation process time:0.011s\n",
      "id:sharpe_ratio_val process time:0.003s\n",
      "id:cumulative_return_val process time:0.024s\n",
      "CPU times: user 14.4 s, sys: 1.43 s, total: 15.9 s\n",
      "Wall time: 15.3 s\n"
     ]
    }
   ],
   "source": [
    "%%time\n",
    "output_list = ['sharpe_ratio_trn.sharpe_out',\n",
    "               'cumulative_return_trn.cum_return',\n",
    "               'sharpe_ratio_val.sharpe_out',\n",
    "               'cumulative_return_val.cum_return',\n",
    "               'sort_after.out']\n",
    "o_gpu = task_graph.run(output_list, profile=True)\n",
    "cached_sort = o_gpu['sort_after.out']"
   ]
  },
  {
   "cell_type": "markdown",
   "metadata": {},
   "source": [
    "Define a function to organized the plot results. "
   ]
  },
  {
   "cell_type": "code",
   "execution_count": 11,
   "metadata": {},
   "outputs": [
    {
     "data": {
      "application/vnd.jupyter.widget-view+json": {
       "model_id": "9cf246c84c3f4008b8497c946e9f6da1",
       "version_major": 2,
       "version_minor": 0
      },
      "text/plain": [
       "VBox(children=(Image(value=b'\\x89PNG\\r\\n\\x1a\\n\\x00\\x00\\x00\\rIHDR\\x00\\x00\\x02\\xd0\\x00\\x00\\x01 \\x08\\x06\\x00\\x00\\…"
      ]
     },
     "metadata": {},
     "output_type": "display_data"
    }
   ],
   "source": [
    "def fig2img(fig):\n",
    "    \"\"\"Convert a Matplotlib figure to BufferIO\"\"\"\n",
    "    import io\n",
    "    buf = io.BytesIO()\n",
    "    fig.savefig(buf)\n",
    "    buf.seek(0)\n",
    "    return buf\n",
    "\n",
    "# define the function to format the plots\n",
    "def plot_figures(o):\n",
    "\n",
    "    sharpe_number = o['sharpe_ratio_trn.sharpe_out']\n",
    "    cum_return_train = o['cumulative_return_trn.cum_return']\n",
    "    cum_return_train.set_figwidth(10)\n",
    "    cum_return_train.suptitle('Train P & L %.3f' % (sharpe_number), fontsize=16)\n",
    "    i = fig2img(cum_return_train)\n",
    "    img_train = widgets.Image(\n",
    "                        value=i.read(),\n",
    "                        format='png',\n",
    "                        width=600,\n",
    "                        height=900,\n",
    "    )\n",
    "    sharpe_number = o['sharpe_ratio_val.sharpe_out']\n",
    "    cum_return_test = o['cumulative_return_val.cum_return']\n",
    "    cum_return_test.set_figwidth(10)\n",
    "    cum_return_test.suptitle('Test P & L %.3f' % (sharpe_number), fontsize=16)\n",
    "    i = fig2img(cum_return_test)\n",
    "    img_test = widgets.Image(\n",
    "                        value=i.read(),\n",
    "                        format='png',\n",
    "                        width=600,\n",
    "                        height=900,\n",
    "    )\n",
    "    return widgets.VBox([img_train, img_test])\n",
    "plot_figures(o_gpu)"
   ]
  },
  {
   "cell_type": "markdown",
   "metadata": {},
   "source": [
    "The XGBoost model does a good job to predict the next day of return. It overfits in the training dataset and gets Sharpe Ratio of 5 as shown in the figure above. In the testing period, it gets Sharpe Ratio of 1.\n",
    "\n",
    "The example model runs in a single GPU because of the small dataset. But in real world, the dataset usually is so large that it doesn't fit in a single GPU. Luckily, the XGBoost library natively supports multiple nodes and multiple GPU training by using Dask. You can scale out the computation using Dask dataframe.\n",
    "\n",
    "To show how easy it is to do distributed computation, let's run the above exmaple in the Dask environment for educational purpose.  \n"
   ]
  },
  {
   "cell_type": "markdown",
   "metadata": {},
   "source": [
    "To run the whole workflow, simply change the `preprocess` node to get Dask Dataframe and run the graph again. Here we look at the testing results:"
   ]
  },
  {
   "cell_type": "code",
   "execution_count": 12,
   "metadata": {},
   "outputs": [
    {
     "name": "stdout",
     "output_type": "stream",
     "text": [
      "id:stock_data process time:0.009s\n",
      "id:preprocess process time:0.353s\n",
      "id:train_df process time:0.008s\n",
      "id:validation_df process time:0.008s\n",
      "id:persist process time:0.107s\n",
      "id:xboost_model process time:9.597s\n",
      "id:train_infer process time:0.738s\n",
      "id:train_signal process time:0.025s\n",
      "id:train_backtest process time:0.011s\n",
      "id:portfolio_opt_train process time:0.021s\n",
      "id:sharpe_ratio_trn process time:0.372s\n",
      "id:cumulative_return_trn process time:0.346s\n",
      "id:val_infer process time:0.745s\n",
      "id:val_signal process time:0.030s\n",
      "id:val_backtest process time:0.011s\n",
      "id:portfolio_opt_validation process time:0.021s\n",
      "id:sharpe_ratio_val process time:0.297s\n",
      "id:cumulative_return_val process time:0.346s\n",
      "CPU times: user 12.7 s, sys: 474 ms, total: 13.2 s\n",
      "Wall time: 22.3 s\n"
     ]
    }
   ],
   "source": [
    "%%time\n",
    "\n",
    "replace_spec = {'preprocess': {\"inputs\": {\"sort_node@in\": \"stock_data.dask_cudf_out\"}}}\n",
    "o_gpu = task_graph.run(replace=replace_spec, profile=True)"
   ]
  },
  {
   "cell_type": "code",
   "execution_count": 13,
   "metadata": {},
   "outputs": [
    {
     "data": {
      "application/vnd.jupyter.widget-view+json": {
       "model_id": "4f3b17af4c9945c1928dbe405e80b35c",
       "version_major": 2,
       "version_minor": 0
      },
      "text/plain": [
       "VBox(children=(Image(value=b'\\x89PNG\\r\\n\\x1a\\n\\x00\\x00\\x00\\rIHDR\\x00\\x00\\x02\\xd0\\x00\\x00\\x01 \\x08\\x06\\x00\\x00\\…"
      ]
     },
     "metadata": {},
     "output_type": "display_data"
    }
   ],
   "source": [
    "plot_figures(o_gpu)"
   ]
  },
  {
   "cell_type": "markdown",
   "metadata": {},
   "source": [
    "\n",
    "Clearly, 3 feautres is way too little here. greenflow implmented 36 technical indicators. We can change the configuration of node_technical_indicator node to include more features."
   ]
  },
  {
   "cell_type": "code",
   "execution_count": 14,
   "metadata": {},
   "outputs": [],
   "source": [
    "chaikin_para0 = 10\n",
    "chaikin_para1 = 20\n",
    "bollinger_para = 10\n",
    "macd_para0 = 2\n",
    "macd_para1 = 3\n",
    "rsi_para0 = 5\n",
    "atr_para0 = 10\n",
    "sod_para = 2\n",
    "mflow_para = 3\n",
    "findex_para = 5\n",
    "adis_para = 5\n",
    "ccindex_para = 5\n",
    "bvol_para = 3\n",
    "vindex_para = 3\n",
    "mindex_para0 = 10\n",
    "mindex_para1 = 15\n",
    "tindex_para0 = 5\n",
    "tindex_para1 = 10\n",
    "emove_para = 5\n",
    "cc_para = 15\n",
    "kchannel_para = 10\n",
    "indicator_conf = {\n",
    "    \"indicators\": [\n",
    "        {\"function\": \"port_chaikin_oscillator\",\n",
    "         \"columns\": [\"high\", \"low\", \"close\", \"volume\"],\n",
    "         \"args\": [chaikin_para0, chaikin_para1]\n",
    "        },\n",
    "        {\"function\": \"port_bollinger_bands\",\n",
    "         \"columns\": [\"close\"],\n",
    "         \"args\": [bollinger_para],\n",
    "         \"outputs\": [\"b1\", \"b2\"]\n",
    "        },\n",
    "        {\"function\": \"port_macd\",\n",
    "         \"columns\": [\"close\"],\n",
    "         \"args\": [macd_para0, macd_para1],\n",
    "         \"outputs\": [\"MACDsign\", \"MACDdiff\"]\n",
    "        },\n",
    "        {\"function\": \"port_relative_strength_index\",\n",
    "         \"columns\": [\"high\", \"low\"],\n",
    "         \"args\": [rsi_para0],\n",
    "        },\n",
    "        {\"function\": \"port_average_true_range\",\n",
    "         \"columns\": [\"high\", \"low\", \"close\"],\n",
    "         \"args\": [atr_para0],\n",
    "        },\n",
    "        {\"function\": \"port_stochastic_oscillator_k\",\n",
    "         \"columns\": [\"high\", \"low\", \"close\"],\n",
    "         \"args\": [],\n",
    "        },\n",
    "        {\"function\": \"port_stochastic_oscillator_d\",\n",
    "         \"columns\": [\"high\", \"low\", \"close\"],\n",
    "         \"args\": [sod_para],\n",
    "        },\n",
    "        {\"function\": \"port_money_flow_index\",\n",
    "         \"columns\": [\"high\", \"low\", \"close\", \"volume\"],\n",
    "         \"args\": [mflow_para],\n",
    "        },\n",
    "        {\"function\": \"port_force_index\",\n",
    "         \"columns\": [\"close\", \"volume\"],\n",
    "         \"args\": [findex_para],\n",
    "        },\n",
    "        {\"function\": \"port_ultimate_oscillator\",\n",
    "         \"columns\": [\"high\",\"low\",\"close\"],\n",
    "         \"args\": [],\n",
    "        },\n",
    "        {\"function\": \"port_accumulation_distribution\",\n",
    "         \"columns\": [\"high\",\"low\",\"close\",\"volume\"],\n",
    "         \"args\": [adis_para],\n",
    "        },\n",
    "        {\"function\": \"port_commodity_channel_index\",\n",
    "         \"columns\": [\"high\",\"low\",\"close\"],\n",
    "         \"args\": [ccindex_para],\n",
    "        },\n",
    "        {\"function\": \"port_on_balance_volume\",\n",
    "         \"columns\": [\"close\", \"volume\"],\n",
    "         \"args\": [bvol_para],\n",
    "        },\n",
    "        {\"function\": \"port_vortex_indicator\",\n",
    "         \"columns\": [\"high\", \"low\", \"close\"],\n",
    "         \"args\": [vindex_para],\n",
    "        },\n",
    "         {\"function\": \"port_kst_oscillator\",\n",
    "         \"columns\": [\"close\"],\n",
    "         \"args\": [3, 4, 5, 6, 7, 8, 9, 10],\n",
    "        },\n",
    "        {\"function\": \"port_mass_index\",\n",
    "         \"columns\": [\"high\", \"low\"],\n",
    "         \"args\": [mindex_para0, mindex_para1],\n",
    "        },\n",
    "        {\"function\": \"port_true_strength_index\",\n",
    "         \"columns\": [\"close\"],\n",
    "         \"args\": [tindex_para0, tindex_para1],\n",
    "        },\n",
    "        {\"function\": \"port_ease_of_movement\",\n",
    "         \"columns\": [\"high\", \"low\", \"volume\"],\n",
    "         \"args\": [emove_para],\n",
    "        },\n",
    "        {\"function\": \"port_coppock_curve\",\n",
    "         \"columns\": [\"close\"],\n",
    "         \"args\": [cc_para],\n",
    "        },\n",
    "        {\"function\": \"port_keltner_channel\",\n",
    "         \"columns\": [\"high\", \"low\", \"close\"],\n",
    "         \"args\": [kchannel_para],\n",
    "         \"outputs\": [\"KelChD\", \"KelChM\", \"KelChU\"]\n",
    "        },\n",
    "        {\"function\": \"port_ppsr\",\n",
    "         \"columns\": [\"high\", \"low\", \"close\"],\n",
    "         \"args\": [],\n",
    "         \"outputs\": [\"PP\", \"R1\", \"S1\", \"R2\", \"S2\", \"R3\", \"S3\"]\n",
    "        },\n",
    "        {\"function\": \"port_shift\",\n",
    "         \"columns\": [\"returns\"],\n",
    "         \"args\": [-1]\n",
    "        }        \n",
    "    ],\n",
    "    \"remove_na\": True\n",
    "}"
   ]
  },
  {
   "cell_type": "code",
   "execution_count": 15,
   "metadata": {},
   "outputs": [
    {
     "data": {
      "application/vnd.jupyter.widget-view+json": {
       "model_id": "4e4ea68aae2d44adbc9fb164de8def96",
       "version_major": 2,
       "version_minor": 0
      },
      "text/plain": [
       "GreenflowWidget(cache={'height': 689.1, 'width': 2297, 'nodes': [{'width': 140, 'id': 'stock_data', 'type': 'C…"
      ]
     },
     "metadata": {},
     "output_type": "display_data"
    }
   ],
   "source": [
    "task_graph.draw()"
   ]
  },
  {
   "cell_type": "markdown",
   "metadata": {},
   "source": [
    "Run the backtesting again"
   ]
  },
  {
   "cell_type": "code",
   "execution_count": 16,
   "metadata": {},
   "outputs": [
    {
     "name": "stdout",
     "output_type": "stream",
     "text": [
      "id:technical_indicator process time:2.642s\n",
      "id:train_df process time:0.054s\n",
      "id:validation_df process time:0.024s\n",
      "id:persist process time:0.006s\n",
      "id:xboost_model process time:3.646s\n",
      "id:train_infer process time:0.206s\n",
      "id:train_signal process time:0.056s\n",
      "id:train_backtest process time:0.001s\n",
      "id:portfolio_opt_train process time:0.012s\n",
      "id:sharpe_ratio_trn process time:0.001s\n",
      "id:cumulative_return_trn process time:0.022s\n",
      "id:val_infer process time:0.184s\n",
      "id:val_signal process time:0.036s\n",
      "id:val_backtest process time:0.001s\n",
      "id:portfolio_opt_validation process time:0.011s\n",
      "id:sharpe_ratio_val process time:0.001s\n",
      "id:cumulative_return_val process time:0.024s\n",
      "CPU times: user 14.7 s, sys: 1.71 s, total: 16.4 s\n",
      "Wall time: 15.9 s\n"
     ]
    }
   ],
   "source": [
    "%%time\n",
    "replace_spec = {}\n",
    "replace_spec['technical_indicator'] = {\"conf\": indicator_conf}\n",
    "\n",
    "replace_spec['sort_after'] = {\"load\": {'out': cached_sort}}\n",
    "\n",
    "o_gpu = task_graph.run(replace=replace_spec, profile=True)\n"
   ]
  },
  {
   "cell_type": "code",
   "execution_count": 17,
   "metadata": {},
   "outputs": [
    {
     "data": {
      "application/vnd.jupyter.widget-view+json": {
       "model_id": "7af4a72b15e24689b9b3054636a4ca81",
       "version_major": 2,
       "version_minor": 0
      },
      "text/plain": [
       "VBox(children=(Image(value=b'\\x89PNG\\r\\n\\x1a\\n\\x00\\x00\\x00\\rIHDR\\x00\\x00\\x02\\xd0\\x00\\x00\\x01 \\x08\\x06\\x00\\x00\\…"
      ]
     },
     "metadata": {},
     "output_type": "display_data"
    }
   ],
   "source": [
    "plot_figures(o_gpu)"
   ]
  },
  {
   "cell_type": "markdown",
   "metadata": {},
   "source": [
    "We get Sharpe Ratio of `1.93` in the testing dataset, not bad!\n",
    "\n",
    "Using `min_volume=400.0`, it selects 1558 stocks. Setting a lower threshhold, it can include more stocks for the backtesting and hence increase the Sharpe Ratio. But it runs out of memory of single GPU. We have shown Dask can help to break down the large task into small tasks and schedule them a distributed environment. So we can handle dataset of any sizes in this way:"
   ]
  },
  {
   "cell_type": "code",
   "execution_count": 18,
   "metadata": {},
   "outputs": [
    {
     "name": "stdout",
     "output_type": "stream",
     "text": [
      "id:stock_data process time:0.007s\n",
      "id:preprocess process time:0.409s\n",
      "id:train_df process time:0.010s\n",
      "id:validation_df process time:0.010s\n",
      "id:persist process time:0.117s\n",
      "id:xboost_model process time:12.139s\n",
      "id:train_infer process time:0.839s\n",
      "id:train_signal process time:0.033s\n",
      "id:train_backtest process time:0.017s\n",
      "id:portfolio_opt_train process time:0.021s\n",
      "id:sharpe_ratio_trn process time:0.827s\n",
      "id:cumulative_return_trn process time:0.695s\n",
      "id:val_infer process time:0.802s\n",
      "id:val_signal process time:0.033s\n",
      "id:val_backtest process time:0.014s\n",
      "id:portfolio_opt_validation process time:0.021s\n",
      "id:sharpe_ratio_val process time:0.619s\n",
      "id:cumulative_return_val process time:0.608s\n",
      "CPU times: user 13.5 s, sys: 700 ms, total: 14.2 s\n",
      "Wall time: 26.7 s\n"
     ]
    },
    {
     "data": {
      "application/vnd.jupyter.widget-view+json": {
       "model_id": "070a743de6f74e1dadf860471a7befc3",
       "version_major": 2,
       "version_minor": 0
      },
      "text/plain": [
       "VBox(children=(Image(value=b'\\x89PNG\\r\\n\\x1a\\n\\x00\\x00\\x00\\rIHDR\\x00\\x00\\x02\\xd0\\x00\\x00\\x01 \\x08\\x06\\x00\\x00\\…"
      ]
     },
     "metadata": {},
     "output_type": "display_data"
    }
   ],
   "source": [
    "%%time\n",
    "min_volume = 4.0\n",
    "min_rate = -10.0\n",
    "max_rate = 10.0\n",
    "replace_spec={}\n",
    "replace_spec['technical_indicator'] = {\"conf\": indicator_conf}\n",
    "\n",
    "replace_spec['node_filterValue']={\"conf\": [{\"column\": \"volume_mean\", \"min\": min_volume},\n",
    "                                            {\"column\": \"returns_max\", \"max\": max_rate},\n",
    "                                            {\"column\": \"returns_min\", \"min\": min_rate}]}\n",
    "replace_spec['preprocess'] = {\"conf\": {\"subnodes_conf\": {\n",
    "                                            \"value_filter\": {\n",
    "                                                \"conf\": [{\"column\": \"average_volume\", \"min\": min_volume},\n",
    "                                                         {\"column\": \"max_return\", \"max\": max_rate},\n",
    "                                                         {\"column\": \"min_return\", \"min\": min_rate}]\n",
    "                                            },\n",
    "                                            \"drop_columns\": {\n",
    "                                                \"conf\": {\n",
    "                                                    \"columns\": [\"average_volume\", \"min_return\", \"max_return\"]\n",
    "                                                }\n",
    "                                            }\n",
    "                                        },\n",
    "                                        \"taskgraph\": \"taskgraphs/preprocess.gq.yaml\",\n",
    "                                        \"input\": [\"sort_node.in\"],\n",
    "                                        \"output\": [\"drop_columns.out\"]\n",
    "                                    },\n",
    "                              \"inputs\": {\"sort_node@in\": \"stock_data.dask_cudf_out\"}}\n",
    "\n",
    "o_gpu = task_graph.run(replace=replace_spec, profile=True)\n",
    "plot_figures(o_gpu)"
   ]
  },
  {
   "cell_type": "code",
   "execution_count": 19,
   "metadata": {},
   "outputs": [
    {
     "data": {
      "application/vnd.jupyter.widget-view+json": {
       "model_id": "002db260dd9f4c44ab7d698310f73f94",
       "version_major": 2,
       "version_minor": 0
      },
      "text/plain": [
       "VBox(children=(Image(value=b'\\x89PNG\\r\\n\\x1a\\n\\x00\\x00\\x00\\rIHDR\\x00\\x00\\x02\\xd0\\x00\\x00\\x01 \\x08\\x06\\x00\\x00\\…"
      ]
     },
     "metadata": {},
     "output_type": "display_data"
    }
   ],
   "source": [
    "plot_figures(o_gpu)"
   ]
  },
  {
   "cell_type": "markdown",
   "metadata": {},
   "source": [
    "We get Sharpe Ratio of `4.7` in the testing dataset. This is a great improvement!"
   ]
  },
  {
   "cell_type": "markdown",
   "metadata": {},
   "source": [
    "## Strategy parameter search\n",
    "Quantitative analyst usually need to explore different parameters for their trading strategy. The exploration process is an iterative process. greenflow help to speed up this by allowing using cached dataframe and evaluating the sub-graphs.\n",
    "\n",
    "To find the optimal technical indicator parameters for this XGBoost strategy, we build a wiget to search the parameter interactively. "
   ]
  },
  {
   "cell_type": "code",
   "execution_count": 20,
   "metadata": {},
   "outputs": [
    {
     "data": {
      "application/vnd.jupyter.widget-view+json": {
       "model_id": "cac419eb416b4ec18b63c14be6eee42e",
       "version_major": 2,
       "version_minor": 0
      },
      "text/plain": [
       "VBox(children=(VBox(children=(IntRangeSlider(value=(10, 20), continuous_update=False, description='Chaikin', m…"
      ]
     },
     "metadata": {},
     "output_type": "display_data"
    }
   ],
   "source": [
    "import plotutils\n",
    "replace_spec={}\n",
    "replace_spec['technical_indicator'] = {\"conf\": indicator_conf}\n",
    "replace_spec['sort_after'] = {\"load\": {'out': cached_sort}}\n",
    "plotutils.getXGBoostWidget(replace_spec, task_graph, plot_figures)"
   ]
  },
  {
   "cell_type": "markdown",
   "metadata": {},
   "source": [
    "### Conclusions\n",
    "In this notebook, we demoed how to use greenflow to backtest XGBoost trading strategy. It is convenient and efficient to use indicator node from the greenflow to compute features for all the stocks in the dataset in the GPU. The XGBoost training are computed in the GPU, so we can get the results quickly. This example shows the XGBoost algorithm's power in finding trading signals. We can achieve close to 2 raw Sharpe ratio in the testing time period."
   ]
  },
  {
   "cell_type": "code",
   "execution_count": 23,
   "metadata": {},
   "outputs": [
    {
     "data": {
      "text/plain": [
       "{'status': 'ok', 'restart': True}"
      ]
     },
     "execution_count": 23,
     "metadata": {},
     "output_type": "execute_result"
    }
   ],
   "source": [
    "import IPython\n",
    "app = IPython.Application.instance()\n",
    "app.kernel.do_shutdown(True)"
   ]
  },
  {
   "cell_type": "code",
   "execution_count": null,
   "metadata": {},
   "outputs": [],
   "source": []
  }
 ],
 "metadata": {
  "kernelspec": {
   "display_name": "Python 3",
   "language": "python",
   "name": "python3"
  },
  "language_info": {
   "codemirror_mode": {
    "name": "ipython",
    "version": 3
   },
   "file_extension": ".py",
   "mimetype": "text/x-python",
   "name": "python",
   "nbconvert_exporter": "python",
   "pygments_lexer": "ipython3",
   "version": "3.8.8"
  }
 },
 "nbformat": 4,
 "nbformat_minor": 4
}
