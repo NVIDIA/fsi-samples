{
 "cells": [
  {
   "cell_type": "code",
   "execution_count": 1,
   "metadata": {},
   "outputs": [],
   "source": [
    "import sys; sys.path.insert(0, '..')\n",
    "from greenflow.dataframe_flow import TaskGraph"
   ]
  },
  {
   "cell_type": "code",
   "execution_count": 2,
   "metadata": {},
   "outputs": [
    {
     "data": {
      "text/html": [
       "<table style=\"border: 2px solid white;\">\n",
       "<tr>\n",
       "<td style=\"vertical-align: top; border: 0px solid white\">\n",
       "<h3 style=\"text-align: left;\">Client</h3>\n",
       "<ul style=\"text-align: left; list-style: none; margin: 0; padding: 0;\">\n",
       "  <li><b>Scheduler: </b>tcp://127.0.0.1:38365</li>\n",
       "  <li><b>Dashboard: </b><a href='http://127.0.0.1:8787/status' target='_blank'>http://127.0.0.1:8787/status</a></li>\n",
       "</ul>\n",
       "</td>\n",
       "<td style=\"vertical-align: top; border: 0px solid white\">\n",
       "<h3 style=\"text-align: left;\">Cluster</h3>\n",
       "<ul style=\"text-align: left; list-style:none; margin: 0; padding: 0;\">\n",
       "  <li><b>Workers: </b>4</li>\n",
       "  <li><b>Cores: </b>4</li>\n",
       "  <li><b>Memory: </b>270.39 GB</li>\n",
       "</ul>\n",
       "</td>\n",
       "</tr>\n",
       "</table>"
      ],
      "text/plain": [
       "<Client: 'tcp://127.0.0.1:38365' processes=4 threads=4, memory=270.39 GB>"
      ]
     },
     "execution_count": 2,
     "metadata": {},
     "output_type": "execute_result"
    }
   ],
   "source": [
    "from dask_cuda import LocalCUDACluster\n",
    "cluster = LocalCUDACluster()\n",
    "from dask.distributed import Client\n",
    "client = Client(cluster)\n",
    "client"
   ]
  },
  {
   "cell_type": "markdown",
   "metadata": {},
   "source": [
    "We can open the status page in the brwoser by following javascript commands"
   ]
  },
  {
   "cell_type": "code",
   "execution_count": 3,
   "metadata": {},
   "outputs": [
    {
     "data": {
      "text/html": [
       "\n",
       "<script type=\"text/Javascript\">\n",
       "    function check_status(){\n",
       "        var url = document.location.href;\n",
       "        var index = url.indexOf(':8888');\n",
       "        var status = url.substr(0, index)+\":8787\";\n",
       "        window.open(status,'_blank');\n",
       "    }\n",
       "    check_status();\n",
       "</script>\n"
      ],
      "text/plain": [
       "<IPython.core.display.HTML object>"
      ]
     },
     "execution_count": 3,
     "metadata": {},
     "output_type": "execute_result"
    }
   ],
   "source": [
    "from IPython.display import HTML\n",
    "javascript = \"\"\"\n",
    "<script type=\"text/Javascript\">\n",
    "    function check_status(){\n",
    "        var url = document.location.href;\n",
    "        var index = url.indexOf(':8888');\n",
    "        var status = url.substr(0, index)+\":8787\";\n",
    "        window.open(status,'_blank');\n",
    "    }\n",
    "    check_status();\n",
    "</script>\n",
    "\"\"\"\n",
    "HTML(javascript)"
   ]
  },
  {
   "cell_type": "markdown",
   "metadata": {},
   "source": [
    "# Prepare distributed CSV files <span style=\"color:red\">(not necessary if the dataset is already prepared)</span>\n",
    "\n",
    "Following is the code to prepare the dataset as mulitple csv files that we can use dask_cuda to load them\n",
    "\n",
    "First use this simple taskgraph to load data then sort it by the asset id and datatime"
   ]
  },
  {
   "cell_type": "code",
   "execution_count": 4,
   "metadata": {},
   "outputs": [
    {
     "data": {
      "application/vnd.jupyter.widget-view+json": {
       "model_id": "4ac223ec830f428daabaff6b36523f39",
       "version_major": 2,
       "version_minor": 0
      },
      "text/plain": [
       "GreenflowWidget(sub=HBox(), value=[OrderedDict([('id', 'stock_data'), ('type', 'CsvStockLoader'), ('conf', {'f…"
      ]
     },
     "metadata": {},
     "output_type": "display_data"
    }
   ],
   "source": [
    "task_graph = TaskGraph.load_taskgraph('../taskgraphs/sort_stocks.gq.yaml')\n",
    "input_cached, = task_graph.run()\n",
    "task_graph.draw()"
   ]
  },
  {
   "cell_type": "markdown",
   "metadata": {},
   "source": [
    "convert the sorted stock data into partitions and save it into csv files. Note, the data is slited in a way that the same asset belongs to the same partition"
   ]
  },
  {
   "cell_type": "code",
   "execution_count": 7,
   "metadata": {},
   "outputs": [
    {
     "data": {
      "text/plain": [
       "['/home/yidong/Projects/gQuant/gQuant/plugins/gquant_plugin/notebooks/many-small/0.csv',\n",
       " '/home/yidong/Projects/gQuant/gQuant/plugins/gquant_plugin/notebooks/many-small/1.csv',\n",
       " '/home/yidong/Projects/gQuant/gQuant/plugins/gquant_plugin/notebooks/many-small/2.csv',\n",
       " '/home/yidong/Projects/gQuant/gQuant/plugins/gquant_plugin/notebooks/many-small/3.csv',\n",
       " '/home/yidong/Projects/gQuant/gQuant/plugins/gquant_plugin/notebooks/many-small/4.csv',\n",
       " '/home/yidong/Projects/gQuant/gQuant/plugins/gquant_plugin/notebooks/many-small/5.csv',\n",
       " '/home/yidong/Projects/gQuant/gQuant/plugins/gquant_plugin/notebooks/many-small/6.csv',\n",
       " '/home/yidong/Projects/gQuant/gQuant/plugins/gquant_plugin/notebooks/many-small/7.csv']"
      ]
     },
     "execution_count": 7,
     "metadata": {},
     "output_type": "execute_result"
    }
   ],
   "source": [
    "import dask.dataframe as dd\n",
    "import os\n",
    "num_partitions = 8\n",
    "\n",
    "dd.from_pandas(input_cached, npartitions=num_partitions).shuffle(on=['asset']).to_csv('many-small/*.csv', index=False)"
   ]
  },
  {
   "cell_type": "code",
   "execution_count": 8,
   "metadata": {},
   "outputs": [
    {
     "name": "stdout",
     "output_type": "stream",
     "text": [
      "- conf:\n",
      "    file: notebooks/data/stock_price_hist.csv.gz\n",
      "    path: notebooks/many-small\n",
      "  id: stock_data\n",
      "  inputs: {}\n",
      "  module: greenflow_gquant_plugin.dataloader\n",
      "  type: CsvStockLoader\n",
      "- conf:\n",
      "    keys:\n",
      "    - asset\n",
      "    - datetime\n",
      "  id: sort_node\n",
      "  inputs:\n",
      "    in: stock_data.dask_cudf_out\n",
      "  module: greenflow_gquant_plugin.transform\n",
      "  type: SortNode\n",
      "- conf: {}\n",
      "  id: ''\n",
      "  inputs:\n",
      "    in1: output_csv.df_out\n",
      "  type: Output_Collector\n",
      "- conf:\n",
      "    column: volume\n",
      "  id: average_volume\n",
      "  inputs:\n",
      "    stock_in: sort_node.out\n",
      "  module: greenflow_gquant_plugin.transform\n",
      "  type: AverageNode\n",
      "- conf:\n",
      "    path: notebooks/dask_average_volume.csv\n",
      "  id: output_csv\n",
      "  inputs:\n",
      "    df_in: average_volume.stock_out\n",
      "  module: greenflow_gquant_plugin.analysis\n",
      "  type: OutCsvNode\n"
     ]
    }
   ],
   "source": [
    "!cat ../taskgraphs/dask_tutorial.gq.yaml"
   ]
  },
  {
   "cell_type": "code",
   "execution_count": 9,
   "metadata": {},
   "outputs": [
    {
     "data": {
      "application/vnd.jupyter.widget-view+json": {
       "model_id": "8693a6cc9f7a441d93ba412784d4c532",
       "version_major": 2,
       "version_minor": 0
      },
      "text/plain": [
       "GreenflowWidget(sub=HBox(), value=[OrderedDict([('id', 'stock_data'), ('type', 'CsvStockLoader'), ('conf', {'f…"
      ]
     },
     "metadata": {},
     "output_type": "display_data"
    }
   ],
   "source": [
    "task_graph = TaskGraph.load_taskgraph('../taskgraphs/dask_tutorial.gq.yaml')\n",
    "task_graph.draw()"
   ]
  },
  {
   "cell_type": "code",
   "execution_count": 10,
   "metadata": {},
   "outputs": [
    {
     "name": "stdout",
     "output_type": "stream",
     "text": [
      "id:stock_data process time:0.023s\n",
      "id:average_volume process time:0.018s\n",
      "id:output_csv process time:2.049s\n"
     ]
    },
    {
     "data": {
      "application/vnd.jupyter.widget-view+json": {
       "model_id": "f1d5e1fcdabb4b439d7fe5370934283b",
       "version_major": 2,
       "version_minor": 0
      },
      "text/plain": [
       "Tab(children=(Output(), Output(layout=Layout(border='1px solid black'), outputs=({'output_type': 'stream', 'na…"
      ]
     },
     "metadata": {},
     "output_type": "display_data"
    }
   ],
   "source": [
    "task_graph.run(formated=True, profile=True)"
   ]
  },
  {
   "cell_type": "code",
   "execution_count": 12,
   "metadata": {},
   "outputs": [
    {
     "data": {
      "text/html": [
       "<div>\n",
       "<style scoped>\n",
       "    .dataframe tbody tr th:only-of-type {\n",
       "        vertical-align: middle;\n",
       "    }\n",
       "\n",
       "    .dataframe tbody tr th {\n",
       "        vertical-align: top;\n",
       "    }\n",
       "\n",
       "    .dataframe thead th {\n",
       "        text-align: right;\n",
       "    }\n",
       "</style>\n",
       "<table border=\"1\" class=\"dataframe\">\n",
       "  <thead>\n",
       "    <tr style=\"text-align: right;\">\n",
       "      <th></th>\n",
       "      <th>asset</th>\n",
       "      <th>volume</th>\n",
       "    </tr>\n",
       "  </thead>\n",
       "  <tbody>\n",
       "    <tr>\n",
       "      <th>0</th>\n",
       "      <td>703638</td>\n",
       "      <td>274.248038</td>\n",
       "    </tr>\n",
       "    <tr>\n",
       "      <th>1</th>\n",
       "      <td>25156</td>\n",
       "      <td>154.621564</td>\n",
       "    </tr>\n",
       "    <tr>\n",
       "      <th>2</th>\n",
       "      <td>23316</td>\n",
       "      <td>859.237660</td>\n",
       "    </tr>\n",
       "    <tr>\n",
       "      <th>3</th>\n",
       "      <td>705451</td>\n",
       "      <td>92.104888</td>\n",
       "    </tr>\n",
       "    <tr>\n",
       "      <th>4</th>\n",
       "      <td>6405</td>\n",
       "      <td>38.077584</td>\n",
       "    </tr>\n",
       "    <tr>\n",
       "      <th>...</th>\n",
       "      <td>...</td>\n",
       "      <td>...</td>\n",
       "    </tr>\n",
       "    <tr>\n",
       "      <th>5047</th>\n",
       "      <td>4716</td>\n",
       "      <td>6.122072</td>\n",
       "    </tr>\n",
       "    <tr>\n",
       "      <th>5048</th>\n",
       "      <td>680831</td>\n",
       "      <td>96.094879</td>\n",
       "    </tr>\n",
       "    <tr>\n",
       "      <th>5049</th>\n",
       "      <td>708156</td>\n",
       "      <td>2017.879479</td>\n",
       "    </tr>\n",
       "    <tr>\n",
       "      <th>5050</th>\n",
       "      <td>24991</td>\n",
       "      <td>27.420712</td>\n",
       "    </tr>\n",
       "    <tr>\n",
       "      <th>5051</th>\n",
       "      <td>869301</td>\n",
       "      <td>68.514029</td>\n",
       "    </tr>\n",
       "  </tbody>\n",
       "</table>\n",
       "<p>5052 rows × 2 columns</p>\n",
       "</div>"
      ],
      "text/plain": [
       "       asset       volume\n",
       "0     703638   274.248038\n",
       "1      25156   154.621564\n",
       "2      23316   859.237660\n",
       "3     705451    92.104888\n",
       "4       6405    38.077584\n",
       "...      ...          ...\n",
       "5047    4716     6.122072\n",
       "5048  680831    96.094879\n",
       "5049  708156  2017.879479\n",
       "5050   24991    27.420712\n",
       "5051  869301    68.514029\n",
       "\n",
       "[5052 rows x 2 columns]"
      ]
     },
     "execution_count": 12,
     "metadata": {},
     "output_type": "execute_result"
    }
   ],
   "source": [
    "task_graph.run()[0].compute()"
   ]
  },
  {
   "cell_type": "markdown",
   "metadata": {},
   "source": [
    "clean up the generated the csv file"
   ]
  },
  {
   "cell_type": "code",
   "execution_count": 13,
   "metadata": {},
   "outputs": [],
   "source": [
    "!rm dask_average_volume.csv"
   ]
  },
  {
   "cell_type": "code",
   "execution_count": 14,
   "metadata": {},
   "outputs": [
    {
     "data": {
      "text/plain": [
       "{'status': 'ok', 'restart': True}"
      ]
     },
     "execution_count": 14,
     "metadata": {},
     "output_type": "execute_result"
    }
   ],
   "source": [
    "import IPython\n",
    "app = IPython.Application.instance()\n",
    "app.kernel.do_shutdown(True)"
   ]
  },
  {
   "cell_type": "code",
   "execution_count": null,
   "metadata": {},
   "outputs": [],
   "source": []
  },
  {
   "cell_type": "code",
   "execution_count": null,
   "metadata": {},
   "outputs": [],
   "source": []
  }
 ],
 "metadata": {
  "kernelspec": {
   "display_name": "Python 3",
   "language": "python",
   "name": "python3"
  },
  "language_info": {
   "codemirror_mode": {
    "name": "ipython",
    "version": 3
   },
   "file_extension": ".py",
   "mimetype": "text/x-python",
   "name": "python",
   "nbconvert_exporter": "python",
   "pygments_lexer": "ipython3",
   "version": "3.8.8"
  }
 },
 "nbformat": 4,
 "nbformat_minor": 4
}
