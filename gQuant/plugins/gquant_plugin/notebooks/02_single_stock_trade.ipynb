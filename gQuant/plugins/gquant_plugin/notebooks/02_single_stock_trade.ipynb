{
 "cells": [
  {
   "cell_type": "markdown",
   "metadata": {},
   "source": [
    "### greenflow Tutorial\n",
    "First import all the necessary modules."
   ]
  },
  {
   "cell_type": "code",
   "execution_count": 1,
   "metadata": {},
   "outputs": [],
   "source": [
    "import sys; sys.path.insert(0, '..')\n",
    "import os\n",
    "import warnings\n",
    "import ipywidgets as widgets\n",
    "from greenflow.dataframe_flow import TaskGraph\n",
    "\n",
    "warnings.simplefilter(\"ignore\")"
   ]
  },
  {
   "cell_type": "code",
   "execution_count": 2,
   "metadata": {},
   "outputs": [
    {
     "name": "stdout",
     "output_type": "stream",
     "text": [
      "Dataset is already present. No need to re-download it.\n"
     ]
    }
   ],
   "source": [
    "! ((test ! -f './data/stock_price_hist.csv.gz' ||  test ! -f './data/security_master.csv.gz') && \\\n",
    "  cd .. && bash download_data.sh) || echo \"Dataset is already present. No need to re-download it.\""
   ]
  },
  {
   "cell_type": "markdown",
   "metadata": {},
   "source": [
    "In this tutorial, we are going to use greenflow to do a simple quant job. The task is fully described in a yaml file"
   ]
  },
  {
   "cell_type": "code",
   "execution_count": 3,
   "metadata": {},
   "outputs": [
    {
     "name": "stdout",
     "output_type": "stream",
     "text": [
      "- conf:\n",
      "    file: notebooks/data/stock_price_hist.csv.gz\n",
      "  id: stock_data\n",
      "  inputs: {}\n",
      "  module: greenflow_gquant_plugin.dataloader\n",
      "  type: CsvStockLoader\n",
      "- conf:\n",
      "    file: notebooks/data/security_master.csv.gz\n",
      "  id: stock_name\n",
      "  inputs: {}\n",
      "  module: greenflow_gquant_plugin.dataloader\n",
      "  type: StockNameLoader\n",
      "- conf:\n",
      "    asset: 4330\n",
      "  id: stock_selector\n",
      "  inputs:\n",
      "    name_map: stock_name.map_data\n",
      "    stock_in: stock_data.cudf_out\n",
      "  module: greenflow_gquant_plugin.transform\n",
      "  type: AssetFilterNode\n",
      "- conf: {}\n",
      "  id: ''\n",
      "  inputs:\n",
      "    in1: stock_selector.stock_name\n",
      "    in2: lineplot.lineplot\n",
      "    in3: barplot.barplot\n",
      "    in4: sharpe_ratio.sharpe_out\n",
      "    in5: cumulative_return.cum_return\n",
      "    in6: stock_data.cudf_out\n",
      "  module: rapids_modules\n",
      "  type: Output_Collector\n"
     ]
    }
   ],
   "source": [
    "!head -n 31 ../taskgraphs/simple_trade.gq.yaml"
   ]
  },
  {
   "cell_type": "markdown",
   "metadata": {},
   "source": [
    "The yaml file is describing the computation task by a graph, we can visualize it"
   ]
  },
  {
   "cell_type": "code",
   "execution_count": 4,
   "metadata": {},
   "outputs": [
    {
     "data": {
      "application/vnd.jupyter.widget-view+json": {
       "model_id": "520e0fcb2b8549bc993d8852f07b4c9c",
       "version_major": 2,
       "version_minor": 0
      },
      "text/plain": [
       "GreenflowWidget(sub=HBox(), value=[OrderedDict([('id', 'stock_data'), ('type', 'CsvStockLoader'), ('conf', {'f…"
      ]
     },
     "metadata": {},
     "output_type": "display_data"
    }
   ],
   "source": [
    "task_graph = TaskGraph.load_taskgraph('../taskgraphs/simple_trade.gq.yaml')\n",
    "task_graph.draw()"
   ]
  },
  {
   "cell_type": "code",
   "execution_count": 5,
   "metadata": {},
   "outputs": [
    {
     "data": {
      "application/vnd.jupyter.widget-view+json": {
       "model_id": "f69e45d5958d4732b75488e2291fc977",
       "version_major": 2,
       "version_minor": 0
      },
      "text/plain": [
       "Tab(children=(Output(), Output(), Output(), Output(), Output(), Output(), Output(layout=Layout(border='1px sol…"
      ]
     },
     "metadata": {},
     "output_type": "display_data"
    }
   ],
   "source": [
    "task_graph.run(formated=True)"
   ]
  },
  {
   "cell_type": "markdown",
   "metadata": {},
   "source": [
    "We define a method to organize the output images"
   ]
  },
  {
   "cell_type": "code",
   "execution_count": 6,
   "metadata": {},
   "outputs": [],
   "source": [
    "def fig2img(fig):\n",
    "    \"\"\"Convert a Matplotlib figure to BufferIO\"\"\"\n",
    "    import io\n",
    "    buf = io.BytesIO()\n",
    "    fig.savefig(buf)\n",
    "    buf.seek(0)\n",
    "    return buf\n",
    "\n",
    "def plot_figures(result):\n",
    "    # format the figures\n",
    "    figure_width = '1200px'\n",
    "    figure_height = '400px'\n",
    "    bar_figure = result['barplot.barplot']\n",
    "    sharpe_number = result['sharpe_ratio.sharpe_out']\n",
    "    cum_return = result['cumulative_return.cum_return']\n",
    "    cum_return.set_figwidth(10)\n",
    "    cum_return.suptitle('P & L %.3f' % (sharpe_number), fontsize=16)\n",
    "    i = fig2img(cum_return)\n",
    "    img_cum = widgets.Image(\n",
    "                            value=i.read(),\n",
    "                            format='png',\n",
    "                            width=600,\n",
    "                            height=900,\n",
    "    )\n",
    "    signals = result['lineplot.lineplot']\n",
    "    signals.set_figwidth(10)\n",
    "    i = fig2img(signals)\n",
    "    img_signals = widgets.Image(\n",
    "                            value=i.read(),\n",
    "                            format='png',\n",
    "                            width=600,\n",
    "                            height=900,\n",
    "    ) \n",
    "    symbol = result['stock_selector.stock_name']\n",
    "    output = widgets.VBox([bar_figure, img_cum, img_signals])\n",
    "    return output"
   ]
  },
  {
   "cell_type": "markdown",
   "metadata": {},
   "source": [
    "Rerun the graph and send the computation result to the `plot_figure` method"
   ]
  },
  {
   "cell_type": "code",
   "execution_count": 7,
   "metadata": {},
   "outputs": [
    {
     "data": {
      "application/vnd.jupyter.widget-view+json": {
       "model_id": "c1ef07ff0ac34f34a4f599846e829ced",
       "version_major": 2,
       "version_minor": 0
      },
      "text/plain": [
       "VBox(children=(Image(value=b'\\x89PNG\\r\\n\\x1a\\n\\x00\\x00\\x00\\rIHDR\\x00\\x00\\x03 \\x00\\x00\\x02?\\x08\\x06\\x00\\x00\\x00…"
      ]
     },
     "metadata": {},
     "output_type": "display_data"
    }
   ],
   "source": [
    "result = task_graph.run()\n",
    "plot_figures(result)"
   ]
  },
  {
   "cell_type": "markdown",
   "metadata": {},
   "source": [
    "You can change the TaskGraph node parameters interatively and hit the run button to get the updated result. It can also be done programtically, E.g. change the mean reversion parameters:"
   ]
  },
  {
   "cell_type": "code",
   "execution_count": 8,
   "metadata": {},
   "outputs": [
    {
     "data": {
      "application/vnd.jupyter.widget-view+json": {
       "model_id": "010d5b2fdf234c75a8f803536f120159",
       "version_major": 2,
       "version_minor": 0
      },
      "text/plain": [
       "VBox(children=(Image(value=b'\\x89PNG\\r\\n\\x1a\\n\\x00\\x00\\x00\\rIHDR\\x00\\x00\\x03 \\x00\\x00\\x02?\\x08\\x06\\x00\\x00\\x00…"
      ]
     },
     "metadata": {},
     "output_type": "display_data"
    }
   ],
   "source": [
    "o = task_graph.run(\n",
    "            outputs=(list(result.get_keys())[0:]),\n",
    "            replace={'stock_data': {\"load\": {'cudf_out': result['stock_data.cudf_out']}},\n",
    "                     'mean_reversion': {'conf': {'fast': 1, 'slow': 10}}})\n",
    "figure_combo = plot_figures(o)\n",
    "figure_combo"
   ]
  },
  {
   "cell_type": "markdown",
   "metadata": {},
   "source": [
    "Since computation is accelerated in the GPU, we can do hyper-parameter search interatively, try to change the parameters of the `slow` and `fast` for the moving average and see if you can improve the result:"
   ]
  },
  {
   "cell_type": "code",
   "execution_count": 9,
   "metadata": {},
   "outputs": [
    {
     "data": {
      "application/vnd.jupyter.widget-view+json": {
       "model_id": "237ea18513044bbe81e3f3d0a15246ab",
       "version_major": 2,
       "version_minor": 0
      },
      "text/plain": [
       "VBox(children=(HBox(children=(IntRangeSlider(value=(10, 30), continuous_update=False, description='MA:', max=6…"
      ]
     },
     "metadata": {},
     "output_type": "display_data"
    }
   ],
   "source": [
    "para_selector = widgets.IntRangeSlider(value=[10, 30],\n",
    "                                       min=3,\n",
    "                                       max=60,\n",
    "                                       step=1,\n",
    "                                       description=\"MA:\",\n",
    "                                       disabled=False,\n",
    "                                       continuous_update=False,\n",
    "                                       orientation='horizontal',\n",
    "                                       readout=True)\n",
    "\n",
    "\n",
    "def para_selection(*stocks):\n",
    "    with out:\n",
    "        print('run')\n",
    "        para1 = para_selector.value[0]\n",
    "        para2 = para_selector.value[1]\n",
    "        o = task_graph.run(\n",
    "            outputs=(list(result.get_keys())[0:]),\n",
    "            replace={'stock_data': {\"load\": {'cudf_out': result['stock_data.cudf_out']}},\n",
    "                     'mean_reversion': {'conf': {'fast': para1, 'slow': para2}}})\n",
    "        figure_combo = plot_figures(o)\n",
    "        w.children = (w.children[0], figure_combo,)\n",
    "\n",
    "\n",
    "out = widgets.Output(layout={'border': '1px solid black'})\n",
    "para_selector.observe(para_selection, 'value')\n",
    "selectors = widgets.HBox([para_selector])\n",
    "w = widgets.VBox([selectors])\n",
    "w"
   ]
  },
  {
   "cell_type": "code",
   "execution_count": 10,
   "metadata": {},
   "outputs": [
    {
     "data": {
      "application/vnd.jupyter.widget-view+json": {
       "model_id": "a805e51a95014917a9f96cab7d28246c",
       "version_major": 2,
       "version_minor": 0
      },
      "text/plain": [
       "Output(layout=Layout(border='1px solid black'))"
      ]
     },
     "metadata": {},
     "output_type": "display_data"
    }
   ],
   "source": [
    "out"
   ]
  },
  {
   "cell_type": "code",
   "execution_count": 10,
   "metadata": {},
   "outputs": [
    {
     "data": {
      "text/plain": [
       "{'status': 'ok', 'restart': True}"
      ]
     },
     "execution_count": 10,
     "metadata": {},
     "output_type": "execute_result"
    }
   ],
   "source": [
    "import IPython\n",
    "app = IPython.Application.instance()\n",
    "app.kernel.do_shutdown(True)"
   ]
  },
  {
   "cell_type": "code",
   "execution_count": null,
   "metadata": {},
   "outputs": [],
   "source": []
  }
 ],
 "metadata": {
  "kernelspec": {
   "display_name": "Python 3",
   "language": "python",
   "name": "python3"
  },
  "language_info": {
   "codemirror_mode": {
    "name": "ipython",
    "version": 3
   },
   "file_extension": ".py",
   "mimetype": "text/x-python",
   "name": "python",
   "nbconvert_exporter": "python",
   "pygments_lexer": "ipython3",
   "version": "3.8.8"
  }
 },
 "nbformat": 4,
 "nbformat_minor": 4
}
